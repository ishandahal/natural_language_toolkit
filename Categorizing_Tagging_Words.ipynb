{
  "nbformat": 4,
  "nbformat_minor": 0,
  "metadata": {
    "colab": {
      "name": "Categorizing_Tagging_Words.ipynb",
      "provenance": [],
      "collapsed_sections": [],
      "authorship_tag": "ABX9TyMyoxmdgV9LZKM8yB9JxJev",
      "include_colab_link": true
    },
    "kernelspec": {
      "name": "python3",
      "display_name": "Python 3"
    }
  },
  "cells": [
    {
      "cell_type": "markdown",
      "metadata": {
        "id": "view-in-github",
        "colab_type": "text"
      },
      "source": [
        "<a href=\"https://colab.research.google.com/github/ishandahal/natural_language_toolkit/blob/main/Categorizing_Tagging_Words.ipynb\" target=\"_parent\"><img src=\"https://colab.research.google.com/assets/colab-badge.svg\" alt=\"Open In Colab\"/></a>"
      ]
    },
    {
      "cell_type": "code",
      "metadata": {
        "id": "Ppj_03yVNpzl"
      },
      "source": [
        "import nltk, pprint, re\n",
        "from nltk import word_tokenize"
      ],
      "execution_count": 1,
      "outputs": []
    },
    {
      "cell_type": "code",
      "metadata": {
        "colab": {
          "base_uri": "https://localhost:8080/"
        },
        "id": "ElX3N_uP4kwF",
        "outputId": "f39e6ae4-4c3a-4b4e-822e-f3a0778abc4c"
      },
      "source": [
        "nltk.download([\"punkt\", 'words', 'gutenberg', 'sinica_treebank', 'indian', 'mac_morpho', 'cess_cat', \"averaged_perceptron_tagger\", 'conll2000', \"tagsets\", 'brown', 'treebank', 'nps_chat', 'universal_tagset'])"
      ],
      "execution_count": 2,
      "outputs": [
        {
          "output_type": "stream",
          "text": [
            "[nltk_data] Downloading package punkt to /root/nltk_data...\n",
            "[nltk_data]   Unzipping tokenizers/punkt.zip.\n",
            "[nltk_data] Downloading package words to /root/nltk_data...\n",
            "[nltk_data]   Unzipping corpora/words.zip.\n",
            "[nltk_data] Downloading package gutenberg to /root/nltk_data...\n",
            "[nltk_data]   Unzipping corpora/gutenberg.zip.\n",
            "[nltk_data] Downloading package sinica_treebank to /root/nltk_data...\n",
            "[nltk_data]   Unzipping corpora/sinica_treebank.zip.\n",
            "[nltk_data] Downloading package indian to /root/nltk_data...\n",
            "[nltk_data]   Unzipping corpora/indian.zip.\n",
            "[nltk_data] Downloading package mac_morpho to /root/nltk_data...\n",
            "[nltk_data]   Unzipping corpora/mac_morpho.zip.\n",
            "[nltk_data] Downloading package cess_cat to /root/nltk_data...\n",
            "[nltk_data]   Unzipping corpora/cess_cat.zip.\n",
            "[nltk_data] Downloading package averaged_perceptron_tagger to\n",
            "[nltk_data]     /root/nltk_data...\n",
            "[nltk_data]   Unzipping taggers/averaged_perceptron_tagger.zip.\n",
            "[nltk_data] Downloading package conll2000 to /root/nltk_data...\n",
            "[nltk_data]   Unzipping corpora/conll2000.zip.\n",
            "[nltk_data] Downloading package tagsets to /root/nltk_data...\n",
            "[nltk_data]   Unzipping help/tagsets.zip.\n",
            "[nltk_data] Downloading package brown to /root/nltk_data...\n",
            "[nltk_data]   Unzipping corpora/brown.zip.\n",
            "[nltk_data] Downloading package treebank to /root/nltk_data...\n",
            "[nltk_data]   Unzipping corpora/treebank.zip.\n",
            "[nltk_data] Downloading package nps_chat to /root/nltk_data...\n",
            "[nltk_data]   Unzipping corpora/nps_chat.zip.\n",
            "[nltk_data] Downloading package universal_tagset to /root/nltk_data...\n",
            "[nltk_data]   Unzipping taggers/universal_tagset.zip.\n"
          ],
          "name": "stdout"
        },
        {
          "output_type": "execute_result",
          "data": {
            "text/plain": [
              "True"
            ]
          },
          "metadata": {
            "tags": []
          },
          "execution_count": 2
        }
      ]
    },
    {
      "cell_type": "markdown",
      "metadata": {
        "id": "LbxMdNZ-4JsU"
      },
      "source": [
        "#### Using a Tagger"
      ]
    },
    {
      "cell_type": "code",
      "metadata": {
        "colab": {
          "base_uri": "https://localhost:8080/"
        },
        "id": "mJtwd3TO4RJ8",
        "outputId": "a7753ae0-8496-46c2-c475-0d336aebf2dc"
      },
      "source": [
        "text = word_tokenize(\"And now for something completely different\")\n",
        "nltk.pos_tag(text)"
      ],
      "execution_count": 3,
      "outputs": [
        {
          "output_type": "execute_result",
          "data": {
            "text/plain": [
              "[('And', 'CC'),\n",
              " ('now', 'RB'),\n",
              " ('for', 'IN'),\n",
              " ('something', 'NN'),\n",
              " ('completely', 'RB'),\n",
              " ('different', 'JJ')]"
            ]
          },
          "metadata": {
            "tags": []
          },
          "execution_count": 3
        }
      ]
    },
    {
      "cell_type": "code",
      "metadata": {
        "colab": {
          "base_uri": "https://localhost:8080/"
        },
        "id": "CulHksc04imM",
        "outputId": "950963b7-9c70-4086-fb63-a96cf8601a95"
      },
      "source": [
        "nltk.help.upenn_tagset('VBD')\n",
        "nltk.help.upenn_tagset(\"CC.*\")"
      ],
      "execution_count": 4,
      "outputs": [
        {
          "output_type": "stream",
          "text": [
            "VBD: verb, past tense\n",
            "    dipped pleaded swiped regummed soaked tidied convened halted registered\n",
            "    cushioned exacted snubbed strode aimed adopted belied figgered\n",
            "    speculated wore appreciated contemplated ...\n",
            "CC: conjunction, coordinating\n",
            "    & 'n and both but either et for less minus neither nor or plus so\n",
            "    therefore times v. versus vs. whether yet\n"
          ],
          "name": "stdout"
        }
      ]
    },
    {
      "cell_type": "code",
      "metadata": {
        "colab": {
          "base_uri": "https://localhost:8080/"
        },
        "id": "JYAZOGeZ5PeR",
        "outputId": "8bca9af9-4820-4223-fe2d-d1772bd2f448"
      },
      "source": [
        "text = word_tokenize(\"They refuse to permit us to obtain the refuse permit\")\n",
        "nltk.pos_tag(text)"
      ],
      "execution_count": 5,
      "outputs": [
        {
          "output_type": "execute_result",
          "data": {
            "text/plain": [
              "[('They', 'PRP'),\n",
              " ('refuse', 'VBP'),\n",
              " ('to', 'TO'),\n",
              " ('permit', 'VB'),\n",
              " ('us', 'PRP'),\n",
              " ('to', 'TO'),\n",
              " ('obtain', 'VB'),\n",
              " ('the', 'DT'),\n",
              " ('refuse', 'NN'),\n",
              " ('permit', 'NN')]"
            ]
          },
          "metadata": {
            "tags": []
          },
          "execution_count": 5
        }
      ]
    },
    {
      "cell_type": "code",
      "metadata": {
        "colab": {
          "base_uri": "https://localhost:8080/"
        },
        "id": "JnXaoYZ66B3h",
        "outputId": "22330b24-e215-4219-a656-aef15af9986d"
      },
      "source": [
        "text = word_tokenize(\"The run takes place in london before we go run\")\n",
        "nltk.pos_tag(text)"
      ],
      "execution_count": 6,
      "outputs": [
        {
          "output_type": "execute_result",
          "data": {
            "text/plain": [
              "[('The', 'DT'),\n",
              " ('run', 'NN'),\n",
              " ('takes', 'VBZ'),\n",
              " ('place', 'NN'),\n",
              " ('in', 'IN'),\n",
              " ('london', 'NN'),\n",
              " ('before', 'IN'),\n",
              " ('we', 'PRP'),\n",
              " ('go', 'VBP'),\n",
              " ('run', 'VB')]"
            ]
          },
          "metadata": {
            "tags": []
          },
          "execution_count": 6
        }
      ]
    },
    {
      "cell_type": "code",
      "metadata": {
        "id": "VXhfRwcJ69S9"
      },
      "source": [
        "text = nltk.Text(word.lower() for word in nltk.corpus.brown.words())"
      ],
      "execution_count": 7,
      "outputs": []
    },
    {
      "cell_type": "code",
      "metadata": {
        "colab": {
          "base_uri": "https://localhost:8080/"
        },
        "id": "YUvSLrSEGNp8",
        "outputId": "119ed97a-1fc3-4d38-c684-e276c8f0b524"
      },
      "source": [
        "text.similar('woman')"
      ],
      "execution_count": 8,
      "outputs": [
        {
          "output_type": "stream",
          "text": [
            "man time day year car moment world house family child country boy\n",
            "state job place way war girl work word\n"
          ],
          "name": "stdout"
        }
      ]
    },
    {
      "cell_type": "code",
      "metadata": {
        "colab": {
          "base_uri": "https://localhost:8080/"
        },
        "id": "UsUZv6GRGRAi",
        "outputId": "ad2f95b9-dc4a-444b-f275-529c52b092d5"
      },
      "source": [
        "text.similar('bought')"
      ],
      "execution_count": 9,
      "outputs": [
        {
          "output_type": "stream",
          "text": [
            "made said done put had seen found given left heard was been brought\n",
            "set got that took in told felt\n"
          ],
          "name": "stdout"
        }
      ]
    },
    {
      "cell_type": "code",
      "metadata": {
        "colab": {
          "base_uri": "https://localhost:8080/"
        },
        "id": "8XZcNnvyGmtk",
        "outputId": "1d115146-70ed-45e2-9e9a-5015fd41bfbd"
      },
      "source": [
        "text.similar('over')"
      ],
      "execution_count": 10,
      "outputs": [
        {
          "output_type": "stream",
          "text": [
            "in on to of and for with from at by that into as up out down through\n",
            "is all about\n"
          ],
          "name": "stdout"
        }
      ]
    },
    {
      "cell_type": "code",
      "metadata": {
        "colab": {
          "base_uri": "https://localhost:8080/"
        },
        "id": "vTaJDq4cGutO",
        "outputId": "62ee098f-7122-4ae8-e203-97c179e08cab"
      },
      "source": [
        "text.similar('the')"
      ],
      "execution_count": 11,
      "outputs": [
        {
          "output_type": "stream",
          "text": [
            "a his this their its her an that our any all one these my in your no\n",
            "some other and\n"
          ],
          "name": "stdout"
        }
      ]
    },
    {
      "cell_type": "markdown",
      "metadata": {
        "id": "6hnlUAoxGxVl"
      },
      "source": [
        "#### Tagged Corpora\n",
        "- Representing Tagged Tokens"
      ]
    },
    {
      "cell_type": "code",
      "metadata": {
        "colab": {
          "base_uri": "https://localhost:8080/"
        },
        "id": "THNm-l8DHpqf",
        "outputId": "1dab7670-4e1a-4626-d80d-44371f320a30"
      },
      "source": [
        "tagged_token = nltk.tag.str2tuple('fly/NN')\n",
        "print(tagged_token)\n",
        "print(tagged_token[0])\n",
        "print(tagged_token[1])"
      ],
      "execution_count": 12,
      "outputs": [
        {
          "output_type": "stream",
          "text": [
            "('fly', 'NN')\n",
            "fly\n",
            "NN\n"
          ],
          "name": "stdout"
        }
      ]
    },
    {
      "cell_type": "code",
      "metadata": {
        "colab": {
          "base_uri": "https://localhost:8080/"
        },
        "id": "8yXXgOnBH09x",
        "outputId": "0167e95e-73c5-4e6c-84ec-a151cb347dfe"
      },
      "source": [
        "sent = '''\n",
        "The/AT grand/JJ jury/NN commented/VBD on/IN a/AT number/NN of/IN\n",
        "other/AP topics/NNS ,/, AMONG/IN them/PPO the/AT Atlanta/NP and/CC\n",
        "Fulton/NP-tl County/NN-tl purchasing/VBG departments/NNS which/WDT it/PPS\n",
        "said/VBD ``/`` ARE/BER well/QL operated/VBN and/CC follow/VB generally/RB\n",
        "accepted/VBN practices/NNS which/WDT inure/VB to/IN the/AT best/JJT\n",
        "interest/NN of/IN both/ABX governments/NNS ''/'' ./.\n",
        "'''\n",
        "[nltk.tag.str2tuple(t) for t in sent.split()]"
      ],
      "execution_count": 13,
      "outputs": [
        {
          "output_type": "execute_result",
          "data": {
            "text/plain": [
              "[('The', 'AT'),\n",
              " ('grand', 'JJ'),\n",
              " ('jury', 'NN'),\n",
              " ('commented', 'VBD'),\n",
              " ('on', 'IN'),\n",
              " ('a', 'AT'),\n",
              " ('number', 'NN'),\n",
              " ('of', 'IN'),\n",
              " ('other', 'AP'),\n",
              " ('topics', 'NNS'),\n",
              " (',', ','),\n",
              " ('AMONG', 'IN'),\n",
              " ('them', 'PPO'),\n",
              " ('the', 'AT'),\n",
              " ('Atlanta', 'NP'),\n",
              " ('and', 'CC'),\n",
              " ('Fulton', 'NP-TL'),\n",
              " ('County', 'NN-TL'),\n",
              " ('purchasing', 'VBG'),\n",
              " ('departments', 'NNS'),\n",
              " ('which', 'WDT'),\n",
              " ('it', 'PPS'),\n",
              " ('said', 'VBD'),\n",
              " ('``', '``'),\n",
              " ('ARE', 'BER'),\n",
              " ('well', 'QL'),\n",
              " ('operated', 'VBN'),\n",
              " ('and', 'CC'),\n",
              " ('follow', 'VB'),\n",
              " ('generally', 'RB'),\n",
              " ('accepted', 'VBN'),\n",
              " ('practices', 'NNS'),\n",
              " ('which', 'WDT'),\n",
              " ('inure', 'VB'),\n",
              " ('to', 'IN'),\n",
              " ('the', 'AT'),\n",
              " ('best', 'JJT'),\n",
              " ('interest', 'NN'),\n",
              " ('of', 'IN'),\n",
              " ('both', 'ABX'),\n",
              " ('governments', 'NNS'),\n",
              " (\"''\", \"''\"),\n",
              " ('.', '.')]"
            ]
          },
          "metadata": {
            "tags": []
          },
          "execution_count": 13
        }
      ]
    },
    {
      "cell_type": "markdown",
      "metadata": {
        "id": "FXb1cDD5Ii2T"
      },
      "source": [
        "- Reading Tagged Corpora"
      ]
    },
    {
      "cell_type": "code",
      "metadata": {
        "colab": {
          "base_uri": "https://localhost:8080/"
        },
        "id": "IYSZZMyHKVf6",
        "outputId": "212ee478-5652-40d9-b413-e31b31c2e555"
      },
      "source": [
        "nltk.corpus.brown.tagged_words()"
      ],
      "execution_count": 14,
      "outputs": [
        {
          "output_type": "execute_result",
          "data": {
            "text/plain": [
              "[('The', 'AT'), ('Fulton', 'NP-TL'), ...]"
            ]
          },
          "metadata": {
            "tags": []
          },
          "execution_count": 14
        }
      ]
    },
    {
      "cell_type": "code",
      "metadata": {
        "colab": {
          "base_uri": "https://localhost:8080/"
        },
        "id": "Dnlho5DSKrHP",
        "outputId": "8a92d9a2-24c5-4d2b-885c-e8975b0524a3"
      },
      "source": [
        "nltk.corpus.brown.tagged_words(tagset='universal')"
      ],
      "execution_count": 15,
      "outputs": [
        {
          "output_type": "execute_result",
          "data": {
            "text/plain": [
              "[('The', 'DET'), ('Fulton', 'NOUN'), ...]"
            ]
          },
          "metadata": {
            "tags": []
          },
          "execution_count": 15
        }
      ]
    },
    {
      "cell_type": "code",
      "metadata": {
        "colab": {
          "base_uri": "https://localhost:8080/"
        },
        "id": "2Tzy5CXDK3q7",
        "outputId": "07f29d90-2b28-460a-ab6b-640dca253e6f"
      },
      "source": [
        "print(nltk.corpus.nps_chat.tagged_words())\n",
        "print(nltk.corpus.conll2000.tagged_words())\n",
        "print(nltk.corpus.treebank.tagged_words())"
      ],
      "execution_count": 16,
      "outputs": [
        {
          "output_type": "stream",
          "text": [
            "[('now', 'RB'), ('im', 'PRP'), ('left', 'VBD'), ...]\n",
            "[('Confidence', 'NN'), ('in', 'IN'), ('the', 'DT'), ...]\n",
            "[('Pierre', 'NNP'), ('Vinken', 'NNP'), (',', ','), ...]\n"
          ],
          "name": "stdout"
        }
      ]
    },
    {
      "cell_type": "code",
      "metadata": {
        "colab": {
          "base_uri": "https://localhost:8080/"
        },
        "id": "5TWFHVamL2Zm",
        "outputId": "c74717dd-5a4c-4133-b3b3-ff928b08eadf"
      },
      "source": [
        "nltk.corpus.brown.tagged_words(tagset='universal')"
      ],
      "execution_count": 17,
      "outputs": [
        {
          "output_type": "execute_result",
          "data": {
            "text/plain": [
              "[('The', 'DET'), ('Fulton', 'NOUN'), ...]"
            ]
          },
          "metadata": {
            "tags": []
          },
          "execution_count": 17
        }
      ]
    },
    {
      "cell_type": "code",
      "metadata": {
        "colab": {
          "base_uri": "https://localhost:8080/"
        },
        "id": "5OW8RYvBMqox",
        "outputId": "f941381f-22e3-4d68-a796-b758ad02cd42"
      },
      "source": [
        "nltk.corpus.treebank.tagged_words(tagset='universal')"
      ],
      "execution_count": 18,
      "outputs": [
        {
          "output_type": "execute_result",
          "data": {
            "text/plain": [
              "[('Pierre', 'NOUN'), ('Vinken', 'NOUN'), (',', '.'), ...]"
            ]
          },
          "metadata": {
            "tags": []
          },
          "execution_count": 18
        }
      ]
    },
    {
      "cell_type": "code",
      "metadata": {
        "colab": {
          "base_uri": "https://localhost:8080/"
        },
        "id": "jOxXjV0-MwJY",
        "outputId": "8d7354af-01f6-4333-d812-2249e8590e3f"
      },
      "source": [
        "nltk.corpus.sinica_treebank.tagged_words()"
      ],
      "execution_count": 19,
      "outputs": [
        {
          "output_type": "execute_result",
          "data": {
            "text/plain": [
              "[('一', 'Neu'), ('友情', 'Nad'), ('嘉珍', 'Nba'), ...]"
            ]
          },
          "metadata": {
            "tags": []
          },
          "execution_count": 19
        }
      ]
    },
    {
      "cell_type": "code",
      "metadata": {
        "colab": {
          "base_uri": "https://localhost:8080/"
        },
        "id": "3rRZLcWgM7RJ",
        "outputId": "b86b6ba9-5a62-445a-afd4-dc3fb4e2c5b3"
      },
      "source": [
        "nltk.corpus.indian.tagged_words()"
      ],
      "execution_count": 20,
      "outputs": [
        {
          "output_type": "execute_result",
          "data": {
            "text/plain": [
              "[('মহিষের', 'NN'), ('সন্তান', 'NN'), (':', 'SYM'), ...]"
            ]
          },
          "metadata": {
            "tags": []
          },
          "execution_count": 20
        }
      ]
    },
    {
      "cell_type": "code",
      "metadata": {
        "colab": {
          "base_uri": "https://localhost:8080/"
        },
        "id": "od40Q_O9NRnK",
        "outputId": "907a4ae2-f306-4d5b-c89d-79c1658cc5f4"
      },
      "source": [
        "nltk.corpus.mac_morpho.tagged_words()"
      ],
      "execution_count": 21,
      "outputs": [
        {
          "output_type": "execute_result",
          "data": {
            "text/plain": [
              "[('Jersei', 'N'), ('atinge', 'V'), ('média', 'N'), ...]"
            ]
          },
          "metadata": {
            "tags": []
          },
          "execution_count": 21
        }
      ]
    },
    {
      "cell_type": "code",
      "metadata": {
        "colab": {
          "base_uri": "https://localhost:8080/"
        },
        "id": "oGPSmDpHNWJa",
        "outputId": "3ab3c8d5-e27c-456d-f511-baca765a808e"
      },
      "source": [
        "nltk.corpus.conll2000.tagged_words()"
      ],
      "execution_count": 22,
      "outputs": [
        {
          "output_type": "execute_result",
          "data": {
            "text/plain": [
              "[('Confidence', 'NN'), ('in', 'IN'), ('the', 'DT'), ...]"
            ]
          },
          "metadata": {
            "tags": []
          },
          "execution_count": 22
        }
      ]
    },
    {
      "cell_type": "code",
      "metadata": {
        "colab": {
          "base_uri": "https://localhost:8080/"
        },
        "id": "CrvHihxSNd0C",
        "outputId": "109f735e-37d2-41b0-c501-a635dee098f6"
      },
      "source": [
        "nltk.corpus.cess_cat.tagged_words()"
      ],
      "execution_count": 23,
      "outputs": [
        {
          "output_type": "execute_result",
          "data": {
            "text/plain": [
              "[('El', 'da0ms0'), ('Tribunal_Suprem', 'np0000o'), ...]"
            ]
          },
          "metadata": {
            "tags": []
          },
          "execution_count": 23
        }
      ]
    },
    {
      "cell_type": "markdown",
      "metadata": {
        "id": "8riDoa5DNmFs"
      },
      "source": [
        "- Universal Part-of-Speech Tagset"
      ]
    },
    {
      "cell_type": "code",
      "metadata": {
        "colab": {
          "base_uri": "https://localhost:8080/"
        },
        "id": "Xix0gGjaNtzC",
        "outputId": "5ab53c5c-7833-4d99-eb09-2fa8b574a0f8"
      },
      "source": [
        "from nltk.corpus import brown\n",
        "brown_news_tagged = brown.tagged_words(categories='news', tagset='universal')\n",
        "tag_fd = nltk.FreqDist(tag for (word, tag) in brown_news_tagged)\n",
        "tag_fd.most_common()"
      ],
      "execution_count": 24,
      "outputs": [
        {
          "output_type": "execute_result",
          "data": {
            "text/plain": [
              "[('NOUN', 30654),\n",
              " ('VERB', 14399),\n",
              " ('ADP', 12355),\n",
              " ('.', 11928),\n",
              " ('DET', 11389),\n",
              " ('ADJ', 6706),\n",
              " ('ADV', 3349),\n",
              " ('CONJ', 2717),\n",
              " ('PRON', 2535),\n",
              " ('PRT', 2264),\n",
              " ('NUM', 2166),\n",
              " ('X', 92)]"
            ]
          },
          "metadata": {
            "tags": []
          },
          "execution_count": 24
        }
      ]
    },
    {
      "cell_type": "code",
      "metadata": {
        "colab": {
          "base_uri": "https://localhost:8080/",
          "height": 299
        },
        "id": "x9rjQFGhP0vr",
        "outputId": "4373b887-9fc9-4ac3-a7e7-d299590e877d"
      },
      "source": [
        "tag_fd.plot(cumulative=True)"
      ],
      "execution_count": 25,
      "outputs": [
        {
          "output_type": "display_data",
          "data": {
            "image/png": "[encoded data removed]",
            "text/plain": [
              "<Figure size 432x288 with 1 Axes>"
            ]
          },
          "metadata": {
            "tags": [],
            "needs_background": "light"
          }
        }
      ]
    },
    {
      "cell_type": "markdown",
      "metadata": {
        "id": "7HHfso4oP_pS"
      },
      "source": [
        "- Nouns"
      ]
    },
    {
      "cell_type": "code",
      "metadata": {
        "colab": {
          "base_uri": "https://localhost:8080/"
        },
        "id": "QoTeLPTqRRoI",
        "outputId": "a884a567-668d-4024-8ac0-b9a8881a72f2"
      },
      "source": [
        "word_tag_pairs = nltk.bigrams(brown_news_tagged)\n",
        "noun_preceders = [a[1] for (a, b) in word_tag_pairs if b[1] == 'NOUN']\n",
        "fdist = nltk.FreqDist(noun_preceders)\n",
        "[tag for (tag, _) in fdist.most_common()]"
      ],
      "execution_count": 26,
      "outputs": [
        {
          "output_type": "execute_result",
          "data": {
            "text/plain": [
              "['NOUN',\n",
              " 'DET',\n",
              " 'ADJ',\n",
              " 'ADP',\n",
              " '.',\n",
              " 'VERB',\n",
              " 'CONJ',\n",
              " 'NUM',\n",
              " 'ADV',\n",
              " 'PRT',\n",
              " 'PRON',\n",
              " 'X']"
            ]
          },
          "metadata": {
            "tags": []
          },
          "execution_count": 26
        }
      ]
    },
    {
      "cell_type": "markdown",
      "metadata": {
        "id": "UOmMERLXRxg4"
      },
      "source": [
        "- Verbs"
      ]
    },
    {
      "cell_type": "code",
      "metadata": {
        "colab": {
          "base_uri": "https://localhost:8080/"
        },
        "id": "7J6rXZdYTj8g",
        "outputId": "695c2aab-cc3d-4b27-a419-da3606446ddf"
      },
      "source": [
        "wsj = nltk.corpus.treebank.tagged_words(tagset='universal')\n",
        "word_tag_fd = nltk.FreqDist(wsj)\n",
        "print([wt[0] for (wt, _) in word_tag_fd.most_common() if wt[1] == 'VERB'])"
      ],
      "execution_count": 27,
      "outputs": [
        {
          "output_type": "stream",
          "text": [
            "['is', 'said', 'was', 'are', 'be', 'has', 'have', 'will', 'says', 'would', 'were', 'had', 'been', 'could', \"'s\", 'can', 'do', 'say', 'make', 'may', 'did', 'rose', 'made', 'does', 'expected', 'buy', 'take', 'get', 'might', 'sell', 'added', 'sold', 'help', 'including', 'should', 'reported', 'according', 'pay', 'compared', 'being', 'fell', 'began', 'based', 'used', 'closed', \"'re\", 'want', 'see', 'took', 'yield', 'offered', 'set', 'priced', 'approved', 'come', 'noted', 'cut', 'ended', 'found', 'increased', 'become', 'think', 'named', 'go', 'trying', 'proposed', 'received', 'growing', 'declined', 'held', 'give', 'came', 'use', 'put', 'making', 'continue', 'raise', 'estimated', 'called', 'paid', 'designed', 'going', 'expects', 'seeking', 'must', 'plans', 'wo', 'increasing', 'saying', 'got', 'owns', 'trading', 'acquired', 'gained', 'fined', 'reached', 'holding', 'announced', 'filed', 'became', 'seek', 'included', 'using', 'led', 'decided', 'keep', 'disclosed', 'agreed', 'find', 'failed', 'run', 'taken', 'know', 'coming', \"'ve\", 'completed', 'built', 'raised', 'traded', 'lost', 'continued', 'paying', 'include', 'believe', 'receive', 'posted', 'wants', 'scheduled', 'went', 'indicated', 'provide', 'helped', 'needed', 'goes', 'told', 'result', 'need', 'caused', 'continues', 'dropped', 'showed', 'ordered', 'changed', 'face', 'continuing', 'launched', 'gives', 'reduce', \"'m\", 'lead', 'planned', 'wanted', 'following', 'remains', 'followed', 'remain', 'meet', 'believes', 'trade', 'includes', 'improve', 'buying', 'issued', 'rise', 'leading', 'ca', 'involved', 'known', 'like', 'makes', 'having', 'rejected', 'rising', 'increase', 'turned', 'operating', 'read', 'feel', 'win', 'given', 'prevent', 'offset', 'barred', 'earned', 'consented', 'support', 'gave', 'totaled', 'acquire', 'required', 'begin', 'require', 'offer', 'preferred', 'produced', 'bought', 'offering', 'asked', 'carry', 'build', 'takes', 'seem', 'introduced', 'taking', 'won', 'aimed', 'hurt', 'adds', 'cited', 'sought', 'bring', 'remaining', 'considered', 'suspended', 'prove', 'looking', 'doing', 'involving', 'opened', 'working', 'close', 'own', 'report', 'left', 'boosted', 'giving', 'fixed', 'listed', 'runs', 'purchasing', 'consider', 'prepared', 'hit', 'getting', 'alleged', 'look', 'allowed', 'approve', 'wrote', 'reduced', 'fall', 'advanced', 'appears', 'mixed', 'described', 'expect', 'manufacturing', 'spent', 'According', 'hopes', 'underlying', 'produce', 'work', 'placed', 'allow', 'sells', 'operate', 'extend', 'surged', 'jumped', 'boost', 'slowing', 'provided', 'seems', 'ending', 'selling', 'opposed', 'created', 'move', 'seen', 'comment', 'valued', 'losing', 'mature', 'provides', 'let', 'stopped', 'worked', 'thought', 'watch', 'introduce', 'related', 'improved', 'raising', 'seemed', 'force', 'beginning', 'leave', 'believed', 'stand', 'developed', 'decline', 'expire', 'managing', 'hold', 'invested', 'suggests', 'represent', 'settle', 'change', 'contributed', 'indicates', 'asking', 'elaborate', 'shows', 'refused', 'quoted', 'comes', 'ease', 'passed', 'Says', 'avoid', 'threatened', 'cause', 'end', 'violate', 'operates', 'kept', \"'ll\", 'soared', 'eliminated', 'becomes', 'create', 'print', 'shall', 'show', 'replaced', 'owned', 'argue', 'beat', 'elected', 'complete', 'issue', 'act', 'return', 'registered', 'suffer', 'worried', 'succeed', 'block', 'contain', 'occur', 'pursue', 'combined', 'requires', 'met', 'brought', 'started', 'covered', 'turn', 'running', 'eliminate', 'file', 'plunged', 'fallen', 'ran', 'fired', 'becoming', 'contained', 'managed', 'Take', 'suggested', 'accused', 'appeared', 'slow', 'helping', 'discovered', 'add', 'referred', 'oppose', 'stop', 'claim', 'sent', 'formed', 'resulting', 'turning', 'limited', 'shipped', 'forced', 'send', 'attract', 'admitting', 'denying', 'disgorge', 'attributed', 'causing', 'studied', 'resigned', 'cutting', 'voted', 'settled', 'expand', 'stood', 'retired', 'moved', 'pending', 'providing', 'anticipated', 'decide', 'creating', 'prompted', 'developing', 'start', 'maintained', 'expanding', 'follows', 'ranged', 'focused', 'climbed', 'reflect', 'insist', 'owed', 'happen', 'adjusted', 'awarded', 'reporting', 'talk', 'offers', 'written', 'urged', 'carried', 'identified', 'confirmed', 'playing', 'thinking', 'calls', 'means', 'tried', 'lying', 'asks', 'building', 'suggest', 'falling', 'discuss', 'matched', 'concluded', 'keeping', \"'d\", 'returned', 'withdrawn', 'bid', 'saw', 'signed', 'financing', 'assuming', 'adopted', 'attempting', 'accepted', 'cover', 'facing', 'risk', 'expanded', 'leaving', 'raises', 'declared', 'exercise', 'finished', 'regarding', 'finance', 'charge', 'starting', 'realize', 'felt', 'remained', 'expressed', 'done', 'replace', 'veto', 'stay', 'delivered', 'join', 'publishing', 'enters', 'appear', 'talking', 'heard', 'dumped', 'imported', 'assume', 'declining', 'capture', 'grew', 'holds', 'lift', 'treat', 'receiving', 'joined', 'reflecting', 'released', 'maintaining', 'cost', 'lowered', 'costs', 'exceed', 'gaining', 'considering', 'determined', 'ruled', 'hope', 'located', 'tied', 'heads', 'applied', 'failing', 'showing', 'apply', 'protecting', 'tells', 'complained', 'ask', 'triggered', 'entered', 'total', 'producing', 'denied', 'reducing', 'reflects', 'account', 'predicting', 'intended', 'purchased', 'blamed', 'worry', 'broken', 'carries', 'learned', 'renewed', 'walk', 'viewed', 'die', 'speculated', 'needs', 'gets', 'wait', 'caught', 'claims', 'choose', 'fail', 'insists', 'knows', 'pass', 'grown', 'gotten', 'grows', 'responded', 'play', 'try', 'mean', 'encourage', 'chosen', 'admits', 'Do', 'dismissed', 'realized', 'serve', 'associated', 'slipped', 'argued', 'citing', 'seeks', 'preventing', 'sparked', 'review', 'opening', 'fueled', 'negotiate', 'drop', 'pleased', 'spend', 'care', 'represents', 'spread', 'explains', 'push', 'divided', 'proposing', 'gain', 'representing', 'financed', 'execute', 'existing', 'discussed', 'uses', 'live', 'ring', 'signal', 'focus', 'hired', 'limit', 'begins', 'reflected', 'hear', 'determine', 'profit', 'marketed', 'warned', 'qualified', 'died', 'surviving', 'study', 'explained', 'imposed', 'recognize', 'eased', 'indicate', 'permit', 'retain', 'yielding', 'boosts', 'obtain', 'employs', 'banned', 'pointed', 'leaves', 'withdraw', 'refund', 'collected', 'upheld', 'benefited', 'doubled', 'attached', 'jump', 'compete', 'incurred', 'removed', 'honor', 'varying', 'marketing', 'protect', 'reach', 'share', 'requested', 'grant', 'stepping', 'direct', 'curb', 'controlling', 'snapped', 'tend', 'cast', 'clear', 'permitted', 'remove', 'revive', 'draw', 'predicted', 'suspect', 'coupled', 'belong', 'call', 'describes', 'played', 'committed', 'advertising', 'tested', 'revived', 'earns', 'feeling', 'turns', 'executed', 'killed', 'presented', 'deserve', 'mention', 'seeing', 'discussing', 'convicted', 'telling', 'agree', 'denies', 'pursued', 'spurred', 'accommodate', 'surrendered', 'gone', 'teach', 'booming', 'serving', 'restore', 'restructured', 'taught', 'feared', 'meant', 'adding', 'publishes', 'improving', 'ignoring', 'represented', 'funded', 'involve', 'charged', 'fared', 'eliminates', 'tumbled', 'redeemed', 'resolve', 'stem', 'hire', 'obtained', 'develop', 'employed', 'prohibits', 'promote', 'impose', 'consist', 'investigating', 'accepting', 'plan', 'insisted', 'contacted', 'note', 'driving', 'contends', 'cites', 'point', 'sign', 'printed', 'advertise', 'breaks', 'damaged', 'check', 'thinks', 'looming', 'expecting', 'exercised', 'auctioned', 'disappointed', 'subordinated', 'respond', 'secured', 'integrated', 'performed', 'targeting', 'stepped', 'moving', 'split', 'Buy', 'stemming', 'executing', 'shut', 'writing', 'regulated', 'stands', 'attend', 'reopen', 'drawn', 'Put', 'notes', 'weaken', 'trailed', 'deliver', 'occurred', 'changing', 'accept', 'expelled', 'amounted', 'scrutinizing', 'suspend', 'compares', 'backed', 'vote', 'covers', 'knew', 'joining', 'record', 'regarded', 'copy', 'conclude', 'ought', 'dominated', 'pushed', 'closing', 'rumored', 'respected', 'specified', 'understand', 'supported', 'perform', 'declaring', 'struggling', 'abandoned', 'considers', 'warning', 'offsetting', 'break', 'follow', 'figure', 'increases', 'proving', 'edged', 'Buying', 'forecast', 'specify', 'extended', 'tendered', 'unveiled', 'treating', 'exposed', 'industrialized', 'regulate', 'contracted', 'blip', 'vary', 'slid', 'succeeds', 'lifted', 'acts', 'welcomed', 'squeezed', 'fed', 'casting', 'prolonged', 'recorded', 'announce', 'reward', 'bowed', 'justify', 'asserted', 'appealing', 'faces', 'rule', 'inched', 'manufacture', 'fund', 'anticipates', 'link', 'describe', 'roll', 'calculate', 'transferring', 'favored', 'claiming', 'hurting', 'investing', 'trained', 'instituted', 'introducing', 'vowed', 'deemed', 'pose', 'concerned', 'accelerated', 'feels', 'solved', 'forgiven', 'stored', 'assembled', 'totaling', 'linked', 'forces', 'attempts', 'advertised', 'marks', 'sweeping', 'invest', 'kicked', 'brings', 'scrambled', 'diversify', 'swing', 'skyrocketed', 'targeted', 'repaid', 'open', 'crippled', 'lent', 'belongs', 'stressed', 'leveling', 'manufactured', 'pick', 'cite', 'provoke', 'last', 'climbing', 'Excluding', 'adjusting', 'counts', 'handle', 'polled', 'drink', 'sets', 'sidestep', 'fare', 'letting', 'entering', 'ban', 'visiting', 'endorsed', 'balked', 'compensate', 'terminated', 'modify', 'operated', 'entitles', 'romanticized', 'spends', 'condemned', 'competing', 'returning', 'murdered', 'load', 'lives', 'recommend', 'fighting', 'fills', 'charges', 'exist', 'Stung', 'banning', 'admitted', 'talks', 'launch', 'attracted', 'featured', 'devote', 'featuring', 'suing', 'shrinks', 'tripled', 'pumping', 'contributing', 'spur', 'concentrated', 'export', 'pull', 'approach', 'step', 'regard', 'breach', 'pleaded', 'inspired', 'defended', 'treated', 'casts', 'violated', 'enforce', 'surfaced', 'concentrate', 'stressing', 'suffered', 'loved', 'advised', 'studying', 'pushing', 'earn', 'save', 'interviewed', 'explain', 'gauge', 'measured', 'deny', 'hampered', 'fill', 'nominated', 'assured', 'finding', 'conducting', 'tracks', 'merge', 'merged', 'banking', 'achieve', 'acquiring', 'post', 'wish', 'retained', 'spark', 'chaired', 'deal', 'submit', 'sending', 'test', 'relegated', 'alleging', 'mounted', 'harass', 'crossing', 'involves', 'assist', 'killing', 'served', 'understood', 'touch', 'Asked', 'design', 'retaining', 'belonging', 'compiled', 'Guaranteed', 'positioned', 'plunging', 'locked', 'starts', 'waiting', 'rolled', 'lock', 'drifted', 'measures', 'Estimated', 'keeps', 'laughing', 'persuade', 'renew', 'survive', 'Founded', 'identify', 'chastised', 'pointing', 'question', 'sleep', 'handled', 'specializes', 'pressed', 'ward', 'sweetened', 'allocated', 'criticized', 'place', 'mired', 'responding', 'requiring', 'address', 'praised', 'noting', 'withstand', 'phasing', 'installed', 'joins', 'prevailing', 'succeeding', 'weighed', 'perceived', 'remarked', 'appeal', 'lowering', 'moderated', 'posting', 'agrees', 'stated', 'reject', 'fails', 'redeem', 'estimates', 'frozen', 'advancing', 'rushed', 'supplies', 'surprised', 'collapsed', 'answer', 'licensed', 'disagree', 'focusing', 'publicized', 'pressure', 'clarify', 'view', 'putting', 'reports', 'feed', 'declines', 'Adds', 'drive', 'omitted', 'assumed', 'lure', 'qualify', 'throws', 'targets', 'promoting', 'target', 'switched', 'enabling', 'scrambling', 'define', 'demanding', 'ailing', 'delay', 'Think', 'arguing', 'hitting', 'regulating', 'sounded', 'train', 'worries', 'rung', 'invented', 'weigh', 'sound', 'speaks', 'absorbed', 'swap', 'ringing', 'publish', 'founded', 'signing', 'observed', 'desired', 'kill', 'risen', 'sustained', 'sued', 'commit', 'easing', 'traveling', 'welcome', 'loaded', 'states', 'passing', 'spending', 'puts', 'transacting', 'engaged', 'plays', 'resist', 'marching', 'cope', 'drove', 'pegged', 'compromise', 'enacted', 'faced', 'negotiated', 'implies', 'fold', 'winning', 'Assuming', 'Taking', 'flows', 'relies', 'stimulating', 'confined', 'planning', 'abandon', 'funding', 'lose', 'install', 'upset', 'hang', 'promises', 'sees', 'house', 'preserving', 'covering', 'resulted', 'proved', 'examined', 'lack', 'lacks', 'connected', 'subscribe', 'underwent', 'conduct', 'predict', 'organized', 'diminished', 'purchase', 'tune', 'enables', 'intend', 'answered', 'reshaping', 'oriented', 'controlled', 'restructuring', 'eliminating', 'naming', 'lending', 'Posted', 'succeeded', 'signals', 'withhold', 'contradict', 'placing', 'rewrite', 'nominate', 'choosing', 'prevents', 'implement', 'discharge', 'establish', 'entrusted', 'works', 'extending', 'benefit', 'range', 'exceeding', 'attempted', 'recovered', 'encouraging', 'begun', 'maximize', 'chooses', 'fly', 'engage', 'obligated', 'recover', 'labeled', 'refuse', 'denounce', 'occurs', 'seize', 'halted', 'transformed', 'complains', 'trades', 'beaten', 'performing', 'match', 'contribute', 'surrounding', 'tolerate', 'affect', 'bearing', 'creates', 'limiting', 'denouncing', 'cooled', 'overcome', 'cautioned', 'rated', 'indicating', 'sink', 'claimed', 'benefits', 'discontinued', 'maintain', 'meaning', 'competes', 'selected', 'participate', 'bolstered', 'unveil', 'devise', 'falls', 'doubted', 'attempt', 'ship', 'curtail', 'confirm', 'diluted', 'write', 'subdued', 'exchange', 'liquidated', 'capitalized', 'shrank', 'reaching', 'narrowed', 'specialized', 'bribed', 'shipping', 'strike', 'diagnosed', 'classified', 'outlawed', 'poured', 'hung', 'ventilated', 'slide', 'tracked', 'lengthened', 'pour', 'invests', 'waiving', 'ensnarled', 'default', 'oversee', 'jet', 'raced', 'hauled', 'drooled', 'boarding', 'renovated', 'Knowing', 'eat', 'tempts', 'accumulated', 'underscore', 'guaranteed', 'awards', 'shore', 'matters', 'values', 'evaluated', 'emerges', 'attracts', 'speed', 'cluttered', 'refile', 'expedited', 'entertain', 'slash', 'tracking', 'disputed', 'audit', 'collecting', 'refunded', 'setting', 'arising', 'diversifying', 'depend', 'scrapped', 'needing', 'complicate', 'existed', 'Regarded', 'watching', 'harms', 'offending', 'discouraging', 'deterring', 'lauded', 'aid', 'initialing', 'amending', 'compel', 'enact', 'specializing', 'craft', 'merit', 'halve', 'aspires', 'CHANGED', 'store', 'adapted', 'reaches', 'Following', 'divest', 'achieved', 'wallowing', 'resume', 'assisted', 'redeploy', 'channel', 'addressing', 'incorporated', 'Pick', 'capped', 'quips', 'mirrors', 'issuing', 'stake', 'stretching', 'urge', 'emerging', 'outpaced', 'burned', 'whipsaw', 'clobbered', 'alarmed', 'fattened', 'jumping', 'seized', 'amended', 'satisfying', 'booked', 'taper', 'slip', 'watched', 'conforms', 'eases', 'accounts', 'contrast', 'signaling', 'delivering', 'abating', 'lengthen', 'gauges', 'import', 'acknowledging', 'numbered', 'Judging', 'whistle', 'recognizing', 'refreshing', 'perpetuate', 'rooted', 'mark', 'meets', 'wears', 'published', 'dominating', 'expands', 'depending', 'abide', 'wear', 'rationed', 'hosted', 'invades', 'assigned', 'frustrating', 'invent', 'bans', 'restricts', 'designated', 'surveyed', 'espouse', 'undertaking', 'back', 'name', 'establishing', 'strapped', 'twinned', 'authorized', 'painted', 'exchanging', 'accrued', 'swapped', 'laid', 'obsessed', 'refitting', 'shot', 'Filmed', 'noticing', 'jostle', 'hangs', 'populated', 'curled', 'sketching', 'returns', 'cure', 'alerts', 'tuck', 'dreamed', 'resonate', 'glamorize', 'ends', 'collaborated', 'enabled', 'chopped', 'eating', 'drinking', 'celebrate', 'accounting', 'scattered', 'ushering', 'attack', 'hid', 'prosecute', 'unleashed', 'Compare', 'argues', 'superimposed', 'nurtured', 'dissolves', 'transforming', 'shake', 'recalling', \"C'mon\", 'interjects', 'interrogated', 'lasted', 'carrying', 'aired', 'Remember', 'Consider', 'rusted', 'swim', 'purrs', 'cry', 'cleaned', 'devastating', 'propelling', 'sparking', 'posing', 'knitted', 'forcing', 'encourages', 'resists', 'swelling', 'offend', 'parallel', 'assemble', 'reasserts', 'designing', 'outstrips', 'outranks', 'voice', 'convey', 'monopolize', 'sew', 'spotted', 'Confronted', 'answers', 'display', 'underline', 'prosecuted', 'enhanced', 'cheat', 'bolster', 'depended', 'inflated', 'suspects', 'revising', 'telegraph', 'posts', 'rates', 'prosecuting', 'Standing', 'educated', 'faded', 'bled', 'stabbed', 'resolved', 'clean', 'ushered', 'Being', 'dreamt', 'struggled', 'distinguished', 'pair', 'prepare', 'polish', 'correcting', 'deteriorating', 'Winning', 'demand', 'attending', 'copied', 'broke', 'cared', 'defeats', 'concedes', 'recalls', 'crowded', 'testify', 'decried', 'overused', 'enraged', 'expunged', 'cranked', 'evaluating', 'touched', 'justifying', 'defeat', 'aces', 'replicated', 'devised', 'awarding', 'rate', 'replicate', 'contains', 'replicating', 'discontinue', 'implant', 'recommended', 'embroiled', 'recruit', 'opposes', 'imposing', 'defuse', 'head', 'judged', 'disturbs', 'moves', 'polarized', 'exists', 'warns', 'discourage', 'regenerate', 'Rekindled', 'averaged', 'anticipating', 'permitting', 'uptick', 'expires', 'favor', 'leapt', 'protected', 'receives', 'acted', 'red-flag', 'Filling', 'tip', 'condemning', 'prohibited', 'disclosing', 'orders', 'committing', 'initiated', 'dating', 'mailed', 'relating', 'quitting', 'quipped', 'blinks', 'punish', 'reviewing', 'consists', 'punishing', 'retaliating', 'UPHELD', 'bar', 'obtaining', 'advocate', 'CLEARS', 'sentencing', 'referring', 'cruising', 'picking', 'appointed', 'commenting', 'Observing', 'exhibited', 'discredit', 'empowered', 'manipulate', 'SWITCHING', 'specialize', 'apologizing', 'indulging', 'rebuked', 'fretted', 'summoned', 'apologize', 'sacrificing', 'complain', 'undercut', 'slashing', 'map', 'emerge', 'lagging', 'switch', 'phase', 'equals', 'counting', 'fabricate', 'Related', 'converting', 'speculate', 'buoyed', 'underpin', 'reasons', 'convinced', 'erode', 'traced', 'mollified', 'redeeming', 'recede', 'air', 'fuming', 'tell', 'flooded', 'fawning', 'thumbing', 'billed', 'combines', 'happens', 'flush', 'deem', 'alienated', 'practicing', 'fumes', 'portrayed', 'relied', 'recycled', 'scared', 'replies', 'supply', 'serviced', 'Developed', 'pitches', 'top', 'characterizing', 'entrench', 'confuse', 'materialize', 'converted', 'equip', 'equipped', 'urging', 'classed', 'weighing', 'depressed', 'installing', 'enclosed', 'transporting', 'retires', 'lay', 'retiring', 'single', 'rarefied', 'zoomed', 'boast', 'inching', 'crack', 'encroaching', 'steal', 'commanded', 'command', 'happening', 'exhausted', 'ripen', 'yielded', 'Is', 'Offering', 'wins', 'talked', 'excited', 'overpriced', 'walking', 'achieving', 'shown', 'resisting', 'tilt', 'mailing', 'warrants', 'expired', 'postponed', 'rescheduled', 'maturing', 'refunding', 'approves', 'clearing', 'decides', 'aim', 'book', 'Continuing', 'evaporated', 'contract', 'rebuffed', 'reviewed', 'clamped', 'lessening', 'agreeing', 'spurns', 'replacing', 'interested', 'challenging', 'license', 'combat', 'patented', 'color', 'perceives', 'stirred', 'impending', 'devoted', 'escalated', 'stoked', 'asserting', 'highlight', 'clarified', 'sorting', 'crossed', 'gauging', 'trust', 'improves', 'penetrate', 'guided', 'treats', 'milked', 'bankroll', 'parallels', 'catch', 'foundering', 'queuing', 'generate', 'double', 'ai', 'pine', 'checking', 'competed', 'bundling', 'segmenting', 'saving', 'borrowing', 'borrowed', 'aiming', 'tailoring', 'packaging', 'begot', 'computerize', 'analyze', 'worrying', 'cultivated', 'attracting', 'rewarding', 'flourish', 'tailored', 'amend', 'delete', 'resubmit', 'develops', 'markets', 'Send', 'Make', 'teetering', 'Performing', 'experience', 'troubled', 'builds', 'sagging', 'institute', 'reinstating', 'skidded', 'lessen', 'reopened', 'knocked', 'synchronized', 'aggravated', 'directing', 'lapses', 'heating', 'angered', 'annoyed', 'attended', 'evoke', 'cascading', 'calling', 'chat', 'enjoying', 'herald', 'sounding', 'scrape', 'drift', 'diminish', 'pealing', 'descending', 'altering', 'state', 'memorize', 'pulling', 'disappears', 'snaking', 'muffled', 'stare', 'time', 'advance', 'retard', 'finds', 'filled', 'stays', 'stuck', 'skip', 'sit', 'dwindling', 'pressing', 'sacked', 'rings', 'refuses', 'aims', 'speak', 'entitled', 'attacking', 'fainting', 'dressed', 'decorated', 'faint', 'bless', 'unsettled', 'breathe', 'warn', 'mating', 'sliding', 'pushes', 'tanked', 'escaped', 'behaving', 'factors', 'forecasting', 'declare', 'measure', 'Having', 'infringed', 'established', 'enter', 'discontinuing', 'servicing', 'lacked', 'spoke', 'afflicted', 'harped', 'seduce', 'reciting', 'reminded', 'ordering', 'speaking', 'reprove', 'mend', 'deteriorated', 'codified', 'brief', 'pulled', 'acknowledge', 'shoot', 'hoped', 'encounter', 'arrived', 'encircling', 'discarded', 'clicked', 'Lure', 'accusing', 'jeopardizing', 'barking', 'visited', 'Earns', 'disapprove', 'imply', 'perpetuates', 'defined', 'disciplined', 'Reached', 'rectified', 'differ', 'complaining', 'screwed', 'breaking', 'blocked', 'emigrate', 'loom', 'shrug', 'overlap', 'exploit', 'imagine', 'racing', 'forgotten', 'tightened', 'reaped', 'ascribe', 'serves', 'unwind', 'manages', 'bend', 'Adopting', 'touted', 'impart', 'fought', 'acceded', 'Can', 'entice', 'negotiating', 'opens', 'Given', 'overpaying', 'picked', 'researching', 'arrest', 'occupying', 'impressed', 'fundraising', 'enticed', 'befuddled', 'demonstrating', 'possessed', 'skipped', 'Moving', 'graduated', 'engineered', 'inherited', 'buffet', 'attributes', 'concentrating', 'diversified', 'contrasts', 'provoked', 'shaping', 'authorizing', 'reallocate', 'draws', 'stripped', 'reallocated', 'broadened', 'upsetting', 'instructed', 'drafted', 'insert', 'waived', 'bounce', 'Takes', 'AGREES', 'repaired', 'crashing', 'prefer', 'teaches', 'blocks', 'Competes', 'PORTING', 'resembles', 'tote', 'acknowledges', 'Touches', 'travel', 'learn', 'Fails', \"'S\", 'propose', 'altered', 'counteract', 'correct', 'cooperating', 'corrected', 'promised', 'removing', 'safeguarding', 'contest', 'contesting', 'implied', 'quoting', 'emphasized', 'predispose', 'composed', 'defying', 'possess', 'exhibits', 'living', 'quote', 'robbed', 'fend', 'dismiss', 'sleeping', 'bothered', 'chose', 'insinuating', 'participated', 'Choose', 'deprived', 'views', 'override', 'impede', 'impaired', 'overriding', 'dubbed', 'broadcasting', 'propagandize', 'sounds', 'propagandizes', 'viewing', 'inform', 'clipped', 'broadcasts', 'copying', 'photocopying', 'transcribe', 'reprint', 'happened', 'disseminate', 'preclude', 'disseminating', 'mentioned', 'appearing', 'requesting', 'examine', 'disagreed', 'proscribes', 'abridging', 'prescribe', 'assure', 'mind', 'sends', 'photocopy', 'wield', 'dividing', 'searching', 'reacted', 'wound', 'advocated', 'convince', 'applaud', 'exuded', 'sitting', 'OFFERED', 'Annualized', 'clashed', 'evolved', 'enjoyed', 'centers', 'recruited', 'intimidate', 'uttering', 'Provided', 'guarding', 'predicated', 'construed', 'emasculate', 'swallow', 'ensure', 'deliberating', 'containing', 'strip', 'places', 'appoint', 'empowers', 'granting', 'repeals', 'imposes', 'recommending', 'select', 'inquiring', 'subjecting', 'prohibiting', 'wasted', 'illustrates', 'usurp', 'administer', 'disapproved', 'amounts', 'invite', 'suit', 'undo', 'ratified', 'assert', 'restricting', 'trespass', 'characterized', 'excise', 'conflict', 'exerting', 'asserts', 'sue', 'loses', 'presumes', 'drawing', 'deducting', 'saved', 'reclaim', 'mortgaged', 'soaring', 'reclaimed', 'parched', 'profited', 'confirms', 'helps', 'curtailed', 'strengthened', 'log', 'cushioned', 'dominates', 'materialized', 'torn', 'staid', 'flirted', 'folded', 'looks', 'brightened', 'restored', 'limping', 'recruiting', 'crying', 'filling', 'headlined', 'Closes', 'Forget', 'handed', 'beleaguered', 'boosting', 'explaining', 'disclose', 'approached', 'project', 'broaden', 'screened', 'missed', 'preapproved', 'test-drive', 'recovering', 'retraced', 'accounted', 'betting', 'vested', 'engaging', 'exhaust', 'quashing', 'shaken', 'reeling', 'heated', 'control', 'reap', 'exacerbated', 'consisting', 'Defending', 'mobilizing', 'bludgeon', 'telephone', 'rallying', 'Kill', 'wedded', 'waited', 'sneaked', 'conceding', 'headed', 'curbed', 'pitting', 'battle', 'entrenched', 'facilitate', 'stacked', 'portray', 'beg', 'constitute', 'profess', 'despise', 'frightened', 'unload', 'manage', 'juggle', 'mirror', 'automated', 'threatens', 'striving', 'dislike', 'spooked', 'stacking', 'scaring', 'resent', 'orchestrated', 'hunker', 'gored', 'proven', 'minted', 'Sit', 'panic', 'enjoy', 'chase', 'protects', 'destroy', 'picks', 'practiced', 'leveraging', 'owning', 'arise', 'evolve', 'evoking', 'implemented', 'Reducing', 'responds', 'causes', 'initiating', 'transfers', 'functioning', 'decrease', 'sacrifice', 'Eliminate', 'Encouraging', 'labeling', 'please', 'concern', 'undergoing', 'scream', 'hailing', 'abounding', 'Could', 'wooing', 'bringing', 'Getting', 'abolishing', 'championing', 'cater', 'advise', 'amass', 'devouring', 'grapple', 'Legislating', 'Left', 'matter', 'inviting', 'transfer', 'executes', 'fear', 'augment', 'appropriated', 'notify', 'completing', 'stifle', 'sanctions', 'inhibit', 'noticed', 'ratcheting', 'initiatives', 'backing', 'gains', 'documented', 'fetching', 'DIALING', 'eyeing', 'migrate', 'predicts', 'TRIMMING', 'string', 'colored', 'prompts', 'Funded', 'Concerned', 'shrinking', 'stresses', 'spurned', 'spurring', 'doubts', 'echoed', 'heading', 'blames', 'overvalued', 'spook', 'curbing', 'Citing', 'outlawing', 'disappear', 'dealing', 'decries', 'adapting', 'factoring', 'comments', 'Arbitraging', 'defends', 'recouped', 'weather', 'hunted', 'controls', 'promise', 'bombarding', 'breathed', 'demonstrates', 'undercutting', 'changes', 'pins', 'Determining', 'enable', 'combine', 'Rated', 'insured', 'digs', 'afford', 'ranging', 'scoffs', 'looked', 'redistribute', 'fielded', 'concede', 'endorse', 'disagrees', 'justified', 'erect', 'erodes', 'shoring', 'structured', 'stretch', 'downgraded', 'acquires', 'generated', 'arranged', 'rebounding', 'overstated', 'circulated', 'experiencing', 'midsized', 'eclipse', 'stretched', 'debate', 'recall', 'Beginning', 'assessed', 'duck', 'twisting', 'reversed', 'chilled', 'hidden', 'favors', 'accompany', 'introduces', 'even', 'understands', 'trash', 'inserted', 'refer', 'harmed', 'wrecking', 'smothering', 'Declining', 'outnumbered', 'surge', 'directed', 'stimulated', 'affecting', 'tempted', 'overdone', 'hugging', 'shed', 'tender', 'waive', 'sweeten', 'shopping', 'notched', 'searched', 'calculated', 'equaling', 'Hold', 'tackle', 'paint', 'spackle', 'charging', 'disposed', 'Named', 'stayed', 'revised', 'worsen', 'conducted', 'ranked', 'blurred', 'varied', 'enhances', 'compare', 'topped', 'outdistanced', 'wanting', 'relaunched', 'repriced', 'Bucking', 'drew', 'exceeds', 'underperforming', 'guarantee', 'hailed', 'despised', 'junk', 'subsidize', 'sparing', 'sticking', 'avoiding', 'present', 'appease', 'burn', 'tinker', 'resign', 'co-founded', 'coordinate', 'disconnect', 'heightened', 'routes', 'scans', 'resumes', 'halt', 'slides', 'Used', 'zip', 'handles', 'nullified', 'swapping', 'multiplying', 'mimics', 'signifying', 'puzzled', 'position', 'challenge', 'rebound', 'notified', 'tapping', 'land', 'cleared', 'delisted', 'oust', 'explore', 'trail', 'emerged', 'muscling', 'singled', 'sagged', 'granted', 'am', 'confused', 'complicated', 'fuel', 'muted', 'Continued', 'buys', 'ignored', 'secede', 'free', 'rang', 'accrue', 'termed', 'stemmed', 'deter', 'magnified', 'nonrecurring', 'reimbursed', 'Advancing', 'arrive', 'firmed', 'faltered', 'awaits', 'sense', 'stick', 'mount', 'withdrew', 'convert', 'distributed', 'experienced', 'Depending', 'customized', 'simulates', 'softening', 'distributes', 'produces', 'outbid', 'derived', 'averted', 'slated', 'realestate', 'adopt', 'staying', 'reorganized', 'plagued', 'bounced', 'ENDED', 'reaffirmed', 'thwart', 'demobilize', 'brushed', 'renewing', 'fled', 'armed', 'neighboring', 'violating', 'sabotage', 'assassinated', 'avenge', 'implements', 'pledged', 'impeding', 'defeated', 'rigged', 'Am', 'subpoenaed', 'planted', 'exploded', 'Died', 'tendering', 'laying', 'centralized', 'climb', 'APPEARS', 'steps', 'resigning', 'depends', 'fizzled', 'fault', 'flies', 'restructure', 'mulling', 'mitigate', 'reserved', 'restructures', 'battered', 'floated', 'shopped', 'spun', 'capitalize', 'Note', 'induce', 'advocating', 'rating', 'engineering', 'shedding', 'injuring', 'investigate', 'defines', 'assess', 'estimate', 'questioned', 'trim', 'trimmed', 'detailed', 'reading', 'traveled', 'revolves', 'rolling', 'mandates', 'born', 'falsify', 'plugged', 'rebuilding', 'Starting', 'bribing', 'fashioned', 'befell', 'wrestling', 'arrested', 'Absorbed', 'doling', 'gloss', 'expressing', 'scoop', 'redistributing', 'influencing', 'brokering', 'line', 'form', 'finalized', 'lease', 'avert', 'injecting', 'dashed', 'repay', 'sputtered', 'harvested', 'loading', 'reaping', 'gyrate', 'scrounge', 'trimming', 'feeds', 'sank', 'alleviate', 'slowed', 'hamstrung', 'budding', 'rebuild', 'depleted', 'winding', 'speculating', 'gather', 'permits', 'projects', 'relieve', 'hauling', 'compressed', 'delayed', 'tightening', 'influenced', 'precedes', 'points', 'riding', 'earning', 'plummeted', 'exceeded', 'coated', 'soliciting', 'scuttle', 'authorizes', 'shared', 'supports']\n"
          ],
          "name": "stdout"
        }
      ]
    },
    {
      "cell_type": "code",
      "metadata": {
        "colab": {
          "base_uri": "https://localhost:8080/"
        },
        "id": "tHoErO0Is3JF",
        "outputId": "7dc05952-8975-4496-b640-ec548fd8349c"
      },
      "source": [
        "cfd1 = nltk.ConditionalFreqDist(wsj)\n",
        "cfd1['yield'].most_common()"
      ],
      "execution_count": 28,
      "outputs": [
        {
          "output_type": "execute_result",
          "data": {
            "text/plain": [
              "[('VERB', 28), ('NOUN', 20)]"
            ]
          },
          "metadata": {
            "tags": []
          },
          "execution_count": 28
        }
      ]
    },
    {
      "cell_type": "code",
      "metadata": {
        "colab": {
          "base_uri": "https://localhost:8080/"
        },
        "id": "156MLCvHtRTl",
        "outputId": "370c439a-90a9-4dfc-d5bf-f63bdda4a76d"
      },
      "source": [
        "cfd1['cut'].most_common()"
      ],
      "execution_count": 29,
      "outputs": [
        {
          "output_type": "execute_result",
          "data": {
            "text/plain": [
              "[('VERB', 25), ('NOUN', 3)]"
            ]
          },
          "metadata": {
            "tags": []
          },
          "execution_count": 29
        }
      ]
    },
    {
      "cell_type": "code",
      "metadata": {
        "colab": {
          "base_uri": "https://localhost:8080/"
        },
        "id": "8RVZBU_ytYqk",
        "outputId": "d0ca9a6c-c697-4a3c-a7ee-556e56d10e37"
      },
      "source": [
        "wsj = nltk.corpus.treebank.tagged_words()\n",
        "cfd2 = nltk.ConditionalFreqDist((tag, word) for (word, tag) in wsj)\n",
        "print(list(cfd2['VBN']))"
      ],
      "execution_count": 30,
      "outputs": [
        {
          "output_type": "stream",
          "text": [
            "['named', 'used', 'caused', 'exposed', 'reported', 'replaced', 'sold', 'died', 'expected', 'diagnosed', 'studied', 'industrialized', 'owned', 'found', 'classified', 'rejected', 'outlawed', 'imported', 'tracked', 'thought', 'considered', 'elected', 'based', 'lifted', 'ensnarled', 'voted', 'been', 'held', 'banned', 'renovated', 'prolonged', 'recorded', 'accumulated', 'offered', 'become', 'guaranteed', 'proposed', 'related', 'improved', 'worried', 'cluttered', 'expedited', 'retired', 'ordered', 'collected', 'required', 'received', 'moved', 'determined', 'made', 'changed', 'completed', 'disputed', 'refunded', 'estimated', 'compared', 'located', 'filed', 'scrapped', 'anticipated', 'priced', 'set', 'applied', 'existed', 'incurred', 'reached', 'Regarded', 'paid', 'trained', 'instituted', 'vowed', 'deemed', 'combined', 'removed', 'concerned', 'complained', 'accelerated', 'believed', 'called', 'solved', 'forgiven', 'launched', 'built', 'preferred', 'raised', 'scheduled', 'brought', 'increased', 'developed', 'led', 'approved', 'produced', 'denied', 'requested', 'covered', 'assembled', 'achieved', 'maintained', 'left', 'assisted', 'placed', 'put', 'linked', 'designed', 'boosted', 'issued', 'incorporated', 'advertised', 'announced', 'traded', 'registered', 'ranged', 'capped', 'kicked', 'focused', 'fixed', 'listed', 'turned', 'scrambled', 'outpaced', 'burned', 'clobbered', 'climbed', 'closed', 'skyrocketed', 'surged', 'targeted', 'tied', 'invested', 'jumped', 'alarmed', 'fattened', 'cast', 'repaid', 'permitted', 'crippled', 'lent', 'amended', 'settled', 'manufactured', 'fallen', 'adjusted', 'failed', 'watched', 'intended', 'helped', 'awarded', 'spent', 'provided', 'coupled', 'broken', 'rooted', 'written', 'played', 'welcomed', 'rationed', 'assigned', 'run', 'opened', 'designated', 'carried', 'surveyed', 'confirmed', 'tested', 'had', 'strapped', 'twinned', 'planned', 'operated', 'painted', 'accrued', 'swapped', 'laid', 'obsessed', 'revived', 'prepared', 'romanticized', 'Filmed', 'populated', 'condemned', 'given', 'murdered', 'managed', 'viewed', 'executed', 'presented', 'chopped', 'taken', 'worked', 'speculated', 'come', 'scattered', 'prompted', 'convicted', 'caught', 'Stung', 'opposed', 'refused', 'blamed', 'superimposed', 'nurtured', 'created', 'attracted', 'interrogated', 'accused', 'introduced', 'grown', 'gotten', 'rusted', 'involved', 'responded', 'cleaned', 'dumped', 'quoted', 'asked', 'pursued', 'knitted', 'tripled', 'known', 'spurred', 'seen', 'passed', 'Confronted', 'gone', 'fired', 'prosecuted', 'treated', 'enhanced', 'released', 'inflated', 'surfaced', 'posted', 'educated', 'faded', 'stabbed', 'chosen', 'learned', 'tried', 'discovered', 'dismissed', 'crowded', 'got', 'overused', 'expunged', 'interviewed', 'wanted', 'aimed', 'replicated', 'referred', 'matched', 'measured', 'continued', 'funded', 'threatened', 'embroiled', 'hampered', 'withdrawn', 'assured', 'charged', 'judged', 'polarized', 'Rekindled', 'agreed', 'indicated', 'returned', 'signed', 'acquired', 'associated', 'lost', 'redeemed', 'ended', 'protected', 'argued', 'heard', 'sent', 'alleged', 'retained', 'chaired', 'prohibited', 'initiated', 'mailed', 'obtained', 'relegated', 'employed', 'UPHELD', 'adopted', 'sparked', 'killed', 'appointed', 'exhibited', 'empowered', 'served', 'disclosed', 'accepted', 'fueled', 'decided', 'contacted', 'formed', 'compiled', 'Guaranteed', 'Related', 'positioned', 'buoyed', 'kept', 'locked', 'offset', 'convinced', 'mollified', 'valued', 'rolled', 'Estimated', 'flooded', 'pleased', 'Founded', 'alienated', 'chastised', 'printed', 'portrayed', 'relied', 'recycled', 'Asked', 'scared', 'handled', 'serviced', 'damaged', 'Developed', 'pressed', 'allocated', 'converted', 'mired', 'barred', 'said', 'equipped', 'classed', 'depressed', 'installed', 'met', 'enclosed', 'dropped', 'hit', 'reduced', 'limited', 'perceived', 'rarefied', 'zoomed', 'soared', 'commanded', 'exhausted', 'shipped', 'spread', 'talked', 'excited', 'overpriced', 'forced', 'moderated', 'stated', 'shown', 'described', 'divided', 'declared', 'exercised', 'postponed', 'rescheduled', 'auctioned', 'frozen', 'disappointed', 'eliminated', 'clamped', 'surprised', 'cited', 'subordinated', 'collapsed', 'allowed', 'followed', 'interested', 'purchased', 'escalated', 'stoked', 'publicized', 'identified', 'clarified', 'crossed', 'milked', 'financed', 'integrated', 'performed', 'assumed', 'competed', 'borrowed', 'squeezed', 'switched', 'cultivated', 'tailored', 'troubled', 'triggered', 'needed', 'synchronized', 'expressed', 'done', 'discussed', 'regulated', 'attached', 'rung', 'started', 'muffled', 'absorbed', 'mounted', 'filled', 'fed', 'mixed', 'drawn', 'entered', 'founded', 'remarked', 'observed', 'desired', 'dressed', 'decorated', 'unsettled', 'risen', 'Put', 'sustained', 'tanked', 'renewed', 'invented', 'infringed', 'hired', 'afflicted', 'deteriorated', 'codified', 'gained', 'discarded', 'pointed', 'loaded', 'defined', 'expelled', 'suspended', 'fined', 'represented', 'consented', 'owed', 'Reached', 'rectified', 'noted', 'engaged', 'blocked', 'forgotten', 'tightened', 'reaped', 'stopped', 'pegged', 'backed', 'enacted', 'sought', 'touted', 'faced', 'negotiated', 'Given', 'impressed', 'engineered', 'hurt', 'diversified', 'expanded', 'committed', 'provoked', 'confined', 'stripped', 'reallocated', 'instructed', 'drafted', 'repaired', 'upset', 'altered', 'corrected', 'promised', 'proved', 'understood', 'composed', 'connected', 'regarded', 'robbed', 'deprived', 'organized', 'impaired', 'diminished', 'added', 'advised', 'mentioned', 'answered', 'oriented', 'contributed', 'dominated', 'pushed', 'OFFERED', 'Posted', 'Annualized', 'clashed', 'enjoyed', 'included', 'recruited', 'rumored', 'respected', 'Provided', 'specified', 'predicated', 'endorsed', 'construed', 'supported', 'read', 'contained', 'nominated', 'wasted', 'favored', 'disapproved', 'ratified', 'characterized', 'won', 'entrusted', 'mortgaged', 'reclaimed', 'parched', 'cushioned', 'shut', 'attempted', 'torn', 'staid', 'flirted', 'abandoned', 'stepped', 'headlined', 'secured', 'beleaguered', 'begun', 'plunged', 'missed', 'preapproved', 'upheld', 'accounted', 'vested', 'shaken', 'heated', 'labeled', 'exacerbated', 'wedded', 'headed', 'curbed', 'entrenched', 'stacked', 'frightened', 'automated', 'earned', 'spooked', 'transformed', 'orchestrated', 'gored', 'proven', 'minted', 'beaten', 'practiced', 'implemented', 'feared', 'Left', 'cut', 'appropriated', 'noticed', 'finished', 'documented', 'colored', 'Funded', 'Concerned', 'marketed', 'echoed', 'halted', 'recouped', 'hunted', 'cooled', 'overcome', 'terminated', 'Rated', 'insured', 'rated', 'looked', 'justified', 'discontinued', 'lowered', 'warned', 'structured', 'generated', 'overstated', 'midsized', 'assessed', 'chilled', 'hidden', 'inserted', 'harmed', 'stressed', 'selected', 'directed', 'stimulated', 'bolstered', 'overdone', 'calculated', 'Named', 'revised', 'attributed', 'conducted', 'snapped', 'polled', 'topped', 'outdistanced', 'relaunched', 'restructured', 'repriced', 'concluded', 'hailed', 'despised', 'heightened', 'Used', 'nullified', 'puzzled', 'bought', 'notified', 'merged', 'delisted', 'meant', 'own', 'tendered', 'singled', 'granted', 'felt', 'confused', 'complicated', 'muted', 'Continued', 'split', 'diluted', 'magnified', 'reimbursed', 'subdued', 'controlled', 'liquidated', 'distributed', 'experienced', 'customized', 'extended', 'sweetened', 'derived', 'averted', 'slated', 'delivered', 'capitalized', 'examined', 'reorganized', 'plagued', 'imposed', 'armed', 'rigged', 'subpoenaed', 'planted', 'told', 'centralized', 'resulted', 'forecast', 'fizzled', 'edged', 'battered', 'floated', 'spun', 'licensed', 'qualified', 'specialized', 'trimmed', 'detailed', 'born', 'fashioned', 'bribed', 'arrested', 'Absorbed', 'finalized', 'dashed', 'omitted', 'harvested', 'slowed', 'depleted', 'obligated', 'compressed', 'delayed', 'influenced', 'reflected', 'advanced', 'coated', 'shared']\n"
          ],
          "name": "stdout"
        }
      ]
    },
    {
      "cell_type": "code",
      "metadata": {
        "colab": {
          "base_uri": "https://localhost:8080/"
        },
        "id": "P-44xW0otrNi",
        "outputId": "ba01db66-d56e-4e34-eb74-071f280f1f58"
      },
      "source": [
        "[w for w in cfd1.conditions() if 'VBD' in cfd1[w] and 'VBN' in cfd1[w]]"
      ],
      "execution_count": 31,
      "outputs": [
        {
          "output_type": "execute_result",
          "data": {
            "text/plain": [
              "[]"
            ]
          },
          "metadata": {
            "tags": []
          },
          "execution_count": 31
        }
      ]
    },
    {
      "cell_type": "code",
      "metadata": {
        "colab": {
          "base_uri": "https://localhost:8080/"
        },
        "id": "ZNKZjIU8uG7X",
        "outputId": "940f0a3d-511b-4653-c904-aad80e5f94a3"
      },
      "source": [
        "idx1 = wsj.index(('kicked', 'VBD'))\n",
        "wsj[idx1-4:idx1+1]"
      ],
      "execution_count": 32,
      "outputs": [
        {
          "output_type": "execute_result",
          "data": {
            "text/plain": [
              "[('While', 'IN'),\n",
              " ('program', 'NN'),\n",
              " ('trades', 'NNS'),\n",
              " ('swiftly', 'RB'),\n",
              " ('kicked', 'VBD')]"
            ]
          },
          "metadata": {
            "tags": []
          },
          "execution_count": 32
        }
      ]
    },
    {
      "cell_type": "code",
      "metadata": {
        "colab": {
          "base_uri": "https://localhost:8080/"
        },
        "id": "djUp5By4urTc",
        "outputId": "61caa8bd-fa08-4ff1-b1e3-65a460272ccc"
      },
      "source": [
        "idx2 = wsj.index(('kicked', 'VBN'))\n",
        "wsj[idx2-4:idx2+1]"
      ],
      "execution_count": 33,
      "outputs": [
        {
          "output_type": "execute_result",
          "data": {
            "text/plain": [
              "[('head', 'NN'),\n",
              " ('of', 'IN'),\n",
              " ('state', 'NN'),\n",
              " ('has', 'VBZ'),\n",
              " ('kicked', 'VBN')]"
            ]
          },
          "metadata": {
            "tags": []
          },
          "execution_count": 33
        }
      ]
    },
    {
      "cell_type": "markdown",
      "metadata": {
        "id": "9sJJ_0-8vCdM"
      },
      "source": [
        "- Unsimplified Tags"
      ]
    },
    {
      "cell_type": "code",
      "metadata": {
        "id": "L9uo6aHFxPm3"
      },
      "source": [
        "def findtags(tag_prefix, tagged_text):\n",
        "    cfd = nltk.ConditionalFreqDist((tag, word) for (word, tag) in tagged_text\n",
        "                                   if tag.startswith(tag_prefix))\n",
        "    return dict((tag, cfd[tag].most_common(5)) for tag in cfd.conditions())"
      ],
      "execution_count": 34,
      "outputs": []
    },
    {
      "cell_type": "code",
      "metadata": {
        "colab": {
          "base_uri": "https://localhost:8080/"
        },
        "id": "xDzBBfcwxpvo",
        "outputId": "bd24ca9b-5d6e-4897-931c-2fcc9e19b2bd"
      },
      "source": [
        "tagdict = findtags('NN', nltk.corpus.brown.tagged_words(categories='news'))\n",
        "for tag in sorted(tagdict):\n",
        "    print(tag, tagdict[tag])"
      ],
      "execution_count": 35,
      "outputs": [
        {
          "output_type": "stream",
          "text": [
            "NN [('year', 137), ('time', 97), ('state', 88), ('week', 85), ('man', 72)]\n",
            "NN$ [(\"year's\", 13), (\"world's\", 8), (\"state's\", 7), (\"nation's\", 6), (\"city's\", 6)]\n",
            "NN$-HL [(\"Golf's\", 1), (\"Navy's\", 1)]\n",
            "NN$-TL [(\"President's\", 11), (\"Administration's\", 3), (\"Army's\", 3), (\"League's\", 3), (\"University's\", 3)]\n",
            "NN-HL [('sp.', 2), ('problem', 2), ('Question', 2), ('cut', 2), ('party', 2)]\n",
            "NN-NC [('ova', 1), ('eva', 1), ('aya', 1)]\n",
            "NN-TL [('President', 88), ('House', 68), ('State', 59), ('University', 42), ('City', 41)]\n",
            "NN-TL-HL [('Fort', 2), ('Mayor', 1), ('Commissioner', 1), ('City', 1), ('Oak', 1)]\n",
            "NNS [('years', 101), ('members', 69), ('people', 52), ('sales', 51), ('men', 46)]\n",
            "NNS$ [(\"children's\", 7), (\"women's\", 5), (\"men's\", 3), (\"janitors'\", 3), (\"taxpayers'\", 2)]\n",
            "NNS$-HL [(\"Dealers'\", 1), (\"Idols'\", 1)]\n",
            "NNS$-TL [(\"Women's\", 4), (\"States'\", 3), (\"Giants'\", 2), (\"Princes'\", 1), (\"Bombers'\", 1)]\n",
            "NNS-HL [('Wards', 1), ('deputies', 1), ('bonds', 1), ('aspects', 1), ('Decisions', 1)]\n",
            "NNS-TL [('States', 38), ('Nations', 11), ('Masters', 10), ('Communists', 9), ('Rules', 9)]\n",
            "NNS-TL-HL [('Nations', 1)]\n"
          ],
          "name": "stdout"
        }
      ]
    },
    {
      "cell_type": "markdown",
      "metadata": {
        "id": "yW79Jg5wyDBU"
      },
      "source": [
        "- Exploring Tagged Corpora"
      ]
    },
    {
      "cell_type": "code",
      "metadata": {
        "colab": {
          "base_uri": "https://localhost:8080/"
        },
        "id": "pKWFhH5HI7uE",
        "outputId": "11879ddf-7ec0-4c4c-92ce-5fc9c75c1549"
      },
      "source": [
        "brown_learned_text = brown.words(categories='learned')\n",
        "print(sorted(set(b for (a, b) in nltk.bigrams(brown_learned_text) if a == 'often')))"
      ],
      "execution_count": 36,
      "outputs": [
        {
          "output_type": "stream",
          "text": [
            "[',', '.', 'accomplished', 'analytically', 'appear', 'apt', 'associated', 'assuming', 'became', 'become', 'been', 'began', 'call', 'called', 'carefully', 'chose', 'classified', 'colorful', 'composed', 'contain', 'differed', 'difficult', 'encountered', 'enough', 'equate', 'extremely', 'found', 'happens', 'have', 'ignored', 'in', 'involved', 'more', 'needed', 'nightly', 'observed', 'of', 'on', 'out', 'quite', 'represent', 'responsible', 'revamped', 'seclude', 'set', 'shortened', 'sing', 'sounded', 'stated', 'still', 'sung', 'supported', 'than', 'to', 'when', 'work']\n"
          ],
          "name": "stdout"
        }
      ]
    },
    {
      "cell_type": "code",
      "metadata": {
        "colab": {
          "base_uri": "https://localhost:8080/"
        },
        "id": "2MRs2SB8JV6W",
        "outputId": "a71eee5a-3fcf-4ba8-99b7-90536d447d03"
      },
      "source": [
        "brown_lrnd_tagged = brown.tagged_words(categories='learned', tagset='universal')\n",
        "tags = [b[1] for (a, b) in nltk.bigrams(brown_lrnd_tagged) if a[0] == 'often']\n",
        "fd = nltk.FreqDist(tags)\n",
        "fd.tabulate()"
      ],
      "execution_count": 37,
      "outputs": [
        {
          "output_type": "stream",
          "text": [
            "VERB  ADV  ADP  ADJ    .  PRT \n",
            "  37    8    7    6    4    2 \n"
          ],
          "name": "stdout"
        }
      ]
    },
    {
      "cell_type": "code",
      "metadata": {
        "colab": {
          "base_uri": "https://localhost:8080/"
        },
        "id": "Rw9qiDyXKCts",
        "outputId": "6dff944f-3fd6-417a-bf5e-25859f4a0465"
      },
      "source": [
        "from nltk.corpus import brown\n",
        "def process(sentence):\n",
        "    for (w1, t1), (w2, t2), (w3, t3) in nltk.trigrams(sentence):\n",
        "        if (t1.startswith('V') and t2 == 'TO' and t3.startswith('V')):\n",
        "            print(w1, w2, w3)\n",
        "\n",
        "for tagged_sent in brown.tagged_sents():\n",
        "    process(tagged_sent)"
      ],
      "execution_count": 38,
      "outputs": [
        {
          "output_type": "stream",
          "text": [
            "combined to achieve\n",
            "continue to place\n",
            "serve to protect\n",
            "wanted to wait\n",
            "allowed to place\n",
            "expected to become\n",
            "expected to approve\n",
            "expected to make\n",
            "intends to make\n",
            "seek to set\n",
            "like to see\n",
            "designed to provide\n",
            "get to hear\n",
            "expects to tell\n",
            "expected to give\n",
            "prefer to pay\n",
            "required to obtain\n",
            "permitted to teach\n",
            "designed to reduce\n",
            "Asked to elaborate\n",
            "got to go\n",
            "raised to pay\n",
            "scheduled to go\n",
            "cut to meet\n",
            "needed to meet\n",
            "hastened to add\n",
            "found to prevent\n",
            "continue to insist\n",
            "compelled to make\n",
            "made to remove\n",
            "revamped to give\n",
            "want to risk\n",
            "appear to spark\n",
            "fails to consider\n",
            "plans to call\n",
            "going to examine\n",
            "plans to name\n",
            "come to pass\n",
            "voted to accept\n",
            "happens to hold\n",
            "authorized to adopt\n",
            "hesitated to prosecute\n",
            "try to make\n",
            "decided to spend\n",
            "taken to preserve\n",
            "left to preserve\n",
            "stand to bring\n",
            "decided to seek\n",
            "trying to induce\n",
            "proposing to make\n",
            "decided to run\n",
            "directed to investigate\n",
            "expected to pass\n",
            "expected to make\n",
            "expected to encounter\n",
            "hopes to pass\n",
            "came to pay\n",
            "expected to receive\n",
            "understood to follow\n",
            "wanted to vote\n",
            "decide to call\n",
            "begin to flow\n",
            "appears to face\n",
            "fails to pass\n",
            "care to acknowledge\n",
            "like to convey\n",
            "continued to wage\n",
            "try to avoid\n",
            "done to arouse\n",
            "tried to economize\n",
            "agreed to cooperate\n",
            "want to find\n",
            "expected to raise\n",
            "agreed to form\n",
            "threatened to form\n",
            "failed to sign\n",
            "trying to build\n",
            "plan to absorb\n",
            "working to establish\n",
            "expects to evacuate\n",
            "need to hear\n",
            "scheduled to hold\n",
            "decided to ask\n",
            "scheduled to fill\n",
            "going to determine\n",
            "urged to move\n",
            "conpired to use\n",
            "used to carry\n",
            "needed to face\n",
            "failed to tally\n",
            "failed to produce\n",
            "tried to stretch\n",
            "hopes to melt\n",
            "slated to oppose\n",
            "scheduled to share\n",
            "plans to bring\n",
            "seek to trim\n",
            "seems to improve\n",
            "appeared to win\n",
            "gets to play\n",
            "hopes to start\n",
            "tried to teach\n",
            "seem to get\n",
            "started to form\n",
            "like to keep\n",
            "want to talk\n",
            "continue to abide\n",
            "refused to reconsider\n",
            "expected to put\n",
            "resigned to take\n",
            "sought to convince\n",
            "tried to blast\n",
            "tried to keep\n",
            "happened to think\n",
            "expected to continue\n",
            "plans to open\n",
            "recovering to make\n",
            "supposed to deliver\n",
            "get to like\n",
            "want to thank\n",
            "set to play\n",
            "going to pass\n",
            "paid to play\n",
            "wanted to pop\n",
            "expect to establish\n",
            "going to try\n",
            "try to get\n",
            "signed to play\n",
            "fly to collect\n",
            "helps to bridge\n",
            "wants to pick\n",
            "relearns to mingle\n",
            "watching to see\n",
            "learn to readjust\n",
            "promises to follow\n",
            "expect to offer\n",
            "like to come\n",
            "like to bring\n",
            "combined to form\n",
            "chosen to rule\n",
            "attempted to stop\n",
            "required to use\n",
            "prepared to grant\n",
            "refused to return\n",
            "demanded to know\n",
            "decided to end\n",
            "offered to supply\n",
            "designed to seek\n",
            "get to know\n",
            "get to know\n",
            "going to call\n",
            "attempted to end\n",
            "forbidden to drive\n",
            "failed to reach\n",
            "wish to appear\n",
            "hopes to rebuild\n",
            "used to provide\n",
            "wanted to make\n",
            "trying to land\n",
            "prepared to accept\n",
            "continue to operate\n",
            "taken to overcome\n",
            "intend to make\n",
            "desiring to study\n",
            "designed to assure\n",
            "intend to attend\n",
            "failed to cooperate\n",
            "agree to attend\n",
            "decided to attend\n",
            "scheduled to begin\n",
            "agreed to meet\n",
            "failed to show\n",
            "declined to name\n",
            "tried to subdue\n",
            "planning to expand\n",
            "thought to infest\n",
            "voted to decertify\n",
            "designed to give\n",
            "continued to run\n",
            "failed to place\n",
            "started to turn\n",
            "bought to provide\n",
            "asked to set\n",
            "vote to appeal\n",
            "failed to reach\n",
            "failed to destroy\n",
            "encouraged to try\n",
            "try to get\n",
            "managed to maneuver\n",
            "obligated to make\n",
            "promised to get\n",
            "attempting to connect\n",
            "prepared to answer\n",
            "failed to report\n",
            "attempted to cash\n",
            "wanting to get\n",
            "combined to make\n",
            "continue to grab\n",
            "designed to provide\n",
            "appear to favor\n",
            "declined to suggest\n",
            "expected to advance\n",
            "required to reach\n",
            "fail to give\n",
            "began to come\n",
            "undertake to reply\n",
            "found to deal\n",
            "forced to buy\n",
            "starting to get\n",
            "inclined to explain\n",
            "supposed to look\n",
            "chose to take\n",
            "used to emphasize\n",
            "seem to realize\n",
            "happen to grow\n",
            "tried to compromise\n",
            "scheduled to arrive\n",
            "prefer to see\n",
            "set to open\n",
            "expected to prove\n",
            "try to influence\n",
            "strive to set\n",
            "decided to try\n",
            "try to let\n",
            "asked to read\n",
            "prepared to demonstrate\n",
            "led to believe\n",
            "went to see\n",
            "begun to pall\n",
            "going to get\n",
            "painted to match\n",
            "appointed to serve\n",
            "expected to register\n",
            "failed to materialize\n",
            "wanted to buy\n",
            "begin to implement\n",
            "tended to confirm\n",
            "want to appear\n",
            "try to probe\n",
            "determined to apply\n",
            "come to warn\n",
            "known to rely\n",
            "try to exploit\n",
            "tended to cancel\n",
            "cease to marvel\n",
            "seem to represent\n",
            "seems to show\n",
            "declines to gamble\n",
            "needs to feel\n",
            "advanced to argue\n",
            "undertakes to fight\n",
            "decided to keep\n",
            "advertising to attract\n",
            "wants to operate\n",
            "varied to provide\n",
            "designed to reduce\n",
            "use to deny\n",
            "combining to lower\n",
            "combining to raise\n",
            "intended to effect\n",
            "tend to convert\n",
            "exist to raise\n",
            "wish to prevent\n",
            "wish to preserve\n",
            "attempting to extend\n",
            "made to take\n",
            "continue to set\n",
            "trying to persuade\n",
            "attempted to take\n",
            "decided to break\n",
            "braced to move\n",
            "needed to keep\n",
            "used to carry\n",
            "decided to go\n",
            "happens to benefit\n",
            "attempted to work\n",
            "decided to join\n",
            "said to regard\n",
            "sought to bring\n",
            "want to give\n",
            "voting to cut\n",
            "prepared to choke\n",
            "used to approach\n",
            "trying to hit\n",
            "refused to let\n",
            "began to acquire\n",
            "proceeded to sink\n",
            "proceeded to follow\n",
            "hoping to slice\n",
            "chose to hit\n",
            "like to hit\n",
            "tries to answer\n",
            "want to talk\n",
            "got to get\n",
            "used to follow\n",
            "try to play\n",
            "conspired to lose\n",
            "needed to revive\n",
            "chosen to run\n",
            "hopes to visit\n",
            "got to see\n",
            "arranged to sell\n",
            "delighted to get\n",
            "want to enjoy\n",
            "tried to get\n",
            "try to close\n",
            "required to furnish\n",
            "obliged to dole\n",
            "wished to wait\n",
            "decided to act\n",
            "hoped to attend\n",
            "like to woo\n",
            "prepared to discuss\n",
            "wanted to go\n",
            "allowed to file\n",
            "tried to persuade\n",
            "began to tell\n",
            "hoped to peddle\n",
            "intended to insure\n",
            "decided to provide\n",
            "expected to go\n",
            "expected to sign\n",
            "like to eat\n",
            "like to talk\n",
            "ceased to grumble\n",
            "tending to bid\n",
            "start to pay\n",
            "failed to measure\n",
            "going to take\n",
            "needed to push\n",
            "trying to get\n",
            "try to get\n",
            "want to increase\n",
            "wants to bring\n",
            "threaten to strike\n",
            "begun to grow\n",
            "combine to serve\n",
            "helping to strengthen\n",
            "designed to promote\n",
            "threatening to expand\n",
            "seeks to get\n",
            "begin to see\n",
            "continue to expand\n",
            "failing to render\n",
            "decided to tackle\n",
            "expects to sign\n",
            "tends to become\n",
            "came to understand\n",
            "deserve to breathe\n",
            "advised to seek\n",
            "attempting to make\n",
            "try to gun\n",
            "began to fill\n",
            "proposes to preserve\n",
            "asked to approve\n",
            "seeking to break\n",
            "tends to spread\n",
            "want to amend\n",
            "rejected to seek\n",
            "continued to speak\n",
            "trying to make\n",
            "expected to head\n",
            "tempted to let\n",
            "appear to cost\n",
            "attempt to shore\n",
            "seeking to achieve\n",
            "expected to report\n",
            "born to play\n",
            "promising to build\n",
            "minded to read\n",
            "hope to win\n",
            "threatened to ignite\n",
            "beginning to take\n",
            "flew to exert\n",
            "proceed to validate\n",
            "continues to feel\n",
            "want to make\n",
            "going to get\n",
            "attempt to rewrite\n",
            "purport to advocate\n",
            "seeking to capitalize\n",
            "exist to aid\n",
            "learn to put\n",
            "tends to create\n",
            "promised to eat\n",
            "hopes to include\n",
            "moving to create\n",
            "prepared to undertake\n",
            "conspired to overthrow\n",
            "seem to feel\n",
            "decided to keep\n",
            "applied to serve\n",
            "try to seize\n",
            "lead to involving\n",
            "cut to allow\n",
            "hope to enjoy\n",
            "likes to receive\n",
            "delighted to learn\n",
            "going to expand\n",
            "authorized to deliver\n",
            "going to can\n",
            "going to close\n",
            "supposed to make\n",
            "try to raise\n",
            "tried to settle\n",
            "pass to enter\n",
            "came to tell\n",
            "wanted to grab\n",
            "stops to think\n",
            "expect to get\n",
            "chosen to answer\n",
            "motivated to seek\n",
            "disposed to covet\n",
            "like to lie\n",
            "going to tell\n",
            "prepared to accept\n",
            "try to stop\n",
            "try to stop\n",
            "sought to break\n",
            "inclined to look\n",
            "begun to act\n",
            "elect to slow\n",
            "like to challenge\n",
            "going to move\n",
            "asked to carry\n",
            "expect to stop\n",
            "expect to reduce\n",
            "expected to supply\n",
            "supposed to win\n",
            "seems to lack\n",
            "tends to treat\n",
            "like to share\n",
            "try to treat\n",
            "try to bring\n",
            "try to give\n",
            "continue to lack\n",
            "learn to color\n",
            "slated to replace\n",
            "strive to put\n",
            "intends to provide\n",
            "try to solve\n",
            "decided to use\n",
            "try to end\n",
            "going to take\n",
            "trying to organize\n",
            "permitted to repair\n",
            "trying to find\n",
            "planned to rival\n",
            "seems to speak\n",
            "tried to dissuade\n",
            "tends to shimmy\n",
            "designed to teach\n",
            "prepared to teach\n",
            "wanted to sign\n",
            "made to act\n",
            "continue to influence\n",
            "begins to notice\n",
            "expected to win\n",
            "seek to find\n",
            "join to defeat\n",
            "meant to repeat\n",
            "trying to downgrade\n",
            "tried to guard\n",
            "want to separate\n",
            "seem to indicate\n",
            "afford to buy\n",
            "try to develop\n",
            "attempting to attract\n",
            "compelled to write\n",
            "failed to set\n",
            "continue to shape\n",
            "wants to study\n",
            "wants to study\n",
            "equipped to care\n",
            "expected to survive\n",
            "shocked to see\n",
            "going to play\n",
            "voted to aid\n",
            "died to uphold\n",
            "urged to reduce\n",
            "wish to state\n",
            "expected to give\n",
            "trying to maintain\n",
            "attempt to seek\n",
            "wishes to commend\n",
            "qualified to teach\n",
            "want to let\n",
            "informed to report\n",
            "planning to shelter\n",
            "plans to sit\n",
            "continue to inquire\n",
            "began to realize\n",
            "refuse to acknowledge\n",
            "required to certify\n",
            "desire to participate\n",
            "hasten to join\n",
            "like to question\n",
            "needed to help\n",
            "prepared to care\n",
            "like to suggest\n",
            "fear to negotiate\n",
            "tried to prevent\n",
            "refusing to pay\n",
            "like to quote\n",
            "transfer to ride\n",
            "managed to automate\n",
            "expected to pay\n",
            "collected to buy\n",
            "continue to provide\n",
            "wish to congratulate\n",
            "help to turn\n",
            "try to keep\n",
            "try to frighten\n",
            "wish to advocate\n",
            "expect to see\n",
            "refuse to aid\n",
            "needs to stand\n",
            "strives to emulate\n",
            "refusing to show\n",
            "seems to match\n",
            "decided to rake\n",
            "entitled to stay\n",
            "bringing to bear\n",
            "beginning to get\n",
            "threaten to use\n",
            "begin to play\n",
            "begin to hunt\n",
            "induced to see\n",
            "going to hang\n",
            "continue to test\n",
            "choose to agree\n",
            "chosen to find\n",
            "compelled to conduct\n",
            "need to realize\n",
            "used to justify\n",
            "fail to respond\n",
            "intends to economize\n",
            "bound to say\n",
            "trying to mollify\n",
            "used to say\n",
            "came to reassert\n",
            "choose to call\n",
            "intend to re-enter\n",
            "conscripted to enact\n",
            "continues to feed\n",
            "tried to integrate\n",
            "poised to strike\n",
            "try to force\n",
            "attempting to reach\n",
            "afford to take\n",
            "forbidden to sit\n",
            "plans to import\n",
            "likes to imagine\n",
            "used to get\n",
            "trying to make\n",
            "ceased to suggest\n",
            "going to work\n",
            "wanting to cut\n",
            "choose to persuade\n",
            "trying to keep\n",
            "like to embark\n",
            "suited to defeat\n",
            "hastened to put\n",
            "like to add\n",
            "want to preserve\n",
            "required to participate\n",
            "happened to save\n",
            "doing to promote\n",
            "tempted to quote\n",
            "continuing to capture\n",
            "need to communicate\n",
            "like to see\n",
            "interested to know\n",
            "allowed to rust\n",
            "chose to devote\n",
            "left to choose\n",
            "want to own\n",
            "plan to become\n",
            "persuaded to restock\n",
            "seems to improve\n",
            "arranged to permit\n",
            "seem to lend\n",
            "allowed to mix\n",
            "starts to swing\n",
            "seems to stop\n",
            "ordered to hold\n",
            "fitted to endure\n",
            "trying to follow\n",
            "threatening to explode\n",
            "rides to break\n",
            "managed to make\n",
            "dancing to display\n",
            "hasten to report\n",
            "seems to come\n",
            "reassuring to see\n",
            "profess to know\n",
            "help to explain\n",
            "forced to rely\n",
            "attempt to homogenize\n",
            "like to put\n",
            "continue to try\n",
            "try to come\n",
            "seem to deal\n",
            "decide to let\n",
            "tries to take\n",
            "trying to forget\n",
            "trying to acquire\n",
            "threatens to linger\n",
            "decided to forego\n",
            "managed to hold\n",
            "intended to illustrate\n",
            "tried to get\n",
            "learn to live\n",
            "helping to move\n",
            "striving to hold\n",
            "choose to work\n",
            "tried to see\n",
            "trying to create\n",
            "made to appear\n",
            "failed to make\n",
            "seemed to deserve\n",
            "managed to mix\n",
            "want to hurt\n",
            "liked to nip\n",
            "manages to acquire\n",
            "widened to enchant\n",
            "serve to contradict\n",
            "dare to experiment\n",
            "tried to humanize\n",
            "tries to preserve\n",
            "helps to rebut\n",
            "seems to make\n",
            "began to play\n",
            "cares to remember\n",
            "serve to show\n",
            "want to collect\n",
            "designed to invite\n",
            "attempt to make\n",
            "designed to belong\n",
            "seem to come\n",
            "wanted to identify\n",
            "neglect to cultivate\n",
            "chooses to lead\n",
            "chosen to sing\n",
            "expected to follow\n",
            "formed to spur\n",
            "tends to shy\n",
            "seeking to become\n",
            "tries to make\n",
            "began to change\n",
            "try to solve\n",
            "formed to fill\n",
            "determined to avoid\n",
            "seems to work\n",
            "began to fall\n",
            "began to depart\n",
            "refused to give\n",
            "like to sniff\n",
            "continue to demonstrate\n",
            "begins to wilt\n",
            "going to murder\n",
            "trying to puzzle\n",
            "expects to profit\n",
            "chooses to die\n",
            "wishes to pay\n",
            "conditioned to expect\n",
            "hoped to tell\n",
            "refusing to make\n",
            "intended to stop\n",
            "failed to lead\n",
            "need to discipline\n",
            "attempts to trace\n",
            "conspire to defy\n",
            "learning to think\n",
            "wants to know\n",
            "wants to supply\n",
            "begin to look\n",
            "start to think\n",
            "attempt to say\n",
            "come to feel\n",
            "supposed to put\n",
            "called to work\n",
            "continue to exist\n",
            "observed to characterize\n",
            "continue to alienate\n",
            "continue to preach\n",
            "means to say\n",
            "fit to place\n",
            "concerned to stand\n",
            "strive to formulate\n",
            "proceeded to give\n",
            "offer to remind\n",
            "offered to allow\n",
            "requested to teach\n",
            "said to repeat\n",
            "mean to say\n",
            "inclined to extenuate\n",
            "came to rescue\n",
            "venture to assert\n",
            "come to destroy\n",
            "compelled to ask\n",
            "begins to look\n",
            "refuse to accept\n",
            "entitled to excoriate\n",
            "come to occupy\n",
            "prepared to resort\n",
            "obliged to become\n",
            "disposed to allow\n",
            "prepared to give\n",
            "trying to continue\n",
            "continue to use\n",
            "attempting to bridge\n",
            "destined to live\n",
            "daring to trust\n",
            "called to stand\n",
            "die to save\n",
            "told to express\n",
            "supposed to perform\n",
            "designed to give\n",
            "fear to negotiate\n",
            "threatening to devour\n",
            "try to escape\n",
            "tried to swim\n",
            "learn to say\n",
            "threatening to eat\n",
            "remains to show\n",
            "attempted to analyze\n",
            "tried to consider\n",
            "begin to talk\n",
            "tended to stifle\n",
            "begin to understand\n",
            "fail to achieve\n",
            "made to keep\n",
            "desiring to unite\n",
            "invited to speak\n",
            "hesitate to ask\n",
            "trying to make\n",
            "help to determine\n",
            "combine to provide\n",
            "attempt to compensate\n",
            "learn to recognize\n",
            "serve to promote\n",
            "claim to incarnate\n",
            "led to emphasize\n",
            "tend to consider\n",
            "expected to seek\n",
            "disposed to compromise\n",
            "served to provide\n",
            "mean to imply\n",
            "mean to imply\n",
            "attempts to face\n",
            "need to submit\n",
            "prepared to run\n",
            "asked to choose\n",
            "continuing to incur\n",
            "seems to think\n",
            "begin to amass\n",
            "sought to limit\n",
            "bring to bear\n",
            "invited to participate\n",
            "sought to bring\n",
            "attempting to explore\n",
            "seen to consist\n",
            "committed to avoid\n",
            "claim to serve\n",
            "determined to avoid\n",
            "trying to converse\n",
            "started to adjust\n",
            "trying to make\n",
            "decided to take\n",
            "forced to conclude\n",
            "beginning to make\n",
            "helped to make\n",
            "made to give\n",
            "determined to exclude\n",
            "sought to win\n",
            "sought to avoid\n",
            "meant to incur\n",
            "supposed to result\n",
            "cited to show\n",
            "supposed to possess\n",
            "burned to make\n",
            "wanted to find\n",
            "helps to meet\n",
            "rejoiced to see\n",
            "began to suspect\n",
            "began to review\n",
            "called to sit\n",
            "began to write\n",
            "decided to try\n",
            "takes to tell\n",
            "seemed to widen\n",
            "proceeded to teach\n",
            "helps to make\n",
            "remember to make\n",
            "supposed to like\n",
            "working to improve\n",
            "like to make\n",
            "added to encourage\n",
            "like to shear\n",
            "needs to tell\n",
            "like to grow\n",
            "allowed to mature\n",
            "used to attack\n",
            "continued to threaten\n",
            "decide to build\n",
            "used to destroy\n",
            "going to develop\n",
            "put to see\n",
            "fail to develop\n",
            "seem to fall\n",
            "serve to emphasize\n",
            "tend to stamp\n",
            "fail to enter\n",
            "rehearing to acquire\n",
            "fail to convey\n",
            "needed to attain\n",
            "seem to reduce\n",
            "continue to show\n",
            "sponsored to win\n",
            "invited to judge\n",
            "asked to pick\n",
            "qualified to judge\n",
            "helping to create\n",
            "qualified to win\n",
            "continuing to donate\n",
            "found to take\n",
            "built to accommodate\n",
            "bothered to make\n",
            "wanted to purchase\n",
            "managing to get\n",
            "formed to develop\n",
            "used to indicate\n",
            "meant to pertain\n",
            "designed to cater\n",
            "equipped to handle\n",
            "pulled to clear\n",
            "Tend to make\n",
            "progresses to insure\n",
            "Endeavor to get\n",
            "used to separate\n",
            "used to separate\n",
            "seems to know\n",
            "wanted to trot\n",
            "likes to trot\n",
            "wants to trot\n",
            "started to pace\n",
            "starting to go\n",
            "expected to race\n",
            "designed to push\n",
            "looks to run\n",
            "began to motor\n",
            "trained to drag\n",
            "fled to make\n",
            "seemed to know\n",
            "used to say\n",
            "preferred to get\n",
            "hope to cover\n",
            "want to miss\n",
            "scheduled to vanish\n",
            "vanish to make\n",
            "continued to live\n",
            "seem to cascade\n",
            "forget to buy\n",
            "fail to shorten\n",
            "intend to cook\n",
            "sized to fit\n",
            "continue to release\n",
            "wish to create\n",
            "trim to fit\n",
            "cut to fit\n",
            "help to prevent\n",
            "designed to take\n",
            "used to transport\n",
            "want to buy\n",
            "used to fasten\n",
            "help to keep\n",
            "needed to build\n",
            "designed to accommodate\n",
            "adjusted to suit\n",
            "used to cut\n",
            "want to avoid\n",
            "agreed to take\n",
            "planned to destroy\n",
            "allowed to issue\n",
            "managed to coerce\n",
            "want to know\n",
            "planning to bring\n",
            "urged to keep\n",
            "come to swim\n",
            "enjoined to look\n",
            "prepared to cope\n",
            "want to make\n",
            "allowed to dry\n",
            "pays to buy\n",
            "want to play\n",
            "expected to last\n",
            "plan to add\n",
            "want to start\n",
            "plan to buy\n",
            "going to need\n",
            "continue to reduce\n",
            "needed to arrive\n",
            "done to correct\n",
            "cost to make\n",
            "settled to find\n",
            "grew to fulfill\n",
            "attempted to restrict\n",
            "conceived to affirm\n",
            "prefer to believe\n",
            "tried to refashion\n",
            "begin to fear\n",
            "linger to haunt\n",
            "disciplined to serve\n",
            "trained to fulfill\n",
            "organized to furnish\n",
            "continued to paint\n",
            "made to weave\n",
            "try to place\n",
            "hesitate to add\n",
            "seemed to emphasize\n",
            "mean to project\n",
            "wishes to convey\n",
            "beginning to learn\n",
            "start to study\n",
            "said to start\n",
            "wished to get\n",
            "Try to push\n",
            "taken to see\n",
            "promises to open\n",
            "selected to operate\n",
            "used to measure\n",
            "employed to measure\n",
            "used to detect\n",
            "tend to reflect\n",
            "used to scan\n",
            "decided to enter\n",
            "preparing to matriculate\n",
            "continued to help\n",
            "intend to carry\n",
            "lived to see\n",
            "manage to experiment\n",
            "tempted to compare\n",
            "made to see\n",
            "caused to glow\n",
            "made to flow\n",
            "happened to place\n",
            "used to construct\n",
            "used to fill\n",
            "examine to make\n",
            "designed to counter\n",
            "tend to become\n",
            "try to share\n",
            "continue to make\n",
            "come to expect\n",
            "used to keep\n",
            "bound to increase\n",
            "trying to match\n",
            "going to take\n",
            "continue to exceed\n",
            "extended to compare\n",
            "continue to divorce\n",
            "fail to lower\n",
            "supposed to stand\n",
            "prepared to teach\n",
            "school to cover\n",
            "make to assess\n",
            "try to set\n",
            "encouraged to take\n",
            "try to maintain\n",
            "plan to limit\n",
            "make to assure\n",
            "afford to spend\n",
            "Aim to balance\n",
            "Check to see\n",
            "called to determine\n",
            "cooperate to launch\n",
            "designed to expose\n",
            "existing to acquaint\n",
            "like to organize\n",
            "begin to appreciate\n",
            "inclined to think\n",
            "needed to protect\n",
            "struggling to meet\n",
            "helping to account\n",
            "want to learn\n",
            "used to think\n",
            "fights to change\n",
            "tends to rise\n",
            "expects to extend\n",
            "learn to wear\n",
            "tried to make\n",
            "appears to lie\n",
            "attempted to provide\n",
            "found to allow\n",
            "planned to duplicate\n",
            "wants to interest\n",
            "want to risk\n",
            "want to use\n",
            "continue to learn\n",
            "meant to convey\n",
            "used to minimize\n",
            "try to wrestle\n",
            "trying to install\n",
            "plan to build\n",
            "equipped to handle\n",
            "equipped to package\n",
            "equipped to receive\n",
            "equipped to save\n",
            "plan to increase\n",
            "hopes to cut\n",
            "bound to swell\n",
            "begin to feel\n",
            "want to change\n",
            "arrange to rent\n",
            "plan to travel\n",
            "plan to visit\n",
            "like to start\n",
            "wish to budget\n",
            "wanting to rent\n",
            "want to see\n",
            "want to throw\n",
            "designed to work\n",
            "trying to prepare\n",
            "began to develop\n",
            "used to suggest\n",
            "wanted to polish\n",
            "pays to consider\n",
            "compelled to use\n",
            "began to fall\n",
            "begun to write\n",
            "made to seem\n",
            "attempting to direct\n",
            "pleased to call\n",
            "scheduled to nominate\n",
            "come to spend\n",
            "managed to irrigate\n",
            "stooped to scoop\n",
            "fall to show\n",
            "try to push\n",
            "begins to deteriorate\n",
            "used to like\n",
            "offered to ship\n",
            "hopes to find\n",
            "invented to hold\n",
            "learn to like\n",
            "labored to set\n",
            "set to receive\n",
            "entered to compete\n",
            "seem to make\n",
            "seemed to answer\n",
            "decided to use\n",
            "began to show\n",
            "Wishing to show\n",
            "learned to set\n",
            "forced to fly\n",
            "hope to break\n",
            "came to recognize\n",
            "turning to cup\n",
            "seems to creep\n",
            "going to live\n",
            "got to learn\n",
            "learn to live\n",
            "going to live\n",
            "like to sew\n",
            "love to run\n",
            "love to crack\n",
            "yearn to make\n",
            "tried to see\n",
            "love to dust\n",
            "like to become\n",
            "decide to write\n",
            "cause to exist\n",
            "learn to portray\n",
            "learn to portray\n",
            "began to advise\n",
            "taught to yield\n",
            "prefer to cope\n",
            "helps to explain\n",
            "surprised to bump\n",
            "seemed to brave\n",
            "begins to regard\n",
            "began to embezzle\n",
            "appears to endorse\n",
            "expected to like\n",
            "begin to assert\n",
            "began to challenge\n",
            "going to become\n",
            "helping to make\n",
            "began to stress\n",
            "began to describe\n",
            "fails to gain\n",
            "liked to play\n",
            "love to audition\n",
            "wanted to show\n",
            "like to see\n",
            "loved to dance\n",
            "try to bid\n",
            "wanted to go\n",
            "asked to leave\n",
            "continued to promote\n",
            "wished to meet\n",
            "hoping to see\n",
            "got to know\n",
            "paused to comfort\n",
            "hesitate to quote\n",
            "decided to see\n",
            "wanted to take\n",
            "need to know\n",
            "need to look\n",
            "beginning to protrude\n",
            "try to speak\n",
            "decides to proceed\n",
            "interested to hear\n",
            "seems to probe\n",
            "preferring to consider\n",
            "known to go\n",
            "amazed to realize\n",
            "seeking to help\n",
            "interpreted to conform\n",
            "explored to find\n",
            "trying to throw\n",
            "designed to find\n",
            "required to mark\n",
            "asked to consider\n",
            "seem to involve\n",
            "seems to smell\n",
            "seems to see\n",
            "learned to develop\n",
            "arranged to meet\n",
            "need to work\n",
            "want to raise\n",
            "need to bring\n",
            "expect to grow\n",
            "expected to work\n",
            "want to include\n",
            "going to produce\n",
            "want to hire\n",
            "want to buy\n",
            "want to hire\n",
            "going to farm\n",
            "need to know\n",
            "want to undertake\n",
            "want to buy\n",
            "wish to locate\n",
            "plan to sell\n",
            "want to go\n",
            "intend to raise\n",
            "cost to live\n",
            "expected to produce\n",
            "expect to get\n",
            "forced to lay\n",
            "trying to explain\n",
            "happened to light\n",
            "began to turn\n",
            "intended to warn\n",
            "used to transform\n",
            "forced to overcome\n",
            "begins to give\n",
            "failed to post\n",
            "refused to permit\n",
            "encouraged to beget\n",
            "obliged to obey\n",
            "united to push\n",
            "try to oppose\n",
            "made to impose\n",
            "wanted to clarify\n",
            "proposed to sail\n",
            "determined to catch\n",
            "forced to turn\n",
            "seemed to sense\n",
            "seemed to know\n",
            "tried to brush\n",
            "turning to repeat\n",
            "tried to persuade\n",
            "wanted to turn\n",
            "preparing to pacify\n",
            "forced to retreat\n",
            "contracted to supply\n",
            "forced to leave\n",
            "offering to bring\n",
            "attempt to bring\n",
            "decided to cast\n",
            "liked to tease\n",
            "going to buy\n",
            "com to sea\n",
            "drilled to follow\n",
            "born to command\n",
            "come to recognize\n",
            "allowed to account\n",
            "created to fan\n",
            "come to mean\n",
            "trying to make\n",
            "refusing to keep\n",
            "wishes to discuss\n",
            "want to ask\n",
            "want to tap\n",
            "said to use\n",
            "employed to see\n",
            "shoot to kill\n",
            "refused to touch\n",
            "threatened to shoot\n",
            "said to let\n",
            "begin to roll\n",
            "held to assure\n",
            "going to make\n",
            "managed to get\n",
            "wanted to play\n",
            "prepared to counterattack\n",
            "failed to rally\n",
            "tried to rape\n",
            "refused to speak\n",
            "called to look\n",
            "refused to say\n",
            "mean to suggest\n",
            "prepared to carry\n",
            "designed to overthrow\n",
            "trying to put\n",
            "needed to work\n",
            "disposed to exploit\n",
            "fail to see\n",
            "bound to fall\n",
            "tempted to place\n",
            "need to ask\n",
            "seek to undermine\n",
            "hand to show\n",
            "begun to spit\n",
            "threatened to ignite\n",
            "invited to take\n",
            "rushing to keep\n",
            "like to wander\n",
            "like to follow\n",
            "professing to believe\n",
            "want to show\n",
            "enabled to attend\n",
            "determined to exercise\n",
            "inclined to exaggerate\n",
            "like to go\n",
            "determined to marry\n",
            "said to sprinkle\n",
            "used to stop\n",
            "bought to apply\n",
            "supposed to cause\n",
            "said to give\n",
            "allowed to rest\n",
            "enters to spoil\n",
            "wish to deny\n",
            "allowed to warm\n",
            "wishes to entertain\n",
            "allowed to stand\n",
            "refused to accept\n",
            "wished to continue\n",
            "persuaded to accept\n",
            "decided to charge\n",
            "decided to go\n",
            "allowed to see\n",
            "agreed to take\n",
            "decide to send\n",
            "allowed to delay\n",
            "request to leave\n",
            "promised to treat\n",
            "declined to enter\n",
            "added to reinforce\n",
            "obliged to publish\n",
            "continue to serve\n",
            "plans to serve\n",
            "Hoping to cut\n",
            "obliged to announce\n",
            "wish to preserve\n",
            "heard to remark\n",
            "hopes to redress\n",
            "desires to walk\n",
            "prefer to take\n",
            "likes to measure\n",
            "proposed to corral\n",
            "intended to stay\n",
            "ceased to look\n",
            "manages to overlook\n",
            "troubled to read\n",
            "destined to go\n",
            "expected to go\n",
            "used to characterize\n",
            "helping to raise\n",
            "decided to stay\n",
            "used to refer\n",
            "needs to educate\n",
            "tended to tamp\n",
            "like to underline\n",
            "begun to falter\n",
            "intend to include\n",
            "wish to improve\n",
            "try to take\n",
            "prefers to designate\n",
            "want to join\n",
            "seeking to increase\n",
            "used to make\n",
            "used to make\n",
            "inclined to remain\n",
            "heard to say\n",
            "stopped to receive\n",
            "used to describe\n",
            "claimed to own\n",
            "tried to find\n",
            "meant to pay\n",
            "given to go\n",
            "wanted to make\n",
            "began to gallop\n",
            "attempting to lasso\n",
            "failing to encircle\n",
            "got to get\n",
            "trying to maneuver\n",
            "beginning to go\n",
            "began to pull\n",
            "began to draw\n",
            "like to go\n",
            "tend to compete\n",
            "doing to help\n",
            "begins to see\n",
            "Desiring to fill\n",
            "tends to look\n",
            "try to match\n",
            "played to win\n",
            "failed to make\n",
            "began to involve\n",
            "learning to bunt\n",
            "dared to dream\n",
            "dared to taunt\n",
            "refused to come\n",
            "undertook to set\n",
            "essayed to down\n",
            "began to prosper\n",
            "liked to wring\n",
            "happened to sit\n",
            "hastened to place\n",
            "began to offer\n",
            "seemed to indicate\n",
            "liked to imagine\n",
            "expected to know\n",
            "began to appear\n",
            "begin to store\n",
            "continue to sanction\n",
            "intended to demonstrate\n",
            "permitted to exercise\n",
            "encouraged to develop\n",
            "failing to behave\n",
            "appeared to regard\n",
            "seek to disprove\n",
            "tends to fuse\n",
            "prefers to adduce\n",
            "empowered to compel\n",
            "designed to prevent\n",
            "disposed to heed\n",
            "agree to let\n",
            "seeking to reform\n",
            "used to crowd\n",
            "Ask to see\n",
            "interested to learn\n",
            "pass to add\n",
            "demanding to know\n",
            "seems to threaten\n",
            "tried to describe\n",
            "tried to explain\n",
            "seem to feel\n",
            "got to play\n",
            "ceased to need\n",
            "like to live\n",
            "came to see\n",
            "threatens to break\n",
            "begins to fade\n",
            "begins to appear\n",
            "equipped to tell\n",
            "used to increase\n",
            "hired to repeat\n",
            "wished to make\n",
            "seems to exist\n",
            "means to choose\n",
            "struggle to insulate\n",
            "serves to crystallize\n",
            "doomed to become\n",
            "serves to illuminate\n",
            "failed to furnish\n",
            "encouraged to trade\n",
            "continued to come\n",
            "promised to send\n",
            "attempted to understand\n",
            "decided to send\n",
            "assigned to arrest\n",
            "planned to build\n",
            "offered to surrender\n",
            "gone to live\n",
            "returned to succeed\n",
            "expected to arrange\n",
            "expected to supply\n",
            "expected to entertain\n",
            "tried to bring\n",
            "provoked to use\n",
            "refused to let\n",
            "needed to outwit\n",
            "purporting to inform\n",
            "inspired to remind\n",
            "mean to tell\n",
            "trying to demonstrate\n",
            "went to visit\n",
            "continued to teach\n",
            "beginning to devise\n",
            "learn to like\n",
            "stood to watch\n",
            "planned to go\n",
            "trying to plan\n",
            "continues to grow\n",
            "learn to keep\n",
            "learned to polish\n",
            "left to meet\n",
            "fails to make\n",
            "resolved to maintain\n",
            "register to vote\n",
            "needs to make\n",
            "going to march\n",
            "proposed to defeat\n",
            "proposed to enter\n",
            "seems to require\n",
            "seem to violate\n",
            "tended to obscure\n",
            "continue to view\n",
            "try to coerce\n",
            "likes to believe\n",
            "continue to affect\n",
            "served to overcome\n",
            "tends to further\n",
            "help to reveal\n",
            "struggle to assert\n",
            "said to exist\n",
            "taken to guard\n",
            "done to increase\n",
            "ready to tick\n",
            "forced to hypothesize\n",
            "used to challenge\n",
            "permitted to authorize\n",
            "decides to break\n",
            "required to pass\n",
            "decide to clobber\n",
            "decided to reverse\n",
            "tried to start\n",
            "forbidden to fly\n",
            "required to copy\n",
            "began to move\n",
            "run to live\n",
            "started to glance\n",
            "try to memorize\n",
            "turned to look\n",
            "trying to talk\n",
            "started to decline\n",
            "continues to take\n",
            "continues to center\n",
            "come to see\n",
            "come to walk\n",
            "beginning to complain\n",
            "gather to sing\n",
            "began to converse\n",
            "began to relax\n",
            "hoped to become\n",
            "forced to restrict\n",
            "began to give\n",
            "asked to become\n",
            "trying to sell\n",
            "serves to stimulate\n",
            "seemed to lack\n",
            "offered to make\n",
            "assembled to warrant\n",
            "returned to preside\n",
            "sought to prevent\n",
            "expect to stand\n",
            "compelled to face\n",
            "continue to live\n",
            "refused to move\n",
            "refused to obey\n",
            "doomed to become\n",
            "tended to romanticize\n",
            "supposed to keep\n",
            "left to rest\n",
            "wants to see\n",
            "tended to dress\n",
            "designed to become\n",
            "begins to feel\n",
            "tends to depict\n",
            "transferred to become\n",
            "impelled to make\n",
            "seeks to make\n",
            "made to look\n",
            "happen to meet\n",
            "told to lie\n",
            "wanted to write\n",
            "tempted to say\n",
            "omitting to assert\n",
            "continue to live\n",
            "refused to permit\n",
            "served to maintain\n",
            "seem to make\n",
            "help to dispel\n",
            "trained to describe\n",
            "daring to abandon\n",
            "seem to resemble\n",
            "appears to lie\n",
            "tend to persist\n",
            "tried to describe\n",
            "like to call\n",
            "began to speak\n",
            "try to say\n",
            "attempting to make\n",
            "attempt to answer\n",
            "wanted to know\n",
            "designed to enhance\n",
            "intended to provide\n",
            "continue to suffer\n",
            "serves to make\n",
            "fails to reach\n",
            "beginning to crack\n",
            "drawn to join\n",
            "made to bite\n",
            "forbidden to swing\n",
            "seemed to hear\n",
            "hired to drive\n",
            "try to work\n",
            "forbidden to love\n",
            "made to represent\n",
            "starts to ride\n",
            "tries to stop\n",
            "begins to gather\n",
            "brought to pass\n",
            "tends to reflect\n",
            "tended to stratify\n",
            "chosen to use\n",
            "used to mean\n",
            "forced to respond\n",
            "tends to lose\n",
            "tends to express\n",
            "made to integrate\n",
            "try to get\n",
            "attempted to restrain\n",
            "wished to continue\n",
            "failed to flourish\n",
            "propose to go\n",
            "wished to segregate\n",
            "liked to fancy\n",
            "Deciding to become\n",
            "strove to see\n",
            "used to play\n",
            "returned to live\n",
            "proceeded to find\n",
            "likes to catch\n",
            "seems to care\n",
            "intends to save\n",
            "compelled to find\n",
            "wishes to continue\n",
            "ceasing to write\n",
            "stops to ask\n",
            "expected to fulfill\n",
            "tailored to meet\n",
            "want to say\n",
            "want to quote\n",
            "seems to realize\n",
            "primed to catch\n",
            "try to diagnose\n",
            "want to point\n",
            "used to regard\n",
            "seems to represent\n",
            "trying to draw\n",
            "wish to see\n",
            "used to include\n",
            "allowed to operate\n",
            "urged to produce\n",
            "afford to present\n",
            "decides to drop\n",
            "expect to abolish\n",
            "needed to pit\n",
            "tempted to blame\n",
            "hope to serve\n",
            "tried to remedy\n",
            "tends to express\n",
            "seem to believe\n",
            "permitted to return\n",
            "attempted to make\n",
            "prepared to demonstrate\n",
            "calculated to suggest\n",
            "seemed to disconcert\n",
            "known to make\n",
            "going to talk\n",
            "learns to focus\n",
            "chooses to subordinate\n",
            "wish to preserve\n",
            "cease to exist\n",
            "seem to constitute\n",
            "destined to fail\n",
            "wants to get\n",
            "began to understand\n",
            "wanted to capture\n",
            "liked to tell\n",
            "decided to migrate\n",
            "continued to trouble\n",
            "labored to finish\n",
            "decided to return\n",
            "waiting to go\n",
            "chosen to serve\n",
            "came to know\n",
            "helped to escape\n",
            "opened to admit\n",
            "happened to see\n",
            "brought to bear\n",
            "inclined to argue\n",
            "seeming to say\n",
            "prompted to write\n",
            "come to dominate\n",
            "used to illustrate\n",
            "prepared to find\n",
            "wish to argue\n",
            "begin to read\n",
            "plan to discuss\n",
            "come to call\n",
            "expect to find\n",
            "come to believe\n",
            "continue to pay\n",
            "tend to thump\n",
            "determined to prove\n",
            "learn to control\n",
            "used to frustrate\n",
            "trying to assert\n",
            "trying to expose\n",
            "comes to regard\n",
            "felt to indicate\n",
            "came to speak\n",
            "needed to explain\n",
            "required to make\n",
            "sought to make\n",
            "accustomed to think\n",
            "come to look\n",
            "undertook to give\n",
            "came to study\n",
            "bound to go\n",
            "tried to dazzle\n",
            "got to know\n",
            "presumed to address\n",
            "obliged to defend\n",
            "coming to spend\n",
            "learned to write\n",
            "obliged to send\n",
            "began to trail\n",
            "began to fly\n",
            "tried to calm\n",
            "inspired to complete\n",
            "began to talk\n",
            "compelled to spend\n",
            "expected to carry\n",
            "tend to make\n",
            "liked to think\n",
            "trying to emulate\n",
            "wanted to know\n",
            "seemed to remember\n",
            "asked to yield\n",
            "made to look\n",
            "begun to lose\n",
            "failed to learn\n",
            "wanted to take\n",
            "writing to devote\n",
            "vowed to kneel\n",
            "hoping to lift\n",
            "forced to seek\n",
            "continue to urge\n",
            "prepared to assist\n",
            "hope to make\n",
            "continue to maintain\n",
            "scheduled to go\n",
            "taken to program\n",
            "begun to probe\n",
            "attempting to present\n",
            "instructed to burn\n",
            "attempted to conclude\n",
            "equipped to handle\n",
            "trying to check\n",
            "mean to write\n",
            "wished to pursue\n",
            "refused to attend\n",
            "decided to dance\n",
            "failed to amaze\n",
            "continued to search\n",
            "threatening to swallow\n",
            "pleased to see\n",
            "tried to discover\n",
            "disturbed to find\n",
            "failed to realize\n",
            "manage to get\n",
            "wanted to buy\n",
            "decided to bypass\n",
            "allowed to preach\n",
            "allowed to pass\n",
            "dared to drop\n",
            "expected to move\n",
            "means to ridicule\n",
            "hesitate to sacrifice\n",
            "forced to move\n",
            "taken to effect\n",
            "hoped to imprint\n",
            "tailored to fit\n",
            "obliged to describe\n",
            "tried to block\n",
            "chosen to edit\n",
            "plotted to take\n",
            "tried to halt\n",
            "wanted to die\n",
            "returned to make\n",
            "like to believe\n",
            "bother to look\n",
            "used to go\n",
            "seemed to thaw\n",
            "came to give\n",
            "wanted to see\n",
            "used to look\n",
            "meant to help\n",
            "like to straighten\n",
            "hope to give\n",
            "bark to let\n",
            "dash to get\n",
            "tried to talk\n",
            "decided to leave\n",
            "used to tell\n",
            "continue to reflect\n",
            "appear to preach\n",
            "intend to let\n",
            "need to test\n",
            "learned to meet\n",
            "said to give\n",
            "serves to reduce\n",
            "thought to provide\n",
            "tends to give\n",
            "wish to deny\n",
            "expect to find\n",
            "seek to capture\n",
            "allowed to claim\n",
            "seeks to recapture\n",
            "determined to bulldoze\n",
            "sought to run\n",
            "needed to make\n",
            "hurry to catch\n",
            "planned to bolt\n",
            "fit to nominate\n",
            "intend to support\n",
            "refusing to abandon\n",
            "begun to parallel\n",
            "help to give\n",
            "fail to convey\n",
            "tends to lose\n",
            "aimed to write\n",
            "granted to serve\n",
            "tends to underestimate\n",
            "permitted to cross\n",
            "demanding to know\n",
            "obliged to remain\n",
            "delighted to make\n",
            "seem to shake\n",
            "assigned to check\n",
            "volunteered to advance\n",
            "went to hurry\n",
            "refused to notice\n",
            "began to select\n",
            "began to specify\n",
            "failed to work\n",
            "care to come\n",
            "helped to deepen\n",
            "come to say\n",
            "fitted to live\n",
            "stoop to argue\n",
            "obliged to insist\n",
            "managed to annex\n",
            "going to prove\n",
            "preparing to test\n",
            "came to know\n",
            "got to know\n",
            "persuaded to lend\n",
            "expected to report\n",
            "began to experience\n",
            "attempted to get\n",
            "happened to catch\n",
            "chanced to soil\n",
            "begins to besiege\n",
            "beginning to attract\n",
            "come to learn\n",
            "serve to lead\n",
            "try to get\n",
            "longing to see\n",
            "long to see\n",
            "trying to promote\n",
            "beginning to fill\n",
            "wants to linger\n",
            "chiseled to match\n",
            "trying to track\n",
            "determined to get\n",
            "began to develop\n",
            "continued to grow\n",
            "decided to capitalize\n",
            "came to favor\n",
            "used to describe\n",
            "began to play\n",
            "gathered to hear\n",
            "guaranteed to excite\n",
            "invited to deliver\n",
            "sent to knoe\n",
            "preparing to deport\n",
            "told to leave\n",
            "constrained to move\n",
            "refused to let\n",
            "managed to get\n",
            "trying to get\n",
            "tending to arouse\n",
            "sent to get\n",
            "tried to arbitrate\n",
            "tried to arbitrate\n",
            "ordered to knock\n",
            "refused to attend\n",
            "determined to compel\n",
            "refused to sanction\n",
            "going to let\n",
            "attempt to prorate\n",
            "leaving to come\n",
            "please to write\n",
            "want to go\n",
            "want to teach\n",
            "wanted to go\n",
            "tried to picture\n",
            "waiting to hear\n",
            "came to live\n",
            "began to show\n",
            "tends to weaken\n",
            "seems to rise\n",
            "permitted to see\n",
            "continues to discuss\n",
            "serve to sublimate\n",
            "wanted to close\n",
            "wished to keep\n",
            "want to describe\n",
            "began to denounce\n",
            "afford to place\n",
            "try to fit\n",
            "decides to enter\n",
            "expected to prefer\n",
            "tend to bring\n",
            "tend to become\n",
            "tend to assimilate\n",
            "tend to converge\n",
            "disposed to question\n",
            "forced to realize\n",
            "assembled to bear\n",
            "beginning to tell\n",
            "hastened to dispatch\n",
            "ordered to attack\n",
            "going to trouble\n",
            "wanted to borrow\n",
            "trying to pick\n",
            "helping to prevent\n",
            "preferred to sell\n",
            "think to take\n",
            "ordered to approach\n",
            "prepared to move\n",
            "come to pay\n",
            "refused to grant\n",
            "want to offend\n",
            "seeming to invalidate\n",
            "want to drive\n",
            "left to resist\n",
            "tempted to consider\n",
            "empowered to swear\n",
            "allowed to appoint\n",
            "wanted to invest\n",
            "decided to stay\n",
            "live to see\n",
            "began to put\n",
            "decided to leave\n",
            "wanted to leave\n",
            "want to see\n",
            "come to say\n",
            "began to move\n",
            "went to visit\n",
            "got to drink\n",
            "seem to know\n",
            "wanted to help\n",
            "seem to fall\n",
            "tends to obscure\n",
            "beginning to point\n",
            "trying to prove\n",
            "trying to sort\n",
            "Start to prepare\n",
            "obliged to go\n",
            "declined to introduce\n",
            "enter to ask\n",
            "seems to lie\n",
            "continued to shape\n",
            "seem to pass\n",
            "prepared to accept\n",
            "done to obtaine\n",
            "expected to reach\n",
            "seems to refer\n",
            "tried to consult\n",
            "came to put\n",
            "seemed to promise\n",
            "needed to possess\n",
            "seem to indicate\n",
            "purports to examine\n",
            "attempts to understand\n",
            "tend to disprove\n",
            "forced to admit\n",
            "attempt to ascertain\n",
            "forced to demonstrate\n",
            "sought to maintain\n",
            "determined to resist\n",
            "compelled to make\n",
            "threatening to murder\n",
            "agreed to see\n",
            "learned to know\n",
            "written to say\n",
            "came to see\n",
            "liked to think\n",
            "chosen to follow\n",
            "went to see\n",
            "forced to depict\n",
            "expect to find\n",
            "hoped to persuade\n",
            "decided to go\n",
            "compelled to spend\n",
            "indisposed to appear\n",
            "try to keep\n",
            "arrived to see\n",
            "try to keep\n",
            "made to write\n",
            "training to keep\n",
            "decided to give\n",
            "wanted to apologize\n",
            "began to cry\n",
            "going to make\n",
            "forced to learn\n",
            "required to absorb\n",
            "learned to write\n",
            "learned to dispute\n",
            "learned to dispute\n",
            "ceased to exist\n",
            "inclined to inquire\n",
            "like to say\n",
            "permitted to write\n",
            "wait to see\n",
            "choose to fill\n",
            "served to confirm\n",
            "like to suggest\n",
            "wanted to know\n",
            "expected to happen\n",
            "asked to join\n",
            "seem to regard\n",
            "inclined to say\n",
            "cease to haunt\n",
            "wishes to express\n",
            "continue to bridge\n",
            "struggle to keep\n",
            "begin to look\n",
            "began to feel\n",
            "begins to doubt\n",
            "seemed to survive\n",
            "begins to dream\n",
            "refuses to surrender\n",
            "began to discover\n",
            "decided to seek\n",
            "seek to eliminate\n",
            "organized to deal\n",
            "expected to consist\n",
            "beginning to use\n",
            "tried to enter\n",
            "forced to play\n",
            "want to quibble\n",
            "used to make\n",
            "love to suffer\n",
            "love to suffer\n",
            "came to believe\n",
            "trying to outdo\n",
            "used to say\n",
            "castigates to liberate\n",
            "helped to educate\n",
            "expect to find\n",
            "supposed to supplant\n",
            "wanted to write\n",
            "asked to see\n",
            "planned to lay\n",
            "wanted to put\n",
            "decide to disown\n",
            "wanted to pay\n",
            "known to make\n",
            "trying to prove\n",
            "required to meet\n",
            "designed to improve\n",
            "designed to assist\n",
            "wish to buy\n",
            "made to establish\n",
            "required to carry\n",
            "established to provide\n",
            "desire to explore\n",
            "required to own\n",
            "required to attain\n",
            "decide to support\n",
            "prepared to depart\n",
            "designed to provide\n",
            "designed to raise\n",
            "designed to prevent\n",
            "aimed to attract\n",
            "like to press\n",
            "take to show\n",
            "designed to prevent\n",
            "persuaded to take\n",
            "induced to establish\n",
            "persuaded to adopt\n",
            "persuaded to adopt\n",
            "prepared to give\n",
            "prepared to enter\n",
            "dedicated to secure\n",
            "like to think\n",
            "like to think\n",
            "afford to lose\n",
            "continues to add\n",
            "helping to pilot\n",
            "prefer to speak\n",
            "go to discuss\n",
            "made to replace\n",
            "continuing to seek\n",
            "seem to add\n",
            "seem to fix\n",
            "known to tax\n",
            "like to see\n",
            "continued to run\n",
            "voted to continue\n",
            "entitled to benefit\n",
            "needed to establish\n",
            "designed to give\n",
            "remain to preserve\n",
            "gathered to thank\n",
            "continue to protect\n",
            "amended to read\n",
            "construed to alter\n",
            "required to correlate\n",
            "amended to read\n",
            "directed to make\n",
            "directed to establish\n",
            "continued to display\n",
            "required to move\n",
            "planned to furnish\n",
            "agreed to submit\n",
            "initiated to resolve\n",
            "found to exist\n",
            "taken to isolate\n",
            "modified to reduce\n",
            "tending to separate\n",
            "established to gather\n",
            "used to study\n",
            "used to measure\n",
            "used to calculate\n",
            "directed to mail\n",
            "offers to pay\n",
            "promises to pay\n",
            "construed to limit\n",
            "directed to pay\n",
            "directed to cover\n",
            "failed to offer\n",
            "intends to pursue\n",
            "helping to create\n",
            "wish to merge\n",
            "pleased to note\n",
            "continue to serve\n",
            "pleased to note\n",
            "inclined to drag\n",
            "trying to get\n",
            "made to enlist\n",
            "try to run\n",
            "designed to help\n",
            "designed to reflect\n",
            "designed to avoid\n",
            "designed to reflect\n",
            "required to help\n",
            "working to develop\n",
            "installed to increase\n",
            "prepared to stay\n",
            "used to keep\n",
            "came to receive\n",
            "tend to create\n",
            "attempting to bring\n",
            "designed to arrest\n",
            "attempt to monopolize\n",
            "held to appoint\n",
            "prepared to submit\n",
            "allowed to petition\n",
            "ordered to terminate\n",
            "required to pass\n",
            "required to pass\n",
            "permitted to endanger\n",
            "compelled to testify\n",
            "permitted to rebut\n",
            "failed to show\n",
            "permitted to rebut\n",
            "refused to require\n",
            "ordered to report\n",
            "ordered to report\n",
            "fail to see\n",
            "sought to secure\n",
            "failed to show\n",
            "entitled to inspect\n",
            "hopes to find\n",
            "like to make\n",
            "found to enable\n",
            "need to concern\n",
            "fail to bring\n",
            "fail to act\n",
            "want to stimulate\n",
            "want to make\n",
            "tended to ignore\n",
            "expected to take\n",
            "expected to know\n",
            "expected to supervise\n",
            "begins to go\n",
            "moved to think\n",
            "beginning to box\n",
            "surprised to find\n",
            "hope to win\n",
            "began to talk\n",
            "begins to take\n",
            "decided to make\n",
            "asked to give\n",
            "formed to give\n",
            "taken to link\n",
            "put to use\n",
            "use to pay\n",
            "going to work\n",
            "combine to provide\n",
            "wish to serve\n",
            "expected to increase\n",
            "needed to maintain\n",
            "needed to obtain\n",
            "planned to maintain\n",
            "needed to meet\n",
            "proposed to authorize\n",
            "decided to stop\n",
            "scheduled to become\n",
            "seek to assure\n",
            "agrees to furnish\n",
            "prepared to consider\n",
            "prepared to act\n",
            "prepared to act\n",
            "required to cease\n",
            "required to operate\n",
            "designed to operate\n",
            "permitted to operate\n",
            "taken to minimize\n",
            "permitted to operate\n",
            "permitted to operate\n",
            "permitted to operate\n",
            "required to operate\n",
            "required to afford\n",
            "elect to use\n",
            "required to file\n",
            "required to file\n",
            "elect to use\n",
            "required to file\n",
            "obligated to furnish\n",
            "trained to read\n",
            "made to assure\n",
            "tend to create\n",
            "rejoicing to remember\n",
            "permitted to run\n",
            "came to work\n",
            "decided to bring\n",
            "found to permit\n",
            "helping to strengthen\n",
            "began to ship\n",
            "believed to provide\n",
            "designed to provide\n",
            "expect to make\n",
            "developed to facilitate\n",
            "set to hold\n",
            "continuing to carry\n",
            "designed to increase\n",
            "improved to obtain\n",
            "purchased to permit\n",
            "extended to provide\n",
            "sought to meet\n",
            "designed to handle\n",
            "invited to participate\n",
            "planned to provide\n",
            "inclined to advance\n",
            "aims to give\n",
            "wish to pursue\n",
            "expected to increase\n",
            "expected to exceed\n",
            "begun to make\n",
            "continues to expand\n",
            "began to make\n",
            "need to learn\n",
            "learn to delegate\n",
            "working to attain\n",
            "begun to translate\n",
            "besieged to serve\n",
            "help to create\n",
            "assumed to originate\n",
            "used to describe\n",
            "expected to cause\n",
            "taken to study\n",
            "required to ensure\n",
            "used to measure\n",
            "used to start\n",
            "started to strike\n",
            "allowed to pull\n",
            "used to measure\n",
            "generalized to include\n",
            "eliminated to obtain\n",
            "extended to include\n",
            "used to derive\n",
            "adjusted to minimize\n",
            "required to make\n",
            "taken to prevent\n",
            "attempts to present\n",
            "evaporate to leave\n",
            "tend to stick\n",
            "helps to float\n",
            "acts to remove\n",
            "tend to accelerate\n",
            "appear to offer\n",
            "allowed to take\n",
            "allowed to distil\n",
            "undertaken to see\n",
            "allowed to stand\n",
            "thought to contribute\n",
            "made to characterize\n",
            "expect to find\n",
            "known to cause\n",
            "allowed to stand\n",
            "allowed to stand\n",
            "used to test\n",
            "allowed to clot\n",
            "need to make\n",
            "try to key\n",
            "manage to keep\n",
            "seem to prefer\n",
            "continues to add\n",
            "begin to play\n",
            "begin to appear\n",
            "begin to dig\n",
            "cease to lay\n",
            "manages to slip\n",
            "seem to recognize\n",
            "like to burrow\n",
            "like to think\n",
            "estimated to contain\n",
            "love to visit\n",
            "fail to show\n",
            "attempts to weigh\n",
            "given to complete\n",
            "required to reach\n",
            "prove to belong\n",
            "varied to allow\n",
            "noted to draw\n",
            "noted to occur\n",
            "permitted to speculate\n",
            "designed to stop\n",
            "failing to demonstrate\n",
            "failed to demonstrate\n",
            "applied to man\n",
            "begin to ossify\n",
            "seen to begin\n",
            "constructed to serve\n",
            "wishes to study\n",
            "attempted to simplify\n",
            "coupled to form\n",
            "appear to affect\n",
            "appear to act\n",
            "presumed to occur\n",
            "found to contain\n",
            "appears to result\n",
            "used to obtain\n",
            "like to re-emphasise\n",
            "adopted to make\n",
            "failed to change\n",
            "failed to show\n",
            "thought to represent\n",
            "failed to show\n",
            "attempting to improve\n",
            "allowed to react\n",
            "used to filter\n",
            "photographed to show\n",
            "thought to represent\n",
            "seems to follow\n",
            "known to contribute\n",
            "fail to elicit\n",
            "failed to evoke\n",
            "fail to eat\n",
            "trying to study\n",
            "try to study\n",
            "wish to show\n",
            "need to find\n",
            "like to give\n",
            "chosen to give\n",
            "need to know\n",
            "plans to go\n",
            "tossed to decide\n",
            "want to know\n",
            "want to study\n",
            "expect to face\n",
            "choose to derive\n",
            "seeking to become\n",
            "mobilized to achieve\n",
            "required to make\n",
            "work to realize\n",
            "seek to encourage\n",
            "prefer to live\n",
            "afford to wait\n",
            "begin to see\n",
            "committed to move\n",
            "continue to satisfy\n",
            "begun to develop\n",
            "programming to go\n",
            "fail to push\n",
            "attempt to communicate\n",
            "fitted to perform\n",
            "seeks to satisfy\n",
            "tends to integrate\n",
            "tends to support\n",
            "threatened to burst\n",
            "helped to understand\n",
            "combined to prevent\n",
            "needed to bolster\n",
            "helping to further\n",
            "seem to vary\n",
            "seem to act\n",
            "obliged to organize\n",
            "expected to show\n",
            "used to adjust\n",
            "tended to break\n",
            "delegated to cooperate\n",
            "expect to obtain\n",
            "planned to double\n",
            "began to plan\n",
            "attempted to design\n",
            "hastened to add\n",
            "seem to indicate\n",
            "decided to hold\n",
            "appear to drop\n",
            "get to take\n",
            "began to get\n",
            "began to meet\n",
            "increased to include\n",
            "chose to report\n",
            "expected to read\n",
            "expected to confront\n",
            "appeared to reach\n",
            "continued to give\n",
            "invoked to explain\n",
            "wanted to go\n",
            "mean to imply\n",
            "supposed to happen\n",
            "learning to read\n",
            "asked to describe\n",
            "learning to read\n",
            "expected to earn\n",
            "expected to earn\n",
            "surprised to find\n",
            "struggle to induce\n",
            "asked to learn\n",
            "prefer to test\n",
            "told to purchase\n",
            "seemed to antagonize\n",
            "designed to develop\n",
            "refused to change\n",
            "refused to change\n",
            "refused to accept\n",
            "supposed to know\n",
            "working to become\n",
            "led to see\n",
            "asked to vote\n",
            "duplicated to form\n",
            "learn to play\n",
            "want to change\n",
            "learns to become\n",
            "began to emerge\n",
            "used to annoy\n",
            "stooping to dispense\n",
            "come to see\n",
            "preferred to keep\n",
            "used to give\n",
            "came to feel\n",
            "used to accomplish\n",
            "found to match\n",
            "required to store\n",
            "saved to represent\n",
            "saved to represent\n",
            "created to accommodate\n",
            "inspected to determine\n",
            "used to look\n",
            "serve to illustrate\n",
            "intended to decrease\n",
            "required to improve\n",
            "italicized to guide\n",
            "seems to center\n",
            "operate to center\n",
            "serves to focus\n",
            "purport to represent\n",
            "hesitates to suggest\n",
            "mentioned to make\n",
            "trying to develop\n",
            "compelled to omit\n",
            "continue to show\n",
            "planning to use\n",
            "expecting to recover\n",
            "meant to move\n",
            "preferred to continue\n",
            "trying to find\n",
            "planned to exterminate\n",
            "trying to marry\n",
            "pledged to hold\n",
            "determined to create\n",
            "seemed to assure\n",
            "attempted to marry\n",
            "obliged to concede\n",
            "expected to democratize\n",
            "Failing to heed\n",
            "determined to keep\n",
            "tend to procrastinate\n",
            "even to repudiate\n",
            "served to minimize\n",
            "encouraged to state\n",
            "trying to unearth\n",
            "decided to remove\n",
            "decide to encourage\n",
            "prefer to hire\n",
            "go to work\n",
            "intended to provide\n",
            "continues to stress\n",
            "encouraged to adopt\n",
            "motivated to take\n",
            "expected to respond\n",
            "training to meet\n",
            "used to pay\n",
            "taken to indicate\n",
            "afford to trade\n",
            "afford to lose\n",
            "taken to exemplify\n",
            "Try to imagine\n",
            "trying to outfox\n",
            "trying to get\n",
            "invited to try\n",
            "try to imagine\n",
            "begin to affect\n",
            "tend to move\n",
            "required to pay\n",
            "seek to force\n",
            "act to accentuate\n",
            "begin to edge\n",
            "move to restrain\n",
            "continue to press\n",
            "trying to win\n",
            "bound to mean\n",
            "continue to move\n",
            "continue to rise\n",
            "operate to keep\n",
            "expected to put\n",
            "presumed to realize\n",
            "assembled to legislate\n",
            "sought to find\n",
            "tend to view\n",
            "wished to minimize\n",
            "designed to deal\n",
            "ordered to retain\n",
            "refused to permit\n",
            "refuse to exercise\n",
            "prepared to read\n",
            "wants to displace\n",
            "authorized to fashion\n",
            "choose to assert\n",
            "used to impose\n",
            "chooses to enforce\n",
            "heard to object\n",
            "goes to prove\n",
            "intended to obstruct\n",
            "entitled to sue\n",
            "entitled to sue\n",
            "appear to permit\n",
            "applied to eliminate\n",
            "entitled to sue\n",
            "entitled to sue\n",
            "elected to file\n",
            "elect to continue\n",
            "intended to ease\n",
            "permitted to survive\n",
            "furnished to probe\n",
            "want to make\n",
            "designed to minimize\n",
            "designed to elicit\n",
            "continued to arrive\n",
            "coded to permit\n",
            "wishing to sell\n",
            "endeavored to maintain\n",
            "directed to provide\n",
            "seeking to continue\n",
            "refused to assume\n",
            "concerned to leave\n",
            "attempt to settle\n",
            "continue to make\n",
            "seems to increase\n",
            "exists to show\n",
            "learning to control\n",
            "want to explore\n",
            "struggling to meet\n",
            "trying to learn\n",
            "continues to increase\n",
            "like to tease\n",
            "begins to decline\n",
            "begins to substitute\n",
            "learned to cooperate\n",
            "begins to participate\n",
            "helping to make\n",
            "failing to achieve\n",
            "trying to say\n",
            "learn to identify\n",
            "failing to make\n",
            "needs to know\n",
            "fails to meet\n",
            "expected to administer\n",
            "used to store\n",
            "permitted to see\n",
            "expected to study\n",
            "wish to note\n",
            "required to furnish\n",
            "want to provide\n",
            "attempt to represent\n",
            "hopes to encourage\n",
            "designed to help\n",
            "appointed to act\n",
            "expected to vote\n",
            "appointed to study\n",
            "tended to take\n",
            "attempted to act\n",
            "attempt to act\n",
            "attempt to act\n",
            "intend to act\n",
            "fail to take\n",
            "try to serve\n",
            "tended to use\n",
            "found to behave\n",
            "impelled to make\n",
            "attempt to analyze\n",
            "designed to reflect\n",
            "deemed to vary\n",
            "held to constitute\n",
            "seem to support\n",
            "designed to cover\n",
            "found to vary\n",
            "taken to rest\n",
            "needs to know\n",
            "attempts to stand\n",
            "wishing to know\n",
            "made to appear\n",
            "attempts to supply\n",
            "like to record\n",
            "claims to show\n",
            "mean to assert\n",
            "mean to assert\n",
            "prepared to say\n",
            "mean to say\n",
            "sought to express\n",
            "said to learn\n",
            "mean to say\n",
            "meant to say\n",
            "meant to say\n",
            "meant to express\n",
            "forced to go\n",
            "disposed to quarrel\n",
            "seem to present\n",
            "allowed to move\n",
            "tended to reflect\n",
            "beginning to appreciate\n",
            "begun to disturb\n",
            "venture to assign\n",
            "crystallized to find\n",
            "begin to show\n",
            "beginning to expand\n",
            "dared to give\n",
            "continued to employ\n",
            "began to creep\n",
            "seems to appear\n",
            "rode to arrest\n",
            "serve to quiet\n",
            "decided to ride\n",
            "prepared to fight\n",
            "allowed to see\n",
            "refused to give\n",
            "compelled to kill\n",
            "desiring to leave\n",
            "wanted to clean\n",
            "needed to hire\n",
            "continued to spring\n",
            "extended to include\n",
            "intending to use\n",
            "need to commit\n",
            "sought to place\n",
            "want to know\n",
            "want to know\n",
            "serve to contrast\n",
            "obligated to regard\n",
            "tried to make\n",
            "attempting to falsify\n",
            "continued to accuse\n",
            "continued to accuse\n",
            "dare to instigate\n",
            "acting to deliver\n",
            "seeking to free\n",
            "endeavoring to deliver\n",
            "doomed to suffer\n",
            "adopted to accomplish\n",
            "fails to honor\n",
            "began to mix\n",
            "began to paint\n",
            "trying to simulate\n",
            "begun to broaden\n",
            "seems to contain\n",
            "tends to assert\n",
            "seem to thrust\n",
            "seems to thrust\n",
            "shaded to pry\n",
            "tend to assert\n",
            "continued to remain\n",
            "tried to escape\n",
            "taxed to pay\n",
            "come to pass\n",
            "seem to believe\n",
            "continues to rise\n",
            "continue to charge\n",
            "beginning to discover\n",
            "continues to offer\n",
            "wants to see\n",
            "come to dominate\n",
            "put to compete\n",
            "refuse to acknowledge\n",
            "liked to work\n",
            "tend to vote\n",
            "going to cure\n",
            "tended to overlook\n",
            "made to replace\n",
            "decided to strip\n",
            "made to satisfy\n",
            "arranged to fit\n",
            "needed to take\n",
            "tried to restrict\n",
            "led to speculate\n",
            "intended to fill\n",
            "restored to go\n",
            "appear to push\n",
            "began to wash\n",
            "wish to address\n",
            "want to meet\n",
            "appeared to evoke\n",
            "tend to blunt\n",
            "try to build\n",
            "tend to become\n",
            "presume to lecture\n",
            "attempting to acquaint\n",
            "failed to state\n",
            "like to make\n",
            "presume to speak\n",
            "mean to live\n",
            "made to look\n",
            "designed to discover\n",
            "seems to use\n",
            "used to describe\n",
            "postulated to explain\n",
            "used to support\n",
            "seem to corroborate\n",
            "wants to hear\n",
            "comes to represent\n",
            "used to accompany\n",
            "seems to symbolize\n",
            "begins to appear\n",
            "begins to ramble\n",
            "help to set\n",
            "calculated to put\n",
            "decided to write\n",
            "seemed to open\n",
            "combine to create\n",
            "learned to use\n",
            "began to take\n",
            "wanted to tell\n",
            "wanted to substitute\n",
            "want to make\n",
            "come to determine\n",
            "begun to ebb\n",
            "intended to incorporate\n",
            "led to postulate\n",
            "hope to discover\n",
            "tended to emphasize\n",
            "fails to explore\n",
            "seeks to make\n",
            "helping to define\n",
            "trying to avoid\n",
            "trying to get\n",
            "made to symbolize\n",
            "kneels to kiss\n",
            "serve to travesty\n",
            "used to equate\n",
            "altered to show\n",
            "altered to show\n",
            "taken to branch\n",
            "attempt to execute\n",
            "used to name\n",
            "used to name\n",
            "used to generate\n",
            "used to select\n",
            "used to select\n",
            "used to specify\n",
            "used to specify\n",
            "expected to serve\n",
            "used to eliminate\n",
            "designed to handle\n",
            "made to take\n",
            "tended to float\n",
            "began to decrease\n",
            "began to build\n",
            "used to provide\n",
            "tend to ensure\n",
            "seems to strive\n",
            "stated to emphasize\n",
            "channeled to produce\n",
            "expected to replace\n",
            "developed to attack\n",
            "needed to translate\n",
            "needed to make\n",
            "used to deny\n",
            "required to localize\n",
            "found to protect\n",
            "used to demonstrate\n",
            "shown to undergo\n",
            "extended to include\n",
            "shown to undergo\n",
            "allowed to go\n",
            "used to classify\n",
            "found to keep\n",
            "made to group\n",
            "continued to supply\n",
            "serves to inactivate\n",
            "needed to inactivate\n",
            "thought to offer\n",
            "serves to extend\n",
            "served to extend\n",
            "required to accomplish\n",
            "found to compare\n",
            "required to remove\n",
            "required to cut\n",
            "tends to push\n",
            "required to cut\n",
            "seen to correlate\n",
            "beginning to advance\n",
            "managed to grow\n",
            "started to open\n",
            "seem to justify\n",
            "claimed to give\n",
            "used to denote\n",
            "required to cause\n",
            "combined to attain\n",
            "used to slit\n",
            "hope to compete\n",
            "helped to alleviate\n",
            "calculated to expand\n",
            "lowered to permit\n",
            "appears to produce\n",
            "intended to cover\n",
            "established to cover\n",
            "repeated to evaluate\n",
            "varied to obtain\n",
            "varied to conform\n",
            "used to provide\n",
            "allowed to reach\n",
            "required to counteract\n",
            "appear to hold\n",
            "utilized to alleviate\n",
            "investigated to allow\n",
            "enlarged to require\n",
            "employed to reduce\n",
            "wait to see\n",
            "adjusted to supply\n",
            "utilized to direct\n",
            "tried to make\n",
            "jumping to anticipate\n",
            "tried to tempt\n",
            "Try to get\n",
            "bothered to phone\n",
            "allowed to make\n",
            "go to school\n",
            "wants to pay\n",
            "seemed to speak\n",
            "wired to set\n",
            "tried to shake\n",
            "going to follow\n",
            "served to overheat\n",
            "seemed to crouch\n",
            "seemed to advance\n",
            "seemed to resist\n",
            "began to write\n",
            "refuse to mention\n",
            "needed to eat\n",
            "wanting to know\n",
            "stop to grasp\n",
            "dared to defy\n",
            "hoping to store\n",
            "going to get\n",
            "want to get\n",
            "trying to talk\n",
            "determined to go\n",
            "proposed to rebuild\n",
            "going to stay\n",
            "plan to repair\n",
            "Hope to see\n",
            "used to take\n",
            "want to kill\n",
            "intend to go\n",
            "wanted to hurt\n",
            "bother to think\n",
            "delighted to see\n",
            "began to weep\n",
            "began to move\n",
            "tried to push\n",
            "tried to rescue\n",
            "seemed to hold\n",
            "began to think\n",
            "strove to think\n",
            "run to tell\n",
            "fail to hear\n",
            "dared to wait\n",
            "dared to pat\n",
            "trying to push\n",
            "began to whirl\n",
            "started to worry\n",
            "tried to push\n",
            "wanted to get\n",
            "tryin to fuck\n",
            "tried to stifle\n",
            "seeking to kill\n",
            "failed to check\n",
            "tried to shut\n",
            "refuses to believe\n",
            "begun to study\n",
            "amazed to discover\n",
            "appear to reject\n",
            "trying to write\n",
            "want to weep\n",
            "love to know\n",
            "like to know\n",
            "seem to think\n",
            "striving to appear\n",
            "begin to get\n",
            "called to take\n",
            "bother to shave\n",
            "tried to stop\n",
            "going to stop\n",
            "like to hear\n",
            "itch to relieve\n",
            "prefer to eat\n",
            "wanted to wipe\n",
            "survive to talk\n",
            "fit to kill\n",
            "began to whip\n",
            "seems to hover\n",
            "waiting to know\n",
            "want to go\n",
            "decided to remain\n",
            "appeared to provide\n",
            "tried to outface\n",
            "turned to smirk\n",
            "used to tell\n",
            "began to speak\n",
            "tried to force\n",
            "knelt to tell\n",
            "tried to live\n",
            "seemed to grow\n",
            "continued to find\n",
            "going to allow\n",
            "continued to proclaim\n",
            "came to warn\n",
            "refused to believe\n",
            "refused to agree\n",
            "wanted to run\n",
            "going to comply\n",
            "started to run\n",
            "crouch to get\n",
            "seem to help\n",
            "close to emit\n",
            "twitching to dislodge\n",
            "descended to blot\n",
            "strained to hear\n",
            "going to let\n",
            "begun to walk\n",
            "wanted to take\n",
            "wanted to talk\n",
            "want to bring\n",
            "consented to postpone\n",
            "meant to keep\n",
            "want to call\n",
            "expecting to find\n",
            "designed to serve\n",
            "made to flow\n",
            "wanting to draw\n",
            "persuaded to come\n",
            "told to ask\n",
            "wish to make\n",
            "promised to speak\n",
            "moved to distort\n",
            "wanted to emphasize\n",
            "liking to work\n",
            "tries to unteach\n",
            "began to worry\n",
            "tried to insist\n",
            "moving to take\n",
            "tried to contain\n",
            "takes to drink\n",
            "aim to keep\n",
            "tried to find\n",
            "stopped to say\n",
            "trying to contain\n",
            "needed to say\n",
            "forgot to order\n",
            "began to dance\n",
            "planned to use\n",
            "began to shave\n",
            "began to pack\n",
            "seemed to care\n",
            "rose to speak\n",
            "continue to plague\n",
            "live to see\n",
            "poised to pour\n",
            "Remember to call\n",
            "trying to reach\n",
            "tried to reach\n",
            "used to love\n",
            "wants to go\n",
            "wanted to wring\n",
            "got to dancing\n",
            "trying to pick\n",
            "began to laugh\n",
            "trying to find\n",
            "going to get\n",
            "want to fight\n",
            "wanting to sock\n",
            "trying to take\n",
            "want to hear\n",
            "seemed to feel\n",
            "trying to help\n",
            "wait to get\n",
            "expect to escape\n",
            "try to fathom\n",
            "allowed to spend\n",
            "try to make\n",
            "wanted to know\n",
            "tried to get\n",
            "tempted to ask\n",
            "decided to tell\n",
            "surprised to find\n",
            "wished to show\n",
            "like to bring\n",
            "beg to inquire\n",
            "wanted to visit\n",
            "like to enact\n",
            "wished to create\n",
            "wish to deceive\n",
            "want to create\n",
            "going to take\n",
            "going to lose\n",
            "consented to meet\n",
            "rose to go\n",
            "chosen to read\n",
            "started to cross\n",
            "seemed to think\n",
            "started to undo\n",
            "longed to tell\n",
            "chose to read\n",
            "served to increase\n",
            "refused to bring\n",
            "got to stop\n",
            "want to take\n",
            "tried to order\n",
            "seeking to create\n",
            "hope to accomplish\n",
            "attempt to rise\n",
            "tried to rise\n",
            "began to crawl\n",
            "failed to reach\n",
            "began to creep\n",
            "began to crawl\n",
            "promised to take\n",
            "meant to shout\n",
            "longed to increase\n",
            "want to begin\n",
            "seemed to imply\n",
            "stopped to admire\n",
            "stayed to visit\n",
            "want to get\n",
            "tried to remember\n",
            "began to riffle\n",
            "promise to make\n",
            "like to travel\n",
            "tried to repair\n",
            "used to play\n",
            "beginning to thin\n",
            "fail to let\n",
            "lean to reach\n",
            "trying to get\n",
            "want to see\n",
            "beginning to see\n",
            "bother to wipe\n",
            "fit to shake\n",
            "going to wake\n",
            "care to get\n",
            "tried to stop\n",
            "expected to hear\n",
            "got to expect\n",
            "going to put\n",
            "got to thaw\n",
            "want to touch\n",
            "made to fall\n",
            "come to rest\n",
            "trying to attain\n",
            "stopped to gaze\n",
            "begun to turn\n",
            "beginning to cook\n",
            "began to develop\n",
            "begun to buy\n",
            "want to thin\n",
            "planned to graduate\n",
            "going to tell\n",
            "trying to get\n",
            "want to roast\n",
            "preferred to sit\n",
            "liked to sit\n",
            "seemed to come\n",
            "plan to conduct\n",
            "required to detect\n",
            "obliged to prepare\n",
            "began to rise\n",
            "attempting to hide\n",
            "begun to protest\n",
            "come to clean\n",
            "rose to put\n",
            "managed to persuade\n",
            "offered to prevail\n",
            "want to hear\n",
            "fumbling to untie\n",
            "want to leave\n",
            "going to work\n",
            "want to keep\n",
            "like to think\n",
            "began to wrap\n",
            "going to put\n",
            "agreed to correspond\n",
            "lived to see\n",
            "longing to fall\n",
            "ask to see\n",
            "seemed to stride\n",
            "agreed to think\n",
            "wished to spend\n",
            "dared to ask\n",
            "supposed to buy\n",
            "planning to greet\n",
            "began to wonder\n",
            "refused to let\n",
            "wanted to kill\n",
            "wanted to go\n",
            "seem to know\n",
            "going to become\n",
            "going to kill\n",
            "like to tell\n",
            "want to see\n",
            "get to come\n",
            "like to dance\n",
            "like to dance\n",
            "wanted to believe\n",
            "trying to put\n",
            "started to say\n",
            "Forgot to get\n",
            "started to say\n",
            "trying to make\n",
            "want to sit\n",
            "trying to get\n",
            "want to lease\n",
            "wanted to shadow\n",
            "trying to make\n",
            "tried to shadow\n",
            "going to join\n",
            "try to keep\n",
            "like to run\n",
            "wanted to case\n",
            "going to join\n",
            "wanted to hang\n",
            "go to pick\n",
            "began to back\n",
            "paused to feel\n",
            "decided to risk\n",
            "turned to face\n",
            "began to feel\n",
            "started to sweep\n",
            "startled to find\n",
            "meant to convey\n",
            "going to leave\n",
            "returning to seek\n",
            "bother to look\n",
            "try to run\n",
            "going to make\n",
            "began to wave\n",
            "gone to get\n",
            "Want to try\n",
            "going to call\n",
            "want to find\n",
            "want to see\n",
            "designed to put\n",
            "turned to see\n",
            "forced to use\n",
            "trying to drag\n",
            "start to angle\n",
            "tried to flatten\n",
            "managed to hunch\n",
            "brought to make\n",
            "surprised to find\n",
            "started to back\n",
            "want to try\n",
            "trying to catch\n",
            "used to keep\n",
            "forget to turn\n",
            "promised to observe\n",
            "started to plod\n",
            "tried to turn\n",
            "beginning to feel\n",
            "decided to indulge\n",
            "forgotten to turn\n",
            "meant to shut\n",
            "want to leave\n",
            "want to go\n",
            "got to remember\n",
            "got to put\n",
            "threaten to call\n",
            "need to take\n",
            "going to get\n",
            "get to know\n",
            "paused to look\n",
            "seemed to remember\n",
            "Happened to hear\n",
            "got to get\n",
            "begun to tell\n",
            "begun to question\n",
            "began to doubt\n",
            "wished to frighten\n",
            "need to break\n",
            "wished to make\n",
            "tried to give\n",
            "got to eat\n",
            "attempt to frighten\n",
            "trying to find\n",
            "want to talk\n",
            "refusing to bear\n",
            "Try to find\n",
            "want to go\n",
            "like to make\n",
            "going to go\n",
            "Remember to tell\n",
            "wanted to know\n",
            "tried to think\n",
            "tried to make\n",
            "began to nod\n",
            "began to sink\n",
            "tried to think\n",
            "tried to explain\n",
            "going to die\n",
            "going to die\n",
            "managed to cover\n",
            "going to believe\n",
            "expected to stand\n",
            "made to include\n",
            "bothering to whisper\n",
            "waiting to see\n",
            "agreed to fill\n",
            "waiting to report\n",
            "going to like\n",
            "going to louse\n",
            "installed to film\n",
            "going to see\n",
            "expect to get\n",
            "going to stand\n",
            "try to stop\n",
            "going to ask\n",
            "hoping to hear\n",
            "constrained to add\n",
            "wants to pass\n",
            "try to phone\n",
            "like to sing\n",
            "forced to undergo\n",
            "supposed to make\n",
            "wants to ask\n",
            "decided to let\n",
            "got to go\n",
            "tried to ignore\n",
            "going to keep\n",
            "startled to meet\n",
            "came to examine\n",
            "tried to bring\n",
            "reaching to release\n",
            "waiting to report\n",
            "used to paint\n",
            "Begin to look\n",
            "wanted to see\n",
            "Failing to find\n",
            "Try to forget\n",
            "seen to leave\n",
            "forced to give\n",
            "inclined to admit\n",
            "began to make\n",
            "professed to know\n",
            "asked to use\n",
            "leaving to keep\n",
            "fit to consult\n",
            "asked to see\n",
            "wanted to make\n",
            "continued to discharge\n",
            "seem to belong\n",
            "began to flicker\n",
            "trying to wreck\n",
            "fit to touch\n",
            "going to take\n",
            "trying to clear\n",
            "want to spend\n",
            "paused to look\n",
            "going to allow\n",
            "like to talk\n",
            "planning to set\n",
            "bent to examine\n",
            "turned to jump\n",
            "started to retch\n",
            "going to get\n",
            "come to recognize\n",
            "expected to report\n",
            "failed to see\n",
            "failed to notify\n",
            "failed to co-operate\n",
            "stopping to hear\n",
            "want to talk\n",
            "going to cost\n",
            "wanted to ask\n",
            "going to get\n",
            "going to swear\n",
            "tried to keep\n",
            "think to look\n",
            "tried to find\n",
            "bear to hold\n",
            "began to pace\n",
            "tried to tell\n",
            "intended to scare\n",
            "began to think\n",
            "hired to take\n",
            "going to send\n",
            "helped to create\n",
            "wanted to give\n",
            "led to believe\n",
            "trying to escape\n",
            "began to thrash\n",
            "get to work\n",
            "come to work\n",
            "want to see\n",
            "wanted to get\n",
            "want to go\n",
            "managed to swallow\n",
            "threatened to fire\n",
            "happen to see\n",
            "going to eat\n",
            "began to weep\n",
            "happens to ask\n",
            "want to rent\n",
            "Try to imagine\n",
            "promised to pay\n",
            "planning to remarry\n",
            "determined to get\n",
            "seemed to swell\n",
            "surprised to meet\n",
            "trying to tell\n",
            "known to run\n",
            "seem to preserve\n",
            "got to understand\n",
            "got to know\n",
            "came to ask\n",
            "asked to see\n",
            "began to abuse\n",
            "hurry to hang\n",
            "seemed to mind\n",
            "started to cross\n",
            "started to curse\n",
            "offering to buy\n",
            "began to feel\n",
            "seem to wink\n",
            "continued to stare\n",
            "beginning to feel\n",
            "like to listen\n",
            "want to study\n",
            "relieved to see\n",
            "seemed to notice\n",
            "decided to stay\n",
            "startled to see\n",
            "began to feel\n",
            "bothered to ask\n",
            "beginning to take\n",
            "began to wish\n",
            "want to encourage\n",
            "began to talk\n",
            "paused to moisten\n",
            "went to join\n",
            "got to go\n",
            "trying to get\n",
            "want to know\n",
            "want to take\n",
            "want to leave\n",
            "got to assume\n",
            "got to keep\n",
            "burning to light\n",
            "decided to leave\n",
            "set to stay\n",
            "going to kill\n",
            "go to bat\n",
            "stopped to cherish\n",
            "struggling to bridge\n",
            "learning to think\n",
            "delighted to encounter\n",
            "wanted to explain\n",
            "taught to grow\n",
            "Taught to grow\n",
            "opened to sell\n",
            "required to assume\n",
            "want to make\n",
            "got to hold\n",
            "want to inquire\n",
            "seemed to spend\n",
            "preoccupied to cook\n",
            "asked to speak\n",
            "pacing to stare\n",
            "wished to make\n",
            "began to build\n",
            "needed to carry\n",
            "meaning to live\n",
            "agreed to help\n",
            "agreed to take\n",
            "contract to let\n",
            "refused to believe\n",
            "meant to invade\n",
            "going to turn\n",
            "got to intercept\n",
            "permitted to go\n",
            "failed to anticipate\n",
            "needed to make\n",
            "use to make\n",
            "help to repel\n",
            "seems to shield\n",
            "pretending to sleep\n",
            "threatening to report\n",
            "seem to concentrate\n",
            "want to give\n",
            "trying to pull\n",
            "adjusted to operate\n",
            "like to see\n",
            "bent to observe\n",
            "forced to accompany\n",
            "fear to tread\n",
            "programed to compute\n",
            "remember to program\n",
            "directed to develop\n",
            "schooled to examine\n",
            "appeared to require\n",
            "encouraged to develop\n",
            "remembered to introduce\n",
            "guided to make\n",
            "tried to run\n",
            "tried to tell\n",
            "tried to ask\n",
            "want to ask\n",
            "going to come\n",
            "going to happen\n",
            "going to happen\n",
            "going to take\n",
            "inclined to think\n",
            "manage to follow\n",
            "wanting to tell\n",
            "tried to write\n",
            "exhausted to stay\n",
            "afford to lose\n",
            "afford to pay\n",
            "used to work\n",
            "going to give\n",
            "began to rock\n",
            "tried to call\n",
            "stoop to catch\n",
            "began to paw\n",
            "began to nod\n",
            "hate to leave\n",
            "want to leave\n",
            "groped to reassemble\n",
            "begun to blow\n",
            "began to dissolve\n",
            "meant to help\n",
            "began to tire\n",
            "riding to kill\n",
            "got to get\n",
            "trying to decide\n",
            "try to cut\n",
            "began to weep\n",
            "going to walk\n",
            "tried to veer\n",
            "managed to bat\n",
            "Try to find\n",
            "began to explode\n",
            "racing to join\n",
            "began to snap\n",
            "began to buckle\n",
            "want to go\n",
            "seem to think\n",
            "goin' to move\n",
            "goin' to go\n",
            "goin' to help\n",
            "employed to live\n",
            "trying to keep\n",
            "try to cut\n",
            "going to wait\n",
            "started to slump\n",
            "started to run\n",
            "goin' to kill\n",
            "fighting to hold\n",
            "started to slump\n",
            "forgot to aim\n",
            "started to raise\n",
            "seem to tell\n",
            "want to see\n",
            "meant to insult\n",
            "meant to say\n",
            "tried to step\n",
            "tried to break\n",
            "seemed to pull\n",
            "seemed to change\n",
            "want to know\n",
            "start to work\n",
            "straining to stay\n",
            "Go to sleep\n",
            "stop to graze\n",
            "bothered to speak\n",
            "attempted to salvage\n",
            "seemed to indicate\n",
            "attempted to form\n",
            "tried to pick\n",
            "appeared to disapprove\n",
            "expected to find\n",
            "decided to see\n",
            "go to look\n",
            "wished to prepare\n",
            "hoping to see\n",
            "cease to feel\n",
            "forced to admit\n",
            "expect to see\n",
            "liked to liberate\n",
            "relieved to see\n",
            "try to thank\n",
            "like to starve\n",
            "hoped to succeed\n",
            "hated to answer\n",
            "got to get\n",
            "swung to see\n",
            "offered to walk\n",
            "wanted to avoid\n",
            "dared to enter\n",
            "failing to understand\n",
            "pause to consider\n",
            "chose to ignore\n",
            "dare to face\n",
            "continued to move\n",
            "started to brush\n",
            "trying to focus\n",
            "tried to fling\n",
            "want to tell\n",
            "attempted to kiss\n",
            "going to listen\n",
            "going to listen\n",
            "want to miss\n",
            "goin' to say\n",
            "going to take\n",
            "supposed to walk\n",
            "waiting to catch\n",
            "like to bother\n",
            "attempted to push\n",
            "going to kill\n",
            "going to kill\n",
            "trying to keep\n",
            "seeming to like\n",
            "got to take\n",
            "going to need\n",
            "want to put\n",
            "hoped to catch\n",
            "went to look\n",
            "wanting to unlock\n",
            "amazed to see\n",
            "refused to give\n",
            "tried to lift\n",
            "forced to agree\n",
            "fails to substantiate\n",
            "wants to see\n",
            "beginning to get\n",
            "continued to smile\n",
            "turned to add\n",
            "wanted to get\n",
            "continued to snort\n",
            "started to reach\n",
            "beginning to recover\n",
            "going to talk\n",
            "like to kill\n",
            "going to hear\n",
            "wanted to hear\n",
            "came to investigate\n",
            "managed to duck\n",
            "began to focus\n",
            "trying to yank\n",
            "began to snort\n",
            "wanted to show\n",
            "tried to start\n",
            "going to let\n",
            "going to fight\n",
            "attempting to speak\n",
            "longing to catch\n",
            "rejoicing to think\n",
            "like to get\n",
            "tried to go\n",
            "seemed to make\n",
            "aim to give\n",
            "want to trade\n",
            "beginning to turn\n",
            "forced to maintain\n",
            "hope to locate\n",
            "paused to gather\n",
            "bothering to note\n",
            "turned to survey\n",
            "started to struggle\n",
            "started to return\n",
            "pretended to give\n",
            "served to increase\n",
            "determined to drive\n",
            "try to go\n",
            "began to run\n",
            "continued to come\n",
            "continued to camouflage\n",
            "Forced to realize\n",
            "trying to grab\n",
            "trying to read\n",
            "began to drink\n",
            "started to slide\n",
            "mean to pry\n",
            "going to sell\n",
            "pleased to hear\n",
            "starting to itch\n",
            "like to think\n",
            "supposed to meet\n",
            "wait to get\n",
            "seem to dwell\n",
            "feared to dwell\n",
            "tried to date\n",
            "trying to cut\n",
            "beginning to collect\n",
            "determined to find\n",
            "put to use\n",
            "determined to spend\n",
            "hoping to escape\n",
            "pleased to note\n",
            "calculated to glamorize\n",
            "began to explain\n",
            "want to see\n",
            "wanted to turn\n",
            "began to whip\n",
            "failed to find\n",
            "meant to save\n",
            "wanted to waste\n",
            "want to get\n",
            "going to explode\n",
            "seemed to disintegrate\n",
            "intended to propitiate\n",
            "embarrassing to see\n",
            "going to keel\n",
            "seemed to enjoy\n",
            "like to know\n",
            "deserve to lie\n",
            "want to see\n",
            "pretending to joke\n",
            "used to try\n",
            "trying to look\n",
            "began to watch\n",
            "want to go\n",
            "seemed to sink\n",
            "began to ooze\n",
            "began to move\n",
            "seemed to know\n",
            "trying to talk\n",
            "continued to lash\n",
            "turned to look\n",
            "struggled to control\n",
            "deserved to live\n",
            "like to hunt\n",
            "left to say\n",
            "like to recognize\n",
            "wanting to fly\n",
            "dispatched to harry\n",
            "started to buckle\n",
            "began to crawl\n",
            "wanted to lose\n",
            "going to show\n",
            "going to give\n",
            "trying to size\n",
            "seemed to promise\n",
            "hate to run\n",
            "turned to face\n",
            "wish to enter\n",
            "intend to speak\n",
            "determined to make\n",
            "want to upset\n",
            "resolved to make\n",
            "left to distract\n",
            "vied to knock\n",
            "equipped to die\n",
            "tried to roll\n",
            "commenced to weep\n",
            "began to uncap\n",
            "going to get\n",
            "expected to risk\n",
            "decided to set\n",
            "seem to locate\n",
            "allowed to come\n",
            "allowed to leave\n",
            "sent to clean\n",
            "proceeded to disturb\n",
            "came to teach\n",
            "wait to get\n",
            "get to school\n",
            "beginning to stir\n",
            "got to get\n",
            "seemed to think\n",
            "trying to get\n",
            "struggling to get\n",
            "mean to pull\n",
            "got to take\n",
            "trying to think\n",
            "seeming to scream\n",
            "sought to make\n",
            "proceeded to give\n",
            "advised to flee\n",
            "like to hurt\n",
            "hurt to beat\n",
            "want to go\n",
            "chanced to glance\n",
            "vowed to take\n",
            "started to move\n",
            "began to sizzle\n",
            "cared to see\n",
            "time to pay\n",
            "determined to hold\n",
            "beginning to fold\n",
            "wanted to smoke\n",
            "seem to get\n",
            "trying to find\n",
            "like to keep\n",
            "seem to snap\n",
            "like to think\n",
            "beginning to find\n",
            "beginning to look\n",
            "going to last\n",
            "going to prove\n",
            "hoped to die\n",
            "gone to live\n",
            "stayed to get\n",
            "turned to go\n",
            "going to see\n",
            "going to laugh\n",
            "tried to bite\n",
            "seem to rise\n",
            "come to see\n",
            "got to know\n",
            "seem to take\n",
            "beginning to creep\n",
            "seemed to rain\n",
            "like to hear\n",
            "come to make\n",
            "started to move\n",
            "bent to pick\n",
            "permitted to operate\n",
            "beginning to get\n",
            "seemed to think\n",
            "tried to make\n",
            "wanted to present\n",
            "expected to stay\n",
            "wish to start\n",
            "got to run\n",
            "like to talk\n",
            "disappointed to find\n",
            "tried to reason\n",
            "trying to close\n",
            "want to help\n",
            "surprised to see\n",
            "trying to find\n",
            "neglected to play\n",
            "wanted to call\n",
            "like to offer\n",
            "want to say\n",
            "wished to see\n",
            "overheard to say\n",
            "like to get\n",
            "expected to perform\n",
            "going to bring\n",
            "seek to storm\n",
            "used to defend\n",
            "shocked to find\n",
            "hesitate to speak\n",
            "beginning to study\n",
            "grow to devote\n",
            "wish to turn\n",
            "going to fail\n",
            "wished to change\n",
            "wanted to take\n",
            "wanted to bring\n",
            "like to know\n",
            "intend to marry\n",
            "began to talk\n",
            "used to play\n",
            "trying to get\n",
            "happen to drive\n",
            "hating to get\n",
            "try to walk\n",
            "left to believe\n",
            "tried to rest\n",
            "dying to defend\n",
            "used to kid\n",
            "wanted to paint\n",
            "going to organize\n",
            "try to paint\n",
            "used to hang\n",
            "prepared to worship\n",
            "want to stir\n",
            "beginning to gather\n",
            "tried to believe\n",
            "used to say\n",
            "began to shudder\n",
            "come to understand\n",
            "come to see\n",
            "called to say\n",
            "decided to cremate\n",
            "want to meet\n",
            "impelled to kneel\n",
            "trying to touch\n",
            "trying to flatter\n",
            "trying to worry\n",
            "trying to worry\n",
            "want to go\n",
            "like to take\n",
            "wanted to know\n",
            "trying to get\n",
            "gone to purify\n",
            "waiting to see\n",
            "come to skirt\n",
            "trying to make\n",
            "go to sleep\n",
            "tried to emulate\n",
            "began to pulse\n",
            "amazed to find\n",
            "kneeling to tie\n",
            "trying to get\n",
            "trying to smile\n",
            "seemed to float\n",
            "tried to see\n",
            "stop to analyze\n",
            "supposed to joke\n",
            "supposed to handle\n",
            "want to ask\n",
            "got to admit\n",
            "tried to leave\n",
            "began to walk\n",
            "supposed to stay\n",
            "going to tell\n",
            "going to get\n",
            "intended to make\n",
            "began to zip\n",
            "obliged to roll\n",
            "want to stop\n",
            "going to marry\n",
            "liked to hear\n",
            "tempted to tell\n",
            "seemed to mark\n",
            "tried to explain\n",
            "managed to look\n",
            "needed to get\n",
            "answered to find\n",
            "afford to get\n",
            "started to look\n",
            "takes to get\n",
            "going to get\n",
            "tried to quiet\n",
            "trying to sound\n",
            "came to meet\n",
            "seemed to focus\n",
            "want to talk\n",
            "want to see\n",
            "wants to get\n",
            "went to turn\n",
            "surprised to find\n",
            "want to stay\n",
            "going to make\n",
            "hoped to dig\n",
            "trying to make\n",
            "going to lug\n",
            "surprised to see\n",
            "stop to read\n",
            "intended to move\n",
            "rising to sting\n",
            "arranged to live\n",
            "managed to find\n",
            "inclined to wobble\n",
            "supposed to care\n",
            "shuddered to think\n",
            "seemed to understand\n",
            "aroused to go\n",
            "hate to call\n",
            "wish to leave\n",
            "seemed to follow\n",
            "supposed to matter\n",
            "bothered to tell\n",
            "hesitate to use\n",
            "used to say\n",
            "try to persuade\n",
            "wanted to keep\n",
            "trying to keep\n",
            "blushed to admit\n",
            "want to continue\n",
            "chosen to represent\n",
            "want to leave\n",
            "wanted to work\n",
            "seemed to regard\n",
            "forbore to mention\n",
            "managed to open\n",
            "want to encourage\n",
            "want to watch\n",
            "remember to warn\n",
            "used to take\n",
            "want to use\n",
            "started to throw\n",
            "began to swing\n",
            "started to carry\n",
            "began to look\n",
            "going to happen\n",
            "began to walk\n",
            "trying to say\n",
            "trying to say\n",
            "started to say\n",
            "wants to take\n",
            "started to take\n",
            "began to fascinate\n",
            "left to spend\n",
            "seemed to work\n",
            "work to grow\n",
            "trying to talk\n",
            "lied to shorten\n",
            "trying to make\n",
            "wanted to force\n",
            "refused to take\n",
            "seemed to please\n",
            "grew to depend\n",
            "meant to tell\n",
            "trying to pull\n",
            "seemed to shiver\n",
            "trying to remember\n",
            "worked to recall\n",
            "wished to call\n",
            "seemed to stare\n",
            "began to tremble\n",
            "refusing to think\n",
            "refusing to think\n",
            "hoping to frighten\n",
            "wanted to run\n",
            "began to ache\n",
            "began to bother\n",
            "tried to take\n",
            "wanted to kill\n",
            "stopped to see\n",
            "going to tell\n",
            "going to push\n",
            "wanted to slap\n",
            "started to type\n",
            "helped to build\n",
            "refused to drive\n",
            "wanted to go\n",
            "likes to play\n",
            "like to rise\n",
            "tried to push\n",
            "trying to run\n",
            "tried to make\n",
            "used to say\n",
            "come to exist\n",
            "fit to put\n",
            "stoop to lift\n",
            "wanted to draw\n",
            "going to pick\n",
            "intended to wait\n",
            "determined to foil\n",
            "strode to answer\n",
            "trusted to carry\n",
            "seemed to help\n",
            "chose to come\n",
            "tried to ignore\n",
            "liked to break\n",
            "began to aid\n",
            "going to tear\n",
            "like to exhibit\n",
            "forced to make\n",
            "hate to admit\n",
            "got to decide\n",
            "tried to sell\n",
            "try to swing\n",
            "expect to call\n",
            "paused to get\n",
            "proceeded to search\n",
            "began to suspect\n",
            "endeavoring to cut\n",
            "wanted to know\n",
            "daring to commit\n",
            "given to dig\n",
            "urged to attend\n",
            "refused to receive\n",
            "beckoned to cross\n",
            "taken to keep\n",
            "trying to hold\n",
            "managing to get\n",
            "promised to illustrate\n",
            "pretending to black\n",
            "wanted to remind\n",
            "Resolving to get\n",
            "started to start\n",
            "starting to woolgather\n",
            "bound to get\n",
            "wanted to keep\n",
            "looked to see\n",
            "chosen to complement\n",
            "live to hear\n",
            "leaping to light\n",
            "trying to prove\n",
            "trying to determine\n",
            "supposed to put\n",
            "proceeded to neglect\n",
            "care to count\n",
            "shuddered to think\n",
            "telephoned to announce\n",
            "neglected to consider\n",
            "trouble to memorize\n",
            "deigned to appear\n",
            "seemed to understand\n",
            "try to revive\n",
            "seemed to produce\n",
            "returning to jump\n",
            "tried to farm\n",
            "going to set\n",
            "turned to stare\n",
            "seem to think\n",
            "liked to hire\n",
            "remember to telephone\n",
            "like to work\n",
            "like to disclose\n",
            "got to put\n",
            "got to run\n",
            "waiting to get\n",
            "need to worry\n",
            "seems to think\n",
            "tries to baffle\n",
            "mean to reconsider\n",
            "refused to make\n",
            "seems to make\n",
            "seems to refer\n",
            "seems to say\n",
            "delighted to meet\n",
            "like to know\n",
            "regret to say\n",
            "seems to refer\n",
            "come to talk\n",
            "seem to remember\n",
            "want to hear\n",
            "trying to get\n",
            "forgot to say\n",
            "seemed to believe\n",
            "wanted to get\n",
            "wanted to see\n",
            "wanted to touch\n",
            "got to entertain\n",
            "tried to keep\n",
            "going to tell\n",
            "thought to mix\n",
            "going to jump\n",
            "beginning to catch\n",
            "try to see\n",
            "phoned to say\n",
            "bothering to look\n",
            "forced to wipe\n",
            "used to pretend\n",
            "refused to approach\n",
            "used to express\n",
            "proceeds to lash\n",
            "used to hang\n",
            "seeks to expunge\n",
            "trying to redeem\n",
            "seemed to take\n",
            "tried to conceal\n",
            "came to know\n",
            "refuses to continue\n",
            "continue to scrape\n",
            "given to understand\n",
            "propose to vent\n",
            "proceeded to mask\n",
            "withhold to keep\n",
            "begin to wither\n",
            "help to intensify\n",
            "seems to overtake\n",
            "want to buy\n"
          ],
          "name": "stdout"
        }
      ]
    },
    {
      "cell_type": "code",
      "metadata": {
        "colab": {
          "base_uri": "https://localhost:8080/"
        },
        "id": "xfx0XfSLLNo9",
        "outputId": "40a57ddc-e06f-41eb-c39e-ca497c4c5193"
      },
      "source": [
        "brown_news_tagged = brown.tagged_words(categories='news', tagset='universal')\n",
        "data = nltk.ConditionalFreqDist((word.lower(), tag)\n",
        "                                for (word, tag) in brown_news_tagged)\n",
        "for word in sorted(data.conditions()):\n",
        "    if len(data[word]) > 3:\n",
        "        tags = [tag for tag, _ in data[word].most_common()]\n",
        "        print(word, \" \".join(tags))"
      ],
      "execution_count": 39,
      "outputs": [
        {
          "output_type": "stream",
          "text": [
            "best ADJ ADV VERB NOUN\n",
            "close ADV ADJ VERB NOUN\n",
            "open ADJ VERB NOUN ADV\n",
            "present ADJ ADV NOUN VERB\n",
            "that ADP DET PRON ADV\n"
          ],
          "name": "stdout"
        }
      ]
    },
    {
      "cell_type": "code",
      "metadata": {
        "id": "GgN2X6RhNjxf"
      },
      "source": [
        "brown_ = brown.tagged_words()"
      ],
      "execution_count": 40,
      "outputs": []
    },
    {
      "cell_type": "code",
      "metadata": {
        "colab": {
          "base_uri": "https://localhost:8080/"
        },
        "id": "e0ZbVAi5PKg-",
        "outputId": "d8efbc4c-d1b7-43f4-8a6d-d10b93d6ab1c"
      },
      "source": [
        "for tag_words in brown_:\n",
        "    if tag_words[0] == 'left':\n",
        "        print(tag_words)"
      ],
      "execution_count": 41,
      "outputs": [
        {
          "output_type": "stream",
          "text": [
            "('left', 'VBD')\n",
            "('left', 'VBN')\n",
            "('left', 'JJ')\n",
            "('left', 'VBN')\n",
            "('left', 'VBN')\n",
            "('left', 'VBN')\n",
            "('left', 'VBD')\n",
            "('left', 'JJ')\n",
            "('left', 'JJ')\n",
            "('left', 'VBD')\n",
            "('left', 'NR')\n",
            "('left', 'JJ')\n",
            "('left', 'JJ')\n",
            "('left', 'JJ')\n",
            "('left', 'NR')\n",
            "('left', 'JJ')\n",
            "('left', 'JJ')\n",
            "('left', 'NR')\n",
            "('left', 'NR')\n",
            "('left', 'NR')\n",
            "('left', 'VBD')\n",
            "('left', 'VBN')\n",
            "('left', 'VBD')\n",
            "('left', 'JJ')\n",
            "('left', 'VBD')\n",
            "('left', 'VBN')\n",
            "('left', 'NR')\n",
            "('left', 'VBD')\n",
            "('left', 'JJ')\n",
            "('left', 'VBD')\n",
            "('left', 'VBD')\n",
            "('left', 'VBD')\n",
            "('left', 'VBD')\n",
            "('left', 'VBD')\n",
            "('left', 'VBD')\n",
            "('left', 'NR')\n",
            "('left', 'VBD')\n",
            "('left', 'VBD')\n",
            "('left', 'VBD')\n",
            "('left', 'VBD')\n",
            "('left', 'NN')\n",
            "('left', 'VBD')\n",
            "('left', 'VBN')\n",
            "('left', 'VBN')\n",
            "('left', 'VBD')\n",
            "('left', 'VBN')\n",
            "('left', 'VBN')\n",
            "('left', 'JJ')\n",
            "('left', 'JJ')\n",
            "('left', 'VBD')\n",
            "('left', 'VBD')\n",
            "('left', 'NR')\n",
            "('left', 'JJ')\n",
            "('left', 'JJ')\n",
            "('left', 'VBN')\n",
            "('left', 'VBN')\n",
            "('left', 'VBN')\n",
            "('left', 'VBN')\n",
            "('left', 'VBN')\n",
            "('left', 'VBN')\n",
            "('left', 'VBN')\n",
            "('left', 'VBN')\n",
            "('left', 'VBN')\n",
            "('left', 'VBD')\n",
            "('left', 'VBN')\n",
            "('left', 'VBN')\n",
            "('left', 'VBN')\n",
            "('left', 'NR')\n",
            "('left', 'NR')\n",
            "('left', 'VBN')\n",
            "('left', 'VBN')\n",
            "('left', 'JJ')\n",
            "('left', 'VBN')\n",
            "('left', 'VBN')\n",
            "('left', 'VBN')\n",
            "('left', 'VBD')\n",
            "('left', 'VBN')\n",
            "('left', 'VBD')\n",
            "('left', 'VBN')\n",
            "('left', 'VBN')\n",
            "('left', 'VBN')\n",
            "('left', 'VBN')\n",
            "('left', 'VBN')\n",
            "('left', 'VBN')\n",
            "('left', 'NN')\n",
            "('left', 'VBN')\n",
            "('left', 'VBD')\n",
            "('left', 'VBD')\n",
            "('left', 'VBN')\n",
            "('left', 'VBN')\n",
            "('left', 'VBN')\n",
            "('left', 'VBN')\n",
            "('left', 'JJ')\n",
            "('left', 'VBN')\n",
            "('left', 'JJ')\n",
            "('left', 'NR')\n",
            "('left', 'NR')\n",
            "('left', 'JJ')\n",
            "('left', 'NR')\n",
            "('left', 'VBD')\n",
            "('left', 'JJ')\n",
            "('left', 'VBD')\n",
            "('left', 'NR')\n",
            "('left', 'VBN')\n",
            "('left', 'NR')\n",
            "('left', 'NR')\n",
            "('left', 'NR')\n",
            "('left', 'NR')\n",
            "('left', 'NR')\n",
            "('left', 'NR')\n",
            "('left', 'NR')\n",
            "('left', 'NR')\n",
            "('left', 'NR')\n",
            "('left', 'NR')\n",
            "('left', 'NR')\n",
            "('left', 'NR')\n",
            "('left', 'NR')\n",
            "('left', 'NR')\n",
            "('left', 'VBD')\n",
            "('left', 'NR')\n",
            "('left', 'NR')\n",
            "('left', 'VBN')\n",
            "('left', 'VBD')\n",
            "('left', 'VBN')\n",
            "('left', 'JJ')\n",
            "('left', 'JJ')\n",
            "('left', 'JJ')\n",
            "('left', 'JJ')\n",
            "('left', 'VBD')\n",
            "('left', 'VBN')\n",
            "('left', 'VBN')\n",
            "('left', 'JJ')\n",
            "('left', 'VBN')\n",
            "('left', 'VBD')\n",
            "('left', 'NR')\n",
            "('left', 'VBN')\n",
            "('left', 'VBD')\n",
            "('left', 'NR')\n",
            "('left', 'VBN')\n",
            "('left', 'JJ')\n",
            "('left', 'NR')\n",
            "('left', 'VBD')\n",
            "('left', 'VBN')\n",
            "('left', 'VBD')\n",
            "('left', 'NR')\n",
            "('left', 'VBN')\n",
            "('left', 'VBD')\n",
            "('left', 'VBN')\n",
            "('left', 'VBD')\n",
            "('left', 'VBD')\n",
            "('left', 'VBN')\n",
            "('left', 'VBD')\n",
            "('left', 'VBD')\n",
            "('left', 'VBN')\n",
            "('left', 'VBN')\n",
            "('left', 'VBN')\n",
            "('left', 'VBD')\n",
            "('left', 'VBD')\n",
            "('left', 'VBD')\n",
            "('left', 'VBN')\n",
            "('left', 'VBN')\n",
            "('left', 'VBN')\n",
            "('left', 'NR')\n",
            "('left', 'NR')\n",
            "('left', 'NR')\n",
            "('left', 'NR')\n",
            "('left', 'VBD')\n",
            "('left', 'VBD')\n",
            "('left', 'VBN')\n",
            "('left', 'VBD')\n",
            "('left', 'NR')\n",
            "('left', 'VBN')\n",
            "('left', 'VBD')\n",
            "('left', 'VBD')\n",
            "('left', 'VBN')\n",
            "('left', 'VBD')\n",
            "('left', 'VBD')\n",
            "('left', 'VBD')\n",
            "('left', 'VBD')\n",
            "('left', 'VBN')\n",
            "('left', 'VBN')\n",
            "('left', 'VBN')\n",
            "('left', 'VBN')\n",
            "('left', 'VBN')\n",
            "('left', 'VBD')\n",
            "('left', 'JJ')\n",
            "('left', 'VBN')\n",
            "('left', 'VBD')\n",
            "('left', 'VBD')\n",
            "('left', 'VBD')\n",
            "('left', 'VBN')\n",
            "('left', 'VBD')\n",
            "('left', 'VBN')\n",
            "('left', 'NR')\n",
            "('left', 'VBD')\n",
            "('left', 'VBN')\n",
            "('left', 'VBD')\n",
            "('left', 'JJ')\n",
            "('left', 'NR')\n",
            "('left', 'VBD')\n",
            "('left', 'VBD')\n",
            "('left', 'VBD')\n",
            "('left', 'VBN')\n",
            "('left', 'VBN')\n",
            "('left', 'VBN')\n",
            "('left', 'VBN')\n",
            "('left', 'NR')\n",
            "('left', 'VBN')\n",
            "('left', 'VBD')\n",
            "('left', 'VBN')\n",
            "('left', 'VBD')\n",
            "('left', 'VBD')\n",
            "('left', 'VBD')\n",
            "('left', 'VBD')\n",
            "('left', 'VBD')\n",
            "('left', 'VBN')\n",
            "('left', 'VBD')\n",
            "('left', 'VBN')\n",
            "('left', 'VBN')\n",
            "('left', 'VBN')\n",
            "('left', 'VBN')\n",
            "('left', 'NR')\n",
            "('left', 'JJ')\n",
            "('left', 'JJ')\n",
            "('left', 'JJ')\n",
            "('left', 'JJ')\n",
            "('left', 'JJ')\n",
            "('left', 'JJ')\n",
            "('left', 'NR')\n",
            "('left', 'NR')\n",
            "('left', 'VBN')\n",
            "('left', 'VBN')\n",
            "('left', 'VBD')\n",
            "('left', 'VBN')\n",
            "('left', 'JJ')\n",
            "('left', 'VBN')\n",
            "('left', 'VBD')\n",
            "('left', 'VBN')\n",
            "('left', 'VBN')\n",
            "('left', 'VBN')\n",
            "('left', 'VBN')\n",
            "('left', 'VBN')\n",
            "('left', 'VBN')\n",
            "('left', 'VBN')\n",
            "('left', 'JJ')\n",
            "('left', 'VBD')\n",
            "('left', 'VBD')\n",
            "('left', 'VBN')\n",
            "('left', 'VBN')\n",
            "('left', 'VBN')\n",
            "('left', 'VBD')\n",
            "('left', 'VBN')\n",
            "('left', 'VBN')\n",
            "('left', 'VBN')\n",
            "('left', 'VBD')\n",
            "('left', 'VBN')\n",
            "('left', 'VBN')\n",
            "('left', 'VBN')\n",
            "('left', 'NR')\n",
            "('left', 'VBN')\n",
            "('left', 'VBN')\n",
            "('left', 'VBN')\n",
            "('left', 'VBD')\n",
            "('left', 'VBN')\n",
            "('left', 'VBN')\n",
            "('left', 'VBN')\n",
            "('left', 'VBD')\n",
            "('left', 'VBN')\n",
            "('left', 'VBN')\n",
            "('left', 'JJ')\n",
            "('left', 'VBD')\n",
            "('left', 'VBN')\n",
            "('left', 'VBN')\n",
            "('left', 'VBN')\n",
            "('left', 'VBD')\n",
            "('left', 'VBN')\n",
            "('left', 'VBD')\n",
            "('left', 'VBD')\n",
            "('left', 'VBD')\n",
            "('left', 'VBD')\n",
            "('left', 'VBD')\n",
            "('left', 'VBN')\n",
            "('left', 'VBN')\n",
            "('left', 'VBN')\n",
            "('left', 'VBD')\n",
            "('left', 'VBN')\n",
            "('left', 'VBN')\n",
            "('left', 'VBD')\n",
            "('left', 'VBD')\n",
            "('left', 'VBD')\n",
            "('left', 'VBN')\n",
            "('left', 'VBD')\n",
            "('left', 'VBD')\n",
            "('left', 'NR')\n",
            "('left', 'VBD')\n",
            "('left', 'VBN')\n",
            "('left', 'VBD')\n",
            "('left', 'JJ')\n",
            "('left', 'VBD')\n",
            "('left', 'VBN')\n",
            "('left', 'VBD')\n",
            "('left', 'JJ')\n",
            "('left', 'JJ')\n",
            "('left', 'VBN')\n",
            "('left', 'VBD')\n",
            "('left', 'VBD')\n",
            "('left', 'VBD')\n",
            "('left', 'NR')\n",
            "('left', 'JJ')\n",
            "('left', 'NR')\n",
            "('left', 'NR')\n",
            "('left', 'NR')\n",
            "('left', 'VBN')\n",
            "('left', 'VBN')\n",
            "('left', 'VBD')\n",
            "('left', 'VBN')\n",
            "('left', 'VBN')\n",
            "('left', 'JJ')\n",
            "('left', 'NR')\n",
            "('left', 'NR')\n",
            "('left', 'JJ')\n",
            "('left', 'JJ')\n",
            "('left', 'JJ')\n",
            "('left', 'JJ')\n",
            "('left', 'VBD')\n",
            "('left', 'VBD')\n",
            "('left', 'VBD')\n",
            "('left', 'NR')\n",
            "('left', 'VBN')\n",
            "('left', 'VBN')\n",
            "('left', 'VBN')\n",
            "('left', 'VBD')\n",
            "('left', 'VBN')\n",
            "('left', 'VBD')\n",
            "('left', 'VBD')\n",
            "('left', 'VBD')\n",
            "('left', 'VBD')\n",
            "('left', 'VBD')\n",
            "('left', 'VBD')\n",
            "('left', 'VBD')\n",
            "('left', 'VBD')\n",
            "('left', 'VBN')\n",
            "('left', 'VBN')\n",
            "('left', 'VBN')\n",
            "('left', 'VBN')\n",
            "('left', 'VBD')\n",
            "('left', 'VBD')\n",
            "('left', 'JJ')\n",
            "('left', 'NR')\n",
            "('left', 'NR')\n",
            "('left', 'VBN')\n",
            "('left', 'VBD')\n",
            "('left', 'VBN')\n",
            "('left', 'VBN')\n",
            "('left', 'VBD')\n",
            "('left', 'JJ')\n",
            "('left', 'VBD')\n",
            "('left', 'VBN')\n",
            "('left', 'VBN')\n",
            "('left', 'VBD')\n",
            "('left', 'VBN')\n",
            "('left', 'VBN')\n",
            "('left', 'VBN')\n",
            "('left', 'VBD')\n",
            "('left', 'VBN')\n",
            "('left', 'VBN')\n",
            "('left', 'VBD')\n",
            "('left', 'VBD')\n",
            "('left', 'JJ')\n",
            "('left', 'VBN')\n",
            "('left', 'VBD')\n",
            "('left', 'VBN')\n",
            "('left', 'VBD')\n",
            "('left', 'VBD')\n",
            "('left', 'NR')\n",
            "('left', 'VBN')\n",
            "('left', 'VBN')\n",
            "('left', 'VBN')\n",
            "('left', 'JJ')\n",
            "('left', 'VBN')\n",
            "('left', 'JJ')\n",
            "('left', 'VBN')\n",
            "('left', 'VBN')\n",
            "('left', 'VBD')\n",
            "('left', 'JJ')\n",
            "('left', 'JJ')\n",
            "('left', 'NR')\n",
            "('left', 'VBD')\n",
            "('left', 'VBD')\n",
            "('left', 'NR')\n",
            "('left', 'NR')\n",
            "('left', 'VBD')\n",
            "('left', 'JJ')\n",
            "('left', 'JJ')\n",
            "('left', 'VBD')\n",
            "('left', 'NR')\n",
            "('left', 'NR')\n",
            "('left', 'VBD')\n",
            "('left', 'VBN')\n",
            "('left', 'VBN')\n",
            "('left', 'NR')\n",
            "('left', 'VBD')\n",
            "('left', 'VBN')\n",
            "('left', 'JJ')\n",
            "('left', 'NR')\n",
            "('left', 'VBN')\n",
            "('left', 'JJ')\n",
            "('left', 'JJ')\n",
            "('left', 'JJ')\n",
            "('left', 'VBD')\n",
            "('left', 'VBD')\n",
            "('left', 'VBD')\n",
            "('left', 'VBD')\n",
            "('left', 'VBD')\n",
            "('left', 'VBN')\n",
            "('left', 'VBN')\n",
            "('left', 'VBD')\n",
            "('left', 'VBN')\n",
            "('left', 'VBN')\n",
            "('left', 'VBN')\n",
            "('left', 'VBD')\n",
            "('left', 'VBD')\n",
            "('left', 'JJ')\n",
            "('left', 'VBD')\n",
            "('left', 'VBD')\n",
            "('left', 'VBN')\n",
            "('left', 'VBN')\n",
            "('left', 'VBD')\n",
            "('left', 'VBN')\n",
            "('left', 'JJ')\n",
            "('left', 'VBN')\n",
            "('left', 'VBN')\n",
            "('left', 'VBD')\n",
            "('left', 'VBN')\n",
            "('left', 'VBD')\n",
            "('left', 'VBD')\n",
            "('left', 'VBN')\n",
            "('left', 'VBD')\n",
            "('left', 'VBD')\n",
            "('left', 'VBD')\n",
            "('left', 'VBN')\n",
            "('left', 'JJ')\n",
            "('left', 'JJ')\n",
            "('left', 'NR')\n",
            "('left', 'NR')\n",
            "('left', 'VBN')\n",
            "('left', 'VBD')\n",
            "('left', 'JJ')\n",
            "('left', 'JJ')\n",
            "('left', 'JJ')\n",
            "('left', 'JJ')\n",
            "('left', 'JJ')\n",
            "('left', 'VBD')\n",
            "('left', 'VBD')\n",
            "('left', 'VBD')\n",
            "('left', 'VBD')\n",
            "('left', 'VBD')\n",
            "('left', 'VBN')\n",
            "('left', 'VBN')\n",
            "('left', 'VBN')\n",
            "('left', 'VBD')\n",
            "('left', 'VBD')\n",
            "('left', 'VBD')\n",
            "('left', 'NR')\n",
            "('left', 'VBD')\n",
            "('left', 'VBN')\n",
            "('left', 'VBN')\n",
            "('left', 'VBN')\n",
            "('left', 'VBN')\n",
            "('left', 'JJ')\n",
            "('left', 'VBN')\n"
          ],
          "name": "stdout"
        }
      ]
    },
    {
      "cell_type": "markdown",
      "metadata": {
        "id": "LjQvs7J8P5j7"
      },
      "source": [
        "#### Mapping Words to Properties Using Python Dictionaries"
      ]
    },
    {
      "cell_type": "markdown",
      "metadata": {
        "id": "hWbr5YHvQ486"
      },
      "source": [
        "- Dictionary in Python"
      ]
    },
    {
      "cell_type": "code",
      "metadata": {
        "id": "q5_mYFqxTjb4"
      },
      "source": [
        "pos = {}"
      ],
      "execution_count": 42,
      "outputs": []
    },
    {
      "cell_type": "code",
      "metadata": {
        "colab": {
          "base_uri": "https://localhost:8080/"
        },
        "id": "YPsTbYOFTlTy",
        "outputId": "58dd6cc7-1330-42d8-c4be-6dd4021061ad"
      },
      "source": [
        "pos['colorless'] = 'ADJ'\n",
        "pos"
      ],
      "execution_count": 43,
      "outputs": [
        {
          "output_type": "execute_result",
          "data": {
            "text/plain": [
              "{'colorless': 'ADJ'}"
            ]
          },
          "metadata": {
            "tags": []
          },
          "execution_count": 43
        }
      ]
    },
    {
      "cell_type": "code",
      "metadata": {
        "colab": {
          "base_uri": "https://localhost:8080/"
        },
        "id": "5kushwWVTqrh",
        "outputId": "b0192613-42fd-44a1-a918-539092c43473"
      },
      "source": [
        "pos['ideas'] = \"N\"\n",
        "pos['sleep'] = 'V'\n",
        "pos[\"furiously\"] = \"ADV\"\n",
        "pos"
      ],
      "execution_count": 44,
      "outputs": [
        {
          "output_type": "execute_result",
          "data": {
            "text/plain": [
              "{'colorless': 'ADJ', 'furiously': 'ADV', 'ideas': 'N', 'sleep': 'V'}"
            ]
          },
          "metadata": {
            "tags": []
          },
          "execution_count": 44
        }
      ]
    },
    {
      "cell_type": "code",
      "metadata": {
        "colab": {
          "base_uri": "https://localhost:8080/",
          "height": 36
        },
        "id": "pT1PzvMRT3dy",
        "outputId": "0f3727b1-a69f-46dc-b2d8-48dbc8b1490c"
      },
      "source": [
        "pos['ideas']"
      ],
      "execution_count": 45,
      "outputs": [
        {
          "output_type": "execute_result",
          "data": {
            "application/vnd.google.colaboratory.intrinsic+json": {
              "type": "string"
            },
            "text/plain": [
              "'N'"
            ]
          },
          "metadata": {
            "tags": []
          },
          "execution_count": 45
        }
      ]
    },
    {
      "cell_type": "code",
      "metadata": {
        "colab": {
          "base_uri": "https://localhost:8080/",
          "height": 36
        },
        "id": "P06L4cUJUCCB",
        "outputId": "e85b4c13-8769-49ec-d6ad-56b3834d24f0"
      },
      "source": [
        "pos['colorless']"
      ],
      "execution_count": 46,
      "outputs": [
        {
          "output_type": "execute_result",
          "data": {
            "application/vnd.google.colaboratory.intrinsic+json": {
              "type": "string"
            },
            "text/plain": [
              "'ADJ'"
            ]
          },
          "metadata": {
            "tags": []
          },
          "execution_count": 46
        }
      ]
    },
    {
      "cell_type": "code",
      "metadata": {
        "colab": {
          "base_uri": "https://localhost:8080/"
        },
        "id": "1caFf7tqUD0c",
        "outputId": "f7942629-a5e8-45d4-ba62-215e2607aef7"
      },
      "source": [
        "print(list(pos))\n",
        "print(sorted(pos))\n",
        "print([w for w in pos if w.endswith('s')])"
      ],
      "execution_count": 47,
      "outputs": [
        {
          "output_type": "stream",
          "text": [
            "['colorless', 'ideas', 'sleep', 'furiously']\n",
            "['colorless', 'furiously', 'ideas', 'sleep']\n",
            "['colorless', 'ideas']\n"
          ],
          "name": "stdout"
        }
      ]
    },
    {
      "cell_type": "code",
      "metadata": {
        "colab": {
          "base_uri": "https://localhost:8080/"
        },
        "id": "ZL2v87DuUfno",
        "outputId": "371ff6f7-4e03-49b8-f03e-eebe1d7e8222"
      },
      "source": [
        "print(list(pos.keys()))\n",
        "print(list(pos.values()))\n",
        "print(list(pos.items()))"
      ],
      "execution_count": 48,
      "outputs": [
        {
          "output_type": "stream",
          "text": [
            "['colorless', 'ideas', 'sleep', 'furiously']\n",
            "['ADJ', 'N', 'V', 'ADV']\n",
            "[('colorless', 'ADJ'), ('ideas', 'N'), ('sleep', 'V'), ('furiously', 'ADV')]\n"
          ],
          "name": "stdout"
        }
      ]
    },
    {
      "cell_type": "markdown",
      "metadata": {
        "id": "FKdKD8yTVMQ0"
      },
      "source": [
        "- Defining Dictionaries"
      ]
    },
    {
      "cell_type": "code",
      "metadata": {
        "id": "1yonSy2rV3Pn"
      },
      "source": [
        "pos = {'colorless': 'ADJ', 'ideas': 'N', 'sleep': 'V', 'furiously': 'ADV'}\n",
        "pos = dict(colorless='ADJ', ideas=\"N\", sleep=\"V\", furiously=\"ADV\")"
      ],
      "execution_count": 49,
      "outputs": []
    },
    {
      "cell_type": "markdown",
      "metadata": {
        "id": "2lZ7pxW4WKaz"
      },
      "source": [
        "- Deafult Dictionaries"
      ]
    },
    {
      "cell_type": "code",
      "metadata": {
        "colab": {
          "base_uri": "https://localhost:8080/",
          "height": 36
        },
        "id": "B7wJarKhWPxZ",
        "outputId": "b4544f26-b6f9-4a0d-c227-1616986c3625"
      },
      "source": [
        "from collections import defaultdict\n",
        "frequency = defaultdict(str)\n",
        "frequency['colorless'] = 4\n",
        "frequency['ideas']"
      ],
      "execution_count": 50,
      "outputs": [
        {
          "output_type": "execute_result",
          "data": {
            "application/vnd.google.colaboratory.intrinsic+json": {
              "type": "string"
            },
            "text/plain": [
              "''"
            ]
          },
          "metadata": {
            "tags": []
          },
          "execution_count": 50
        }
      ]
    },
    {
      "cell_type": "code",
      "metadata": {
        "colab": {
          "base_uri": "https://localhost:8080/",
          "height": 36
        },
        "id": "ArYBhnrpWjJe",
        "outputId": "501cf63e-ba44-413a-fb9c-18faa27128ff"
      },
      "source": [
        "pos = defaultdict(lambda : \"NOUN\")\n",
        "pos['colorless'] = 'ADJ'\n",
        "pos['blog']"
      ],
      "execution_count": 51,
      "outputs": [
        {
          "output_type": "execute_result",
          "data": {
            "application/vnd.google.colaboratory.intrinsic+json": {
              "type": "string"
            },
            "text/plain": [
              "'NOUN'"
            ]
          },
          "metadata": {
            "tags": []
          },
          "execution_count": 51
        }
      ]
    },
    {
      "cell_type": "code",
      "metadata": {
        "colab": {
          "base_uri": "https://localhost:8080/"
        },
        "id": "AAGMtmsFYVrX",
        "outputId": "692a29a4-8270-4b89-f241-3f79092834a2"
      },
      "source": [
        "list(pos.items())"
      ],
      "execution_count": 52,
      "outputs": [
        {
          "output_type": "execute_result",
          "data": {
            "text/plain": [
              "[('colorless', 'ADJ'), ('blog', 'NOUN')]"
            ]
          },
          "metadata": {
            "tags": []
          },
          "execution_count": 52
        }
      ]
    },
    {
      "cell_type": "code",
      "metadata": {
        "colab": {
          "base_uri": "https://localhost:8080/"
        },
        "id": "2KTOBWRHY9mz",
        "outputId": "0b836b37-b9ca-4c50-cebc-213730c7a6a6"
      },
      "source": [
        "alice = nltk.corpus.gutenberg.words('carroll-alice.txt')\n",
        "vocab = nltk.FreqDist(alice)\n",
        "v1000 = [word for (word, _) in vocab.most_common(1000)]\n",
        "mapping = defaultdict(lambda: 'UNK')\n",
        "for v in v1000:\n",
        "    mapping[v] = v\n",
        "\n",
        "alice2 = [mapping[v] for v in alice]\n",
        "print(alice2[:100]) \n",
        "print(len(set(alice2)))"
      ],
      "execution_count": 53,
      "outputs": [
        {
          "output_type": "stream",
          "text": [
            "['[', 'Alice', \"'\", 's', 'Adventures', 'in', 'Wonderland', 'by', 'UNK', 'UNK', 'UNK', 'UNK', 'CHAPTER', 'I', '.', 'Down', 'the', 'Rabbit', '-', 'UNK', 'Alice', 'was', 'beginning', 'to', 'get', 'very', 'tired', 'of', 'sitting', 'by', 'her', 'sister', 'on', 'the', 'bank', ',', 'and', 'of', 'having', 'nothing', 'to', 'do', ':', 'once', 'or', 'twice', 'she', 'had', 'peeped', 'into', 'the', 'book', 'her', 'sister', 'was', 'reading', ',', 'but', 'it', 'had', 'no', 'pictures', 'or', 'UNK', 'in', 'it', ',', \"'\", 'and', 'what', 'is', 'the', 'use', 'of', 'a', 'book', \",'\", 'thought', 'Alice', \"'\", 'without', 'pictures', 'or', 'conversation', \"?'\", 'So', 'she', 'was', 'considering', 'in', 'her', 'own', 'mind', '(', 'as', 'well', 'as', 'she', 'could', ',']\n",
            "1001\n"
          ],
          "name": "stdout"
        }
      ]
    },
    {
      "cell_type": "markdown",
      "metadata": {
        "id": "uzIP6ofAa19O"
      },
      "source": [
        "- Incrementally Updating a Dictionary"
      ]
    },
    {
      "cell_type": "code",
      "metadata": {
        "colab": {
          "base_uri": "https://localhost:8080/"
        },
        "id": "8o_eNMzfgRyB",
        "outputId": "604833e0-27f3-48a5-8d05-07d5d465e61d"
      },
      "source": [
        "from collections import defaultdict\n",
        "counts = defaultdict(int)\n",
        "from nltk.corpus import brown\n",
        "for word, tag in brown.tagged_words(categories='news', tagset='universal'):\n",
        "    counts[tag] += 1\n",
        "\n",
        "print(counts['NOUN'])\n",
        "print(sorted(counts))"
      ],
      "execution_count": 54,
      "outputs": [
        {
          "output_type": "stream",
          "text": [
            "30654\n",
            "['.', 'ADJ', 'ADP', 'ADV', 'CONJ', 'DET', 'NOUN', 'NUM', 'PRON', 'PRT', 'VERB', 'X']\n"
          ],
          "name": "stdout"
        }
      ]
    },
    {
      "cell_type": "code",
      "metadata": {
        "colab": {
          "base_uri": "https://localhost:8080/"
        },
        "id": "wRE6BA3Mg-Fv",
        "outputId": "b5187add-a3f1-412d-9ab3-0ed695e560b4"
      },
      "source": [
        "from operator import itemgetter\n",
        "sorted(counts.items(), key=itemgetter(1), reverse=True)"
      ],
      "execution_count": 55,
      "outputs": [
        {
          "output_type": "execute_result",
          "data": {
            "text/plain": [
              "[('NOUN', 30654),\n",
              " ('VERB', 14399),\n",
              " ('ADP', 12355),\n",
              " ('.', 11928),\n",
              " ('DET', 11389),\n",
              " ('ADJ', 6706),\n",
              " ('ADV', 3349),\n",
              " ('CONJ', 2717),\n",
              " ('PRON', 2535),\n",
              " ('PRT', 2264),\n",
              " ('NUM', 2166),\n",
              " ('X', 92)]"
            ]
          },
          "metadata": {
            "tags": []
          },
          "execution_count": 55
        }
      ]
    },
    {
      "cell_type": "code",
      "metadata": {
        "colab": {
          "base_uri": "https://localhost:8080/"
        },
        "id": "qE6VqojbhXk9",
        "outputId": "51533c20-63f9-427c-d2db-566559ba9b33"
      },
      "source": [
        "print([t for t, c in sorted(counts.items(), key=itemgetter(1), reverse=True)])"
      ],
      "execution_count": 56,
      "outputs": [
        {
          "output_type": "stream",
          "text": [
            "['NOUN', 'VERB', 'ADP', '.', 'DET', 'ADJ', 'ADV', 'CONJ', 'PRON', 'PRT', 'NUM', 'X']\n"
          ],
          "name": "stdout"
        }
      ]
    },
    {
      "cell_type": "code",
      "metadata": {
        "colab": {
          "base_uri": "https://localhost:8080/"
        },
        "id": "ylW_XKcXhbhy",
        "outputId": "fa8ce056-3d5f-44ff-fd9b-752d6dc29f1d"
      },
      "source": [
        "pair = ('NP', 8336)\n",
        "pair[1]"
      ],
      "execution_count": 57,
      "outputs": [
        {
          "output_type": "execute_result",
          "data": {
            "text/plain": [
              "8336"
            ]
          },
          "metadata": {
            "tags": []
          },
          "execution_count": 57
        }
      ]
    },
    {
      "cell_type": "code",
      "metadata": {
        "colab": {
          "base_uri": "https://localhost:8080/"
        },
        "id": "-E0udI61m39u",
        "outputId": "7dbce687-4e15-45f6-88e4-a5df17683e06"
      },
      "source": [
        "itemgetter(1)(pair)"
      ],
      "execution_count": 58,
      "outputs": [
        {
          "output_type": "execute_result",
          "data": {
            "text/plain": [
              "8336"
            ]
          },
          "metadata": {
            "tags": []
          },
          "execution_count": 58
        }
      ]
    },
    {
      "cell_type": "code",
      "metadata": {
        "colab": {
          "base_uri": "https://localhost:8080/"
        },
        "id": "wrPUjq2hm6or",
        "outputId": "d6a9d50e-861f-4b7c-fca5-9e96c53867cd"
      },
      "source": [
        "last_letters = defaultdict(list)\n",
        "words = nltk.corpus.words.words('en')\n",
        "for word in words:\n",
        "    key = word[-2:]\n",
        "    last_letters[key].append(word)\n",
        "\n",
        "print(last_letters['ly'])"
      ],
      "execution_count": 59,
      "outputs": [
        {
          "output_type": "stream",
          "text": [
            "['abactinally', 'abandonedly', 'abasedly', 'abashedly', 'abashlessly', 'abbreviately', 'abdominally', 'abhorrently', 'abidingly', 'abiogenetically', 'abiologically', 'abjectly', 'ableptically', 'ably', 'abnormally', 'abominably', 'aborally', 'aboriginally', 'abortively', 'aboundingly', 'abridgedly', 'abruptedly', 'abruptly', 'abscondedly', 'absently', 'absentmindedly', 'absolutely', 'absolutistically', 'absorbedly', 'absorbingly', 'absorptively', 'abstemiously', 'abstinently', 'abstractedly', 'abstractively', 'abstractly', 'abstrusely', 'absurdly', 'abundantly', 'abusedly', 'abusefully', 'abusively', 'abysmally', 'academically', 'acceleratedly', 'accentually', 'acceptably', 'acceptedly', 'accessarily', 'accessibly', 'accessively', 'accessorily', 'accidentally', 'accidently', 'accommodately', 'accommodatingly', 'accordantly', 'accordingly', 'accountably', 'accumulatively', 'accurately', 'accursedly', 'accusably', 'accusatively', 'accusatorially', 'accusingly', 'accustomedly', 'acervately', 'acetometrically', 'achingly', 'achromatically', 'acicularly', 'acidimetrically', 'acidly', 'acknowledgedly', 'acoustically', 'acquiescently', 'acquiescingly', 'acquisitively', 'acridly', 'acrimoniously', 'acrobatically', 'acrocephaly', 'acrogenously', 'acrologically', 'acromegaly', 'acronically', 'acropetally', 'acrostically', 'actinally', 'actinically', 'actinoelectrically', 'actionably', 'actively', 'actually', 'actuarially', 'acutely', 'Adamically', 'adaptationally', 'adaptively', 'addedly', 'additionally', 'additively', 'addleheadedly', 'adequately', 'adherently', 'adhesively', 'adiabatically', 'adjacently', 'adjectivally', 'adjectively', 'adjoinedly', 'adjunctively', 'adjunctly', 'adjustably', 'administratively', 'admirably', 'admiredly', 'admiringly', 'admissibly', 'admittedly', 'admonishingly', 'admonitively', 'admonitorily', 'adnominally', 'adolescently', 'adoptedly', 'adoptively', 'adorably', 'adorally', 'adoringly', 'adorningly', 'adradially', 'adroitly', 'adscititiously', 'adulterately', 'adulterously', 'adumbratively', 'advancingly', 'advantageously', 'adventitiously', 'adventuresomely', 'adventurously', 'adverbially', 'adversatively', 'adversely', 'advertently', 'advisably', 'advisedly', 'advisorily', 'aerially', 'aerobically', 'aerobiologically', 'aerobiotically', 'aerogenically', 'aeronautically', 'aerophilately', 'aeroscopically', 'aesthetically', 'aetiotropically', 'affably', 'affectedly', 'affectingly', 'affectionally', 'affectionately', 'affectively', 'affinely', 'affinitatively', 'affirmably', 'affirmatively', 'affirmingly', 'afflictingly', 'afflictively', 'affluently', 'affrightedly', 'affrightfully', 'affrightingly', 'affrontedly', 'affrontingly', 'agamically', 'agamogenetically', 'agedly', 'aggravatingly', 'aggregately', 'aggressively', 'aggrievedly', 'agilely', 'agitatedly', 'agnatically', 'agnostically', 'agonistically', 'agonizedly', 'agonizingly', 'agrarianly', 'agreeably', 'agreeingly', 'agriculturally', 'agrobiologically', 'agrogeologically', 'agrologically', 'aguishly', 'aimfully', 'aimlessly', 'airily', 'airtightly', 'alarmedly', 'alarmingly', 'alchemically', 'alcoholically', 'aldermanly', 'alertly', 'algebraically', 'algometrically', 'alimentally', 'alimentatively', 'alkalimetrically', 'allegedly', 'allegorically', 'allenarly', 'alleviatingly', 'alliably', 'allicholly', 'alliteratively', 'allochirally', 'allogenically', 'allopathetically', 'allopathically', 'allopatrically', 'allothigenetically', 'allotropically', 'allowably', 'allowedly', 'alluringly', 'allusively', 'Ally', 'ally', 'almightily', 'alodially', 'alogically', 'aloofly', 'alphabetically', 'alpinely', 'alterably', 'alternately', 'alternatingly', 'alternatively', 'altimetrically', 'altruistically', 'aly', 'amateurishly', 'amatively', 'amatorially', 'amazedly', 'amazingly', 'ambagiously', 'ambassadorially', 'ambidextrously', 'ambiguously', 'ambilateralaterally', 'ambitionlessly', 'ambitiously', 'amblingly', 'ambrosially', 'amenably', 'Americanly', 'ametaboly', 'amethodically', 'amiably', 'amicably', 'amitotically', 'amorously', 'amorphously', 'amphibiously', 'amphibologically', 'amphiboly', 'amphigenously', 'amphimictically', 'amphistyly', 'amphitheatrically', 'amply', 'amusedly', 'amusingly', 'amusively', 'Anabaptistically', 'anacamptically', 'anachronically', 'anachronistically', 'anachronously', 'anacoluthically', 'Anacreontically', 'anacrustically', 'anaerobically', 'anaerobiotically', 'anaesthetically', 'anagogically', 'anagrammatically', 'anally', 'analogically', 'analogously', 'analytically', 'anamnestically', 'anapaestically', 'anarchically', 'anarthrously', 'anathematically', 'Anatoly', 'anatomically', 'ancestorially', 'ancestrally', 'anciently', 'anecdotically', 'anemographically', 'anemometrically', 'anemometrographically', 'anemophily', 'anencephaly', 'anerly', 'anesthetically', 'aneurismally', 'aneurysmally', 'angelically', 'angerly', 'angiomegaly', 'Anglicanly', 'angrily', 'anguishously', 'angularly', 'angulately', 'animally', 'animatedly', 'animately', 'animatingly', 'anisocotyly', 'anisophylly', 'anisotropically', 'anniversarily', 'annoyingly', 'annually', 'annularly', 'anodically', 'anomalistically', 'anomalously', 'anomaly', 'anonymously', 'anorthographically', 'answerably', 'answeringly', 'answerlessly', 'antagonistically', 'antarctically', 'antecedaneously', 'antecedently', 'antediluvially', 'anteriorly', 'anterolaterally', 'anteroposteriorly', 'anteroventrally', 'anthologically', 'anthropologically', 'anthropometrically', 'anthropomorphically', 'anthropomorphologically', 'anthropomorphously', 'anthropopathically', 'anthropophagously', 'antichristianly', 'antichronically', 'anticipatively', 'anticipatorily', 'anticly', 'anticonstitutionally', 'anticyclonically', 'antidotally', 'antidotically', 'antidromically', 'antimonarchically', 'antimonopoly', 'antipathetically', 'antiperistatically', 'antiphonally', 'antiphonically', 'antiphrastically', 'antiquarianly', 'antiquely', 'antirachitically', 'antiseptically', 'antisocialistically', 'antistrophically', 'antitheistically', 'antithetically', 'antitypically', 'antonomastically', 'antrorsely', 'anxiously', 'aoristically', 'apagogically', 'apathetically', 'aperiodically', 'apertly', 'apetaly', 'apheliotropically', 'aphetically', 'aphoristically', 'aphylly', 'apically', 'apishly', 'aplanatically', 'apocalyptically', 'apocryphally', 'apodictically', 'apogamically', 'apogamously', 'apogeotropically', 'apologetically', 'apometaboly', 'apoplectically', 'aposematically', 'apostatically', 'apostolically', 'apothegmatically', 'appallingly', 'apparently', 'appealingly', 'appeasably', 'appeasingly', 'appellatively', 'apperceptively', 'appetently', 'appetizingly', 'applaudably', 'applaudingly', 'applausively', 'appliably', 'applicably', 'applicatively', 'applicatorily', 'appliedly', 'apply', 'applyingly', 'appositely', 'appositionally', 'appositively', 'appraisingly', 'appreciably', 'appreciatingly', 'appreciatively', 'appreciatorily', 'apprehendingly', 'apprehensibly', 'apprehensively', 'appropriately', 'approvedly', 'approvingly', 'approximately', 'approximatively', 'appulsively', 'apsidally', 'aptitudinally', 'aptly', 'aquatically', 'aqueously', 'arabesquely', 'arbitrarily', 'arboreally', 'arborescently', 'Arcadianly', 'archaeologically', 'archaically', 'archetypally', 'archetypically', 'archiepiscopally', 'architectonically', 'architecturally', 'archly', 'arctically', 'arcuately', 'ardently', 'arduously', 'areographically', 'areologically', 'argentometrically', 'argumentatively', 'argutely', 'aridly', 'arightly', 'aristocratically', 'arithmetically', 'aromatically', 'arrantly', 'arrestingly', 'arrhythmically', 'arrogantly', 'arrogatingly', 'arterially', 'artfully', 'articularly', 'articulately', 'artificially', 'artistically', 'artlessly', 'ascendingly', 'ascertainably', 'ascetically', 'aseptically', 'asexually', 'ashamedly', 'ashily', 'Asiatically', 'asininely', 'askingly', 'asperously', 'aspersively', 'aspiringly', 'assembly', 'assentatorily', 'assentingly', 'assertively', 'assertorially', 'assertorically', 'assertorily', 'assessably', 'asseveratingly', 'asseveratively', 'assidually', 'assiduously', 'assignably', 'assishly', 'associatively', 'assumably', 'assumedly', 'assumingly', 'assumptively', 'assuredly', 'assuringly', 'astatically', 'astely', 'asthmatically', 'astigmatically', 'astonishedly', 'astonishingly', 'astoundingly', 'astrally', 'astrictively', 'astringently', 'astrologically', 'astronomically', 'astuciously', 'astutely', 'asymmetrically', 'asymptotically', 'asyndetically', 'atavistically', 'atheistically', 'Athenianly', 'atheologically', 'athletically', 'atmospherically', 'atomically', 'atomistically', 'atonally', 'atoningly', 'atrociously', 'attachedly', 'attemperately', 'attendantly', 'attendingly', 'attentively', 'attently', 'attractingly', 'attractionally', 'attractively', 'attributively', 'attunely', 'atypically', 'audaciously', 'audibly', 'auditorially', 'auditorily', 'augmentatively', 'augmentedly', 'augustly', 'auntly', 'aurally', 'aureately', 'aureously', 'auricularly', 'auriculately', 'aurorally', 'auspiciously', 'austerely', 'auteciously', 'autecologically', 'authentically', 'authenticly', 'authorially', 'authoritatively', 'authorly', 'autobiographically', 'autocatalytically', 'autocephaly', 'autochthonously', 'autocratically', 'autoeciously', 'autoerotically', 'autogenetically', 'autogenously', 'autographically', 'automatically', 'automorphically', 'autonomically', 'autonomously', 'autophytically', 'autoptically', 'autoschediastically', 'autostyly', 'autosymbolically', 'autotropically', 'autumnally', 'auxetically', 'auxiliarly', 'auxinically', 'availably', 'availingly', 'avariciously', 'avengingly', 'averagely', 'aversely', 'avertedly', 'avidiously', 'avidly', 'avoidably', 'avowably', 'avowedly', 'awakeningly', 'awesomely', 'awfully', 'awkwardly', 'axially', 'axiologically', 'axiomatically', 'azimuthally', 'babblingly', 'babblishly', 'babbly', 'babishly', 'babyishly', 'bacchanalianly', 'bachelorly', 'backbitingly', 'backhandedly', 'backwardly', 'bacterially', 'bacteriologically', 'bacterioscopically', 'baddishly', 'badgeringly', 'badgerly', 'badly', 'bafflingly', 'baggily', 'bairnly', 'bakerly', 'bakingly', 'baldly', 'balefully', 'balkingly', 'ballistically', 'bally', 'balmily', 'balsamically', 'banally', 'bandlessly', 'banefully', 'bankruptly', 'banteringly', 'baptismally', 'barbarically', 'barbarously', 'bardily', 'barefacedly', 'barely', 'barfly', 'barkingly', 'barometrically', 'barratrously', 'barrenly', 'barruly', 'basally', 'baselessly', 'basely', 'bashfully', 'basically', 'bastardly', 'bathymetrically', 'bawdily', 'bayardly', 'beadily', 'beamily', 'beamingly', 'bearably', 'bearishly', 'beastily', 'beastlily', 'beastly', 'beatifically', 'beauteously', 'beautifully', 'beckoningly', 'becomingly', 'bedazzlingly', 'beefily', 'beerily', 'beerishly', 'befittingly', 'beggarly', 'beggingly', 'begrudgingly', 'beguilingly', 'behavioristically', 'behoovefully', 'behoovingly', 'beknottedly', 'belatedly', 'believingly', 'bellicosely', 'belligerently', 'belly', 'bely', 'belyingly', 'bemoaningly', 'bemusedly', 'bendingly', 'benedictively', 'beneficently', 'beneficially', 'benevolently', 'benignantly', 'benignly', 'benumbingly', 'beseechingly', 'beseemingly', 'beseemly', 'besiegingly', 'besottedly', 'besottingly', 'bestially', 'besully', 'betterly', 'Beverly', 'bewailingly', 'bewilderedly', 'bewilderingly', 'bewitchingly', 'bewrayingly', 'biannually', 'biaxially', 'Biblically', 'bibliographically', 'bibliophily', 'bibliopolically', 'bibliopoly', 'bibulously', 'biconically', 'biddably', 'bienly', 'biennially', 'bifariously', 'bifidly', 'bifilarly', 'bifurcately', 'bigamously', 'bigotedly', 'bihourly', 'bilaterally', 'bilingually', 'biliously', 'billiardly', 'Billy', 'billy', 'bimanually', 'bimonthly', 'binately', 'bindingly', 'binocularly', 'binomially', 'biochemically', 'bioecologically', 'biogenetically', 'biogeographically', 'biographically', 'biologically', 'biometrically', 'bionomically', 'bipartitely', 'bipinnately', 'biquarterly', 'bisectionally', 'biserially', 'biseriately', 'bisexually', 'bisymmetrically', 'biternately', 'bitingly', 'bitterly', 'biweekly', 'biyearly', 'bizarrely', 'blackbelly', 'blackguardly', 'blackishly', 'blackly', 'blamably', 'blamefully', 'blamelessly', 'blamingly', 'blanchingly', 'blandishingly', 'blandly', 'blankly', 'blasphemously', 'blatantly', 'blately', 'blazingly', 'bleakly', 'bleatingly', 'blenchingly', 'blessedly', 'blessingly', 'blightingly', 'blindedly', 'blindfoldly', 'blindingly', 'blindly', 'blinkingly', 'blissfully', 'blisteringly', 'blithefully', 'blithely', 'blithesomely', 'blizzardly', 'blockheadedly', 'blockishly', 'blolly', 'bloodily', 'bloodlessly', 'bloodthirstily', 'bloomingly', 'blottesquely', 'blottingly', 'blowfly', 'blubberingly', 'bluely', 'bluffly', 'blunderingly', 'bluntly', 'blushfully', 'blushingly', 'blusteringly', 'blusterously', 'boardly', 'boarishly', 'boastfully', 'boatly', 'bobbishly', 'bobfly', 'bodaciously', 'bodily', 'bodingly', 'boilingly', 'boily', 'boisterously', 'boldly', 'bolly', 'bolographically', 'Bolshevistically', 'bombastically', 'bonairly', 'bonally', 'bonelessly', 'bonnily', 'boobily', 'bookishly', 'booly', 'boomingly', 'boorishly', 'bootlessly', 'boozily', 'boringly', 'botanically', 'botchedly', 'botcherly', 'botchily', 'botfly', 'botryoidally', 'bottomlessly', 'bounceably', 'bouncingly', 'boundedly', 'boundingly', 'boundlessly', 'boundly', 'bounteously', 'bountifully', 'bovinely', 'bowingly', 'bowly', 'boyishly', 'brabblingly', 'brachistocephaly', 'brachycephaly', 'brachydactyly', 'bracingly', 'braggartly', 'braggingly', 'braggishly', 'brainlessly', 'brainsickly', 'brambly', 'brassily', 'bravely', 'brawlingly', 'brawly', 'brawnily', 'brazenfacedly', 'brazenly', 'breakably', 'breathingly', 'breathlessly', 'breezily', 'bremely', 'brickly', 'bridally', 'bridely', 'brieflessly', 'briefly', 'brigandishly', 'brightly', 'brilliantly', 'brimfully', 'brimmingly', 'briskly', 'bristly', 'Britannically', 'Britishly', 'brittlely', 'broadly', 'broilingly', 'brokenheartedly', 'brokenly', 'brolly', 'bromidically', 'bromometrically', 'bronchially', 'broodingly', 'brotherly', 'brownly', 'brusquely', 'brutally', 'brutely', 'brutishly', 'bubblingly', 'bubbly', 'buccally', 'buckishly', 'bucolically', 'buirdly', 'bulkily', 'bullheadedly', 'bullishly', 'bully', 'bumpily', 'bumpingly', 'bumpkinly', 'bumptiously', 'bunchily', 'bungerly', 'bunglingly', 'buoyantly', 'burbly', 'burdensomely', 'bureaucratically', 'burglariously', 'burlesquely', 'burlily', 'burly', 'burningly', 'bushily', 'busily', 'bustlingly', 'butcherly', 'butterfly', 'butyrically', 'buxomly', 'buzzardly', 'buzzingly', 'byously', 'Byronically', 'cabalistically', 'cacophonically', 'cacophonously', 'cadaverously', 'caddishly', 'cadgily', 'caecally', 'caenostyly', 'Caerphilly', 'cagily', 'cajolingly', 'calamitously', 'calcareously', 'calculatedly', 'calculatingly', 'caliginously', 'calligraphically', 'callously', 'calmingly', 'calmly', 'calorifically', 'calorimetrically', 'calumniously', 'Calvinistically', 'campanologically', 'cancerously', 'candescently', 'candidly', 'cankeredly', 'cannibalistically', 'cannibally', 'cannily', 'canonically', 'canorously', 'cantankerously', 'cantily', 'cantingly', 'capably', 'capaciously', 'capacitativly', 'capercally', 'caperingly', 'Capernaitically', 'capillarily', 'capitalistically', 'capitally', 'capitularly', 'capriciously', 'captainly', 'captiously', 'captivately', 'captivatingly', 'cardinally', 'cardiomegaly', 'careeringly', 'carefully', 'carelessly', 'caressingly', 'caressively', 'carkingly', 'carnally', 'carnivorously', 'carousingly', 'carpingly', 'carpologically', 'cartographically', 'caselessly', 'cassabully', 'casually', 'casuistically', 'catabolically', 'catachrestically', 'cataclysmically', 'catallactically', 'catalytically', 'catarrhally', 'catastrophically', 'catawampously', 'catawamptiously', 'catchfly', 'catchingly', 'catechetically', 'catechistically', 'catechumenically', 'categorematically', 'categorically', 'cathartically', 'cathedratically', 'cathodically', 'catholically', 'catholicly', 'Catonically', 'catoptrically', 'cattily', 'cattishly', 'caudally', 'causally', 'causatively', 'causelessly', 'caustically', 'causticly', 'cautelously', 'cautiously', 'cavalierly', 'cavernously', 'cavilingly', 'ceaselessly', 'Cecily', 'celestially', 'cellularly', 'cellulifugally', 'cellulipetally', 'Celtically', 'cenobitically', 'cenogenetically', 'cenospecifically', 'censoriously', 'censurably', 'centennially', 'centesimally', 'centrally', 'centrically', 'centrifugally', 'centripetally', 'centrodorsally', 'centuply', 'cerebrally', 'cerebriformly', 'ceremonially', 'ceremoniously', 'certainly', 'certifiably', 'cespitosely', 'cessantly', 'chaffingly', 'challengingly', 'chamecephaly', 'chancefully', 'changeably', 'changefully', 'changelessly', 'chantingly', 'chaotically', 'characteristically', 'charcoaly', 'chargeably', 'charily', 'charitably', 'charlatanically', 'charmedly', 'charmfully', 'charmingly', 'charmlessly', 'chastely', 'chasteningly', 'chatteringly', 'chattily', 'chattingly', 'chauvinistically', 'cheaply', 'cheatingly', 'checkerbelly', 'cheekily', 'cheepily', 'cheerfully', 'cheerily', 'cheeringly', 'cheerlessly', 'cheerly', 'cheesemongerly', 'cheiromegaly', 'chemically', 'chemotactically', 'chemotropically', 'cherishingly', 'cherubically', 'chestily', 'chevronelly', 'chickenheartedly', 'chidingly', 'chiefly', 'childishly', 'childly', 'chillily', 'chillingly', 'chilly', 'chimerically', 'chirognomically', 'chirologically', 'chiromegaly', 'chirpily', 'chirpingly', 'chiselly', 'chivalrously', 'choicely', 'chokingly', 'cholericly', 'choosingly', 'chorally', 'chordally', 'chorographically', 'Christianly', 'Christly', 'chromatically', 'chronically', 'chronogrammatically', 'chronographically', 'chronologically', 'chronometrically', 'chronoscopically', 'chubbily', 'chuckingly', 'chucklingly', 'chummily', 'chunkily', 'churchly', 'churchmanly', 'churlishly', 'churly', 'chylocauly', 'chylophylly', 'Cicely', 'cicely', 'Ciceronically', 'ciliately', 'cinematically', 'cinematographically', 'circinately', 'circuitously', 'circularly', 'circumferentially', 'circumscriptively', 'circumscriptly', 'circumspectively', 'circumspectly', 'circumstantially', 'citizenly', 'civically', 'civilly', 'clairaudiently', 'clairvoyantly', 'clamantly', 'clammily', 'clamorously', 'clancularly', 'clandestinely', 'clangingly', 'clangorously', 'clankingly', 'clannishly', 'clashingly', 'classically', 'classifically', 'clatteringly', 'clavately', 'cleanlily', 'cleanly', 'clearheadedly', 'clearly', 'cleavingly', 'cleistogamically', 'cleistogamously', 'clemently', 'clerically', 'clerkly', 'cleverishly', 'cleverly', 'climacterically', 'climactically', 'climatically', 'climatologically', 'clinchingly', 'clingingly', 'clinically', 'clinocephaly', 'cliquishly', 'cloakedly', 'cloddily', 'cloddishly', 'cloggily', 'cloisterly', 'closefistedly', 'closely', 'cloudily', 'cloudlessly', 'clouterly', 'clownishly', 'cloyingly', 'clubbily', 'clumsily', 'clusteringly', 'cly', 'coactively', 'coadjacently', 'coadunatively', 'coaly', 'coarsely', 'coastally', 'coaxially', 'coaxingly', 'cobbly', 'cockily', 'cockly', 'cockneyishly', 'cocksurely', 'coconsciously', 'coeducationally', 'coefficiently', 'coenospecifically', 'coequally', 'coercibly', 'coercively', 'coessentially', 'coetaneously', 'coeternally', 'coevally', 'coextensively', 'cogently', 'coggly', 'cogitabundly', 'cogitantly', 'cogitatingly', 'cogitatively', 'cognitively', 'cognizably', 'cognoscitively', 'coharmoniously', 'coherently', 'cohesively', 'coincidentally', 'coincidently', 'coinstantaneously', 'coldheartedly', 'coldly', 'collaboratively', 'collaterally', 'collectedly', 'collectively', 'collectivistically', 'collegiately', 'collinearly', 'collingly', 'colloquially', 'collusively', 'colly', 'colometrically', 'colonially', 'colorably', 'colorationally', 'colorfully', 'colorimetrically', 'colorlessly', 'colossally', 'coltishly', 'coly', 'comatosely', 'combatively', 'combinedly', 'combustibly', 'comelily', 'comely', 'comfortably', 'comfortingly', 'comfortlessly', 'comically', 'commandingly', 'commemoratively', 'commendably', 'commendingly', 'commensally', 'commensurably', 'commensurately', 'commentatorially', 'commercially', 'commiseratingly', 'commiseratively', 'commissively', 'commodiously', 'commonly', 'commonplacely', 'commonsensibly', 'commonsensically', 'communally', 'communicably', 'communicatively', 'communistically', 'commutatively', 'compactedly', 'compactly', 'companionably', 'comparably', 'comparatively', 'compartmentally', 'compassionately', 'compatibly', 'compellably', 'compellingly', 'compendiously', 'compensatingly', 'competently', 'competitively', 'complacentially', 'complacently', 'complainingly', 'complaisantly', 'complementally', 'completely', 'completively', 'complexionably', 'complexionally', 'complexively', 'complexly', 'compliably', 'compliantly', 'complicatedly', 'complimentally', 'complimentarily', 'complimentingly', 'comply', 'composedly', 'compositely', 'compositionally', 'compositively', 'comprehendingly', 'comprehensibly', 'comprehensively', 'compressedly', 'compressingly', 'compressively', 'compromisingly', 'compulsatively', 'compulsatorily', 'compulsively', 'compulsorily', 'compunctiously', 'computably', 'comradely', 'concavely', 'concealedly', 'concededly', 'conceitedly', 'conceivably', 'concentrically', 'conceptually', 'concernedly', 'concerningly', 'concertedly', 'concessively', 'conchoidally', 'conchologically', 'conciliatingly', 'conciliatorily', 'concisely', 'concludingly', 'conclusionally', 'conclusively', 'concomitantly', 'concordantly', 'concretely', 'concretively', 'concurrently', 'concurringly', 'concyclically', 'condemnably', 'condemningly', 'condensedly', 'condescendingly', 'condescensively', 'condignly', 'conditionally', 'condolingly', 'conducingly', 'conductively', 'confessedly', 'confessingly', 'confidentially', 'confidently', 'confidingly', 'configurationally', 'confinedly', 'confirmatively', 'confirmatorily', 'confirmedly', 'confirmingly', 'conflictingly', 'confluently', 'conformably', 'confoundedly', 'confoundingly', 'confusably', 'confusedly', 'confusingly', 'congenially', 'congenitally', 'conglobately', 'congregationally', 'congressionally', 'congruently', 'congruously', 'conically', 'conicopoly', 'conjecturably', 'conjecturally', 'conjoinedly', 'conjointly', 'conjugally', 'conjugately', 'conjugationally', 'conjunctionally', 'conjunctively', 'conjunctly', 'connately', 'connaturally', 'connectedly', 'connectively', 'connivantly', 'connotatively', 'connotively', 'connubially', 'conoidally', 'conoidically', 'conqueringly', 'consanguineously', 'consciencelessly', 'conscientiously', 'conscionably', 'consciously', 'consecutively', 'consensually', 'consentaneously', 'consentfully', 'consentiently', 'consentingly', 'consentively', 'consequentially', 'consequently', 'conservatively', 'considerably', 'considerately', 'consideratively', 'consideringly', 'consistently', 'consolably', 'consolatorily', 'consolingly', 'consonantly', 'conspicuously', 'conspiratorially', 'conspiringly', 'constantly', 'constituently', 'constitutionally', 'constitutively', 'constrainedly', 'constrainingly', 'constructionally', 'constructively', 'consubstantially', 'consultively', 'consumedly', 'consumingly', 'consummately', 'consummatively', 'consumptively', 'contactually', 'contagiously', 'contemnibly', 'contemningly', 'contemplatingly', 'contemplatively', 'contemporaneously', 'contemporarily', 'contemptibly', 'contemptuously', 'contendingly', 'contentedly', 'contentiously', 'contently', 'conterminously', 'contestably', 'contestingly', 'contextually', 'contiguously', 'continentally', 'continently', 'contingently', 'continually', 'continuantly', 'continuately', 'continuatively', 'continuedly', 'continuingly', 'continuously', 'contortedly', 'contractedly', 'contractibly', 'contractively', 'contractually', 'contradictiously', 'contradictively', 'contradictorily', 'contradistinctively', 'contradistinctly', 'contrapuntally', 'contrariantly', 'contrarily', 'contrariously', 'contrastably', 'contrastedly', 'contrastingly', 'contrastively', 'contributively', 'contritely', 'controllably', 'controllingly', 'controversially', 'controvertibly', 'contumaciously', 'contumeliously', 'contumely', 'convalescently', 'convectively', 'convenably', 'conveniently', 'conventically', 'conventionally', 'conventually', 'conversably', 'conversantly', 'conversationally', 'conversely', 'convertibly', 'convexedly', 'convexly', 'convictively', 'convincedly', 'convincingly', 'convivially', 'convocationally', 'convolutely', 'convulsedly', 'convulsively', 'cooingly', 'cookishly', 'coolheadedly', 'coolingly', 'coolly', 'cooly', 'coonily', 'cooruptibly', 'copiously', 'copulatively', 'coquettishly', 'cordately', 'cordially', 'corollarially', 'coronally', 'corporally', 'corporately', 'corporeally', 'corpulently', 'correctingly', 'correctively', 'correctly', 'correlatively', 'correspondentially', 'correspondently', 'correspondingly', 'corresponsively', 'corrigibly', 'corroboratively', 'corroboratorily', 'corrosively', 'corruptedly', 'corruptingly', 'corruptively', 'corruptly', 'cortically', 'corticifugally', 'corticipetally', 'coryphylly', 'cosily', 'cosmetically', 'cosmically', 'cosmographically', 'cosmologically', 'cosmopolitanly', 'costally', 'costively', 'costly', 'cotemporaneously', 'countably', 'counteractingly', 'counteractively', 'counterattractively', 'countercurrently', 'counterfeitly', 'counterly', 'counterpaly', 'counterquarterly', 'counterreply', 'countertally', 'courageously', 'courteously', 'courtierly', 'courtly', 'cousinly', 'couthily', 'covertly', 'covetingly', 'covetously', 'covinously', 'cowardly', 'coxcombically', 'coxcomically', 'coyly', 'cozeningly', 'cozily', 'crabbedly', 'crackly', 'craftily', 'craggily', 'crambly', 'crampingly', 'cranially', 'craniologically', 'craniometrically', 'crankily', 'crankly', 'crapulously', 'crassly', 'craunchingly', 'cravenly', 'cravingly', 'crawlingly', 'crawly', 'crazedly', 'crazily', 'creakily', 'creakingly', 'creamily', 'creatively', 'creaturely', 'credently', 'credibly', 'creditably', 'credulously', 'creepingly', 'crenately', 'crestfallenly', 'cretaceously', 'cribrately', 'criminally', 'criminously', 'crimsonly', 'cringingly', 'crinkly', 'crippingly', 'cripply', 'crispily', 'crisply', 'critically', 'criticizingly', 'croakily', 'crookedly', 'crooningly', 'crossly', 'crouchingly', 'croupily', 'crousely', 'crowdedly', 'crowingly', 'crozzly', 'crucially', 'cruciately', 'cruciformly', 'crucilly', 'crucily', 'crudely', 'cruelly', 'crumbly', 'crumply', 'crunchingly', 'crushingly', 'crusily', 'crustedly', 'crustily', 'cryingly', 'cryptically', 'cryptographically', 'crystallographically', 'cubbishly', 'cubically', 'cubicly', 'cucullately', 'cuddly', 'culinarily', 'cully', 'culpably', 'cultivably', 'culturally', 'culturologically', 'cumbersomely', 'cumbly', 'cumbrously', 'cumulately', 'cumulatively', 'cuneately', 'cunningly', 'curably', 'curatively', 'curdly', 'curelessly', 'curiologically', 'curiously', 'curledly', 'curliewurly', 'curlily', 'curlingly', 'curly', 'curmudgeonly', 'currently', 'currishly', 'cursedly', 'cursively', 'cursorily', 'curstfully', 'curstly', 'curtailedly', 'curtly', 'curvedly', 'curvilinearly', 'cussedly', 'customarily', 'cutaneously', 'cutely', 'cuttingly', 'cyclically', 'cycloidally', 'cyclonically', 'cyclopedically', 'cylindrically', 'cymbocephaly', 'cymosely', 'cynically', 'cytogenetically', 'cytologically', 'cytopathologically', 'dabblingly', 'dactylically', 'dactylomegaly', 'daffodilly', 'daffydowndilly', 'daftly', 'daggly', 'daidly', 'daily', 'daintily', 'dally', 'dallyingly', 'damageably', 'damagingly', 'damnably', 'damningly', 'damnously', 'dampishly', 'damply', 'dancingly', 'dandiacally', 'dandically', 'dandilly', 'dandily', 'dandlingly', 'dangerfully', 'dangerously', 'danglingly', 'dankly', 'Dantophily', 'dapperly', 'daringly', 'darkly', 'darlingly', 'dartingly', 'Darwinically', 'dashedly', 'dashingly', 'dastardly', 'datably', 'datively', 'daubingly', 'daughterly', 'dauntingly', 'dauntlessly', 'dawdlingly', 'dayfly', 'dazedly', 'dazingly', 'dazzlingly', 'deadheartedly', 'deadishly', 'deadlily', 'deadly', 'deafeningly', 'deafly', 'dearly', 'dearworthily', 'deathfully', 'deathlessly', 'deathly', 'deavely', 'debasingly', 'debatefully', 'debatingly', 'debauchedly', 'deboistly', 'debonairly', 'decadally', 'decadently', 'decanally', 'decanically', 'deceitfully', 'deceivably', 'deceivingly', 'Decemberly', 'decennially', 'decently', 'deceptiously', 'deceptively', 'decidedly', 'decidingly', 'deciduously', 'decimally', 'decipherably', 'decisively', 'declaratively', 'declaratorily', 'declaredly', 'declensionally', 'decompoundly', 'decorably', 'decoratively', 'decorously', 'decreasingly', 'decrepitly', 'decretively', 'decretorily', 'decumbently', 'decurrently', 'decursively', 'decussately', 'dedicatorily', 'deducibly', 'deductively', 'deedfully', 'deedily', 'deepeningly', 'deeply', 'defacingly', 'defamingly', 'defectively', 'defenselessly', 'defensibly', 'defensively', 'deferentially', 'defiantly', 'deficiently', 'defilingly', 'definably', 'definedly', 'definitely', 'definitively', 'deformedly', 'deftly', 'defyingly', 'degenerately', 'degradedly', 'degradingly', 'degressively', 'deictically', 'deistically', 'dejectedly', 'dejectly', 'delayingly', 'delectably', 'deleteriously', 'deliberately', 'deliberatively', 'delicately', 'deliciously', 'delightedly', 'delightfully', 'delightingly', 'delightsomely', 'delinquently', 'deliriously', 'deludingly', 'delusively', 'demagogically', 'demandingly', 'dementedly', 'demeritoriously', 'demiheavenly', 'demissly', 'demiurgically', 'democratically', 'demographically', 'demoniacally', 'demonolatrously', 'demonologically', 'demonstrably', 'demonstratedly', 'demonstratively', 'demurely', 'demurringly', 'dendritically', 'denominationally', 'denominatively', 'denotatively', 'densely', 'densimetrically', 'dentally', 'dentately', 'denticulately', 'denumerably', 'denunciatively', 'denyingly', 'departmentally', 'dependably', 'dependently', 'dependingly', 'deperditely', 'deplorably', 'deploredly', 'deploringly', 'depravedly', 'depravingly', 'deprecatingly', 'deprecatorily', 'depreciatingly', 'depreciatively', 'depressingly', 'depressively', 'deputatively', 'dereistically', 'derelictly', 'deridingly', 'derisively', 'derivably', 'derivately', 'derivationally', 'derivatively', 'derivedly', 'derogately', 'derogatively', 'derogatorily', 'descendingly', 'describably', 'descriptively', 'desertedly', 'desertfully', 'desertlessly', 'deservedly', 'deservingly', 'designedly', 'designfully', 'designingly', 'designlessly', 'desirably', 'desiredly', 'desiringly', 'desirously', 'desolately', 'desolatingly', 'despairfully', 'despairingly', 'desperately', 'despicably', 'despisingly', 'despitefully', 'despiteously', 'despondently', 'despondingly', 'despotically', 'despoticly', 'destitutely', 'destroyingly', 'destructively', 'desultorily', 'detachably', 'detachedly', 'detailedly', 'detainingly', 'detectably', 'determinably', 'determinately', 'determinatively', 'determinedly', 'detersively', 'detestably', 'detractingly', 'detractively', 'detrimentally', 'deucedly', 'devastatingly', 'developmentally', 'devicefully', 'devilishly', 'devily', 'deviously', 'devotedly', 'devotionally', 'devouringly', 'devoutlessly', 'devoutly', 'dewily', 'dexterously', 'dextrally', 'dextrorsely', 'dextrosinistrally', 'dextrously', 'diabolically', 'diacritically', 'diagnostically', 'diagonally', 'diagrammitically', 'diaheliotropically', 'dialectally', 'dialectically', 'dialogically', 'dialogistically', 'dialystely', 'dialytically', 'diamagnetically', 'diametrally', 'diametrically', 'dianoetically', 'diaphanously', 'diaphragmatically', 'diastatically', 'diatonically', 'dichotomically', 'dichotomously', 'dictatingly', 'dictatorially', 'didactically', 'didascaly', 'dielectrically', 'dietetically', 'differencingly', 'differentially', 'differently', 'differingly', 'difficultly', 'diffidently', 'diffractively', 'diffusedly', 'diffusely', 'diffusibly', 'diffusively', 'digestedly', 'digestibly', 'digestively', 'digitally', 'digitately', 'dignifiedly', 'digressingly', 'digressively', 'dilatably', 'dilatedly', 'dilatingly', 'dilatorily', 'dilemmatically', 'diligently', 'dilly', 'dillydally', 'dilutedly', 'dilutely', 'dimensionally', 'diminishingly', 'diminutively', 'dimly', 'dimply', 'dingily', 'dingly', 'dinnerly', 'diobely', 'dioeciously', 'Dionysiacally', 'dioptrically', 'diphtheritically', 'diphthongally', 'diplocephaly', 'diplomatically', 'directionally', 'directively', 'directly', 'directorially', 'direfully', 'direly', 'dirtily', 'disadvantageously', 'disaffectedly', 'disagreeably', 'disally', 'disappointedly', 'disappointingly', 'disapprovingly', 'disarmingly', 'disassembly', 'disastrously', 'disavowedly', 'disbelievingly', 'discernibly', 'discerningly', 'disciplinarily', 'discomfortingly', 'discommendably', 'discommodiously', 'discomposedly', 'discomposingly', 'disconcertedly', 'disconcertingly', 'disconnectedly', 'disconsolately', 'discontentedly', 'discontinuously', 'discordantly', 'discouragingly', 'discoursively', 'discourteously', 'discoverably', 'discreetly', 'discrepantly', 'discretely', 'discretionally', 'discretionarily', 'discretively', 'discriminately', 'discriminatingly', 'discriminatively', 'discursively', 'disdainfully', 'disdainly', 'diseasedly', 'disenchantingly', 'disfiguringly', 'disgracefully', 'disguisedly', 'disgustedly', 'disgustfully', 'disgustingly', 'dishearteningly', 'dishonestly', 'dishonorably', 'disingenuously', 'disinterestedly', 'disjointedly', 'disjointly', 'disjunctively', 'dislocatedly', 'disloyally', 'dismally', 'dismayfully', 'dismayingly', 'dismissingly', 'disobediently', 'disobligingly', 'disorderedly', 'disorderly', 'disparagingly', 'disparately', 'dispassionately', 'dispendiously', 'dispensatively', 'dispensatorily', 'dispensingly', 'dispersedly', 'dispersively', 'dispiritedly', 'dispiritingly', 'dispiteously', 'displeasedly', 'displeasingly', 'displeasurably', 'disposedly', 'disposingly', 'dispositively', 'dispraisingly', 'disproportionably', 'disproportionally', 'disproportionately', 'disputably', 'disputatiously', 'disputatively', 'disquietedly', 'disquietingly', 'disquietly', 'disquisitively', 'disregardfully', 'disreputably', 'disrespectfully', 'disruptively', 'dissatisfiedly', 'dissemblingly', 'dissembly', 'dissentingly', 'dissentiously', 'disserviceably', 'dissidently', 'dissightly', 'dissimilarly', 'dissipatedly', 'dissolutely', 'dissolvingly', 'dissonantly', 'dissuasively', 'dissymmetrically', 'distally', 'distantly', 'distastefully', 'distemperedly', 'distendedly', 'distichously', 'distinctively', 'distinctly', 'distinguishably', 'distinguishedly', 'distinguishingly', 'distortedly', 'distractedly', 'distractingly', 'distractively', 'distressedly', 'distressfully', 'distressingly', 'distributedly', 'distributively', 'distrustfully', 'distrustingly', 'disturbedly', 'disturbingly', 'dithyrambically', 'ditrigonally', 'diuretically', 'diurnally', 'divaricately', 'divaricatingly', 'divergently', 'divergingly', 'diversely', 'diversly', 'divertedly', 'divertingly', 'dividedly', 'dividingly', 'dividually', 'divinely', 'diviningly', 'divisibly', 'divisionally', 'divisively', 'dizzily', 'Docetically', 'docilely', 'doctorally', 'doctorially', 'doctorly', 'doctrinally', 'doctrinarily', 'documentarily', 'dodgily', 'doggedly', 'doggishly', 'dogly', 'dogmatically', 'doily', 'dolefully', 'dolently', 'dolesomely', 'dolichocephaly', 'dollishly', 'dolly', 'dolorously', 'doltishly', 'domestically', 'domically', 'dominantly', 'dominatingly', 'domineeringly', 'donatively', 'dooly', 'dorsabdominally', 'dorsally', 'dorsiventrally', 'dorsocervically', 'dorsoventrally', 'dotardly', 'dotingly', 'dottily', 'doublehandedly', 'doubly', 'doubtably', 'doubtedly', 'doubtfully', 'doubtingly', 'doubtlessly', 'doucely', 'doughtily', 'dourly', 'dowdily', 'dowily', 'downcastly', 'downheartedly', 'downily', 'downrightly', 'downwardly', 'doxologically', 'dozily', 'drably', 'Draconically', 'draftily', 'draggily', 'draggingly', 'draggletailedly', 'draggly', 'dragonfly', 'dramatically', 'drastically', 'drawlingly', 'drawly', 'dreadfully', 'dreadingly', 'dreadlessly', 'dreadly', 'dreamfully', 'dreamily', 'dreamingly', 'dreamlessly', 'dreamsily', 'drearfully', 'drearily', 'drearly', 'dreggily', 'drenchingly', 'dressily', 'driftingly', 'drinkably', 'drivelingly', 'drivingly', 'drizzly', 'drollingly', 'drolly', 'droningly', 'dronishly', 'droopingly', 'droppingly', 'dropsically', 'drowningly', 'drowsily', 'drubbly', 'drudgingly', 'drumly', 'drunkenly', 'dryly', 'dualistically', 'dually', 'dubiously', 'dubitably', 'dubitatingly', 'dubitatively', 'ducally', 'ductilely', 'dukely', 'dulcetly', 'dully', 'dulwilly', 'duly', 'dumbly', 'dumpily', 'dumpishly', 'duncishly', 'dunghilly', 'duodecimally', 'duopoly', 'durably', 'duringly', 'duskily', 'duskishly', 'duskly', 'dustily', 'duteously', 'dutifully', 'dwarfishly', 'dyingly', 'dynamically', 'dynamitically', 'dynamogenously', 'dynastically', 'dyslogistically', 'dyspeptically', 'eagerly', 'early', 'earnestly', 'earthly', 'easefully', 'easily', 'easterly', 'Easternly', 'eastwardly', 'ebriously', 'ebulliently', 'eccentrically', 'ecclesiastically', 'ecclesiologically', 'echoingly', 'eclectically', 'ecliptically', 'ecologically', 'economically', 'ecospecifically', 'ecotypically', 'ecstatically', 'ectally', 'ecthetically', 'ectosteally', 'ectrodactyly', 'ectrosyndactyly', 'ecumenically', 'edaciously', 'edgingly', 'edictally', 'edifyingly', 'editorially', 'educationally', 'eely', 'eerily', 'effectively', 'effectually', 'effeminately', 'effervescingly', 'efficaciously', 'efficiently', 'effortlessly', 'effulgently', 'effusively', 'egoistically', 'egotistically', 'egregiously', 'eidently', 'eighteenthly', 'eighthly', 'ejectively', 'elaborately', 'elastically', 'elatedly', 'elderbrotherly', 'elderly', 'eldersisterly', 'electively', 'electly', 'electorally', 'electrically', 'electrochemically', 'electrolytically', 'electromagnetically', 'electrometrically', 'electrooptically', 'electroosmotically', 'electropneumatically', 'electrostatically', 'electrosynthetically', 'eleemosynarily', 'elegantly', 'elementalistically', 'elementally', 'elementarily', 'elenchically', 'elevatedly', 'elevatingly', 'eleventhly', 'elfishly', 'eligibly', 'elliptically', 'eloquently', 'elusively', 'elvishly', 'emanatively', 'emarginately', 'embarrassedly', 'embarrassingly', 'emblematically', 'emboly', 'embraceably', 'embracingly', 'embryologically', 'embryonically', 'emergently', 'emetically', 'Emily', 'eminently', 'emotionally', 'emotively', 'empanoply', 'empathically', 'emphatically', 'emptily', 'emulatively', 'emulously', 'enantiomorphously', 'encaustically', 'enchantingly', 'enclitically', 'encomiastically', 'encouragingly', 'encroachingly', 'encumberingly', 'encyclopedically', 'endearedly', 'endearingly', 'endemically', 'endermically', 'endlessly', 'endobronchially', 'endogastrically', 'endogenously', 'endophytically', 'endorsingly', 'endosmotically', 'endosteally', 'endurably', 'enduringly', 'energetically', 'enforcedly', 'enforcingly', 'engagedly', 'engagingly', 'englacially', 'Englishly', 'engrainedly', 'engraphically', 'engrossedly', 'engrossingly', 'enharmonically', 'enigmatically', 'enjelly', 'enjoyably', 'enjoyingly', 'enlargedly', 'enlargingly', 'enlightenedly', 'enlighteningly', 'enliveningly', 'ennoblingly', 'enodally', 'enormously', 'enragedly', 'enravishingly', 'enrichingly', 'ensnaringly', 'ensuingly', 'entangledly', 'entanglingly', 'enteromegaly', 'enterprisingly', 'entertainingly', 'enthrallingly', 'enthusiastically', 'enthusiastly', 'enticingly', 'entirely', 'entitatively', 'entomologically', 'entomophily', 'entophytically', 'entoptically', 'entozoologically', 'entrancedly', 'entrancingly', 'entrappingly', 'entreatingly', 'enunciatively', 'enviably', 'enviously', 'environmentally', 'envyingly', 'enzymically', 'epaxially', 'epexegetically', 'ephemerally', 'epiboly', 'epically', 'epicly', 'epicurishly', 'epidemically', 'epidermically', 'epigenetically', 'epigrammatically', 'epigraphically', 'epileptically', 'epinastically', 'epiphytically', 'Episcopally', 'episcopally', 'episodically', 'epistemologically', 'epistolarily', 'epithetically', 'epitomically', 'epochally', 'epornitically', 'equably', 'equally', 'equanimously', 'equationally', 'equatorially', 'equidistantly', 'equilaterally', 'equinely', 'equinoctially', 'equinumerally', 'equipollently', 'equitably', 'equivalently', 'equivocally', 'equivocatingly', 'erectly', 'eristically', 'erosely', 'erotically', 'errantly', 'erratically', 'erringly', 'erroneously', 'erthly', 'eruditely', 'eruptively', 'escapingly', 'esoterically', 'especially', 'essentially', 'estimably', 'estimatingly', 'esuriently', 'eternally', 'ethereally', 'ethically', 'ethnically', 'ethnogeographically', 'ethnographically', 'ethnologically', 'etiologically', 'etiotropically', 'etymologically', 'etypically', 'Eucharistically', 'eucharistically', 'eudaemonistically', 'eudiometrically', 'eugenically', 'euhemeristically', 'euhyostyly', 'eulogically', 'eulogistically', 'euphemiously', 'euphemistically', 'euphonically', 'euphoniously', 'euphuistically', 'Europeanly', 'evadingly', 'evanescently', 'evangelically', 'evangelistically', 'evasively', 'evenhandedly', 'evenly', 'eventfully', 'eventlessly', 'eventually', 'everlastingly', 'evidentially', 'evidently', 'evilly', 'evincibly', 'evincingly', 'evocatively', 'evolutionally', 'exactingly', 'exactly', 'exaggeratedly', 'exaggeratingly', 'exaggeratively', 'exaltedly', 'examiningly', 'exasperatedly', 'exasperatingly', 'exceedingly', 'excellently', 'exceptionably', 'exceptionally', 'exceptively', 'excessively', 'exchangeably', 'excitedly', 'excitingly', 'exclaimingly', 'exclamatively', 'exclamatorily', 'excludingly', 'exclusively', 'excrementitiously', 'excruciatingly', 'exculpatorily', 'excursively', 'excusably', 'excusefully', 'excusingly', 'execrably', 'execratively', 'executively', 'exegetically', 'exemplarily', 'exhaustedly', 'exhaustingly', 'exhaustively', 'exhaustlessly', 'exhibitively', 'exhilaratingly', 'exhortatively', 'exhortingly', 'exigently', 'exiguously', 'eximiously', 'existentially', 'existently', 'exogastrically', 'exogenously', 'exorbitantly', 'exoterically', 'exotically', 'expandedly', 'expandingly', 'expansibly', 'expansively', 'expatiatingly', 'expectantly', 'expectedly', 'expectingly', 'expedientially', 'expediently', 'expeditely', 'expeditiously', 'expensefully', 'expensively', 'experientially', 'experimentally', 'experimently', 'expertly', 'expiringly', 'explainingly', 'explanatively', 'explanatorily', 'expletively', 'explicatively', 'explicitly', 'exploratively', 'exploringly', 'explosively', 'exponentially', 'expositively', 'expositorially', 'expositorily', 'expostulatingly', 'expostulatively', 'expressibly', 'expressionlessly', 'expressively', 'expressly', 'exquisitely', 'exquisitively', 'extemporally', 'extemporaneously', 'extemporarily', 'extendedly', 'extensively', 'extenuatingly', 'exteriorly', 'externally', 'exterritorially', 'extollingly', 'extorsively', 'extortionately', 'extracellularly', 'extracivically', 'extraessentially', 'extrajudicially', 'extramurally', 'extraneously', 'extraorbitally', 'extraordinarily', 'extraparochially', 'extraregularly', 'extraterritorially', 'extravagantly', 'extremely', 'extricably', 'extrinsically', 'extrorsely', 'exuberantly', 'exultantly', 'exultingly', 'fabulously', 'facetely', 'facetiously', 'facially', 'facilely', 'facingly', 'factiously', 'factitiously', 'factitively', 'factorially', 'factually', 'facultatively', 'fadedly', 'fadingly', 'faggingly', 'failingly', 'fainly', 'faintheartedly', 'faintingly', 'faintly', 'fairily', 'fairishly', 'fairly', 'faithfully', 'faithlessly', 'fallaciously', 'fallibly', 'fally', 'falseheartedly', 'falsely', 'falteringly', 'famelessly', 'familiarizingly', 'familiarly', 'family', 'famously', 'fanatically', 'fancifully', 'fantastically', 'fantasticly', 'farcically', 'farinaceously', 'farinosely', 'farrandly', 'farrantly', 'farsightedly', 'fasciately', 'fascicularly', 'fasciculately', 'fascinatedly', 'fascinatingly', 'fashionably', 'fastidiously', 'fastingly', 'fastuously', 'fatalistically', 'fatally', 'fatefully', 'fatherly', 'fathomlessly', 'fatidically', 'fatiguingly', 'fatly', 'fattily', 'fatuously', 'faultfully', 'faultily', 'faultlessly', 'faunally', 'faunistically', 'favorably', 'favoredly', 'favoringly', 'favosely', 'fawningly', 'fearedly', 'fearfully', 'fearingly', 'fearlessly', 'fearsomely', 'feasibly', 'feastfully', 'featly', 'featurally', 'featurely', 'feckfully', 'fecklessly', 'feckly', 'federally', 'federatively', 'feebleheartedly', 'feebly', 'feelinglessly', 'feelingly', 'feignedly', 'feigningly', 'felicitously', 'felinely', 'felly', 'feloniously', 'femalely', 'femininely', 'ferinely', 'ferly', 'fermentatively', 'ferociously', 'fertilely', 'fervently', 'fervidly', 'fessely', 'festally', 'festinately', 'festivally', 'festively', 'fetchingly', 'fetidly', 'feudally', 'feverishly', 'feverously', 'fibrously', 'fickly', 'fictionally', 'fictitiously', 'fictively', 'fidgetily', 'fidgetingly', 'fiducially', 'fiduciarily', 'fiendfully', 'fiendishly', 'fiendly', 'fiercely', 'fierily', 'fifteenthly', 'fifthly', 'fightingly', 'figurately', 'figuratively', 'figuredly', 'filchingly', 'filially', 'fillingly', 'filly', 'filmily', 'filthily', 'finally', 'financially', 'finely', 'finically', 'finickily', 'finickingly', 'finitely', 'firefly', 'firmly', 'firstly', 'fiscally', 'fishily', 'fishingly', 'fissiparously', 'fitfully', 'fitly', 'fittily', 'fittingly', 'fixedly', 'flabbily', 'flaccidly', 'flaggily', 'flaggingly', 'flagitiously', 'flagrantly', 'flakily', 'flamboyantly', 'flamingly', 'flannelly', 'flaringly', 'flashily', 'flashingly', 'flashly', 'flatly', 'flatteringly', 'flatulently', 'flauntily', 'flauntingly', 'flawlessly', 'flecklessly', 'fleecily', 'fleeringly', 'fleetingly', 'fleetly', 'fleshlily', 'fleshly', 'flexibly', 'flexuously', 'fleyedly', 'flickeringly', 'flightily', 'flimsily', 'flinchingly', 'flintily', 'flippantly', 'flirtatiously', 'flirtingly', 'flittingly', 'floatingly', 'floccosely', 'flocculently', 'floggingly', 'floppily', 'florally', 'floriculturally', 'floridly', 'floriferously', 'floristically', 'flounderingly', 'flourishingly', 'floutingly', 'flowerily', 'flowingly', 'fluently', 'fluffily', 'fluidally', 'fluidly', 'flukily', 'flurriedly', 'flushingly', 'flutteringly', 'fluxibly', 'fluxionally', 'fly', 'flyingly', 'foaly', 'foamily', 'foamingly', 'focally', 'foggily', 'foiningly', 'foldedly', 'foliously', 'followingly', 'folly', 'fondlingly', 'fondly', 'fonly', 'fontally', 'foolhardily', 'foolishly', 'footingly', 'foppishly', 'forbearantly', 'forbearingly', 'forbiddenly', 'forbiddingly', 'forcedly', 'forcefully', 'forcibly', 'forcingly', 'forebackwardly', 'forebodingly', 'forecastingly', 'forefatherly', 'forefeelingly', 'foreignly', 'foreknowingly', 'foremostly', 'forensically', 'foreseeingly', 'forethoughtfully', 'forewarningly', 'forgedly', 'forgetfully', 'forgettingly', 'forgivably', 'forgivingly', 'forkedly', 'forlornly', 'formably', 'formally', 'formatively', 'formerly', 'formidably', 'formlessly', 'forsakenly', 'forthrightly', 'fortifyingly', 'fortnightly', 'fortuitously', 'fortunately', 'forwardly', 'fosteringly', 'foully', 'foulmouthedly', 'foundationally', 'fountainously', 'foursquarely', 'fourteenthly', 'fourthly', 'foxily', 'frabjously', 'fractionally', 'fractiously', 'fragilely', 'fragmentally', 'fragmentarily', 'fragrantly', 'frailly', 'frankheartedly', 'frankly', 'frantically', 'franticly', 'fraternally', 'fraudfully', 'fraudlessly', 'fraudulently', 'frayedly', 'freakily', 'freakishly', 'freckly', 'freehandedly', 'freeheartedly', 'freely', 'freezingly', 'fremdly', 'Frenchily', 'Frenchly', 'frenetically', 'frenziedly', 'frequently', 'freshly', 'fretfully', 'frettingly', 'friarly', 'frictionally', 'frictionlessly', 'friendlily', 'friendly', 'frightenedly', 'frighteningly', 'frightfully', 'frigidly', 'frillily', 'frilly', 'friskily', 'friskingly', 'frivolously', 'frizzily', 'frizzly', 'frolicly', 'frolicsomely', 'frondosely', 'frontally', 'frontingly', 'frontlessly', 'frostily', 'frothily', 'frowardly', 'frowningly', 'frowstily', 'frowzily', 'frowzly', 'frozenly', 'fructiferously', 'fructuously', 'frugally', 'fruitfully', 'fruitlessly', 'frumpily', 'frumpishly', 'frustrately', 'fugaciously', 'fugally', 'fugitively', 'fulgently', 'fulgurantly', 'fuliginously', 'fullmouthedly', 'fully', 'fulsomely', 'fumily', 'fumingly', 'fumously', 'functionally', 'fundamentally', 'funereally', 'funnily', 'furcately', 'furfuraceously', 'furiously', 'furrily', 'furtherly', 'furtively', 'fusibly', 'fusilly', 'fussily', 'fustily', 'futilely', 'fuzzily', 'gaddingly', 'gadfly', 'gaily', 'gainfully', 'gainly', 'gallantly', 'gallfly', 'galliardly', 'gallingly', 'gally', 'galvanically', 'galvanometrically', 'galvanoplastically', 'gamely', 'gamesomely', 'gametically', 'gamily', 'gamogenetically', 'gamostely', 'gangly', 'gapingly', 'gardenly', 'gargoylishly', 'garishly', 'garrulously', 'gashly', 'gaspingly', 'gastronomically', 'gauchely', 'gaudily', 'gauntly', 'gauzily', 'gawkily', 'gawkishly', 'gazingly', 'gelatinously', 'gelidly', 'gelly', 'geminately', 'gemmily', 'gemmiparously', 'genealogically', 'genecologically', 'generally', 'generatively', 'generically', 'generously', 'genethliacally', 'genetically', 'genially', 'geniculately', 'genitivally', 'genotypically', 'genteelly', 'gentleheartedly', 'gentlemanly', 'gentlewomanly', 'gently', 'genuinely', 'geocentrically', 'geodetically', 'geognostically', 'geographically', 'geologically', 'geomaly', 'geomantically', 'geometrically', 'geopolitically', 'geotactically', 'geotropically', 'germanely', 'Germanically', 'Germanly', 'germinally', 'germinatively', 'gerundially', 'gerundively', 'gesticulatively', 'ghastily', 'ghastlily', 'ghastly', 'ghostily', 'ghostlily', 'ghostly', 'ghoulishly', 'giantly', 'gibbously', 'gibingly', 'giddily', 'giftedly', 'gigantically', 'gigglingly', 'giggly', 'gigmanically', 'gilly', 'gingerly', 'girdingly', 'girdlingly', 'girlfully', 'girlishly', 'girly', 'glacially', 'gladfully', 'gladly', 'gladsomely', 'glamorously', 'glancingly', 'glandularly', 'glarily', 'glaringly', 'glassily', 'glaucously', 'glazily', 'gleamily', 'gleamingly', 'gleefully', 'gleeishly', 'gleesomely', 'glegly', 'glibly', 'glidingly', 'glimmeringly', 'glisteningly', 'glisteringly', 'glitteringly', 'gloatingly', 'globally', 'globosely', 'globously', 'globularly', 'gloomfully', 'gloomily', 'gloomingly', 'gloriously', 'gloryingly', 'glossarially', 'glossily', 'glossingly', 'glossolaly', 'gloweringly', 'glowfly', 'glowingly', 'glozingly', 'glucosidically', 'glumly', 'glumpily', 'glutinously', 'gluttingly', 'gluttonously', 'glycolytically', 'gnarly', 'gnashingly', 'gnathonically', 'gnawingly', 'gnomically', 'gnomonologically', 'gnostically', 'goatishly', 'goatly', 'godlessly', 'godlily', 'godly', 'goggly', 'goldenly', 'golly', 'goniometrically', 'goodheartedly', 'goodly', 'goodwilly', 'goofily', 'googly', 'goosishly', 'gorbelly', 'gorfly', 'gorgedly', 'gorgeously', 'gorily', 'gospelly', 'gossipingly', 'Gothically', 'goutily', 'governably', 'governingly', 'governmentally', 'gowkedly', 'gracefully', 'gracelessly', 'graciously', 'gradationally', 'gradationately', 'gradatively', 'gradely', 'gradually', 'grammatically', 'gramophonically', 'granddaughterly', 'grandfatherly', 'grandiloquently', 'grandiosely', 'grandly', 'grandmotherly', 'grantedly', 'granularly', 'graphically', 'graphicly', 'graspingly', 'gratefully', 'gratifiedly', 'gratifyingly', 'gratuitously', 'gratulatorily', 'gravelly', 'gravely', 'gravidly', 'gravimetrically', 'gravitationally', 'grayfly', 'grayly', 'grazingly', 'greasily', 'greatly', 'greedily', 'greenly', 'greetingly', 'gregariously', 'grenadierly', 'greyly', 'grieffully', 'grievedly', 'grievingly', 'grievously', 'grimacingly', 'grimily', 'grimly', 'grindingly', 'grinningly', 'gripingly', 'grippingly', 'grisly', 'gristly', 'grittily', 'grizzly', 'groaningly', 'grocerly', 'groggily', 'groomishly', 'gropingly', 'grossly', 'grotesquely', 'grouchily', 'grouchingly', 'groundably', 'groundedly', 'groundlessly', 'groundly', 'grovelingly', 'growingly', 'growlingly', 'growly', 'grubbily', 'grudgefully', 'grudgingly', 'gruelly', 'gruesomely', 'gruffily', 'gruffly', 'grumblingly', 'grumbly', 'grumly', 'grumpily', 'gruntingly', 'guardedly', 'guardfully', 'guardianly', 'guardingly', 'guessingly', 'guidwilly', 'guilefully', 'guilelessly', 'guiltily', 'guiltlessly', 'guily', 'gullibly', 'gullishly', 'gully', 'gulpingly', 'gumly', 'gurglingly', 'gurgly', 'gurly', 'gushily', 'gushingly', 'gustfully', 'gustily', 'gutturally', 'gwely', 'gymnastically', 'gynodioeciously', 'gynomonoeciously', 'gypsophily', 'gyrally', 'gyroidally', 'gyroscopically', 'gyrostatically', 'habitably', 'habitally', 'habitually', 'hackingly', 'hackly', 'haggardly', 'haggishly', 'haggly', 'haily', 'halfheartedly', 'halieutically', 'hallowedly', 'haltingly', 'hammeringly', 'hamperedly', 'handfastly', 'handily', 'handmaidenly', 'handsomely', 'hangingly', 'hankeringly', 'haphazardly', 'haplessly', 'haplolaly', 'haply', 'happily', 'haptotropically', 'harassedly', 'harassingly', 'hardheadedly', 'hardheartedly', 'hardily', 'hardly', 'harebrainedly', 'harmfully', 'harmlessly', 'harmonically', 'harmoniously', 'harmonistically', 'harrowingly', 'harshly', 'hastately', 'hastefully', 'hastily', 'hatefully', 'haughtily', 'haughtly', 'hauntingly', 'hazardously', 'hazelly', 'hazily', 'headily', 'headlongly', 'headmasterly', 'headstrongly', 'healingly', 'healthfully', 'healthily', 'healthsomely', 'heartbreakingly', 'heartbrokenly', 'heartedly', 'hearteningly', 'heartfully', 'heartily', 'heartlessly', 'heartly', 'heartsomely', 'heatedly', 'heathenishly', 'heatingly', 'heavenishly', 'heavenly', 'heavenwardly', 'heavily', 'hebdomadally', 'Hebraically', 'Hebraistically', 'hectically', 'hecticly', 'hectoringly', 'hectorly', 'hederaceously', 'hedgingly', 'hedonically', 'hedonistically', 'heedfully', 'heedily', 'heedlessly', 'heftily', 'heinously', 'heliacally', 'helically', 'helicoidally', 'heliocentrically', 'heliographically', 'heliometrically', 'heliotropically', 'heliotypically', 'Hellenically', 'Hellenistically', 'hellishly', 'helly', 'helpfully', 'helpingly', 'helplessly', 'helply', 'hemihedrally', 'hemimetaboly', 'hemispherically', 'hendly', 'hepatomegaly', 'heraldically', 'herbaceously', 'hereditably', 'hereditarily', 'heretically', 'heritably', 'hermaphroditically', 'hermeneutically', 'hermetically', 'hermitically', 'heroically', 'heroicly', 'herpetologically', 'hesitantly', 'hesitatingly', 'hesitatively', 'heterically', 'heteroblastically', 'heterodoxly', 'heteroeciously', 'heterogeneously', 'heterogonously', 'heterologically', 'heterometaboly', 'heteronomously', 'heteronymously', 'heterophylly', 'heterophyly', 'heteropoly', 'heterostyly', 'hetterly', 'heuristically', 'hexadactyly', 'hexagonally', 'hexangularly', 'Hibernically', 'hiddenly', 'hideously', 'hierarchically', 'hieratically', 'hieroglyphically', 'hierophantically', 'hierophanticly', 'highhandedly', 'highheartedly', 'highly', 'hilariously', 'hillbilly', 'hilly', 'hinderfully', 'hinderingly', 'hinderly', 'hintedly', 'hintingly', 'hissingly', 'histogenetically', 'histologically', 'histomorphologically', 'histophyly', 'historically', 'historiographically', 'histrionically', 'hitchily', 'hoarily', 'hoarsely', 'hobblingly', 'hobbly', 'hobbyhorsically', 'hoggishly', 'holdingly', 'holily', 'holistically', 'hollowly', 'Holly', 'holly', 'holoblastically', 'holometaboly', 'holy', 'homelessly', 'homelily', 'homely', 'homeopathically', 'Homerically', 'homesickly', 'homewardly', 'homicidally', 'homiletically', 'homily', 'homocentrically', 'homoeopathically', 'homogeneously', 'homogonously', 'homologically', 'homometrically', 'homonymously', 'homophyly', 'homostyly', 'homotaxially', 'homotonously', 'honestly', 'honeyedly', 'honily', 'honorably', 'honorarily', 'honorifically', 'hooly', 'hootingly', 'hopefully', 'hopelessly', 'hopingly', 'hoppingly', 'horizontally', 'horizontically', 'hornily', 'horologically', 'horrendously', 'horribly', 'horridly', 'horrifically', 'horsefly', 'horsily', 'hortatively', 'hortatorily', 'horticulturally', 'hospitably', 'hostilely', 'hostly', 'hotchpotchly', 'hotheadedly', 'hotheartedly', 'hotly', 'hourly', 'housefly', 'housekeeperly', 'housemaidenly', 'housemotherly', 'housewifely', 'hoveringly', 'hoverly', 'howlingly', 'hubbly', 'huddlingly', 'Hudibrastically', 'huffily', 'huffingly', 'huffishly', 'hugely', 'hugeously', 'huggingly', 'humanely', 'humanistically', 'humanly', 'humblingly', 'humbly', 'humidly', 'humiliatingly', 'humoresquely', 'humorously', 'humorsomely', 'hungeringly', 'hungerly', 'hungrily', 'huntedly', 'hurly', 'hurriedly', 'hurryingly', 'hurtfully', 'hurtlessly', 'hurtlingly', 'husbandly', 'hushedly', 'hushfully', 'hushingly', 'huskily', 'hydraulically', 'hydrically', 'hydrocephaly', 'hydrographically', 'hydrologically', 'hydromantically', 'hydrometallurgically', 'hydrophily', 'hydropically', 'hydrostatically', 'hyetographically', 'hygienically', 'hygrometrically', 'hygroscopically', 'hylozoistically', 'hymeneally', 'hymnologically', 'hyostyly', 'hyperbatically', 'hyperbolically', 'hyperbolicly', 'hyperbrachycephaly', 'hypercreaturely', 'hypercritically', 'hyperdactyly', 'hyperdolichocephaly', 'hyperphysically', 'hypersaintly', 'hypertely', 'hypertragically', 'hypidiomorphically', 'hypnotically', 'hypochondriacally', 'hypocoristically', 'hypocritically', 'hypodermatically', 'hypodermically', 'hypoleptically', 'hyponastically', 'hypopetaly', 'hypostatically', 'hypothetically', 'hypsibrachycephaly', 'hypsicephaly', 'hypsidolichocephaly', 'hypsistenocephaly', 'hypsometrically', 'hysteretically', 'hysterically', 'iambically', 'ichnographically', 'ichthyologically', 'icily', 'iconoclastically', 'iconoduly', 'iconomatically', 'iconometrically', 'iconophily', 'idealistically', 'ideally', 'ideationally', 'identically', 'ideographically', 'ideologically', 'idiomatically', 'idiomorphically', 'idiopathically', 'idiosyncratically', 'idiotically', 'idly', 'idolatrously', 'idyllically', 'ignobly', 'ignominiously', 'ignorantly', 'illatively', 'illaudably', 'illegally', 'illegibly', 'illegitimately', 'illiberally', 'illicitly', 'illimitably', 'illimitedly', 'illiquidly', 'illiterately', 'illocally', 'illogically', 'illudedly', 'illuminatingly', 'illusively', 'illusorily', 'illustratively', 'illustriously', 'illy', 'imagerially', 'imaginably', 'imaginarily', 'imaginatively', 'imbecilely', 'imbricately', 'imitatively', 'immaculately', 'immanely', 'immanently', 'immarcescibly', 'immaterially', 'immaturely', 'immeasurably', 'immechanically', 'immediately', 'immedicably', 'immemorially', 'immensely', 'immeritoriously', 'immethodically', 'immetrically', 'imminently', 'immiscibly', 'immitigably', 'immoderately', 'immodestly', 'immorally', 'immortally', 'immovably', 'immunogenically', 'immunologically', 'immusically', 'immutably', 'impalpably', 'impardonably', 'impartially', 'impartibilibly', 'impartibly', 'impassably', 'impassibilibly', 'impassionately', 'impassionedly', 'impassively', 'impatiently', 'impavidly', 'impeccably', 'impecuniously', 'impedingly', 'impenetrably', 'impenitently', 'imperatively', 'imperatorially', 'imperceivably', 'imperceptibly', 'imperfectly', 'imperialistically', 'imperially', 'imperiously', 'imperishably', 'impermanently', 'impermeably', 'impersonally', 'impersuasibly', 'impertinently', 'imperturbably', 'imperviously', 'impetulantly', 'impetuously', 'impiously', 'impishly', 'impitiably', 'implacably', 'implausibly', 'implicately', 'implicatively', 'implicitly', 'impliedly', 'imploringly', 'implosively', 'imply', 'impolitely', 'impolitically', 'impoliticly', 'imponderably', 'impopularly', 'importably', 'importantly', 'importunately', 'importunely', 'imposingly', 'impossibly', 'impotently', 'impracticably', 'imprecatorily', 'imprecisely', 'impregnably', 'imprescriptibly', 'impressedly', 'impressibly', 'impressionably', 'impressionally', 'impressionistically', 'impressively', 'improbably', 'improgressively', 'improperly', 'improvably', 'improvidentially', 'improvidently', 'improvingly', 'improvisatorially', 'improvisedly', 'imprudently', 'impudently', 'impulsively', 'impunely', 'impunibly', 'impurely', 'imputably', 'imputatively', 'imputedly', 'inaccessibly', 'inaccordantly', 'inaccurately', 'inactively', 'inadequately', 'inadequatively', 'inadmissibly', 'inadvertently', 'inadvisedly', 'inalienably', 'inalterably', 'inanely', 'inanimately', 'inapplicably', 'inappositely', 'inappreciably', 'inappreciatively', 'inapproachably', 'inappropriately', 'inaptly', 'inarguably', 'inarticulately', 'inartificially', 'inartistically', 'inattentively', 'inaudibly', 'inauspiciously', 'incalculably', 'incandescently', 'incapably', 'incautiously', 'incedingly', 'incensurably', 'incentively', 'inceptively', 'incessably', 'incessantly', 'incestuously', 'inchoately', 'incidentally', 'incidently', 'incipiently', 'incircumspectly', 'incisely', 'incisively', 'incitingly', 'inclemently', 'inclinatorily', 'inclusively', 'incogitantly', 'incoherently', 'incombustibly', 'incommensurably', 'incommensurately', 'incommodiously', 'incommunicably', 'incommunicatively', 'incommutably', 'incompactly', 'incomparably', 'incompassionately', 'incompatibly', 'incompetently', 'incompletely', 'incompliantly', 'incomposedly', 'incomprehendingly', 'incomprehensibly', 'incomprehensively', 'incompressibly', 'inconceivably', 'inconcinnately', 'inconclusively', 'inconformably', 'inconfusedly', 'inconfutably', 'incongruently', 'incongruously', 'inconsciently', 'inconsciously', 'inconsecutively', 'inconsequentially', 'inconsequently', 'inconsiderably', 'inconsiderately', 'inconsistently', 'inconsolably', 'inconsolately', 'inconsonantly', 'inconspicuously', 'inconstantly', 'inconsumably', 'incontestably', 'incontinently', 'incontrollably', 'incontrovertibly', 'inconveniently', 'inconvertibly', 'inconvincedly', 'inconvincibly', 'incorporeally', 'incorrectly', 'incorrigibly', 'incorruptibly', 'incorruptly', 'incourteously', 'increasedly', 'increasingly', 'increately', 'incredibly', 'incredulously', 'inculpably', 'incumbently', 'incurably', 'incuriously', 'indecently', 'indecipherably', 'indecisively', 'indeclinably', 'indecorously', 'indefatigably', 'indefeasibly', 'indefectibly', 'indefensibly', 'indeficiently', 'indefinably', 'indefinitely', 'indefinitively', 'indeliberately', 'indelibly', 'indelicately', 'indemonstrably', 'indentedly', 'independently', 'indescribably', 'indestructibly', 'indeterminably', 'indeterminately', 'indevoutly', 'indexically', 'indicatively', 'indictably', 'indifferently', 'indigenously', 'indigently', 'indigestibly', 'indignantly', 'indignly', 'indirectly', 'indiscernibly', 'indiscerptibly', 'indiscoverably', 'indiscreetly', 'indiscretely', 'indiscriminately', 'indiscriminatingly', 'indiscriminatively', 'indispensably', 'indisputably', 'indissolubly', 'indissolvably', 'indissuadably', 'indistinctively', 'indistinctly', 'indistinguishably', 'indivertibly', 'individualistically', 'individualizingly', 'individually', 'indivisibly', 'indolently', 'indomitably', 'indubiously', 'indubitably', 'indubitatively', 'inducedly', 'inductionally', 'inductively', 'indulgentially', 'indulgently', 'indulgingly', 'industrially', 'industriously', 'ineffably', 'ineffaceably', 'ineffectibly', 'ineffectively', 'ineffectually', 'inefficaciously', 'inefficiently', 'inelaborately', 'inelegantly', 'ineligibly', 'ineloquently', 'ineluctably', 'ineludibly', 'ineptly', 'inequally', 'inequitably', 'ineradicably', 'inerasably', 'inerrably', 'inerrantly', 'inerringly', 'inertly', 'ineruditely', 'inescapably', 'inestimably', 'inevadibly', 'inevitably', 'inexactly', 'inexclusively', 'inexcusably', 'inexhaustedly', 'inexhaustibly', 'inexhaustively', 'inexorably', 'inexpectedly', 'inexpediently', 'inexpensively', 'inexpertly', 'inexpiably', 'inexplicably', 'inexplicitly', 'inexpressibly', 'inexpressively', 'inexpugnably', 'inextinguishably', 'inextricably', 'infallibly', 'infamously', 'infatuatedly', 'infectiously', 'infelicitously', 'inferentially', 'inferiorly', 'infernally', 'inferringly', 'infertilely', 'infidelly', 'infinitarily', 'infinitely', 'infinitesimally', 'infinitivally', 'infinitively', 'infirmly', 'inflamedly', 'inflamingly', 'inflammably', 'inflammatorily', 'inflatedly', 'inflatingly', 'inflectionally', 'inflexibly', 'influentially', 'influxibly', 'informally', 'informatively', 'informedly', 'informingly', 'infortunately', 'infrangibly', 'infrarenally', 'infrequently', 'infructuously', 'infrustrably', 'infuriately', 'infuriatingly', 'infusedly', 'ingenerably', 'ingenerately', 'ingeniously', 'ingenuously', 'ingloriously', 'ingrainedly', 'ingratefully', 'ingrately', 'ingratiatingly', 'inharmoniously', 'inherently', 'inheritably', 'inhomogeneously', 'inhospitably', 'inhumanely', 'inhumanly', 'inhumorously', 'inimically', 'inimitably', 'iniquitably', 'iniquitously', 'initially', 'initiatively', 'initiatorily', 'injelly', 'injudicially', 'injudiciously', 'injunctively', 'injuredly', 'injuriously', 'inly', 'innately', 'innaturally', 'innerly', 'innermostly', 'innocently', 'innocuously', 'innoxiously', 'innumerably', 'inobediently', 'inobservantly', 'inobtrusively', 'inodorously', 'inoffensively', 'inofficially', 'inofficiously', 'inopinately', 'inopportunely', 'inorderly', 'inordinately', 'inorganically', 'inostensibly', 'inquietly', 'inquiringly', 'inquisitively', 'inquisitorially', 'insanely', 'insatiably', 'insatiately', 'insatisfactorily', 'inscriptively', 'inscrutably', 'insecurely', 'insensately', 'insensibly', 'inseparably', 'inseparately', 'inseverably', 'insidiously', 'insignificantly', 'insincerely', 'insinuatingly', 'insinuatively', 'insipidly', 'insipiently', 'insistently', 'insistingly', 'insociably', 'insocially', 'insolently', 'insolubly', 'insolvably', 'insouciantly', 'inspectingly', 'inspirationally', 'inspiredly', 'inspiringly', 'inspiritingly', 'instantaneously', 'instantly', 'instigatingly', 'instinctively', 'institutionally', 'institutively', 'instructedly', 'instructively', 'instrumentally', 'insubordinately', 'insufferably', 'insufficiently', 'insularly', 'insultingly', 'insuperably', 'insupportably', 'insuppressibly', 'insurmountably', 'insurrectionally', 'insusceptibly', 'intactly', 'intangibly', 'integrally', 'integriously', 'intellectively', 'intellectualistically', 'intellectually', 'intelligently', 'intelligibly', 'intemerately', 'intemperably', 'intemperately', 'intempestively', 'intemporally', 'intendedly', 'intendingly', 'intensely', 'intensionally', 'intensively', 'intentionally', 'intentively', 'intently', 'interally', 'intercalarily', 'interchangeably', 'intercolonially', 'interconvertibly', 'intercosmically', 'intercostally', 'intercurrently', 'interdentally', 'interdepartmentally', 'interdependently', 'interestedly', 'interestingly', 'interfamily', 'interferingly', 'interimistically', 'interiorly', 'interjectionally', 'interjectorily', 'interlacedly', 'interlineally', 'interlinearily', 'interlinearly', 'interlocally', 'interlocutorily', 'intermeddlingly', 'intermediately', 'interminably', 'intermittedly', 'intermittently', 'intermittingly', 'intermixedly', 'intermixtly', 'intermutually', 'internally', 'internationally', 'interorbitally', 'interparenthetically', 'interpenetratively', 'interpolatively', 'interposingly', 'interpretably', 'interpretatively', 'interpretively', 'interradially', 'interrelatedly', 'interrogatingly', 'interrogatively', 'interrogatorily', 'interruptedly', 'interruptingly', 'interruptively', 'interspatially', 'interspersedly', 'interstitially', 'intertwiningly', 'intertwistingly', 'intervertebrally', 'interweavingly', 'interwovenly', 'intestinally', 'intimately', 'intolerably', 'intolerantly', 'intoxicatedly', 'intoxicatingly', 'intracellularly', 'intracerebrally', 'intracosmically', 'intracranially', 'intractably', 'intradermally', 'intradermically', 'intralaryngeally', 'intramatrically', 'intramuscularly', 'intransigently', 'intransitively', 'intraperitoneally', 'intrapsychically', 'intratracheally', 'intravenously', 'intravertebrally', 'intrepidly', 'intricately', 'intriguingly', 'intrinsically', 'introductively', 'introductorily', 'introrsely', 'introspectively', 'introversively', 'intrudingly', 'intrusively', 'intuitionally', 'intuitively', 'inurbanely', 'inutilely', 'invalidly', 'invaluably', 'invariably', 'invariantively', 'invariantly', 'invectively', 'inventively', 'inventorially', 'inversedly', 'inversely', 'invertedly', 'investigatingly', 'inveterately', 'invidiously', 'invigoratingly', 'invigoratively', 'invincibly', 'inviolably', 'inviolately', 'invisibly', 'invitingly', 'involuntarily', 'involutedly', 'involutely', 'involvedly', 'invulnerably', 'inwardly', 'irascibly', 'irately', 'irefully', 'irenically', 'iridescently', 'Irishly', 'irksomely', 'ironhandedly', 'ironheartedly', 'ironically', 'ironly', 'irradiatingly', 'irrationably', 'irrationally', 'irreclaimably', 'irrecognizably', 'irreconcilably', 'irreconciliably', 'irrecoverably', 'irrecusably', 'irredeemably', 'irredressibly', 'irreducibly', 'irreflectively', 'irrefragably', 'irrefrangibly', 'irrefutably', 'irregularly', 'irrelatively', 'irrelevantly', 'irreligiously', 'irremeably', 'irremediably', 'irremissibly', 'irremovably', 'irreparably', 'irrepealably', 'irrepentantly', 'irreplaceably', 'irreprehensibly', 'irrepressibly', 'irreproachably', 'irreprovably', 'irresistibly', 'irresolutely', 'irresolvedly', 'irrespectively', 'irresponsibly', 'irrestrainably', 'irresuscitably', 'irretraceably', 'irretrievably', 'irrevealably', 'irreverendly', 'irreverentially', 'irreverently', 'irreversibly', 'irrevocably', 'irrigably', 'irritably', 'irritatedly', 'irritatingly', 'irrotationally', 'irruptively', 'isagogically', 'isocephaly', 'isochronally', 'isochronously', 'isoelectrically', 'isogonally', 'isographically', 'isolatedly', 'isomerically', 'isometrically', 'isophylly', 'isopiestically', 'isopoly', 'isostatically', 'isotely', 'isothermally', 'issuably', 'Italianately', 'Italianly', 'Italically', 'itchingly', 'iteratively', 'itinerantly', 'jabberingly', 'jabbingly', 'Jacobinically', 'Jacobitely', 'Jacobitically', 'Jacobitishly', 'jadedly', 'jadishly', 'jaggedly', 'jangly', 'Japanesquely', 'japingly', 'japishly', 'Japonically', 'jarfly', 'jarringly', 'jauntily', 'jauntingly', 'jawbreakingly', 'jazzily', 'jealously', 'jeeringly', 'jejunely', 'jellily', 'jelly', 'jemmily', 'jeopardously', 'jerkily', 'jerkingly', 'jestingly', 'Jesuitically', 'jettingly', 'jewely', 'Jewishly', 'jiggly', 'jimply', 'jinglingly', 'jingly', 'jocosely', 'jocularly', 'jocundly', 'joggly', 'Johnsonianly', 'joiningly', 'jointedly', 'jointly', 'jokingly', 'jollily', 'jolly', 'joltingly', 'journalistically', 'jovially', 'Jovianly', 'Jovicentrically', 'jowly', 'joyfully', 'joylessly', 'joyously', 'jubilantly', 'Judaically', 'Judaistically', 'judgingly', 'judgmatically', 'judicially', 'judiciarily', 'judiciously', 'jugglingly', 'juicily', 'July', 'jumblingly', 'jumbly', 'jumpingly', 'jungly', 'jurally', 'juramentally', 'juridically', 'jurisdictionally', 'jurisprudentially', 'juristically', 'justifiably', 'justifyingly', 'justly', 'juttingly', 'juvenilely', 'kaleidoscopically', 'karyologically', 'katabolically', 'keenly', 'Kelly', 'kelly', 'kennelly', 'kenogenetically', 'kernelly', 'killingly', 'killy', 'Kimberly', 'kindheartedly', 'kindlily', 'kindly', 'kindredly', 'kinematically', 'kinetically', 'kinetogenetically', 'kinglily', 'kingly', 'kinkily', 'kinkly', 'kinsmanly', 'kissingly', 'kittenishly', 'kittly', 'knappishly', 'knavishly', 'kneadingly', 'kneelingly', 'knightly', 'knobbly', 'knolly', 'knottily', 'knowingly', 'knowledgeably', 'knubbly', 'knuckly', 'knurly', 'Koolooly', 'labially', 'laboredly', 'laboringly', 'laboriously', 'laborously', 'laborsomely', 'labyrinthally', 'labyrinthically', 'lacerately', 'lachrymally', 'lachrymosely', 'lacily', 'lackadaisically', 'lackwittedly', 'laconically', 'ladyfly', 'ladylikely', 'ladyly', 'laggardly', 'laically', 'lairdly', 'lambently', 'lambly', 'lamellarly', 'lamellately', 'lamely', 'lamentably', 'lamentedly', 'lamentingly', 'lampfly', 'lancely', 'lanceolately', 'landlordly', 'landlubberly', 'languidly', 'languishingly', 'languorously', 'lankily', 'lankly', 'lapsingly', 'laputically', 'larcenously', 'largely', 'larkingly', 'laryngeally', 'lasciviously', 'lashingly', 'lastingly', 'lastly', 'lately', 'latently', 'laterally', 'latitudinally', 'latterly', 'laudably', 'laudatorily', 'laughably', 'laughingly', 'lavishingly', 'lavishly', 'lawfully', 'lawlessly', 'lawyerly', 'laxatively', 'laxly', 'lazarly', 'lazily', 'leadenly', 'leadingly', 'leally', 'leanly', 'leapingly', 'learnedly', 'lecherously', 'leerily', 'leeringly', 'leewardly', 'leftwardly', 'legalistically', 'legally', 'legibly', 'legislatively', 'legislatorially', 'legitimately', 'leisurably', 'leisurely', 'lengthily', 'leniently', 'lenitively', 'lenticularly', 'leoninely', 'leprously', 'leptocephaly', 'lethally', 'lethargically', 'leucocholy', 'levelheadedly', 'levelly', 'Levitically', 'lewdly', 'lexicographically', 'lexigraphically', 'libelously', 'liberally', 'libidinally', 'libidinously', 'licentiously', 'licitly', 'lickerishly', 'liegefully', 'liegely', 'lifefully', 'lifelessly', 'lifesomely', 'ligamentously', 'lightheadedly', 'lightheartedly', 'lightly', 'lightsomely', 'likely', 'liltingly', 'lily', 'limberly', 'limitatively', 'limitedly', 'limitlessly', 'limnobiologically', 'limnologically', 'limpidly', 'limpily', 'limpingly', 'limply', 'lineally', 'linearly', 'lingually', 'linguistically', 'lionly', 'liquidly', 'liquorishly', 'lispingly', 'lissomely', 'listlessly', 'literaily', 'literally', 'lithely', 'lithographically', 'lithologically', 'litigiously', 'liturgically', 'livelily', 'lively', 'lividly', 'livingly', 'loafingly', 'loamily', 'loathfully', 'loathingly', 'loathly', 'loathsomely', 'lobately', 'loblolly', 'lobularly', 'locally', 'locomotively', 'loculicidally', 'loftily', 'logarithmetically', 'logarithmically', 'logically', 'logodaedaly', 'logographically', 'logometrically', 'loiteringly', 'lollingly', 'lolly', 'lonelily', 'lonely', 'lonesomely', 'longheadedly', 'longingly', 'longitudinally', 'longly', 'longsomely', 'loosely', 'lopsidedly', 'loquaciously', 'loquently', 'lordlily', 'lordly', 'lotophagously', 'loudly', 'loungingly', 'lousily', 'loutishly', 'lovably', 'lovelessly', 'lovelily', 'lovely', 'loverly', 'lovesomely', 'lovingly', 'loweringly', 'lowishly', 'lowlily', 'lowly', 'lownly', 'loxodromically', 'loyally', 'lubberly', 'lucently', 'lucidly', 'luciferously', 'luckily', 'lucklessly', 'lucratively', 'luculently', 'ludicrously', 'luetically', 'lugubriously', 'lukely', 'lukewarmly', 'lullingly', 'lumberingly', 'lumberly', 'luminously', 'lumpily', 'lumpingly', 'lumpishly', 'lunately', 'lunatically', 'lurchingfully', 'lurchingly', 'luridly', 'luringly', 'lurkingly', 'lusciously', 'lushly', 'lustfully', 'lustily', 'lustrously', 'luxuriantly', 'luxuriously', 'ly', 'lyingly', 'lyrately', 'lyrically', 'lysigenously', 'macaronically', 'Machiavellianly', 'machinely', 'macrocephaly', 'macrochemically', 'macrocoly', 'macrodactyly', 'macroscopically', 'maddeningly', 'maddingly', 'madly', 'magically', 'magisterially', 'magistrally', 'magistratically', 'magnanimously', 'magnetically', 'magnetometrically', 'magnifically', 'magnificently', 'magniloquently', 'maidenly', 'maimedly', 'mainly', 'majestically', 'maladroitly', 'malapertly', 'malcontentedly', 'malcontently', 'malefically', 'malevolently', 'maliciously', 'malignantly', 'malignly', 'malodorously', 'mammogenically', 'manageably', 'managerially', 'mandatorily', 'manfully', 'mangily', 'manglingly', 'maniacally', 'manifestatively', 'manifestly', 'manifoldly', 'manipulatively', 'manlessly', 'manlikely', 'manlily', 'manly', 'manneristically', 'mannerly', 'mannishly', 'mansuetely', 'manually', 'manurially', 'marbly', 'marginally', 'margravely', 'maritally', 'markedly', 'marketably', 'marksmanly', 'marly', 'marmoreally', 'martially', 'martyrly', 'marvelously', 'mascally', 'masculinely', 'masculy', 'massedly', 'massily', 'massively', 'masterfully', 'masterlily', 'masterly', 'matchably', 'matchlessly', 'mately', 'materialistically', 'materially', 'maternally', 'mathematically', 'matrilineally', 'matrimonially', 'matrimoniously', 'matronly', 'mattedly', 'maturely', 'matutinally', 'matutinely', 'maudlinly', 'mawkishly', 'maximally', 'mazedly', 'mazily', 'meagerly', 'mealily', 'mealy', 'mealymouthedly', 'meanderingly', 'meaningfully', 'meaninglessly', 'meaningly', 'meanly', 'measly', 'measurably', 'measuredly', 'measurelessly', 'measurely', 'meatily', 'mechanically', 'mechanistically', 'medallically', 'meddlesomely', 'meddlingly', 'mediaevally', 'medially', 'medianly', 'mediately', 'mediatingly', 'mediatorially', 'medically', 'medicamentally', 'medicinally', 'medicolegally', 'medievally', 'mediodorsally', 'meditatingly', 'meditatively', 'meekly', 'meeterly', 'meetly', 'megacephaly', 'megalocephaly', 'megalosyndactyly', 'megascopically', 'meiophylly', 'melancholically', 'melancholily', 'melancholiously', 'melancholy', 'mellifluently', 'mellifluously', 'mellowly', 'melodially', 'melodically', 'melodiously', 'melodramatically', 'meltingly', 'membrally', 'membranaceously', 'membranously', 'memorably', 'memorially', 'menacingly', 'mendaciously', 'menially', 'mensurably', 'mentally', 'Mephistopheleanly', 'mercantilely', 'mercenarily', 'merchantly', 'mercifully', 'mercilessly', 'mercurially', 'merely', 'meretriciously', 'meridionally', 'meristematically', 'meristically', 'meritedly', 'meritoriously', 'meroblastically', 'merrily', 'mesally', 'mesaticephaly', 'mesenterically', 'mesially', 'mesically', 'mesiodistally', 'mesmerically', 'mesocephaly', 'mesoventrally', 'Messianically', 'messianically', 'messily', 'metabiotically', 'metaboly', 'metagenetically', 'metaleptically', 'metallically', 'metallicly', 'metallurgically', 'metamerically', 'metaphorically', 'metaphrastically', 'metaphysically', 'metastatically', 'metatatically', 'metathetically', 'metempirically', 'meteorically', 'meteorologically', 'methodically', 'Methodistically', 'methodologically', 'meticulously', 'metonymically', 'metonymously', 'metrically', 'metronomically', 'metropolitically', 'mettlesomely', 'miasmatically', 'micrencephaly', 'microbiologically', 'microcephaly', 'microchemically', 'microcolorimetrically', 'micrographically', 'micrologically', 'micrometrically', 'microscopically', 'middlingly', 'midmonthly', 'midnightly', 'midweekly', 'midwinterly', 'mightily', 'mildly', 'militantly', 'militarily', 'militaristically', 'milkily', 'millennially', 'millesimally', 'Milly', 'Miltonically', 'mimeographically', 'mimetically', 'mimically', 'mimly', 'minaciously', 'minatorially', 'minatorily', 'mincingly', 'mindfully', 'mindlessly', 'mineralogically', 'mingledly', 'minglingly', 'minikinly', 'minimally', 'minionly', 'ministerially', 'minutely', 'minutiously', 'minxishly', 'miraculously', 'mirthfully', 'mirthlessly', 'misadventurously', 'misadvisedly', 'misally', 'misanthropically', 'misapply', 'misapprehendingly', 'misapprehensively', 'misappropriately', 'misbecomingly', 'misbelievingly', 'miscellaneously', 'mischievously', 'miserably', 'miserly', 'misfortunately', 'misgivingly', 'misguidedly', 'misguidingly', 'misjudgingly', 'misleadingly', 'mislikingly', 'misshapenly', 'missingly', 'mistakably', 'mistakenly', 'mistakingly', 'mistily', 'mistressly', 'mistrustfully', 'mistrustingly', 'misunderstandingly', 'mitigatedly', 'mitotically', 'mixedly', 'mizzly', 'mnemonically', 'moanfully', 'moaningly', 'mobbishly', 'mockfully', 'modally', 'moderately', 'modernly', 'modestly', 'modifiably', 'modishly', 'moilingly', 'moistly', 'molecularly', 'molehilly', 'molestfully', 'molliently', 'mollifiedly', 'mollifyingly', 'Molly', 'molly', 'moltenly', 'moly', 'momentally', 'momentaneously', 'momentarily', 'momently', 'momentously', 'monadically', 'monarchally', 'monarchically', 'monasterially', 'monastically', 'monetarily', 'mongrelly', 'moniliformly', 'monistically', 'monitorially', 'monkeyishly', 'monkishly', 'monkly', 'monochromatically', 'monochromically', 'monoclinally', 'monocularly', 'monodactyly', 'monodically', 'monoeciously', 'monogamously', 'monographically', 'monopodially', 'monopolistically', 'monopoly', 'monostely', 'monosyllabically', 'monosymmetrically', 'monotheistically', 'monotonically', 'monotonously', 'monsoonishly', 'monstrously', 'monthly', 'monumentally', 'moodily', 'moodishly', 'moonily', 'moorishly', 'mopingly', 'mopishly', 'moralistically', 'moralizingly', 'morally', 'morbidly', 'morbifically', 'mordaciously', 'mordantly', 'morganatically', 'moribundly', 'morigerously', 'morningly', 'morologically', 'morosely', 'morphically', 'morphologically', 'morphophonemically', 'morphophyly', 'mortally', 'mortiferously', 'mortifiedly', 'mortifyingly', 'mosaically', 'mostly', 'motherly', 'motionlessly', 'motivelessly', 'mouly', 'mountably', 'mountainously', 'mountebankly', 'mountingly', 'mournfully', 'mourningly', 'mousily', 'mousingly', 'mouthily', 'mouthingly', 'mouthishly', 'movably', 'moveably', 'movelessly', 'movingly', 'muchly', 'mucilaginously', 'mucronately', 'muddily', 'muddlingly', 'muggily', 'mulishly', 'multangularly', 'multifariously', 'multifidly', 'multilaterally', 'multiplicatively', 'multiply', 'multiserially', 'multituberculy', 'multitudinously', 'mumblingly', 'mumpishly', 'mundanely', 'municipally', 'munificently', 'murally', 'murderingly', 'murderously', 'muriformly', 'murkily', 'murkly', 'murly', 'murmuringly', 'murmurlessly', 'murmurously', 'muscly', 'muscularly', 'musefully', 'mushily', 'musically', 'musicianly', 'musily', 'musingly', 'mussably', 'mussily', 'mustily', 'mutably', 'mutationally', 'mutedly', 'mutely', 'mutinously', 'mutteringly', 'mutually', 'muzzily', 'mycologically', 'myopically', 'myriadly', 'myrmecophily', 'mystagogically', 'mysteriously', 'mystically', 'mysticly', 'mystifically', 'mystifiedly', 'mystifyingly', 'mythically', 'mythologically', 'nabobishly', 'naggingly', 'naggly', 'naifly', 'naily', 'naively', 'nakedly', 'namelessly', 'namely', 'nanocephaly', 'Napoleonically', 'narcotically', 'narratively', 'narrowly', 'nasally', 'nastily', 'natantly', 'nationalistically', 'nationally', 'natively', 'nattily', 'naturalistically', 'naturally', 'naturistically', 'naughtily', 'nauseatingly', 'nauseously', 'nautically', 'navalistically', 'navally', 'navigably', 'nearly', 'nearsightedly', 'neatly', 'nebulously', 'necessarily', 'necessitatedly', 'necessitatingly', 'necessitously', 'necrologically', 'necromantically', 'necrophily', 'nectareously', 'needfully', 'needily', 'needlessly', 'needly', 'nefariously', 'negatively', 'neglectedly', 'neglectfully', 'neglectingly', 'neglectively', 'negligently', 'negligibly', 'neighborly', 'Nelly', 'nemophily', 'neologically', 'neoterically', 'nephelometrically', 'nephromegaly', 'nervelessly', 'nervily', 'nervously', 'neshly', 'nettly', 'neurasthenically', 'neuropathically', 'neurotically', 'neuterly', 'neutrally', 'newfangledly', 'newly', 'nextly', 'nibblingly', 'nicely', 'niggardly', 'nigglingly', 'niggly', 'nighly', 'nightly', 'nightmarishly', 'nimbly', 'nineteenthly', 'ninthly', 'nippily', 'nippingly', 'nitently', 'nobbily', 'nobleheartedly', 'noblemanly', 'nobly', 'nocturnally', 'nocuously', 'noddingly', 'noily', 'noisefully', 'noiselessly', 'noisily', 'noisomely', 'nomadically', 'nominally', 'nominately', 'nominatively', 'nomographically', 'nonapply', 'nonbodily', 'nonchalantly', 'noncommittally', 'noncompetitively', 'nonconformably', 'nonconformistically', 'noncontentiously', 'nonexpansively', 'nonfamily', 'nonhereditarily', 'noninductively', 'noninfinitely', 'nonintrospectively', 'nonly', 'nonmutationally', 'nonofficially', 'nonoily', 'nonpriestly', 'nonproductively', 'nonprojectively', 'nonsensically', 'nonsexually', 'nonsymbiotically', 'nonunderstandingly', 'nonuniformly', 'nonvertically', 'nonvortically', 'normally', 'Normanly', 'normatively', 'northeasterly', 'northeastwardly', 'northerly', 'northernly', 'northwardly', 'northwesterly', 'northwestwardly', 'noselessly', 'nosographically', 'nosologically', 'nostalgically', 'notably', 'notarially', 'notedly', 'notelessly', 'noteworthily', 'nothingly', 'noticeably', 'notionally', 'notoriously', 'notourly', 'noumenally', 'nounally', 'nourishingly', 'novelistically', 'novelly', 'noxally', 'noxiously', 'nubbly', 'nudely', 'numbingly', 'numbly', 'numerably', 'numerically', 'numerously', 'numinously', 'numismatically', 'nuncupatively', 'nuptially', 'nurly', 'nursingly', 'nutritionally', 'nutritiously', 'nutritively', 'nuttily', 'nymphly', 'oafishly', 'obdurately', 'obedientially', 'obediently', 'obeisantly', 'obesely', 'obeyingly', 'obituarily', 'objectionably', 'objectively', 'objectlessly', 'objurgatively', 'objurgatorily', 'oblately', 'obligatorily', 'obligedly', 'obligingly', 'obliquely', 'obliviously', 'oblongly', 'obnoxiously', 'obreptitiously', 'obscenely', 'obscuredly', 'obscurely', 'obsequiously', 'observably', 'observantly', 'observationally', 'observedly', 'observingly', 'obsessingly', 'obsolescently', 'obsoletely', 'obstetrically', 'obstinately', 'obstreperously', 'obstructedly', 'obstructingly', 'obstructively', 'obtrusively', 'obtusely', 'obversely', 'obviously', 'occasionally', 'occidentally', 'occipitally', 'occlusocervically', 'occultly', 'occupationally', 'oceanographically', 'ochlocratically', 'octagonally', 'octennially', 'octuply', 'ocularly', 'oddly', 'odically', 'odiously', 'odoriferously', 'odorously', 'offendedly', 'offenselessly', 'offensively', 'offhandedly', 'officially', 'officinally', 'officiously', 'offishly', 'oftly', 'ogreishly', 'oilily', 'oily', 'olericulturally', 'olfactorily', 'oligarchically', 'oligopoly', 'Olympianly', 'Olympicly', 'ombrophily', 'ominously', 'omissively', 'omnifariously', 'omnipotently', 'omnipresently', 'omnisciently', 'omnivorously', 'oneirocritically', 'onerously', 'only', 'onomatopoeically', 'onomatopoetically', 'ontogenetically', 'ontogenically', 'ontologically', 'onwardly', 'oolly', 'oologically', 'oozily', 'opaquely', 'openhandedly', 'openheartedly', 'openly', 'openmouthedly', 'operabily', 'operatically', 'operatively', 'operosely', 'opinably', 'opinatively', 'opiniatively', 'opinionatedly', 'opinionately', 'opinionatively', 'opportunely', 'opportunistically', 'opposingly', 'oppositely', 'oppositively', 'oppressively', 'opprobriously', 'optably', 'optatively', 'optically', 'optimistically', 'optionally', 'opulently', 'oracularly', 'oraculously', 'orally', 'oratorially', 'oratorically', 'orbicularly', 'orbiculately', 'orchestrally', 'orchideously', 'orderly', 'ordinally', 'ordinarily', 'ordinately', 'organically', 'organizationally', 'organophyly', 'organotropically', 'orgulously', 'orientally', 'oriently', 'originally', 'originarily', 'originatively', 'ornamentally', 'ornately', 'ornithologically', 'ornithophily', 'orographically', 'Orphically', 'orthocephaly', 'orthodoxally', 'orthodoxically', 'orthodoxly', 'orthoepically', 'orthogonally', 'orthographically', 'orthopathically', 'orthopedically', 'orthosymmetrically', 'oryctognostically', 'oscillatively', 'oscitantly', 'osmotically', 'osseously', 'ostensibly', 'ostensively', 'ostentatiously', 'osteologically', 'osteopathically', 'otherworldly', 'otiosely', 'otocephaly', 'outbully', 'outerly', 'outfly', 'outlandishly', 'outly', 'outrageously', 'outrightly', 'outsally', 'outspokenly', 'outstandingly', 'outwardly', 'ovally', 'ovately', 'ovenly', 'overabundantly', 'overaccurately', 'overanxiously', 'overassertively', 'overattentively', 'overbashfully', 'overbearingly', 'overbitterly', 'overblindly', 'overboldly', 'overbounteously', 'overbravely', 'overbrightly', 'overbrilliantly', 'overbrimmingly', 'overbrutally', 'overburdeningly', 'overburningly', 'overbusily', 'overcapably', 'overcaptiously', 'overcarefully', 'overcarelessly', 'overcasually', 'overcautiously', 'overcharitably', 'overcheaply', 'overcleanly', 'overclosely', 'overcoldly', 'overcomingly', 'overcommonly', 'overcomplacently', 'overconfidently', 'overconsciously', 'overconservatively', 'overconsiderately', 'overcontentedly', 'overcoolly', 'overcopiously', 'overcorruptly', 'overcostly', 'overcredulously', 'overcritically', 'overcrowdedly', 'overcunningly', 'overcuriously', 'overdaintily', 'overdaringly', 'overdearly', 'overdeeply', 'overdelicately', 'overdeliciously', 'overdelightedly', 'overdestructively', 'overdevotedly', 'overdiffusely', 'overdignifiedly', 'overdiligently', 'overdistantly', 'overdiversely', 'overdogmatically', 'overdramatically', 'overeagerly', 'overearnestly', 'overeasily', 'overelaborately', 'overelegantly', 'overemphatically', 'overexcitably', 'overexertedly', 'overexpectantly', 'overexquisitely', 'overfacilely', 'overfaithfully', 'overfamiliarly', 'overfastidiously', 'overfavorably', 'overfearfully', 'overfellowly', 'overflowingly', 'overfluently', 'overfly', 'overfondly', 'overfoolishly', 'overforwardly', 'overfoully', 'overfrankly', 'overfreely', 'overfrequently', 'overgenerally', 'overgenerously', 'overgently', 'overgladly', 'overgodly', 'overgratefully', 'overgreatly', 'overgreedily', 'overgrossly', 'overharshly', 'overhastily', 'overheartily', 'overheatedly', 'overhighly', 'overholy', 'overhomely', 'overhonestly', 'overhotly', 'overhurriedly', 'overidly', 'overimitatively', 'overindulgently', 'overinsistently', 'overinsolently', 'overintensely', 'overjealously', 'overjoyfully', 'overkindly', 'overlargely', 'overlavishly', 'overlaxly', 'overlearnedly', 'overlewdly', 'overliberally', 'overlightly', 'overlively', 'overlogically', 'overloyally', 'overly', 'overmasterfully', 'overmasteringly', 'overmeanly', 'overmeekly', 'overmerrily', 'overminutely', 'overmodestly', 'overmournfully', 'overmultiply', 'overnarrowly', 'overnervously', 'overnicely', 'overobediently', 'overobsequiously', 'overpainfully', 'overpartially', 'overparticularly', 'overpassionately', 'overplenteously', 'overply', 'overpopularly', 'overpoweringly', 'overprominently', 'overpromptly', 'overproportionately', 'overproudly', 'overprovidently', 'overquickly', 'overquietly', 'overrashly', 'overreachingly', 'overreadily', 'overregularly', 'overremissly', 'overresolutely', 'overrighteously', 'overrigidly', 'overrigorously', 'overripely', 'overroughly', 'overrudely', 'overrulingly', 'overrunningly', 'oversadly', 'oversanguinely', 'overscrupulously', 'oversecurely', 'oversensibly', 'oversensitively', 'oversentimentally', 'overseriously', 'overseverely', 'overshadowingly', 'overshortly', 'oversimply', 'overslavishly', 'overslowly', 'oversmoothly', 'oversoftly', 'oversolemnly', 'oversolicitously', 'oversourly', 'oversparingly', 'overspeedily', 'overstately', 'overstoutly', 'overstraitly', 'overstrictly', 'overstridently', 'overstrongly', 'overstudiously', 'oversubtly', 'oversufficiently', 'oversupply', 'oversuspiciously', 'oversweetly', 'oversystematically', 'overtamely', 'overtediously', 'overtenderly', 'overtensely', 'overthriftily', 'overthwartly', 'overtightly', 'overtimorously', 'overtly', 'overtruthfully', 'overusually', 'overweeningly', 'overwhelmingly', 'overwilily', 'overwillingly', 'overwily', 'overwisely', 'overwomanly', 'overzealously', 'oviparously', 'ovoviviparously', 'owlishly', 'owly', 'oxfly', 'oxycephaly', 'pachycephaly', 'pachydactyly', 'pachydermatously', 'pacifically', 'pacifistically', 'pacifyingly', 'packly', 'pactionally', 'paganically', 'paganishly', 'paganly', 'painfully', 'painingly', 'painlessly', 'painstakingly', 'paintably', 'painterly', 'palaeobotanically', 'palaeodendrologically', 'palaeographically', 'palaeostyly', 'palaeotypically', 'palatably', 'palatially', 'palebelly', 'palely', 'paleobotanically', 'paleodendrologically', 'paleographically', 'paleontologically', 'paleostyly', 'palindromically', 'palingenetically', 'palliatively', 'pallidly', 'pally', 'palmately', 'palpably', 'palpitatingly', 'palterly', 'paltrily', 'paly', 'pamperedly', 'pancratically', 'panderly', 'panegyrically', 'pangamously', 'pangenetically', 'panglessly', 'panically', 'paniculately', 'pannosely', 'panoply', 'panoramically', 'pansophically', 'Pantagruelically', 'pantheistically', 'pantingly', 'pantographically', 'pantomimically', 'papally', 'papistically', 'papistly', 'parabolically', 'paradigmatically', 'paradingly', 'paradisaically', 'paradisiacally', 'paradoxically', 'paragogically', 'paragraphically', 'parallactically', 'parallelly', 'paralytically', 'paralyzedly', 'paralyzingly', 'paramountly', 'paraphrastically', 'parasitically', 'paratactically', 'paratonically', 'paratypically', 'paraxially', 'parchedly', 'parchingly', 'pardonably', 'parenchymatously', 'parentally', 'parenterally', 'parenthetically', 'paretically', 'parishionally', 'Parisianly', 'parliamentarily', 'parlously', 'parly', 'parochially', 'parodistically', 'paroeciously', 'paronomastically', 'paroxysmally', 'parricidally', 'parsimoniously', 'parsonically', 'parsonly', 'parthenocarpelly', 'parthenocarpically', 'parthenogenetically', 'partially', 'participantly', 'participatingly', 'participatively', 'participially', 'particularistically', 'particularly', 'partitively', 'partly', 'pasilaly', 'passably', 'passingly', 'passionately', 'passionfully', 'passionlessly', 'passively', 'pastorally', 'pastorly', 'patchily', 'patentably', 'patently', 'paterfamiliarly', 'paternalistically', 'paternally', 'pathematically', 'pathetically', 'patheticly', 'pathologically', 'pathoplastically', 'patiently', 'patly', 'patriarchally', 'patriarchically', 'patricianly', 'patrilineally', 'patrimonially', 'patriotically', 'patriotly', 'Patripassianly', 'patristically', 'patronizingly', 'patronly', 'patronymically', 'patulously', 'pauciloquently', 'Paulinistically', 'paunchily', 'paurometaboly', 'pausably', 'pausefully', 'pauselessly', 'pausingly', 'pawkily', 'payably', 'peaceably', 'peacefully', 'peacockishly', 'peacockly', 'peakedly', 'peakily', 'peakishly', 'pearly', 'peartly', 'peasantly', 'pebbly', 'peccantly', 'peckishly', 'peckly', 'pectinately', 'pectorally', 'peculiarly', 'pecuniarily', 'pedagogically', 'pedantically', 'pedanticly', 'pedately', 'peddlingly', 'pederastically', 'pedestrially', 'pedologistically', 'pedometrically', 'peeringly', 'peerlessly', 'peerly', 'peevedly', 'peevishly', 'peirastically', 'pejoratively', 'pellucidly', 'peltately', 'peltingly', 'penally', 'pendently', 'pendulously', 'penetrably', 'penetratingly', 'penetratively', 'penicillately', 'penitentially', 'penitently', 'pennilessly', 'pensionably', 'pensively', 'pentagonally', 'penuriously', 'pepperily', 'pepperishly', 'peppily', 'perceivably', 'perceivedly', 'percentably', 'perceptibly', 'perceptively', 'perceptually', 'percussively', 'percutaneously', 'perdurably', 'perduringly', 'peremptorily', 'perennially', 'perfectedly', 'perfectively', 'perfectly', 'perfervidly', 'perfidiously', 'perforcedly', 'perfunctorily', 'perfunctoriously', 'periclinally', 'perilously', 'perimetrically', 'periodically', 'peripatetically', 'peripherally', 'peripherically', 'periphrastically', 'perishably', 'perishingly', 'peristaltically', 'peristerophily', 'peritoneally', 'peritrichously', 'perjinkly', 'perjuredly', 'perjuriously', 'perkily', 'perkingly', 'perlingually', 'permanently', 'permeably', 'permissibly', 'permissively', 'permittedly', 'permutably', 'perniciously', 'perorally', 'peroratorically', 'perpendicularly', 'perpetually', 'perplexedly', 'perplexingly', 'perradially', 'persecutingly', 'perseveringly', 'persistently', 'persistingly', 'persistively', 'personably', 'personally', 'personately', 'perspectively', 'perspicaciously', 'perspicuously', 'perspiringly', 'persuadably', 'persuadedly', 'persuadingly', 'persuasibly', 'persuasively', 'perthitically', 'pertinaciously', 'pertinently', 'pertly', 'perturbedly', 'perturbingly', 'pervadingly', 'pervasively', 'perversely', 'pervertedly', 'pervertibly', 'pervicaciously', 'perviously', 'peskily', 'pessimistically', 'pesteringly', 'pestiferously', 'pestilentially', 'pestilently', 'petaly', 'petitionarily', 'petrographically', 'petrologically', 'pettedly', 'pettily', 'pettingly', 'petulantly', 'phantasmagorially', 'phantasmally', 'phantasmatically', 'phantasmically', 'phantomically', 'pharisaically', 'pharmaceutically', 'pharmacognostically', 'pharmacologically', 'phenologically', 'phenomenalistically', 'phenomenally', 'phenomenologically', 'phenotypically', 'philanthropically', 'philatelically', 'philately', 'Philistinely', 'philocaly', 'philologically', 'philosophically', 'phlebotomically', 'phlegmatically', 'phlegmaticly', 'phonautographically', 'phonetically', 'phonogramically', 'phonogrammically', 'phonographically', 'phonologically', 'phonotypically', 'phoronomically', 'phosphorescently', 'photochemically', 'photochronographically', 'photodynamically', 'photoelectrically', 'photoepinastically', 'photogenically', 'photographically', 'photohyponastically', 'photomechanically', 'photometrically', 'photophily', 'photosynthetically', 'phototactically', 'phototelegraphically', 'phototropically', 'phototypically', 'phrasally', 'phraseologically', 'phrenetically', 'phrenologically', 'phyletically', 'phylogenetically', 'physicalistically', 'physically', 'physicianly', 'physicochemically', 'physiochemically', 'physiognomically', 'physiographically', 'physiologically', 'phytogenetically', 'phytogeographically', 'phytologically', 'phytoserologically', 'phytosociologically', 'piacularly', 'pianistically', 'picayunishly', 'piccadilly', 'pickedly', 'pickthankly', 'Pickwickianly', 'pictographically', 'pictorially', 'pictorically', 'picturably', 'picturely', 'picturesquely', 'piebaldly', 'piedly', 'piercingly', 'pietistically', 'piezoelectrically', 'pigbelly', 'piggishly', 'pigheadedly', 'pigly', 'pigmentally', 'pilferingly', 'pily', 'pimply', 'pinchbelly', 'pinchedly', 'pinchingly', 'pindarically', 'piningly', 'pinkily', 'pinkly', 'pinnatedly', 'pinnately', 'pinnatifidly', 'pinningly', 'piously', 'piperly', 'pipingly', 'piquantly', 'piratically', 'piscatorially', 'pisciculturally', 'piteously', 'pithily', 'pithlessly', 'pitiably', 'pitiedly', 'pitifully', 'pitilessly', 'pityingly', 'pivotally', 'placably', 'placatively', 'placelessly', 'placidly', 'plagiaristically', 'plagiocephaly', 'plagiotropically', 'plaguily', 'plainly', 'plaintively', 'planetarily', 'planfully', 'plangently', 'planlessly', 'planterly', 'plashingly', 'plasmolytically', 'plastically', 'plasticly', 'platformally', 'platicly', 'platitudinously', 'Platonically', 'platycephaly', 'platystencephaly', 'plausibly', 'playfully', 'playingly', 'playsomely', 'pleadingly', 'pleasantly', 'pleasedly', 'pleasingly', 'pleasurably', 'pleasurelessly', 'plebeianly', 'pleiophylly', 'pleiotropically', 'plenarily', 'plenipotentiarily', 'plenteously', 'plentifully', 'pleonastically', 'plethorically', 'plethysmographically', 'pleuritically', 'pliably', 'pliantly', 'plicately', 'plodderly', 'ploddingly', 'plottingly', 'pluckily', 'pluggingly', 'plumiformly', 'plumosely', 'plumply', 'plunderingly', 'plungingly', 'pluperfectly', 'pluralistically', 'plurally', 'plushily', 'Plutarchically', 'plutocratically', 'pluviometrically', 'ply', 'plyingly', 'pneumatically', 'pockily', 'podgily', 'poetically', 'poetly', 'poignantly', 'pointedly', 'pointfully', 'pointingly', 'pointlessly', 'poisonfully', 'poisonously', 'pokerishly', 'pokily', 'polariscopically', 'polarly', 'polarographically', 'polemically', 'polishedly', 'politely', 'politically', 'politicly', 'pollutedly', 'pollutingly', 'Polly', 'poltroonishly', 'poly', 'polycephaly', 'polycotyly', 'polycycly', 'polydactyly', 'polygamically', 'polygamously', 'polygenetically', 'polyglottally', 'polyglottically', 'polygonally', 'polygonically', 'polymely', 'polyoeciously', 'polyphyletically', 'polyphylly', 'polyphyly', 'polypragmatically', 'polyspondyly', 'polysyllabically', 'polysymmetrically', 'polysyndetically', 'polysynthetically', 'polytheistically', 'polythely', 'pomologically', 'pompously', 'ponderingly', 'ponderously', 'pontifically', 'pontificially', 'pooly', 'poorly', 'popeholy', 'popely', 'popishly', 'poplolly', 'popply', 'popularly', 'populously', 'porencephaly', 'poringly', 'porismatically', 'pornographically', 'porously', 'portably', 'portentously', 'porterly', 'portionally', 'portlily', 'portly', 'posingly', 'positively', 'positivistically', 'possessedly', 'possessingly', 'possessively', 'possibly', 'postally', 'postaxially', 'posteriorically', 'posterioristically', 'posteriorly', 'posterodorsally', 'posthumously', 'posthypnotically', 'postically', 'postingly', 'postnuptially', 'postpositively', 'postprandially', 'potbelly', 'potentially', 'potently', 'potteringly', 'pouncingly', 'pouringly', 'poutingly', 'powerfully', 'powerlessly', 'practicably', 'practically', 'pragmatically', 'praisably', 'praisefully', 'praisingly', 'praisworthily', 'prancingly', 'prandially', 'prankingly', 'prankishly', 'pratingly', 'prattlingly', 'prattly', 'prayerfully', 'prayerlessly', 'prayingly', 'preabundantly', 'preaccidentally', 'preaccommodatingly', 'preachily', 'preachingly', 'preacidly', 'preactively', 'preacutely', 'preadequately', 'preallably', 'preallowably', 'preally', 'preaxially', 'precariously', 'precatively', 'precautiously', 'precedently', 'preceptively', 'preceptorially', 'preceptually', 'preciously', 'precipitantly', 'precipitatedly', 'precipitately', 'precipitously', 'precisely', 'preclusively', 'precociously', 'precoincidently', 'precompoundly', 'preconcentratedly', 'preconcertedly', 'preconcurrently', 'preconfinedly', 'preconfusedly', 'preconsciously', 'precontently', 'precordially', 'precorrectly', 'precorruptly', 'preculturally', 'predatorily', 'predeathly', 'predeliberately', 'predelinquently', 'predestinately', 'predeterminately', 'predicably', 'predicamentally', 'predicatively', 'predictably', 'predictively', 'prediligently', 'predisadvantageously', 'predisorderly', 'predisposedly', 'predominantly', 'predominately', 'predominatingly', 'prefamiliarly', 'prefatorially', 'prefatorily', 'prefavorably', 'prefearfully', 'prefectly', 'prefectorially', 'preferably', 'preferentially', 'preferredly', 'prefiguratively', 'prefixally', 'prefixedly', 'prefortunately', 'prefraternally', 'prefriendly', 'pregenerously', 'pregnantly', 'prehistorically', 'preimportantly', 'preindependently', 'preinsinuatingly', 'preintelligently', 'prejudicedly', 'prejudicially', 'prejudiciously', 'prelatically', 'prelawfully', 'preliberally', 'preliminarily', 'preliterally', 'preludiously', 'prelusively', 'prelusorily', 'prematurely', 'premeditatedly', 'premeditatingly', 'premillennially', 'premonitorily', 'premonopoly', 'premorally', 'premorbidly', 'premultiply', 'prenatally', 'preobviously', 'preoccupiedly', 'preoffensively', 'preofficially', 'preoperatively', 'preorally', 'preoriginally', 'preparatively', 'preparatorily', 'preparedly', 'preparingly', 'prepensely', 'prepolitically', 'preponderantly', 'preponderately', 'preponderatingly', 'preponderously', 'prepositionally', 'prepositively', 'prepossessingly', 'preposterously', 'prepotently', 'preprudently', 'prerighteously', 'prerogatively', 'preroyally', 'presagefully', 'presagingly', 'presbyterially', 'Presbyterianly', 'presciently', 'prescriptively', 'presentably', 'presentatively', 'presentially', 'presentively', 'presently', 'presidentially', 'presidially', 'prespecifically', 'prespontaneously', 'pressingly', 'prestigiously', 'prestudiously', 'presuccessfully', 'presufficiently', 'presuitably', 'presumably', 'presumedly', 'presumptiously', 'presumptively', 'presumptuously', 'presuperficially', 'presuperfluously', 'presupply', 'presuspiciously', 'presystematically', 'pretangibly', 'pretardily', 'pretechnically', 'pretemperately', 'pretendedly', 'pretendingly', 'pretensively', 'pretentiously', 'preterdeterminedly', 'preterdiplomatically', 'preternaturally', 'prethoughtfully', 'pretimely', 'prettily', 'preultimately', 'prevailingly', 'prevalently', 'prevalidly', 'preveniently', 'preventingly', 'preventively', 'previgilantly', 'previously', 'previsibly', 'prevocally', 'prewillingly', 'preworldly', 'preworthily', 'preyingly', 'priceably', 'prickingly', 'pricklingly', 'prickly', 'pridefully', 'pridelessly', 'pridingly', 'priestly', 'priggishly', 'primarily', 'primely', 'primevally', 'primitively', 'primly', 'primordially', 'princely', 'princessly', 'principally', 'prioristically', 'priorly', 'prismatically', 'prissily', 'privately', 'privatively', 'privily', 'probably', 'probatively', 'problematically', 'procaciously', 'processionally', 'proclaimingly', 'procrastinatingly', 'procrastinatively', 'procryptically', 'proctorially', 'prodigally', 'prodigiously', 'proditoriously', 'prodromatically', 'productively', 'proethnically', 'profanably', 'profanely', 'professedly', 'professionally', 'professively', 'professorially', 'proficiently', 'proficuously', 'profitably', 'profitlessly', 'profligately', 'profoundly', 'profusely', 'profusively', 'prognostically', 'programmatically', 'progressionally', 'progressively', 'prohibitively', 'prohibitorily', 'projectedly', 'projectingly', 'projectively', 'projiciently', 'prolately', 'prolatively', 'proleptically', 'proletarianly', 'proliferously', 'prolifically', 'prolificly', 'prolixly', 'prolongably', 'prominently', 'promiscuously', 'promisingly', 'promissorily', 'promonopoly', 'promorphologically', 'promptly', 'pronely', 'pronominally', 'pronouncedly', 'prooflessly', 'propagandistically', 'propensely', 'properly', 'prophetically', 'propheticly', 'prophylactically', 'propitiatingly', 'propitiatorily', 'propitiously', 'proportionably', 'proportionally', 'proportionately', 'propositionally', 'proprietarily', 'proprietorially', 'prosaically', 'proscriptively', 'proselytingly', 'prosiliently', 'prosily', 'prosingly', 'prosodiacally', 'prosodially', 'prosodically', 'prosopically', 'prospectively', 'prosperously', 'prostatomegaly', 'prosthetically', 'prostitutely', 'protandrously', 'protatically', 'proteanly', 'protectingly', 'protectively', 'protensively', 'Protestantishly', 'Protestantly', 'protestingly', 'prothetically', 'prototypically', 'protractedly', 'protrusively', 'protuberantly', 'proudishly', 'proudly', 'provably', 'provedly', 'provenly', 'proverbially', 'providentially', 'providently', 'provincially', 'provingly', 'provisionally', 'provisorily', 'provocatively', 'provokingly', 'prowlingly', 'proxically', 'proximally', 'proximately', 'prudely', 'prudentially', 'prudently', 'prudishly', 'prunably', 'pruriently', 'pryingly', 'pseudoacromegaly', 'pseudobrotherly', 'pseudodipterally', 'pseudologically', 'pseudonymously', 'pseudopriestly', 'pseudoprincely', 'pseudoscholarly', 'pseudoscopically', 'psittaceously', 'psychiatrically', 'psychically', 'psychoanalytically', 'psychogenetically', 'psychologically', 'psychometrically', 'psychophysically', 'psychophysiologically', 'psychorhythmically', 'psychosexually', 'psychostatically', 'publicly', 'puckishly', 'puddly', 'pudgily', 'puerilely', 'puffily', 'puffingly', 'pugilistically', 'pugnaciously', 'puissantly', 'pulingly', 'pulpily', 'pulpitically', 'pulpitly', 'pulsatively', 'pulselessly', 'pulverulently', 'pulvinately', 'puly', 'punctiliously', 'punctually', 'punditically', 'pungently', 'punily', 'punishably', 'punitionally', 'punitively', 'punningly', 'puppetly', 'puppily', 'purblindly', 'purely', 'purfly', 'purgatively', 'puritanically', 'Puritanly', 'purplely', 'purply', 'purposedly', 'purposefully', 'purposelessly', 'purposely', 'purposively', 'purringly', 'pursily', 'pursuantly', 'purulently', 'pushfully', 'pushingly', 'pusillanimously', 'putatively', 'putidly', 'putridly', 'putrilaginously', 'putteringly', 'puzzledly', 'puzzleheadedly', 'puzzlingly', 'pyramidally', 'pyramidically', 'pyrgocephaly', 'pyrochemically', 'pyrogenetically', 'pyrometrically', 'pyrotechnically', 'Pythagoreanly', 'Pythagorically', 'quackishly', 'quadrangularly', 'quadrantly', 'quadratically', 'quadrennially', 'quadrifariously', 'quadrilaterally', 'quadripartitely', 'quadrivalently', 'quadruply', 'quaffingly', 'quaily', 'quaintly', 'Quakerishly', 'Quakerly', 'quakingly', 'qualifiedly', 'qualifyingly', 'qualitatively', 'qualmishly', 'quantifiably', 'quantitatively', 'quantitively', 'quaquaversally', 'quarrelingly', 'quarrelsomely', 'quarterly', 'quaveringly', 'queasily', 'queenly', 'queerly', 'quemefully', 'quemely', 'quenchlessly', 'querimoniously', 'querulously', 'queryingly', 'questingly', 'questionably', 'questioningly', 'questionlessly', 'quibblingly', 'quickly', 'quidditatively', 'quiescently', 'quietly', 'quilly', 'quincuncially', 'quinquennially', 'quintessentially', 'quiveringly', 'quixotically', 'quizzically', 'quizzingly', 'quodlibetically', 'quondamly', 'quotably', 'quotationally', 'quotidianly', 'quotingly', 'rabbinically', 'rabidly', 'racemosely', 'racemously', 'racially', 'racily', 'rackingly', 'radially', 'radiantly', 'radiately', 'radically', 'radioactively', 'radiographically', 'radiometrically', 'raffishly', 'ragamuffinly', 'ragefully', 'rageously', 'raggedly', 'raggily', 'ragingly', 'raguly', 'railingly', 'railly', 'rainily', 'rakehelly', 'rakily', 'rakishly', 'rally', 'ramblingly', 'rammishly', 'ramosely', 'rampaciously', 'rampageously', 'rampantly', 'rampingly', 'ramshackly', 'rancidly', 'rancorously', 'randomly', 'ranklingly', 'rankly', 'rantingly', 'rapaciously', 'rapidly', 'rapscallionly', 'raptly', 'rapturously', 'rarely', 'rascally', 'rashly', 'raspingly', 'ratably', 'ratchelly', 'rathely', 'ratherly', 'rationably', 'rationalistically', 'rationally', 'rattlingly', 'rattly', 'raucously', 'ravelly', 'ravenously', 'ravingly', 'ravishedly', 'ravishingly', 'razzly', 'reactionally', 'reactively', 'readably', 'readily', 'realistically', 'realizably', 'realizingly', 'really', 'reapply', 'rearwardly', 'reasonably', 'reasonedly', 'reasoningly', 'reasonlessly', 'reassembly', 'reassuredly', 'reassuringly', 'rebelliously', 'rebelly', 'rebuffably', 'rebukefully', 'rebukingly', 'recantingly', 'recently', 'receptively', 'receptually', 'recessively', 'reciprocally', 'recitatively', 'recklessly', 'reclaimably', 'reclusely', 'recognizably', 'recognizedly', 'recognizingly', 'recoilingly', 'recollectedly', 'recollectively', 'recommendably', 'recomply', 'reconcilably', 'reconcilingly', 'reconditely', 'reconnoiteringly', 'reconnoitringly', 'recordatively', 'recordedly', 'recoveringly', 'recreantly', 'recreatively', 'rectally', 'rectangularly', 'rectilineally', 'rectilinearly', 'recumbently', 'recurrently', 'recurringly', 'redbelly', 'redeemably', 'redemptively', 'redheadedly', 'redly', 'redolently', 'redoubtably', 'reducibly', 'reductively', 'redundantly', 'reduplicatively', 'reedily', 'reekingly', 'reelingly', 'referentially', 'referently', 'refinedly', 'refiningly', 'reflectedly', 'reflectingly', 'reflectively', 'reflexively', 'reflexly', 'refly', 'reformatively', 'reformedly', 'reformingly', 'refractedly', 'refractively', 'refractorily', 'refreshfully', 'refreshingly', 'refulgently', 'refusingly', 'refutably', 'regally', 'regardfully', 'regardlessly', 'regeneratively', 'regimentally', 'regionally', 'regratingly', 'regressively', 'regretfully', 'regrettably', 'regrettingly', 'regularly', 'regulatively', 'reimply', 'reiteratedly', 'reiteratively', 'rejectingly', 'rejoicingly', 'relationally', 'relatively', 'relaxedly', 'relentingly', 'relentlessly', 'relevantly', 'reliably', 'reliantly', 'relievedly', 'relievingly', 'religiously', 'relishingly', 'reluctantly', 'rely', 'remarkably', 'remarkedly', 'remediably', 'remedially', 'remedilessly', 'rememberably', 'remindingly', 'reminiscentially', 'reminiscently', 'remissively', 'remissly', 'remittently', 'remonstrantly', 'remonstratingly', 'remonstratively', 'remorsefully', 'remorselessly', 'remotely', 'removably', 'removedly', 'remultiply', 'remunerably', 'remuneratively', 'renably', 'renewably', 'renewedly', 'renishly', 'renovatingly', 'renownedly', 'repandly', 'reparably', 'repeatedly', 'repellently', 'repellingly', 'repentantly', 'repentingly', 'repercussively', 'repertorily', 'repetitiously', 'repetitively', 'repiningly', 'replenishingly', 'repletely', 'repletively', 'replicatively', 'reply', 'replyingly', 'reportedly', 'reportingly', 'reportorially', 'reposedly', 'reposefully', 'reprehensibly', 'reprehensively', 'representatively', 'repressedly', 'repressibly', 'repressively', 'reprimandingly', 'reproachably', 'reproachfully', 'reproachingly', 'reprobatively', 'reproductively', 'reprovably', 'reprovingly', 'repugnantly', 'repulsively', 'reputably', 'reputatively', 'reputedly', 'requisitely', 'rescriptively', 'resemblingly', 'resentationally', 'resentfully', 'resentingly', 'reservedly', 'residentially', 'resignedly', 'resinously', 'resistantly', 'resistibly', 'resistingly', 'resistively', 'resistlessly', 'resolutely', 'resolvedly', 'resonantly', 'resoundingly', 'resourcefully', 'respectably', 'respectfully', 'respectively', 'respectlessly', 'resplendently', 'responsibly', 'responsively', 'restfully', 'restingly', 'restively', 'restlessly', 'restoratively', 'restrainedly', 'restrainingly', 'restrictedly', 'restrictively', 'resultantly', 'resultfully', 'resultingly', 'resultlessly', 'resumptively', 'resupply', 'retardingly', 'retentively', 'reticently', 'reticularly', 'reticulately', 'retinoscopically', 'retiredly', 'retiringly', 'retractively', 'retrally', 'retributively', 'retrievably', 'retroactively', 'retrogradely', 'retrogradingly', 'retrogressively', 'retromingently', 'retroperitoneally', 'retrorsely', 'retrospectively', 'returnlessly', 'reunitedly', 'revealedly', 'revealingly', 'revelly', 'revengefully', 'revengingly', 'reverendly', 'reverentially', 'reverently', 'reversedly', 'reversely', 'reversibly', 'reversingly', 'reversionally', 'revertively', 'revilingly', 'revivably', 'revivingly', 'revocably', 'revokingly', 'revoltingly', 'revolubly', 'revolutionally', 'revolutionarily', 'revolvably', 'revolvingly', 'revulsively', 'rewardably', 'rewardedly', 'rewardingly', 'rhapsodically', 'rhetorically', 'rheumatically', 'rheumatoidally', 'rheumily', 'rhombohedrally', 'rhomboidally', 'rhomboidly', 'rhythmically', 'riantly', 'ribaldly', 'richly', 'ricketily', 'ridably', 'riddlingly', 'ridgingly', 'ridiculously', 'rifely', 'righteously', 'rightfully', 'rightly', 'rightwardly', 'rigidly', 'rigmarolishly', 'rigorously', 'rilly', 'rimosely', 'ringingly', 'riotingly', 'riotously', 'ripely', 'ripeningly', 'rippingly', 'ripplingly', 'ripply', 'risibly', 'riskily', 'ritualistically', 'ritually', 'riverly', 'rivingly', 'roamingly', 'roaringly', 'roastingly', 'robustfully', 'robustiously', 'robustly', 'rockably', 'rockingly', 'rodentially', 'roentgenographically', 'roentgenologically', 'roguishly', 'roily', 'roisteringly', 'roisterly', 'roisterously', 'rollickingly', 'rollingly', 'Romanly', 'romantically', 'romanticly', 'Romishly', 'rompingly', 'rompishly', 'roomily', 'roomthily', 'rootedly', 'ropily', 'roseately', 'rosily', 'rostrally', 'rotatively', 'rottenly', 'rotundly', 'roughishly', 'roughly', 'roundaboutly', 'roundedly', 'roundly', 'roupily', 'rousingly', 'routinely', 'routously', 'rovingly', 'rowdily', 'rowdyishly', 'royally', 'royetously', 'rubbishingly', 'rubbishly', 'rubbly', 'rubrically', 'ruddily', 'rudely', 'rudimentarily', 'ruefully', 'ruffianly', 'ruffly', 'ruggedly', 'rugosely', 'ruinously', 'rulingly', 'rumblingly', 'rumbly', 'ruminantly', 'ruminatingly', 'ruminatively', 'rumly', 'rummily', 'rumply', 'runically', 'runkly', 'runningly', 'runtishly', 'rurally', 'rushingly', 'rustically', 'rusticly', 'rustily', 'rustlingly', 'rustly', 'ruthfully', 'ruthlessly', 'ruttishly', 'Sabbathly', 'Sabbatically', 'sably', 'saccharinely', 'saccharophylly', 'sacerdotally', 'sacramentally', 'sacredly', 'sacrificially', 'sacrilegiously', 'saddeningly', 'sadistically', 'sadly', 'safely', 'sagaciously', 'sagely', 'sagittally', 'sailingly', 'sailorly', 'saily', 'saintlily', 'saintly', 'sairly', 'salably', 'salaciously', 'saliently', 'Sally', 'sally', 'saltishly', 'saltly', 'salubriously', 'salutarily', 'salutatorily', 'salutiferously', 'salvably', 'salvifically', 'samely', 'sanctifiably', 'sanctifiedly', 'sanctifyingly', 'sanctimoniously', 'sanely', 'sanguinarily', 'sanguinely', 'sanitarily', 'sapientially', 'sapiently', 'saprophytically', 'sarcastically', 'sardonically', 'sartorially', 'satanically', 'satiably', 'satirically', 'satisfactorily', 'satisfiedly', 'satisfyingly', 'saturninely', 'saucily', 'saunteringly', 'savagely', 'savingly', 'savorily', 'savoringly', 'sawbelly', 'sawfly', 'Saxonically', 'Saxonly', 'scabbily', 'scabrosely', 'scabrously', 'scalably', 'scaly', 'scampingly', 'scampishly', 'scandalously', 'scanningly', 'scantily', 'scantly', 'scaphocephaly', 'scarcely', 'scarily', 'scasely', 'scathelessly', 'scathingly', 'scatteredly', 'scatteringly', 'scenically', 'scenographically', 'schelly', 'schematically', 'schematologetically', 'schemingly', 'schismatically', 'schizogenetically', 'schizogenously', 'schizostely', 'scholarly', 'scholastically', 'scholasticly', 'schoolboyishly', 'schoolgirlishly', 'schoolgirly', 'schoolingly', 'schoolmasterishly', 'schoolmasterly', 'schoolteacherly', 'schorly', 'sciatherically', 'sciatically', 'scientifically', 'scientintically', 'scientistically', 'scintillantly', 'scintillatingly', 'scintillously', 'sciotherically', 'sclerocauly', 'sclerodactyly', 'sclerophylly', 'scoffingly', 'scoldingly', 'scoopingly', 'scopiformly', 'scoptically', 'scorbutically', 'scorchingly', 'scornfully', 'scorningly', 'Scottishly', 'scoundrelly', 'scourgingly', 'scoutingly', 'scowlingly', 'scraggedly', 'scraggily', 'scraggly', 'scraily', 'scramblingly', 'scrambly', 'scrapingly', 'scrappily', 'scrappingly', 'scratchably', 'scratchingly', 'scrawly', 'scrawnily', 'screamingly', 'screechily', 'screechingly', 'scribblingly', 'scribbly', 'scriggly', 'scrimpily', 'scrimpingly', 'scrimply', 'scriptitiously', 'scripturally', 'scrivenly', 'scrofulously', 'scrolly', 'scrubbily', 'scrubbly', 'scrumptiously', 'scrupulously', 'scrutinizingly', 'scrutinously', 'scufflingly', 'scuffly', 'sculpturally', 'sculpturesquely', 'scurfily', 'scurrilously', 'scurvily', 'seamanly', 'seamlessly', 'searchingly', 'seasonably', 'seasonally', 'seasonedly', 'seawardly', 'secantly', 'secludedly', 'seclusively', 'secondarily', 'secondhandedly', 'secondly', 'secretively', 'secretly', 'sectarianly', 'sectionally', 'secularly', 'secundly', 'securely', 'sedately', 'sedentarily', 'sedimentarily', 'seditiously', 'seducingly', 'seductively', 'sedulously', 'seedily', 'seeingly', 'seely', 'seemably', 'seemingly', 'seemlily', 'seemly', 'seethingly', 'segmentally', 'seismically', 'seismologically', 'sejunctively', 'sejunctly', 'seldomly', 'selectedly', 'selectively', 'selectly', 'selenographically', 'selfishly', 'selflessly', 'selfly', 'sellably', 'selly', 'semantically', 'semaphorically', 'semasiologically', 'semblably', 'semiadjectively', 'semiannually', 'semiautomatically', 'semicircularly', 'semiconsciously', 'semidaily', 'semiglobularly', 'semihumorously', 'semimonopoly', 'semimonthly', 'seminally', 'semioccasionally', 'semiofficially', 'semiquadrantly', 'semiquantitatively', 'semiseriously', 'semiseverely', 'semisolemnly', 'semispontaneously', 'semisuccessfully', 'semitonally', 'semitonically', 'semiweekly', 'semiyearly', 'sempiternally', 'senatorially', 'seneschally', 'senilely', 'sensationally', 'senselessly', 'sensibly', 'sensitively', 'sensually', 'sensuously', 'sententially', 'sententiously', 'sentiently', 'sentimentally', 'separably', 'separatedly', 'separately', 'separatively', 'septennially', 'septentrionally', 'septically', 'septicidally', 'septifragally', 'sepulchrally', 'sequaciously', 'sequentially', 'sequently', 'seraphically', 'serenely', 'serfishly', 'serially', 'seriately', 'seriocomically', 'seriously', 'sermonically', 'serologically', 'serpentinely', 'serpentiningly', 'serpently', 'serpiginously', 'serriedly', 'serviceably', 'servilely', 'setaceously', 'settledly', 'seventeenthly', 'seventhly', 'severally', 'severedly', 'severely', 'severingly', 'sexagesimally', 'sexangularly', 'sexennially', 'sexlessly', 'sexly', 'sextiply', 'sextuply', 'sexually', 'shabbily', 'shachly', 'shackly', 'shadbelly', 'shadily', 'shadowily', 'shadowishly', 'shadowly', 'shaggily', 'shakebly', 'shakenly', 'Shakespeareanly', 'shakily', 'shakingly', 'shallowly', 'shaly', 'shamably', 'shamblingly', 'shamefacedly', 'shamefastly', 'shamefully', 'shamelessly', 'shapelessly', 'shapely', 'shapingly', 'sharply', 'shatteringly', 'sheely', 'sheenly', 'sheepfacedly', 'sheepishly', 'sheerly', 'sheikhly', 'sheikly', 'shelly', 'shelteringly', 'shelvingly', 'shepherdly', 'shieldlessly', 'shiftily', 'shiftingly', 'shiftlessly', 'shimmeringly', 'shingly', 'shinily', 'shiningly', 'shiplessly', 'shipshapely', 'shiveringly', 'shoaly', 'shockingly', 'shoddily', 'shoggly', 'shoofly', 'shortly', 'shortsightedly', 'shoutingly', 'showily', 'shrewdly', 'shrewishly', 'shrewly', 'shriekily', 'shriekingly', 'shrilly', 'shrinkingly', 'shruggingly', 'shudderingly', 'shufflingly', 'shyly', 'sibilantly', 'sibilatingly', 'sickeningly', 'sickerly', 'sickishly', 'sicklily', 'sickly', 'sidereally', 'sidesplittingly', 'sidlingly', 'sighfully', 'sighingly', 'sightlessly', 'sightlily', 'sightly', 'sigmoidally', 'signally', 'significantly', 'significatively', 'sikerly', 'silently', 'silkily', 'sillily', 'silly', 'silverbelly', 'silverily', 'silverly', 'silviculturally', 'similarly', 'simmeringly', 'simoniacally', 'simperingly', 'simpleheartedly', 'simplifiedly', 'simply', 'simulatively', 'simultaneously', 'sincerely', 'sinfully', 'singally', 'singeingly', 'singingly', 'singlehandedly', 'singleheartedly', 'singly', 'singularly', 'sinisterly', 'sinistrally', 'sinistrorsally', 'sinistrously', 'sinlessly', 'sinningly', 'sinuately', 'sinuosely', 'sinuously', 'sinusoidally', 'siphonostely', 'sippingly', 'sirenically', 'siroccoishly', 'sisterly', 'sixteenthly', 'sixthly', 'sizably', 'sizzlingly', 'skasely', 'skeely', 'skeily', 'skelly', 'skeptically', 'sketchily', 'sketchingly', 'skewly', 'skiagraphically', 'skiddingly', 'skillfully', 'skilly', 'skimmingly', 'skimpily', 'skimpingly', 'skinflintily', 'skipjackly', 'skippingly', 'skirmishingly', 'skirtingly', 'skittishly', 'skulkingly', 'skully', 'slackingly', 'slackly', 'slanderfully', 'slanderingly', 'slanderously', 'slangily', 'slangishly', 'slantindicularly', 'slantingly', 'slantly', 'slashingly', 'slatternly', 'slaughteringly', 'slaughterously', 'slaveringly', 'slavishly', 'Slavonically', 'sleekly', 'sleepily', 'sleepingly', 'sleeplessly', 'slenderly', 'slicingly', 'slickly', 'slidably', 'slideably', 'slidingly', 'slightily', 'slightingly', 'slightly', 'slimily', 'slimly', 'slinkily', 'slinkingly', 'slipperily', 'slippingly', 'slopely', 'slopingly', 'sloppily', 'sloshily', 'slothfully', 'slouchily', 'slouchingly', 'slovenly', 'slowbelly', 'slowly', 'slubberingly', 'slubberly', 'sluggardly', 'sluggingly', 'sluggishly', 'slumberingly', 'slumberously', 'slushily', 'sluttishly', 'sly', 'slyly', 'smackingly', 'smally', 'smartingly', 'smartly', 'smashingly', 'smatteringly', 'smelly', 'smilelessly', 'smilingly', 'smily', 'smirkingly', 'smirkly', 'smokelessly', 'smokily', 'smoothingly', 'smoothly', 'smotheringly', 'smudgedly', 'smudgily', 'smuggishly', 'smugly', 'smuttily', 'snailishly', 'snaily', 'snakily', 'snappily', 'snappingly', 'snappishly', 'snaringly', 'snarlingly', 'snarly', 'snatchily', 'snatchingly', 'sneakingly', 'sneakishly', 'sneeringly', 'snelly', 'snickeringly', 'sniffily', 'sniffingly', 'sniffly', 'sniggoringly', 'snively', 'snobbishly', 'snodly', 'snootily', 'snoringly', 'snortingly', 'snottily', 'snowily', 'snubbingly', 'snubbishly', 'snuffingly', 'snufflingly', 'snuffly', 'snugly', 'snurly', 'soakingly', 'soally', 'soapbubbly', 'soapily', 'soaringly', 'sobbingly', 'soberingly', 'soberly', 'sociably', 'socially', 'societally', 'sociologically', 'Socratically', 'soddenly', 'sodomitically', 'softheartedly', 'softly', 'soggily', 'soily', 'solaciously', 'solaristically', 'soldierly', 'solecistically', 'solely', 'solemncholy', 'solemnly', 'solenoidally', 'solicitously', 'solidarily', 'solidly', 'soliloquizingly', 'solitarily', 'solstitially', 'solubly', 'solvently', 'somatically', 'somatologically', 'somatotropically', 'somberly', 'sombrously', 'somewhatly', 'somnambulically', 'somniferously', 'somnolently', 'songfully', 'songlessly', 'sonly', 'sonoriferously', 'sonorously', 'soodly', 'soonly', 'soothingly', 'sootily', 'sophically', 'sophistically', 'sophomorically', 'soporiferously', 'soporifically', 'sorcerously', 'sordidly', 'soreheadedly', 'sorely', 'sororially', 'sorrily', 'sorrowfully', 'sorrowingly', 'sortably', 'sortly', 'sottishly', 'soulfully', 'soullessly', 'souly', 'soundingly', 'soundlessly', 'soundly', 'sourbelly', 'sourishly', 'sourly', 'southeasterly', 'southeastwardly', 'southerly', 'southernly', 'southwardly', 'southwesterly', 'southwestwardly', 'sovereignly', 'sowbelly', 'sozzly', 'spaciously', 'spagyrically', 'spangly', 'Spanishly', 'spankily', 'spankingly', 'sparely', 'sparingly', 'sparkishly', 'sparklessly', 'sparklingly', 'sparkly', 'sparringly', 'sparsedly', 'sparsely', 'Spartanically', 'Spartanly', 'spasmodically', 'spastically', 'spatially', 'spatteringly', 'speakably', 'speakingly', 'speaklessly', 'specially', 'specifically', 'specificatively', 'specificly', 'speciously', 'specklebelly', 'specklessly', 'speckly', 'spectacularly', 'spectrally', 'spectrographically', 'spectrologically', 'spectroscopically', 'specularly', 'speculatively', 'speechlessly', 'speedfully', 'speedily', 'speedingly', 'spellingly', 'spermatically', 'sphenocephaly', 'spherically', 'spheroidally', 'spheroidically', 'spicily', 'spiderly', 'spiffily', 'spikily', 'spilly', 'spinally', 'spindly', 'spinelessly', 'spinningly', 'spinosely', 'spinsterishly', 'spinsterly', 'spinulosely', 'spirally', 'spiritally', 'spiritedly', 'spiritfully', 'spiritlessly', 'spiritualistically', 'spiritually', 'spirituously', 'spitefully', 'splanchnomegaly', 'splashingly', 'spleenfully', 'spleenishly', 'splendaciously', 'splendently', 'splendidly', 'splendiferously', 'splenetically', 'splenomegaly', 'splotchily', 'splurgily', 'spongily', 'spongingly', 'spontaneously', 'spookily', 'spooneyly', 'spoonily', 'sporadically', 'sportfully', 'sportily', 'sportingly', 'sportively', 'sportly', 'sportsmanly', 'sportswomanly', 'spotlessly', 'spottedly', 'spottily', 'spousally', 'sprackly', 'spraggly', 'sprangly', 'sprawlingly', 'sprawly', 'sprayfully', 'spreadingly', 'sprightfully', 'sprightlily', 'sprightly', 'springily', 'springingly', 'springly', 'sprucely', 'spruntly', 'spryly', 'spunkily', 'spuriously', 'spurtively', 'sputteringly', 'squabblingly', 'squabbly', 'squalidly', 'squally', 'squamosely', 'squamously', 'squanderingly', 'squaredly', 'squarely', 'squarishly', 'squarrosely', 'squashily', 'squatly', 'squattily', 'squattingly', 'squawkingly', 'squeakily', 'squeakingly', 'squeamishly', 'squeezably', 'squeezingly', 'squelchily', 'squelchingly', 'squiggly', 'squintingly', 'squintly', 'squirely', 'squirmingly', 'squirtingly', 'stabbingly', 'stably', 'stageably', 'staggeringly', 'stagily', 'stagnantly', 'staidly', 'stainably', 'stainlessly', 'stalactitically', 'stalagmitically', 'stalely', 'stalkily', 'stalkingly', 'stalwartly', 'stammeringly', 'stampedingly', 'stanchly', 'Stanly', 'stanzaically', 'starchedly', 'starchily', 'starchly', 'staringly', 'starkly', 'starlessly', 'starrily', 'starringly', 'startingly', 'startlingly', 'startly', 'starvedly', 'statedly', 'statefully', 'statelily', 'stately', 'statesmanly', 'statically', 'stationarily', 'statistically', 'statuesquely', 'statutably', 'statutorily', 'staunchly', 'stauroscopically', 'steadfastly', 'steadily', 'steadyingly', 'stealingly', 'stealthfully', 'stealthily', 'stealy', 'steamily', 'steely', 'steeply', 'steeringly', 'steevely', 'stellately', 'stellularly', 'stenocephaly', 'stenographically', 'stentorianly', 'stentoriously', 'stepfatherly', 'stepmotherly', 'stereochemically', 'stereochromatically', 'stereochromically', 'stereographically', 'stereometrically', 'stereoscopically', 'stereotactically', 'sterically', 'sterilely', 'sterlingly', 'sternly', 'stertoriously', 'stertorously', 'stethoscopically', 'stewardly', 'stichically', 'stichometrically', 'stickily', 'stickly', 'stiffly', 'stifledly', 'stiflingly', 'stigmatically', 'stilly', 'stimulatingly', 'stingily', 'stingingly', 'stinkardly', 'stinkingly', 'stintedly', 'stintingly', 'stipply', 'stirlessly', 'stirringly', 'stochastically', 'stockily', 'stockishly', 'stodgily', 'stoically', 'stoichiometrically', 'stolenly', 'stolidly', 'stoloniferously', 'stomachfully', 'stomachically', 'stonewally', 'stonily', 'stonyheartedly', 'stoopingly', 'stoppably', 'stormfully', 'stormily', 'stormingly', 'stoutheartedly', 'stoutly', 'strabismally', 'straddlingly', 'stragglingly', 'straggly', 'straightforwardly', 'straightly', 'strainably', 'strainedly', 'strainingly', 'strainlessly', 'straitly', 'stramineously', 'strangely', 'stranglingly', 'stratagematically', 'stratagemically', 'strategically', 'stratigraphically', 'stratographically', 'streakedly', 'streakily', 'streamingly', 'streckly', 'strengtheningly', 'strengthily', 'strengthlessly', 'strenuously', 'strepitantly', 'stressfully', 'strickenly', 'strictly', 'stridently', 'stridingly', 'stridulously', 'strikingly', 'stringently', 'strivingly', 'strongfully', 'strongheadedly', 'strongly', 'strophically', 'strubbly', 'structurally', 'structurely', 'strugglingly', 'struttingly', 'stubbly', 'stubbornly', 'studiedly', 'studiously', 'stuffily', 'stultiloquently', 'stumblingly', 'stumbly', 'stumpily', 'stunningly', 'stuntedly', 'stupendly', 'stupendously', 'stupidly', 'sturdily', 'stutteringly', 'stylishly', 'stylistically', 'stylographically', 'suably', 'suantly', 'suasively', 'suavely', 'subacidly', 'subacutely', 'subaerially', 'subalternately', 'subassembly', 'subbrachycephaly', 'subcentrally', 'subconjunctively', 'subconsciously', 'subcontrarily', 'subcortically', 'subcutaneously', 'subdialectally', 'subdichotomously', 'subdititiously', 'subdividingly', 'subdolichocephaly', 'subdolously', 'subdorsally', 'subduably', 'subduedly', 'subduingly', 'subdurally', 'subequally', 'subfamily', 'subgenerically', 'subglacially', 'subglobosely', 'subgwely', 'subjacently', 'subjectedly', 'subjectively', 'subjectivistically', 'subjunctively', 'sublimely', 'subliminally', 'submarginally', 'submicroscopically', 'submissively', 'submissly', 'submittingly', 'submontanely', 'subobscurely', 'subordinately', 'subordinatingly', 'subperiosteally', 'subperitoneally', 'subpermanently', 'subridently', 'subscriptively', 'subsequentially', 'subsequently', 'subserviently', 'subsidiarily', 'subsistingly', 'subspecifically', 'subspherically', 'substantially', 'substantivally', 'substantively', 'substitutingly', 'substitutionally', 'substitutively', 'subsultorily', 'subterraneanly', 'subterraneously', 'subtilely', 'subtly', 'suburbanly', 'succeedingly', 'successfully', 'successionally', 'successively', 'successlessly', 'succinctly', 'succulently', 'suddenly', 'sufferably', 'sufferingly', 'sufficiently', 'sufficingly', 'suffocatingly', 'suffragistically', 'suffusedly', 'sugarelly', 'suggestibly', 'suggestingly', 'suggestively', 'suicidally', 'suingly', 'suitably', 'sulfureously', 'sulkily', 'sullenly', 'sully', 'sulphureously', 'sulphurously', 'sultrily', 'summarily', 'summerly', 'summoningly', 'sumphishly', 'sumptuously', 'sundrily', 'sunlessly', 'sunnily', 'superably', 'superabundantly', 'superadequately', 'superartificially', 'superbly', 'superciliously', 'superdiabolically', 'superearthly', 'supereffluently', 'supereminently', 'supererogantly', 'supererogatorily', 'superessentially', 'superexcellently', 'superexquisitely', 'superfamily', 'superficially', 'superfluously', 'superfolly', 'superfriendly', 'superhumanly', 'superimply', 'superincumbently', 'superinfinitely', 'superiorly', 'superlatively', 'supermagnificently', 'supermanly', 'supernally', 'supernaturally', 'supernormally', 'superrationally', 'supersaintly', 'superscholarly', 'supersensibly', 'supersensually', 'superserviceably', 'supersolemnly', 'superstitiously', 'supersuperabundantly', 'supertranscendently', 'superugly', 'superworldly', 'supinely', 'supplely', 'supplementally', 'supplementarily', 'suppletively', 'suppletorily', 'suppliantly', 'supplicantly', 'supplicatingly', 'supply', 'supportably', 'supportingly', 'supportlessly', 'supposably', 'supposedly', 'suppositionally', 'supposititiously', 'suppositively', 'suppressedly', 'suppressively', 'supraliminally', 'supralocally', 'supremely', 'surely', 'surfacedly', 'surfacely', 'surgically', 'surlily', 'surly', 'surmisedly', 'surpassingly', 'surprisedly', 'surprisingly', 'surrealistically', 'surreptitiously', 'surreverently', 'surroundedly', 'susceptibly', 'suspensely', 'suspensively', 'suspiciously', 'sustainingly', 'sustanedly', 'susurringly', 'suturally', 'swabberly', 'swagbelly', 'swaggeringly', 'swalingly', 'swankily', 'swarthily', 'swartly', 'swayingly', 'swearingly', 'sweatily', 'sweepingly', 'sweetishly', 'sweetly', 'swelly', 'swelteringly', 'swervily', 'swimmily', 'swimmingly', 'swindlingly', 'swinely', 'swingingly', 'swinishly', 'swirlingly', 'swirly', 'swishingly', 'swollenly', 'swooningly', 'Sybaritically', 'sycophantically', 'sycophantishly', 'syllabically', 'sylleptically', 'syllogistically', 'sylvanly', 'symbasically', 'symbiogenetically', 'symbiotically', 'symbolically', 'symbolicly', 'symbolistically', 'symmetrically', 'sympathetically', 'sympathizingly', 'symphily', 'symphonically', 'symphoniously', 'symphytically', 'sympodially', 'symptomatically', 'symptomatologically', 'synaptically', 'synarthrodially', 'syncategorematically', 'synchondrosially', 'synchronically', 'synchronistically', 'synchronously', 'synclinally', 'syndactyly', 'syndetically', 'synecdochically', 'synenergistically', 'synergically', 'synergistically', 'synodally', 'synodically', 'synoeciously', 'synonymously', 'synoptically', 'synostotically', 'synovially', 'syntactically', 'synthetically', 'syntonically', 'syphilitically', 'systematically', 'systemically', 'syzygetically', 'tabidly', 'tabularly', 'tachygraphically', 'tacitly', 'taciturnly', 'tackingly', 'tactfully', 'tactically', 'tactlessly', 'tactually', 'taillessly', 'tailorly', 'taily', 'taintlessly', 'takingly', 'talismanically', 'talkatively', 'tally', 'tamably', 'tamelessly', 'tamely', 'tangentally', 'tangentially', 'tangently', 'tangibly', 'tanglingly', 'tangly', 'tantalizingly', 'tapeinocephaly', 'taperingly', 'taperly', 'tapinocephaly', 'tapsterly', 'tardily', 'tarnally', 'tarrily', 'tarryingly', 'tartarly', 'tartishly', 'tartly', 'tartufishly', 'tassely', 'tastably', 'tasteably', 'tastefully', 'tastelessly', 'tastily', 'tastingly', 'tatteredly', 'tatterly', 'tattlingly', 'tauntingly', 'tauroboly', 'tautly', 'tautologically', 'tautologously', 'tavernly', 'tawdrily', 'tawnily', 'taxably', 'taxatively', 'taxingly', 'taxlessly', 'taxonomically', 'teachably', 'teacherly', 'teachingly', 'tearably', 'tearfully', 'tearlessly', 'teasably', 'teaseably', 'teasingly', 'techily', 'technically', 'technographically', 'technologically', 'tectocephaly', 'tediously', 'teemingly', 'teethily', 'teetotally', 'tegularly', 'telautomatically', 'telegraphically', 'teleologically', 'telepathically', 'telephonically', 'telergically', 'telescopically', 'telically', 'tellingly', 'telltalely', 'teloteropathically', 'temerariously', 'temerously', 'temperably', 'temperamentally', 'temperately', 'temperedly', 'tempestively', 'tempestuously', 'temporally', 'temporaneously', 'temporarily', 'temporizingly', 'temprely', 'temptingly', 'temulently', 'tenably', 'tenaciously', 'tendentiously', 'tenderably', 'tenderfully', 'tenderheartedly', 'tenderly', 'tendingly', 'tendrilly', 'tenebriously', 'tenebrously', 'tensely', 'tensibly', 'tensilely', 'tentatively', 'tenterbelly', 'tenthly', 'tenuously', 'tenurially', 'tepidly', 'termagantly', 'terminably', 'terminally', 'terminatively', 'terminologically', 'termlessly', 'termly', 'ternately', 'terpsichoreally', 'terrenely', 'terrestrially', 'terribly', 'terrifically', 'terrificly', 'terrifiedly', 'terrifyingly', 'territorially', 'tersely', 'testamentally', 'testamentarily', 'testily', 'testingly', 'tetanically', 'tetartohedrally', 'tetradactyly', 'tetragonally', 'tetrahedrally', 'Teutonically', 'tewly', 'textually', 'texturally', 'thankfully', 'thanklessly', 'thankworthily', 'theatrically', 'theftuously', 'thegnly', 'theistically', 'thematically', 'theocratically', 'theologically', 'Theopaschitally', 'theorematically', 'theoretically', 'theorically', 'theosophically', 'therapeutically', 'thereckly', 'thermally', 'thermically', 'thermionically', 'thermochemically', 'thermodynamically', 'thermoelectrically', 'thermometrically', 'thermoscopically', 'thermostatically', 'thermotically', 'thetically', 'theurgically', 'thickheadedly', 'thickly', 'thievingly', 'thievishly', 'thigmotactically', 'thigmotropically', 'thilly', 'thingly', 'thinkably', 'thinkingly', 'thinly', 'thirdly', 'thirstily', 'thirstingly', 'thirteenthly', 'thistly', 'thornily', 'thoroughgoingly', 'thoroughly', 'thoughtfully', 'thoughtlessly', 'thousandfoldly', 'thrasonically', 'threateningly', 'threatfully', 'threefoldly', 'thriftily', 'thriftlessly', 'thrillfully', 'thrillingly', 'thrilly', 'thrioboly', 'thrivingly', 'throatily', 'throbbingly', 'throngingly', 'throttlingly', 'thuddingly', 'thumpingly', 'thunderingly', 'thunderously', 'thundrously', 'thusly', 'thwackingly', 'thwartedly', 'thwartingly', 'thwartly', 'ticklely', 'ticklingly', 'ticklishly', 'tickly', 'tidally', 'tidely', 'tidily', 'tigerishly', 'tigerly', 'tightly', 'tilly', 'timbrophily', 'timefully', 'timelessly', 'timelily', 'timely', 'timeously', 'timidly', 'timorously', 'tinctorially', 'tinglingly', 'tingly', 'tinily', 'tinkerly', 'tinklingly', 'tinkly', 'tinnily', 'tinselly', 'tintingly', 'tipply', 'tipsily', 'tiptoeingly', 'tiredly', 'tirelessly', 'tiresomely', 'tiringly', 'Titanically', 'titillatingly', 'titteringly', 'titubantly', 'titularly', 'toilfully', 'toilingly', 'toilsomely', 'tolerably', 'tolerantly', 'tolly', 'tomboyishly', 'tonally', 'tonelessly', 'tonetically', 'tonically', 'tonishly', 'tonnishly', 'toomly', 'toothlessly', 'toothsomely', 'topically', 'toploftily', 'topmostly', 'topographically', 'toppingly', 'topply', 'tormentedly', 'tormentingly', 'torpidly', 'torrentially', 'torridly', 'torsionally', 'tortiously', 'tortuously', 'torturedly', 'torturingly', 'torturously', 'toshly', 'tosily', 'tossily', 'tossingly', 'totally', 'totemically', 'totteringly', 'touchily', 'touchingly', 'toughly', 'tously', 'towardly', 'toweringly', 'townishly', 'townly', 'toxically', 'toxicologically', 'toxophily', 'toyingly', 'toyishly', 'traceably', 'tracelessly', 'tracingly', 'tracklessly', 'tractably', 'traditionally', 'traditionarily', 'traditionately', 'traducingly', 'tragically', 'tragicly', 'tragicomically', 'trailingly', 'traily', 'traitorously', 'tralatitiously', 'trammelingly', 'trammellingly', 'trampishly', 'trancedly', 'tranquilizingly', 'tranquilly', 'transactionally', 'transalpinely', 'transatlantically', 'transcendentally', 'transcendently', 'transcendingly', 'transcriptionally', 'transcriptively', 'transcurrently', 'transeptally', 'transferably', 'transformingly', 'transfusively', 'transgressingly', 'transgressively', 'transiently', 'transitionally', 'transitively', 'transitorily', 'translationally', 'translucently', 'transmigratively', 'transmissively', 'transmutably', 'transparently', 'transperitoneally', 'transpicuously', 'transplendently', 'transpleurally', 'transportedly', 'transportingly', 'transpositively', 'transubstantially', 'transubstantiatively', 'transversally', 'transversely', 'trappingly', 'trashily', 'traumatically', 'travally', 'traversely', 'treacherously', 'treacly', 'treasonably', 'treasonously', 'treatably', 'trebly', 'tremblingly', 'trembly', 'tremendously', 'tremorlessly', 'tremulously', 'trenchantly', 'trepanningly', 'trepidly', 'trevally', 'triadically', 'triangularly', 'triangulately', 'tribally', 'tribually', 'tributarily', 'trichinopoly', 'trichotomously', 'trickily', 'trickingly', 'trickishly', 'tricklingly', 'trickly', 'tricksily', 'tridaily', 'triedly', 'triennially', 'triflingly', 'trifoly', 'trigly', 'trigonally', 'trigonocephaly', 'trihourly', 'trilaterally', 'triliterally', 'trimly', 'trimmingly', 'trimonthly', 'trinely', 'trinomially', 'trioeciously', 'tripartedly', 'tripartitely', 'tripersonally', 'tripinnately', 'triply', 'trippingly', 'tripsomely', 'triquetrously', 'triradially', 'triradiately', 'triserially', 'tristfully', 'trisyllabically', 'tritely', 'triternately', 'tritically', 'trituberculy', 'triumphantly', 'trivantly', 'trivially', 'triweekly', 'trochocephaly', 'trochoidally', 'trolly', 'trophically', 'tropically', 'tropologically', 'troubledly', 'troublesomely', 'troublingly', 'troublously', 'troubly', 'truantly', 'trucklingly', 'truculently', 'trueheartedly', 'truly', 'truncately', 'trustably', 'trustfully', 'trustily', 'trustingly', 'trustlessly', 'trustworthily', 'truthfully', 'truthlessly', 'tryingly', 'tubercularly', 'tuberculatedly', 'tuberculately', 'tuberculously', 'tuberously', 'tubularly', 'tubulously', 'tuftily', 'tuggingly', 'tumblingly', 'tumbly', 'tumidly', 'tumultuarily', 'tumultuously', 'tunably', 'tunbelly', 'tunefully', 'tunelessly', 'tunnelly', 'turbidly', 'turbulently', 'turgently', 'turgidly', 'Turkishly', 'turpidly', 'tutly', 'tutorially', 'tutorly', 'twaddlingly', 'twaddly', 'twankingly', 'twarly', 'twelfthly', 'twentiethly', 'twiddly', 'twifoldly', 'twilly', 'twiningly', 'twinklingly', 'twinkly', 'twinly', 'twirly', 'twistedly', 'twistily', 'twistingly', 'twitchily', 'twitchingly', 'twitteringly', 'twitterly', 'twittingly', 'twofoldly', 'typhlomegaly', 'typically', 'typographically', 'typologically', 'tyrannically', 'tyrannicly', 'tyrannizingly', 'tyrannously', 'uberously', 'ubiquitously', 'uglily', 'ugly', 'ugsomely', 'uily', 'ulcerously', 'ulteriorly', 'ultimately', 'ultrabrachycephaly', 'ultradolichocephaly', 'ultramelancholy', 'ultraugly', 'ultroneously', 'umbellately', 'umbilically', 'umbrageously', 'umbrally', 'umbriferously', 'unabasedly', 'unabashedly', 'unabatedly', 'unabatingly', 'unabidingly', 'unably', 'unabundantly', 'unacceptably', 'unaccessibly', 'unaccidentally', 'unaccommodatingly', 'unaccordingly', 'unaccountably', 'unaccurately', 'unaccusably', 'unaccustomedly', 'unacquaintedly', 'unacquirably', 'unactively', 'unactually', 'unacutely', 'unadaptably', 'unadaptedly', 'unadequately', 'unadherently', 'unadjacently', 'unadjustably', 'unadmissibly', 'unadmittably', 'unadmittedly', 'unadoptably', 'unadornedly', 'unadulteratedly', 'unadulterately', 'unadulterously', 'unadvancedly', 'unadventurously', 'unadversely', 'unadvisably', 'unadvisedly', 'unaffably', 'unaffectedly', 'unaffectionately', 'unafflictedly', 'unaffrightedly', 'unaggressively', 'unagitatedly', 'unagreeably', 'unaidedly', 'unaldermanly', 'unalertly', 'unalienably', 'unallayably', 'unalleviably', 'unalliedly', 'unallowedly', 'unalluringly', 'unalterably', 'unamazedly', 'unambiguously', 'unambitiously', 'unamenably', 'unamendedly', 'unamiably', 'unamicably', 'unamply', 'unamusably', 'unamusingly', 'unanalogously', 'unangrily', 'unanimatedly', 'unanimately', 'unanimistically', 'unanimously', 'unannexedly', 'unanswerably', 'unanticipatingly', 'unanxiously', 'unapostolically', 'unapparently', 'unappealably', 'unappeasably', 'unappeasedly', 'unappliably', 'unapplicably', 'unappositely', 'unappreciably', 'unappreciatively', 'unapprehendably', 'unapprehensively', 'unapprisedly', 'unappropriately', 'unapprovably', 'unapprovingly', 'unapproximately', 'unaptly', 'unarbitrarily', 'unarguably', 'unargumentatively', 'unaristocratically', 'unarithmetically', 'unarmedly', 'unartfully', 'unartificially', 'unartistically', 'unascertainably', 'unashamedly', 'unaspiringly', 'unassailably', 'unassignably', 'unassociably', 'unassumingly', 'unassuredly', 'unathletically', 'unattackably', 'unattainably', 'unattaintedly', 'unattractively', 'unaudibly', 'unauspiciously', 'unauthentically', 'unauthoritatively', 'unauthorizedly', 'unavailably', 'unavailingly', 'unavertibly', 'unavoidably', 'unavouchably', 'unavowably', 'unavowedly', 'unawardably', 'unawaredly', 'unawfully', 'unbalanceably', 'unbankably', 'unbashfully', 'unbearably', 'unbeatably', 'unbeauteously', 'unbeautifully', 'unbecomingly', 'unbefittingly', 'unbeginningly', 'unbegottenly', 'unbelievably', 'unbelievingly', 'unbendably', 'unbendingly', 'unbenevolently', 'unbenignantly', 'unbenignly', 'unbeseemingly', 'unbeseemly', 'unbiasedly', 'unbirdly', 'unbishoply', 'unblamably', 'unblenchingly', 'unblightedly', 'unblinkingly', 'unblithely', 'unbloodily', 'unblushingly', 'unboastfully', 'unbodily', 'unboldly', 'unboundably', 'unboundedly', 'unbountifully', 'unbravely', 'unbreakably', 'unbribably', 'unbridledly', 'unbriefly', 'unbrokenly', 'unbrookably', 'unbrotherly', 'unbudgeably', 'unburly', 'unbusily', 'unbuxomly', 'uncalculably', 'uncalculatingly', 'uncalmly', 'uncandidly', 'uncannily', 'uncanonically', 'uncanvassably', 'uncapably', 'uncaptiously', 'uncardinally', 'uncarefully', 'uncatholicly', 'uncausatively', 'uncautiously', 'uncavalierly', 'unceasingly', 'uncensoriously', 'uncentrally', 'unceremoniously', 'uncertainly', 'uncessantly', 'unchallengeably', 'unchangeably', 'unchangingly', 'uncharacteristically', 'uncharily', 'uncharitably', 'unchastely', 'uncheerfully', 'uncheerily', 'unchemically', 'unchidingly', 'unchildishly', 'unchivalrously', 'unchoicely', 'unchristianly', 'unchronologically', 'unchurchly', 'uncially', 'uncircumspectly', 'uncitizenly', 'uncivilizedly', 'uncivilly', 'unclassably', 'unclassically', 'uncleanlily', 'uncleanly', 'unclemently', 'unclerically', 'unclerkly', 'uncleverly', 'unclimbably', 'unclothedly', 'uncloudedly', 'uncoherently', 'uncollectedly', 'uncollectibly', 'uncolloquially', 'uncolorably', 'uncoloredly', 'uncolouredly', 'uncoly', 'uncombinably', 'uncomelily', 'uncomely', 'uncomfortably', 'uncommendably', 'uncommercially', 'uncommodiously', 'uncommonly', 'uncommunicably', 'uncommunicatively', 'uncomparably', 'uncompassionately', 'uncompatibly', 'uncomplainingly', 'uncomplaisantly', 'uncompletely', 'uncompoundedly', 'uncomprehendingly', 'uncomprehensively', 'uncomprisingly', 'uncompromisingly', 'uncomputably', 'unconcealably', 'unconcealingly', 'unconceivably', 'unconcernedly', 'unconcertedly', 'unconclusively', 'unconditionally', 'unconditionately', 'unconditionedly', 'unconfidently', 'unconfinedly', 'unconflictingly', 'unconformably', 'unconformedly', 'unconfoundedly', 'unconfusably', 'unconfusedly', 'uncongenially', 'unconnectedly', 'unconquerably', 'unconscientiously', 'unconscionably', 'unconsciously', 'unconsecratedly', 'unconsequentially', 'unconsiderately', 'unconsideredly', 'unconsideringly', 'unconsolably', 'unconsonantly', 'unconspicuously', 'unconspiringly', 'unconstantly', 'unconstitutionally', 'unconstrainedly', 'uncontainably', 'uncontemnedly', 'uncontentedly', 'uncontentiously', 'uncontestably', 'uncontestedly', 'uncontinently', 'uncontradictably', 'uncontradictedly', 'uncontrollably', 'uncontrolledly', 'uncontroversially', 'uncontrovertably', 'uncontrovertedly', 'uncontrovertibly', 'unconveniently', 'unconventionally', 'unconversably', 'unconvertedly', 'unconvincedly', 'unconvincingly', 'uncoquettishly', 'uncordially', 'uncorrectly', 'uncorrigibly', 'uncorruptedly', 'uncorruptibly', 'uncorruptly', 'uncostly', 'uncountably', 'uncourteously', 'uncourtly', 'uncousinly', 'uncouthly', 'uncoveredly', 'uncovetingly', 'uncraftily', 'uncravingly', 'uncreaturely', 'uncredibly', 'uncreditably', 'uncriminally', 'uncritically', 'uncriticisingly', 'uncriticizingly', 'uncrossly', 'unctuously', 'uncunningly', 'uncurably', 'uncurbedly', 'uncuriously', 'uncurrently', 'uncustomarily', 'uncynically', 'undaily', 'undaughterly', 'undauntedly', 'undeceivably', 'undecently', 'undecidedly', 'undecipherably', 'undecisively', 'undeclinably', 'undecorously', 'undeemously', 'undefeatedly', 'undefendably', 'undeferentially', 'undefiledly', 'undefinably', 'undefinedly', 'undelayedly', 'undelayingly', 'undelectably', 'undeliberately', 'undeliberatingly', 'undelightfully', 'undelusively', 'undemocratically', 'undemonstrably', 'undemonstratively', 'undeniably', 'undeniedly', 'undenominationally', 'undepartably', 'undependably', 'underbelly', 'underhandedly', 'underivedly', 'underly', 'underminingly', 'underply', 'undersally', 'understandably', 'understandingly', 'undersupply', 'undertakerly', 'undertakingly', 'undervaluingly', 'undescribably', 'undeservedly', 'undeservingly', 'undesignedly', 'undesigningly', 'undesirably', 'undesiredly', 'undesirously', 'undespairingly', 'undespondently', 'undetractingly', 'undeviatingly', 'undeviously', 'undevoutly', 'undexterously', 'undextrously', 'undignifiedly', 'undiligently', 'undiminishably', 'undirectly', 'undiscernedly', 'undiscernibly', 'undiscerningly', 'undiscoverably', 'undiscreetly', 'undiscriminatingly', 'undisguisedly', 'undismayedly', 'undisorderly', 'undisputably', 'undisputatiously', 'undisputedly', 'undissemblingly', 'undissuadably', 'undistantly', 'undistinctly', 'undistinguishably', 'undistinguishingly', 'undistractedly', 'undistractingly', 'undisturbedly', 'undisturbingly', 'undivertibly', 'undivestedly', 'undividably', 'undividedly', 'undivinely', 'undoubtably', 'undoubtedly', 'undoubtfully', 'undoubtingly', 'undramatically', 'undreadfully', 'undrinkably', 'undubitably', 'undularly', 'undulately', 'undulatingly', 'unduly', 'undurably', 'undutifully', 'undyingly', 'uneagerly', 'unearly', 'unearthly', 'uneasily', 'uneconomically', 'unedibly', 'uneducably', 'uneducatedly', 'uneffaceably', 'uneffectually', 'unegoistically', 'unelaborately', 'unelderly', 'unelegantly', 'uneligibly', 'uneloquently', 'unembarrassedly', 'uneminently', 'unemotionally', 'unemphatically', 'unempirically', 'unemployably', 'unencumberedly', 'unendingly', 'unendurably', 'unenduringly', 'unenforcedly', 'unenjoyingly', 'unenterprisingly', 'unentertainingly', 'unenthusiastically', 'unenviably', 'unenviedly', 'unenviously', 'unepiscopally', 'unequably', 'unequally', 'unequitably', 'unequivocally', 'unerrably', 'unerringly', 'unerroneously', 'unescapably', 'uneschewably', 'unessentially', 'unestimably', 'unethically', 'uneuphoniously', 'unevenly', 'uneventfully', 'unevitably', 'unexactedly', 'unexactingly', 'unexactly', 'unexceptionably', 'unexceptionally', 'unexclusively', 'unexculpably', 'unexcusably', 'unexcusedly', 'unexhaustedly', 'unexhaustibly', 'unexorcisably', 'unexpectedly', 'unexpectingly', 'unexpensively', 'unexpertly', 'unexplainably', 'unexplainedly', 'unexplicably', 'unexplicitly', 'unexpressably', 'unexpressedly', 'unexpressibly', 'unexpressively', 'unexpressly', 'unexpurgatedly', 'unextendedly', 'unextinguishably', 'unfadingly', 'unfailably', 'unfailingly', 'unfaintly', 'unfairly', 'unfaithfully', 'unfallaciously', 'unfallibly', 'unfalteringly', 'unfamiliarly', 'unfantastically', 'unfashionably', 'unfastidiously', 'unfatherly', 'unfathomably', 'unfavorably', 'unfearfully', 'unfearingly', 'unfeasably', 'unfeasibly', 'unfeelingly', 'unfeignably', 'unfeignedly', 'unfeigningly', 'unfelicitously', 'unfellowly', 'unfeloniously', 'unfemininely', 'unfermentably', 'unfestively', 'unfilially', 'unfinishedly', 'unfirmly', 'unfitly', 'unfittingly', 'unflaggingly', 'unflatteringly', 'unfleshly', 'unflexibly', 'unflickeringly', 'unflinchingly', 'unforbiddenly', 'unforcedly', 'unforcibly', 'unforeseeably', 'unforeseeingly', 'unforeseenly', 'unforgettably', 'unforgettingly', 'unforgivably', 'unforgivingly', 'unformally', 'unfortunately', 'unfoundedly', 'unfragrantly', 'unframably', 'unfrankly', 'unfreely', 'unfrequently', 'unfriendlily', 'unfriendly', 'unfrowardly', 'unfructuously', 'unfrugally', 'unfruitfully', 'unfrustrably', 'unfully', 'unfunnily', 'unfusibly', 'ungainfully', 'ungainly', 'ungainsayably', 'ungainsomely', 'ungallantly', 'ungenerously', 'ungenially', 'ungenteelly', 'ungentlemanly', 'ungently', 'ungenuinely', 'ungeographically', 'ungeometrically', 'unghostly', 'ungladly', 'ungloriously', 'unglossily', 'ungodlily', 'ungodly', 'ungoodly', 'ungovernably', 'ungracefully', 'ungraciously', 'ungradually', 'ungrammatically', 'ungratefully', 'ungravelly', 'ungravely', 'ungreatly', 'ungroundably', 'ungroundedly', 'ungrudgingly', 'unguardedly', 'unguidably', 'unguidedly', 'unguilefully', 'unguiltily', 'unhabitually', 'unhairily', 'unhandily', 'unhandsomely', 'unhappily', 'unhardily', 'unharmfully', 'unharmoniously', 'unhastily', 'unhatingly', 'unhealably', 'unhealthfully', 'unhealthily', 'unheavenly', 'unheavily', 'unheededly', 'unheedfully', 'unheedingly', 'unhelpfully', 'unheroically', 'unhesitatingly', 'unhidably', 'unhinderably', 'unhistorically', 'unholily', 'unholy', 'unhomely', 'unhomogeneously', 'unhonestly', 'unhonorably', 'unhopedly', 'unhopefully', 'unhopingly', 'unhospitably', 'unhostilely', 'unhousewifely', 'unhumanly', 'unhumbly', 'unhumorously', 'unhurriedly', 'unhurryingly', 'unhurtfully', 'unhusbandly', 'unhygienically', 'unhypocritically', 'uniambically', 'uniaxally', 'uniaxially', 'unicursally', 'unidentifiably', 'unidentifiedly', 'unidiomatically', 'unidly', 'unifiedly', 'uniformally', 'uniformly', 'unilaterally', 'unilludedly', 'unimaginably', 'unimaginatively', 'unimitably', 'unimpassionedly', 'unimpeachably', 'unimpededly', 'unimplicitly', 'unimportantly', 'unimportunately', 'unimposedly', 'unimpressibly', 'unimpressively', 'unimprovably', 'unimprovedly', 'unincorporatedly', 'unindebtedly', 'unindifferently', 'unindulgently', 'unindustriously', 'uningeniously', 'uningenuously', 'uninhabitably', 'uninjuriously', 'uninnocently', 'uninquisitively', 'uninspiringly', 'uninstructedly', 'uninstructively', 'unintellectually', 'unintelligently', 'unintelligibly', 'unintendedly', 'unintentionally', 'unintently', 'uninterestedly', 'uninterestingly', 'unintermittedly', 'unintermittingly', 'uninterruptedly', 'unintrusively', 'uninventively', 'uninvidiously', 'uninvitedly', 'uniquely', 'unirritatedly', 'uniserially', 'uniseriately', 'unisexually', 'unisonally', 'unitarily', 'uniteably', 'unitedly', 'unitingly', 'unitively', 'universally', 'univocally', 'unjesuitically', 'unjokingly', 'unjolly', 'unjovially', 'unjoyfully', 'unjoyously', 'unjudicially', 'unjudiciously', 'unjustifiably', 'unjustifiedly', 'unjustly', 'unkemptly', 'unkindlily', 'unkindly', 'unkindredly', 'unkingly', 'unknowably', 'unknowingly', 'unknownly', 'unlaboriously', 'unlaudably', 'unlawfully', 'unlawly', 'unleaderly', 'unlearnedly', 'unlegally', 'unleisurely', 'unletteredly', 'unlevelly', 'unlightedly', 'unlikably', 'unlikeably', 'unlikely', 'unlimitably', 'unlimitedly', 'unliterally', 'unlivably', 'unliveably', 'unlively', 'unloanably', 'unloathly', 'unlocally', 'unlogically', 'unlonely', 'unloosably', 'unlordly', 'unlovably', 'unloveably', 'unlovelily', 'unlovely', 'unloverly', 'unlovingly', 'unlowly', 'unloyally', 'unluckily', 'unlustily', 'unlyrically', 'unmackly', 'unmaidenly', 'unmanageably', 'unmanfully', 'unmanlily', 'unmanly', 'unmanneredly', 'unmannerly', 'unmatchably', 'unmathematically', 'unmaturely', 'unmeaningly', 'unmeasurably', 'unmeasuredly', 'unmechanically', 'unmeddlingly', 'unmeekly', 'unmeetly', 'unmelancholy', 'unmelodiously', 'unmeltably', 'unmendably', 'unmentionably', 'unmerchantly', 'unmercifully', 'unmeritedly', 'unmeritoriously', 'unmethodically', 'unmetrically', 'unmilitarily', 'unmindfully', 'unministerially', 'unmiraculously', 'unmirthfully', 'unmiserly', 'unmisgivingly', 'unmistakably', 'unmistakedly', 'unmistakingly', 'unmitigatedly', 'unmixedly', 'unmockingly', 'unmoderately', 'unmodifiably', 'unmolestedly', 'unmollifiably', 'unmomentously', 'unmonkly', 'unmorally', 'unmortifiedly', 'unmotherly', 'unmotivatedly', 'unmovably', 'unmovedly', 'unmovingly', 'unmultipliedly', 'unmultiply', 'unmurmuringly', 'unmusically', 'unmusicianly', 'unmysteriously', 'unnamably', 'unnameably', 'unnaturally', 'unnavigably', 'unnearly', 'unneatly', 'unnecessarily', 'unneedfully', 'unnegotiably', 'unneighborly', 'unneutrally', 'unnewly', 'unnicely', 'unniggardly', 'unnimbly', 'unnobly', 'unnoticeably', 'unnumberably', 'unobediently', 'unobjectionably', 'unobligingly', 'unobsequiously', 'unobservantly', 'unobservedly', 'unobservingly', 'unobstructedly', 'unobtainably', 'unobtrusively', 'unoccupiedly', 'unoffendedly', 'unoffendingly', 'unoffensively', 'unofficially', 'unofficiously', 'unoily', 'unopenly', 'unoperably', 'unopportunely', 'unopposedly', 'unoppressively', 'unorderly', 'unordinarily', 'unordinately', 'unorganically', 'unorganizedly', 'unoriginally', 'unoriginately', 'unoriginatively', 'unornamentally', 'unornly', 'unorthodoxically', 'unorthodoxly', 'unorthographically', 'unostentatiously', 'unpacifiedly', 'unpaintably', 'unpaintedly', 'unpalatably', 'unparalleledly', 'unpardonably', 'unpartably', 'unpartially', 'unpassably', 'unpassionately', 'unpatiently', 'unpatriotically', 'unpausingly', 'unpayably', 'unpeaceably', 'unpeacefully', 'unpecuniarily', 'unpenitently', 'unperceivedly', 'unperceptibly', 'unperfectedly', 'unperfectly', 'unperishably', 'unpermanently', 'unperseveringly', 'unpersuadably', 'unpersuasively', 'unpertinently', 'unperturbedly', 'unphilanthropically', 'unphilosophically', 'unphysically', 'unpictorially', 'unpicturesquely', 'unpiteously', 'unpitiably', 'unpitiedly', 'unpitifully', 'unpityingly', 'unplacably', 'unplainly', 'unplannedly', 'unplausibly', 'unpleasantly', 'unpleasingly', 'unpleasurably', 'unpliably', 'unpliantly', 'unplutocratically', 'unpoetically', 'unpolemically', 'unpolitely', 'unpolitically', 'unpoliticly', 'unpollutedly', 'unpopularly', 'unportly', 'unpossibly', 'unpracticably', 'unpractically', 'unprecedentedly', 'unprecedently', 'unprecisely', 'unpredictably', 'unprejudicedly', 'unprejudicially', 'unpremeditatedly', 'unpremeditately', 'unpreparedly', 'unprepossessedly', 'unprepossessingly', 'unpresentably', 'unpresumptuously', 'unpretendingly', 'unpretentiously', 'unpreventably', 'unpriceably', 'unprickly', 'unpriestly', 'unprincely', 'unprincipledly', 'unprintably', 'unproduceably', 'unproducibly', 'unproductively', 'unprofessionally', 'unproficiently', 'unprofitably', 'unprofusely', 'unprogressively', 'unpromisingly', 'unpromptly', 'unproperly', 'unprophetically', 'unpropitiously', 'unproportionably', 'unproportionally', 'unproportionately', 'unproportionedly', 'unprosperably', 'unprosperously', 'unprotectedly', 'unprovably', 'unprovidedly', 'unprovidently', 'unprovokedly', 'unprudently', 'unpublishably', 'unpunctually', 'unpunishably', 'unpunishedly', 'unpunishingly', 'unpurely', 'unpurposely', 'unquailingly', 'unquakerly', 'unqualifiedly', 'unqualifyingly', 'unqueenly', 'unquenchably', 'unquestionably', 'unquestionedly', 'unquestioningly', 'unquickly', 'unquiescently', 'unquietly', 'unreachably', 'unreadably', 'unreadily', 'unreally', 'unreasonably', 'unreasoningly', 'unreassuringly', 'unrebuffably', 'unrebukably', 'unrecallably', 'unreclaimably', 'unrecognizably', 'unrecognizingly', 'unreconcilably', 'unrecoverably', 'unrectifiably', 'unredeemably', 'unredeemedly', 'unreducibly', 'unrefinedly', 'unreflectingly', 'unreflectively', 'unrefreshingly', 'unrefusably', 'unrefusingly', 'unregally', 'unregardedly', 'unregenerately', 'unregretfully', 'unrelatively', 'unrelaxingly', 'unrelentingly', 'unreliably', 'unrelievedly', 'unreligiously', 'unrelinquishably', 'unreluctantly', 'unremittedly', 'unremittently', 'unremittingly', 'unremorsefully', 'unremotely', 'unremovably', 'unremuneratively', 'unrenownedly', 'unrepealably', 'unrepentantly', 'unrepentingly', 'unrepiningly', 'unrepliably', 'unreportedly', 'unreprievably', 'unreproachably', 'unreproachfully', 'unreproachingly', 'unreprovably', 'unreprovedly', 'unrequitedly', 'unreservedly', 'unresistably', 'unresistantly', 'unresistedly', 'unresistibly', 'unresistingly', 'unresolvedly', 'unrespectfully', 'unrespectively', 'unresponsively', 'unrestfully', 'unrestingly', 'unrestrainably', 'unrestrainedly', 'unrestrictedly', 'unretrievingly', 'unreturnably', 'unreturningly', 'unrevealingly', 'unrevengingly', 'unreverendly', 'unreverently', 'unrevocably', 'unrewardedly', 'unrhetorically', 'unrhythmically', 'unridably', 'unridely', 'unrighteously', 'unrightfully', 'unrightly', 'unripely', 'unripplingly', 'unrivaledly', 'unromantically', 'unroyally', 'unruledly', 'unrulily', 'unruly', 'unruminatingly', 'unsacerdotally', 'unsacramentally', 'unsacredly', 'unsacrificeably', 'unsafely', 'unsaintly', 'unsalably', 'unsanctifiedly', 'unsanctimoniously', 'unsanguinely', 'unsanguineously', 'unsatedly', 'unsatiably', 'unsatirically', 'unsatisfactorily', 'unsatisfiably', 'unsatisfiedly', 'unsatisfyingly', 'unsaturatedly', 'unsavoredly', 'unsavorily', 'unscalably', 'unscaly', 'unscathedly', 'unscholarly', 'unschooledly', 'unscientifically', 'unscornfully', 'unscratchingly', 'unscreenably', 'unscripturally', 'unscrupulously', 'unscrutinizingly', 'unsearchably', 'unseasonably', 'unsecretly', 'unsecuredly', 'unsecurely', 'unseeingly', 'unseemingly', 'unseemlily', 'unseemly', 'unselfishly', 'unsensibly', 'unsensually', 'unsentimentally', 'unseparably', 'unserviceably', 'unseveredly', 'unshakably', 'unshakeably', 'unshakenly', 'unshamably', 'unshameably', 'unshamefully', 'unshapely', 'unshapenly', 'unshavedly', 'unshavenly', 'unshrinkingly', 'unshyly', 'unsickerly', 'unsickly', 'unsightly', 'unsignificantly', 'unsilenceably', 'unsilently', 'unsilly', 'unsimilarly', 'unsincerely', 'unsinfully', 'unsisterly', 'unskilfully', 'unskilledly', 'unskillfully', 'unsleepably', 'unsleepingly', 'unslothfully', 'unsly', 'unsmartly', 'unsmilingly', 'unsmoothly', 'unsoberly', 'unsociably', 'unsocially', 'unsoldierly', 'unsolemnly', 'unsolicitedly', 'unsolicitously', 'unsolidly', 'unsolvably', 'unsophistically', 'unsophisticatedly', 'unsoulfully', 'unsoundly', 'unsparingly', 'unspeakably', 'unspecifiedly', 'unspectacularly', 'unspeculatively', 'unspiritedly', 'unspiritually', 'unspleenishly', 'unspoilably', 'unspokenly', 'unspontaneously', 'unsportsmanly', 'unspottedly', 'unsprightly', 'unstably', 'unstaidly', 'unstainedly', 'unstately', 'unstatutably', 'unsteadfastly', 'unsteadily', 'unstintedly', 'unstintingly', 'unstoically', 'unstrategically', 'unstressedly', 'unstylishly', 'unsubduably', 'unsubduedly', 'unsubmissively', 'unsubstantially', 'unsubtly', 'unsuccessfully', 'unsuccessively', 'unsufferably', 'unsufficiently', 'unsuitably', 'unsulliedly', 'unsummerly', 'unsupervisedly', 'unsupportably', 'unsupportedly', 'unsuppressibly', 'unsurmountably', 'unsurpassably', 'unsusceptibly', 'unsuspectably', 'unsuspectedly', 'unsuspectingly', 'unsuspiciously', 'unsweetly', 'unswervingly', 'unsymbolically', 'unsymmetrically', 'unsympathetically', 'unsympathizingly', 'unsystematically', 'unsystematizedly', 'untactfully', 'untailorly', 'untaintedly', 'untamedly', 'untamely', 'untangibly', 'untastefully', 'unteachably', 'untechnically', 'untellably', 'untemperately', 'untemptably', 'untemptibly', 'untemptingly', 'untenably', 'untenderly', 'untenibly', 'unterminably', 'unterribly', 'unthankfully', 'untheatrically', 'untheologically', 'unthinkably', 'unthinkingly', 'untholeably', 'unthoughtedly', 'unthoughtfully', 'unthriftily', 'unthrivingly', 'untidily', 'untimely', 'untimeously', 'untiredly', 'untiringly', 'untolerably', 'untouchably', 'untowardly', 'untraceably', 'untractably', 'untrainedly', 'untranslatably', 'untreatably', 'untremblingly', 'untroubledly', 'untruly', 'untrustably', 'untrustworthily', 'untruthfully', 'untunably', 'untuneably', 'untunefully', 'untutoredly', 'untypically', 'unugly', 'ununanimously', 'ununderstandably', 'ununiformly', 'ununitably', 'unupbraidingly', 'unuprightly', 'unusably', 'unusefully', 'unusually', 'unutterably', 'unvalidly', 'unvaluably', 'unvariably', 'unvariedly', 'unvarnishedly', 'unvaryingly', 'unvauntingly', 'unveiledly', 'unverifiably', 'unversedly', 'unvicariously', 'unvigorously', 'unvindictively', 'unvirtuously', 'unvisibly', 'unvitiatedly', 'unvoluntarily', 'unvouchedly', 'unvulgarly', 'unwaggably', 'unwarely', 'unwarily', 'unwarnedly', 'unwarrantably', 'unwarrantedly', 'unwastefully', 'unwastingly', 'unwatchfully', 'unwaveringly', 'unweariably', 'unweariedly', 'unwearily', 'unwearyingly', 'unweatherly', 'unweddedly', 'unweetingly', 'unwelcomely', 'unwholesomely', 'unwieldily', 'unwieldly', 'unwifely', 'unwilily', 'unwillfully', 'unwillingly', 'unwily', 'unwincingly', 'unwindingly', 'unwinkingly', 'unwisely', 'unwittily', 'unwittingly', 'unwomanly', 'unwontedly', 'unwooly', 'unwordably', 'unwordily', 'unworkably', 'unworkmanly', 'unworldly', 'unworriedly', 'unworthily', 'unwrathfully', 'unwrestedly', 'unyieldingly', 'unyouthfully', 'unzealously', 'upbraidingly', 'upfly', 'upgully', 'upliftedly', 'upliftingly', 'uppishly', 'uprighteously', 'uprightly', 'uproariously', 'upsettingly', 'upwardly', 'urbanely', 'urchinly', 'urgently', 'urgingly', 'usedly', 'usefully', 'uselessly', 'usually', 'usuriously', 'usurpatively', 'usurpedly', 'usurpingly', 'utilitarianly', 'utterly', 'uvularly', 'uxorially', 'uxoriously', 'vacantly', 'vacillatingly', 'vacuously', 'vagariously', 'vagrantly', 'vaguely', 'vaingloriously', 'vainly', 'valedictorily', 'valiantly', 'validly', 'valorously', 'valuably', 'vanishingly', 'vapidly', 'vaporingly', 'vaporously', 'variably', 'variatively', 'variedly', 'varietally', 'variformly', 'variously', 'varyingly', 'vascularly', 'vastily', 'vastly', 'vatically', 'vaultedly', 'vauntingly', 'vealy', 'vectorially', 'veeringly', 'vegetably', 'vegetatively', 'vehemently', 'vehicularly', 'veiledly', 'veily', 'velociously', 'venally', 'venatically', 'vendibly', 'venerably', 'veneratively', 'vengefully', 'vengeously', 'venially', 'venomly', 'venomously', 'venously', 'ventrally', 'ventriloqually', 'ventriloquially', 'ventriloquously', 'ventrodorsally', 'ventrolaterally', 'venturesomely', 'venturously', 'veraciously', 'verbally', 'verbosely', 'verdantly', 'veridically', 'verifiably', 'verily', 'verisimilarly', 'veritably', 'vermicularly', 'verminly', 'verminously', 'vernacularly', 'vernally', 'versatilely', 'vertebrally', 'vertically', 'verticillately', 'vesicularly', 'vestigially', 'vestrymanly', 'vexatiously', 'vexedly', 'vexingly', 'viatorially', 'vibrantly', 'vibratingly', 'vicariously', 'vicarly', 'viceregally', 'viceversally', 'viciously', 'Victorianly', 'victoriously', 'vidually', 'viewably', 'viewlessly', 'viewly', 'vigilantly', 'vigorously', 'vilely', 'vilifyingly', 'villainously', 'villanously', 'villously', 'vincibly', 'vindicably', 'vindicatively', 'vindicatorily', 'vindictively', 'vinously', 'violably', 'violaceously', 'violently', 'viperishly', 'viperously', 'virginally', 'virginly', 'virilely', 'viriliously', 'virtually', 'virtuously', 'virulently', 'viscerally', 'viscidly', 'viscometrically', 'viscously', 'visibly', 'visionally', 'visionarily', 'visually', 'vitalistically', 'vitalizingly', 'vitally', 'vitreously', 'vituperatively', 'vivaciously', 'vively', 'vividly', 'viviparously', 'vivisectionally', 'vixenishly', 'vixenly', 'vocably', 'vocally', 'vocationally', 'vocatively', 'vociferously', 'voicelessly', 'voidly', 'volantly', 'volatilely', 'volcanically', 'volently', 'volitionally', 'volleyingly', 'volubly', 'volumetrically', 'voluminously', 'voluntarily', 'volunteerly', 'voluptuously', 'vomitingly', 'voraciously', 'vortically', 'vorticosely', 'vorticularly', 'votally', 'votively', 'vowely', 'vulgarly', 'vulnerably', 'vyingly', 'wabbly', 'waddlingly', 'waddly', 'wadingly', 'waffly', 'waggably', 'waggishly', 'wagglingly', 'waggly', 'waikly', 'wailfully', 'wailingly', 'waily', 'waitingly', 'wakefully', 'wakingly', 'wallowishly', 'wally', 'wamblingly', 'wambly', 'wanderingly', 'wankly', 'wanly', 'wantingly', 'wantonly', 'warblingly', 'warbly', 'warily', 'warlessly', 'warlikely', 'warly', 'warmedly', 'warmheartedly', 'warmly', 'warningly', 'warrantably', 'waspily', 'waspishly', 'wastefully', 'wasterfully', 'wastingly', 'watchfully', 'watchingly', 'watchmanly', 'waterbelly', 'waterily', 'wateringly', 'waterishly', 'waterlessly', 'wavably', 'wavelessly', 'waveringly', 'wavily', 'wavingly', 'waxily', 'waxingly', 'wayfaringly', 'waywardly', 'weakheartedly', 'weakishly', 'weakly', 'wealthily', 'weariedly', 'wearifully', 'wearilessly', 'wearily', 'wearingly', 'wearishly', 'wearisomely', 'wearyingly', 'weaselly', 'weatherly', 'weddedly', 'weekly', 'weepingly', 'weevily', 'weightedly', 'weightily', 'weightlessly', 'weirdly', 'welcomely', 'welcomingly', 'welly', 'westerly', 'westernly', 'westwardly', 'wetly', 'whally', 'whaly', 'whealy', 'wheedlingly', 'wheelingly', 'wheely', 'wheezily', 'wheezingly', 'whifflingly', 'Whiggishly', 'whilly', 'whimperingly', 'whimsically', 'whiningly', 'whipbelly', 'whippingly', 'whirlingly', 'whirly', 'whiskingly', 'whisperingly', 'whisperously', 'whistlebelly', 'whistlingly', 'whistly', 'whitebelly', 'whitely', 'whizzingly', 'wholeheartedly', 'wholesalely', 'wholesomely', 'wholly', 'whoopingly', 'whoremasterly', 'whorishly', 'whorly', 'wickedly', 'widely', 'widespreadedly', 'widespreadly', 'widowly', 'wifely', 'wiggly', 'wightly', 'wilderedly', 'wildishly', 'wildly', 'wilily', 'willfully', 'willingly', 'Willy', 'willy', 'wilsomely', 'wily', 'wincingly', 'windedly', 'windily', 'windingly', 'windlessly', 'windmilly', 'windwardly', 'windwaywardly', 'wingedly', 'winkingly', 'winly', 'winningly', 'winnowingly', 'winsomely', 'winterishly', 'winterly', 'wintrily', 'wirelessly', 'wirily', 'wiseheartedly', 'wisely', 'wishedly', 'wishfully', 'wishingly', 'wishly', 'wistfully', 'witchedly', 'witchingly', 'witheredly', 'witheringly', 'witherly', 'witlessly', 'wittily', 'wittingly', 'wittolly', 'wizardly', 'wobblingly', 'wobbly', 'woefully', 'wolfishly', 'womanfully', 'womanishly', 'womanly', 'wonderfully', 'wonderingly', 'wondrously', 'wontedly', 'woodenly', 'woodly', 'wooingly', 'woolly', 'wordably', 'wordily', 'wordishly', 'wordlessly', 'workingly', 'workmanly', 'workwomanly', 'worldlily', 'worldly', 'worriedly', 'worrisomely', 'worryingly', 'worshipfully', 'worshipingly', 'worthily', 'worthlessly', 'woundedly', 'woundily', 'woundingly', 'wraitly', 'wranglingly', 'wrathfully', 'wrathily', 'wreathingly', 'wrenchingly', 'wrestingly', 'wretchedly', 'wretchlessly', 'wrigglingly', 'wriggly', 'wrinkly', 'writhedly', 'writhingly', 'wrongfully', 'wrongheadedly', 'wrongheartedly', 'wronglessly', 'wrongly', 'wrongously', 'wrothfully', 'wrothily', 'wrothly', 'wryly', 'xerically', 'xerophily', 'xerophytically', 'xylographically', 'yaply', 'yappingly', 'yarly', 'yawnfully', 'yawnily', 'yawningly', 'yearly', 'yearnfully', 'yeastily', 'yellowbelly', 'yellowly', 'yeomanly', 'yieldingly', 'youngly', 'youthfully', 'youthily', 'zealously', 'zestfully', 'zeugmatically', 'zigzaggedly', 'zippingly', 'zonally', 'zoogeographically', 'zoographically', 'zoologically', 'zoophily', 'zootomically', 'zymotically']\n"
          ],
          "name": "stdout"
        }
      ]
    },
    {
      "cell_type": "code",
      "metadata": {
        "colab": {
          "base_uri": "https://localhost:8080/"
        },
        "id": "ow38cOmNnJ6f",
        "outputId": "60fb677b-82df-4032-9af5-b6095ef04480"
      },
      "source": [
        "print(last_letters['zy'])"
      ],
      "execution_count": 60,
      "outputs": [
        {
          "output_type": "stream",
          "text": [
            "['blazy', 'bleezy', 'blowzy', 'boozy', 'breezy', 'bronzy', 'buzzy', 'Chazy', 'cozy', 'crazy', 'dazy', 'dizzy', 'dozy', 'enfrenzy', 'fezzy', 'fizzy', 'floozy', 'fozy', 'franzy', 'frenzy', 'friezy', 'frizzy', 'frowzy', 'furzy', 'fuzzy', 'gauzy', 'gazy', 'glazy', 'groszy', 'hazy', 'heezy', 'Izzy', 'jazzy', 'Jozy', 'lawzy', 'lazy', 'mazy', 'mizzy', 'muzzy', 'nizy', 'oozy', 'quartzy', 'quizzy', 'refrenzy', 'ritzy', 'Shortzy', 'sizy', 'sleazy', 'sneezy', 'snoozy', 'squeezy', 'Suzy', 'tanzy', 'tizzy', 'topazy', 'trotcozy', 'twazzy', 'unbreezy', 'unfrizzy', 'wheezy', 'woozy', 'wuzzy', 'yezzy']\n"
          ],
          "name": "stdout"
        }
      ]
    },
    {
      "cell_type": "code",
      "metadata": {
        "colab": {
          "base_uri": "https://localhost:8080/"
        },
        "id": "drO1c9qQpsxm",
        "outputId": "8ac4bb6f-a7a2-4149-a422-8587a8854d3a"
      },
      "source": [
        "anagrams = defaultdict(list)\n",
        "for word in words:\n",
        "    key = ''.join(sorted(word))\n",
        "    anagrams[key].append(word)\n",
        "\n",
        "anagrams['aeilnrt']"
      ],
      "execution_count": 61,
      "outputs": [
        {
          "output_type": "execute_result",
          "data": {
            "text/plain": [
              "['entrail', 'latrine', 'ratline', 'reliant', 'retinal', 'trenail']"
            ]
          },
          "metadata": {
            "tags": []
          },
          "execution_count": 61
        }
      ]
    },
    {
      "cell_type": "markdown",
      "metadata": {
        "id": "HYXap9I2p8UJ"
      },
      "source": [
        "- Complex Keys and Values"
      ]
    },
    {
      "cell_type": "code",
      "metadata": {
        "id": "a2p3x2J9yoih"
      },
      "source": [
        "pos = defaultdict(lambda: defaultdict(int))\n",
        "brown_news_tagged = brown.tagged_words(categories='news', tagset='universal')\n",
        "for ((w1, t1), (w2, t2)) in nltk.bigrams(brown_news_tagged):\n",
        "    pos[(t1, w2)][t2] += 1"
      ],
      "execution_count": 62,
      "outputs": []
    },
    {
      "cell_type": "code",
      "metadata": {
        "colab": {
          "base_uri": "https://localhost:8080/"
        },
        "id": "pvp0JgI6zQFm",
        "outputId": "57d22555-eec1-47a1-cd56-d2b88e9a4059"
      },
      "source": [
        "pos[('DET', 'right')]"
      ],
      "execution_count": 63,
      "outputs": [
        {
          "output_type": "execute_result",
          "data": {
            "text/plain": [
              "defaultdict(int, {'ADJ': 11, 'NOUN': 5})"
            ]
          },
          "metadata": {
            "tags": []
          },
          "execution_count": 63
        }
      ]
    },
    {
      "cell_type": "markdown",
      "metadata": {
        "id": "wayS4NpszVuj"
      },
      "source": [
        "- Inverting a Dictionary"
      ]
    },
    {
      "cell_type": "code",
      "metadata": {
        "colab": {
          "base_uri": "https://localhost:8080/"
        },
        "id": "NA2AvSy10OVL",
        "outputId": "0b2a634e-9ff9-4094-ec7f-745ce8acd68b"
      },
      "source": [
        "counts = defaultdict(int)\n",
        "for word in nltk.corpus.gutenberg.words('milton-paradise.txt'):\n",
        "    counts[word] += 1\n",
        "\n",
        "[key for (key, value) in counts.items() if value == 32]"
      ],
      "execution_count": 64,
      "outputs": [
        {
          "output_type": "execute_result",
          "data": {
            "text/plain": [
              "['mortal',\n",
              " 'Against',\n",
              " 'Him',\n",
              " 'There',\n",
              " 'brought',\n",
              " 'King',\n",
              " 'virtue',\n",
              " 'every',\n",
              " 'been',\n",
              " 'thine']"
            ]
          },
          "metadata": {
            "tags": []
          },
          "execution_count": 64
        }
      ]
    },
    {
      "cell_type": "code",
      "metadata": {
        "colab": {
          "base_uri": "https://localhost:8080/",
          "height": 36
        },
        "id": "_YMxOvuC0kFC",
        "outputId": "cabe7456-55fc-4fb5-8163-0623e36b488e"
      },
      "source": [
        "pos = {'colorless': 'ADJ', 'ideas': 'N', 'sleep': 'V', 'furiously': 'ADV'}\n",
        "pos2 = dict((value, key) for key, value in pos.items())\n",
        "pos2['N']"
      ],
      "execution_count": 65,
      "outputs": [
        {
          "output_type": "execute_result",
          "data": {
            "application/vnd.google.colaboratory.intrinsic+json": {
              "type": "string"
            },
            "text/plain": [
              "'ideas'"
            ]
          },
          "metadata": {
            "tags": []
          },
          "execution_count": 65
        }
      ]
    },
    {
      "cell_type": "code",
      "metadata": {
        "colab": {
          "base_uri": "https://localhost:8080/"
        },
        "id": "JkW4RdJP1UX3",
        "outputId": "1d8b1579-2085-438c-e54d-94f9bfde6140"
      },
      "source": [
        "pos.update({'cats': 'N', 'scratch': 'V', 'peacefully': 'ADV', 'old': 'ADJ'})\n",
        "pos2 = defaultdict(list)\n",
        "for key, value in pos.items():\n",
        "    pos2[value].append(key)\n",
        "pos2['ADV']"
      ],
      "execution_count": 66,
      "outputs": [
        {
          "output_type": "execute_result",
          "data": {
            "text/plain": [
              "['furiously', 'peacefully']"
            ]
          },
          "metadata": {
            "tags": []
          },
          "execution_count": 66
        }
      ]
    },
    {
      "cell_type": "code",
      "metadata": {
        "colab": {
          "base_uri": "https://localhost:8080/"
        },
        "id": "HZHbXQT71zIQ",
        "outputId": "c2c010c5-2c4a-4051-a020-f7241dedb9a1"
      },
      "source": [
        "pos2 = nltk.Index((value, key) for (key, value) in pos.items())\n",
        "pos2['ADV']"
      ],
      "execution_count": 67,
      "outputs": [
        {
          "output_type": "execute_result",
          "data": {
            "text/plain": [
              "['furiously', 'peacefully']"
            ]
          },
          "metadata": {
            "tags": []
          },
          "execution_count": 67
        }
      ]
    },
    {
      "cell_type": "markdown",
      "metadata": {
        "id": "lZsLos1o2KLw"
      },
      "source": [
        "#### Automatic Tagging"
      ]
    },
    {
      "cell_type": "code",
      "metadata": {
        "id": "4tUmM0oV2mTY"
      },
      "source": [
        "from nltk.corpus import brown\n",
        "brown_tagged_sents = brown.tagged_sents(categories='news')\n",
        "brown_sents = brown.sents(categories='news')"
      ],
      "execution_count": 68,
      "outputs": []
    },
    {
      "cell_type": "markdown",
      "metadata": {
        "id": "B-bzeCFc63kK"
      },
      "source": [
        "- The default Tagger"
      ]
    },
    {
      "cell_type": "code",
      "metadata": {
        "colab": {
          "base_uri": "https://localhost:8080/",
          "height": 36
        },
        "id": "kgbJHqAg7HTY",
        "outputId": "b29cee86-777a-4fe8-e4dc-ebaad999274b"
      },
      "source": [
        "tags = [tag for (word, tag) in brown.tagged_words(categories='news')]\n",
        "nltk.FreqDist(tags).max()"
      ],
      "execution_count": 69,
      "outputs": [
        {
          "output_type": "execute_result",
          "data": {
            "application/vnd.google.colaboratory.intrinsic+json": {
              "type": "string"
            },
            "text/plain": [
              "'NN'"
            ]
          },
          "metadata": {
            "tags": []
          },
          "execution_count": 69
        }
      ]
    },
    {
      "cell_type": "code",
      "metadata": {
        "colab": {
          "base_uri": "https://localhost:8080/"
        },
        "id": "vfXnxOic7UBU",
        "outputId": "69a8993b-47e4-4f48-f50c-64c1fea8512d"
      },
      "source": [
        "raw = 'I do not like green eggs and ham, I do not like them Sam I am!'\n",
        "tokens = nltk.word_tokenize(raw)\n",
        "default_tagger = nltk.DefaultTagger('NN')\n",
        "default_tagger.tag(tokens)"
      ],
      "execution_count": 70,
      "outputs": [
        {
          "output_type": "execute_result",
          "data": {
            "text/plain": [
              "[('I', 'NN'),\n",
              " ('do', 'NN'),\n",
              " ('not', 'NN'),\n",
              " ('like', 'NN'),\n",
              " ('green', 'NN'),\n",
              " ('eggs', 'NN'),\n",
              " ('and', 'NN'),\n",
              " ('ham', 'NN'),\n",
              " (',', 'NN'),\n",
              " ('I', 'NN'),\n",
              " ('do', 'NN'),\n",
              " ('not', 'NN'),\n",
              " ('like', 'NN'),\n",
              " ('them', 'NN'),\n",
              " ('Sam', 'NN'),\n",
              " ('I', 'NN'),\n",
              " ('am', 'NN'),\n",
              " ('!', 'NN')]"
            ]
          },
          "metadata": {
            "tags": []
          },
          "execution_count": 70
        }
      ]
    },
    {
      "cell_type": "code",
      "metadata": {
        "colab": {
          "base_uri": "https://localhost:8080/"
        },
        "id": "2ob6eb-A7nzn",
        "outputId": "b8156b11-e255-4c21-c2e3-ab03b2c9b48c"
      },
      "source": [
        "default_tagger.evaluate(brown_tagged_sents)"
      ],
      "execution_count": 71,
      "outputs": [
        {
          "output_type": "execute_result",
          "data": {
            "text/plain": [
              "0.13089484257215028"
            ]
          },
          "metadata": {
            "tags": []
          },
          "execution_count": 71
        }
      ]
    },
    {
      "cell_type": "markdown",
      "metadata": {
        "id": "It80Y5zB723Y"
      },
      "source": [
        "- The Regular Expression tagger"
      ]
    },
    {
      "cell_type": "code",
      "metadata": {
        "id": "X75U46mj8lo8"
      },
      "source": [
        "patterns = [\n",
        "    (r'.*ing$', 'VBG'),                # gerunds\n",
        "    (r'.*ed$', 'VBD'),                 # simple past\n",
        "    (r'.*es$', 'VBZ'),                 # 3rd singular present\n",
        "    (r'.*ould$', 'MD'),                # modals\n",
        "    (r'.*\\'s$', 'NN$'),                # possessive nouns\n",
        "    (r'.*s$', 'NNS'),                  # plural nouns\n",
        "    (r'^-?[0-9]+(\\.[0-9]+)?$', 'CD'),  # cardinal numbers\n",
        "    (r'.*', 'NN') \n",
        "]"
      ],
      "execution_count": 72,
      "outputs": []
    },
    {
      "cell_type": "code",
      "metadata": {
        "colab": {
          "base_uri": "https://localhost:8080/"
        },
        "id": "XAJdK0FO8zBI",
        "outputId": "e75ae3ac-879e-4e63-e609-e51e97cac88d"
      },
      "source": [
        "regexp_tagger = nltk.RegexpTagger(patterns)\n",
        "regexp_tagger.tag(brown_sents[3])"
      ],
      "execution_count": 73,
      "outputs": [
        {
          "output_type": "execute_result",
          "data": {
            "text/plain": [
              "[('``', 'NN'),\n",
              " ('Only', 'NN'),\n",
              " ('a', 'NN'),\n",
              " ('relative', 'NN'),\n",
              " ('handful', 'NN'),\n",
              " ('of', 'NN'),\n",
              " ('such', 'NN'),\n",
              " ('reports', 'NNS'),\n",
              " ('was', 'NNS'),\n",
              " ('received', 'VBD'),\n",
              " (\"''\", 'NN'),\n",
              " (',', 'NN'),\n",
              " ('the', 'NN'),\n",
              " ('jury', 'NN'),\n",
              " ('said', 'NN'),\n",
              " (',', 'NN'),\n",
              " ('``', 'NN'),\n",
              " ('considering', 'VBG'),\n",
              " ('the', 'NN'),\n",
              " ('widespread', 'NN'),\n",
              " ('interest', 'NN'),\n",
              " ('in', 'NN'),\n",
              " ('the', 'NN'),\n",
              " ('election', 'NN'),\n",
              " (',', 'NN'),\n",
              " ('the', 'NN'),\n",
              " ('number', 'NN'),\n",
              " ('of', 'NN'),\n",
              " ('voters', 'NNS'),\n",
              " ('and', 'NN'),\n",
              " ('the', 'NN'),\n",
              " ('size', 'NN'),\n",
              " ('of', 'NN'),\n",
              " ('this', 'NNS'),\n",
              " ('city', 'NN'),\n",
              " (\"''\", 'NN'),\n",
              " ('.', 'NN')]"
            ]
          },
          "metadata": {
            "tags": []
          },
          "execution_count": 73
        }
      ]
    },
    {
      "cell_type": "code",
      "metadata": {
        "colab": {
          "base_uri": "https://localhost:8080/"
        },
        "id": "rNYp6FlR9BLP",
        "outputId": "cbe7e6de-9d71-4fee-d835-eeba42466495"
      },
      "source": [
        "regexp_tagger.evaluate(brown_tagged_sents)"
      ],
      "execution_count": 74,
      "outputs": [
        {
          "output_type": "execute_result",
          "data": {
            "text/plain": [
              "0.20186168625812995"
            ]
          },
          "metadata": {
            "tags": []
          },
          "execution_count": 74
        }
      ]
    },
    {
      "cell_type": "markdown",
      "metadata": {
        "id": "DyU4frvR9NMq"
      },
      "source": [
        "- The Lookup Tagger"
      ]
    },
    {
      "cell_type": "code",
      "metadata": {
        "colab": {
          "base_uri": "https://localhost:8080/"
        },
        "id": "D2gGsvfo-N_i",
        "outputId": "9a4ed7b4-fd88-4f50-8a20-df1aad56d1a5"
      },
      "source": [
        "fd = nltk.FreqDist(brown.words(categories='news'))\n",
        "cfd = nltk.ConditionalFreqDist(brown.tagged_words(categories='news'))\n",
        "most_freq_words = fd.most_common(100)\n",
        "likely_tags = dict((word, cfd[word].max()) for (word, _) in most_freq_words)\n",
        "baseline_tagger = nltk.UnigramTagger(model=likely_tags)\n",
        "baseline_tagger.evaluate(brown_tagged_sents)"
      ],
      "execution_count": 75,
      "outputs": [
        {
          "output_type": "execute_result",
          "data": {
            "text/plain": [
              "0.45578495136941344"
            ]
          },
          "metadata": {
            "tags": []
          },
          "execution_count": 75
        }
      ]
    },
    {
      "cell_type": "code",
      "metadata": {
        "colab": {
          "base_uri": "https://localhost:8080/"
        },
        "id": "LsYgxCk3-xRz",
        "outputId": "f777f22e-bf1a-4570-c3f5-b3b0e3e179e6"
      },
      "source": [
        "sent = brown.sents(categories='news')[3]\n",
        "baseline_tagger.tag(sent)"
      ],
      "execution_count": 76,
      "outputs": [
        {
          "output_type": "execute_result",
          "data": {
            "text/plain": [
              "[('``', '``'),\n",
              " ('Only', None),\n",
              " ('a', 'AT'),\n",
              " ('relative', None),\n",
              " ('handful', None),\n",
              " ('of', 'IN'),\n",
              " ('such', None),\n",
              " ('reports', None),\n",
              " ('was', 'BEDZ'),\n",
              " ('received', None),\n",
              " (\"''\", \"''\"),\n",
              " (',', ','),\n",
              " ('the', 'AT'),\n",
              " ('jury', None),\n",
              " ('said', 'VBD'),\n",
              " (',', ','),\n",
              " ('``', '``'),\n",
              " ('considering', None),\n",
              " ('the', 'AT'),\n",
              " ('widespread', None),\n",
              " ('interest', None),\n",
              " ('in', 'IN'),\n",
              " ('the', 'AT'),\n",
              " ('election', None),\n",
              " (',', ','),\n",
              " ('the', 'AT'),\n",
              " ('number', None),\n",
              " ('of', 'IN'),\n",
              " ('voters', None),\n",
              " ('and', 'CC'),\n",
              " ('the', 'AT'),\n",
              " ('size', None),\n",
              " ('of', 'IN'),\n",
              " ('this', 'DT'),\n",
              " ('city', None),\n",
              " (\"''\", \"''\"),\n",
              " ('.', '.')]"
            ]
          },
          "metadata": {
            "tags": []
          },
          "execution_count": 76
        }
      ]
    },
    {
      "cell_type": "code",
      "metadata": {
        "id": "hScwXw28_K_x"
      },
      "source": [
        "baseline_tagger = nltk.UnigramTagger(model=likely_tags,\n",
        "                                     backoff=nltk.DefaultTagger('NN'))"
      ],
      "execution_count": 77,
      "outputs": []
    },
    {
      "cell_type": "code",
      "metadata": {
        "id": "-WuwQK7W_i8F"
      },
      "source": [
        "def performance(cfd, wordlist):\n",
        "    lt = dict((word, cfd[word].max()) for word in wordlist)\n",
        "    baseline_tagger = nltk.UnigramTagger(model=lt, backoff=nltk.DefaultTagger('NN'))\n",
        "    return baseline_tagger.evaluate(brown.tagged_sents(categories='news'))\n",
        "\n",
        "def display():\n",
        "    import pylab\n",
        "    word_freqs = nltk.FreqDist(brown.words(categories='news')).most_common()\n",
        "    words_by_freq = [w for (w, _) in word_freqs]\n",
        "    cfd = nltk.ConditionalFreqDist(brown.tagged_words(categories='news'))\n",
        "    sizes = 2 ** pylab.arange(15)\n",
        "    perfs = [performance(cfd, words_by_freq[:size]) for size in sizes]\n",
        "    pylab.plot(sizes, perfs, '-bo')\n",
        "    pylab.title('Lookup Table Performance with Varying Model Size')\n",
        "    pylab.xlabel('Model Size')\n",
        "    pylab.ylabel('Performance')\n",
        "    pylab.show()"
      ],
      "execution_count": 78,
      "outputs": []
    },
    {
      "cell_type": "code",
      "metadata": {
        "colab": {
          "base_uri": "https://localhost:8080/",
          "height": 295
        },
        "id": "TCUWTtRlAFDB",
        "outputId": "04616c5a-457a-4b6f-b5dc-1e233f2d734b"
      },
      "source": [
        "display()"
      ],
      "execution_count": 79,
      "outputs": [
        {
          "output_type": "display_data",
          "data": {
            "image/png": "[encoded data removed]",
            "text/plain": [
              "<Figure size 432x288 with 1 Axes>"
            ]
          },
          "metadata": {
            "tags": [],
            "needs_background": "light"
          }
        }
      ]
    },
    {
      "cell_type": "markdown",
      "metadata": {
        "id": "84BfaUebA7YR"
      },
      "source": [
        "#### N-Gram Tagging\n",
        "- Unigram Tagging"
      ]
    },
    {
      "cell_type": "code",
      "metadata": {
        "colab": {
          "base_uri": "https://localhost:8080/"
        },
        "id": "-ELGLlsk0rKD",
        "outputId": "9bd94a06-68f3-4ca9-de3f-34bf3cbafbb3"
      },
      "source": [
        "from nltk.corpus import brown\n",
        "brown_tagged_sents = brown.tagged_sents(categories='news')\n",
        "brown_sents = brown.sents(categories='news')\n",
        "unigram_tagger = nltk.UnigramTagger(brown_tagged_sents)\n",
        "unigram_tagger.tag(brown_sents[2007])"
      ],
      "execution_count": 80,
      "outputs": [
        {
          "output_type": "execute_result",
          "data": {
            "text/plain": [
              "[('Various', 'JJ'),\n",
              " ('of', 'IN'),\n",
              " ('the', 'AT'),\n",
              " ('apartments', 'NNS'),\n",
              " ('are', 'BER'),\n",
              " ('of', 'IN'),\n",
              " ('the', 'AT'),\n",
              " ('terrace', 'NN'),\n",
              " ('type', 'NN'),\n",
              " (',', ','),\n",
              " ('being', 'BEG'),\n",
              " ('on', 'IN'),\n",
              " ('the', 'AT'),\n",
              " ('ground', 'NN'),\n",
              " ('floor', 'NN'),\n",
              " ('so', 'QL'),\n",
              " ('that', 'CS'),\n",
              " ('entrance', 'NN'),\n",
              " ('is', 'BEZ'),\n",
              " ('direct', 'JJ'),\n",
              " ('.', '.')]"
            ]
          },
          "metadata": {
            "tags": []
          },
          "execution_count": 80
        }
      ]
    },
    {
      "cell_type": "code",
      "metadata": {
        "colab": {
          "base_uri": "https://localhost:8080/"
        },
        "id": "DsoPfIaN1TZN",
        "outputId": "b1a07c99-b5a2-4191-8345-497e0e050f16"
      },
      "source": [
        "unigram_tagger.evaluate(brown_tagged_sents)"
      ],
      "execution_count": 81,
      "outputs": [
        {
          "output_type": "execute_result",
          "data": {
            "text/plain": [
              "0.9349006503968017"
            ]
          },
          "metadata": {
            "tags": []
          },
          "execution_count": 81
        }
      ]
    },
    {
      "cell_type": "markdown",
      "metadata": {
        "id": "R9Krp9981oMb"
      },
      "source": [
        "- Separating the Training and Testing Data"
      ]
    },
    {
      "cell_type": "code",
      "metadata": {
        "colab": {
          "base_uri": "https://localhost:8080/"
        },
        "id": "5BumM-WJ2GUZ",
        "outputId": "2f6b56e4-99a9-4355-a97b-1577b6753fe7"
      },
      "source": [
        "size = int(len(brown_tagged_sents) * 0.9)\n",
        "print(size)\n",
        "train_sents = brown_tagged_sents[:size]\n",
        "test_sents = brown_tagged_sents[size:]\n",
        "unigram_tagger = nltk.UnigramTagger(train_sents)\n",
        "unigram_tagger.evaluate(test_sents)"
      ],
      "execution_count": 83,
      "outputs": [
        {
          "output_type": "stream",
          "text": [
            "4160\n"
          ],
          "name": "stdout"
        },
        {
          "output_type": "execute_result",
          "data": {
            "text/plain": [
              "0.8121200039868434"
            ]
          },
          "metadata": {
            "tags": []
          },
          "execution_count": 83
        }
      ]
    },
    {
      "cell_type": "markdown",
      "metadata": {
        "id": "Nvv-mjCj2mnb"
      },
      "source": [
        "- General N-Gram Tagging"
      ]
    },
    {
      "cell_type": "code",
      "metadata": {
        "colab": {
          "base_uri": "https://localhost:8080/"
        },
        "id": "TbUi5jY_2x7j",
        "outputId": "13c249ef-d195-46de-9419-7220746796f6"
      },
      "source": [
        "bigram_tagger = nltk.BigramTagger(train_sents)\n",
        "bigram_tagger.tag(brown_sents[2007])"
      ],
      "execution_count": 84,
      "outputs": [
        {
          "output_type": "execute_result",
          "data": {
            "text/plain": [
              "[('Various', 'JJ'),\n",
              " ('of', 'IN'),\n",
              " ('the', 'AT'),\n",
              " ('apartments', 'NNS'),\n",
              " ('are', 'BER'),\n",
              " ('of', 'IN'),\n",
              " ('the', 'AT'),\n",
              " ('terrace', 'NN'),\n",
              " ('type', 'NN'),\n",
              " (',', ','),\n",
              " ('being', 'BEG'),\n",
              " ('on', 'IN'),\n",
              " ('the', 'AT'),\n",
              " ('ground', 'NN'),\n",
              " ('floor', 'NN'),\n",
              " ('so', 'CS'),\n",
              " ('that', 'CS'),\n",
              " ('entrance', 'NN'),\n",
              " ('is', 'BEZ'),\n",
              " ('direct', 'JJ'),\n",
              " ('.', '.')]"
            ]
          },
          "metadata": {
            "tags": []
          },
          "execution_count": 84
        }
      ]
    },
    {
      "cell_type": "code",
      "metadata": {
        "colab": {
          "base_uri": "https://localhost:8080/"
        },
        "id": "f6n3fBS2ABOR",
        "outputId": "ccf183d4-a011-4cb1-8699-ec2c7c0a5f6b"
      },
      "source": [
        "unseen_sent = brown_sents[4203]\n",
        "bigram_tagger.tag(unseen_sent)"
      ],
      "execution_count": 85,
      "outputs": [
        {
          "output_type": "execute_result",
          "data": {
            "text/plain": [
              "[('The', 'AT'),\n",
              " ('population', 'NN'),\n",
              " ('of', 'IN'),\n",
              " ('the', 'AT'),\n",
              " ('Congo', 'NP'),\n",
              " ('is', 'BEZ'),\n",
              " ('13.5', None),\n",
              " ('million', None),\n",
              " (',', None),\n",
              " ('divided', None),\n",
              " ('into', None),\n",
              " ('at', None),\n",
              " ('least', None),\n",
              " ('seven', None),\n",
              " ('major', None),\n",
              " ('``', None),\n",
              " ('culture', None),\n",
              " ('clusters', None),\n",
              " (\"''\", None),\n",
              " ('and', None),\n",
              " ('innumerable', None),\n",
              " ('tribes', None),\n",
              " ('speaking', None),\n",
              " ('400', None),\n",
              " ('separate', None),\n",
              " ('dialects', None),\n",
              " ('.', None)]"
            ]
          },
          "metadata": {
            "tags": []
          },
          "execution_count": 85
        }
      ]
    },
    {
      "cell_type": "code",
      "metadata": {
        "colab": {
          "base_uri": "https://localhost:8080/"
        },
        "id": "L8EC8z5YANlE",
        "outputId": "795c87cf-c2ca-4c51-d6f6-551267016e98"
      },
      "source": [
        "bigram_tagger.evaluate(test_sents)"
      ],
      "execution_count": 86,
      "outputs": [
        {
          "output_type": "execute_result",
          "data": {
            "text/plain": [
              "0.10206319146815508"
            ]
          },
          "metadata": {
            "tags": []
          },
          "execution_count": 86
        }
      ]
    },
    {
      "cell_type": "markdown",
      "metadata": {
        "id": "BrR7Lv7zApbQ"
      },
      "source": [
        "- Combining Taggers"
      ]
    },
    {
      "cell_type": "code",
      "metadata": {
        "colab": {
          "base_uri": "https://localhost:8080/"
        },
        "id": "zZPth7VhBFnD",
        "outputId": "2dcaf77d-f915-4cca-ae8f-af1532931a72"
      },
      "source": [
        "t0 = nltk.DefaultTagger('NN')\n",
        "t1 = nltk.UnigramTagger(train_sents, backoff=t0)\n",
        "t2 = nltk.BigramTagger(train_sents, backoff=t1)\n",
        "t2.evaluate(test_sents)"
      ],
      "execution_count": 89,
      "outputs": [
        {
          "output_type": "execute_result",
          "data": {
            "text/plain": [
              "0.8452108043456593"
            ]
          },
          "metadata": {
            "tags": []
          },
          "execution_count": 89
        }
      ]
    },
    {
      "cell_type": "code",
      "metadata": {
        "colab": {
          "base_uri": "https://localhost:8080/"
        },
        "id": "0M2e6lrGBhMD",
        "outputId": "8ed1bed2-50a8-4cad-bac0-e76d94892c99"
      },
      "source": [
        "t3 = nltk.TrigramTagger(train_sents, backoff=t2)\n",
        "t3.evaluate(test_sents)"
      ],
      "execution_count": 90,
      "outputs": [
        {
          "output_type": "execute_result",
          "data": {
            "text/plain": [
              "0.843317053722715"
            ]
          },
          "metadata": {
            "tags": []
          },
          "execution_count": 90
        }
      ]
    },
    {
      "cell_type": "markdown",
      "metadata": {
        "id": "r7d5DhrnCMNs"
      },
      "source": [
        "- Tagging Unknown Words"
      ]
    },
    {
      "cell_type": "markdown",
      "metadata": {
        "id": "I8ws1hBuCpKe"
      },
      "source": [
        "- Storing Taggers"
      ]
    },
    {
      "cell_type": "code",
      "metadata": {
        "id": "dwN9yeNLDYmK"
      },
      "source": [
        "from pickle import dump\n",
        "output = open('t2.pkl', 'wb')\n",
        "dump(t2, output, -1)\n",
        "output.close()"
      ],
      "execution_count": 91,
      "outputs": []
    },
    {
      "cell_type": "code",
      "metadata": {
        "id": "VGe1itbjDyFN"
      },
      "source": [
        "from pickle import load\n",
        "input = open('t2.pkl', 'rb')\n",
        "tagger = load(input)\n",
        "input.close()"
      ],
      "execution_count": 92,
      "outputs": []
    },
    {
      "cell_type": "code",
      "metadata": {
        "colab": {
          "base_uri": "https://localhost:8080/"
        },
        "id": "VkJaHmn-ECKP",
        "outputId": "eefe2f1c-813e-4a48-c071-6a51edd5da3e"
      },
      "source": [
        "text = '''The board's action shows what free enterprise\n",
        "is up against in our complex maze of regulatory laws .'''\n",
        "tokens = text.split()\n",
        "tagger.tag(tokens)"
      ],
      "execution_count": 93,
      "outputs": [
        {
          "output_type": "execute_result",
          "data": {
            "text/plain": [
              "[('The', 'AT'),\n",
              " (\"board's\", 'NN$'),\n",
              " ('action', 'NN'),\n",
              " ('shows', 'NNS'),\n",
              " ('what', 'WDT'),\n",
              " ('free', 'JJ'),\n",
              " ('enterprise', 'NN'),\n",
              " ('is', 'BEZ'),\n",
              " ('up', 'RP'),\n",
              " ('against', 'IN'),\n",
              " ('in', 'IN'),\n",
              " ('our', 'PP$'),\n",
              " ('complex', 'JJ'),\n",
              " ('maze', 'NN'),\n",
              " ('of', 'IN'),\n",
              " ('regulatory', 'NN'),\n",
              " ('laws', 'NNS'),\n",
              " ('.', '.')]"
            ]
          },
          "metadata": {
            "tags": []
          },
          "execution_count": 93
        }
      ]
    },
    {
      "cell_type": "markdown",
      "metadata": {
        "id": "FEah671dEWGZ"
      },
      "source": [
        "- Performance Limitations"
      ]
    },
    {
      "cell_type": "code",
      "metadata": {
        "colab": {
          "base_uri": "https://localhost:8080/"
        },
        "id": "Rdk3FRL5Enjq",
        "outputId": "c978a47f-a947-4a26-cd58-8c1b3f5f7f70"
      },
      "source": [
        "cfd = nltk.ConditionalFreqDist(\n",
        "        ((x[1], y[1], z[0]), z[1])\n",
        "        for sent in brown_tagged_sents\n",
        "        for x, y, z in nltk.trigrams(sent))\n",
        "ambigious_contexts = [c for c in cfd.conditions() if len(cfd[c]) > 1]\n",
        "sum(cfd[c].N() for c in ambigious_contexts) / cfd.N()"
      ],
      "execution_count": 99,
      "outputs": [
        {
          "output_type": "execute_result",
          "data": {
            "text/plain": [
              "0.049297702068029296"
            ]
          },
          "metadata": {
            "tags": []
          },
          "execution_count": 99
        }
      ]
    },
    {
      "cell_type": "code",
      "metadata": {
        "colab": {
          "base_uri": "https://localhost:8080/"
        },
        "id": "xIbyf58wFZcd",
        "outputId": "19613c7e-f3d1-4c5b-ba32-70032bc5cced"
      },
      "source": [
        "test_tags = [tag for sent in brown.sents(categories='editorial')\n",
        "                 for (word, tag) in t2.tag(sent)]\n",
        "gold_tags = [tag for (word, tag) in brown.tagged_words(categories='editorial')]\n",
        "print(nltk.ConfusionMatrix(gold_tags, test_tags))"
      ],
      "execution_count": 100,
      "outputs": [
        {
          "output_type": "stream",
          "text": [
            "           |                                                                                                                                                                                                                                                                                                                                                                                                                                                                                                                                                                                                                                                                                                                                                                                                                                                                                                                                                                                                                                  W                                         |\n",
            "           |                                                                                                                                                                                                                                                                                                                                                                                                                                                                                                                                                                                                                       N                                                                                                                                                                                                                                                                                                                                                                            V                             D                                         |\n",
            "           |                                                                                                                                                                                                                                                                                                                                                   F              F         F         F                                                                                                        J                                                                                         N                             N                                                                                                                                                                                        P    P         P                                                                                                                                                                    B                             T                                         |\n",
            "           |                                                                                                                                                                                                                                                                                                                                                   W              W         W         W                                                                                                        J                                                                                         N              N              S                                            N                                                                                                                       P    P              P    P    P    P    P    P    P                                                                                                                                                     N                        W    +                                         |\n",
            "           |                                                                                         A                                                                                              B    B              B    B                                                                                    D         D                        E         -              -         -         -    F         F    F         F    F                                                                     -         J    J         J         J                                  N    N              -              N    N    N    -              N    N    N                   P    N    N              N                                                 P    P         P              P    P         P    P    P         S    S    P    S    P    P    P                                                                                              V                   V         V    V         V    V    -         V    V         D    B    W              W              W      |\n",
            "           |                                                 -                                       B                   A    A         A    A         B              B                             E    E              E    E         C    C         C    C         C              D    D                        O         T                        X    F    A    F    F    I    F    J    F    N    W    F    W    W    F    W    W                                       I    I    I         J    J    T         J    J         J         J              M    M              N    N    N    N    T              S    N    N    T              P    P    P    N    N         S    P    P              R    N              O              P              P    P         P              P    P         S    S    P         S    S    S    S    S    S    S         Q                   R    R    R                        R         T         U         B    V    V         B         B    B         B    B    T         B    B         T    E    D              P              R      |\n",
            "           |                             *         ,         -         .         :    :              N                   P    P         T    T         E         B    E                        B    R    R         B    Z    Z         C    C         D    D         S              O    O         D         D    Z         +                        +    W    T    W    W    N    W    J    W    N    -    W    -    -    W    -    -                             H         N    N    N         J    J    L         R    R         S         T              D    D              $    $    N    N    L         N    $    S    S    L              $    $    +    P    P         $    S    S              $    R              D              N         P    $    $         L    P         O    O         +    +    S    P    +    +    S    +    S    S    S         L                   B    B    B                        P         O         H         +    B    B         D         G    G         N    N    L         Z    Z         +    Z    T              O              B      |\n",
            "           |                             -         -         -         -         -    -    A    A    -    A         A    -    -         -    -         -    B    E    D    B    B    B    B    E    -    -    B    E    -    -         -    -         -    -         -         D    -    -    D    O    D    O    -         B    D    D    D         B    -    -    -    -    -    -    -    -    -    N    -    P    P    -    V    W         H    H    H    H    V         -    -    -         -    -    -    J    -    -    J    -    J    -         M    -    -         N    -    -    -    -    -    N    N    -    -    -    -         N    -    -    B    -    -    N    -    -    -         N    -    -    N         -         P    -    P    P    -    -    P    -    P    P    -    -    P    B    H    +    P    B    B    +    H    +    -    -         -    Q         R    -    -    -    R    R              -         -         -         P    -    -    V    -    V    -    -    V    -    -    -    V    -    -    W    B    -    -    W    W    -    W    W    -      |\n",
            "           |         '                   H         H    -    H         H         H    T    B    B    T    B    A    P    H    T    A    H    T    B    H    E    D    Z    E    E    E    E    R    H    T    E    Z    H    T    C    H    T    C    H    T    C    H    D    O    H    T    O    D    O    Z    H    D    E    T    T    T    E    E    A    T    C    I    T    J    T    N    T    N    N    P    P    V    B    D    H    V    V    V    V    Z    I    H    N    T    J    H    T    H    J    H    T    J    T    J    H    M    D    H    T    N    N    H    T    H    T    H    N    S    T    H    T    H    N    P    H    T    E    H    T    P    H    H    T    N    R    T    T    R    O    T    P    N    H    P    $    H    T    P    H    L    P    H    T    P    E    V    M    S    E    E    H    V    M    H    T    Q    H    L    R    B    H    N    T    B    B    R    R    H    T    H    U    H    V    P    H    T    B    H    B    H    T    B    H    T    H    B    H    T    D    E    H    H    P    P    T    P    R    H    ` |\n",
            "           |    '    '    (    )    *    L    ,    L    -    L    .    L    :    L    L    L    N    L    X    P    $    L    L    T    L    L    E    L    D    Z    *    G    M    N    R    *    L    L    Z    *    L    L    C    L    L    D    L    L    S    L    O    *    L    L    D    *    Z    *    L    T    Z    I    S    X    X    Z    T    L    C    N    L    J    L    N    L    S    P    L    O    B    Z    T    V    D    G    N    Z    *    N    L    C    L    J    L    L    L    R    L    L    S    L    T    L    D    *    L    L    N    $    L    L    L    L    L    S    $    L    L    L    L    P    $    L    L    Z    L    L    S    L    L    L    R    $    L    L    S    D    L    N    $    L    $    $    L    L    L    L    S    O    L    L    S    Z    Z    D    S    M    R    V    D    D    L    L    L    L    P    B    $    L    C    L    R    T    N    P    L    O    L    H    L    B    O    L    L    D    L    G    L    L    N    L    L    L    Z    L    L    T    Z    L    L    $    O    L    S    B    L    ` |\n",
            "-----------+----------------------------------------------------------------------------------------------------------------------------------------------------------------------------------------------------------------------------------------------------------------------------------------------------------------------------------------------------------------------------------------------------------------------------------------------------------------------------------------------------------------------------------------------------------------------------------------------------------------------------------------------------------------------------------------------------------------------------------------------------------------------------------------------------------------------------------------------------------------------------------------------------------------------------------------------------------------------------------------------------------------------------------------------------------------------------+\n",
            "         ' |  <19>   .    .    .    .    .    .    .    .    .    .    .    .    .    .    .    .    .    .    .    .    .    .    .    .    .    .    .    .    .    .    .    .    .    .    .    .    .    .    .    .    .    .    .    .    .    .    .    .    .    .    .    .    .    .    .    .    .    .    .    .    .    .    .    .    .    .    .    .    .    .    .    .    .    .    .    .    .    .    .    .    .    .    .    .    .    .    .    .    .    .    .    .    .    .    .    .    .    .    .    .    .    .    .    .    .    .    .    .    .    .    .    .    .    .    .    .    .    .    .    .    .    .    .    .    .    .    .    .    .    .    .    .    .    .    .    .    .    .    .    .    .    .    .    .    .    .    .    .    .    .    .    .    .    .    .    .    .    .    .    .    .    .    .    .    .    .    .    .    .    .    .    .    .    .    .    .    .    .    .    .    .    .    .    .    .    .    .    .    .    .    .    .    .    .    .    .    .    .    .    .    .    .    .    .    .    . |\n",
            "        '' |    . <382>   .    .    .    .    .    .    .    .    .    .    .    .    .    .    .    .    .    .    .    .    .    .    .    .    .    .    .    .    .    .    .    .    .    .    .    .    .    .    .    .    .    .    .    .    .    .    .    .    .    .    .    .    .    .    .    .    .    .    .    .    .    .    .    .    .    .    .    .    .    .    .    .    .    .    .    .    .    .    .    .    .    .    .    .    .    .    .    .    .    .    .    .    .    .    .    .    .    .    .    .    .    .    .    .    .    .    .    .    .    .    .    .    .    .    .    .    .    .    .    .    .    .    .    .    .    .    .    .    .    .    .    .    .    .    .    .    .    .    .    .    .    .    .    .    .    .    .    .    .    .    .    .    .    .    .    .    .    .    .    .    .    .    .    .    .    .    .    .    .    .    .    .    .    .    .    .    .    .    .    .    .    .    .    .    .    .    .    .    .    .    .    .    .    .    .    .    .    .    .    .    .    .    .    .    . |\n",
            "         ( |    .    .  <95>   .    .    .    .    .    .    .    .    .    .    .    .    .    .    .    .    .    .    .    .    .    .    .    .    .    .    .    .    .    .    .    .    .    .    .    .    .    .    .    .    .    .    .    .    .    .    .    .    .    .    .    .    .    .    .    .    .    .    .    .    .    .    .    .    .    .    .    .    .    .    .    .    .    .    .    .    .    .    .    .    .    .    .    .    .    .    .    .    .    .    .    .    .    .    .    .    .    .    .    .    .    .    .    .    .    .    .    .    .    .    .    .    .    .    .    .    .    .    .    .    .    .    .    .    .    .    .    .    .    .    .    .    .    .    .    .    .    .    .    .    .    .    .    .    .    .    .    .    .    .    .    .    .    .    .    .    .    .    .    .    .    .    .    .    .    .    .    .    .    .    .    .    .    .    .    .    .    .    .    .    .    .    .    .    .    .    .    .    .    .    .    .    .    .    .    .    .    .    .    .    .    .    .    . |\n",
            "         ) |    .    .    .  <95>   .    .    .    .    .    .    .    .    .    .    .    .    .    .    .    .    .    .    .    .    .    .    .    .    .    .    .    .    .    .    .    .    .    .    .    .    .    .    .    .    .    .    .    .    .    .    .    .    .    .    .    .    .    .    .    .    .    .    .    .    .    .    .    .    .    .    .    .    .    .    .    .    .    .    .    .    .    .    .    .    .    .    .    .    .    .    .    .    .    .    .    .    .    .    .    .    .    .    .    .    .    .    .    .    .    .    .    .    .    .    .    .    .    .    .    .    .    .    .    .    .    .    .    .    .    .    .    .    .    .    .    .    .    .    .    .    .    .    .    .    .    .    .    .    .    .    .    .    .    .    .    .    .    .    .    .    .    .    .    .    .    .    .    .    .    .    .    .    .    .    .    .    .    .    .    .    .    .    .    .    .    .    .    .    .    .    .    .    .    .    .    .    .    .    .    .    .    .    .    .    .    .    . |\n",
            "         * |    .    .    .    . <304>   .    .    .    .    .    .    .    .    .    .    .    .    .    .    .    .    .    .    .    .    .    .    .    .    .    .    .    .    .    .    .    .    .    .    .    .    .    .    .    .    .    .    .    .    .    .    .    .    .    .    .    .    .    .    .    .    .    .    .    .    .    .    .    .    .    .    .    .    .    .    .    .    .    .    .    .    .    .    .    .    .    .    .    .    .    .    .    .    .    .    .    .    .    .    .    .    .    .    .    .    .    .    .    .    .    .    .    .    .    .    .    .    .    .    .    .    .    .    .    .    .    .    .    .    .    .    .    .    .    .    .    .    .    .    .    .    .    .    .    .    .    .    .    .    .    .    .    .    .    .    .    .    .    .    .    .    .    .    .    .    .    .    .    .    .    .    .    .    .    .    .    .    .    .    .    .    .    .    .    .    .    .    .    .    .    .    .    .    .    .    .    .    .    .    .    .    .    .    .    .    .    . |\n",
            "      *-HL |    .    .    .    .    3   <.>   .    .    .    .    .    .    .    .    .    .    .    .    .    .    .    .    .    .    .    .    .    .    .    .    .    .    .    .    .    .    .    .    .    .    .    .    .    .    .    .    .    .    .    .    .    .    .    .    .    .    .    .    .    .    .    .    .    .    .    .    .    .    .    .    .    .    .    .    .    .    .    .    .    .    .    .    .    .    .    .    .    .    .    .    .    .    .    .    .    .    .    .    .    .    .    .    .    .    .    .    .    .    .    .    .    .    .    .    .    .    .    .    .    .    .    .    .    .    .    .    .    .    .    .    .    .    .    .    .    .    .    .    .    .    .    .    .    .    .    .    .    .    .    .    .    .    .    .    .    .    .    .    .    .    .    .    .    .    .    .    .    .    .    .    .    .    .    .    .    .    .    .    .    .    .    .    .    .    .    .    .    .    .    .    .    .    .    .    .    .    .    .    .    .    .    .    .    .    .    .    . |\n",
            "         , |    .    .    .    .    .    .<2735>   6    .    .    .    .    .    .    .    .    .    .    .    .    .    .    .    .    .    .    .    .    .    .    .    .    .    .    .    .    .    .    .    .    .    .    .    .    .    .    .    .    .    .    .    .    .    .    .    .    .    .    .    .    .    .    .    .    .    .    .    .    .    .    .    .    .    .    .    .    .    .    .    .    .    .    .    .    .    .    .    .    .    .    .    .    .    .    .    .    .    .    .    .    .    .    .    .    .    .    .    .    .    .    .    .    .    .    .    .    .    .    .    .    .    .    .    .    .    .    .    .    .    .    .    .    .    .    .    .    .    .    .    .    .    .    .    .    .    .    .    .    .    .    .    .    .    .    .    .    .    .    .    .    .    .    .    .    .    .    .    .    .    .    .    .    .    .    .    .    .    .    .    .    .    .    .    .    .    .    .    .    .    .    .    .    .    .    .    .    .    .    .    .    .    .    .    .    .    .    . |\n",
            "      ,-HL |    .    .    .    .    .    .   22   <3>   .    .    .    .    .    .    .    .    .    .    .    .    .    .    .    .    .    .    .    .    .    .    .    .    .    .    .    .    .    .    .    .    .    .    .    .    .    .    .    .    .    .    .    .    .    .    .    .    .    .    .    .    .    .    .    .    .    .    .    .    .    .    .    .    .    .    .    .    .    .    .    .    .    .    .    .    .    .    .    .    .    .    .    .    .    .    .    .    .    .    .    .    .    .    .    .    .    .    .    .    .    .    .    .    .    .    .    .    .    .    .    .    .    .    .    .    .    .    .    .    .    .    .    .    .    .    .    .    .    .    .    .    .    .    .    .    .    .    .    .    .    .    .    .    .    .    .    .    .    .    .    .    .    .    .    .    .    .    .    .    .    .    .    .    .    .    .    .    .    .    .    .    .    .    .    .    .    .    .    .    .    .    .    .    .    .    .    .    .    .    .    .    .    .    .    .    .    .    . |\n",
            "        -- |    .    .    .    .    .    .    .    . <191>   .    .    .    .    .    .    .    .    .    .    .    .    .    .    .    .    .    .    .    .    .    .    .    .    .    .    .    .    .    .    .    .    .    .    .    .    .    .    .    .    .    .    .    .    .    .    .    .    .    .    .    .    .    .    .    .    .    .    .    .    .    .    .    .    .    .    .    .    .    .    .    .    .    .    .    .    .    .    .    .    .    .    .    .    .    .    .    .    .    .    .    .    .    .    .    .    .    .    .    .    .    .    .    .    .    .    .    .    .    .    .    .    .    .    .    .    .    .    .    .    .    .    .    .    .    .    .    .    .    .    .    .    .    .    .    .    .    .    .    .    .    .    .    .    .    .    .    .    .    .    .    .    .    .    .    .    .    .    .    .    .    .    .    .    .    .    .    .    .    .    .    .    .    .    .    .    .    .    .    .    .    .    .    .    .    .    .    .    .    .    .    .    .    .    .    .    .    . |\n",
            "     ---HL |    .    .    .    .    .    .    .    .    1   <.>   .    .    .    .    .    .    .    .    .    .    .    .    .    .    .    .    .    .    .    .    .    .    .    .    .    .    .    .    .    .    .    .    .    .    .    .    .    .    .    .    .    .    .    .    .    .    .    .    .    .    .    .    .    .    .    .    .    .    .    .    .    .    .    .    .    .    .    .    .    .    .    .    .    .    .    .    .    .    .    .    .    .    .    .    .    .    .    .    .    .    .    .    .    .    .    .    .    .    .    .    .    .    .    .    .    .    .    .    .    .    .    .    .    .    .    .    .    .    .    .    .    .    .    .    .    .    .    .    .    .    .    .    .    .    .    .    .    .    .    .    .    .    .    .    .    .    .    .    .    .    .    .    .    .    .    .    .    .    .    .    .    .    .    .    .    .    .    .    .    .    .    .    .    .    .    .    .    .    .    .    .    .    .    .    .    .    .    .    .    .    .    .    .    .    .    .    . |\n",
            "         . |    .    .    .    .    .    .    .    .    .    .<2976>   4    8    .    .    .    .    .    .    .    .    .    .    .    .    .    .    .    .    .    .    .    .    .    .    .    .    .    .    .    .    .    .    .    .    .    .    .    .    .    .    .    .    .    .    .    .    .    .    .    .    .    .    .    .    .    .    .    .    .    .    .    .    .    .    .    .    .    .    .    .    .    .    .    .    .    .    .    .    .    .    .    .    .    .    .    .    .    .    .    .    .    .    .    .    .    .    .    .    .    .    .    .    .    .    .    .    .    .    .    .    .    .    .    .    .    .    .    .    .    .    .    .    .    .    .    .    .    .    .    .    .    .    .    .    .    .    .    .    .    .    .    .    .    .    .    .    .    .    .    .    .    .    .    .    .    .    .    .    .    .    .    .    .    .    .    .    .    .    .    .    .    .    .    .    .    .    .    .    .    .    .    .    .    .    .    .    .    .    .    .    .    .    .    .    .    . |\n",
            "      .-HL |    .    .    .    .    .    .    .    .    .    .   20   <1>   .    .    .    .    .    .    .    .    .    .    .    .    .    .    .    .    .    .    .    .    .    .    .    .    .    .    .    .    .    .    .    .    .    .    .    .    .    .    .    .    .    .    .    .    .    .    .    .    .    .    .    .    .    .    .    .    .    .    .    .    .    .    .    .    .    .    .    .    .    .    .    .    .    .    .    .    .    .    .    .    .    .    .    .    .    .    .    .    .    .    .    .    .    .    .    .    .    .    .    .    .    .    .    .    .    .    .    .    .    .    .    .    .    .    .    .    .    .    .    .    .    .    .    .    .    .    .    .    .    .    .    .    .    .    .    .    .    .    .    .    .    .    .    .    .    .    .    .    .    .    .    .    .    .    .    .    .    .    .    .    .    .    .    .    .    .    .    .    .    .    .    .    .    .    .    .    .    .    .    .    .    .    .    .    .    .    .    .    .    .    .    .    .    .    . |\n",
            "         : |    .    .    .    .    .    .    .    .    .    .    .    . <108>   .    .    .    .    .    .    .    .    .    .    .    .    .    .    .    .    .    .    .    .    .    .    .    .    .    .    .    .    .    .    .    .    .    .    .    .    .    .    .    .    .    .    .    .    .    .    .    .    .    .    .    .    .    .    .    .    .    .    .    .    .    .    .    .    .    .    .    .    .    .    .    .    .    .    .    .    .    .    .    .    .    .    .    .    .    .    .    .    .    .    .    .    .    .    .    .    .    .    .    .    .    .    .    .    .    .    .    .    .    .    .    .    .    .    .    .    .    .    .    .    .    .    .    .    .    .    .    .    .    .    .    .    .    .    .    .    .    .    .    .    .    .    .    .    .    .    .    .    .    .    .    .    .    .    .    .    .    .    .    .    .    .    .    .    .    .    .    .    .    .    .    .    .    .    .    .    .    .    .    .    .    .    .    .    .    .    .    .    .    .    .    .    .    . |\n",
            "      :-HL |    .    .    .    .    .    .    .    .    .    .    .    .   36   <.>   .    .    .    .    .    .    .    .    .    .    .    .    .    .    .    .    .    .    .    .    .    .    .    .    .    .    .    .    .    .    .    .    .    .    .    .    .    .    .    .    .    .    .    .    .    .    .    .    .    .    .    .    .    .    .    .    .    .    .    .    .    .    .    .    .    .    .    .    .    .    .    .    .    .    .    .    .    .    .    .    .    .    .    .    .    .    .    .    .    .    .    .    .    .    .    .    .    .    .    .    .    .    .    .    .    .    .    .    .    .    .    .    .    .    .    .    .    .    .    .    .    .    .    .    .    .    .    .    .    .    .    .    .    .    .    .    .    .    .    .    .    .    .    .    .    .    .    .    .    .    .    .    .    .    .    .    .    .    .    .    .    .    .    .    .    .    .    .    .    .    .    .    .    .    .    .    .    .    .    .    .    .    .    .    .    .    .    .    .    .    .    .    . |\n",
            "      :-TL |    .    .    .    .    .    .    .    .    .    .    .    .    1    .   <.>   .    .    .    .    .    .    .    .    .    .    .    .    .    .    .    .    .    .    .    .    .    .    .    .    .    .    .    .    .    .    .    .    .    .    .    .    .    .    .    .    .    .    .    .    .    .    .    .    .    .    .    .    .    .    .    .    .    .    .    .    .    .    .    .    .    .    .    .    .    .    .    .    .    .    .    .    .    .    .    .    .    .    .    .    .    .    .    .    .    .    .    .    .    .    .    .    .    .    .    .    .    .    .    .    .    .    .    .    .    .    .    .    .    .    .    .    .    .    .    .    .    .    .    .    .    .    .    .    .    .    .    .    .    .    .    .    .    .    .    .    .    .    .    .    .    .    .    .    .    .    .    .    .    .    .    .    .    .    .    .    .    .    .    .    .    .    .    .    .    .    .    .    .    .    .    .    .    .    .    .    .    .    .    .    .    .    .    .    .    .    .    . |\n",
            "       ABL |    .    .    .    .    .    .    .    .    .    .    .    .    .    .    .   <2>   .    .    .    .    .    .    .    .    .    .    .    .    .    .    .    .    .    .    .    .    .    .    .    .    .    .    .    .    .    .    .    .    .    .    .    .    .    .    .    .    .    .    .    .    .    .    .    .    .    .    .    .    .    .    .    .    .    .    .    .    .    .    .    .    .    .    .    .    .    .    .    .    .    .    .    .   12    .    .    .    .    .    .    .    .    .    .    .    .    .    .    .    .    .    .    .    .    .    .    .    .    .    .    .    .    .    .    .    .    .    .    .    .    .    .    .    .    .    .    .    .    .    .    .    .    .    .    .    .    .    .    .    .    .    .    .    .    .    .    .    .    .    .    .    .    .    .    .    .    .    1    .    .    .    .    .    .    .    .    .    .    .    .    .    .    .    .    .    .    .    .    .    .    .    .    .    .    .    .    .    .    .    .    .    .    .    .    .    .    .    . |\n",
            "       ABN |    .    .    .    .    .    .    .    .    .    .    .    .    .    .    .    . <150>   .    .    .    .    .    .    .    .    .    .    .    .    .    .    .    .    .    .    .    .    .    .    .    .    .    .    .    .    .    .    .    .    .    .    .    .    .    .    .    .    .    .    .    .    .    .    .    .    .    .    .    .    .    .    .    .    .    .    .    .    .    .    .    .    .    .    .    .    .    .    .    .    .    .    .    .    .    .    .    .    .    .    .    .    .    .    .    .    .    .    2    .    .    .    .    .    .    .    .    .    .    .    .    .    .    .    .    .    .    .    .    .    .    .    .    .    .    .    .    .    .    .    .    .    .    .    .    .    .    .    .    .    .    .    .    .    .    .    .    .    .    .    .    .    .    .    1    .    .    .    .    .    .    .    .    .    .    .    .    .    .    .    .    .    .    .    .    .    .    .    .    .    .    .    .    .    .    .    .    .    .    .    .    .    .    .    .    .    .    . |\n",
            "    ABN-TL |    .    .    .    .    .    .    .    .    .    .    .    .    .    .    .    .    2   <.>   .    .    .    .    .    .    .    .    .    .    .    .    .    .    .    .    .    .    .    .    .    .    .    .    .    .    .    .    .    .    .    .    .    .    .    .    .    .    .    .    .    .    .    .    .    .    .    .    .    .    .    .    .    .    .    .    .    .    .    .    .    .    .    .    .    .    .    .    .    .    .    .    .    .    .    .    .    .    .    .    .    .    .    .    .    .    .    .    .    .    .    .    .    .    .    .    .    .    .    .    .    .    .    .    .    .    .    .    .    .    .    .    .    .    .    .    .    .    .    .    .    .    .    .    .    .    .    .    .    .    .    .    .    .    .    .    .    .    .    .    .    .    .    .    .    .    .    .    .    .    .    .    .    .    .    .    .    .    .    .    .    .    .    .    .    .    .    .    .    .    .    .    .    .    .    .    .    .    .    .    .    .    .    .    .    .    .    .    . |\n",
            "       ABX |    .    .    .    .    .    .    .    .    .    .    .    .    .    .    .    .    .    .  <30>   .    .    .    .    .    .    .    .    .    .    .    .    .    .    .    .    .    .    .    .    .    .    .    .    .    .    .    .    .    .    .    .    .    .    .    .    .    .    .    .    .    .    .    .    .    .    .    .    .    .    .    .    .    .    .    .    .    .    .    .    .    .    .    .    .    .    .    .    .    .    .    .    .    .    .    .    .    .    .    .    .    .    .    .    .    .    .    .    .    .    .    .    .    .    .    .    .    .    .    .    .    .    .    .    .    .    .    .    .    .    .    .    .    .    .    .    .    .    .    .    .    .    .    .    .    .    .    .    .    .    .    .    .    .    .    .    .    .    .    .    .    .    .    .    .    .    .    .    .    .    .    .    .    .    .    .    .    .    .    .    .    .    .    .    .    .    .    .    .    .    .    .    .    .    .    .    .    .    .    .    .    .    .    .    .    .    .    . |\n",
            "        AP |    .    .    .    .    .    .    .    .    .    .    .    .    .    .    .    .    .    .    . <533>   .    .    .    .    .    .    .    .    .    .    .    .    .    .    .    .    .    .    .    .    .    .    .    .    .    .    .    .    .    .    .    .    .    .    .    .    .    .    .    .    .    .    .    .    .    .    .    .    .    .    .    .    .    .    .    .    .    .    .    .    .    .    .    .    .    .    .    .    2    .    .    .    1    .    .    .    1    .    .    .    .    .    .    .    .    .    .   18    .    .    .    .    .    .    .    .    .    .    .    .    .    .    .    .    .    .    .    .    .    .    .    .    .    .    .    .    .    .    .    .    .    .    .    .    .    .    .    .    .    .    .    .    .    .    .    .    .    .    .    .    .    .    .   39    .    1    4    .    .    .    .    4    .    .    .    .    .    .    .    .    .    .    .    .    .    .    .    .    .    .    .    .    .    .    .    .    .    .    .    .    .    .    .    .    .    .    . |\n",
            "       AP$ |    .    .    .    .    .    .    .    .    .    .    .    .    .    .    .    .    .    .    .    .   <1>   .    .    .    .    .    .    .    .    .    .    .    .    .    .    .    .    .    .    .    .    .    .    .    .    .    .    .    .    .    .    .    .    .    .    .    .    .    .    .    .    .    .    .    .    .    .    .    .    .    .    .    .    .    .    .    .    .    .    .    .    .    .    .    .    .    .    .    .    .    .    .    .    .    .    .    .    .    .    .    .    .    .    .    .    .    .    .    .    .    .    .    .    .    .    .    .    .    .    .    .    .    .    .    .    .    .    .    .    .    .    .    .    .    .    .    .    .    .    .    .    .    .    .    .    .    .    .    .    .    .    .    .    .    .    .    .    .    .    .    .    .    .    .    .    .    .    .    .    .    .    .    .    .    .    .    .    .    .    .    .    .    .    .    .    .    .    .    .    .    .    .    .    .    .    .    .    .    .    .    .    .    .    .    .    .    . |\n",
            "     AP-HL |    .    .    .    .    .    .    .    .    .    .    .    .    .    .    .    .    .    .    .    4    .   <.>   .    .    .    .    .    .    .    .    .    .    .    .    .    .    .    .    .    .    .    .    .    .    .    .    .    .    .    .    .    .    .    .    .    .    .    .    .    .    .    .    .    .    .    .    .    .    .    .    .    .    .    .    .    .    .    .    .    .    .    .    .    .    .    .    .    .    .    .    .    .    .    .    .    .    .    .    .    .    .    .    .    .    .    .    .    .    .    .    .    .    .    .    .    .    .    .    .    .    .    .    .    .    .    .    .    .    .    .    .    .    .    .    .    .    .    .    .    .    .    .    .    .    .    .    .    .    .    .    .    .    .    .    .    .    .    .    .    .    .    .    .    2    .    .    .    .    .    .    .    .    .    .    .    .    .    .    .    .    .    .    .    .    .    .    .    .    .    .    .    .    .    .    .    .    .    .    .    .    .    .    .    .    .    .    . |\n",
            "     AP-TL |    .    .    .    .    .    .    .    .    .    .    .    .    .    .    .    .    .    .    .    1    .    .   <.>   .    .    .    .    .    .    .    .    .    .    .    .    .    .    .    .    .    .    .    .    .    .    .    .    .    .    .    .    .    .    .    .    .    .    .    .    .    .    .    .    .    .    .    .    .    .    .    .    .    .    .    .    .    .    .    .    .    .    .    .    .    .    .    .    .    .    .    .    .    .    .    .    .    .    .    .    .    .    .    .    .    .    .    .    .    .    .    .    .    .    .    .    .    .    .    .    .    .    .    .    .    .    .    .    .    .    .    .    .    .    .    .    .    .    .    .    .    .    .    .    .    .    .    .    .    .    .    .    .    .    .    .    .    .    .    .    .    .    .    .    .    .    .    .    .    .    .    .    .    .    .    .    .    .    .    .    .    .    .    .    .    .    .    .    .    .    .    .    .    .    .    .    .    .    .    .    .    .    .    .    .    .    .    . |\n",
            "        AT |    .    .    .    .    .    .    .    .    .    .    .    .    .    .    .    .    .    .    .    .    .    .    .<5299>   3    4    .    .    .    .    .    .    .    .    .    .    .    .    .    .    .    .    .    .    .    .    .    .    .    .    .    .    .    .    .    .    .    .    .    .    .    .    .    .    .    .    .    .    .    .    .    .    .    .    .    .    .    .    .    .    .    .    .    .    .    .    .    .    .    .    .    .    .    .    .    .    .    .    .    .    .    .    .    .    .    .    .    .    .    .    .    .    .    .    .    .    .    .    .    .    .    .    .    .    .    .    .    .    .    .    .    .    .    .    .    .    .    .    .    .    .    .    .    .    .    .    .    .    .    .    .    .    .    .    .    .    .    .    .    .    .    .    .    .    .    .    5    .    .    .    .    .    .    .    .    .    .    .    .    .    .    .    .    .    .    .    .    .    .    .    .    .    .    .    .    .    .    .    .    .    .    .    .    .    .    .    . |\n",
            "     AT-HL |    .    .    .    .    .    .    .    .    .    .    .    .    .    .    .    .    .    .    .    .    .    .    .   93   <.>   2    .    .    .    .    .    .    .    .    .    .    .    .    .    .    .    .    .    .    .    .    .    .    .    .    .    .    .    .    .    .    .    .    .    .    .    .    .    .    .    .    .    .    .    .    .    .    .    .    .    .    .    .    .    .    .    .    .    .    .    .    .    .    .    .    .    .    .    .    .    .    .    .    .    .    .    .    .    .    .    .    .    .    .    .    .    .    .    .    .    .    .    .    .    .    .    .    .    .    .    .    .    .    .    .    .    .    .    .    .    .    .    .    .    .    .    .    .    .    .    .    .    .    .    .    .    .    .    .    .    .    .    .    .    .    .    .    .    .    .    .    .    .    .    .    .    .    .    .    .    .    .    .    .    .    .    .    .    .    .    .    .    .    .    .    .    .    .    .    .    .    .    .    .    .    .    .    .    .    .    .    . |\n",
            "     AT-TL |    .    .    .    .    .    .    .    .    .    .    .    .    .    .    .    .    .    .    .    .    .    .    .   30    .  <13>   .    .    .    .    .    .    .    .    .    .    .    .    .    .    .    .    .    .    .    .    .    .    .    .    .    .    .    .    .    .    .    .    .    .    .    .    .    .    .    .    .    .    .    .    .    .    .    .    .    .    .    .    .    .    .    .    .    .    .    .    .    .    .    .    .    .    .    .    .    .    .    .    .    .    .    .    .    .    .    .    .    .    .    .    .    .    .    .    .    .    .    .    .    .    .    .    .    .    .    .    .    .    .    .    .    .    .    .    .    .    .    .    .    .    .    .    .    .    .    .    .    .    .    .    .    .    .    .    .    .    .    .    .    .    .    .    .    .    .    .    .    .    .    .    .    .    .    .    .    .    .    .    .    .    .    .    .    .    .    .    .    .    .    .    .    .    .    .    .    .    .    .    .    .    .    .    .    .    .    .    . |\n",
            "        BE |    .    .    .    .    .    .    .    .    .    .    .    .    .    .    .    .    .    .    .    .    .    .    .    .    .    . <420>   .    .    .    .    .    .    .    .    .    .    .    .    .    .    .    .    .    .    .    .    .    .    .    .    .    .    .    .    .    .    .    .    .    .    .    .    .    .    .    .    .    .    .    .    .    .    .    .    .    .    .    .    .    .    .    .    .    .    .    .    .    .    .    .    .    .    .    .    .    .    .    .    .    .    .    .    .    .    .    .    1    .    .    .    .    .    .    .    .    .    .    .    .    .    .    .    .    .    .    .    .    .    .    .    .    .    .    .    .    .    .    .    .    .    .    .    .    .    .    .    .    .    .    .    .    .    .    .    .    .    .    .    .    .    .    .    .    .    .    .    .    .    .    .    .    .    .    .    .    .    .    .    .    .    .    .    .    .    .    .    .    .    .    .    .    .    .    .    .    .    .    .    .    .    .    .    .    .    .    . |\n",
            "     BE-HL |    .    .    .    .    .    .    .    .    .    .    .    .    .    .    .    .    .    .    .    .    .    .    .    .    .    .    1   <.>   .    .    .    .    .    .    .    .    .    .    .    .    .    .    .    .    .    .    .    .    .    .    .    .    .    .    .    .    .    .    .    .    .    .    .    .    .    .    .    .    .    .    .    .    .    .    .    .    .    .    .    .    .    .    .    .    .    .    .    .    .    .    .    .    .    .    .    .    .    .    .    .    .    .    .    .    .    .    .    .    .    .    .    .    .    .    .    .    .    .    .    .    .    .    .    .    .    .    .    .    .    .    .    .    .    .    .    .    .    .    .    .    .    .    .    .    .    .    .    .    .    .    .    .    .    .    .    .    .    .    .    .    .    .    .    .    .    .    .    .    .    .    .    .    .    .    .    .    .    .    .    .    .    .    .    .    .    .    .    .    .    .    .    .    .    .    .    .    .    .    .    .    .    .    .    .    .    .    . |\n",
            "       BED |    .    .    .    .    .    .    .    .    .    .    .    .    .    .    .    .    .    .    .    .    .    .    .    .    .    .    .    . <109>   .    .    .    .    .    .    .    .    .    .    .    .    .    .    .    .    .    .    .    .    .    .    .    .    .    .    .    .    .    .    .    .    .    .    .    .    .    .    .    .    .    .    .    .    .    .    .    .    .    .    .    .    .    .    .    .    .    .    .    .    .    .    .    .    .    .    .    .    .    .    .    .    .    .    .    .    .    .    .    .    .    .    .    .    .    .    .    .    .    .    .    .    .    .    .    .    .    .    .    .    .    .    .    .    .    .    .    .    .    .    .    .    .    .    .    .    .    .    .    .    .    .    .    .    .    .    .    .    .    .    .    .    .    .    .    .    .    .    .    .    .    .    .    .    .    .    .    .    .    .    .    .    .    .    .    .    .    .    .    .    .    .    .    .    .    .    .    .    .    .    .    .    .    .    .    .    .    . |\n",
            "      BEDZ |    .    .    .    .    .    .    .    .    .    .    .    .    .    .    .    .    .    .    .    .    .    .    .    .    .    .    .    .    . <308>   .    .    .    .    .    .    .    .    .    .    .    .    .    .    .    .    .    .    .    .    .    .    .    .    .    .    .    .    .    .    .    .    .    .    .    .    .    .    .    .    .    .    .    .    .    .    .    .    .    .    .    .    .    .    .    .    .    .    .    .    .    .    .    .    .    .    .    .    .    .    .    .    .    .    .    .    .    2    .    .    .    .    .    .    .    .    .    .    .    .    .    .    .    .    .    .    .    .    .    .    .    .    .    .    .    .    .    .    .    .    .    .    .    .    .    .    .    .    .    .    .    .    .    .    .    .    .    .    .    .    .    .    .    .    .    .    .    .    .    .    .    .    .    .    .    .    .    .    .    .    .    .    .    .    .    .    .    .    .    .    .    .    .    .    .    .    .    .    .    .    .    .    .    .    .    .    . |\n",
            "     BEDZ* |    .    .    .    .    .    .    .    .    .    .    .    .    .    .    .    .    .    .    .    .    .    .    .    .    .    .    .    .    .    .   <2>   .    .    .    .    .    .    .    .    .    .    .    .    .    .    .    .    .    .    .    .    .    .    .    .    .    .    .    .    .    .    .    .    .    .    .    .    .    .    .    .    .    .    .    .    .    .    .    .    .    .    .    .    .    .    .    .    .    .    .    .    .    .    .    .    .    .    .    .    .    .    .    .    .    .    .    .    .    .    .    .    .    .    .    .    .    .    .    .    .    .    .    .    .    .    .    .    .    .    .    .    .    .    .    .    .    .    .    .    .    .    .    .    .    .    .    .    .    .    .    .    .    .    .    .    .    .    .    .    .    .    .    .    .    .    .    .    .    .    .    .    .    .    .    .    .    .    .    .    .    .    .    .    .    .    .    .    .    .    .    .    .    .    .    .    .    .    .    .    .    .    .    .    .    .    .    . |\n",
            "       BEG |    .    .    .    .    .    .    .    .    .    .    .    .    .    .    .    .    .    .    .    .    .    .    .    .    .    .    .    .    .    .    .  <45>   .    .    .    .    .    .    .    .    .    .    .    .    .    .    .    .    .    .    .    .    .    .    .    .    .    .    .    .    .    .    .    .    .    .    .    .    .    .    .    .    .    .    .    .    .    .    .    .    .    .    .    .    .    .    .    .    .    .    .    .    .    .    .    .    .    .    .    .    .    .    .    .    .    .    .    .    .    .    .    .    .    .    .    .    .    .    .    .    .    .    .    .    .    .    .    .    .    .    .    .    .    .    .    .    .    .    .    .    .    .    .    .    .    .    .    .    .    .    .    .    .    .    .    .    .    .    .    .    .    .    .    .    .    .    .    .    .    .    .    .    .    .    .    .    .    .    .    .    .    .    .    .    .    .    .    .    .    .    .    .    .    .    .    .    .    .    .    .    .    .    .    .    .    .    . |\n",
            "       BEM |    .    .    .    .    .    .    .    .    .    .    .    .    .    .    .    .    .    .    .    .    .    .    .    .    .    .    .    .    .    .    .    .  <19>   .    .    .    .    .    .    .    .    .    .    .    .    .    .    .    .    .    .    .    .    .    .    .    .    .    .    .    .    .    .    .    .    .    .    .    .    .    .    .    .    .    .    .    .    .    .    .    .    .    .    .    .    .    .    .    .    .    .    .    .    .    .    .    .    .    .    .    .    .    .    .    .    .    .    .    .    .    .    .    .    .    .    .    .    .    .    .    .    .    .    .    .    .    .    .    .    .    .    .    .    .    .    .    .    .    .    .    .    .    .    .    .    .    .    .    .    .    .    .    .    .    .    .    .    .    .    .    .    .    .    .    .    .    .    .    .    .    .    .    .    .    .    .    .    .    .    .    .    .    .    .    .    .    .    .    .    .    .    .    .    .    .    .    .    .    .    .    .    .    .    .    .    .    . |\n",
            "       BEN |    .    .    .    .    .    .    .    .    .    .    .    .    .    .    .    .    .    .    .    .    .    .    .    .    .    .    .    .    .    .    .    .    . <151>   .    .    .    .    .    .    .    .    .    .    .    .    .    .    .    .    .    .    .    .    .    .    .    .    .    .    .    .    .    .    .    .    .    .    .    .    .    .    .    .    .    .    .    .    .    .    .    .    .    .    .    .    .    .    .    .    .    .    .    .    .    .    .    .    .    .    .    .    .    .    .    .    .    .    .    .    .    .    .    .    .    .    .    .    .    .    .    .    .    .    .    .    .    .    .    .    .    .    .    .    .    .    .    .    .    .    .    .    .    .    .    .    .    .    .    .    .    .    .    .    .    .    .    .    .    .    .    .    .    .    .    .    .    .    .    .    .    .    .    .    .    .    .    .    .    .    .    .    .    .    .    .    .    .    .    .    .    .    .    .    .    .    .    .    .    .    .    .    .    .    .    .    . |\n",
            "       BER |    .    .    .    .    .    .    .    .    .    .    .    .    .    .    .    .    .    .    .    .    .    .    .    .    .    .    .    .    .    .    .    .    .    . <292>   .    1    4    .    .    .    .    .    .    .    .    .    .    .    .    .    .    .    .    .    .    .    .    .    .    .    .    .    .    .    .    .    .    .    .    .    .    .    .    .    .    .    .    .    .    .    .    .    .    .    .    .    .    .    .    .    .    .    .    .    .    .    .    .    .    .    .    .    .    .    .    .    .    .    .    .    .    .    .    .    .    .    .    .    .    .    .    .    .    .    .    .    .    .    .    .    .    .    .    .    .    .    .    .    .    .    .    .    .    .    .    .    .    .    .    .    .    .    .    .    .    .    .    .    .    .    .    .    .    .    .    .    .    .    .    .    .    .    .    .    .    .    .    .    .    .    .    .    .    .    .    .    .    .    .    .    .    .    .    .    .    .    .    .    .    .    .    .    .    .    .    . |\n",
            "      BER* |    .    .    .    .    .    .    .    .    .    .    .    .    .    .    .    .    .    .    .    .    .    .    .    .    .    .    .    .    .    .    .    .    .    .    .   <3>   .    .    .    .    .    .    .    .    .    .    .    .    .    .    .    .    .    .    .    .    .    .    .    .    .    .    .    .    .    .    .    .    .    .    .    .    .    .    .    .    .    .    .    .    .    .    .    .    .    .    .    .    .    .    .    .    .    .    .    .    .    .    .    .    .    .    .    .    .    .    .    2    .    .    .    .    .    .    .    .    .    .    .    .    .    .    .    .    .    .    .    .    .    .    .    .    .    .    .    .    .    .    .    .    .    .    .    .    .    .    .    .    .    .    .    .    .    .    .    .    .    .    .    .    .    .    .    .    .    .    .    .    .    .    .    .    .    .    .    .    .    .    .    .    .    .    .    .    .    .    .    .    .    .    .    .    .    .    .    .    .    .    .    .    .    .    .    .    .    .    . |\n",
            "    BER-HL |    .    .    .    .    .    .    .    .    .    .    .    .    .    .    .    .    .    .    .    .    .    .    .    .    .    .    .    .    .    .    .    .    .    .    1    .   <.>   .    .    .    .    .    .    .    .    .    .    .    .    .    .    .    .    .    .    .    .    .    .    .    .    .    .    .    .    .    .    .    .    .    .    .    .    .    .    .    .    .    .    .    .    .    .    .    .    .    .    .    .    .    .    .    .    .    .    .    .    .    .    .    .    .    .    .    .    .    .    .    .    .    .    .    .    .    .    .    .    .    .    .    .    .    .    .    .    .    .    .    .    .    .    .    .    .    .    .    .    .    .    .    .    .    .    .    .    .    .    .    .    .    .    .    .    .    .    .    .    .    .    .    .    .    .    .    .    .    .    .    .    .    .    .    .    .    .    .    .    .    .    .    .    .    .    .    .    .    .    .    .    .    .    .    .    .    .    .    .    .    .    .    .    .    .    .    .    .    . |\n",
            "    BER-TL |    .    .    .    .    .    .    .    .    .    .    .    .    .    .    .    .    .    .    .    .    .    .    .    .    .    .    .    .    .    .    .    .    .    .    .    .    .   <.>   .    .    .    .    .    .    .    .    .    .    .    .    .    .    .    .    .    .    .    .    .    .    .    .    .    .    .    .    .    .    .    .    .    .    .    .    .    .    .    .    .    .    .    .    .    .    .    .    .    .    .    .    .    .    .    .    .    .    .    .    .    .    .    .    .    .    .    .    .    .    .    .    .    .    .    .    .    .    .    .    .    .    .    .    .    .    .    .    .    .    .    .    .    .    .    .    .    .    .    .    .    .    .    .    .    .    .    .    .    .    .    .    .    .    .    .    .    .    .    .    .    .    .    .    .    .    .    .    .    .    .    .    .    .    .    .    .    .    .    .    .    .    .    .    .    .    .    .    .    .    .    .    .    .    .    .    .    .    .    .    .    .    .    .    .    .    .    .    . |\n",
            "       BEZ |    .    .    .    .    .    .    .    .    .    .    .    .    .    .    .    .    .    .    .    .    .    .    .    .    .    .    .    .    .    .    .    .    .    .    .    .    .    . <749>   .    .    .    .    .    .    .    .    .    .    .    .    .    .    .    .    .    .    .    .    .    .    .    .    .    .    .    .    .    .    .    .    .    .    .    .    .    .    .    .    .    .    .    .    .    .    .    .    .    .    .    .    .    .    .    .    .    .    .    .    .    .    .    .    .    .    .    .    .    .    .    .    .    .    .    .    .    .    .    .    .    .    .    .    .    .    .    .    .    .    .    .    .    .    .    .    .    .    .    .    .    .    .    .    .    .    .    .    .    .    .    .    .    .    .    .    .    .    .    .    .    .    .    .    .    .    .    .    .    .    .    .    .    .    .    .    .    .    .    .    .    .    .    .    .    .    .    .    .    .    .    .    .    .    .    .    .    .    .    .    .    .    .    .    .    .    .    . |\n",
            "      BEZ* |    .    .    .    .    .    .    .    .    .    .    .    .    .    .    .    .    .    .    .    .    .    .    .    .    .    .    .    .    .    .    .    .    .    .    .    .    .    .    .   <7>   .    .    .    .    .    .    .    .    .    .    .    .    .    .    .    .    .    .    .    .    .    .    .    .    .    .    .    .    .    .    .    .    .    .    .    .    .    .    .    .    .    .    .    .    .    .    .    .    .    .    .    .    .    .    .    .    .    .    .    .    .    .    .    .    .    .    .    .    .    .    .    .    .    .    .    .    .    .    .    .    .    .    .    .    .    .    .    .    .    .    .    .    .    .    .    .    .    .    .    .    .    .    .    .    .    .    .    .    .    .    .    .    .    .    .    .    .    .    .    .    .    .    .    .    .    .    .    .    .    .    .    .    .    .    .    .    .    .    .    .    .    .    .    .    .    .    .    .    .    .    .    .    .    .    .    .    .    .    .    .    .    .    .    .    .    .    . |\n",
            "    BEZ-HL |    .    .    .    .    .    .    .    .    .    .    .    .    .    .    .    .    .    .    .    .    .    .    .    .    .    .    .    .    .    .    .    .    .    .    .    .    .    .    2    .   <.>   .    .    .    .    .    .    .    .    .    .    .    .    .    .    .    .    .    .    .    .    .    .    .    .    .    .    .    .    .    .    .    .    .    .    .    .    .    .    .    .    .    .    .    .    .    .    .    .    .    .    .    .    .    .    .    .    .    .    .    .    .    .    .    .    .    .    .    .    .    .    .    .    .    .    .    .    .    .    .    .    .    .    .    .    .    .    .    .    .    .    .    .    .    .    .    .    .    .    .    .    .    .    .    .    .    .    .    .    .    .    .    .    .    .    .    .    .    .    .    .    .    .    .    .    .    .    .    .    .    .    .    .    .    .    .    .    .    .    .    .    .    .    .    .    .    .    .    .    .    .    .    .    .    .    .    .    .    .    .    .    .    .    .    .    .    . |\n",
            "    BEZ-TL |    .    .    .    .    .    .    .    .    .    .    .    .    .    .    .    .    .    .    .    .    .    .    .    .    .    .    .    .    .    .    .    .    .    .    .    .    .    .    1    .    .   <.>   .    .    .    .    .    .    .    .    .    .    .    .    .    .    .    .    .    .    .    .    .    .    .    .    .    .    .    .    .    .    .    .    .    .    .    .    .    .    .    .    .    .    .    .    .    .    .    .    .    .    .    .    .    .    .    .    .    .    .    .    .    .    .    .    .    .    .    .    .    .    .    .    .    .    .    .    .    .    .    .    .    .    .    .    .    .    .    .    .    .    .    .    .    .    .    .    .    .    .    .    .    .    .    .    .    .    .    .    .    .    .    .    .    .    .    .    .    .    .    .    .    .    .    .    .    .    .    .    .    .    .    .    .    .    .    .    .    .    .    .    .    .    .    .    .    .    .    .    .    .    .    .    .    .    .    .    .    .    .    .    .    .    .    .    . |\n",
            "        CC |    .    .    .    .    .    .    .    .    .    .    .    .    .    .    .    .    .    .    .    .    .    .    .    .    .    .    .    .    .    .    .    .    .    .    .    .    .    .    .    .    .    .<1818>   1    3    .    .    .    .    .    .    .    .    .    .    .    .    .    .    .    .    .    .    3    .    .    .    .    .    .    .    .    .    .    .    .    .    .    .    .    .    .    .    .    .    .    .    .    2    .    .    .    .    .    .    .    .    .    .    .    .    .    .    .    .    .    .    1    .    .    .    .    .    .    .    .    .    .    .    .    .    .    .    .    .    .    .    .    .    .    .    .    .    .    .    .    .    .    .    .    .    .    .    .    .    .    .    .    .    .    .    .    .    .    .    .    .    .    .    .    .    .    .    .    .    .    7    .    .    .    .    .    .    .    .    .    .    .    .    .    .    .    .    .    .    .    .    .    .    .    .    .    .    .    .    .    .    .    .    .    .    .    .    .    .    .    . |\n",
            "     CC-HL |    .    .    .    .    .    .    .    .    .    .    .    .    .    .    .    .    .    .    .    .    .    .    .    .    .    .    .    .    .    .    .    .    .    .    .    .    .    .    .    .    .    .    7   <.>   .    .    .    .    .    .    .    .    .    .    .    .    .    .    .    .    .    .    .    .    .    .    .    .    .    .    .    .    .    .    .    .    .    .    .    .    .    .    .    .    .    .    .    .    .    .    .    .    .    .    .    .    .    .    .    .    .    .    .    .    .    .    .    .    .    .    .    .    .    .    .    .    .    .    .    .    .    .    .    .    .    .    .    .    .    .    .    .    .    .    .    .    .    .    .    .    .    .    .    .    .    .    .    .    .    .    .    .    .    .    .    .    .    .    .    .    .    .    .    .    .    .    .    .    .    .    .    .    .    .    .    .    .    .    .    .    .    .    .    .    .    .    .    .    .    .    .    .    .    .    .    .    .    .    .    .    .    .    .    .    .    .    . |\n",
            "     CC-TL |    .    .    .    .    .    .    .    .    .    .    .    .    .    .    .    .    .    .    .    .    .    .    .    .    .    .    .    .    .    .    .    .    .    .    .    .    .    .    .    .    .    .   17    .   <3>   .    .    .    .    .    .    .    .    .    .    .    .    .    .    .    .    .    .    .    .    .    .    .    .    .    .    .    .    .    .    .    .    .    .    .    .    .    .    .    .    .    .    .    .    .    .    .    .    .    .    .    .    .    .    .    .    .    .    .    .    .    .    .    .    .    .    .    .    .    .    .    .    .    .    .    .    .    .    .    .    .    .    .    .    .    .    .    .    .    .    .    .    .    .    .    .    .    .    .    .    .    .    .    .    .    .    .    .    .    .    .    .    .    .    .    .    .    .    .    .    .    .    .    .    .    .    .    .    .    .    .    .    .    .    .    .    .    .    .    .    .    .    .    .    .    .    .    .    .    .    .    .    .    .    .    .    .    .    .    .    .    . |\n",
            "        CD |    .    .    .    .    .    .    .    .    .    .    .    .    .    .    .    .    .    .    .    .    .    .    .    .    .    .    .    .    .    .    .    .    .    .    .    .    .    .    .    .    .    .    .    .    . <591>   1    1    .    .    .    .    .    .    .    .    .    .    .    .    .    .    .    .    .    .    .    .    .    .    .    .    .    .    .    .    .    .    .    .    .    .    .    .    .    .    .    .    .    .    .    .    .    .    .    .    .    .    .    .    .    .    .    .    .    .    .   72    .    .    .    .    .    .    .    .    .    .    .    .    .    .    .    .    .    .    .    .    .    .    .    .    .    .    .    .    .    .    7    .    .    .    .    .    .    .    .    .    .    .    .    .    .    .    .    .    .    .    .    .    .    .    .    .    .    .    .    .    .    .    .    .    .    .    .    .    .    .    .    .    .    .    .    .    .    .    .    .    .    .    .    .    .    .    .    .    .    .    .    .    .    .    .    .    .    .    . |\n",
            "     CD-HL |    .    .    .    .    .    .    .    .    .    .    .    .    .    .    .    .    .    .    .    .    .    .    .    .    .    .    .    .    .    .    .    .    .    .    .    .    .    .    .    .    .    .    .    .    .   17   <1>   .    .    .    .    .    .    .    .    .    .    .    .    .    .    .    .    .    .    .    .    .    .    .    .    .    .    .    .    .    .    .    .    .    .    .    .    .    .    .    .    .    .    .    .    .    .    .    .    .    .    .    .    .    .    .    .    .    .    .    .    .    .    .    .    .    .    .    .    .    .    .    .    .    .    .    .    .    .    .    .    .    .    .    .    .    .    .    .    .    .    .    .    .    .    .    .    .    .    .    .    .    .    .    .    .    .    .    .    .    .    .    .    .    .    .    .    .    .    .    .    .    .    .    .    .    .    .    .    .    .    .    .    .    .    .    .    .    .    .    .    .    .    .    .    .    .    .    .    .    .    .    .    .    .    .    .    .    .    .    . |\n",
            "     CD-TL |    .    .    .    .    .    .    .    .    .    .    .    .    .    .    .    .    .    .    .    .    .    .    .    .    .    .    .    .    .    .    .    .    .    .    .    .    .    .    .    .    .    .    .    .    .   17    .  <10>   .    .    .    .    .    .    .    .    .    .    .    .    .    .    .    .    .    .    .    .    .    .    .    .    .    .    .    .    .    .    .    .    .    .    .    .    .    .    .    .    .    .    .    .    .    .    .    .    .    .    .    .    .    .    .    .    .    .    .    5    .    .    .    .    .    .    .    .    .    .    .    .    .    .    .    .    .    .    .    .    .    .    .    .    .    .    .    .    .    .    .    .    .    .    .    .    .    .    .    .    .    .    .    .    .    .    .    .    .    .    .    .    .    .    .    .    .    .    .    .    .    .    .    .    .    .    .    .    .    .    .    .    .    .    .    .    .    .    .    .    .    .    .    .    .    .    .    .    .    .    .    .    .    .    .    .    .    .    . |\n",
            "        CS |    .    .    .    .    .    .    .    .    .    .    .    .    .    .    .    .    .    .    .    .    .    .    .    .    .    .    .    .    .    .    .    .    .    .    .    .    .    .    .    .    .    .    .    .    .    .    .    .<1037>   .    .    .    .    .    .    .    .    .    .    7    .    .    .    .    .    .    .    .    .    .    .    .    .    .    .    .    .    .    .    .    .    .    .    .    .    .    .    .  102    .    .    1    .    .    .    .    .    .    .    .    .    .    .    .    .    .    .    7    .    .    .    .    .    .    .    .    .    .    .    .    .    .    .    .    .    .    .    .    .    .    .    .    .    .    .    .    .    .    .    .    .    .    .    .    .    .    .    .    .    .    .    .    .    .    .    .    .    .    .    .    .    .    .    6    .    .   15    .    .    .    .    .    .    .    .    .    .    .    .    .    .    .    .    .    .    .    .    .    .    .    .    .    .    .    .    .    .    .    .    .    .    .    .   19    .    .    . |\n",
            "     CS-HL |    .    .    .    .    .    .    .    .    .    .    .    .    .    .    .    .    .    .    .    .    .    .    .    .    .    .    .    .    .    .    .    .    .    .    .    .    .    .    .    .    .    .    .    .    .    .    .    .    2   <.>   .    .    .    .    .    .    .    .    .    .    .    .    .    .    .    .    .    .    .    .    .    .    .    .    .    .    .    .    .    .    .    .    .    .    .    .    .    .    1    .    .    .    .    .    .    .    .    .    .    .    .    .    .    .    .    .    .    .    .    .    .    .    .    .    .    .    .    .    .    .    .    .    .    .    .    .    .    .    .    .    .    .    .    .    .    .    .    .    .    .    .    .    .    .    .    .    .    .    .    .    .    .    .    .    .    .    .    .    .    .    .    .    .    .    .    .    .    .    .    .    .    .    .    .    .    .    .    .    .    .    .    .    .    .    .    .    .    .    .    .    .    .    .    .    .    .    .    .    .    .    .    .    .    .    .    .    . |\n",
            "        DO |    .    .    .    .    .    .    .    .    .    .    .    .    .    .    .    .    .    .    .    .    .    .    .    .    .    .    .    .    .    .    .    .    .    .    .    .    .    .    .    .    .    .    .    .    .    .    .    .    .    . <109>   .    .    .    .    .    .    .    .    .    .    .    .    .    .    .    .    .    .    .    .    .    .    .    .    .    .    .    .    .    .    .    .    .    .    .    .    .    .    .    .    .    .    .    .    .    .    .    .    .    .    .    .    .    .    .    .    .    .    .    .    .    .    .    .    .    .    .    .    .    .    .    .    .    .    .    .    .    .    .    .    .    .    .    .    .    .    .    .    .    .    .    .    .    .    .    .    .    .    .    .    .    .    .    .    .    .    .    .    .    .    .    .    .    .    .    .    .    .    .    .    .    .    .    .    .    .    .    .    .    .    .    .    .    .    .    .    .    .    .    .    .    .    .    .    .    .    .    .    .    .    .    .    .    .    .    . |\n",
            "       DO* |    .    .    .    .    .    .    .    .    .    .    .    .    .    .    .    .    .    .    .    .    .    .    .    .    .    .    .    .    .    .    .    .    .    .    .    .    .    .    .    .    .    .    .    .    .    .    .    .    .    .    .  <24>   .    .    .    .    .    .    .    .    .    .    .    .    .    .    .    .    .    .    .    .    .    .    .    .    .    .    .    .    .    .    .    .    .    .    .    .    .    .    .    .    .    .    .    .    .    .    .    .    .    .    .    .    .    .    .    .    .    .    .    .    .    .    .    .    .    .    .    .    .    .    .    .    .    .    .    .    .    .    .    .    .    .    .    .    .    .    .    .    .    .    .    .    .    .    .    .    .    .    .    .    .    .    .    .    .    .    .    .    .    .    .    .    .    .    .    .    .    .    .    .    .    .    .    .    .    .    .    .    .    .    .    .    .    .    .    .    .    .    .    .    .    .    .    .    .    .    .    .    .    .    .    .    .    .    . |\n",
            "     DO-HL |    .    .    .    .    .    .    .    .    .    .    .    .    .    .    .    .    .    .    .    .    .    .    .    .    .    .    .    .    .    .    .    .    .    .    .    .    .    .    .    .    .    .    .    .    .    .    .    .    .    .    1    .   <.>   .    .    .    .    .    .    .    .    .    .    .    .    .    .    .    .    .    .    .    .    .    .    .    .    .    .    .    .    .    .    .    .    .    .    .    .    .    .    .    .    .    .    .    .    .    .    .    .    .    .    .    .    .    .    .    .    .    .    .    .    .    .    .    .    .    .    .    .    .    .    .    .    .    .    .    .    .    .    .    .    .    .    .    .    .    .    .    .    .    .    .    .    .    .    .    .    .    .    .    .    .    .    .    .    .    .    .    .    .    .    .    .    .    .    .    .    .    .    .    .    .    .    .    .    .    .    .    .    .    .    .    .    .    .    .    .    .    .    .    .    .    .    .    .    .    .    .    .    .    .    .    .    .    . |\n",
            "     DO-TL |    .    .    .    .    .    .    .    .    .    .    .    .    .    .    .    .    .    .    .    .    .    .    .    .    .    .    .    .    .    .    .    .    .    .    .    .    .    .    .    .    .    .    .    .    .    .    .    .    .    .    1    .    .   <.>   .    .    .    .    .    .    .    .    .    .    .    .    .    .    .    .    .    .    .    .    .    .    .    .    .    .    .    .    .    .    .    .    .    .    .    .    .    .    .    .    .    .    .    .    .    .    .    .    .    .    .    .    .    .    .    .    .    .    .    .    .    .    .    .    .    .    .    .    .    .    .    .    .    .    .    .    .    .    .    .    .    .    .    .    .    .    .    .    .    .    .    .    .    .    .    .    .    .    .    .    .    .    .    .    .    .    .    .    .    .    .    .    .    .    .    .    .    .    .    .    .    .    .    .    .    .    .    .    .    .    .    .    .    .    .    .    .    .    .    .    .    .    .    .    .    .    .    .    .    .    .    .    . |\n",
            "       DOD |    .    .    .    .    .    .    .    .    .    .    .    .    .    .    .    .    .    .    .    .    .    .    .    .    .    .    .    .    .    .    .    .    .    .    .    .    .    .    .    .    .    .    .    .    .    .    .    .    .    .    .    .    .    .  <36>   .    .    .    .    .    .    .    .    .    .    .    .    .    .    .    .    .    .    .    .    .    .    .    .    .    .    .    .    .    .    .    .    .    .    .    .    .    .    .    .    .    .    .    .    .    .    .    .    .    .    .    .    .    .    .    .    .    .    .    .    .    .    .    .    .    .    .    .    .    .    .    .    .    .    .    .    .    .    .    .    .    .    .    .    .    .    .    .    .    .    .    .    .    .    .    .    .    .    .    .    .    .    .    .    .    .    .    .    .    .    .    .    .    .    .    .    .    .    .    .    .    .    .    .    .    .    .    .    .    .    .    .    .    .    .    .    .    .    .    .    .    .    .    .    .    .    .    .    .    .    .    . |\n",
            "      DOD* |    .    .    .    .    .    .    .    .    .    .    .    .    .    .    .    .    .    .    .    .    .    .    .    .    .    .    .    .    .    .    .    .    .    .    .    .    .    .    .    .    .    .    .    .    .    .    .    .    .    .    .    .    .    .    .   <5>   .    .    .    .    .    .    .    .    .    .    .    .    .    .    .    .    .    .    .    .    .    .    .    .    .    .    .    .    .    .    .    .    .    .    .    .    .    .    .    .    .    .    .    .    .    .    .    .    .    .    .    .    .    .    .    .    .    .    .    .    .    .    .    .    .    .    .    .    .    .    .    .    .    .    .    .    .    .    .    .    .    .    .    .    .    .    .    .    .    .    .    .    .    .    .    .    .    .    .    .    .    .    .    .    .    .    .    .    .    .    .    .    .    .    .    .    .    .    .    .    .    .    .    .    .    .    .    .    .    .    .    .    .    .    .    .    .    .    .    .    .    .    .    .    .    .    .    .    .    .    . |\n",
            "       DOZ |    .    .    .    .    .    .    .    .    .    .    .    .    .    .    .    .    .    .    .    .    .    .    .    .    .    .    .    .    .    .    .    .    .    .    .    .    .    .    .    .    .    .    .    .    .    .    .    .    .    .    .    .    .    .    .    .  <28>   .    .    .    .    .    .    .    .    .    .    .    .    .    .    .    .    .    .    .    .    .    .    .    .    .    .    .    .    .    .    .    .    .    .    .    .    .    .    .    .    .    .    .    .    .    .    .    .    .    .   15    .    .    .    .    .    .    .    .    .    .    .    .    .    .    .    .    .    .    .    .    .    .    .    .    .    .    .    .    .    .    .    .    .    .    .    .    .    .    .    .    .    .    .    .    .    .    .    .    .    .    .    .    .    .    .    .    .    .    .    .    .    .    .    .    .    .    .    .    .    .    .    .    .    .    .    .    .    .    .    .    .    .    .    .    .    .    .    .    .    .    .    .    .    .    .    .    .    .    . |\n",
            "      DOZ* |    .    .    .    .    .    .    .    .    .    .    .    .    .    .    .    .    .    .    .    .    .    .    .    .    .    .    .    .    .    .    .    .    .    .    .    .    .    .    .    .    .    .    .    .    .    .    .    .    .    .    .    .    .    .    .    .    .  <10>   .    .    .    .    .    .    .    .    .    .    .    .    .    .    .    .    .    .    .    .    .    .    .    .    .    .    .    .    .    .    .    .    .    .    .    .    .    .    .    .    .    .    .    .    .    .    .    .    .    .    .    .    .    .    .    .    .    .    .    .    .    .    .    .    .    .    .    .    .    .    .    .    .    .    .    .    .    .    .    .    .    .    .    .    .    .    .    .    .    .    .    .    .    .    .    .    .    .    .    .    .    .    .    .    .    .    .    .    .    .    .    .    .    .    .    .    .    .    .    .    .    .    .    .    .    .    .    .    .    .    .    .    .    .    .    .    .    .    .    .    .    .    .    .    .    .    .    .    . |\n",
            "    DOZ-HL |    .    .    .    .    .    .    .    .    .    .    .    .    .    .    .    .    .    .    .    .    .    .    .    .    .    .    .    .    .    .    .    .    .    .    .    .    .    .    .    .    .    .    .    .    .    .    .    .    .    .    .    .    .    .    .    .    1    .   <.>   .    .    .    .    .    .    .    .    .    .    .    .    .    .    .    .    .    .    .    .    .    .    .    .    .    .    .    .    .    .    .    .    .    .    .    .    .    .    .    .    .    .    .    .    .    .    .    .    .    .    .    .    .    .    .    .    .    .    .    .    .    .    .    .    .    .    .    .    .    .    .    .    .    .    .    .    .    .    .    .    .    .    .    .    .    .    .    .    .    .    .    .    .    .    .    .    .    .    .    .    .    .    .    .    .    .    .    .    .    .    .    .    .    .    .    .    .    .    .    .    .    .    .    .    .    .    .    .    .    .    .    .    .    .    .    .    .    .    .    .    .    .    .    .    .    .    .    . |\n",
            "        DT |    .    .    .    .    .    .    .    .    .    .    .    .    .    .    .    .    .    .    .    .    .    .    .    .    .    .    .    .    .    .    .    .    .    .    .    .    .    .    .    .    .    .    .    .    .    .    .    .   54    .    .    .    .    .    .    .    .    .    . <452>   .    .    .    .    .    .    .    .    .    .    .    .    .    .    .    .    .    .    .    .    .    .    .    .    .    .    .    .    .    .    .    .    .    .    .    .    .    .    .    .    .    .    .    .    .    .    .    .    .    .    .    .    .    .    .    .    .    .    .    .    .    .    .    .    .    .    .    .    .    .    .    .    .    .    .    .    .    .    .    .    .    .    .    .    .    .    .    .    .    .    .    .    .    .    .    .    .    .    .    .    .    .    .    .    .    .    .    .    .    .    .    .    .    .    .    .    .    .    .    .    .    .    .    .    .    .    .    .    .    .    .    .    .    .    .    .    .    .    .    .    .    .    .    1    .    .    . |\n",
            "    DT+BEZ |    .    .    .    .    .    .    .    .    .    .    .    .    .    .    .    .    .    .    .    .    .    .    .    .    .    .    .    .    .    .    .    .    .    .    .    .    .    .    .    .    .    .    .    .    .    .    .    .    .    .    .    .    .    .    .    .    .    .    .    .   <1>   .    .    .    .    .    .    .    .    .    .    .    .    .    .    .    .    .    .    .    .    .    .    .    .    .    .    .    .    .    .    .    .    .    .    .    .    .    .    .    .    .    .    .    .    .    .    .    .    .    .    .    .    .    .    .    .    .    .    .    .    .    .    .    .    .    .    .    .    .    .    .    .    .    .    .    .    .    .    .    .    .    .    .    .    .    .    .    .    .    .    .    .    .    .    .    .    .    .    .    .    .    .    .    .    .    .    .    .    .    .    .    .    .    .    .    .    .    .    .    .    .    .    .    .    .    .    .    .    .    .    .    .    .    .    .    .    .    .    .    .    .    .    .    .    .    . |\n",
            "       DTI |    .    .    .    .    .    .    .    .    .    .    .    .    .    .    .    .    .    .    .    .    .    .    .    .    .    .    .    .    .    .    .    .    .    .    .    .    .    .    .    .    .    .    .    .    .    .    .    .    .    .    .    .    .    .    .    .    .    .    .    .    . <187>   .    .    .    .    .    .    .    .    .    .    .    .    .    .    .    .    .    .    .    .    .    .    .    .    .    .    .    .    .    .    .    .    .    .    .    .    .    .    .    .    .    .    .    .    .    .    .    .    .    .    .    .    .    .    .    .    .    .    .    .    .    .    .    .    .    .    .    .    .    .    .    .    .    .    .    .    .    .    .    .    .    .    .    .    .    .    .    .    .    .    .    .    .    .    .    .    .    .    .    .    .    .    .    .    .    .    .    .    .    .    .    .    .    .    .    .    .    .    .    .    .    .    .    .    .    .    .    .    .    .    .    .    .    .    .    .    .    .    .    .    .    .    .    .    . |\n",
            "       DTS |    .    .    .    .    .    .    .    .    .    .    .    .    .    .    .    .    .    .    .    .    .    .    .    .    .    .    .    .    .    .    .    .    .    .    .    .    .    .    .    .    .    .    .    .    .    .    .    .    .    .    .    .    .    .    .    .    .    .    .    .    .    . <140>   .    .    .    .    .    .    .    .    .    .    .    .    .    .    .    .    .    .    .    .    .    .    .    .    .    .    .    .    .    .    .    .    .    .    .    .    .    .    .    .    .    .    .    .    .    .    .    .    .    .    .    .    .    .    .    .    .    .    .    .    .    .    .    .    .    .    .    .    .    .    .    .    .    .    .    .    .    .    .    .    .    .    .    .    .    1    .    .    .    .    .    .    .    .    .    .    .    .    .    .    .    .    .    .    .    .    .    .    .    .    .    .    .    .    .    .    .    .    .    .    .    .    .    .    .    .    .    .    .    .    .    .    .    .    .    .    .    .    .    .    .    .    .    . |\n",
            "       DTX |    .    .    .    .    .    .    .    .    .    .    .    .    .    .    .    .    .    .    .    .    .    .    .    .    .    .    .    .    .    .    .    .    .    .    .    .    .    .    .    .    .    .    4    .    .    .    .    .    .    .    .    .    .    .    .    .    .    .    .    .    .    .    .   <.>   .    .    .    .    .    .    .    .    .    .    .    .    .    .    .    .    .    .    .    .    .    .    .    .    .    .    .    .    .    .    .    .    .    .    .    .    .    .    .    .    .    .    .    1    .    .    .    .    .    .    .    .    .    .    .    .    .    .    .    .    .    .    .    .    .    .    .    .    .    .    .    .    .    .    .    .    .    .    .    .    .    .    .    .    .    .    .    .    .    .    .    .    .    .    .    .    .    .    .    .    .    .    .    .    .    .    .    .    .    .    .    .    .    .    .    .    .    .    .    .    .    .    .    .    .    .    .    .    .    .    .    .    .    .    .    .    .    .    .    .    .    .    . |\n",
            "        EX |    .    .    .    .    .    .    .    .    .    .    .    .    .    .    .    .    .    .    .    .    .    .    .    .    .    .    .    .    .    .    .    .    .    .    .    .    .    .    .    .    .    .    .    .    .    .    .    .    .    .    .    .    .    .    .    .    .    .    .    .    .    .    .    .  <92>   .    .    .    .    .    .    .    .    .    .    .    .    .    .    .    .    .    .    .    .    .    .    .    .    .    .    .    .    .    .    .    .    .    .    .    .    .    .    .    .    .    .    .    .    .    .    .    .    .    .    .    .    .    .    .    .    .    .    .    .    .    .    .    .    .    .    .    .    .    .    .    .    .    .    .    .    .    .    .    .    .    .    .    .    .    .    .    .    .    .    .    .    .    .    .    .    .    .    .    .    .    5    .    .    .    .    .    .    .    .    .    .    .    .    .    .    .    .    .    .    .    .    .    .    .    .    .    .    .    .    .    .    .    .    .    .    .    .    .    .    .    . |\n",
            "    EX+BEZ |    .    .    .    .    .    .    .    .    .    .    .    .    .    .    .    .    .    .    .    .    .    .    .    .    .    .    .    .    .    .    .    .    .    .    .    .    .    .    .    .    .    .    .    .    .    .    .    .    .    .    .    .    .    .    .    .    .    .    .    .    .    .    .    .    .   <4>   .    .    .    .    .    .    .    .    .    .    .    .    .    .    .    .    .    .    .    .    .    .    .    .    .    .    .    .    .    .    .    .    .    .    .    .    .    .    .    .    .    .    .    .    .    .    .    .    .    .    .    .    .    .    .    .    .    .    .    .    .    .    .    .    .    .    .    .    .    .    .    .    .    .    .    .    .    .    .    .    .    .    .    .    .    .    .    .    .    .    .    .    .    .    .    .    .    .    .    .    .    .    .    .    .    .    .    .    .    .    .    .    .    .    .    .    .    .    .    .    .    .    .    .    .    .    .    .    .    .    .    .    .    .    .    .    .    .    .    .    . |\n",
            "     FW-AT |    .    .    .    .    .    .    .    .    .    .    .    .    .    .    .    .    .    .    .    .    .    .    .    .    .    .    .    .    .    .    .    .    .    .    .    .    .    .    .    .    .    .    .    .    .    .    .    .    .    .    .    .    .    .    .    .    .    .    .    .    .    .    .    .    .    .   <.>   .    .    .    .    .    .    .    .    .    .    .    .    .    .    .    .    .    .    .    .    .    .    .    .    .    .    .    .    .    .    .    .    .    .    .    .    .    .    .    .    1    .    .    .    .    .    .    .    .    .    .    .    .    .    .    .    .    .    .    .    .    .    .    .    .    .    .    .    .    .    .    .    .    .    .    .    .    .    .    .    .    .    .    .    .    .    .    .    .    .    .    .    .    .    .    .    .    .    .    .    .    .    .    .    .    .    .    .    .    .    .    .    .    .    .    .    .    .    .    .    .    .    .    .    .    .    .    .    .    .    .    .    .    .    .    .    .    .    .    . |\n",
            "  FW-AT-TL |    .    .    .    .    .    .    .    .    .    .    .    .    .    .    .    .    .    .    .    .    .    .    .    .    .    .    .    .    .    .    .    .    .    .    .    .    .    .    .    .    .    .    .    .    .    .    .    .    .    .    .    .    .    .    .    .    .    .    .    .    .    .    .    .    .    .    .   <1>   .    .    .    .    .    .    .    .    .    .    .    .    .    .    .    .    .    .    .    .    .    .    .    .    .    .    .    .    .    .    .    .    .    .    .    .    .    .    .    1    .    .    .    .    .    .    .    .    .    .    .    .    2    .    .    .    .    .    .    .    .    .    .    .    .    .    .    .    .    .    .    .    .    .    .    .    .    .    .    .    .    .    .    .    .    .    .    .    .    .    .    .    .    .    .    .    .    .    .    .    .    .    .    .    .    .    .    .    .    .    .    .    .    .    .    .    .    .    .    .    .    .    .    .    .    .    .    .    .    .    .    .    .    .    .    .    .    .    . |\n",
            "     FW-CC |    .    .    .    .    .    .    .    .    .    .    .    .    .    .    .    .    .    .    .    .    .    .    .    .    .    .    .    .    .    .    .    .    .    .    .    .    .    .    .    .    .    .    .    .    .    .    .    .    .    .    .    .    .    .    .    .    .    .    .    .    .    .    .    .    .    .    .    .   <1>   .    .    .    .    .    .    .    .    .    .    .    .    .    .    .    .    .    .    .    .    .    .    .    .    .    .    .    .    .    .    .    .    .    .    .    .    .    .    .    .    .    .    .    .    .    .    .    .    .    .    .    .    .    .    .    .    .    .    .    .    .    .    .    .    .    .    .    .    .    .    .    .    .    .    .    .    .    .    .    .    .    .    .    .    .    .    .    .    .    .    .    .    .    .    .    .    .    .    .    .    .    .    .    .    .    .    .    .    .    .    .    .    .    .    .    .    .    .    .    .    .    .    .    .    .    .    .    .    .    .    .    .    .    .    .    .    .    . |\n",
            "     FW-IN |    .    .    .    .    .    .    .    .    .    .    .    .    .    .    .    .    .    .    .    .    .    .    .    .    .    .    .    .    .    .    .    .    .    .    .    .    .    .    .    .    .    .    .    .    .    .    .    .    .    .    .    .    .    .    .    .    .    .    .    .    .    .    .    .    .    .    .    .    .   <3>   .    .    .    .    .    .    .    .    .    .    .    .    .    .    .    .    .    .    .    .    .    .    .    .    .    .    .    .    .    .    .    .    .    .    .    .    .    1    .    .    .    .    .    .    .    .    .    .    .    .    .    .    .    .    .    .    .    .    .    .    .    .    .    .    .    .    .    .    .    .    .    .    .    .    .    .    .    .    .    .    .    .    .    .    .    .    .    .    .    .    .    .    .    .    .    .    .    .    .    .    .    .    .    .    .    .    .    .    .    .    .    .    .    .    .    .    .    .    .    .    .    .    .    .    .    .    .    .    .    .    .    .    .    .    .    .    . |\n",
            "  FW-IN-TL |    .    .    .    .    .    .    .    .    .    .    .    .    .    .    .    .    .    .    .    .    .    .    .    .    .    .    .    .    .    .    .    .    .    .    .    .    .    .    .    .    .    .    .    .    .    .    .    .    .    .    .    .    .    .    .    .    .    .    .    .    .    .    .    .    .    .    .    .    .    .   <.>   .    .    .    .    .    .    .    .    .    .    .    .    .    .    .    .    .    .    .    .    .    .    .    .    .    .    .    .    .    .    .    .    .    .    .    .    .    .    .    .    .    .    .    .    .    .    .    .    .    1    .    .    .    .    .    .    .    .    .    .    .    .    .    .    .    .    .    .    .    .    .    .    .    .    .    .    .    .    .    .    .    .    .    .    .    .    .    .    .    .    .    .    .    .    .    .    .    .    .    .    .    .    .    .    .    .    .    .    .    .    .    .    .    .    .    .    .    .    .    .    .    .    .    .    .    .    .    .    .    .    .    .    .    .    .    . |\n",
            "     FW-JJ |    .    .    .    .    .    .    .    .    .    .    .    .    .    .    .    .    .    .    .    .    .    .    .    .    .    .    .    .    .    .    .    .    .    .    .    .    .    .    .    .    .    .    .    .    .    .    .    .    .    .    .    .    .    .    .    .    .    .    .    .    .    .    .    .    .    .    .    .    .    .    .   <.>   .    .    .    .    .    .    .    .    .    .    .    .    .    .    .    .    .    .    .    .    .    .    .    .    .    .    .    .    .    .    .    .    .    .    .    3    .    .    .    .    .    .    .    .    .    .    .    .    .    .    .    .    .    .    .    .    .    .    .    .    .    .    .    .    .    .    .    .    .    .    .    .    .    .    .    .    .    .    .    .    .    .    .    .    .    .    .    .    .    .    .    .    .    .    .    .    .    .    .    .    .    .    .    .    .    .    .    .    .    .    .    .    .    .    .    .    .    .    .    .    .    .    .    .    .    .    .    .    .    .    .    .    .    .    . |\n",
            "  FW-JJ-TL |    .    .    .    .    .    .    .    .    .    .    .    .    .    .    .    .    .    .    .    .    .    .    .    .    .    .    .    .    .    .    .    .    .    .    .    .    .    .    .    .    .    .    .    .    .    .    .    .    .    .    .    .    .    .    .    .    .    .    .    .    .    .    .    .    .    .    .    .    .    .    .    .   <.>   .    .    .    .    .    .    .    .    .    .    .    .    .    .    .    .    .    .    .    .    .    1    .    .    .    .    .    .    .    .    .    .    .    .    1    .    .    .    .    .    .    .    .    .    .    .    .    .    .    .    .    .    .    .    .    .    .    .    .    .    .    .    .    .    .    .    .    .    .    .    .    .    .    .    .    .    .    .    .    .    .    .    .    .    .    .    .    .    .    .    .    .    .    .    .    .    .    .    .    .    .    .    .    .    .    .    .    .    .    .    .    .    .    .    .    .    .    .    .    .    .    .    .    .    .    .    .    .    .    .    .    .    .    . |\n",
            "     FW-NN |    .    .    .    .    .    .    .    .    .    .    .    .    .    .    .    .    .    .    .    .    .    .    .    .    .    .    .    .    .    .    .    .    .    .    .    .    .    .    .    .    .    .    .    .    .    .    .    .    .    .    .    .    .    .    .    .    .    .    .    .    .    .    .    .    .    .    .    .    .    .    .    .    .   <2>   .    .    .    .    .    .    .    .    .    .    .    .    .    .    .    .    .    .    .    .    .    .    .    .    .    .    .    .    .    .    .    .    .   10    .    .    .    .    .    .    .    .    .    .    .    .    .    .    .    .    .    .    .    .    .    .    .    .    .    .    .    .    .    .    .    .    .    .    .    .    .    .    .    .    .    .    .    .    .    .    .    .    .    .    .    .    .    .    .    .    .    .    .    .    .    .    .    .    .    .    .    .    .    .    .    .    .    .    .    .    .    .    .    .    .    .    .    .    .    .    .    .    .    .    .    .    .    .    .    .    .    .    . |\n",
            "  FW-NN-TL |    .    .    .    .    .    .    .    .    .    .    .    .    .    .    .    .    .    .    .    .    .    .    .    .    .    .    .    .    .    .    .    .    .    .    .    .    .    .    .    .    .    .    .    .    .    .    .    .    .    .    .    .    .    .    .    .    .    .    .    .    .    .    .    .    .    .    .    .    .    .    .    .    .    .   <.>   .    .    .    .    .    .    .    .    .    .    .    .    .    .    .    .    .    .    .    .    .    .    .    .    .    .    .    .    .    .    .    .    4    .    .    .    .    .    .    .    .    .    .    .    .    .    .    .    .    .    .    .    .    .    .    .    .    .    .    .    .    .    .    .    .    .    .    .    .    .    .    .    .    .    .    .    .    .    .    .    .    .    .    .    .    .    .    .    .    .    .    .    .    .    .    .    .    .    .    .    .    .    .    .    .    .    .    .    .    .    .    .    .    .    .    .    .    .    .    .    .    .    .    .    .    .    .    .    .    .    .    . |\n",
            "    FW-NNS |    .    .    .    .    .    .    .    .    .    .    .    .    .    .    .    .    .    .    .    .    .    .    .    .    .    .    .    .    .    .    .    .    .    .    .    .    .    .    .    .    .    .    .    .    .    .    .    .    .    .    .    .    .    .    .    .    .    .    .    .    .    .    .    .    .    .    .    .    .    .    .    .    .    .    .   <1>   .    .    .    .    .    .    .    .    .    .    .    .    .    .    .    .    .    .    .    .    .    .    .    .    .    .    .    .    .    .    .    5    .    .    .    .    .    .    .    .    .    .    .    .    .    .    .    .    .    .    .    .    .    .    .    .    .    .    .    .    .    .    .    .    .    .    .    .    .    .    .    .    .    .    .    .    .    .    .    .    .    .    .    .    .    .    .    .    .    .    .    .    .    .    .    .    .    .    .    .    .    .    .    .    .    .    .    .    .    .    .    .    .    .    .    .    .    .    .    .    .    .    .    .    .    .    .    .    .    .    . |\n",
            "     FW-NP |    .    .    .    .    .    .    .    .    .    .    .    .    .    .    .    .    .    .    .    .    .    .    .    .    .    .    .    .    .    .    .    .    .    .    .    .    .    .    .    .    .    .    .    .    .    .    .    .    .    .    .    .    .    .    .    .    .    .    .    .    .    .    .    .    .    .    .    .    .    .    .    .    .    .    .    .   <.>   .    .    .    .    .    .    .    .    .    .    .    .    .    .    .    .    .    .    .    .    .    .    .    .    .    .    .    .    .    .    1    .    .    .    .    .    .    .    .    .    .    .    .    .    .    .    .    .    .    .    .    .    .    .    .    .    .    .    .    .    .    .    .    .    .    .    .    .    .    .    .    .    .    .    .    .    .    .    .    .    .    .    .    .    .    .    .    .    .    .    .    .    .    .    .    .    .    .    .    .    .    .    .    .    .    .    .    .    .    .    .    .    .    .    .    .    .    .    .    .    .    .    .    .    .    .    .    .    .    . |\n",
            "    FW-PPL |    .    .    .    .    .    .    .    .    .    .    .    .    .    .    .    .    .    .    .    .    .    .    .    .    .    .    .    .    .    .    .    .    .    .    .    .    .    .    .    .    .    .    .    .    .    .    .    .    .    .    .    .    .    .    .    .    .    .    .    .    .    .    .    .    .    .    .    .    .    .    .    .    .    .    .    .    .   <.>   .    .    .    .    .    .    .    .    .    .    .    .    .    .    .    .    .    .    .    .    .    .    .    .    .    .    .    .    .    1    .    .    .    .    .    .    .    .    .    .    .    .    .    .    .    .    .    .    .    .    .    .    .    .    .    .    .    .    .    .    .    .    .    .    .    .    .    .    .    .    .    .    .    .    .    .    .    .    .    .    .    .    .    .    .    .    .    .    .    .    .    .    .    .    .    .    .    .    .    .    .    .    .    .    .    .    .    .    .    .    .    .    .    .    .    .    .    .    .    .    .    .    .    .    .    .    .    .    . |\n",
            "    FW-PPO |    .    .    .    .    .    .    .    .    .    .    .    .    .    .    .    .    .    .    .    .    .    .    .    .    .    .    .    .    .    .    .    .    .    .    .    .    .    .    .    .    .    .    .    .    .    .    .    .    .    .    .    .    .    .    .    .    .    .    .    .    .    .    .    .    .    .    .    .    .    .    .    .    .    .    .    .    .    .   <.>   .    .    .    .    .    .    .    .    .    .    .    .    .    .    .    .    .    .    .    .    .    .    .    .    .    .    .    .    1    .    .    .    .    .    .    .    .    .    .    .    .    .    .    .    .    .    .    .    .    .    .    .    .    .    .    .    .    .    .    .    .    .    .    .    .    .    .    .    .    .    .    .    .    .    .    .    .    .    .    .    .    .    .    .    .    .    .    .    .    .    .    .    .    .    .    .    .    .    .    .    .    .    .    .    .    .    .    .    .    .    .    .    .    .    .    .    .    .    .    .    .    .    .    .    .    .    .    . |\n",
            "     FW-VB |    .    .    .    .    .    .    .    .    .    .    .    .    .    .    .    .    .    .    .    .    .    .    .    .    .    .    .    .    .    .    .    .    .    .    .    .    .    .    .    .    .    .    .    .    .    .    .    .    .    .    .    .    .    .    .    .    .    .    .    .    .    .    .    .    .    .    .    .    .    .    .    .    .    .    .    .    .    .    .   <.>   .    .    .    .    .    .    .    .    .    .    .    .    .    .    .    .    .    .    .    .    .    .    .    .    .    .    .    1    .    .    .    .    .    .    .    .    .    .    .    .    .    .    .    .    .    .    .    .    .    .    .    .    .    .    .    .    .    .    .    .    .    .    .    .    .    .    .    .    .    .    .    .    .    .    .    .    .    .    .    .    .    .    .    .    .    .    .    .    .    .    .    .    .    .    .    .    .    .    .    .    .    .    .    .    .    .    .    .    .    .    .    .    .    .    .    .    .    .    .    .    .    .    .    .    .    .    . |\n",
            "    FW-VBZ |    .    .    .    .    .    .    .    .    .    .    .    .    .    .    .    .    .    .    .    .    .    .    .    .    .    .    .    .    .    .    .    .    .    .    .    .    .    .    .    .    .    .    .    .    .    .    .    .    .    .    .    .    .    .    .    .    .    .    .    .    .    .    .    .    .    .    .    .    .    .    .    .    .    .    .    .    .    .    .    .   <.>   .    .    .    .    .    .    .    .    .    .    .    .    .    .    .    .    .    .    .    .    .    .    .    .    .    .    1    .    .    .    .    .    .    .    .    .    .    .    .    .    .    .    .    .    .    .    .    .    .    .    .    .    .    .    .    .    .    .    .    .    .    .    .    .    .    .    .    .    .    .    .    .    .    .    .    .    .    .    .    .    .    .    .    .    .    .    .    .    .    .    .    .    .    .    .    .    .    .    .    .    .    .    .    .    .    .    .    .    .    .    .    .    .    .    .    .    .    .    .    .    .    .    .    .    .    . |\n",
            "    FW-WDT |    .    .    .    .    .    .    .    .    .    .    .    .    .    .    .    .    .    .    .    .    .    .    .    .    .    .    .    .    .    .    .    .    .    .    .    .    .    .    .    .    .    .    .    .    .    .    .    .    .    .    .    .    .    .    .    .    .    .    .    .    .    .    .    .    .    .    .    .    .    .    .    .    .    .    .    .    .    .    .    .    .   <.>   .    .    .    .    .    .    .    .    .    .    .    .    .    .    .    .    .    .    .    .    .    .    .    .    .    1    .    .    .    .    .    .    .    .    .    .    .    .    .    .    .    .    .    .    .    .    .    .    .    .    .    .    .    .    .    .    .    .    .    .    .    .    .    .    .    .    .    .    .    .    .    .    .    .    .    .    .    .    .    .    .    .    .    .    .    .    .    .    .    .    .    .    .    .    .    .    .    .    .    .    .    .    .    .    .    .    .    .    .    .    .    .    .    .    .    .    .    .    .    .    .    .    .    .    . |\n",
            "        HV |    .    .    .    .    .    .    .    .    .    .    .    .    .    .    .    .    .    .    .    .    .    .    .    .    .    .    .    .    .    .    .    .    .    .    .    .    .    .    .    .    .    .    .    .    .    .    .    .    .    .    .    .    .    .    .    .    .    .    .    .    .    .    .    .    .    .    .    .    .    .    .    .    .    .    .    .    .    .    .    .    .    . <275>   .    .    .    .    .    .    .    .    .    .    .    .    .    .    .    .    .    .    .    .    .    .    .    .    .    .    .    .    .    .    .    .    .    .    .    .    .    .    .    .    .    .    .    .    .    .    .    .    .    .    .    .    .    .    .    .    .    .    .    .    .    .    .    .    .    .    .    .    .    .    .    .    .    .    .    .    .    .    .    .    .    .    .    .    .    .    .    .    .    .    .    .    .    .    .    .    .    .    .    .    .    .    .    .    .    .    .    .    .    .    .    .    .    .    .    .    .    .    .    .    .    .    .    . |\n",
            "       HVD |    .    .    .    .    .    .    .    .    .    .    .    .    .    .    .    .    .    .    .    .    .    .    .    .    .    .    .    .    .    .    .    .    .    .    .    .    .    .    .    .    .    .    .    .    .    .    .    .    .    .    .    .    .    .    .    .    .    .    .    .    .    .    .    .    .    .    .    .    .    .    .    .    .    .    .    .    .    .    .    .    .    .    . <120>   .    .    .    .    .    .    .    .    .    .    .    .    .    .    .    .    .    .    .    .    .    .    .    .    .    .    .    .    .    .    .    .    .    .    .    .    .    .    .    .    .    .    .    .    .    .    .    .    .    .    .    .    .    .    .    .    .    .    .    .    .    .    .    .    .    .    .    .    .    .    .    .    .    .    .    .    .    .    .    .    .    .    .    .    .    .    .    .    .    .    .    .    .    .    .    .    .    .    .    .    .    .    .    .    .    .    .    .    .    .    .    .    .    .    .    .    .    .    .    .    .    .    . |\n",
            "       HVG |    .    .    .    .    .    .    .    .    .    .    .    .    .    .    .    .    .    .    .    .    .    .    .    .    .    .    .    .    .    .    .    .    .    .    .    .    .    .    .    .    .    .    .    .    .    .    .    .    .    .    .    .    .    .    .    .    .    .    .    .    .    .    .    .    .    .    .    .    .    .    .    .    .    .    .    .    .    .    .    .    .    .    .    .  <19>   .    .    .    .    .    .    .    .    .    .    .    .    .    .    .    .    .    .    .    .    .    .    .    .    .    .    .    .    .    .    .    .    .    .    .    .    .    .    .    .    .    .    .    .    .    .    .    .    .    .    .    .    .    .    .    .    .    .    .    .    .    .    .    .    .    .    .    .    .    .    .    .    .    .    .    .    .    .    .    .    .    .    .    .    .    .    .    .    .    .    .    .    .    .    .    .    .    .    .    .    .    .    .    .    .    .    .    .    .    .    .    .    .    .    .    .    .    .    .    .    .    . |\n",
            "       HVN |    .    .    .    .    .    .    .    .    .    .    .    .    .    .    .    .    .    .    .    .    .    .    .    .    .    .    .    .    .    .    .    .    .    .    .    .    .    .    .    .    .    .    .    .    .    .    .    .    .    .    .    .    .    .    .    .    .    .    .    .    .    .    .    .    .    .    .    .    .    .    .    .    .    .    .    .    .    .    .    .    .    .    .    4    .   <8>   .    .    .    .    .    .    .    .    .    .    .    .    .    .    .    .    .    .    .    .    .    .    .    .    .    .    .    .    .    .    .    .    .    .    .    .    .    .    .    .    .    .    .    .    .    .    .    .    .    .    .    .    .    .    .    .    .    .    .    .    .    .    .    .    .    .    .    .    .    .    .    .    .    .    .    .    .    .    .    .    .    .    .    .    .    .    .    .    .    .    .    .    .    .    .    .    .    .    .    .    .    .    .    .    .    .    .    .    .    .    .    .    .    .    .    .    .    .    .    .    . |\n",
            "       HVZ |    .    .    .    .    .    .    .    .    .    .    .    .    .    .    .    .    .    .    .    .    .    .    .    .    .    .    .    .    .    .    .    .    .    .    .    .    .    .    .    .    .    .    .    .    .    .    .    .    .    .    .    .    .    .    .    .    .    .    .    .    .    .    .    .    .    .    .    .    .    .    .    .    .    .    .    .    .    .    .    .    .    .    .    .    .    . <261>   .    .    .    .    .    .    .    .    .    .    .    .    .    .    .    .    .    .    .    .    .    .    .    .    .    .    .    .    .    .    .    .    .    .    .    .    .    .    .    .    .    .    .    .    .    .    .    .    .    .    .    .    .    .    .    .    .    .    .    .    .    .    .    .    .    .    .    .    .    .    .    .    .    .    .    .    .    .    .    .    .    .    .    .    .    .    .    .    .    .    .    .    .    .    .    .    .    .    .    .    .    .    .    .    .    .    .    .    .    .    .    .    .    .    .    .    .    .    .    . |\n",
            "      HVZ* |    .    .    .    .    .    .    .    .    .    .    .    .    .    .    .    .    .    .    .    .    .    .    .    .    .    .    .    .    .    .    .    .    .    .    .    .    .    .    .    .    .    .    .    .    .    .    .    .    .    .    .    .    .    .    .    .    .    .    .    .    .    .    .    .    .    .    .    .    .    .    .    .    .    .    .    .    .    .    .    .    .    .    .    .    .    .    .   <6>   .    .    .    .    .    .    .    .    .    .    .    .    .    .    .    .    .    .    .    .    .    .    .    .    .    .    .    .    .    .    .    .    .    .    .    .    .    .    .    .    .    .    .    .    .    .    .    .    .    .    .    .    .    .    .    .    .    .    .    .    .    .    .    .    .    .    .    .    .    .    .    .    .    .    .    .    .    .    .    .    .    .    .    .    .    .    .    .    .    .    .    .    .    .    .    .    .    .    .    .    .    .    .    .    .    .    .    .    .    .    .    .    .    .    .    .    .    .    . |\n",
            "        IN |    .    .    .    .    .    .    .    .    .    .    .    .    .    .    .    .    .    .    .    3    .    .    .    .    .    .    .    .    .    .    .    .    .    .    .    .    .    .    .    .    .    .    9    .    .    .    .    .   32    .    .    .    .    .    .    .    .    .    .    .    .    .    .    .    .    .    .    .    .    .    .    .    .    .    .    .    .    .    .    .    .    .    .    .    .    .    .    .<5538>  11    .   10    .    .    .    .    .    .    .    .    .    .    .    .    .    .    .   30    .    .    .    .    .    .    1    .    .    .    .    .    .    .    .    .    .    .    .    .    .    .    .    .    .    .    .    .    .    .    .    .    .    .    .    .    .    .    .    .    .    .    .    .    .    .    .    .    .    .    .    .    .    .    .    .    .    .   19    .    .    .    .    .    .    .   36    .  514    1    .    .    .    .    .    .    .    .    .    .    .    .    .    .    .    .    .    .    .    .    .    .    .    .    .    .    .    .    . |\n",
            "     IN-HL |    .    .    .    .    .    .    .    .    .    .    .    .    .    .    .    .    .    .    .    .    .    .    .    .    .    .    .    .    .    .    .    .    .    .    .    .    .    .    .    .    .    .    .    .    .    .    .    .    .    .    .    .    .    .    .    .    .    .    .    .    .    .    .    .    .    .    .    .    .    .    .    .    .    .    .    .    .    .    .    .    .    .    .    .    .    .    .    .   66   <.>   .    2    .    .    .    .    .    .    .    .    .    .    .    .    .    .    .    3    .    .    .    .    .    .    .    .    .    .    .    .    .    .    .    .    .    .    .    .    .    .    .    .    .    .    .    .    .    .    .    .    .    .    .    .    .    .    .    .    .    .    .    .    .    .    .    .    .    .    .    .    .    .    .    .    .    .    .    .    .    .    .    .    .    .    1    .   41    .    .    .    .    .    .    .    .    .    .    .    .    .    .    .    .    .    .    .    .    .    .    .    .    .    .    .    .    .    . |\n",
            "     IN-NC |    .    .    .    .    .    .    .    .    .    .    .    .    .    .    .    .    .    .    .    .    .    .    .    .    .    .    .    .    .    .    .    .    .    .    .    .    .    .    .    .    .    .    .    .    .    .    .    .    .    .    .    .    .    .    .    .    .    .    .    .    .    .    .    .    .    .    .    .    .    .    .    .    .    .    .    .    .    .    .    .    .    .    .    .    .    .    .    .    1    .   <.>   .    .    .    .    .    .    .    .    .    .    .    .    .    .    .    .    .    .    .    .    .    .    .    .    .    .    .    .    .    .    .    .    .    .    .    .    .    .    .    .    .    .    .    .    .    .    .    .    .    .    .    .    .    .    .    .    .    .    .    .    .    .    .    .    .    .    .    .    .    .    .    .    .    .    .    .    .    .    .    .    .    .    .    .    .    .    .    .    .    .    .    .    .    .    .    .    .    .    .    .    .    .    .    .    .    .    .    .    .    .    .    .    .    .    .    . |\n",
            "     IN-TL |    .    .    .    .    .    .    .    .    .    .    .    .    .    .    .    .    .    .    .    .    .    .    .    .    .    .    .    .    .    .    .    .    .    .    .    .    .    .    .    .    .    .    .    .    .    .    .    .    .    .    .    .    .    .    .    .    .    .    .    .    .    .    .    .    .    .    .    .    .    .    .    .    .    .    .    .    .    .    .    .    .    .    .    .    .    .    .    .   40    .    .  <58>   .    .    .    .    .    .    .    .    .    .    .    .    .    .    .    .    .    .    .    .    .    .    .    .    .    .    .    .    .    .    .    .    .    .    .    .    .    .    .    .    .    .    .    .    .    .    .    .    .    .    .    .    .    .    .    .    .    .    .    .    .    .    .    .    .    .    .    .    .    .    .    .    .    .    .    .    .    .    .    .    .    .    .    .    .    .    .    .    .    .    .    .    .    .    .    .    .    .    .    .    .    .    .    .    .    .    .    .    .    .    .    .    .    .    . |\n",
            "        JJ |    .    .    .    .    .    .    .    .    .    .    .    .    .    .    .    .    .    .    .    8    .    .    .    .    .    .    .    .    .    .    .    .    .    .    .    .    .    .    .    .    .    .    .    .    .    .    .    .    1    .    .    .    .    .    .    .    .    .    .    .    .    .    .    .    .    .    .    .    .    .    .    .    .    .    .    .    .    .    .    .    .    .    .    .    .    .    .    .    .    .    .    .<2475>   3   15    .    .    .    .    .    .    .    .    .    .    .    . 1015    .    .    .    .    1    .    .    .    .    .    .    .   21    .    .    .    .    .    6    2    .    .    .    3    .    .    .    .    .    .    .    .    .    .    .    .    .    .    .    .    .    .    .    .    .    .    .    .    .    .    .    .    .    .    .   10    .    .   20    .    .    .    .    .    .    .    .    .    .    .    .    .    7    .    .    .    5    .    1    .    .    .    .    .    .    .    .    .    .    .    .    .    .    .    .    .    .    .    . |\n",
            "     JJ-HL |    .    .    .    .    .    .    .    .    .    .    .    .    .    .    .    .    .    .    .    1    .    .    .    .    .    .    .    .    .    .    .    .    .    .    .    .    .    .    .    .    .    .    .    .    .    .    .    .    .    .    .    .    .    .    .    .    .    .    .    .    .    .    .    .    .    .    .    .    .    .    .    .    .    .    .    .    .    .    .    .    .    .    .    .    .    .    .    .    .    .    .    .   17   <.>   1    .    .    .    .    .    .    .    .    .    .    .    .   20    .    .    .    .    .    .    .    .    .    .    .    .    .    .    .    .    .    .    .    .    .    .    .    .    .    .    .    .    .    .    .    .    .    .    .    .    .    .    .    .    .    .    .    .    .    .    .    .    .    .    .    .    .    .    .    .    .    .    1    .    .    .    .    .    .    .    .    .    .    .    .    .    .    .    .    .    .    .    .    .    .    .    .    .    .    .    .    .    .    .    .    .    .    .    .    .    .    .    . |\n",
            "     JJ-TL |    .    .    .    .    .    .    .    .    .    .    .    .    .    .    .    .    .    .    .    .    .    .    .    .    .    .    .    .    .    .    .    .    .    .    .    .    .    .    .    .    .    .    .    .    .    .    .    .    .    .    .    .    .    .    .    .    .    .    .    .    .    .    .    .    .    .    .    .    .    .    .    .    .    .    .    .    .    .    .    .    .    .    .    .    .    .    .    .    .    .    .    .   24    1 <301>   .    .    .    .    .    .    .    .    .    .    .    .   36    .    .    .    1    3    .    .    .    .    .    .    .    5    .    .    .    .    .    6    .    .    .    .    .    .    .   25    .    .    .    .    .    .    .    .    .    .    .    .    .    .    .    .    .    .    .    .    .    .    .    .    .    .    .    .    .    .    .    .    .    .    .    .    .    .    .    .    .    .    .    .    .    .    .    .    .    .    .    .    .    .    .    .    .    .    .    .    .    .    .    .    .    .    .    .    .    .    .    . |\n",
            "  JJ-TL-HL |    .    .    .    .    .    .    .    .    .    .    .    .    .    .    .    .    .    .    .    .    .    .    .    .    .    .    .    .    .    .    .    .    .    .    .    .    .    .    .    .    .    .    .    .    .    .    .    .    .    .    .    .    .    .    .    .    .    .    .    .    .    .    .    .    .    .    .    .    .    .    .    .    .    .    .    .    .    .    .    .    .    .    .    .    .    .    .    .    .    .    .    .    .    .    3   <.>   .    .    .    .    .    .    .    .    .    .    .    .    .    .    .    .    .    .    .    .    .    .    .    .    .    .    .    .    .    .    .    .    .    .    .    .    .    .    .    .    .    .    .    .    .    .    .    .    .    .    .    .    .    .    .    .    .    .    .    .    .    .    .    .    .    .    .    .    .    .    .    .    .    .    .    .    .    .    .    .    .    .    .    .    .    .    .    .    .    .    .    .    .    .    .    .    .    .    .    .    .    .    .    .    .    .    .    .    .    .    . |\n",
            "       JJR |    .    .    .    .    .    .    .    .    .    .    .    .    .    .    .    .    .    .    .    2    .    .    .    .    .    .    .    .    .    .    .    .    .    .    .    .    .    .    .    .    .    .    .    .    .    .    .    .    .    .    .    .    .    .    .    .    .    .    .    .    .    .    .    .    .    .    .    .    .    .    .    .    .    .    .    .    .    .    .    .    .    .    .    .    .    .    .    .    .    .    .    .    .    .    .    .  <69>   .    .    .    .    .    .    .    .    .    .   20    .    .    .    .    .    .    .    .    .    .    .    .    .    .    .    .    .    .    .    .    .    .    .    .    .    .    .    .    .    .    .    .    .    .    .    .    .    .    .    .    .    .    .    .    .    .    .    .    .    .    .    .    .    .    .    .    .    .    .    .    .    .    .    7    .    .    .    .    .    .    .    .    .    .    .    .    .    .    .    .    .    .    .    .    .    .    .    .    .    .    .    .    .    .    .    .    .    .    . |\n",
            "    JJR-HL |    .    .    .    .    .    .    .    .    .    .    .    .    .    .    .    .    .    .    .    .    .    .    .    .    .    .    .    .    .    .    .    .    .    .    .    .    .    .    .    .    .    .    .    .    .    .    .    .    .    .    .    .    .    .    .    .    .    .    .    .    .    .    .    .    .    .    .    .    .    .    .    .    .    .    .    .    .    .    .    .    .    .    .    .    .    .    .    .    .    .    .    .    .    .    .    .    2   <.>   1    .    .    .    .    .    .    .    .    1    .    .    .    .    .    .    .    .    .    .    .    .    .    .    .    .    .    .    .    .    .    .    .    .    .    .    .    .    .    .    .    .    .    .    .    .    .    .    .    .    .    .    .    .    .    .    .    .    .    .    .    .    .    .    .    .    .    .    .    .    .    .    .    .    .    .    .    .    .    .    .    .    .    .    .    .    .    .    .    .    .    .    .    .    .    .    .    .    .    .    .    .    .    .    .    .    .    .    . |\n",
            "    JJR-TL |    .    .    .    .    .    .    .    .    .    .    .    .    .    .    .    .    .    .    .    .    .    .    .    .    .    .    .    .    .    .    .    .    .    .    .    .    .    .    .    .    .    .    .    .    .    .    .    .    .    .    .    .    .    .    .    .    .    .    .    .    .    .    .    .    .    .    .    .    .    .    .    .    .    .    .    .    .    .    .    .    .    .    .    .    .    .    .    .    .    .    .    .    .    .    .    .    .    .   <3>   .    .    .    .    .    .    .    .    1    .    .    .    .    .    .    .    .    .    .    .    .    .    .    .    .    .    .    .    .    .    .    .    .    .    .    .    .    .    .    .    .    .    .    .    .    .    .    .    .    .    .    .    .    .    .    .    .    .    .    .    .    .    .    .    .    .    .    .    .    .    .    .    .    .    .    .    .    .    .    .    .    .    .    .    .    .    .    .    .    .    .    .    .    .    .    .    .    .    .    .    .    .    .    .    .    .    .    . |\n",
            "       JJS |    .    .    .    .    .    .    .    .    .    .    .    .    .    .    .    .    .    .    .    .    .    .    .    .    .    .    .    .    .    .    .    .    .    .    .    .    .    .    .    .    .    .    .    .    .    .    .    .    .    .    .    .    .    .    .    .    .    .    .    .    .    .    .    .    .    .    .    .    .    .    .    .    .    .    .    .    .    .    .    .    .    .    .    .    .    .    .    .    .    .    .    .    .    .    .    .    .    .    .  <17>   .    .    .    .    .    .    .    5    .    .    .    .    .    .    1    .    .    .    .    .    .    .    .    .    .    .    .    .    .    .    .    .    .    .    .    .    .    .    .    .    .    .    .    .    .    .    .    .    .    .    .    .    .    .    .    .    .    .    .    .    .    .    .    .    .    .    .    .    .    .    .    .    .    .    .    .    .    .    .    .    .    .    .    .    .    .    .    .    .    .    .    .    .    .    .    .    .    .    .    .    .    .    .    .    .    .    . |\n",
            "    JJS-TL |    .    .    .    .    .    .    .    .    .    .    .    .    .    .    .    .    .    .    .    .    .    .    .    .    .    .    .    .    .    .    .    .    .    .    .    .    .    .    .    .    .    .    .    .    .    .    .    .    .    .    .    .    .    .    .    .    .    .    .    .    .    .    .    .    .    .    .    .    .    .    .    .    .    .    .    .    .    .    .    .    .    .    .    .    .    .    .    .    .    .    .    .    .    .    .    .    .    .    .    .   <.>   .    .    .    .    .    .    .    .    .    .    .    1    .    .    .    .    .    .    .    .    .    .    .    .    .    .    .    .    .    .    .    .    .    .    .    .    .    .    .    .    .    .    .    .    .    .    .    .    .    .    .    .    .    .    .    .    .    .    .    .    .    .    .    .    .    .    .    .    .    .    .    .    .    .    .    .    .    .    .    .    .    .    .    .    .    .    .    .    .    .    .    .    .    .    .    .    .    .    .    .    .    .    .    .    .    . |\n",
            "       JJT |    .    .    .    .    .    .    .    .    .    .    .    .    .    .    .    .    .    .    .    .    .    .    .    .    .    .    .    .    .    .    .    .    .    .    .    .    .    .    .    .    .    .    .    .    .    .    .    .    .    .    .    .    .    .    .    .    .    .    .    .    .    .    .    .    .    .    .    .    .    .    .    .    .    .    .    .    .    .    .    .    .    .    .    .    .    .    .    .    .    .    .    .    .    .    .    .    .    .    .    .    .  <47>   .    .    .    .    .   17    .    .    .    .    .    .    .    .    .    .    .    .    .    .    .    .    .    .    .    .    .    .    .    .    .    .    .    .    .    .    .    .    .    .    .    .    .    .    .    .    .    .    .    .    .    .    .    .    .    .    .    .    .    .    .    .    .    .    .    .    .    .    .    .    .    .    .    .    .    .    .    .    .    .    .    .    .    .    .    .    .    .    .    .    .    .    .    .    .    .    .    .    .    .    .    .    .    .    . |\n",
            "    JJT-HL |    .    .    .    .    .    .    .    .    .    .    .    .    .    .    .    .    .    .    .    .    .    .    .    .    .    .    .    .    .    .    .    .    .    .    .    .    .    .    .    .    .    .    .    .    .    .    .    .    .    .    .    .    .    .    .    .    .    .    .    .    .    .    .    .    .    .    .    .    .    .    .    .    .    .    .    .    .    .    .    .    .    .    .    .    .    .    .    .    .    .    .    .    .    .    .    .    .    .    .    .    .    1   <.>   .    .    .    .    2    .    .    .    .    .    .    .    .    .    .    .    .    .    .    .    .    .    .    .    .    .    .    .    .    .    .    .    .    .    .    .    .    .    .    .    .    .    .    .    .    .    .    .    .    .    .    .    .    .    .    .    .    .    .    .    .    .    .    .    .    .    .    .    .    .    .    .    .    .    .    .    .    .    .    .    .    .    .    .    .    .    .    .    .    .    .    .    .    .    .    .    .    .    .    .    .    .    .    . |\n",
            "        MD |    .    .    .    .    .    .    .    .    .    .    .    .    .    .    .    .    .    .    .    .    .    .    .    .    .    .    .    .    .    .    .    .    .    .    .    .    .    .    .    .    .    .    .    .    .    .    .    .    .    .    .    .    .    .    .    .    .    .    .    .    .    .    .    .    .    .    .    .    .    .    .    .    .    .    .    .    .    .    .    .    .    .    .    .    .    .    .    .    .    .    .    .    .    .    .    .    .    .    .    .    .    .    . <857>   .    7    .    2    .    .    .    .    .    .    .    .    .    .    .    .    .    .    .    .    .    .    .    .    .    .    .    .    .    .    .    .    .    .    .    .    .    .    .    .    .    .    .    .    .    .    .    .    .    .    .    .    .    .    .    .    .    .    .    .    .    .    .    .    .    .    .    .    .    .    .    .    .    .    .    .    1    .    .    .    .    .    .    .    .    .    .    .    .    .    .    .    .    .    .    .    .    .    .    .    .    .    . |\n",
            "       MD* |    .    .    .    .    .    .    .    .    .    .    .    .    .    .    .    .    .    .    .    .    .    .    .    .    .    .    .    .    .    .    .    .    .    .    .    .    .    .    .    .    .    .    .    .    .    .    .    .    .    .    .    .    .    .    .    .    .    .    .    .    .    .    .    .    .    .    .    .    .    .    .    .    .    .    .    .    .    .    .    .    .    .    .    .    .    .    .    .    .    .    .    .    .    .    .    .    .    .    .    .    .    .    .    .  <63>   .    .    .    .    .    .    .    .    .    .    .    .    .    .    .    .    .    .    .    .    .    .    .    .    .    .    .    .    .    .    .    .    .    .    .    .    .    .    .    .    .    .    .    .    .    .    .    .    .    .    .    .    .    .    .    .    .    .    .    .    .    .    .    .    .    .    .    .    .    .    .    .    .    .    .    .    .    .    .    .    .    .    .    .    .    .    .    .    .    .    .    .    .    .    .    .    .    .    .    .    .    . |\n",
            "     MD-HL |    .    .    .    .    .    .    .    .    .    .    .    .    .    .    .    .    .    .    .    .    .    .    .    .    .    .    .    .    .    .    .    .    .    .    .    .    .    .    .    .    .    .    .    .    .    .    .    .    .    .    .    .    .    .    .    .    .    .    .    .    .    .    .    .    .    .    .    .    .    .    .    .    .    .    .    .    .    .    .    .    .    .    .    .    .    .    .    .    .    .    .    .    .    .    .    .    .    .    .    .    .    .    .    3    .   <1>   .    .    .    .    .    .    .    .    .    .    .    .    .    .    .    .    .    .    .    .    .    .    .    .    .    .    .    .    .    .    .    .    .    .    .    .    .    .    .    .    .    .    .    .    .    .    .    .    .    .    .    .    .    .    .    .    .    .    .    .    .    .    .    .    .    .    .    .    .    .    .    .    .    .    .    .    .    .    .    .    .    .    .    .    .    .    .    .    .    .    .    .    .    .    .    .    .    .    .    .    . |\n",
            "     MD-TL |    .    .    .    .    .    .    .    .    .    .    .    .    .    .    .    .    .    .    .    .    .    .    .    .    .    .    .    .    .    .    .    .    .    .    .    .    .    .    .    .    .    .    .    .    .    .    .    .    .    .    .    .    .    .    .    .    .    .    .    .    .    .    .    .    .    .    .    .    .    .    .    .    .    .    .    .    .    .    .    .    .    .    .    .    .    .    .    .    .    .    .    .    .    .    .    .    .    .    .    .    .    .    .    .    .    1   <.>   .    .    .    .    .    .    .    .    .    .    .    .    .    .    .    .    .    .    .    .    .    .    .    .    .    .    .    .    .    .    .    .    .    .    .    .    .    .    .    .    .    .    .    .    .    .    .    .    .    .    .    .    .    .    .    .    .    .    .    .    .    .    .    .    .    .    .    .    .    .    .    .    .    .    .    .    .    .    .    .    .    .    .    .    .    .    .    .    .    .    .    .    .    .    .    .    .    .    .    . |\n",
            "        NN |    .    .    .    .    .    .    .    .    .    .    .    .    .    .    .    .    .    .    .    .    .    .    .    .    .    .    .    .    .    .    .    1    .    .    .    .    .    .    .    .    .    .    .    .    .    .    .    .    .    .    .    .    .    .    .    .    .    .    .    .    .    .    .    .    .    .    .    .    .    .    .    .    .    2    .    .    .    .    .    .    .    .    .    .    .    .    .    .    1    .    .    .   98    .    .    .    .    .    .    2    .    .    .    8    .    .    .<7317>   .    .    .    7   13    .    4    .    .    .    .    .    1    .    .    .    .    .    .    .    .    .    .    .    .    .    .    .    .    .    .    .    .    .    .    .    .    .    .    .    .    .    .    .    .    .    .    .    .    .    .    .    .    .    .    3    .    .    4    .    .    .    .    .    .    .    .    .    .    .    1    .  137    .    2    .    2    .   64    .    .    8    .    .    .    .    .    .    .    .    .    .    .    .    .    .    .    .    . |\n",
            "       NN$ |    .    .    .    .    .    .    .    .    .    .    .    .    .    .    .    .    .    .    .    .    .    .    .    .    .    .    .    .    .    .    .    .    .    .    .    .    .    .    .    .    .    .    .    .    .    .    .    .    .    .    .    .    .    .    .    .    .    .    .    .    .    .    .    .    .    .    .    .    .    .    .    .    .    .    .    .    .    .    .    .    .    .    .    .    .    .    .    .    .    .    .    .    .    .    .    .    .    .    .    .    .    .    .    .    .    .    .   36  <39>   .    .    .    .    .    .    .    .    .    .    .    .    .    .    .    .    .    .    .    .    .    .    .    .    .    .    .    .    .    .    .    .    .    .    .    .    .    .    .    .    .    .    .    .    .    .    .    .    .    .    .    .    .    .    .    .    .    .    .    .    .    .    .    .    .    .    .    .    .    .    .    .    .    .    .    .    .    .    .    .    .    .    .    .    .    .    .    .    .    .    .    .    .    .    .    .    .    . |\n",
            "    NN$-HL |    .    .    .    .    .    .    .    .    .    .    .    .    .    .    .    .    .    .    .    .    .    .    .    .    .    .    .    .    .    .    .    .    .    .    .    .    .    .    .    .    .    .    .    .    .    .    .    .    .    .    .    .    .    .    .    .    .    .    .    .    .    .    .    .    .    .    .    .    .    .    .    .    .    .    .    .    .    .    .    .    .    .    .    .    .    .    .    .    .    .    .    .    .    .    .    .    .    .    .    .    .    .    .    .    .    .    .    1    .   <.>   .    .    .    .    .    .    .    .    .    .    .    .    .    .    .    .    .    .    .    .    .    .    .    .    .    .    .    .    .    .    .    .    .    .    .    .    .    .    .    .    .    .    .    .    .    .    .    .    .    .    .    .    .    .    .    .    .    .    .    .    .    .    .    .    .    .    .    .    .    .    .    .    .    .    .    .    .    .    .    .    .    .    .    .    .    .    .    .    .    .    .    .    .    .    .    .    . |\n",
            "    NN$-TL |    .    .    .    .    .    .    .    .    .    .    .    .    .    .    .    .    .    .    .    .    .    .    .    .    .    .    .    .    .    .    .    .    .    .    .    .    .    .    .    .    .    .    .    .    .    .    .    .    .    .    .    .    .    .    .    .    .    .    .    .    .    .    .    .    .    .    .    .    .    .    .    .    .    .    .    .    .    .    .    .    .    .    .    .    .    .    .    .    .    .    .    .    .    .    .    .    .    .    .    .    .    .    .    .    .    .    .   16    .    .  <13>   .    .    .    .    .    .    .    .    .    .    .    .    .    .    .    .    .    .    .    .    .    .    .    .    .    .    .    .    .    .    .    .    .    .    .    .    .    .    .    .    .    .    .    .    .    .    .    .    .    .    .    .    .    .    .    .    .    .    .    .    .    .    .    .    .    .    .    .    .    .    .    .    .    .    .    .    .    .    .    .    .    .    .    .    .    .    .    .    .    .    .    .    .    .    .    . |\n",
            "     NN-HL |    .    .    .    .    .    .    .    .    .    .    .    .    .    .    .    .    .    .    .    .    .    .    .    .    .    .    .    .    .    .    .    .    .    .    .    .    .    .    .    .    .    .    .    .    .    .    .    .    .    .    .    .    .    .    .    .    .    .    .    .    .    .    .    .    .    .    .    .    .    .    .    .    .    .    .    .    .    .    .    .    .    .    .    .    .    .    .    .    .    .    .    .    4    .    .    .    .    .    .    .    .    .    .    .    .    .    .  176    .    .    .   <3>   7    .    .    .    .    .    .    .    .    .    .    .    .    .    .    .    .    .    .    .    .    .    .    .    .    .    .    .    .    .    .    .    .    .    .    .    .    .    .    .    .    .    .    .    .    .    .    .    .    .    .    .    .    .    .    .    .    .    .    .    .    .    .    .    .    .    .    .    7    .    .    .    .    .    .    .    .    1    .    .    .    .    .    .    .    .    .    .    .    .    .    .    .    .    . |\n",
            "     NN-TL |    .    .    .    .    .    .    .    .    .    .    .    .    .    .    .    .    .    .    .    .    .    .    .    .    .    .    .    .    .    .    .    .    .    .    .    .    .    .    .    .    .    .    .    .    .    .    .    .    .    .    1    .    .    .    .    .    .    .    .    .    .    .    .    .    .    .    .    .    .    .    .    .    .    .    .    .    .    .    .    .    .    .    .    .    .    .    .    .    .    .    .    .    .    .    1    .    .    .    .    .    .    .    .    .    .    .    .  248    .    .    .    6 <875>   1    .    .    .    .    .    .   18    .    .    .    .    .    1    .    .    .    .    .    .    .    .    .    .    .    .    .    .    .    .    .    .    .    .    .    .    .    .    .    .    .    .    .    .    .    .    .    .    .    .    .    .    .    .    .    .    .    .    .    .    .    .    .    .    .    .    .    .    .    .    .    .    .    1    .    .    .    .    .    .    .    .    .    .    .    .    .    .    .    .    .    .    .    . |\n",
            "  NN-TL-HL |    .    .    .    .    .    .    .    .    .    .    .    .    .    .    .    .    .    .    .    .    .    .    .    .    .    .    .    .    .    .    .    .    .    .    .    .    .    .    .    .    .    .    .    .    .    .    .    .    .    .    .    .    .    .    .    .    .    .    .    .    .    .    .    .    .    .    .    .    .    .    .    .    .    .    .    .    .    .    .    .    .    .    .    .    .    .    .    .    .    .    .    .    .    .    .    .    .    .    .    .    .    .    .    .    .    .    .    2    .    .    .    1    8   <.>   .    .    .    .    .    .    .    .    .    .    .    .    .    .    .    .    .    .    .    .    .    .    .    .    .    .    .    .    .    .    .    .    .    .    .    .    .    .    .    .    .    .    .    .    .    .    .    .    .    .    .    .    .    .    .    .    .    .    .    .    .    .    .    .    .    .    .    .    .    .    .    .    .    .    .    .    .    .    .    .    .    .    .    .    .    .    .    .    .    .    .    .    . |\n",
            "       NNS |    .    .    .    .    .    .    .    .    .    .    .    .    .    .    .    .    .    .    .    .    .    .    .    .    .    .    .    .    .    .    .    .    .    .    .    .    .    .    .    .    .    .    .    .    .    .    .    .    .    .    .    .    .    .    .    .    .    .    .    .    .    .    .    .    .    .    .    .    .    .    .    .    .    .    .    .    .    .    .    .    .    .    .    .    .    .    .    .    .    .    .    .    .    .    .    .    .    .    .    .    .    .    .    .    .    .    .  901    .    .    .    .    .    .<2019>   .    .   16    3    .    1    .    .    .    .    .    .    .    .    .    .    .    .    .    .    .    .    .    .    .    .    .    .    .    .    .    .    .    .    .    .    .    .    .    .    .    .    .    .    .    .    .    .    .    .    .    .    .    .    .    .    .    .    .    .    .    .    .    .    .    .    .    .    .    .    .    .    .    .    .    .    .    .   30    2    .    .    .    .    .    .    .    .    .    .    .    . |\n",
            "      NNS$ |    .    .    .    .    .    .    .    .    .    .    .    .    .    .    .    .    .    .    .    .    .    .    .    .    .    .    .    .    .    .    .    .    .    .    .    .    .    .    .    .    .    .    .    .    .    .    .    .    .    .    .    .    .    .    .    .    .    .    .    .    .    .    .    .    .    .    .    .    .    .    .    .    .    .    .    .    .    .    .    .    .    .    .    .    .    .    .    .    .    .    .    .    .    .    .    .    .    .    .    .    .    .    .    .    .    .    .   14    .    .    .    .    .    .    .   <7>   .    .    .    .    .    .    .    .    .    .    .    .    .    .    .    .    .    .    .    .    .    .    .    .    .    .    .    .    .    .    .    .    .    .    .    .    .    .    .    .    .    .    .    .    .    .    .    .    .    .    .    .    .    .    .    .    .    .    .    .    .    .    .    .    .    .    .    .    .    .    .    .    .    .    .    .    .    .    .    .    .    .    .    .    .    .    .    .    .    .    . |\n",
            "   NNS$-TL |    .    .    .    .    .    .    .    .    .    .    .    .    .    .    .    .    .    .    .    .    .    .    .    .    .    .    .    .    .    .    .    .    .    .    .    .    .    .    .    .    .    .    .    .    .    .    .    .    .    .    .    .    .    .    .    .    .    .    .    .    .    .    .    .    .    .    .    .    .    .    .    .    .    .    .    .    .    .    .    .    .    .    .    .    .    .    .    .    .    .    .    .    .    .    .    .    .    .    .    .    .    .    .    .    .    .    .    7    .    .    .    .    .    .    .    .   <1>   .    .    .    .    .    .    .    .    .    .    .    .    .    .    .    .    .    .    .    .    .    .    .    .    .    .    .    .    .    .    .    .    .    .    .    .    .    .    .    .    .    .    .    .    .    .    .    .    .    .    .    .    .    .    .    .    .    .    .    .    .    .    .    .    .    .    .    .    .    .    .    .    .    .    .    .    .    .    .    .    .    .    .    .    .    .    .    .    .    . |\n",
            "    NNS-HL |    .    .    .    .    .    .    .    .    .    .    .    .    .    .    .    .    .    .    .    .    .    .    .    .    .    .    .    .    .    .    .    .    .    .    .    .    .    .    .    .    .    .    .    .    .    .    .    .    .    .    .    .    .    .    .    .    .    .    .    .    .    .    .    .    .    .    .    .    .    .    .    .    .    .    .    .    .    .    .    .    .    .    .    .    .    .    .    .    .    .    .    .    .    .    .    .    .    .    .    .    .    .    .    .    .    .    .   23    .    .    .    .    .    .   22    .    .   <.>   1    .    .    .    .    .    .    .    .    .    .    .    .    .    .    .    .    .    .    .    .    .    .    .    .    .    .    .    .    .    .    .    .    .    .    .    .    .    .    .    .    .    .    .    .    .    .    .    .    .    .    .    .    .    .    .    .    .    .    .    .    .    .    .    .    .    .    .    .    .    .    .    .    .    .    4    .    .    .    .    .    .    .    .    .    .    .    .    . |\n",
            "    NNS-TL |    .    .    .    .    .    .    .    .    .    .    .    .    .    .    .    .    .    .    .    .    .    .    .    .    .    .    .    .    .    .    .    .    .    .    .    .    .    .    .    .    .    .    .    .    .    .    .    .    .    .    .    .    .    .    .    .    .    .    .    .    .    .    .    .    .    .    .    .    .    .    .    .    .    .    .    .    .    .    .    .    .    .    .    .    .    .    .    .    .    .    .    .    .    .    .    .    .    .    .    .    .    .    .    .    .    .    .   52    .    .    .    .    .    .    6    .    .    . <127>   .    .    .    .    .    .    .    .    1    .    .    .    .    .    .    .    .    .    .    .    .    .    .    .    .    .    .    .    .    .    .    .    .    .    .    .    .    .    .    .    .    .    .    .    .    .    .    .    .    .    .    .    .    .    .    .    .    .    .    .    .    .    .    .    .    .    .    .    .    .    .    .    .    .    .    .    .    .    .    .    .    .    .    .    .    .    .    . |\n",
            " NNS-TL-HL |    .    .    .    .    .    .    .    .    .    .    .    .    .    .    .    .    .    .    .    .    .    .    .    .    .    .    .    .    .    .    .    .    .    .    .    .    .    .    .    .    .    .    .    .    .    .    .    .    .    .    .    .    .    .    .    .    .    .    .    .    .    .    .    .    .    .    .    .    .    .    .    .    .    .    .    .    .    .    .    .    .    .    .    .    .    .    .    .    .    .    .    .    .    .    .    .    .    .    .    .    .    .    .    .    .    .    .    .    .    .    .    .    .    .    .    .    .    .    6   <.>   .    .    .    .    .    .    .    .    .    .    .    .    .    .    .    .    .    .    .    .    .    .    .    .    .    .    .    .    .    .    .    .    .    .    .    .    .    .    .    .    .    .    .    .    .    .    .    .    .    .    .    .    .    .    .    .    .    .    .    .    .    .    .    .    .    .    .    .    .    .    .    .    .    .    .    .    .    .    .    .    .    .    .    .    .    .    . |\n",
            "        NP |    .    .    .    .    .    .    .    .    .    .    .    .    1    .    .    .    .    .    .    .    .    .    .    .    .    .    .    .    .    .    .    .    .    .    .    .    .    .    .    .    .    .    .    .    .    .    .    .    .    .    .    .    .    .    .    .    .    .    .    .    .    .    .    .    .    .    .    .    .    .    .    .    .    .    .    .    .    .    .    .    .    .    .    .    .    .    .    .    .    .    .    .   17    .    2    .    .    .    .    .    .    .    .    .    .    .    .  623    .    .    .    .   13    .    .    .    .    .    .    .<1161>   .    .    .    .   10   57    .    .    .    .    .    .    .    .    .    .    .    .    .    .    .    .    .    .    .    .    .    .    .    .    .    .    .    .    .    .    .    .    .    .    .    .    .    .    .    .    .    .    .    .    .    .    .    .    .    .    .    .    .    .    .    .    .    .    .    .    .    .    .    .    .    .    .    .    .    .    .    .    .    .    .    .    .    .    .    . |\n",
            "       NP$ |    .    .    .    .    .    .    .    .    .    .    .    .    .    .    .    .    .    .    .    .    .    .    .    .    .    .    .    .    .    .    .    .    .    .    .    .    .    .    .    .    .    .    .    .    .    .    .    .    .    .    .    .    .    .    .    .    .    .    .    .    .    .    .    .    .    .    .    .    .    .    .    .    .    .    .    .    .    .    .    .    .    .    .    .    .    .    .    .    .    .    .    .    .    .    .    .    .    .    .    .    .    .    .    .    .    .    .  109    .    .    .    .    .    .    .    .    .    .    .    .    .  <47>   .    .    .    .    .    .    .    .    .    .    .    .    .    .    .    .    .    .    .    .    .    .    .    .    .    .    .    .    .    .    .    .    .    .    .    .    .    .    .    .    .    .    .    .    .    .    .    .    .    .    .    .    .    .    .    .    .    .    .    .    .    .    .    .    .    .    .    .    .    .    .    .    .    .    .    .    .    .    .    .    .    .    .    .    . |\n",
            "    NP$-HL |    .    .    .    .    .    .    .    .    .    .    .    .    .    .    .    .    .    .    .    .    .    .    .    .    .    .    .    .    .    .    .    .    .    .    .    .    .    .    .    .    .    .    .    .    .    .    .    .    .    .    .    .    .    .    .    .    .    .    .    .    .    .    .    .    .    .    .    .    .    .    .    .    .    .    .    .    .    .    .    .    .    .    .    .    .    .    .    .    .    .    .    .    .    .    .    .    .    .    .    .    .    .    .    .    .    .    .    4    .    .    .    .    .    .    .    .    .    .    .    .    .    .   <.>   .    .    .    .    .    .    .    .    .    .    .    .    .    .    .    .    .    .    .    .    .    .    .    .    .    .    .    .    .    .    .    .    .    .    .    .    .    .    .    .    .    .    .    .    .    .    .    .    .    .    .    .    .    .    .    .    .    .    .    .    .    .    .    .    .    .    .    .    .    .    .    .    .    .    .    .    .    .    .    .    .    .    .    . |\n",
            "    NP$-TL |    .    .    .    .    .    .    .    .    .    .    .    .    .    .    .    .    .    .    .    .    .    .    .    .    .    .    .    .    .    .    .    .    .    .    .    .    .    .    .    .    .    .    .    .    .    .    .    .    .    .    .    .    .    .    .    .    .    .    .    .    .    .    .    .    .    .    .    .    .    .    .    .    .    .    .    .    .    .    .    .    .    .    .    .    .    .    .    .    .    .    .    .    .    .    .    .    .    .    .    .    .    .    .    .    .    .    .    5    .    .    .    .    .    .    .    .    .    .    .    .    .    3    .   <.>   .    .    .    .    .    .    .    .    .    .    .    .    .    .    .    .    .    .    .    .    .    .    .    .    .    .    .    .    .    .    .    .    .    .    .    .    .    .    .    .    .    .    .    .    .    .    .    .    .    .    .    .    .    .    .    .    .    .    .    .    .    .    .    .    .    .    .    .    .    .    .    .    .    .    .    .    .    .    .    .    .    .    . |\n",
            "    NP+BEZ |    .    .    .    .    .    .    .    .    .    .    .    .    .    .    .    .    .    .    .    .    .    .    .    .    .    .    .    .    .    .    .    .    .    .    .    .    .    .    .    .    .    .    .    .    .    .    .    .    .    .    .    .    .    .    .    .    .    .    .    .    .    .    .    .    .    .    .    .    .    .    .    .    .    .    .    .    .    .    .    .    .    .    .    .    .    .    .    .    .    .    .    .    .    .    .    .    .    .    .    .    .    .    .    .    .    .    .    1    .    .    .    .    .    .    .    .    .    .    .    .    .    .    .    .   <.>   .    .    .    .    .    .    .    .    .    .    .    .    .    .    .    .    .    .    .    .    .    .    .    .    .    .    .    .    .    .    .    .    .    .    .    .    .    .    .    .    .    .    .    .    .    .    .    .    .    .    .    .    .    .    .    .    .    .    .    .    .    .    .    .    .    .    .    .    .    .    .    .    .    .    .    .    .    .    .    .    .    . |\n",
            "     NP-HL |    .    .    .    .    .    .    .    .    .    .    .    .    .    .    .    .    .    .    .    .    .    .    .    .    .    .    .    .    .    .    .    .    .    .    .    .    .    .    .    .    .    .    .    .    .    .    .    .    .    .    .    .    .    .    .    .    .    .    .    .    .    .    .    .    .    .    .    .    .    .    .    .    .    .    .    .    .    .    .    .    .    .    .    .    .    .    .    .    .    .    .    .    1    .    .    .    .    .    .    .    .    .    .    .    .    .    .   32    .    .    .    .    1    .    .    .    .    .    .    .   33    .    .    .    .   <5>  11    .    .    .    .    .    .    .    .    .    .    .    .    .    .    .    .    .    .    .    .    .    .    .    .    .    .    .    .    .    .    .    .    .    .    .    .    .    .    .    .    .    .    .    .    .    .    .    .    .    .    .    .    .    .    .    .    .    .    .    .    .    .    .    .    .    .    .    .    .    .    .    .    .    .    .    .    .    .    .    . |\n",
            "     NP-TL |    .    .    .    .    .    .    .    .    .    .    .    .    .    .    .    .    .    .    .    .    .    .    .    2    .    .    .    .    .    .    .    .    .    .    .    .    .    .    .    .    .    .    .    .    .    .    .    .    .    .    .    .    .    .    .    .    .    .    .    .    .    .    .    .    .    .    .    .    .    .    .    .    .    .    .    .    .    .    .    .    .    .    .    .    .    .    .    .    .    .    .    .    4    .    1    .    .    .    .    .    .    .    .    .    .    .    .   71    .    .    .    .    .    .    .    .    .    .    .    .  130    .    .    .    .    2 <121>   .    .    .    .    .    .    .    .    .    .    .    .    .    .    .    .    .    .    .    .    .    .    .    .    .    .    .    .    .    .    .    .    .    .    .    .    .    .    .    .    .    .    .    .    .    .    .    .    .    .    .    .    .    .    .    .    .    .    .    .    .    .    .    .    .    .    .    .    .    .    .    .    .    .    .    .    .    .    .    . |\n",
            "       NPS |    .    .    .    .    .    .    .    .    .    .    .    .    .    .    .    .    .    .    .    .    .    .    .    .    .    .    .    .    .    .    .    .    .    .    .    .    .    .    .    .    .    .    .    .    .    .    .    .    .    .    .    .    .    .    .    .    .    .    .    .    .    .    .    .    .    .    .    .    .    .    .    .    .    .    .    .    .    .    .    .    .    .    .    .    .    .    .    .    .    .    .    .   12    .    .    .    .    .    .    .    .    .    .    .    .    .    .   52    .    .    .    .    .    .    .    .    .    .    .    .    .    .    .    .    .    .    .  <50>   .    .    .    .    .    .    .    .    .    .    .    .    .    .    .    .    .    .    .    .    .    .    .    .    .    .    .    .    .    .    .    .    .    .    .    .    .    .    .    .    .    .    .    .    .    .    .    .    .    .    .    .    .    .    .    .    .    .    .    .    .    .    .    .    .    .    .    .    .    .    .    .    .    .    .    .    .    .    . |\n",
            "   NPS$-HL |    .    .    .    .    .    .    .    .    .    .    .    .    .    .    .    .    .    .    .    .    .    .    .    .    .    .    .    .    .    .    .    .    .    .    .    .    .    .    .    .    .    .    .    .    .    .    .    .    .    .    .    .    .    .    .    .    .    .    .    .    .    .    .    .    .    .    .    .    .    .    .    .    .    .    .    .    .    .    .    .    .    .    .    .    .    .    .    .    .    .    .    .    .    .    .    .    .    .    .    .    .    .    .    .    .    .    .    1    .    .    .    .    .    .    .    .    .    .    .    .    .    .    .    .    .    .    .    .   <.>   .    .    .    .    .    .    .    .    .    .    .    .    .    .    .    .    .    .    .    .    .    .    .    .    .    .    .    .    .    .    .    .    .    .    .    .    .    .    .    .    .    .    .    .    .    .    .    .    .    .    .    .    .    .    .    .    .    .    .    .    .    .    .    .    .    .    .    .    .    .    .    .    .    .    .    .    .    . |\n",
            "    NPS-HL |    .    .    .    .    .    .    .    .    .    .    .    .    .    .    .    .    .    .    .    .    .    .    .    .    .    .    .    .    .    .    .    .    .    .    .    .    .    .    .    .    .    .    .    .    .    .    .    .    .    .    .    .    .    .    .    .    .    .    .    .    .    .    .    .    .    .    .    .    .    .    .    .    .    .    .    .    .    .    .    .    .    .    .    .    .    .    .    .    .    .    .    .    .    .    .    .    .    .    .    .    .    .    .    .    .    .    .    2    .    .    .    .    .    .    .    .    .    .    .    .    .    .    .    .    .    .    .    .    .   <.>   .    .    .    .    .    .    .    .    .    .    .    .    .    .    .    .    .    .    .    .    .    .    .    .    .    .    .    .    .    .    .    .    .    .    .    .    .    .    .    .    .    .    .    .    .    .    .    .    .    .    .    .    .    .    .    .    .    .    .    .    .    .    .    .    .    .    .    .    .    .    .    .    .    .    .    .    . |\n",
            "    NPS-TL |    .    .    .    .    .    .    .    .    .    .    .    .    .    .    .    .    .    .    .    .    .    .    .    .    .    .    .    .    .    .    .    .    .    .    .    .    .    .    .    .    .    .    .    .    .    .    .    .    .    .    .    .    .    .    .    .    .    .    .    .    .    .    .    .    .    .    .    .    .    .    .    .    .    .    .    .    .    .    .    .    .    .    .    .    .    .    .    .    .    .    .    .    .    .    .    .    .    .    .    .    .    .    .    .    .    .    .    1    .    .    .    .    .    .    .    .    .    .    .    .    .    .    .    .    .    .    .    1    .    .   <.>   .    .    .    .    .    .    .    .    .    .    .    .    .    .    .    .    .    .    .    .    .    .    .    .    .    .    .    .    .    .    .    .    .    .    .    .    .    .    .    .    .    .    .    .    .    .    .    .    .    .    .    .    .    .    .    .    .    .    .    .    .    .    .    .    .    .    .    .    .    .    .    .    .    .    .    . |\n",
            "        NR |    .    .    .    .    .    .    .    .    .    .    .    .    .    .    .    .    .    .    .    .    .    .    .    .    .    .    .    .    .    .    .    .    .    .    .    .    .    .    .    .    .    .    .    .    .    .    .    .    .    .    .    .    .    .    .    .    .    .    .    .    .    .    .    .    .    .    .    .    .    .    .    .    .    .    .    .    .    .    .    .    .    .    .    .    .    .    .    .    .    .    .    .    3    .    1    .    .    .    .    .    .    .    .    .    .    .    .    5    .    .    .    .    .    .    .    .    .    .    .    .    .    .    .    .    .    .    .    .    .    .    .  <43>   .    .    .    .    .    .    .    .    .    .    .    .    .    .    .    .    .    .    .    .    .    .    .    .    .    .    .    .    .    .    .    .    .    .    .    .    .    .    .    .    .    .    .    .    .    .    .    .    .    .    .    .    .    .    .    .    .    .    .    .    .    .    .    .    .    .    .    .    .    .    .    .    .    .    . |\n",
            "       NR$ |    .    .    .    .    .    .    .    .    .    .    .    .    .    .    .    .    .    .    .    .    .    .    .    .    .    .    .    .    .    .    .    .    .    .    .    .    .    .    .    .    .    .    .    .    .    .    .    .    .    .    .    .    .    .    .    .    .    .    .    .    .    .    .    .    .    .    .    .    .    .    .    .    .    .    .    .    .    .    .    .    .    .    .    .    .    .    .    .    .    .    .    .    .    .    .    .    .    .    .    .    .    .    .    .    .    .    .    .    .    .    .    .    .    .    .    .    .    .    .    .    .    .    .    .    .    .    .    .    .    .    .    .   <3>   .    .    .    .    .    .    .    .    .    .    .    .    .    .    .    .    .    .    .    .    .    .    .    .    .    .    .    .    .    .    .    .    .    .    .    .    .    .    .    .    .    .    .    .    .    .    .    .    .    .    .    .    .    .    .    .    .    .    .    .    .    .    .    .    .    .    .    .    .    .    .    .    .    . |\n",
            "    NR$-TL |    .    .    .    .    .    .    .    .    .    .    .    .    .    .    .    .    .    .    .    .    .    .    .    .    .    .    .    .    .    .    .    .    .    .    .    .    .    .    .    .    .    .    .    .    .    .    .    .    .    .    .    .    .    .    .    .    .    .    .    .    .    .    .    .    .    .    .    .    .    .    .    .    .    .    .    .    .    .    .    .    .    .    .    .    .    .    .    .    .    .    .    .    .    .    .    .    .    .    .    .    .    .    .    .    .    .    .    .    .    .    .    .    .    .    .    .    .    .    .    .    .    .    .    .    .    .    .    .    .    .    .    .    3   <.>   .    .    .    .    .    .    .    .    .    .    .    .    .    .    .    .    .    .    .    .    .    .    .    .    .    .    .    .    .    .    .    .    .    .    .    .    .    .    .    .    .    .    .    .    .    .    .    .    .    .    .    .    .    .    .    .    .    .    .    .    .    .    .    .    .    .    .    .    .    .    .    .    . |\n",
            "     NR-TL |    .    .    .    .    .    .    .    .    .    .    .    .    .    .    .    .    .    .    .    .    .    .    .    .    .    .    .    .    .    .    .    .    .    .    .    .    .    .    .    .    .    .    .    .    .    .    .    .    .    .    .    .    .    .    .    .    .    .    .    .    .    .    .    .    .    .    .    .    .    .    .    .    .    .    .    .    .    .    .    .    .    .    .    .    .    .    .    .    .    .    .    .    .    .   10    .    .    .    .    .    .    .    .    .    .    .    .    .    .    .    .    .    1    .    .    .    .    .    .    .    .    .    .    .    .    .    .    .    .    .    .    .    .    .  <21>   .    .    .    .    .    .    .    .    .    .    .    .    .    .    .    .    .    .    .    .    .    .    .    .    .    .    .    .    .    .    .    .    .    .    .    .    .    .    .    .    .    .    .    .    .    .    .    .    .    .    .    .    .    .    .    .    .    .    .    .    .    .    .    .    .    .    .    .    .    .    .    . |\n",
            "       NRS |    .    .    .    .    .    .    .    .    .    .    .    .    .    .    .    .    .    .    .    .    .    .    .    .    .    .    .    .    .    .    .    .    .    .    .    .    .    .    .    .    .    .    .    .    .    .    .    .    .    .    .    .    .    .    .    .    .    .    .    .    .    .    .    .    .    .    .    .    .    .    .    .    .    .    .    .    .    .    .    .    .    .    .    .    .    .    .    .    .    .    .    .    .    .    .    .    .    .    .    .    .    .    .    .    .    .    .    1    .    .    .    .    .    .    .    .    .    .    .    .    .    .    .    .    .    .    .    .    .    .    .    .    .    .    .   <.>   .    .    .    .    .    .    .    .    .    .    .    .    .    .    .    .    .    .    .    .    .    .    .    .    .    .    .    .    .    .    .    .    .    .    .    .    .    .    .    .    .    .    .    .    .    .    .    .    .    .    .    .    .    .    .    .    .    .    .    .    .    .    .    .    .    .    .    .    .    .    . |\n",
            "        OD |    .    .    .    .    .    .    .    .    .    .    .    .    .    .    .    .    .    .    .    .    .    .    .    .    .    .    .    .    .    .    .    .    .    .    .    .    .    .    .    .    .    .    .    .    .    .    .    .    .    .    .    .    .    .    .    .    .    .    .    .    .    .    .    .    .    .    .    .    .    .    .    .    .    .    .    .    .    .    .    .    .    .    .    .    .    .    .    .    .    .    .    .    .    .    .    .    .    .    .    .    .    .    .    .    .    .    .    6    .    .    .    .    .    .    .    .    .    .    .    .    .    .    .    .    .    .    .    .    .    .    .    .    .    .    .    .  <83>   .    .    .    .    .    .    .    .    .    .    .    .    .    .    .    .    .    .    .    .    .    .    .    .    .    .    .    .    .    3    .    5    .    .    .    .    .    .    .    .    .    .    .    .    .    .    .    .    .    .    .    .    .    .    .    .    .    .    .    .    .    .    .    .    .    .    .    .    .    . |\n",
            "     OD-TL |    .    .    .    .    .    .    .    .    .    .    .    .    .    .    .    .    .    .    .    .    .    .    .    .    .    .    .    .    .    .    .    .    .    .    .    .    .    .    .    .    .    .    .    .    .    .    .    .    .    .    .    .    .    .    .    .    .    .    .    .    .    .    .    .    .    .    .    .    .    .    .    .    .    .    .    .    .    .    .    .    .    .    .    .    .    .    .    .    .    .    .    .    .    .    .    .    .    .    .    .    .    .    .    .    .    .    .   12    .    .    .    .    .    .    .    .    .    .    .    .    .    .    .    .    .    .    .    .    .    .    .    .    .    .    .    .    2   <2>   .    .    .    .    .    .    .    .    .    .    .    .    .    .    .    .    .    .    .    .    .    .    .    .    .    .    .    .    .    .    .    .    .    .    .    .    .    .    .    .    .    .    .    .    .    .    .    .    .    .    .    .    .    .    .    .    .    .    .    .    .    .    .    .    .    .    .    .    . |\n",
            "        PN |    .    .    .    .    .    .    .    .    .    .    .    .    .    .    .    .    .    .    .    .    .    .    .    .    .    .    .    .    .    .    .    .    .    .    .    .    .    .    .    .    .    .    .    .    .   20    .    .    .    .    .    .    .    .    .    .    .    .    .    .    .    .    .    .    .    .    .    .    .    .    .    .    .    .    .    .    .    .    .    .    .    .    .    .    .    .    .    .    .    .    .    .    .    .    .    .    .    .    .    .    .    .    .    .    .    .    .    3    .    .    .    .    .    .    .    .    .    .    .    .    .    .    .    .    .    .    .    .    .    .    .    .    .    .    .    .    .    .  <84>   .    .    .    .    .    .    .    .    .    .    .    .    .    .    .    .    .    .    .    .    .    .    .    .    .    .    .    .    .    .    .    .    .    .    .    .    .    .    .    .    .    .    .    .    .    .    .    .    .    .    .    .    .    .    .    .    .    .    .    .    .    .    .    .    .    .    .    . |\n",
            "       PN$ |    .    .    .    .    .    .    .    .    .    .    .    .    .    .    .    .    .    .    .    .    .    .    .    .    .    .    .    .    .    .    .    .    .    .    .    .    .    .    .    .    .    .    .    .    .    .    .    .    .    .    .    .    .    .    .    .    .    .    .    .    .    .    .    .    .    .    .    .    .    .    .    .    .    .    .    .    .    .    .    .    .    .    .    .    .    .    .    .    .    .    .    .    .    .    .    .    .    .    .    .    .    .    .    .    .    .    .    1    .    .    .    .    .    .    .    .    .    .    .    .    .    .    .    .    .    .    .    .    .    .    .    .    .    .    .    .    .    .    .   <1>   .    .    .    .    .    .    .    .    .    .    .    .    .    .    .    .    .    .    .    .    .    .    .    .    .    .    .    .    .    .    .    .    .    .    .    .    .    .    .    .    .    .    .    .    .    .    .    .    .    .    .    .    .    .    .    .    .    .    .    .    .    .    .    .    .    .    . |\n",
            "     PN-HL |    .    .    .    .    .    .    .    .    .    .    .    .    .    .    .    .    .    .    .    .    .    .    .    .    .    .    .    .    .    .    .    .    .    .    .    .    .    .    .    .    .    .    .    .    .    .    .    .    .    .    .    .    .    .    .    .    .    .    .    .    .    .    .    .    .    .    .    .    .    .    .    .    .    .    .    .    .    .    .    .    .    .    .    .    .    .    .    .    .    .    .    .    .    .    .    .    .    .    .    .    .    .    .    .    .    .    .    .    .    .    .    .    .    .    .    .    .    .    .    .    .    .    .    .    .    .    .    .    .    .    .    .    .    .    .    .    .    .    1    .   <.>   .    .    .    .    .    .    .    .    .    .    .    .    .    .    .    .    .    .    .    .    .    .    .    .    .    .    .    .    .    .    .    .    .    .    .    .    .    .    .    .    .    .    .    .    .    .    .    .    .    .    .    .    .    .    .    .    .    .    .    .    .    .    .    .    .    . |\n",
            "       PP$ |    .    .    .    .    .    .    .    .    .    .    .    .    .    .    .    .    .    .    .    .    .    .    .    .    .    .    .    .    .    .    .    .    .    .    .    .    .    .    .    .    .    .    .    .    .    .    .    .    .    .    .    .    .    .    .    .    .    .    .    .    .    .    .    .    .    .    .    .    .    .    .    .    .    .    .    .    .    .    .    .    .    .    .    .    .    .    .    .    .    .    .    .    .    .    .    .    .    .    .    .    .    .    .    .    .    .    .    4    .    .    .    .    .    .    .    .    .    .    .    .    .    .    .    .    .    .    .    .    .    .    .    .    .    .    .    .    .    .    .    .    . <762>   .    .    .    .    .    .    5    .    .    .    .    .    .    .    .    .    .    .    .    .    .    .    .    .    .    .    .    .    .    .    .    .    .    .    .    .    .    .    .    .    .    .    .    .    .    .    .    .    .    .    .    .    .    .    .    .    .    .    .    .    .    .    .    .    . |\n",
            "      PP$$ |    .    .    .    .    .    .    .    .    .    .    .    .    .    .    .    .    .    .    .    .    .    .    .    .    .    .    .    .    .    .    .    .    .    .    .    .    .    .    .    .    .    .    .    .    .    .    .    .    .    .    .    .    .    .    .    .    .    .    .    .    .    .    .    .    .    .    .    .    .    .    .    .    .    .    .    .    .    .    .    .    .    .    .    .    .    .    .    .    .    .    .    .    .    .    .    .    .    .    .    .    .    .    .    .    .    .    .    5    .    .    .    .    .    .    .    .    .    .    .    .    .    .    .    .    .    .    .    .    .    .    .    .    .    .    .    .    .    .    .    .    .    1   <4>   .    .    .    .    .    .    .    .    .    .    .    .    .    .    .    .    .    .    .    .    .    .    .    .    .    .    .    .    .    .    .    .    .    .    .    .    .    .    .    .    .    .    .    .    .    .    .    .    .    .    .    .    .    .    .    .    .    .    .    .    .    .    .    . |\n",
            "    PP$-HL |    .    .    .    .    .    .    .    .    .    .    .    .    .    .    .    .    .    .    .    .    .    .    .    .    .    .    .    .    .    .    .    .    .    .    .    .    .    .    .    .    .    .    .    .    .    .    .    .    .    .    .    .    .    .    .    .    .    .    .    .    .    .    .    .    .    .    .    .    .    .    .    .    .    .    .    .    .    .    .    .    .    .    .    .    .    .    .    .    .    .    .    .    .    .    .    .    .    .    .    .    .    .    .    .    .    .    .    .    .    .    .    .    .    .    .    .    .    .    .    .    .    .    .    .    .    .    .    .    .    .    .    .    .    .    .    .    .    .    .    .    .    1    .   <.>   .    .    .    .    .    .    .    .    .    .    .    .    .    .    .    .    .    .    .    .    .    .    .    .    .    .    .    .    .    .    .    .    .    .    .    .    .    .    .    .    .    .    .    .    .    .    .    .    .    .    .    .    .    .    .    .    .    .    .    .    .    .    . |\n",
            "    PP$-TL |    .    .    .    .    .    .    .    .    .    .    .    .    .    .    .    .    .    .    .    .    .    .    .    .    .    .    .    .    .    .    .    .    .    .    .    .    .    .    .    .    .    .    .    .    .    .    .    .    .    .    .    .    .    .    .    .    .    .    .    .    .    .    .    .    .    .    .    .    .    .    .    .    .    .    .    .    .    .    .    .    .    .    .    .    .    .    .    .    .    .    .    .    .    .    .    .    .    .    .    .    .    .    .    .    .    .    .    .    .    .    .    .    .    .    .    .    .    .    .    .    .    .    .    .    .    .    .    .    .    .    .    .    .    .    .    .    .    .    .    .    .    4    .    .   <.>   .    .    .    .    .    .    .    .    .    .    .    .    .    .    .    .    .    .    .    .    .    .    .    .    .    .    .    .    .    .    .    .    .    .    .    .    .    .    .    .    .    .    .    .    .    .    .    .    .    .    .    .    .    .    .    .    .    .    .    .    .    . |\n",
            "       PPL |    .    .    .    .    .    .    .    .    .    .    .    .    .    .    .    .    .    .    .    .    .    .    .    .    .    .    .    .    .    .    .    .    .    .    .    .    .    .    .    .    .    .    .    .    .    .    .    .    .    .    .    .    .    .    .    .    .    .    .    .    .    .    .    .    .    .    .    .    .    .    .    .    .    .    .    .    .    .    .    .    .    .    .    .    .    .    .    .    .    .    .    .    .    .    .    .    .    .    .    .    .    .    .    .    .    .    .    .    .    .    .    .    .    .    .    .    .    .    .    .    .    .    .    .    .    .    .    .    .    .    .    .    .    .    .    .    .    .    .    .    .    .    .    .    .  <56>   .    .    .    .    .    .    .    .    .    .    .    .    .    .    .    .    .    .    .    .    .    .    .    .    .    .    .    .    .    .    .    .    .    .    .    .    .    .    .    .    .    .    .    .    .    .    .    .    .    .    .    .    .    .    .    .    .    .    .    .    . |\n",
            "    PPL-HL |    .    .    .    .    .    .    .    .    .    .    .    .    .    .    .    .    .    .    .    .    .    .    .    .    .    .    .    .    .    .    .    .    .    .    .    .    .    .    .    .    .    .    .    .    .    .    .    .    .    .    .    .    .    .    .    .    .    .    .    .    .    .    .    .    .    .    .    .    .    .    .    .    .    .    .    .    .    .    .    .    .    .    .    .    .    .    .    .    .    .    .    .    .    .    .    .    .    .    .    .    .    .    .    .    .    .    .    .    .    .    .    .    .    .    .    .    .    .    .    .    .    .    .    .    .    .    .    .    .    .    .    .    .    .    .    .    .    .    .    .    .    .    .    .    .    1   <.>   .    .    .    .    .    .    .    .    .    .    .    .    .    .    .    .    .    .    .    .    .    .    .    .    .    .    .    .    .    .    .    .    .    .    .    .    .    .    .    .    .    .    .    .    .    .    .    .    .    .    .    .    .    .    .    .    .    .    .    . |\n",
            "      PPLS |    .    .    .    .    .    .    .    .    .    .    .    .    .    .    .    .    .    .    .    .    .    .    .    .    .    .    .    .    .    .    .    .    .    .    .    .    .    .    .    .    .    .    .    .    .    .    .    .    .    .    .    .    .    .    .    .    .    .    .    .    .    .    .    .    .    .    .    .    .    .    .    .    .    .    .    .    .    .    .    .    .    .    .    .    .    .    .    .    .    .    .    .    .    .    .    .    .    .    .    .    .    .    .    .    .    .    .    .    .    .    .    .    .    .    .    .    .    .    .    .    .    .    .    .    .    .    .    .    .    .    .    .    .    .    .    .    .    .    .    .    .    .    .    .    .    .    .  <26>   .    .    .    .    .    .    .    .    .    .    .    .    .    .    .    .    .    .    .    .    .    .    .    .    .    .    .    .    .    .    .    .    .    .    .    .    .    .    .    .    .    .    .    .    .    .    .    .    .    .    .    .    .    .    .    .    .    .    . |\n",
            "       PPO |    .    .    .    .    .    .    .    .    .    .    .    .    .    .    .    .    .    .    .    .    .    .    .    .    .    .    .    .    .    .    .    .    .    .    .    .    .    .    .    .    .    .    .    .    .    .    .    .    .    .    .    .    .    .    .    .    .    .    .    .    .    .    .    .    .    .    .    .    .    .    .    .    .    .    .    .    .    .    .    .    .    .    .    .    .    .    .    .    .    .    .    .    .    .    .    .    .    .    .    .    .    .    .    .    .    .    .    1    .    .    .    .    .    .    .    .    .    .    .    .    .    .    .    .    .    .    .    .    .    .    .    .    .    .    .    .    .    .    .    .    .    9    .    .    .    .    .    . <403>   .    .   28    .    .    .   12    .    .    .    .    .    .    .    .    .    .    .    .    .    .    .    .    .    .    .    .    .    .    .    .    .    .    .    .    .    .    .    .    .    .    .    .    .    .    .    .    .    .    .    .    .    .    .    .    .    .    . |\n",
            "    PPO-HL |    .    .    .    .    .    .    .    .    .    .    .    .    .    .    .    .    .    .    .    .    .    .    .    .    .    .    .    .    .    .    .    .    .    .    .    .    .    .    .    .    .    .    .    .    .    .    .    .    .    .    .    .    .    .    .    .    .    .    .    .    .    .    .    .    .    .    .    .    .    .    .    .    .    .    .    .    .    .    .    .    .    .    .    .    .    .    .    .    .    .    .    .    .    .    .    .    .    .    .    .    .    .    .    .    .    .    .    .    .    .    .    .    .    .    .    .    .    .    .    .    .    .    .    .    .    .    .    .    .    .    .    .    .    .    .    .    .    .    .    .    .    .    .    .    .    .    .    .    2   <.>   .    .    .    .    .    .    .    .    .    .    .    .    .    .    .    .    .    .    .    .    .    .    .    .    .    .    .    .    .    .    .    .    .    .    .    .    .    .    .    .    .    .    .    .    .    .    .    .    .    .    .    .    .    .    .    .    . |\n",
            "    PPO-TL |    .    .    .    .    .    .    .    .    .    .    .    .    .    .    .    .    .    .    .    .    .    .    .    .    .    .    .    .    .    .    .    .    .    .    .    .    .    .    .    .    .    .    .    .    .    .    .    .    .    .    .    .    .    .    .    .    .    .    .    .    .    .    .    .    .    .    .    .    .    .    .    .    .    .    .    .    .    .    .    .    .    .    .    .    .    .    .    .    .    .    .    .    .    .    .    .    .    .    .    .    .    .    .    .    .    .    .    .    .    .    .    .    .    .    .    .    .    .    .    .    .    .    .    .    .    .    .    .    .    .    .    .    .    .    .    .    .    .    .    .    .    .    .    .    .    .    .    .    2    .   <.>   .    .    .    .    .    .    .    .    .    .    .    .    .    .    .    .    .    .    .    .    .    .    .    .    .    .    .    .    .    .    .    .    .    .    .    .    .    .    .    .    .    .    .    .    .    .    .    .    .    .    .    .    .    .    .    . |\n",
            "       PPS |    .    .    .    .    .    .    .    .    .    .    .    .    .    .    .    .    .    .    .    .    .    .    .    .    .    .    .    .    .    .    .    .    .    .    .    .    .    .    .    .    .    .    .    .    .    .    .    .    .    .    .    .    .    .    .    .    .    .    .    .    .    .    .    .    .    .    .    .    .    .    .    .    .    .    .    .    .    .    .    .    .    .    .    .    .    .    .    .    .    .    .    .    .    .    .    .    .    .    .    .    .    .    .    .    .    .    .    .    .    .    .    .    .    .    .    .    .    .    .    .    .    .    .    .    .    .    .    .    .    .    .    .    .    .    .    .    .    .    .    .    .    .    .    .    .    .    .    .   20    .    . <762>   .    .    .    .    .    .    .    .    .    .    .    .    .    .    .    .    .    .    .    .    .    .    .    .    .    .    .    .    .    .    .    .    .    .    .    .    .    .    .    .    .    .    .    .    .    .    .    .    .    .    .    .    .    .    . |\n",
            "   PPS+BEZ |    .    .    .    .    .    .    .    .    .    .    .    .    .    .    .    .    .    .    .    .    .    .    .    .    .    .    .    .    .    .    .    .    .    .    .    .    .    .    .    .    .    .    .    .    .    .    .    .    .    .    .    .    .    .    .    .    .    .    .    .    .    .    .    .    .    .    .    .    .    .    .    .    .    .    .    .    .    .    .    .    .    .    .    .    .    .    .    .    .    .    .    .    .    .    .    .    .    .    .    .    .    .    .    .    .    .    .    1    .    .    .    .    .    .    .    .    .    .    .    .    .    .    .    .    .    .    .    .    .    .    .    .    .    .    .    .    .    .    .    .    .    .    .    .    .    .    .    .    .    .    .    .  <22>   .    .    .    .    .    .    .    .    .    .    .    .    .    .    .    .    .    .    .    .    .    .    .    .    .    .    .    .    .    .    .    .    .    .    .    .    .    .    .    .    .    .    .    .    .    .    .    .    .    .    .    .    .    . |\n",
            "   PPS+HVZ |    .    .    .    .    .    .    .    .    .    .    .    .    .    .    .    .    .    .    .    .    .    .    .    .    .    .    .    .    .    .    .    .    .    .    .    .    .    .    .    .    .    .    .    .    .    .    .    .    .    .    .    .    .    .    .    .    .    .    .    .    .    .    .    .    .    .    .    .    .    .    .    .    .    .    .    .    .    .    .    .    .    .    .    .    .    .    .    .    .    .    .    .    .    .    .    .    .    .    .    .    .    .    .    .    .    .    .    .    .    .    .    .    .    .    .    .    .    .    .    .    .    .    .    .    .    .    .    .    .    .    .    .    .    .    .    .    .    .    .    .    .    .    .    .    .    .    .    .    .    .    .    .    3   <.>   .    .    .    .    .    .    .    .    .    .    .    .    .    .    .    .    .    .    .    .    .    .    .    .    .    .    .    .    .    .    .    .    .    .    .    .    .    .    .    .    .    .    .    .    .    .    .    .    .    .    .    .    . |\n",
            "    PPS+MD |    .    .    .    .    .    .    .    .    .    .    .    .    .    .    .    .    .    .    .    .    .    .    .    .    .    .    .    .    .    .    .    .    .    .    .    .    .    .    .    .    .    .    .    .    .    .    .    .    .    .    .    .    .    .    .    .    .    .    .    .    .    .    .    .    .    .    .    .    .    .    .    .    .    .    .    .    .    .    .    .    .    .    .    .    .    .    .    .    .    .    .    .    .    .    .    .    .    .    .    .    .    .    .    .    .    .    .    .    .    .    .    .    .    .    .    .    .    .    .    .    .    .    .    .    .    .    .    .    .    .    .    .    .    .    .    .    .    .    .    .    .    .    .    .    .    .    .    .    .    .    .    .    .    .   <2>   .    .    .    .    .    .    .    .    .    .    .    .    .    .    .    .    .    .    .    .    .    .    .    .    .    .    .    .    .    .    .    .    .    .    .    .    .    .    .    .    .    .    .    .    .    .    .    .    .    .    .    . |\n",
            "      PPSS |    .    .    .    .    .    .    .    .    .    .    .    .    .    .    .    .    .    .    .    .    .    .    .    .    .    .    .    .    .    .    .    .    .    .    .    .    .    .    .    .    .    .    .    .    .    .    .    .    .    .    .    .    .    .    .    .    .    .    .    .    .    .    .    .    .    .    .    .    .    .    .    .    .    .    .    .    .    .    .    .    .    .    .    .    .    .    .    .    .    .    .    .    .    .    .    .    .    .    .    .    .    .    .    .    .    .    .    1    .    .    .    .    .    .    .    .    .    .    .    .    .    .    .    .    .    .    .    .    .    .    .    .    .    .    .    .    .    .    .    .    .    .    .    .    .    .    .    .    4    .    .    .    .    .    . <668>   .    .    .    .    .    .    .    .    .    .    .    .    .    .    .    .    .    .    .    .    .    .    .    .    .    .    .    .    .    .    .    .    .    .    .    .    .    .    .    .    .    .    .    .    .    .    .    .    .    .    . |\n",
            "  PPSS+BEM |    .    .    .    .    .    .    .    .    .    .    .    .    .    .    .    .    .    .    .    .    .    .    .    .    .    .    .    .    .    .    .    .    .    .    .    .    .    .    .    .    .    .    .    .    .    .    .    .    .    .    .    .    .    .    .    .    .    .    .    .    .    .    .    .    .    .    .    .    .    .    .    .    .    .    .    .    .    .    .    .    .    .    .    .    .    .    .    .    .    .    .    .    .    .    .    .    .    .    .    .    .    .    .    .    .    .    .    .    .    .    .    .    .    .    .    .    .    .    .    .    .    .    .    .    .    .    .    .    .    .    .    .    .    .    .    .    .    .    .    .    .    .    .    .    .    .    .    .    .    .    .    .    .    .    .    .   <2>   .    .    .    .    .    .    .    .    .    .    .    .    .    .    .    .    .    .    .    .    .    .    .    .    .    .    .    .    .    .    .    .    .    .    .    .    .    .    .    .    .    .    .    .    .    .    .    .    .    . |\n",
            "  PPSS+BER |    .    .    .    .    .    .    .    .    .    .    .    .    .    .    .    .    .    .    .    .    .    .    .    .    .    .    .    .    .    .    .    .    .    .    .    .    .    .    .    .    .    .    .    .    .    .    .    .    .    .    .    .    .    .    .    .    .    .    .    .    .    .    .    .    .    .    .    .    .    .    .    .    .    .    .    .    .    .    .    .    .    .    .    .    .    .    .    .    .    .    .    .    .    .    .    .    .    .    .    .    .    .    .    .    .    .    .    .    .    .    .    .    .    .    .    .    .    .    .    .    .    .    .    .    .    .    .    .    .    .    .    .    .    .    .    .    .    .    .    .    .    .    .    .    .    .    .    .    .    .    .    .    .    .    .    .    .  <12>   .    .    .    .    .    .    .    .    .    .    .    .    .    .    .    .    .    .    .    .    .    .    .    .    .    .    .    .    .    .    .    .    .    .    .    .    .    .    .    .    .    .    .    .    .    .    .    .    . |\n",
            "   PPSS+HV |    .    .    .    .    .    .    .    .    .    .    .    .    .    .    .    .    .    .    .    .    .    .    .    .    .    .    .    .    .    .    .    .    .    .    .    .    .    .    .    .    .    .    .    .    .    .    .    .    .    .    .    .    .    .    .    .    .    .    .    .    .    .    .    .    .    .    .    .    .    .    .    .    .    .    .    .    .    .    .    .    .    .    .    .    .    .    .    .    .    .    .    .    .    .    .    .    .    .    .    .    .    .    .    .    .    .    .    .    .    .    .    .    .    .    .    .    .    .    .    .    .    .    .    .    .    .    .    .    .    .    .    .    .    .    .    .    .    .    .    .    .    .    .    .    .    .    .    .    .    .    .    .    .    .    .    .    .    .   <6>   .    .    .    .    .    .    .    .    .    .    .    .    .    .    .    .    .    .    .    .    .    .    .    .    .    .    .    .    .    .    .    .    .    .    .    .    .    .    .    .    .    .    .    .    .    .    .    . |\n",
            "  PPSS+HVD |    .    .    .    .    .    .    .    .    .    .    .    .    .    .    .    .    .    .    .    .    .    .    .    .    .    .    .    .    .    .    .    .    .    .    .    .    .    .    .    .    .    .    .    .    .    .    .    .    .    .    .    .    .    .    .    .    .    .    .    .    .    .    .    .    .    .    .    .    .    .    .    .    .    .    .    .    .    .    .    .    .    .    .    .    .    .    .    .    .    .    .    .    .    .    .    .    .    .    .    .    .    .    .    .    .    .    .    .    .    .    .    .    .    .    .    .    .    .    .    .    .    .    .    .    .    .    .    .    .    .    .    .    .    .    .    .    .    .    .    .    .    .    .    .    .    .    .    .    .    .    .    .    .    .    .    .    .    .    .   <.>   1    .    .    .    .    .    .    .    .    .    .    .    .    .    .    .    .    .    .    .    .    .    .    .    .    .    .    .    .    .    .    .    .    .    .    .    .    .    .    .    .    .    .    .    .    .    . |\n",
            "   PPSS+MD |    .    .    .    .    .    .    .    .    .    .    .    .    .    .    .    .    .    .    .    .    .    .    .    .    .    .    .    .    .    .    .    .    .    .    .    .    .    .    .    .    .    .    .    .    .    .    .    .    .    .    .    .    .    .    .    .    .    .    .    .    .    .    .    .    .    .    .    .    .    .    .    .    .    .    .    .    .    .    .    .    .    .    .    .    .    .    .    .    .    .    .    .    .    .    .    .    .    .    .    .    .    .    .    .    .    .    .    1    .    .    .    .    .    .    .    .    .    .    .    .    .    .    .    .    .    .    .    .    .    .    .    .    .    .    .    .    .    .    .    .    .    .    .    .    .    .    .    .    .    .    .    .    .    .    .    .    .    .    .    .   <6>   .    .    .    .    .    .    .    .    .    .    .    .    .    .    .    .    .    .    .    .    .    .    .    .    .    .    .    .    .    .    .    .    .    .    .    .    .    .    .    .    .    .    .    .    .    . |\n",
            "   PPSS-HL |    .    .    .    .    .    .    .    .    .    .    .    .    .    .    .    .    .    .    .    .    .    .    .    .    .    .    .    .    .    .    .    .    .    .    .    .    .    .    .    .    .    .    .    .    .    .    .    .    .    .    .    .    .    .    .    .    .    .    .    .    .    .    .    .    .    .    .    .    .    .    .    .    .    .    .    .    .    .    .    .    .    .    .    .    .    .    .    .    .    .    .    .    .    .    .    .    .    .    .    .    .    .    .    .    .    .    .    .    .    .    .    .    .    .    .    .    .    .    .    .    .    .    .    .    .    .    .    .    .    .    .    .    .    .    .    .    .    .    .    .    .    .    .    .    .    .    .    .    .    .    .    .    .    .    .    1    .    .    .    .    .   <.>   .    .    .    .    .    .    .    .    .    .    .    .    .    .    .    .    .    .    .    .    .    .    .    .    .    .    .    .    .    .    .    .    .    .    .    .    .    .    .    .    .    .    .    .    . |\n",
            "   PPSS-TL |    .    .    .    .    .    .    .    .    .    .    .    .    .    .    .    .    .    .    .    .    .    .    .    .    .    .    .    .    .    .    .    .    .    .    .    .    .    .    .    .    .    .    .    .    .    .    .    .    .    .    .    .    .    .    .    .    .    .    .    .    .    .    .    .    .    .    .    .    .    .    .    .    .    .    .    .    .    .    .    .    .    .    .    .    .    .    .    .    .    .    .    .    .    .    .    .    .    .    .    .    .    .    .    .    .    .    .    .    .    .    .    .    .    .    .    .    .    .    .    .    .    .    .    .    .    .    .    .    .    .    .    .    .    .    .    .    .    .    .    .    .    .    .    .    .    .    .    .    .    .    .    .    .    .    .    2    .    .    .    .    .    .   <.>   .    .    .    .    .    .    .    .    .    .    .    .    .    .    .    .    .    .    .    .    .    .    .    .    .    .    .    .    .    .    .    .    .    .    .    .    .    .    .    .    .    .    .    . |\n",
            "        QL |    .    .    .    .    .    .    .    .    .    .    .    .    .    .    .    2   13    .    .   64    .    .    .    6    .    .    .    .    .    .    .    .    .    .    .    .    .    .    .    .    .    .    .    .    .    .    .    .   62    .    .    .    .    .    .    .    .    .    .    1    .    .    .    .    .    .    .    .    .    .    .    .    .    .    .    .    .    .    .    .    .    .    .    .    .    .    .    .    7    .    .    .   11    .    .    .    .    .    .    .    .    2    .    .    .    .    .   30    .    .    .    .    .    .    .    .    .    .    .    .    .    .    .    .    .    .    .    .    .    .    .    .    .    .    .    .    .    .    .    .    .    .    .    .    .    .    .    .    .    .    .    .    .    .    .    .    .    .    .    .    .    .    . <249>   .    .   74    .    .    .    .    9    1    .    .    .    .    .    .    .    .    .    .    .    .    .    .    .    .    .    .    .    .    .    .    .    .    .    .    .    .    .    .    .    9    .    . |\n",
            "     QL-HL |    .    .    .    .    .    .    .    .    .    .    .    .    .    .    .    .    .    .    .    .    .    .    .    .    .    .    .    .    .    .    .    .    .    .    .    .    .    .    .    .    .    .    .    .    .    .    .    .    .    .    .    .    .    .    .    .    .    .    .    .    .    .    .    .    .    .    .    .    .    .    .    .    .    .    .    .    .    .    .    .    .    .    .    .    .    .    .    .    .    .    .    .    .    .    .    .    .    .    .    .    .    .    .    .    .    .    .    .    .    .    .    .    .    .    .    .    .    .    .    .    .    .    .    .    .    .    .    .    .    .    .    .    .    .    .    .    .    .    .    .    .    .    .    .    .    .    .    .    .    .    .    .    .    .    .    .    .    .    .    .    .    .    .    .   <.>   .    1    .    .    .    .    .    .    .    .    .    .    .    .    .    .    .    .    .    .    .    .    .    .    .    .    .    .    .    .    .    .    .    .    .    .    .    .    .    .    .    . |\n",
            "       QLP |    .    .    .    .    .    .    .    .    .    .    .    .    .    .    .    .    .    .    .    5    .    .    .    .    .    .    .    .    .    .    .    .    .    .    .    .    .    .    .    .    .    .    .    .    .    .    .    .    .    .    .    .    .    .    .    .    .    .    .    .    .    .    .    .    .    .    .    .    .    .    .    .    .    .    .    .    .    .    .    .    .    .    .    .    .    .    .    .    .    .    .    .    .    .    .    .    .    .    .    .    .    .    .    .    .    .    .    .    .    .    .    .    .    .    .    .    .    .    .    .    .    .    .    .    .    .    .    .    .    .    .    .    .    .    .    .    .    .    .    .    .    .    .    .    .    .    .    .    .    .    .    .    .    .    .    .    .    .    .    .    .    .    .    .    .   <9>   1    .    .    .    .    .    .    .    .    .    .    .    .    .    .    .    .    .    .    .    .    .    .    .    .    .    .    .    .    .    .    .    .    .    .    .    .    .    .    .    . |\n",
            "        RB |    .    .    .    .    .    .    .    .    .    .    .    .    .    .    .    .    .    .    .   38    .    .    .    8    .    .    .    .    .    .    .    .    .    .    .    .    .    .    .    .    .    .    6    .    .    .    .    .   20    .    .    .    .    .    .    .    .    .    .    .    .    .    .    .   15    .    .    .    .    .    .    .    .    .    .    .    .    .    .    .    .    .    .    .    .    .    .    .   32    .    .    .   33    .    .    .    .    .    .    .    .    .    .    .    .    .    .  261    .    .    .    .    .    .    .    .    .    .    .    .    .    .    .    .    .    .    .    .    .    .    .    .    .    .    .    .    7    .    .    .    .    .    .    .    .    .    .    .    .    .    .    .    .    .    .    .    .    .    .    .    .    .    .   63    .    .<1318>   .    6    .    .    .    .    .    .    .    .    .    .    .    .    .    .    .    .    .    .    .    .    .    .    .    .    .    .    .    .    .    .    .    .    .    .    .    2    .    . |\n",
            "       RB$ |    .    .    .    .    .    .    .    .    .    .    .    .    .    .    .    .    .    .    .    .    .    .    .    .    .    .    .    .    .    .    .    .    .    .    .    .    .    .    .    .    .    .    .    .    .    .    .    .    .    .    .    .    .    .    .    .    .    .    .    .    .    .    .    .    .    .    .    .    .    .    .    .    .    .    .    .    .    .    .    .    .    .    .    .    .    .    .    .    .    .    .    .    .    .    .    .    .    .    .    .    .    .    .    .    .    .    .    .    .    .    .    .    .    .    .    .    .    .    .    .    .    .    .    .    .    .    .    .    .    .    .    .    .    .    .    .    .    .    .    .    .    .    .    .    .    .    .    .    .    .    .    .    .    .    .    .    .    .    .    .    .    .    .    .    .    .    .   <3>   .    .    .    .    .    .    .    .    .    .    .    .    .    .    .    .    .    .    .    .    .    .    .    .    .    .    .    .    .    .    .    .    .    .    .    .    .    .    . |\n",
            "     RB-HL |    .    .    .    .    .    .    .    .    .    .    .    .    .    .    .    .    .    .    .    .    .    .    .    .    .    .    .    .    .    .    .    .    .    .    .    .    .    .    .    .    .    .    .    .    .    .    .    .    .    .    .    .    .    .    .    .    .    .    .    .    .    .    .    .    .    .    .    .    .    .    .    .    .    .    .    .    .    .    .    .    .    .    .    .    .    .    .    .    .    .    .    .    .    .    .    .    .    .    .    .    .    .    .    .    .    .    .    .    .    .    .    .    .    .    .    .    .    .    .    .    .    .    .    .    .    .    .    .    .    .    .    .    .    .    .    .    .    .    .    .    .    .    .    .    .    .    .    .    .    .    .    .    .    .    .    .    .    .    .    .    .    .    .    .    .    .    5    .   <1>   .    1    .    .    .    .    .    .    .    .    .    .    .    .    .    .    .    .    .    .    .    .    .    .    .    .    .    .    .    .    .    .    .    .    .    .    .    . |\n",
            "     RB-NC |    .    .    .    .    .    .    .    .    .    .    .    .    .    .    .    .    .    .    .    .    .    .    .    .    .    .    .    .    .    .    .    .    .    .    .    .    .    .    .    .    .    .    .    .    .    .    .    .    .    .    .    .    .    .    .    .    .    .    .    .    .    .    .    .    .    .    .    .    .    .    .    .    .    .    .    .    .    .    .    .    .    .    .    .    .    .    .    .    .    .    .    .    .    .    .    .    .    .    .    .    .    .    .    .    .    .    .    .    .    .    .    .    .    .    .    .    .    .    .    .    .    .    .    .    .    .    .    .    .    .    .    .    .    .    .    .    .    .    .    .    .    .    .    .    .    .    .    .    .    .    .    .    .    .    .    .    .    .    .    .    .    .    .    .    .    .    1    .    .   <.>   .    .    .    .    .    .    .    .    .    .    .    .    .    .    .    .    .    .    .    .    .    .    .    .    .    .    .    .    .    .    .    .    .    .    .    .    . |\n",
            "     RB-TL |    .    .    .    .    .    .    .    .    .    .    .    .    .    .    .    .    .    .    .    .    .    .    .    .    .    .    .    .    .    .    .    .    .    .    .    .    .    .    .    .    .    .    .    .    .    .    .    .    .    .    .    .    .    .    .    .    .    .    .    .    .    .    .    .    .    .    .    .    .    .    .    .    .    .    .    .    .    .    .    .    .    .    .    .    .    .    .    .    .    .    .    .    .    .    .    .    .    .    .    .    .    .    .    .    .    .    .    .    .    .    .    .    .    .    .    .    .    .    .    .    .    .    .    .    .    .    .    .    .    .    .    .    .    .    .    .    .    .    .    .    .    .    .    .    .    .    .    .    .    .    .    .    .    .    .    .    .    .    .    .    .    .    .    .    .    .    1    .    .    .   <1>   .    .    .    .    .    .    .    .    .    .    .    .    .    .    .    .    .    .    .    .    .    .    .    .    .    .    .    .    .    .    .    .    .    .    .    . |\n",
            "       RBR |    .    .    .    .    .    .    .    .    .    .    .    .    .    .    .    .    .    .    .    3    .    .    .    .    .    .    .    .    .    .    .    .    .    .    .    .    .    .    .    .    .    .    .    .    .    .    .    .    .    .    .    .    .    .    .    .    .    .    .    .    .    .    .    .    .    .    .    .    .    .    .    .    .    .    .    .    .    .    .    .    .    .    .    .    .    .    .    .    .    .    .    .    .    .    .    .   11    .    .    .    .    .    .    .    .    .    .    4    .    .    .    .    .    .    .    .    .    .    .    .    .    .    .    .    .    .    .    .    .    .    .    .    .    .    .    .    .    .    .    .    .    .    .    .    .    .    .    .    .    .    .    .    .    .    .    .    .    .    .    .    .    .    .    1    .    .    .    .    .    .    .  <25>   .    .    .    .    .    .    .    .    .    .    .    .    .    .    .    .    .    .    .    .    .    .    .    .    .    .    .    .    .    .    .    .    .    .    . |\n",
            "       RBT |    .    .    .    .    .    .    .    .    .    .    .    .    .    .    .    .    .    .    .    2    .    .    .    .    .    .    .    .    .    .    .    .    .    .    .    .    .    .    .    .    .    .    .    .    .    .    .    .    .    .    .    .    .    .    .    .    .    .    .    .    .    .    .    .    .    .    .    .    .    .    .    .    .    .    .    .    .    .    .    .    .    .    .    .    .    .    .    .    .    .    .    .    .    .    .    .    .    .    .    .    .    1    .    .    .    .    .    1    .    .    .    .    .    .    .    .    .    .    .    .    .    .    .    .    .    .    .    .    .    .    .    .    .    .    .    .    .    .    .    .    .    .    .    .    .    .    .    .    .    .    .    .    .    .    .    .    .    .    .    .    .    .    .    1    .    .    .    .    .    .    .    .   <.>   .    .    .    .    .    .    .    .    .    .    .    .    .    .    .    .    .    .    .    .    .    .    .    .    .    .    .    .    .    .    .    .    .    . |\n",
            "        RN |    .    .    .    .    .    .    .    .    .    .    .    .    .    .    .    .    .    .    .    .    .    .    .    .    .    .    .    .    .    .    .    .    .    .    .    .    .    .    .    .    .    .    .    .    .    .    .    .    .    .    .    .    .    .    .    .    .    .    .    .    .    .    .    .    .    .    .    .    .    .    .    .    .    .    .    .    .    .    .    .    .    .    .    .    .    .    .    .    .    .    .    .    .    .    .    .    .    .    .    .    .    .    .    .    .    .    .    1    .    .    .    .    .    .    .    .    .    .    .    .    .    .    .    .    .    .    .    .    .    .    .    .    .    .    .    .    .    .    .    .    .    .    .    .    .    .    .    .    .    .    .    .    .    .    .    .    .    .    .    .    .    .    .    .    .    .    2    .    .    .    .    .    .   <.>   .    .    .    .    .    .    .    .    .    .    .    .    .    .    .    .    .    .    .    .    .    .    .    .    .    .    .    .    .    .    .    .    . |\n",
            "        RP |    .    .    .    .    .    .    .    .    .    .    .    .    .    .    .    .    .    .    .    .    .    .    .    .    .    .    .    .    .    .    .    .    .    .    .    .    .    .    .    .    .    .    .    .    .    .    .    .    .    .    .    .    .    .    .    .    .    .    .    .    .    .    .    .    .    .    .    .    .    .    .    .    .    .    .    .    .    .    .    .    .    .    .    .    .    .    .    .   70    .    .    .    .    .    .    .    .    .    .    .    .    .    .    .    .    .    .    1    .    .    .    .    .    .    .    .    .    .    .    .    .    .    .    .    .    .    .    .    .    .    .    .    .    .    .    .    .    .    .    .    .    .    .    .    .    .    .    .    .    .    .    .    .    .    .    .    .    .    .    .    .    .    .    .    .    .    .    .    .    .    .    .    .    . <161>   .    .    .    .    .    .    .    .    .    .    .    .    .    .    .    .    .    .    .    .    .    .    .    .    .    .    .    .    .    .    .    . |\n",
            "     RP-HL |    .    .    .    .    .    .    .    .    .    .    .    .    .    .    .    .    .    .    .    .    .    .    .    .    .    .    .    .    .    .    .    .    .    .    .    .    .    .    .    .    .    .    .    .    .    .    .    .    .    .    .    .    .    .    .    .    .    .    .    .    .    .    .    .    .    .    .    .    .    .    .    .    .    .    .    .    .    .    .    .    .    .    .    .    .    .    .    .    1    .    .    .    .    .    .    .    .    .    .    .    .    .    .    .    .    .    .    .    .    .    .    .    .    .    .    .    .    .    .    .    .    .    .    .    .    .    .    .    .    .    .    .    .    .    .    .    .    .    .    .    .    .    .    .    .    .    .    .    .    .    .    .    .    .    .    .    .    .    .    .    .    .    .    .    .    .    .    .    .    .    .    .    .    .    1   <.>   .    .    .    .    .    .    .    .    .    .    .    .    .    .    .    .    .    .    .    .    .    .    .    .    .    .    .    .    .    .    . |\n",
            "        TO |    .    .    .    .    .    .    .    .    .    .    .    .    .    .    .    .    .    .    .    .    .    .    .    .    .    .    .    .    .    .    .    .    .    .    .    .    .    .    .    .    .    .    .    .    .    .    .    .    .    .    .    .    .    .    .    .    .    .    .    .    .    .    .    .    .    .    .    .    .    .    .    .    .    .    .    .    .    .    .    .    .    .    .    .    .    .    .    .   53    .    .    .    .    .    .    .    .    .    .    .    .    .    .    .    .    .    .    .    .    .    .    .    .    .    .    .    .    .    .    .    .    .    .    .    .    .    .    .    .    .    .    .    .    .    .    .    .    .    .    .    .    .    .    .    .    .    .    .    .    .    .    .    .    .    .    .    .    .    .    .    .    .    .    .    .    .    .    .    .    .    .    .    .    .    .    . <899>   .    .    .    .    .    .    .    .    .    .    .    .    .    .    .    .    .    .    .    .    .    .    .    .    .    .    .    .    .    . |\n",
            "     TO-HL |    .    .    .    .    .    .    .    .    .    .    .    .    .    .    .    .    .    .    .    .    .    .    .    .    .    .    .    .    .    .    .    .    .    .    .    .    .    .    .    .    .    .    .    .    .    .    .    .    .    .    .    .    .    .    .    .    .    .    .    .    .    .    .    .    .    .    .    .    .    .    .    .    .    .    .    .    .    .    .    .    .    .    .    .    .    .    .    .    .    .    .    .    .    .    .    .    .    .    .    .    .    .    .    .    .    .    .    .    .    .    .    .    .    .    .    .    .    .    .    .    .    .    .    .    .    .    .    .    .    .    .    .    .    .    .    .    .    .    .    .    .    .    .    .    .    .    .    .    .    .    .    .    .    .    .    .    .    .    .    .    .    .    .    .    .    .    .    .    .    .    .    .    .    .    .    .    2   <.>   .    .    .    .    .    .    .    .    .    .    .    .    .    .    .    .    .    .    .    .    .    .    .    .    .    .    .    .    . |\n",
            "        UH |    .    .    .    .    .    .    .    .    .    .    .    .    .    .    .    .    .    .    .    .    .    .    .    .    .    .    .    .    .    .    .    .    .    .    .    .    .    .    .    .    .    .    .    .    .    .    .    .    .    .    .    .    .    .    .    .    .    .    .    .    .    .    .    .    .    .    .    .    .    .    .    .    .    .    .    .    .    .    .    .    .    .    .    .    .    .    .    .    .    .    .    .    .    .    .    .    .    .    .    .    .    .    .    .    .    .    .    7    .    .    .    .    .    .    .    .    .    .    .    .    .    .    .    .    .    .    .    .    .    .    .    .    .    .    .    .    .    .    .    .    .    .    .    .    .    .    .    .    .    .    .    .    .    .    .    .    .    .    .    .    .    .    .    .    .    .    .    .    .    .    .    .    .    .    .    .    .    .   <.>   .    3    .    .    .    .    .    .    .    .    .    .    .    .    .    .    .    .    .    .    .    .    .    .    .    1    .    . |\n",
            "     UH-HL |    .    .    .    .    .    .    .    .    .    .    .    .    .    .    .    .    .    .    .    .    .    .    .    .    .    .    .    .    .    .    .    .    .    .    .    .    .    .    .    .    .    .    .    .    .    .    .    .    .    .    .    .    .    .    .    .    .    .    .    .    .    .    .    .    .    .    .    .    .    .    .    .    .    .    .    .    .    .    .    .    .    .    .    .    .    .    .    .    .    .    .    .    .    .    .    .    .    .    .    .    .    .    .    .    .    .    .    1    .    .    .    .    .    .    .    .    .    .    .    .    .    .    .    .    .    .    .    .    .    .    .    .    .    .    .    .    .    .    .    .    .    .    .    .    .    .    .    .    .    .    .    .    .    .    .    .    .    .    .    .    .    .    .    .    .    .    .    .    .    .    .    .    .    .    .    .    .    .    .   <.>   .    .    .    .    .    .    .    .    .    .    .    .    .    .    .    .    .    .    .    .    .    .    .    .    .    .    . |\n",
            "        VB |    .    .    .    .    .    .    .    .    .    .    .    .    .    .    .    .    .    .    .    4    .    .    .    .    .    .    .    .    .    .    .    .    .    .    .    .    .    .    .    .    .    .    .    .    .    .    .    .    6    .    .    .    .    .    .    .    .    .    .    .    .    .    .    .    .    .    .    .    .    .    .    .    .    .    .    .    .    .    .    .    .    .    .    .    .    .    .    .    .    .    .    .   22    .    .    .    .    .    .    .    .    .    .    2    .    .    .  583    .    .    .    1    .    .    .    .    .    .    .    .    .    .    .    .    .    .    .    .    .    .    .    .    .    .    .    .    .    .    .    .    .    .    .    .    .    .    .    .    .    .    .    .    .    .    .    .    .    .    .    .    .    .    .    .    .    .    2    .    .    .    .    .    .    .    .    .    .    .    .    .<1486>   .    .    1    5    .    .    .    .   17    .    .    .    .    .    .    .    .    .    .    .    .    .    .    .    .    . |\n",
            "    VB+PPO |    .    .    .    .    .    .    .    .    .    .    .    .    .    .    .    .    .    .    .    .    .    .    .    .    .    .    .    .    .    .    .    .    .    .    .    .    .    .    .    .    .    .    .    .    .    .    .    .    .    .    .    .    .    .    .    .    .    .    .    .    .    .    .    .    .    .    .    .    .    .    .    .    .    .    .    .    .    .    .    .    .    .    .    .    .    .    .    .    .    .    .    .    .    .    .    .    .    .    .    .    .    .    .    .    .    .    .    1    .    .    .    .    .    .    .    .    .    .    .    .    .    .    .    .    .    .    .    .    .    .    .    .    .    .    .    .    .    .    .    .    .    .    .    .    .    .    .    .    .    .    .    .    .    .    .    .    .    .    .    .    .    .    .    .    .    .    .    .    .    .    .    .    .    .    .    .    .    .    .    .    .   <.>   .    .    .    .    .    .    .    .    .    .    .    .    .    .    .    .    .    .    .    .    .    .    .    .    . |\n",
            "     VB-HL |    .    .    .    .    .    .    .    .    .    .    .    .    .    .    .    .    .    .    .    .    .    .    .    .    .    .    .    .    .    .    .    .    .    .    .    .    .    .    .    .    .    .    .    .    .    .    .    .    .    .    .    .    .    .    .    .    .    .    .    .    .    .    .    .    .    .    .    .    .    .    .    .    .    .    .    .    .    .    .    .    .    .    .    .    .    .    .    .    .    .    .    .    1    .    .    .    .    .    .    .    .    .    .    .    .    .    .    4    .    .    .    .    .    .    .    .    .    .    .    .    .    .    .    .    .    .    .    .    .    .    .    .    .    .    .    .    .    .    .    .    .    .    .    .    .    .    .    .    .    .    .    .    .    .    .    .    .    .    .    .    .    .    .    .    .    .    .    .    .    .    .    .    .    .    .    .    .    .    .    .   10    .   <.>   .    .    .    .    .    .    .    .    .    .    .    .    .    .    .    .    .    .    .    .    .    .    .    . |\n",
            "     VB-TL |    .    .    .    .    .    .    .    .    .    .    .    .    .    .    .    .    .    .    .    .    .    .    .    .    .    .    .    .    .    .    .    .    .    .    .    .    .    .    .    .    .    .    .    .    .    .    .    .    .    .    .    .    .    .    .    .    .    .    .    .    .    .    .    .    .    .    .    .    .    .    .    .    .    .    .    .    .    .    .    .    .    .    .    .    .    .    .    .    .    .    .    .    .    .    .    .    .    .    .    .    .    .    .    .    .    .    .   10    .    .    .    .    .    .    .    .    .    .    .    .    .    .    .    .    .    .    .    .    .    .    .    .    .    .    .    .    .    .    .    .    .    .    .    .    .    .    .    .    .    .    .    .    .    .    .    .    .    .    .    .    .    .    .    .    .    .    .    .    .    .    .    .    .    .    .    .    .    .    .    .    2    .    .   <2>   .    .    .    .    .    .    .    .    .    .    .    .    .    .    .    .    .    .    .    .    .    .    . |\n",
            "       VBD |    .    .    .    .    .    .    .    .    .    .    .    .    .    .    .    .    .    .    .    .    .    .    .    .    .    .    .    .    .    .    .    .    .    .    .    .    .    .    .    .    .    .    .    .    .    .    .    .    .    .    .    .    .    .    .    .    .    .    .    .    .    .    .    .    .    .    .    .    .    .    .    .    .    .    .    .    .    .    .    .    .    .    .    .    .    .    .    .    .    .    .    .    3    .    .    .    .    .    .    .    .    .    .    .    .    .    .   76    .    .    .    .    .    .    .    .    .    .    .    .    .    .    .    .    .    .    .    .    .    .    .    .    .    .    .    .    .    .    .    .    .    .    .    .    .    .    .    .    .    .    .    .    .    .    .    .    .    .    .    .    .    .    .    .    .    .    .    .    .    .    .    .    .    .    .    .    .    .    .    .    2    .    .    . <476>   .    .    .    .  143    .    .    .    .    .    .    .    .    .    .    .    .    .    .    .    .    . |\n",
            "    VBD-HL |    .    .    .    .    .    .    .    .    .    .    .    .    .    .    .    .    .    .    .    .    .    .    .    .    .    .    .    .    .    .    .    .    .    .    .    .    .    .    .    .    .    .    .    .    .    .    .    .    .    .    .    .    .    .    .    .    .    .    .    .    .    .    .    .    .    .    .    .    .    .    .    .    .    .    .    .    .    .    .    .    .    .    .    .    .    .    .    .    .    .    .    .    .    .    .    .    .    .    .    .    .    .    .    .    .    .    .    .    .    .    .    .    .    .    .    .    .    .    .    .    .    .    .    .    .    .    .    .    .    .    .    .    .    .    .    .    .    .    .    .    .    .    .    .    .    .    .    .    .    .    .    .    .    .    .    .    .    .    .    .    .    .    .    .    .    .    .    .    .    .    .    .    .    .    .    .    .    .    .    .    .    .    .    .    1   <.>   .    .    .    .    .    .    .    .    .    .    .    .    .    .    .    .    .    .    .    .    . |\n",
            "       VBG |    .    .    .    .    .    .    .    .    .    .    .    .    .    .    .    .    .    .    .    .    .    .    .    .    .    .    .    .    .    .    .    .    .    .    .    .    .    .    .    .    .    .    .    .    .    .    .    .    .    .    .    .    .    .    .    .    .    .    .    .    .    .    .    .    .    .    .    .    .    .    .    .    .    .    .    .    .    .    .    .    .    .    .    .    .    .    .    .    2    .    .    .    5    .    .    .    .    .    .    .    .    .    .    .    .    .    .  321    .    .    .    .    .    .    .    .    .    .    .    .    1    .    .    .    .    .    .    .    .    .    .    .    .    .    .    .    .    .    .    .    .    .    .    .    .    .    .    .    .    .    .    .    .    .    .    .    .    .    .    .    .    .    .    .    .    .    .    .    .    .    .    .    .    .    .    .    .    .    .    .    .    .    .    .    .    . <552>   .    .    .    .    .    .    .    .    .    .    .    .    .    .    .    .    .    .    .    . |\n",
            "    VBG-HL |    .    .    .    .    .    .    .    .    .    .    .    .    .    .    .    .    .    .    .    .    .    .    .    .    .    .    .    .    .    .    .    .    .    .    .    .    .    .    .    .    .    .    .    .    .    .    .    .    .    .    .    .    .    .    .    .    .    .    .    .    .    .    .    .    .    .    .    .    .    .    .    .    .    .    .    .    .    .    .    .    .    .    .    .    .    .    .    .    .    .    .    .    .    .    .    .    .    .    .    .    .    .    .    .    .    .    .   11    .    .    .    .    .    .    .    .    .    .    .    .    .    .    .    .    .    .    .    .    .    .    .    .    .    .    .    .    .    .    .    .    .    .    .    .    .    .    .    .    .    .    .    .    .    .    .    .    .    .    .    .    .    .    .    .    .    .    .    .    .    .    .    .    .    .    .    .    .    .    .    .    .    .    .    .    .    .    2   <.>   1    .    .    .    .    .    .    .    .    .    .    .    .    .    .    .    .    .    . |\n",
            "    VBG-TL |    .    .    .    .    .    .    .    .    .    .    .    .    .    .    .    .    .    .    .    .    .    .    .    .    .    .    .    .    .    .    .    .    .    .    .    .    .    .    .    .    .    .    .    .    .    .    .    .    .    .    .    .    .    .    .    .    .    .    .    .    .    .    .    .    .    .    .    .    .    .    .    .    .    .    .    .    .    .    .    .    .    .    .    .    .    .    .    .    .    .    .    .    .    .    .    .    .    .    .    .    .    .    .    .    .    .    .    7    .    .    .    .    .    .    .    .    .    .    .    .    .    .    .    .    .    .    .    .    .    .    .    .    .    .    .    .    .    .    .    .    .    .    .    .    .    .    .    .    .    .    .    .    .    .    .    .    .    .    .    .    .    .    .    .    .    .    .    .    .    .    .    .    .    .    .    .    .    .    .    .    .    .    .    .    .    .    1    1   <2>   .    .    .    .    .    .    .    .    .    .    .    .    .    .    .    .    .    . |\n",
            "       VBN |    .    .    .    .    .    .    .    .    .    .    .    .    .    .    .    .    .    .    .    .    .    .    .    .    .    .    .    .    .    .    .    .    .    .    .    .    .    .    .    .    .    .    .    .    .    .    .    .    .    .    .    .    .    .    .    .    .    .    .    .    .    .    .    .    .    .    .    .    .    .    .    .    .    .    .    .    .    .    .    .    .    .    .    .    .    .    .    .    .    .    .    .    1    .    .    .    .    .    .    .    .    .    .    .    .    .    .  329    .    .    .    .    .    .    .    .    .    .    .    .    .    .    .    .    .    .    .    .    .    .    .    .    .    .    .    .    .    .    .    .    .    .    .    .    .    .    .    .    .    .    .    .    .    .    .    .    .    .    .    .    .    .    .    .    .    .    .    .    .    .    .    .    .    .    .    .    .    .    .    .   10    .    .    .  296    .    .    .    . <849>   6    .    .    .    .    .    .    .    .    .    .    .    .    .    .    .    . |\n",
            "    VBN-HL |    .    .    .    .    .    .    .    .    .    .    .    .    .    .    .    .    .    .    .    .    .    .    .    .    .    .    .    .    .    .    .    .    .    .    .    .    .    .    .    .    .    .    .    .    .    .    .    .    .    .    .    .    .    .    .    .    .    .    .    .    .    .    .    .    .    .    .    .    .    .    .    .    .    .    .    .    .    .    .    .    .    .    .    .    .    .    .    .    .    .    .    .    .    .    .    .    .    .    .    .    .    .    .    .    .    .    .    4    .    .    .    .    .    .    .    .    .    .    .    .    .    .    .    .    .    .    .    .    .    .    .    .    .    .    .    .    .    .    .    .    .    .    .    .    .    .    .    .    .    .    .    .    .    .    .    .    .    .    .    .    .    .    .    .    .    .    .    .    .    .    .    .    .    .    .    .    .    .    .    .    .    .    .    .    2    .    .    .    .    7   <.>   .    .    .    .    .    .    .    .    .    .    .    .    .    .    .    . |\n",
            "    VBN-TL |    .    .    .    .    .    .    .    .    .    .    .    .    .    .    .    .    .    .    .    .    .    .    .    .    .    .    .    .    .    .    .    .    .    .    .    .    .    .    .    .    .    .    .    .    .    .    .    .    .    .    .    .    .    .    .    .    .    .    .    .    .    .    .    .    .    .    .    .    .    .    .    .    .    .    .    .    .    .    .    .    .    .    .    .    .    .    .    .    .    .    .    .    .    .    .    .    .    .    .    .    .    .    .    .    .    .    .    5    .    .    .    .    .    .    .    .    .    .    .    .    .    .    .    .    .    .    .    .    .    .    .    .    .    .    .    .    .    .    .    .    .    .    .    .    .    .    .    .    .    .    .    .    .    .    .    .    .    .    .    .    .    .    .    .    .    .    .    .    .    .    .    .    .    .    .    .    .    .    .    .    .    .    .    .    .    .    .    .    .    .    .  <78>   .    .    .    .    .    .    .    .    .    .    .    .    .    .    . |\n",
            " VBN-TL-HL |    .    .    .    .    .    .    .    .    .    .    .    .    .    .    .    .    .    .    .    .    .    .    .    .    .    .    .    .    .    .    .    .    .    .    .    .    .    .    .    .    .    .    .    .    .    .    .    .    .    .    .    .    .    .    .    .    .    .    .    .    .    .    .    .    .    .    .    .    .    .    .    .    .    .    .    .    .    .    .    .    .    .    .    .    .    .    .    .    .    .    .    .    .    .    .    .    .    .    .    .    .    .    .    .    .    .    .    .    .    .    .    .    .    .    .    .    .    .    .    .    .    .    .    .    .    .    .    .    .    .    .    .    .    .    .    .    .    .    .    .    .    .    .    .    .    .    .    .    .    .    .    .    .    .    .    .    .    .    .    .    .    .    .    .    .    .    .    .    .    .    .    .    .    .    .    .    .    .    .    .    .    .    .    .    .    .    .    .    .    .    .    1   <.>   .    .    .    .    .    .    .    .    .    .    .    .    .    . |\n",
            "       VBZ |    .    .    .    .    .    .    .    .    .    .    .    .    .    .    .    .    .    .    .    .    .    .    .    .    .    .    .    .    .    .    .    .    .    .    .    .    .    .    .    .    .    .    .    .    .    .    .    .    .    .    .    .    .    .    .    .    .    .    .    .    .    .    .    .    .    .    .    .    .    .    .    .    .    .    .    .    .    .    .    .    .    .    .    .    .    .    .    .    .    .    .    .    .    .    .    .    .    .    .    .    .    .    .    .    .    .    .  166    .    .    .    .    .    .   66    .    .    .    .    .    .    .    .    .    .    .    .    .    .    .    .    .    .    .    .    .    .    .    .    .    .    .    .    .    .    .    .    .    .    .    .    .    .    .    .    .    .    .    .    .    .    .    .    .    .    .    .    .    .    .    .    .    .    .    .    .    .    .    .    .    .    .    .    .    .    .    .    .    .    .    .    .    . <303>   9    .    .    .    .    .    .    .    .    .    .    .    . |\n",
            "    VBZ-HL |    .    .    .    .    .    .    .    .    .    .    .    .    .    .    .    .    .    .    .    .    .    .    .    .    .    .    .    .    .    .    .    .    .    .    .    .    .    .    .    .    .    .    .    .    .    .    .    .    .    .    .    .    .    .    .    .    .    .    .    .    .    .    .    .    .    .    .    .    .    .    .    .    .    .    .    .    .    .    .    .    .    .    .    .    .    .    .    .    .    .    .    .    .    .    .    .    .    .    .    .    .    .    .    .    .    .    .    6    .    .    .    .    .    .    2    .    .    .    1    .    .    .    .    .    .    .    .    .    .    .    .    .    .    .    .    .    .    .    .    .    .    .    .    .    .    .    .    .    .    .    .    .    .    .    .    .    .    .    .    .    .    .    .    .    .    .    .    .    .    .    .    .    .    .    .    .    .    .    .    .    .    .    .    .    .    .    .    .    .    .    .    .    .    6   <2>   .    .    .    .    .    .    .    .    .    .    .    . |\n",
            "    VBZ-TL |    .    .    .    .    .    .    .    .    .    .    .    .    .    .    .    .    .    .    .    .    .    .    .    .    .    .    .    .    .    .    .    .    .    .    .    .    .    .    .    .    .    .    .    .    .    .    .    .    .    .    .    .    .    .    .    .    .    .    .    .    .    .    .    .    .    .    .    .    .    .    .    .    .    .    .    .    .    .    .    .    .    .    .    .    .    .    .    .    .    .    .    .    .    .    .    .    .    .    .    .    .    .    .    .    .    .    .    3    .    .    .    .    .    .    .    .    .    .    .    .    .    .    .    .    .    .    .    .    .    .    .    .    .    .    .    .    .    .    .    .    .    .    .    .    .    .    .    .    .    .    .    .    .    .    .    .    .    .    .    .    .    .    .    .    .    .    .    .    .    .    .    .    .    .    .    .    .    .    .    .    .    .    .    .    .    .    .    .    .    .    .    .    .    .    .   <.>   .    .    .    .    .    .    .    .    .    .    . |\n",
            "       WDT |    .    .    .    .    .    .    .    .    .    .    .    .    .    .    .    .    .    .    .    .    .    .    .    .    .    .    .    .    .    .    .    .    .    .    .    .    .    .    .    .    .    .    .    .    .    .    .    .    .    .    .    .    .    .    .    .    .    .    .    .    .    .    .    .    .    .    .    .    .    .    .    .    .    .    .    .    .    .    .    .    .    .    .    .    .    .    .    .    .    .    .    .    .    .    .    .    .    .    .    .    .    .    .    .    .    .    .    .    .    .    .    .    .    .    .    .    .    .    .    .    .    .    .    .    .    .    .    .    .    .    .    .    .    .    .    .    .    .    .    .    .    .    .    .    .    .    .    .    .    .    .    .    .    .    .    .    .    .    .    .    .    .    .    .    .    .    .    .    .    .    .    .    .    .    .    .    .    .    .    .    .    .    .    .    .    .    .    .    .    .    .    .    .    .    .    . <307>   .    .    .    .    .    .    .    .    .    . |\n",
            "   WDT+BEZ |    .    .    .    .    .    .    .    .    .    .    .    .    .    .    .    .    .    .    .    .    .    .    .    .    .    .    .    .    .    .    .    .    .    .    .    .    .    .    .    .    .    .    .    .    .    .    .    .    .    .    .    .    .    .    .    .    .    .    .    .    .    .    .    .    .    .    .    .    .    .    .    .    .    .    .    .    .    .    .    .    .    .    .    .    .    .    .    .    .    .    .    .    .    .    .    .    .    .    .    .    .    .    .    .    .    .    .    2    .    .    .    .    .    .    .    .    .    .    .    .    .    .    .    .    .    .    .    .    .    .    .    .    .    .    .    .    .    .    .    .    .    .    .    .    .    .    .    .    .    .    .    .    .    .    .    .    .    .    .    .    .    .    .    .    .    .    .    .    .    .    .    .    .    .    .    .    .    .    .    .    .    .    .    .    .    .    .    .    .    .    .    .    .    .    .    .    .   <.>   .    .    .    .    .    .    .    .    . |\n",
            "WDT+BEZ-HL |    .    .    .    .    .    .    .    .    .    .    .    .    .    .    .    .    .    .    .    .    .    .    .    .    .    .    .    .    .    .    .    .    .    .    .    .    .    .    .    .    .    .    .    .    .    .    .    .    .    .    .    .    .    .    .    .    .    .    .    .    .    .    .    .    .    .    .    .    .    .    .    .    .    .    .    .    .    .    .    .    .    .    .    .    .    .    .    .    .    .    .    .    .    .    .    .    .    .    .    .    .    .    .    .    .    .    .    1    .    .    .    .    .    .    .    .    .    .    .    .    .    .    .    .    .    .    .    .    .    .    .    .    .    .    .    .    .    .    .    .    .    .    .    .    .    .    .    .    .    .    .    .    .    .    .    .    .    .    .    .    .    .    .    .    .    .    .    .    .    .    .    .    .    .    .    .    .    .    .    .    .    .    .    .    .    .    .    .    .    .    .    .    .    .    .    .    .    .   <.>   .    .    .    .    .    .    .    . |\n",
            "    WDT-HL |    .    .    .    .    .    .    .    .    .    .    .    .    .    .    .    .    .    .    .    .    .    .    .    .    .    .    .    .    .    .    .    .    .    .    .    .    .    .    .    .    .    .    .    .    .    .    .    .    .    .    .    .    .    .    .    .    .    .    .    .    .    .    .    .    .    .    .    .    .    .    .    .    .    .    .    .    .    .    .    .    .    .    .    .    .    .    .    .    .    .    .    .    .    .    .    .    .    .    .    .    .    .    .    .    .    .    .    .    .    .    .    .    .    .    .    .    .    .    .    .    .    .    .    .    .    .    .    .    .    .    .    .    .    .    .    .    .    .    .    .    .    .    .    .    .    .    .    .    .    .    .    .    .    .    .    .    .    .    .    .    .    .    .    .    .    .    .    .    .    .    .    .    .    .    .    .    .    .    .    .    .    .    .    .    .    .    .    .    .    .    .    .    .    .    .    .    3    .    .   <.>   .    .    .    .    .    .    . |\n",
            "       WP$ |    .    .    .    .    .    .    .    .    .    .    .    .    .    .    .    .    .    .    .    .    .    .    .    .    .    .    .    .    .    .    .    .    .    .    .    .    .    .    .    .    .    .    .    .    .    .    .    .    .    .    .    .    .    .    .    .    .    .    .    .    .    .    .    .    .    .    .    .    .    .    .    .    .    .    .    .    .    .    .    .    .    .    .    .    .    .    .    .    .    .    .    .    .    .    .    .    .    .    .    .    .    .    .    .    .    .    .    .    .    .    .    .    .    .    .    .    .    .    .    .    .    .    .    .    .    .    .    .    .    .    .    .    .    .    .    .    .    .    .    .    .    .    .    .    .    .    .    .    .    .    .    .    .    .    .    .    .    .    .    .    .    .    .    .    .    .    .    .    .    .    .    .    .    .    .    .    .    .    .    .    .    .    .    .    .    .    .    .    .    .    .    .    .    .    .    .    .    .    .    .  <11>   .    .    .    .    .    . |\n",
            "       WPO |    .    .    .    .    .    .    .    .    .    .    .    .    .    .    .    .    .    .    .    .    .    .    .    .    .    .    .    .    .    .    .    .    .    .    .    .    .    .    .    .    .    .    .    .    .    .    .    .    5    .    .    .    .    .    .    .    .    .    .    1    .    .    .    .    .    .    .    .    .    .    .    .    .    .    .    .    .    .    .    .    .    .    .    .    .    .    .    .    .    .    .    .    .    .    .    .    .    .    .    .    .    .    .    .    .    .    .    .    .    .    .    .    .    .    .    .    .    .    .    .    .    .    .    .    .    .    .    .    .    .    .    .    .    .    .    .    .    .    .    .    .    .    .    .    .    .    .    .    .    .    .    .    .    .    .    .    .    .    .    .    .    .    .    .    .    .    .    .    .    .    .    .    .    .    .    .    .    .    .    .    .    .    .    .    .    .    .    .    .    .    .    .    .    .    .    .    .    .    .    .    .   <8>   .    .    .    .    . |\n",
            "    WPO-TL |    .    .    .    .    .    .    .    .    .    .    .    .    .    .    .    .    .    .    .    .    .    .    .    .    .    .    .    .    .    .    .    .    .    .    .    .    .    .    .    .    .    .    .    .    .    .    .    .    .    .    .    .    .    .    .    .    .    .    .    .    .    .    .    .    .    .    .    .    .    .    .    .    .    .    .    .    .    .    .    .    .    .    .    .    .    .    .    .    .    .    .    .    .    .    .    .    .    .    .    .    .    .    .    .    .    .    .    1    .    .    .    .    .    .    .    .    .    .    .    .    .    .    .    .    .    .    .    .    .    .    .    .    .    .    .    .    .    .    .    .    .    .    .    .    .    .    .    .    .    .    .    .    .    .    .    .    .    .    .    .    .    .    .    .    .    .    .    .    .    .    .    .    .    .    .    .    .    .    .    .    .    .    .    .    .    .    .    .    .    .    .    .    .    .    .    .    .    .    .    .    .    .   <.>   .    .    .    . |\n",
            "       WPS |    .    .    .    .    .    .    .    .    .    .    .    .    .    .    .    .    .    .    .    .    .    .    .    .    .    .    .    .    .    .    .    .    .    .    .    .    .    .    .    .    .    .    .    .    .    .    .    .   52    .    .    .    .    .    .    .    .    .    .    1    .    .    .    .    .    .    .    .    .    .    .    .    .    .    .    .    .    .    .    .    .    .    .    .    .    .    .    .    .    .    .    .    .    .    .    .    .    .    .    .    .    .    .    .    .    .    .    5    .    .    .    .    .    .    .    .    .    .    .    .    .    .    .    .    .    .    .    .    .    .    .    .    .    .    .    .    .    .    .    .    .    .    .    .    .    .    .    .    .    .    .    .    .    .    .    .    .    .    .    .    .    .    .    .    .    .    .    .    .    .    .    .    .    .    .    .    .    .    .    .    .    .    .    .    .    .    .    .    .    .    .    .    .    .    .    .    .    .    .    .    .    .    . <210>   .    .    . |\n",
            "       WRB |    .    .    .    .    .    .    .    .    .    .    .    .    .    .    .    .    .    .    .    .    .    .    .    .    .    .    .    .    .    .    .    .    .    .    .    .    .    .    .    .    .    .    .    .    .    .    .    .    .    .    .    .    .    .    .    .    .    .    .    .    .    .    .    .    .    .    .    .    .    .    .    .    .    .    .    .    .    .    .    .    .    .    .    .    .    .    .    .    .    .    .    .    .    .    .    .    .    .    .    .    .    .    .    .    .    .    .    3    .    .    .    .    .    .    .    .    .    .    .    .    .    .    .    .    .    .    .    .    .    .    .    .    .    .    .    .    .    .    .    .    .    .    .    .    .    .    .    .    .    .    .    .    .    .    .    .    .    .    .    .    .    .    .    1    .    .    .    .    .    .    .    .    .    .    .    .    .    .    .    .    .    .    .    .    .    .    .    .    .    .    .    .    .    .    .    .    .    .    .    .    .    .    .    . <256>   .    . |\n",
            "    WRB-HL |    .    .    .    .    .    .    .    .    .    .    .    .    .    .    .    .    .    .    .    .    .    .    .    .    .    .    .    .    .    .    .    .    .    .    .    .    .    .    .    .    .    .    .    .    .    .    .    .    .    .    .    .    .    .    .    .    .    .    .    .    .    .    .    .    .    .    .    .    .    .    .    .    .    .    .    .    .    .    .    .    .    .    .    .    .    .    .    .    .    .    .    .    .    .    .    .    .    .    .    .    .    .    .    .    .    .    .    .    .    .    .    .    .    .    .    .    .    .    .    .    .    .    .    .    .    .    .    .    .    .    .    .    .    .    .    .    .    .    .    .    .    .    .    .    .    .    .    .    .    .    .    .    .    .    .    .    .    .    .    .    .    .    .    .    .    .    .    .    .    .    .    .    .    .    .    .    .    .    .    .    .    .    .    .    .    .    .    .    .    .    .    .    .    .    .    .    .    .    .    .    .    .    .    .    3   <.>   . |\n",
            "        `` |    .    .    .    .    .    .    .    .    .    .    .    .    .    .    .    .    .    .    .    .    .    .    .    .    .    .    .    .    .    .    .    .    .    .    .    .    .    .    .    .    .    .    .    .    .    .    .    .    .    .    .    .    .    .    .    .    .    .    .    .    .    .    .    .    .    .    .    .    .    .    .    .    .    .    .    .    .    .    .    .    .    .    .    .    .    .    .    .    .    .    .    .    .    .    .    .    .    .    .    .    .    .    .    .    .    .    .    .    .    .    .    .    .    .    .    .    .    .    .    .    .    .    .    .    .    .    .    .    .    .    .    .    .    .    .    .    .    .    .    .    .    .    .    .    .    .    .    .    .    .    .    .    .    .    .    .    .    .    .    .    .    .    .    .    .    .    .    .    .    .    .    .    .    .    .    .    .    .    .    .    .    .    .    .    .    .    .    .    .    .    .    .    .    .    .    .    .    .    .    .    .    .    .    .    .    . <396>|\n",
            "-----------+----------------------------------------------------------------------------------------------------------------------------------------------------------------------------------------------------------------------------------------------------------------------------------------------------------------------------------------------------------------------------------------------------------------------------------------------------------------------------------------------------------------------------------------------------------------------------------------------------------------------------------------------------------------------------------------------------------------------------------------------------------------------------------------------------------------------------------------------------------------------------------------------------------------------------------------------------------------------------------------------------------------------------------------------------------------------------+\n",
            "(row = reference; col = test)\n",
            "\n"
          ],
          "name": "stdout"
        }
      ]
    },
    {
      "cell_type": "markdown",
      "metadata": {
        "id": "DXxbmmF8G8w4"
      },
      "source": [
        "#### Transformation-Based Tagging"
      ]
    },
    {
      "cell_type": "code",
      "metadata": {
        "colab": {
          "base_uri": "https://localhost:8080/"
        },
        "id": "SPqnyRS-JTPR",
        "outputId": "b2a2734e-0181-49bb-945e-aa7d544a4409"
      },
      "source": [
        "from nltk.tbl import demo as brill_demo\n",
        "brill_demo.demo()"
      ],
      "execution_count": 101,
      "outputs": [
        {
          "output_type": "stream",
          "text": [
            "Loading tagged data from treebank... \n",
            "Read testing data (200 sents/5251 wds)\n",
            "Read training data (800 sents/19933 wds)\n",
            "Read baseline data (800 sents/19933 wds) [reused the training set]\n",
            "Trained baseline tagger\n",
            "    Accuracy on test set: 0.8366\n",
            "Training tbl tagger...\n",
            "TBL train (fast) (seqs: 800; tokens: 19933; tpls: 24; min score: 3; min acc: None)\n",
            "Finding initial useful rules...\n",
            "    Found 12799 useful rules.\n",
            "\n",
            "           B      |\n",
            "   S   F   r   O  |        Score = Fixed - Broken\n",
            "   c   i   o   t  |  R     Fixed = num tags changed incorrect -> correct\n",
            "   o   x   k   h  |  u     Broken = num tags changed correct -> incorrect\n",
            "   r   e   e   e  |  l     Other = num tags changed incorrect -> incorrect\n",
            "   e   d   n   r  |  e\n",
            "------------------+-------------------------------------------------------\n",
            "  23  23   0   0  | POS->VBZ if Pos:PRP@[-2,-1]\n",
            "  18  19   1   0  | NN->VB if Pos:-NONE-@[-2] & Pos:TO@[-1]\n",
            "  14  14   0   0  | VBP->VB if Pos:MD@[-2,-1]\n",
            "  12  12   0   0  | VBP->VB if Pos:TO@[-1]\n",
            "  11  11   0   0  | VBD->VBN if Pos:VBD@[-1]\n",
            "  11  11   0   0  | IN->WDT if Pos:-NONE-@[1] & Pos:VBP@[2]\n",
            "  10  11   1   0  | VBN->VBD if Pos:PRP@[-1]\n",
            "   9  10   1   0  | VBD->VBN if Pos:VBZ@[-1]\n",
            "   8   8   0   0  | NN->VB if Pos:MD@[-1]\n",
            "   7   7   0   1  | VB->NN if Pos:DT@[-1]\n",
            "   7   7   0   0  | VB->VBP if Pos:PRP@[-1]\n",
            "   7   7   0   0  | IN->WDT if Pos:-NONE-@[1] & Pos:VBZ@[2]\n",
            "   7   8   1   0  | IN->RB if Word:as@[2]\n",
            "   6   6   0   0  | VBD->VBN if Pos:VBP@[-2,-1]\n",
            "   6   6   0   1  | IN->WDT if Pos:-NONE-@[1] & Pos:VBD@[2]\n",
            "   5   5   0   0  | POS->VBZ if Pos:-NONE-@[-1]\n",
            "   5   5   0   0  | VB->VBP if Pos:NNS@[-1]\n",
            "   5   5   0   0  | VBD->VBN if Word:be@[-2,-1]\n",
            "   4   4   0   0  | POS->VBZ if Pos:``@[-2]\n",
            "   4   4   0   0  | VBP->VB if Pos:VBD@[-2,-1]\n",
            "   4   6   2   3  | RP->RB if Pos:CD@[1,2]\n",
            "   4   4   0   0  | RB->JJ if Pos:DT@[-1] & Pos:NN@[1]\n",
            "   4   4   0   0  | NN->VBP if Pos:NNS@[-2] & Pos:RB@[-1]\n",
            "   4   5   1   0  | VBN->VBD if Pos:NNP@[-2] & Pos:NNP@[-1]\n",
            "   4   4   0   0  | IN->WDT if Pos:-NONE-@[1] & Pos:MD@[2]\n",
            "   4   8   4   0  | VBD->VBN if Word:*@[1]\n",
            "   4   4   0   0  | JJS->RBS if Word:most@[0] & Word:the@[-1] & Pos:DT@[-1]\n",
            "   3   3   0   0  | VBD->VBN if Pos:VBN@[-1]\n",
            "   3   4   1   0  | VBN->VB if Pos:TO@[-1]\n",
            "   3   4   1   1  | IN->RB if Pos:.@[1]\n",
            "   3   3   0   0  | JJ->RB if Pos:VBD@[1]\n",
            "   3   3   0   0  | PRP$->PRP if Pos:TO@[1]\n",
            "   3   3   0   0  | NN->VBP if Pos:NNS@[-1] & Pos:DT@[1]\n",
            "   3   3   0   0  | VBP->VB if Word:n't@[-2,-1]\n",
            "Trained tbl tagger in 2.75 seconds\n",
            "    Accuracy on test set: 0.8572\n",
            "Tagging the test data\n"
          ],
          "name": "stdout"
        }
      ]
    },
    {
      "cell_type": "code",
      "metadata": {
        "id": "bD14vZc1Jbzr"
      },
      "source": [
        ""
      ],
      "execution_count": 102,
      "outputs": []
    },
    {
      "cell_type": "code",
      "metadata": {
        "id": "lhcNSSNcJm20"
      },
      "source": [
        ""
      ],
      "execution_count": null,
      "outputs": []
    }
  ]
}