{
  "nbformat": 4,
  "nbformat_minor": 0,
  "metadata": {
    "colab": {
      "name": "Processing_raw_text_nltk.ipynb",
      "provenance": [],
      "collapsed_sections": [
        "_MoKa1EEGHOp"
      ],
      "authorship_tag": "ABX9TyMyrW6nNRBGIKuZHT70y613",
      "include_colab_link": true
    },
    "kernelspec": {
      "name": "python3",
      "display_name": "Python 3"
    }
  },
  "cells": [
    {
      "cell_type": "markdown",
      "metadata": {
        "id": "view-in-github",
        "colab_type": "text"
      },
      "source": [
        "<a href=\"https://colab.research.google.com/github/ishandahal/natural_language_toolkit/blob/main/Processing_raw_text_nltk.ipynb\" target=\"_parent\"><img src=\"https://colab.research.google.com/assets/colab-badge.svg\" alt=\"Open In Colab\"/></a>"
      ]
    },
    {
      "cell_type": "code",
      "metadata": {
        "id": "Btn1AAsgbfqB"
      },
      "source": [
        "import nltk, re, pprint\n",
        "from nltk import word_tokenize"
      ],
      "execution_count": null,
      "outputs": []
    },
    {
      "cell_type": "code",
      "metadata": {
        "colab": {
          "base_uri": "https://localhost:8080/"
        },
        "id": "orzfZRvrhTZB",
        "outputId": "42d1a6d2-cf5d-47b4-bf56-8b69924cb1fc"
      },
      "source": [
        "nltk.download([\"punkt\", 'stopwords', 'genesis', 'gutenberg', \"wordnet\", 'unicode_samples', 'words', 'treebank', 'udhr', 'toolbox', 'nps_chat', 'brown', 'webtext'])"
      ],
      "execution_count": 197,
      "outputs": [
        {
          "output_type": "stream",
          "text": [
            "[nltk_data] Downloading package punkt to /root/nltk_data...\n",
            "[nltk_data]   Package punkt is already up-to-date!\n",
            "[nltk_data] Downloading package stopwords to /root/nltk_data...\n",
            "[nltk_data]   Package stopwords is already up-to-date!\n",
            "[nltk_data] Downloading package genesis to /root/nltk_data...\n",
            "[nltk_data]   Unzipping corpora/genesis.zip.\n",
            "[nltk_data] Downloading package gutenberg to /root/nltk_data...\n",
            "[nltk_data]   Package gutenberg is already up-to-date!\n",
            "[nltk_data] Downloading package wordnet to /root/nltk_data...\n",
            "[nltk_data]   Package wordnet is already up-to-date!\n",
            "[nltk_data] Downloading package unicode_samples to /root/nltk_data...\n",
            "[nltk_data]   Package unicode_samples is already up-to-date!\n",
            "[nltk_data] Downloading package words to /root/nltk_data...\n",
            "[nltk_data]   Package words is already up-to-date!\n",
            "[nltk_data] Downloading package treebank to /root/nltk_data...\n",
            "[nltk_data]   Package treebank is already up-to-date!\n",
            "[nltk_data] Downloading package udhr to /root/nltk_data...\n",
            "[nltk_data]   Package udhr is already up-to-date!\n",
            "[nltk_data] Downloading package toolbox to /root/nltk_data...\n",
            "[nltk_data]   Package toolbox is already up-to-date!\n",
            "[nltk_data] Downloading package nps_chat to /root/nltk_data...\n",
            "[nltk_data]   Package nps_chat is already up-to-date!\n",
            "[nltk_data] Downloading package brown to /root/nltk_data...\n",
            "[nltk_data]   Package brown is already up-to-date!\n",
            "[nltk_data] Downloading package webtext to /root/nltk_data...\n",
            "[nltk_data]   Package webtext is already up-to-date!\n"
          ],
          "name": "stdout"
        },
        {
          "output_type": "execute_result",
          "data": {
            "text/plain": [
              "True"
            ]
          },
          "metadata": {
            "tags": []
          },
          "execution_count": 197
        }
      ]
    },
    {
      "cell_type": "markdown",
      "metadata": {
        "id": "3WzH7YpKbtnU"
      },
      "source": [
        "### Accessing Text from the Web and from Disk"
      ]
    },
    {
      "cell_type": "code",
      "metadata": {
        "colab": {
          "base_uri": "https://localhost:8080/",
          "height": 71
        },
        "id": "EvVtAw42cTcy",
        "outputId": "dbf3af17-e2eb-472c-fa81-34d06d089f6c"
      },
      "source": [
        "from urllib import request\n",
        "url = \"http://www.gutenberg.org/files/2554/2554-0.txt\"\n",
        "response = request.urlopen(url)\n",
        "raw = response.read().decode('utf8')\n",
        "print(type(raw))\n",
        "print(len(raw))\n",
        "raw[:76]"
      ],
      "execution_count": null,
      "outputs": [
        {
          "output_type": "stream",
          "text": [
            "<class 'str'>\n",
            "1176967\n"
          ],
          "name": "stdout"
        },
        {
          "output_type": "execute_result",
          "data": {
            "application/vnd.google.colaboratory.intrinsic+json": {
              "type": "string"
            },
            "text/plain": [
              "'\\ufeffThe Project Gutenberg EBook of Crime and Punishment, by Fyodor Dostoevsky\\r\\n'"
            ]
          },
          "metadata": {
            "tags": []
          },
          "execution_count": 4
        }
      ]
    },
    {
      "cell_type": "code",
      "metadata": {
        "colab": {
          "base_uri": "https://localhost:8080/"
        },
        "id": "y7WNydyOe5-Y",
        "outputId": "487d8ac8-3f05-4b3e-9fe5-d674991f6c35"
      },
      "source": [
        "tokens = word_tokenize(raw)\n",
        "print(type(tokens))\n",
        "print(len(tokens))\n",
        "tokens[:10]"
      ],
      "execution_count": null,
      "outputs": [
        {
          "output_type": "stream",
          "text": [
            "<class 'list'>\n",
            "257727\n"
          ],
          "name": "stdout"
        },
        {
          "output_type": "execute_result",
          "data": {
            "text/plain": [
              "['\\ufeffThe',\n",
              " 'Project',\n",
              " 'Gutenberg',\n",
              " 'EBook',\n",
              " 'of',\n",
              " 'Crime',\n",
              " 'and',\n",
              " 'Punishment',\n",
              " ',',\n",
              " 'by']"
            ]
          },
          "metadata": {
            "tags": []
          },
          "execution_count": 5
        }
      ]
    },
    {
      "cell_type": "code",
      "metadata": {
        "colab": {
          "base_uri": "https://localhost:8080/"
        },
        "id": "kGZ_5FPwhaAZ",
        "outputId": "3b9417cf-f1f8-443c-c212-550cfd31bae7"
      },
      "source": [
        "text = nltk.Text(tokens)\n",
        "print(type(text))\n",
        "print(text[1024:1062])\n",
        "text.collocations() ## Word pairs that appear together"
      ],
      "execution_count": null,
      "outputs": [
        {
          "output_type": "stream",
          "text": [
            "<class 'nltk.text.Text'>\n",
            "['an', 'exceptionally', 'hot', 'evening', 'early', 'in', 'July', 'a', 'young', 'man', 'came', 'out', 'of', 'the', 'garret', 'in', 'which', 'he', 'lodged', 'in', 'S.', 'Place', 'and', 'walked', 'slowly', ',', 'as', 'though', 'in', 'hesitation', ',', 'towards', 'K.', 'bridge', '.', 'He', 'had', 'successfully']\n",
            "Katerina Ivanovna; Pyotr Petrovitch; Pulcheria Alexandrovna; Avdotya\n",
            "Romanovna; Rodion Romanovitch; Marfa Petrovna; Sofya Semyonovna; old\n",
            "woman; Project Gutenberg-tm; Porfiry Petrovitch; Amalia Ivanovna;\n",
            "great deal; young man; Nikodim Fomitch; Ilya Petrovitch; Project\n",
            "Gutenberg; Andrey Semyonovitch; Hay Market; Dmitri Prokofitch; Good\n",
            "heavens\n"
          ],
          "name": "stdout"
        }
      ]
    },
    {
      "cell_type": "markdown",
      "metadata": {
        "id": "hmPC_5pqpFII"
      },
      "source": [
        "### Sometimes there are extra texts that we do not care about. We can remove that."
      ]
    },
    {
      "cell_type": "code",
      "metadata": {
        "colab": {
          "base_uri": "https://localhost:8080/"
        },
        "id": "AbteMFjQiU1C",
        "outputId": "0b9048ee-e1e0-4cab-d0e9-9a9ecb1cf4e0"
      },
      "source": [
        "print(raw.find(\"PART I\"))\n",
        "print(raw.rfind(\"End of Project Gutenberg\"))\n",
        "raw = raw[5336:1157812] # Slicing the content to include just the relevant text\n",
        "raw.find(\"PART I\")"
      ],
      "execution_count": null,
      "outputs": [
        {
          "output_type": "stream",
          "text": [
            "5336\n",
            "1157812\n"
          ],
          "name": "stdout"
        },
        {
          "output_type": "execute_result",
          "data": {
            "text/plain": [
              "0"
            ]
          },
          "metadata": {
            "tags": []
          },
          "execution_count": 7
        }
      ]
    },
    {
      "cell_type": "markdown",
      "metadata": {
        "id": "oIxe_ZBzmvIW"
      },
      "source": [
        "### Dealing with HTML"
      ]
    },
    {
      "cell_type": "code",
      "metadata": {
        "colab": {
          "base_uri": "https://localhost:8080/",
          "height": 36
        },
        "id": "mm5mAqNBpWGj",
        "outputId": "9bf426bb-3a29-4f37-98fa-86d11ca77f67"
      },
      "source": [
        "url = \"http://news.bbc.co.uk/2/hi/health/2284783.stm\"\n",
        "html = request.urlopen(url).read().decode('utf8')\n",
        "html[:60]"
      ],
      "execution_count": null,
      "outputs": [
        {
          "output_type": "execute_result",
          "data": {
            "application/vnd.google.colaboratory.intrinsic+json": {
              "type": "string"
            },
            "text/plain": [
              "'<!doctype html public \"-//W3C//DTD HTML 4.0 Transitional//EN'"
            ]
          },
          "metadata": {
            "tags": []
          },
          "execution_count": 8
        }
      ]
    },
    {
      "cell_type": "markdown",
      "metadata": {
        "id": "d4onieiQpzQy"
      },
      "source": [
        "Using Beautiful Soup library "
      ]
    },
    {
      "cell_type": "code",
      "metadata": {
        "colab": {
          "base_uri": "https://localhost:8080/"
        },
        "id": "ktq2zn38qUIi",
        "outputId": "9e466e4a-d951-42ac-fd8e-f4248685c8ce"
      },
      "source": [
        "from bs4 import BeautifulSoup\n",
        "raw = BeautifulSoup(html, 'html.parser').get_text()\n",
        "tokens = word_tokenize(raw)\n",
        "print(tokens)"
      ],
      "execution_count": null,
      "outputs": [
        {
          "output_type": "stream",
          "text": [
            "['BBC', 'NEWS', '|', 'Health', '|', 'Blondes', \"'to\", 'die', 'out', 'in', '200', \"years'\", 'NEWS', 'SPORT', 'WEATHER', 'WORLD', 'SERVICE', 'A-Z', 'INDEX', 'SEARCH', 'You', 'are', 'in', ':', 'Health', 'News', 'Front', 'Page', 'Africa', 'Americas', 'Asia-Pacific', 'Europe', 'Middle', 'East', 'South', 'Asia', 'UK', 'Business', 'Entertainment', 'Science/Nature', 'Technology', 'Health', 'Medical', 'notes', '--', '--', '--', '--', '--', '--', '-', 'Talking', 'Point', '--', '--', '--', '--', '--', '--', '-', 'Country', 'Profiles', 'In', 'Depth', '--', '--', '--', '--', '--', '--', '-', 'Programmes', '--', '--', '--', '--', '--', '--', '-', 'SERVICES', 'Daily', 'E-mail', 'News', 'Ticker', 'Mobile/PDAs', '--', '--', '--', '--', '--', '--', '-', 'Text', 'Only', 'Feedback', 'Help', 'EDITIONS', 'Change', 'to', 'UK', 'Friday', ',', '27', 'September', ',', '2002', ',', '11:51', 'GMT', '12:51', 'UK', 'Blondes', \"'to\", 'die', 'out', 'in', '200', \"years'\", 'Scientists', 'believe', 'the', 'last', 'blondes', 'will', 'be', 'in', 'Finland', 'The', 'last', 'natural', 'blondes', 'will', 'die', 'out', 'within', '200', 'years', ',', 'scientists', 'believe', '.', 'A', 'study', 'by', 'experts', 'in', 'Germany', 'suggests', 'people', 'with', 'blonde', 'hair', 'are', 'an', 'endangered', 'species', 'and', 'will', 'become', 'extinct', 'by', '2202', '.', 'Researchers', 'predict', 'the', 'last', 'truly', 'natural', 'blonde', 'will', 'be', 'born', 'in', 'Finland', '-', 'the', 'country', 'with', 'the', 'highest', 'proportion', 'of', 'blondes', '.', 'The', 'frequency', 'of', 'blondes', 'may', 'drop', 'but', 'they', 'wo', \"n't\", 'disappear', 'Prof', 'Jonathan', 'Rees', ',', 'University', 'of', 'Edinburgh', 'But', 'they', 'say', 'too', 'few', 'people', 'now', 'carry', 'the', 'gene', 'for', 'blondes', 'to', 'last', 'beyond', 'the', 'next', 'two', 'centuries', '.', 'The', 'problem', 'is', 'that', 'blonde', 'hair', 'is', 'caused', 'by', 'a', 'recessive', 'gene', '.', 'In', 'order', 'for', 'a', 'child', 'to', 'have', 'blonde', 'hair', ',', 'it', 'must', 'have', 'the', 'gene', 'on', 'both', 'sides', 'of', 'the', 'family', 'in', 'the', 'grandparents', \"'\", 'generation', '.', 'Dyed', 'rivals', 'The', 'researchers', 'also', 'believe', 'that', 'so-called', 'bottle', 'blondes', 'may', 'be', 'to', 'blame', 'for', 'the', 'demise', 'of', 'their', 'natural', 'rivals', '.', 'They', 'suggest', 'that', 'dyed-blondes', 'are', 'more', 'attractive', 'to', 'men', 'who', 'choose', 'them', 'as', 'partners', 'over', 'true', 'blondes', '.', 'Bottle-blondes', 'like', 'Ann', 'Widdecombe', 'may', 'be', 'to', 'blame', 'But', 'Jonathan', 'Rees', ',', 'professor', 'of', 'dermatology', 'at', 'the', 'University', 'of', 'Edinburgh', 'said', 'it', 'was', 'unlikely', 'blondes', 'would', 'die', 'out', 'completely', '.', '``', 'Genes', 'do', \"n't\", 'die', 'out', 'unless', 'there', 'is', 'a', 'disadvantage', 'of', 'having', 'that', 'gene', 'or', 'by', 'chance', '.', 'They', 'do', \"n't\", 'disappear', ',', \"''\", 'he', 'told', 'BBC', 'News', 'Online', '.', '``', 'The', 'only', 'reason', 'blondes', 'would', 'disappear', 'is', 'if', 'having', 'the', 'gene', 'was', 'a', 'disadvantage', 'and', 'I', 'do', 'not', 'think', 'that', 'is', 'the', 'case', '.', '``', 'The', 'frequency', 'of', 'blondes', 'may', 'drop', 'but', 'they', 'wo', \"n't\", 'disappear', '.', \"''\", 'See', 'also', ':', '28', 'Mar', '01', '|', 'Education', 'What', 'is', 'it', 'about', 'blondes', '?', '09', 'Apr', '99', '|', 'Health', 'Platinum', 'blondes', 'are', 'labelled', 'as', 'dumb', '17', 'Apr', '02', '|', 'Health', 'Hair', 'dye', 'cancer', 'alert', 'Internet', 'links', ':', 'University', 'of', 'Edinburgh', 'The', 'BBC', 'is', 'not', 'responsible', 'for', 'the', 'content', 'of', 'external', 'internet', 'sites', 'Top', 'Health', 'stories', 'now', ':', 'Heart', 'risk', 'link', 'to', 'big', 'families', 'Back', 'pain', 'drug', \"'may\", 'aid', \"diabetics'\", 'Congo', 'Ebola', 'outbreak', 'confirmed', 'Vegetables', 'ward', 'off', \"Alzheimer's\", 'Polio', 'campaign', 'launched', 'in', 'Iraq', 'Gene', 'defect', 'explains', 'high', 'blood', 'pressure', 'Botox', \"'may\", 'cause', 'new', \"wrinkles'\", 'Alien', \"'abductees\", \"'\", 'show', 'real', 'symptoms', 'Links', 'to', 'more', 'Health', 'stories', 'are', 'at', 'the', 'foot', 'of', 'the', 'page', '.', 'E-mail', 'this', 'story', 'to', 'a', 'friend', 'Links', 'to', 'more', 'Health', 'stories', 'In', 'This', 'Section', 'Heart', 'risk', 'link', 'to', 'big', 'families', 'Back', 'pain', 'drug', \"'may\", 'aid', \"diabetics'\", 'Congo', 'Ebola', 'outbreak', 'confirmed', 'Vegetables', 'ward', 'off', \"Alzheimer's\", 'Polio', 'campaign', 'launched', 'in', 'Iraq', 'Gene', 'defect', 'explains', 'high', 'blood', 'pressure', 'Botox', \"'may\", 'cause', 'new', \"wrinkles'\", 'Alien', \"'abductees\", \"'\", 'show', 'real', 'symptoms', 'How', 'sperm', 'wriggle', 'Bollywood', 'told', 'to', 'stub', 'it', 'out', 'Fears', 'over', 'tuna', 'health', 'risk', 'to', 'babies', 'Public', 'can', 'be', 'taught', 'to', 'spot', 'strokes', '^^', 'Back', 'to', 'top', 'News', 'Front', 'Page', '|', 'Africa', '|', 'Americas', '|', 'Asia-Pacific', '|', 'Europe', '|', 'Middle', 'East', '|', 'South', 'Asia', '|', 'UK', '|', 'Business', '|', 'Entertainment', '|', 'Science/Nature', '|', 'Technology', '|', 'Health', '|', 'Talking', 'Point', '|', 'Country', 'Profiles', '|', 'In', 'Depth', '|', 'Programmes', '--', '--', '--', '--', '--', '--', '--', '--', '--', '--', '--', '--', '--', '--', '--', '--', '--', '--', '--', '--', '--', '--', '--', '--', '--', '--', '--', '--', '--', '--', '--', '--', '--', '--', '--', '--', '--', '--', '--', '--', '--', 'To', 'BBC', 'Sport', '>', '>', '|', 'To', 'BBC', 'Weather', '>', '>', '|', 'To', 'BBC', 'World', 'Service', '>', '>', '--', '--', '--', '--', '--', '--', '--', '--', '--', '--', '--', '--', '--', '--', '--', '--', '--', '--', '--', '--', '--', '--', '--', '--', '--', '--', '--', '--', '--', '--', '--', '--', '--', '--', '--', '--', '--', '--', '--', '--', '--', '©', 'MMIII', '|', 'News', 'Sources', '|', 'Privacy', '<', '!', '--', 'var', 'pCid=', \"''\", 'uk_bbc_0', \"''\", ';', 'var', 'w0=1', ';', 'var', 'refR=escape', '(', 'document.referrer', ')', ';', 'if', '(', 'refR.length', '>', '=252', ')', 'refR=refR.substring', '(', '0,252', ')', '+', \"''\", '...', \"''\", ';', '//', '--', '>', '<', '!', '--', 'var', 'w0=0', ';', '//', '--', '>', '<', '!', '--', 'if', '(', 'w0', ')', '{', 'var', 'imgN=', \"'\", '<', 'img', 'src=', \"''\", 'http', ':', '//server-uk.imrworldwide.com/cgi-bin/count', '?', \"ref='+\", 'refR+', \"'\", '&', \"cid='+pCid+\", \"'\", \"''\", 'width=1', 'height=1', '>', \"'\", ';', 'if', '(', 'navigator.userAgent.indexOf', '(', \"'Mac\", \"'\", ')', '!', '=-1', ')', '{', 'document.write', '(', 'imgN', ')', ';', '}', 'else', '{', 'document.write', '(', \"'\", '<', 'applet', 'code=', \"''\", 'Measure.class', \"''\", \"'+\", \"'codebase=\", \"''\", 'http', ':', '//server-uk.imrworldwide.com/', \"''\", \"'+'width=1\", 'height=2', '>', \"'+\", \"'\", '<', 'param', 'name=', \"''\", 'ref', \"''\", 'value=', \"''\", \"'+refR+\", \"'\", \"''\", '>', \"'+\", \"'\", '<', 'param', 'name=', \"''\", 'cid', \"''\", 'value=', \"''\", \"'+pCid+\", \"'\", \"''\", '>', '<', 'textflow', '>', \"'+imgN+\", \"'\", '<', '/textflow', '>', '<', '/applet', '>', \"'\", ')', ';', '}', '}', 'document.write', '(', '``', '<', 'COMMENT', '>', \"''\", ')', ';', '//', '--', '>', 'var', 'si', '=', 'document.location+', \"''\", \"''\", ';', 'var', 'tsi', '=', 'si.replace', '(', '``', '.stm', \"''\", ',', \"''\", \"''\", ')', '.substr', '(', 'si.length-11', ',', 'si.length', ')', ';', 'if', '(', '!', 'tsi.match', '(', '/\\\\d\\\\d\\\\d\\\\d\\\\d\\\\d\\\\d/', ')', ')', '{', 'tsi', '=', '0', ';', '}', 'document.write', '(', \"'\", '<', 'img', 'src=', \"''\", 'http', ':', '//stats.bbc.co.uk/o.gif', '?', '~RS~s~RS~News~RS~t~RS~HighWeb_Legacy~RS~i~RS~', \"'\", '+', 'tsi', '+', \"'~RS~p~RS~0~RS~u~RS~/2/hi/health/2284783.stm~RS~r~RS~\", '(', 'none', ')', '~RS~a~RS~International~RS~q~RS~~RS~z~RS~04~RS~', \"''\", '>', \"'\", ')', ';']\n"
          ],
          "name": "stdout"
        }
      ]
    },
    {
      "cell_type": "markdown",
      "metadata": {
        "id": "T5CpfpLnql_O"
      },
      "source": [
        "Getting the text of interest"
      ]
    },
    {
      "cell_type": "code",
      "metadata": {
        "colab": {
          "base_uri": "https://localhost:8080/"
        },
        "id": "qHq3ZtFxrQZf",
        "outputId": "6fa17f56-cad2-4687-a87d-9259c8ddba64"
      },
      "source": [
        "tokens = tokens[110:390]\n",
        "text = nltk.Text(tokens)\n",
        "print(text.concordance(\"gene\"))"
      ],
      "execution_count": null,
      "outputs": [
        {
          "output_type": "stream",
          "text": [
            "Displaying 5 of 5 matches:\n",
            "hey say too few people now carry the gene for blondes to last beyond the next \n",
            "blonde hair is caused by a recessive gene . In order for a child to have blond\n",
            " have blonde hair , it must have the gene on both sides of the family in the g\n",
            "ere is a disadvantage of having that gene or by chance . They do n't disappear\n",
            "des would disappear is if having the gene was a disadvantage and I do not thin\n",
            "None\n"
          ],
          "name": "stdout"
        }
      ]
    },
    {
      "cell_type": "markdown",
      "metadata": {
        "id": "-QGGSDaHrgld"
      },
      "source": [
        "Processing RSS Feeds"
      ]
    },
    {
      "cell_type": "code",
      "metadata": {
        "colab": {
          "base_uri": "https://localhost:8080/"
        },
        "id": "pdAUKVWySMBN",
        "outputId": "661b069c-15b7-495c-d76b-dddf2db4fe80"
      },
      "source": [
        "pip install feedparser"
      ],
      "execution_count": null,
      "outputs": [
        {
          "output_type": "stream",
          "text": [
            "Collecting feedparser\n",
            "\u001b[?25l  Downloading https://files.pythonhosted.org/packages/1c/21/faf1bac028662cc8adb2b5ef7a6f3999a765baa2835331df365289b0ca56/feedparser-6.0.2-py3-none-any.whl (80kB)\n",
            "\r\u001b[K     |████                            | 10kB 16.9MB/s eta 0:00:01\r\u001b[K     |████████                        | 20kB 21.6MB/s eta 0:00:01\r\u001b[K     |████████████▏                   | 30kB 12.4MB/s eta 0:00:01\r\u001b[K     |████████████████▏               | 40kB 8.7MB/s eta 0:00:01\r\u001b[K     |████████████████████▎           | 51kB 8.4MB/s eta 0:00:01\r\u001b[K     |████████████████████████▎       | 61kB 7.9MB/s eta 0:00:01\r\u001b[K     |████████████████████████████▍   | 71kB 8.1MB/s eta 0:00:01\r\u001b[K     |████████████████████████████████| 81kB 4.8MB/s \n",
            "\u001b[?25hCollecting sgmllib3k\n",
            "  Downloading https://files.pythonhosted.org/packages/9e/bd/3704a8c3e0942d711c1299ebf7b9091930adae6675d7c8f476a7ce48653c/sgmllib3k-1.0.0.tar.gz\n",
            "Building wheels for collected packages: sgmllib3k\n",
            "  Building wheel for sgmllib3k (setup.py) ... \u001b[?25l\u001b[?25hdone\n",
            "  Created wheel for sgmllib3k: filename=sgmllib3k-1.0.0-cp36-none-any.whl size=6067 sha256=7a35b7ebc252c679c38eafe20693057455da1837c425db2ed48831fa2cc033b0\n",
            "  Stored in directory: /root/.cache/pip/wheels/f1/80/5a/444ba08a550cdd241bd9baf8bae44be750efe370adb944506a\n",
            "Successfully built sgmllib3k\n",
            "Installing collected packages: sgmllib3k, feedparser\n",
            "Successfully installed feedparser-6.0.2 sgmllib3k-1.0.0\n"
          ],
          "name": "stdout"
        }
      ]
    },
    {
      "cell_type": "code",
      "metadata": {
        "colab": {
          "base_uri": "https://localhost:8080/"
        },
        "id": "xJCsr2fXRy08",
        "outputId": "c1e9b0cd-d59a-46c9-9b80-7a5d948d175d"
      },
      "source": [
        "import feedparser\n",
        "llog = feedparser.parse(\"http://languagelog.ldc.upenn.edu/nll/?feed=atom\")\n",
        "print(llog['feed']['title'])\n",
        "print(len(llog.entries))\n",
        "post = llog.entries[3]\n",
        "post.title\n",
        "content = post.content[0].value\n",
        "print(content[:70])\n",
        "raw = BeautifulSoup(content, 'html.parser').get_text()\n",
        "print(word_tokenize(raw))"
      ],
      "execution_count": null,
      "outputs": [
        {
          "output_type": "stream",
          "text": [
            "Language Log\n",
            "13\n",
            "<blockquote class=\"twitter-tweet\">\n",
            "<p dir=\"ltr\" lang=\"en\">\"We're worki\n",
            "[\"''\", 'We', \"'re\", 'working', 'on', 'mass', 'distribution', 'of', 'the', 'virus', '.', \"''\", '—', 'Treasury', 'Sec', '.', 'Steve', 'Mnuchin', ',', 'who', 'we', 'hope', 'is', 'working', 'on', 'mass', 'distribution', 'of', 'the', '~vaccine~', 'and', 'not', 'the', 'virus', '.', 'pic.twitter.com/DqaTC1ZTmD', '—', 'The', 'Recount', '(', '@', 'therecount', ')', 'November', '20', ',', '2020', 'Your', 'browser', 'does', 'not', 'support', 'the', 'audio', 'element', '.', 'Well', 'we-', 'we-', 'we-', 'we-', 'we', 'hope', 'it', \"won't\", 'and', 'again', 'you', 'know', 'we', \"'re\", 'working', 'on', 'mass', 'distribution', 'of', 'the', 'virus', 'uh', 'and', 'again', 'For', 'more', 'on', 'word-substitution', 'errors', 'like', 'Mnuchin', \"'s\", 'virus', 'for', 'vaccine', ',', 'see', '``', 'Defendants', 'wrongly', 'committed', 'of', 'a', 'crime', \"''\", ',', '8/4/2011', '.', 'There', 'are', 'a', 'couple', 'of', 'other', 'interesting', 'speech-production', 'phenomena', 'in', 'this', 'short', 'clip', ':', 'The', 'five', 'rapid', 'repetitions', 'of', 'we', ',', 'an', 'example', 'of', 'the', 'kind', 'of', 'repetition', 'disfluency', 'that', 'I', \"'ve\", 'suggested', 'ought', 'to', 'be', 'called', 'an', '``', 'interpolation', \"''\", ';', 'Two', 'uses', 'of', '``', 'and', 'again', \"''\", 'in', '7', 'seconds', ',', 'which', 'along', 'with', '``', 'you', 'know', \"''\", 'can', 'do', 'dual', 'duty', 'as', 'as', 'a', 'discourse', 'connective', 'and', 'a', 'filler', 'phrase', '.', 'I', 'have', \"n't\", 'been', 'able', 'to', 'locate', 'a', 'recording', 'of', 'the', 'longer', 'interview', 'that', 'this', 'came', 'from', '—', 'please', 'let', 'me', 'know', 'in', 'the', 'comments', 'if', 'you', 'find', 'it', '.']\n"
          ],
          "name": "stdout"
        }
      ]
    },
    {
      "cell_type": "markdown",
      "metadata": {
        "id": "qlsuicrGVgaj"
      },
      "source": [
        "### Reading Local Files"
      ]
    },
    {
      "cell_type": "code",
      "metadata": {
        "colab": {
          "base_uri": "https://localhost:8080/"
        },
        "id": "w4zsPzqhSjGo",
        "outputId": "5a7698bd-6f53-4ec6-9e77-5a5ff401dfb8"
      },
      "source": [
        "f = open('SAMPLE.txt')\n",
        "print(f.read()[:100])"
      ],
      "execution_count": null,
      "outputs": [
        {
          "output_type": "stream",
          "text": [
            "-- phpMyAdmin SQL Dump\n",
            "-- version 3.3.9\n",
            "-- http://www.phpmyadmin.net\n",
            "--\n",
            "-- Host: localhost\n",
            "-- Genera\n"
          ],
          "name": "stdout"
        }
      ]
    },
    {
      "cell_type": "markdown",
      "metadata": {
        "id": "ilwreu0KVM5e"
      },
      "source": [
        "Reading the text file one line at a time "
      ]
    },
    {
      "cell_type": "code",
      "metadata": {
        "colab": {
          "base_uri": "https://localhost:8080/"
        },
        "id": "fdjeRokCWggF",
        "outputId": "53048e84-1792-487f-da4d-2ffcf0de419a"
      },
      "source": [
        "f = open('SAMPLE.txt', 'rU')\n",
        "for line in f:\n",
        "    print(line.strip())"
      ],
      "execution_count": null,
      "outputs": [
        {
          "output_type": "stream",
          "text": [
            "-- phpMyAdmin SQL Dump\n",
            "-- version 3.3.9\n",
            "-- http://www.phpmyadmin.net\n",
            "--\n",
            "-- Host: localhost\n",
            "-- Generation Time: Feb 08, 2014 at 06:53 AM\n",
            "-- Server version: 5.1.36\n",
            "-- PHP Version: 5.3.0\n",
            "\n",
            "SET SQL_MODE=\"NO_AUTO_VALUE_ON_ZERO\";\n",
            "\n",
            "--\n",
            "-- Database: `sample`\n",
            "--\n",
            "\n",
            "-- --------------------------------------------------------\n",
            "\n",
            "--\n",
            "-- Table structure for table `agents`\n",
            "--\n",
            "\n",
            "CREATE TABLE IF NOT EXISTS `agents` (\n",
            "`AGENT_CODE` varchar(6) NOT NULL DEFAULT '',\n",
            "`AGENT_NAME` varchar(40) DEFAULT NULL,\n",
            "`WORKING_AREA` varchar(35) DEFAULT NULL,\n",
            "`COMMISSION` decimal(10,2) DEFAULT NULL,\n",
            "`PHONE_NO` varchar(15) DEFAULT NULL,\n",
            "`COUNTRY` varchar(25) DEFAULT NULL,\n",
            "PRIMARY KEY (`AGENT_CODE`)\n",
            ") ENGINE=MyISAM DEFAULT CHARSET=latin1;\n",
            "\n",
            "--\n",
            "-- Dumping data for table `agents`\n",
            "--\n",
            "\n",
            "INSERT INTO `agents` (`AGENT_CODE`, `AGENT_NAME`, `WORKING_AREA`, `COMMISSION`, `PHONE_NO`, `COUNTRY`) VALUES\n",
            "('A007  ', 'Ramasundar                              ', 'Bangalore                          ', '0.15', '077-25814763   ', '\\r'),\n",
            "('A003  ', 'Alex                                    ', 'London                             ', '0.13', '075-12458969   ', '\\r'),\n",
            "('A008  ', 'Alford                                  ', 'New York                           ', '0.12', '044-25874365   ', '\\r'),\n",
            "('A011  ', 'Ravi Kumar                              ', 'Bangalore                          ', '0.15', '077-45625874   ', '\\r'),\n",
            "('A010  ', 'Santakumar                              ', 'Chennai                            ', '0.14', '007-22388644   ', '\\r'),\n",
            "('A012  ', 'Lucida                                  ', 'San Jose                           ', '0.12', '044-52981425   ', '\\r'),\n",
            "('A005  ', 'Anderson                                ', 'Brisban                            ', '0.13', '045-21447739   ', '\\r'),\n",
            "('A001  ', 'Subbarao                                ', 'Bangalore                          ', '0.14', '077-12346674   ', '\\r'),\n",
            "('A002  ', 'Mukesh                                  ', 'Mumbai                             ', '0.11', '029-12358964   ', '\\r'),\n",
            "('A006  ', 'McDen                                   ', 'London                             ', '0.15', '078-22255588   ', '\\r'),\n",
            "('A004  ', 'Ivan                                    ', 'Torento                            ', '0.15', '008-22544166   ', '\\r'),\n",
            "('A009  ', 'Benjamin                                ', 'Hampshair                          ', '0.11', '008-22536178   ', '\\r');\n",
            "\n",
            "-- --------------------------------------------------------\n",
            "\n",
            "--\n",
            "-- Table structure for table `company`\n",
            "--\n",
            "\n",
            "CREATE TABLE IF NOT EXISTS `company` (\n",
            "`COMPANY_ID` varchar(6) NOT NULL DEFAULT '',\n",
            "`COMPANY_NAME` varchar(25) DEFAULT NULL,\n",
            "`COMPANY_CITY` varchar(25) DEFAULT NULL,\n",
            "PRIMARY KEY (`COMPANY_ID`)\n",
            ") ENGINE=MyISAM DEFAULT CHARSET=latin1;\n",
            "\n",
            "--\n",
            "-- Dumping data for table `company`\n",
            "--\n",
            "\n",
            "INSERT INTO `company` (`COMPANY_ID`, `COMPANY_NAME`, `COMPANY_CITY`) VALUES\n",
            "('18', 'Order All', 'Boston\\r'),\n",
            "('15', 'Jack Hill Ltd', 'London\\r'),\n",
            "('16', 'Akas Foods', 'Delhi\\r'),\n",
            "('17', 'Foodies.', 'London\\r'),\n",
            "('19', 'sip-n-Bite.', 'New York\\r');\n",
            "\n",
            "-- --------------------------------------------------------\n",
            "\n",
            "--\n",
            "-- Table structure for table `customer`\n",
            "--\n",
            "\n",
            "CREATE TABLE IF NOT EXISTS `customer` (\n",
            "`CUST_CODE` varchar(6) NOT NULL,\n",
            "`CUST_NAME` varchar(40) NOT NULL,\n",
            "`CUST_CITY` varchar(35) DEFAULT NULL,\n",
            "`WORKING_AREA` varchar(35) NOT NULL,\n",
            "`CUST_COUNTRY` varchar(20) NOT NULL,\n",
            "`GRADE` decimal(10,0) DEFAULT NULL,\n",
            "`OPENING_AMT` decimal(12,2) NOT NULL,\n",
            "`RECEIVE_AMT` decimal(12,2) NOT NULL,\n",
            "`PAYMENT_AMT` decimal(12,2) NOT NULL,\n",
            "`OUTSTANDING_AMT` decimal(12,2) NOT NULL,\n",
            "`PHONE_NO` varchar(17) NOT NULL,\n",
            "`AGENT_CODE` varchar(6) DEFAULT NULL,\n",
            "KEY `CUSTCITY` (`CUST_CITY`),\n",
            "KEY `CUSTCITY_COUNTRY` (`CUST_CITY`,`CUST_COUNTRY`)\n",
            ") ENGINE=MyISAM DEFAULT CHARSET=latin1;\n",
            "\n",
            "--\n",
            "-- Dumping data for table `customer`\n",
            "--\n",
            "\n",
            "INSERT INTO `customer` (`CUST_CODE`, `CUST_NAME`, `CUST_CITY`, `WORKING_AREA`, `CUST_COUNTRY`, `GRADE`, `OPENING_AMT`, `RECEIVE_AMT`, `PAYMENT_AMT`, `OUTSTANDING_AMT`, `PHONE_NO`, `AGENT_CODE`) VALUES\n",
            "('C00013', 'Holmes', 'London                             ', 'London', 'UK', '2', '6000.00', '5000.00', '7000.00', '4000.00', 'BBBBBBB', 'A003  '),\n",
            "('C00001', 'Micheal', 'New York                           ', 'New York', 'USA', '2', '3000.00', '5000.00', '2000.00', '6000.00', 'CCCCCCC', 'A008  '),\n",
            "('C00020', 'Albert', 'New York                           ', 'New York', 'USA', '3', '5000.00', '7000.00', '6000.00', '6000.00', 'BBBBSBB', 'A008  '),\n",
            "('C00025', 'Ravindran', 'Bangalore                          ', 'Bangalore', 'India', '2', '5000.00', '7000.00', '4000.00', '8000.00', 'AVAVAVA', 'A011  '),\n",
            "('C00024', 'Cook', 'London                             ', 'London', 'UK', '2', '4000.00', '9000.00', '7000.00', '6000.00', 'FSDDSDF', 'A006  '),\n",
            "('C00015', 'Stuart', 'London                             ', 'London', 'UK', '1', '6000.00', '8000.00', '3000.00', '11000.00', 'GFSGERS', 'A003  '),\n",
            "('C00002', 'Bolt', 'New York                           ', 'New York', 'USA', '3', '5000.00', '7000.00', '9000.00', '3000.00', 'DDNRDRH', 'A008  '),\n",
            "('C00018', 'Fleming', 'Brisban                            ', 'Brisban', 'Australia', '2', '7000.00', '7000.00', '9000.00', '5000.00', 'NHBGVFC', 'A005  '),\n",
            "('C00021', 'Jacks', 'Brisban                            ', 'Brisban', 'Australia', '1', '7000.00', '7000.00', '7000.00', '7000.00', 'WERTGDF', 'A005  '),\n",
            "('C00019', 'Yearannaidu', 'Chennai                            ', 'Chennai', 'India', '1', '8000.00', '7000.00', '7000.00', '8000.00', 'ZZZZBFV', 'A010  '),\n",
            "('C00005', 'Sasikant', 'Mumbai                             ', 'Mumbai', 'India', '1', '7000.00', '11000.00', '7000.00', '11000.00', '147-25896312', 'A002  '),\n",
            "('C00007', 'Ramanathan', 'Chennai                            ', 'Chennai', 'India', '1', '7000.00', '11000.00', '9000.00', '9000.00', 'GHRDWSD', 'A010  '),\n",
            "('C00022', 'Avinash', 'Mumbai                             ', 'Mumbai', 'India', '2', '7000.00', '11000.00', '9000.00', '9000.00', '113-12345678', 'A002  '),\n",
            "('C00004', 'Winston', 'Brisban                            ', 'Brisban', 'Australia', '1', '5000.00', '8000.00', '7000.00', '6000.00', 'AAAAAAA', 'A005  '),\n",
            "('C00023', 'Karl', 'London                             ', 'London', 'UK', '0', '4000.00', '6000.00', '7000.00', '3000.00', 'AAAABAA', 'A006  '),\n",
            "('C00006', 'Shilton', 'Torento                            ', 'Torento', 'Canada', '1', '10000.00', '7000.00', '6000.00', '11000.00', 'DDDDDDD', 'A004  '),\n",
            "('C00010', 'Charles', 'Hampshair                          ', 'Hampshair', 'UK', '3', '6000.00', '4000.00', '5000.00', '5000.00', 'MMMMMMM', 'A009  '),\n",
            "('C00017', 'Srinivas', 'Bangalore                          ', 'Bangalore', 'India', '2', '8000.00', '4000.00', '3000.00', '9000.00', 'AAAAAAB', 'A007  '),\n",
            "('C00012', 'Steven', 'San Jose                           ', 'San Jose', 'USA', '1', '5000.00', '7000.00', '9000.00', '3000.00', 'KRFYGJK', 'A012  '),\n",
            "('C00008', 'Karolina', 'Torento                            ', 'Torento', 'Canada', '1', '7000.00', '7000.00', '9000.00', '5000.00', 'HJKORED', 'A004  '),\n",
            "('C00003', 'Martin', 'Torento                            ', 'Torento', 'Canada', '2', '8000.00', '7000.00', '7000.00', '8000.00', 'MJYURFD', 'A004  '),\n",
            "('C00009', 'Ramesh', 'Mumbai                             ', 'Mumbai', 'India', '3', '8000.00', '7000.00', '3000.00', '12000.00', 'Phone No', 'A002  '),\n",
            "('C00014', 'Rangarappa', 'Bangalore                          ', 'Bangalore', 'India', '2', '8000.00', '11000.00', '7000.00', '12000.00', 'AAAATGF', 'A001  '),\n",
            "('C00016', 'Venkatpati', 'Bangalore                          ', 'Bangalore', 'India', '2', '8000.00', '11000.00', '7000.00', '12000.00', 'JRTVFDD', 'A007  '),\n",
            "('C00011', 'Sundariya', 'Chennai                            ', 'Chennai', 'India', '3', '7000.00', '11000.00', '7000.00', '11000.00', 'PPHGRTS', 'A010  ');\n",
            "\n",
            "-- --------------------------------------------------------\n",
            "\n",
            "--\n",
            "-- Table structure for table `daysorder`\n",
            "--\n",
            "\n",
            "CREATE TABLE IF NOT EXISTS `daysorder` (\n",
            "`ORD_NUM` decimal(6,0) NOT NULL,\n",
            "`ORD_AMOUNT` decimal(12,2) NOT NULL,\n",
            "`ADVANCE_AMOUNT` decimal(12,2) NOT NULL,\n",
            "`ORD_DATE` date NOT NULL,\n",
            "`CUST_CODE` varchar(6) NOT NULL,\n",
            "`AGENT_CODE` varchar(6) NOT NULL,\n",
            "`ORD_DESCRIPTION` varchar(60) NOT NULL\n",
            ") ENGINE=MyISAM DEFAULT CHARSET=latin1;\n",
            "\n",
            "--\n",
            "-- Dumping data for table `daysorder`\n",
            "--\n",
            "\n",
            "INSERT INTO `daysorder` (`ORD_NUM`, `ORD_AMOUNT`, `ADVANCE_AMOUNT`, `ORD_DATE`, `CUST_CODE`, `AGENT_CODE`, `ORD_DESCRIPTION`) VALUES\n",
            "('200107', '4500.00', '900.00', '2008-08-30', 'C00007', 'A010', 'SOD\\r'),\n",
            "('200114', '3500.00', '1500.00', '2008-08-15', 'C00002', 'A008', 'SOD\\r'),\n",
            "('200134', '4200.00', '1800.00', '2008-09-25', 'C00004', 'A005', 'SOD\\r'),\n",
            "('200115', '2000.00', '1200.00', '2008-02-08', 'C00013', 'A013', 'SOD\\r'),\n",
            "('200101', '3000.00', '1000.00', '2008-07-15', 'C00001', 'A008', 'SOD\\r'),\n",
            "('200128', '3500.00', '1500.00', '2008-07-20', 'C00009', 'A002', 'SOD\\r'),\n",
            "('200132', '4000.00', '1500.00', '2008-08-15', 'C00013', 'A013', 'SOD\\r');\n",
            "\n",
            "-- --------------------------------------------------------\n",
            "\n",
            "--\n",
            "-- Table structure for table `despatch`\n",
            "--\n",
            "\n",
            "CREATE TABLE IF NOT EXISTS `despatch` (\n",
            "`DES_NUM` varchar(6) NOT NULL DEFAULT '',\n",
            "`DES_DATE` date DEFAULT NULL,\n",
            "`DES_AMOUNT` decimal(12,2) DEFAULT NULL,\n",
            "`ORD_NUM` decimal(6,0) DEFAULT NULL,\n",
            "`ORD_DATE` date DEFAULT NULL,\n",
            "`ORD_AMOUNT` decimal(12,2) DEFAULT NULL,\n",
            "`AGENT_CODE` varchar(6) DEFAULT NULL,\n",
            "PRIMARY KEY (`DES_NUM`)\n",
            ") ENGINE=MyISAM DEFAULT CHARSET=latin1;\n",
            "\n",
            "--\n",
            "-- Dumping data for table `despatch`\n",
            "--\n",
            "\n",
            "\n",
            "-- --------------------------------------------------------\n",
            "\n",
            "--\n",
            "-- Table structure for table `foods`\n",
            "--\n",
            "\n",
            "CREATE TABLE IF NOT EXISTS `foods` (\n",
            "`ITEM_ID` varchar(6) NOT NULL DEFAULT '',\n",
            "`ITEM_NAME` varchar(25) DEFAULT NULL,\n",
            "`ITEM_UNIT` varchar(5) DEFAULT NULL,\n",
            "`COMPANY_ID` varchar(6) DEFAULT NULL,\n",
            "PRIMARY KEY (`ITEM_ID`)\n",
            ") ENGINE=MyISAM DEFAULT CHARSET=latin1;\n",
            "\n",
            "--\n",
            "-- Dumping data for table `foods`\n",
            "--\n",
            "\n",
            "INSERT INTO `foods` (`ITEM_ID`, `ITEM_NAME`, `ITEM_UNIT`, `COMPANY_ID`) VALUES\n",
            "('1', 'Chex Mix', 'Pcs', '16\\r'),\n",
            "('6', 'Cheez-It', 'Pcs', '15\\r'),\n",
            "('2', 'BN Biscuit', 'Pcs', '15\\r'),\n",
            "('3', 'Mighty Munch', 'Pcs', '17\\r'),\n",
            "('4', 'Pot Rice', 'Pcs', '15\\r'),\n",
            "('5', 'Jaffa Cakes', 'Pcs', '18\\r'),\n",
            "('7', 'Salt n Shake', 'Pcs', '\\r');\n",
            "\n",
            "-- --------------------------------------------------------\n",
            "\n",
            "--\n",
            "-- Table structure for table `listofitem`\n",
            "--\n",
            "\n",
            "CREATE TABLE IF NOT EXISTS `listofitem` (\n",
            "`ITEMCODE` varchar(6) NOT NULL,\n",
            "`ITEMNAME` varchar(25) NOT NULL,\n",
            "`BATCHCODE` varchar(35) NOT NULL,\n",
            "`CONAME` varchar(35) DEFAULT NULL,\n",
            "UNIQUE KEY `ITEMCODE` (`ITEMCODE`)\n",
            ") ENGINE=MyISAM DEFAULT CHARSET=latin1;\n",
            "\n",
            "--\n",
            "-- Dumping data for table `listofitem`\n",
            "--\n",
            "\n",
            "INSERT INTO `listofitem` (`ITEMCODE`, `ITEMNAME`, `BATCHCODE`, `CONAME`) VALUES\n",
            "('I001  ', 'CHOCOLATE                ', 'DM/2007-08/WBM%1                   ', '\\r'),\n",
            "('I003  ', 'HOT DOG                  ', 'DM/2007-08/WB1                     ', 'ABJ ENTERPRISE                     '),\n",
            "('I002  ', 'CONDENSED MILK           ', 'DM/2007-08/WBM%2                   ', 'ABJ CONCERN                        ');\n",
            "\n",
            "-- --------------------------------------------------------\n",
            "\n",
            "--\n",
            "-- Table structure for table `orders`\n",
            "--\n",
            "\n",
            "CREATE TABLE IF NOT EXISTS `orders` (\n",
            "`ORD_NUM` decimal(6,0) NOT NULL,\n",
            "`ORD_AMOUNT` decimal(12,2) NOT NULL,\n",
            "`ADVANCE_AMOUNT` decimal(12,2) NOT NULL,\n",
            "`ORD_DATE` date NOT NULL,\n",
            "`CUST_CODE` varchar(6) NOT NULL,\n",
            "`AGENT_CODE` varchar(6) NOT NULL,\n",
            "`ORD_DESCRIPTION` varchar(60) NOT NULL\n",
            ") ENGINE=MyISAM DEFAULT CHARSET=latin1;\n",
            "\n",
            "--\n",
            "-- Dumping data for table `orders`\n",
            "--\n",
            "\n",
            "INSERT INTO `orders` (`ORD_NUM`, `ORD_AMOUNT`, `ADVANCE_AMOUNT`, `ORD_DATE`, `CUST_CODE`, `AGENT_CODE`, `ORD_DESCRIPTION`) VALUES\n",
            "('200100', '1000.00', '600.00', '2008-01-08', 'C00015', 'A003  ', 'SOD\\r'),\n",
            "('200110', '3000.00', '500.00', '2008-04-15', 'C00019', 'A010  ', 'SOD\\r'),\n",
            "('200107', '4500.00', '900.00', '2008-08-30', 'C00007', 'A010  ', 'SOD\\r'),\n",
            "('200112', '2000.00', '400.00', '2008-05-30', 'C00016', 'A007  ', 'SOD\\r'),\n",
            "('200113', '4000.00', '600.00', '2008-06-10', 'C00022', 'A002  ', 'SOD\\r'),\n",
            "('200102', '2000.00', '300.00', '2008-05-25', 'C00012', 'A012  ', 'SOD\\r'),\n",
            "('200114', '3500.00', '2000.00', '2008-08-15', 'C00002', 'A008  ', 'SOD\\r'),\n",
            "('200122', '2500.00', '400.00', '2008-09-16', 'C00003', 'A004  ', 'SOD\\r'),\n",
            "('200118', '500.00', '100.00', '2008-07-20', 'C00023', 'A006  ', 'SOD\\r'),\n",
            "('200119', '4000.00', '700.00', '2008-09-16', 'C00007', 'A010  ', 'SOD\\r'),\n",
            "('200121', '1500.00', '600.00', '2008-09-23', 'C00008', 'A004  ', 'SOD\\r'),\n",
            "('200130', '2500.00', '400.00', '2008-07-30', 'C00025', 'A011  ', 'SOD\\r'),\n",
            "('200134', '4200.00', '1800.00', '2008-09-25', 'C00004', 'A005  ', 'SOD\\r'),\n",
            "('200115', '2000.00', '1200.00', '2008-02-08', 'C00013', 'A013  ', 'SOD\\r'),\n",
            "('200108', '4000.00', '600.00', '2008-02-15', 'C00008', 'A004  ', 'SOD\\r'),\n",
            "('200103', '1500.00', '700.00', '2008-05-15', 'C00021', 'A005  ', 'SOD\\r'),\n",
            "('200105', '2500.00', '500.00', '2008-07-18', 'C00025', 'A011  ', 'SOD\\r'),\n",
            "('200109', '3500.00', '800.00', '2008-07-30', 'C00011', 'A010  ', 'SOD\\r'),\n",
            "('200101', '3000.00', '1000.00', '2008-07-15', 'C00001', 'A008  ', 'SOD\\r'),\n",
            "('200111', '1000.00', '300.00', '2008-07-10', 'C00020', 'A008  ', 'SOD\\r'),\n",
            "('200104', '1500.00', '500.00', '2008-03-13', 'C00006', 'A004  ', 'SOD\\r'),\n",
            "('200106', '2500.00', '700.00', '2008-04-20', 'C00005', 'A002  ', 'SOD\\r'),\n",
            "('200125', '2000.00', '600.00', '2008-10-10', 'C00018', 'A005  ', 'SOD\\r'),\n",
            "('200117', '800.00', '200.00', '2008-10-20', 'C00014', 'A001  ', 'SOD\\r'),\n",
            "('200123', '500.00', '100.00', '2008-09-16', 'C00022', 'A002  ', 'SOD\\r'),\n",
            "('200120', '500.00', '100.00', '2008-07-20', 'C00009', 'A002  ', 'SOD\\r'),\n",
            "('200116', '500.00', '100.00', '2008-07-13', 'C00010', 'A009  ', 'SOD\\r'),\n",
            "('200124', '500.00', '100.00', '2008-06-20', 'C00017', 'A007  ', 'SOD\\r'),\n",
            "('200126', '500.00', '100.00', '2008-06-24', 'C00022', 'A002  ', 'SOD\\r'),\n",
            "('200129', '2500.00', '500.00', '2008-07-20', 'C00024', 'A006  ', 'SOD\\r'),\n",
            "('200127', '2500.00', '400.00', '2008-07-20', 'C00015', 'A003  ', 'SOD\\r'),\n",
            "('200128', '3500.00', '1500.00', '2008-07-20', 'C00009', 'A002  ', 'SOD\\r'),\n",
            "('200135', '2000.00', '800.00', '2008-09-16', 'C00007', 'A010  ', 'SOD\\r'),\n",
            "('200131', '900.00', '150.00', '2008-08-26', 'C00012', 'A012  ', 'SOD\\r'),\n",
            "('200133', '1200.00', '400.00', '2008-06-29', 'C00009', 'A002  ', 'SOD\\r'),\n",
            "('200132', '4000.00', '2000.00', '2008-08-15', 'C00013', 'A013  ', 'SOD\\r');\n",
            "\n",
            "-- --------------------------------------------------------\n",
            "\n",
            "--\n",
            "-- Table structure for table `student`\n",
            "--\n",
            "\n",
            "CREATE TABLE IF NOT EXISTS `student` (\n",
            "`NAME` varchar(30) NOT NULL,\n",
            "`TITLE` varchar(25) NOT NULL,\n",
            "`CLASS` varchar(5) NOT NULL,\n",
            "`SECTION` varchar(1) NOT NULL,\n",
            "`ROLLID` decimal(3,0) NOT NULL,\n",
            "PRIMARY KEY (`CLASS`,`SECTION`,`ROLLID`)\n",
            ") ENGINE=MyISAM DEFAULT CHARSET=latin1;\n",
            "\n",
            "--\n",
            "-- Dumping data for table `student`\n",
            "--\n",
            "\n",
            "INSERT INTO `student` (`NAME`, `TITLE`, `CLASS`, `SECTION`, `ROLLID`) VALUES\n",
            "('Deepak                        ', 'Saxana                   ', 'V    ', 'A', '15'),\n",
            "('Robert                        ', 'Paul                     ', 'VI   ', 'A', '2'),\n",
            "('Danny                         ', 'Moris                    ', 'V    ', 'B', '15');\n",
            "\n",
            "-- --------------------------------------------------------\n",
            "\n",
            "--\n",
            "-- Table structure for table `studentreport`\n",
            "--\n",
            "\n",
            "CREATE TABLE IF NOT EXISTS `studentreport` (\n",
            "`CLASS` varchar(5) NOT NULL,\n",
            "`SECTION` varchar(1) NOT NULL,\n",
            "`ROLLID` decimal(3,0) NOT NULL,\n",
            "`GRADE` varchar(5) NOT NULL,\n",
            "`SEMISTER` varchar(5) DEFAULT NULL,\n",
            "`CLASS_ATTENDED` decimal(25,0) DEFAULT NULL,\n",
            "KEY `FK_CSR` (`CLASS`,`SECTION`,`ROLLID`)\n",
            ") ENGINE=MyISAM DEFAULT CHARSET=latin1;\n",
            "\n",
            "--\n",
            "-- Dumping data for table `studentreport`\n",
            "--\n",
            "\n",
            "INSERT INTO `studentreport` (`CLASS`, `SECTION`, `ROLLID`, `GRADE`, `SEMISTER`, `CLASS_ATTENDED`) VALUES\n",
            "('V    ', 'A', '15', 'A++  ', '1St  ', '75'),\n",
            "('VI   ', 'A', '2', 'A+   ', '2Nd  ', '70'),\n",
            "('V    ', 'B', '15', 'AA   ', '1St  ', '85'),\n",
            "('VI   ', 'A', '2', 'A+   ', '1St  ', '70'),\n",
            "('V    ', 'A', '15', 'AA   ', '2Nd  ', '85');\n"
          ],
          "name": "stdout"
        },
        {
          "output_type": "stream",
          "text": [
            "/usr/local/lib/python3.6/dist-packages/ipykernel_launcher.py:1: DeprecationWarning: 'U' mode is deprecated\n",
            "  \"\"\"Entry point for launching an IPython kernel.\n"
          ],
          "name": "stderr"
        }
      ]
    },
    {
      "cell_type": "code",
      "metadata": {
        "colab": {
          "base_uri": "https://localhost:8080/",
          "height": 108
        },
        "id": "TJiEUhMdWtlw",
        "outputId": "4554f463-a585-4b57-ab13-a21f43baf481"
      },
      "source": [
        "path = nltk.data.find('corpora/gutenberg/melville-moby_dick.txt')\n",
        "raw = open(path, 'rU').read()\n",
        "raw[:100]"
      ],
      "execution_count": null,
      "outputs": [
        {
          "output_type": "stream",
          "text": [
            "/usr/local/lib/python3.6/dist-packages/ipykernel_launcher.py:2: DeprecationWarning: 'U' mode is deprecated\n",
            "  \n"
          ],
          "name": "stderr"
        },
        {
          "output_type": "execute_result",
          "data": {
            "application/vnd.google.colaboratory.intrinsic+json": {
              "type": "string"
            },
            "text/plain": [
              "'[Moby Dick by Herman Melville 1851]\\n\\n\\nETYMOLOGY.\\n\\n(Supplied by a Late Consumptive Usher to a Grammar'"
            ]
          },
          "metadata": {
            "tags": []
          },
          "execution_count": 16
        }
      ]
    },
    {
      "cell_type": "markdown",
      "metadata": {
        "id": "-AuEPeA3Xmp9"
      },
      "source": [
        "Capturing input"
      ]
    },
    {
      "cell_type": "code",
      "metadata": {
        "colab": {
          "base_uri": "https://localhost:8080/"
        },
        "id": "_YHKb_nfYp9F",
        "outputId": "06898dd6-cc45-440c-a465-a12d21ded320"
      },
      "source": [
        "s = input(\"Enter some text: \")"
      ],
      "execution_count": null,
      "outputs": [
        {
          "output_type": "stream",
          "text": [
            "Enter some text: one more time of this\n"
          ],
          "name": "stdout"
        }
      ]
    },
    {
      "cell_type": "code",
      "metadata": {
        "colab": {
          "base_uri": "https://localhost:8080/"
        },
        "id": "fGbWTW94Yu2R",
        "outputId": "445a241b-37df-419d-9cd0-4a31553e67e5"
      },
      "source": [
        "print(\"You typed\", len(word_tokenize(s)), \"words.\")"
      ],
      "execution_count": null,
      "outputs": [
        {
          "output_type": "stream",
          "text": [
            "You typed 5 words.\n"
          ],
          "name": "stdout"
        }
      ]
    },
    {
      "cell_type": "code",
      "metadata": {
        "colab": {
          "base_uri": "https://localhost:8080/"
        },
        "id": "SwUypn98ZCbb",
        "outputId": "a90e7153-8e3e-4bf6-bc61-e7be39064663"
      },
      "source": [
        "### Working with text\n",
        "from nltk.corpus import gutenberg\n",
        "raw = gutenberg.raw('melville-moby_dick.txt')\n",
        "fdist = nltk.FreqDist(ch.lower() for ch in raw if ch.isalpha())\n",
        "print(fdist.most_common(5))\n",
        "print([char for (char, count) in fdist.most_common()])"
      ],
      "execution_count": null,
      "outputs": [
        {
          "output_type": "stream",
          "text": [
            "[('e', 117092), ('t', 87996), ('a', 77916), ('o', 69326), ('n', 65617)]\n",
            "['e', 't', 'a', 'o', 'n', 'i', 's', 'h', 'r', 'l', 'd', 'u', 'm', 'c', 'w', 'f', 'g', 'p', 'b', 'y', 'v', 'k', 'q', 'j', 'x', 'z']\n"
          ],
          "name": "stdout"
        }
      ]
    },
    {
      "cell_type": "code",
      "metadata": {
        "colab": {
          "base_uri": "https://localhost:8080/",
          "height": 279
        },
        "id": "1_iSJAf4P2S3",
        "outputId": "306bcb54-2a55-4a1b-8477-a1bdc425a442"
      },
      "source": [
        "fdist.plot()"
      ],
      "execution_count": null,
      "outputs": [
        {
          "output_type": "display_data",
          "data": {
            "image/png": "[encoded data removed]",
            "text/plain": [
              "<Figure size 432x288 with 1 Axes>"
            ]
          },
          "metadata": {
            "tags": [],
            "needs_background": "light"
          }
        }
      ]
    },
    {
      "cell_type": "markdown",
      "metadata": {
        "id": "_MoKa1EEGHOp"
      },
      "source": [
        "### Text processing with Unicode\n",
        "- Extracting encoded text from files"
      ]
    },
    {
      "cell_type": "code",
      "metadata": {
        "id": "r2OJbeafQXIU"
      },
      "source": [
        "path = nltk.data.find('corpora/unicode_samples/polish-lat2.txt')"
      ],
      "execution_count": null,
      "outputs": []
    },
    {
      "cell_type": "code",
      "metadata": {
        "colab": {
          "base_uri": "https://localhost:8080/"
        },
        "id": "nbiKZKQiGP-D",
        "outputId": "f33cb1fa-992f-4142-f7b3-12c210a82e34"
      },
      "source": [
        "f = open(path, encoding='latin2')\n",
        "for line in f:\n",
        "    line = line.strip()\n",
        "    print(line)"
      ],
      "execution_count": null,
      "outputs": [
        {
          "output_type": "stream",
          "text": [
            "Pruska Biblioteka Państwowa. Jej dawne zbiory znane pod nazwą\n",
            "\"Berlinka\" to skarb kultury i sztuki niemieckiej. Przewiezione przez\n",
            "Niemców pod koniec II wojny światowej na Dolny Śląsk, zostały\n",
            "odnalezione po 1945 r. na terytorium Polski. Trafiły do Biblioteki\n",
            "Jagiellońskiej w Krakowie, obejmują ponad 500 tys. zabytkowych\n",
            "archiwaliów, m.in. manuskrypty Goethego, Mozarta, Beethovena, Bacha.\n"
          ],
          "name": "stdout"
        }
      ]
    },
    {
      "cell_type": "code",
      "metadata": {
        "colab": {
          "base_uri": "https://localhost:8080/"
        },
        "id": "_ns1VWeJHBZJ",
        "outputId": "31d88316-59b4-42b4-f97b-d82433cb7fa7"
      },
      "source": [
        "f = open(path, encoding='latin2')\n",
        "for line in f:\n",
        "    line = line.strip()\n",
        "    print(line.encode('unicode_escape'))"
      ],
      "execution_count": null,
      "outputs": [
        {
          "output_type": "stream",
          "text": [
            "b'Pruska Biblioteka Pa\\\\u0144stwowa. Jej dawne zbiory znane pod nazw\\\\u0105'\n",
            "b'\"Berlinka\" to skarb kultury i sztuki niemieckiej. Przewiezione przez'\n",
            "b'Niemc\\\\xf3w pod koniec II wojny \\\\u015bwiatowej na Dolny \\\\u015al\\\\u0105sk, zosta\\\\u0142y'\n",
            "b'odnalezione po 1945 r. na terytorium Polski. Trafi\\\\u0142y do Biblioteki'\n",
            "b'Jagiello\\\\u0144skiej w Krakowie, obejmuj\\\\u0105 ponad 500 tys. zabytkowych'\n",
            "b'archiwali\\\\xf3w, m.in. manuskrypty Goethego, Mozarta, Beethovena, Bacha.'\n"
          ],
          "name": "stdout"
        }
      ]
    },
    {
      "cell_type": "code",
      "metadata": {
        "colab": {
          "base_uri": "https://localhost:8080/"
        },
        "id": "--qIRsCtHrFH",
        "outputId": "0dbd100f-5dc3-4f59-e40a-4f4e10ed47bf"
      },
      "source": [
        "print(ord('ń'))\n",
        "print(hex(324))"
      ],
      "execution_count": null,
      "outputs": [
        {
          "output_type": "stream",
          "text": [
            "324\n",
            "0x144\n"
          ],
          "name": "stdout"
        }
      ]
    },
    {
      "cell_type": "code",
      "metadata": {
        "colab": {
          "base_uri": "https://localhost:8080/"
        },
        "id": "Fws4i3jFI1gN",
        "outputId": "802f9451-fc8d-4302-e498-09ead757e807"
      },
      "source": [
        "nacute = '\\u0144'\n",
        "nacute"
      ],
      "execution_count": null,
      "outputs": [
        {
          "output_type": "execute_result",
          "data": {
            "application/vnd.google.colaboratory.intrinsic+json": {
              "type": "string"
            },
            "text/plain": [
              "'ń'"
            ]
          },
          "metadata": {
            "tags": []
          },
          "execution_count": 25
        }
      ]
    },
    {
      "cell_type": "code",
      "metadata": {
        "colab": {
          "base_uri": "https://localhost:8080/"
        },
        "id": "M_RQzgsMJYhQ",
        "outputId": "38d1092a-70aa-4967-e711-d78ee18bb62e"
      },
      "source": [
        "nacute.encode('utf8')"
      ],
      "execution_count": null,
      "outputs": [
        {
          "output_type": "execute_result",
          "data": {
            "text/plain": [
              "b'\\xc5\\x84'"
            ]
          },
          "metadata": {
            "tags": []
          },
          "execution_count": 26
        }
      ]
    },
    {
      "cell_type": "code",
      "metadata": {
        "colab": {
          "base_uri": "https://localhost:8080/"
        },
        "id": "1HM06pBkJ4rR",
        "outputId": "6a7fa888-2237-4141-aa60-3b1b69f2226c"
      },
      "source": [
        "import unicodedata\n",
        "lines = open(path, encoding='latin2').readlines()\n",
        "line = lines[2]\n",
        "print(line.encode('unicode_escape'))\n",
        "for c in line:\n",
        "    if ord(c) > 127:\n",
        "        print(f\"{c.encode('utf8')} U+{ord(c):04x} {unicodedata.name(c)}\")"
      ],
      "execution_count": null,
      "outputs": [
        {
          "output_type": "stream",
          "text": [
            "b'Niemc\\\\xf3w pod koniec II wojny \\\\u015bwiatowej na Dolny \\\\u015al\\\\u0105sk, zosta\\\\u0142y\\\\n'\n",
            "b'\\xc3\\xb3' U+00f3 LATIN SMALL LETTER O WITH ACUTE\n",
            "b'\\xc5\\x9b' U+015b LATIN SMALL LETTER S WITH ACUTE\n",
            "b'\\xc5\\x9a' U+015a LATIN CAPITAL LETTER S WITH ACUTE\n",
            "b'\\xc4\\x85' U+0105 LATIN SMALL LETTER A WITH OGONEK\n",
            "b'\\xc5\\x82' U+0142 LATIN SMALL LETTER L WITH STROKE\n"
          ],
          "name": "stdout"
        }
      ]
    },
    {
      "cell_type": "code",
      "metadata": {
        "colab": {
          "base_uri": "https://localhost:8080/"
        },
        "id": "9RSSsmmOLVxv",
        "outputId": "8b1d3775-54b1-4610-fd6d-8c5563042494"
      },
      "source": [
        "print(line.find('zosta\\u0142y'))\n",
        "line = line.lower()\n",
        "print(line)\n",
        "line.encode('unicode_escape')"
      ],
      "execution_count": null,
      "outputs": [
        {
          "output_type": "stream",
          "text": [
            "54\n",
            "niemców pod koniec ii wojny światowej na dolny śląsk, zostały\n",
            "\n"
          ],
          "name": "stdout"
        },
        {
          "output_type": "execute_result",
          "data": {
            "text/plain": [
              "b'niemc\\\\xf3w pod koniec ii wojny \\\\u015bwiatowej na dolny \\\\u015bl\\\\u0105sk, zosta\\\\u0142y\\\\n'"
            ]
          },
          "metadata": {
            "tags": []
          },
          "execution_count": 28
        }
      ]
    },
    {
      "cell_type": "code",
      "metadata": {
        "colab": {
          "base_uri": "https://localhost:8080/"
        },
        "id": "ZGoqGpgWMmTj",
        "outputId": "e3ad191c-703f-4e7c-a6eb-c9d580c7133d"
      },
      "source": [
        "import re\n",
        "m = re.search('\\u015b\\w*', line)\n",
        "m.group()"
      ],
      "execution_count": null,
      "outputs": [
        {
          "output_type": "execute_result",
          "data": {
            "application/vnd.google.colaboratory.intrinsic+json": {
              "type": "string"
            },
            "text/plain": [
              "'światowej'"
            ]
          },
          "metadata": {
            "tags": []
          },
          "execution_count": 29
        }
      ]
    },
    {
      "cell_type": "code",
      "metadata": {
        "colab": {
          "base_uri": "https://localhost:8080/"
        },
        "id": "b8MhSpSHMx0v",
        "outputId": "de4fecd5-ce97-4e69-a6fc-162b511d947c"
      },
      "source": [
        "print(word_tokenize(line))"
      ],
      "execution_count": null,
      "outputs": [
        {
          "output_type": "stream",
          "text": [
            "['niemców', 'pod', 'koniec', 'ii', 'wojny', 'światowej', 'na', 'dolny', 'śląsk', ',', 'zostały']\n"
          ],
          "name": "stdout"
        }
      ]
    },
    {
      "cell_type": "markdown",
      "metadata": {
        "id": "YfOQbWn0OiSk"
      },
      "source": [
        "### Using Regular Expression for Detecting Word Patterns"
      ]
    },
    {
      "cell_type": "code",
      "metadata": {
        "id": "IlfjFgRAMzn2"
      },
      "source": [
        "import re\n",
        "wordlist = [w for w in nltk.corpus.words.words('en') if w.islower()]"
      ],
      "execution_count": null,
      "outputs": []
    },
    {
      "cell_type": "markdown",
      "metadata": {
        "id": "KrkPR8USOhMc"
      },
      "source": [
        "Using basic meta-characters"
      ]
    },
    {
      "cell_type": "code",
      "metadata": {
        "colab": {
          "base_uri": "https://localhost:8080/"
        },
        "id": "oeWlCFk_OyG7",
        "outputId": "b67e783f-70a6-476f-a4ef-3f18e35e4a57"
      },
      "source": [
        "print([w for w in wordlist if re.search('ed$', w)])\n",
        "print([w for w in wordlist if re.search('^..j..t..$', w)])\n",
        "print([w for w in wordlist if re.search('..j..t..', w)])\n",
        "print(sum((1 for w in wordlist if re.search('^e-?mail$', w))))"
      ],
      "execution_count": null,
      "outputs": [
        {
          "output_type": "stream",
          "text": [
            "['abaissed', 'abandoned', 'abased', 'abashed', 'abatised', 'abed', 'aborted', 'abridged', 'abscessed', 'absconded', 'absorbed', 'abstracted', 'abstricted', 'accelerated', 'accepted', 'accidented', 'accoladed', 'accolated', 'accomplished', 'accosted', 'accredited', 'accursed', 'accused', 'accustomed', 'acetated', 'acheweed', 'aciculated', 'aciliated', 'acknowledged', 'acorned', 'acquainted', 'acquired', 'acquisited', 'acred', 'aculeated', 'addebted', 'added', 'addicted', 'addlebrained', 'addleheaded', 'addlepated', 'addorsed', 'adempted', 'adfected', 'adjoined', 'admired', 'admitted', 'adnexed', 'adopted', 'adossed', 'adreamed', 'adscripted', 'aduncated', 'advanced', 'advised', 'aeried', 'aethered', 'afeared', 'affected', 'affectioned', 'affined', 'afflicted', 'affricated', 'affrighted', 'affronted', 'aforenamed', 'afterfeed', 'aftershafted', 'afterthoughted', 'afterwitted', 'agazed', 'aged', 'agglomerated', 'aggrieved', 'agminated', 'agnamed', 'agonied', 'agreed', 'agueweed', 'ahungered', 'aiguilletted', 'ailweed', 'airbrained', 'airified', 'aiseweed', 'aisled', 'alarmed', 'alated', 'alimonied', 'aliped', 'alleyed', 'allied', 'alligatored', 'allseed', 'almsdeed', 'aloed', 'altared', 'alveolated', 'amazed', 'ameed', 'amiced', 'amphitheatered', 'ampullated', 'amused', 'anchored', 'angled', 'anguiped', 'anguished', 'angulated', 'angulinerved', 'anhungered', 'animated', 'aniseed', 'annodated', 'annulated', 'anomaliped', 'anserated', 'anteflected', 'anteflexed', 'antimoniated', 'antimoniureted', 'antimoniuretted', 'antiquated', 'antired', 'antiweed', 'antlered', 'apertured', 'apexed', 'apicifixed', 'apiculated', 'apocopated', 'apostrophied', 'appearanced', 'appellatived', 'appendaged', 'appendiculated', 'applied', 'appressed', 'aralkylated', 'arbored', 'arched', 'architraved', 'arcked', 'arcuated', 'ared', 'areolated', 'ariled', 'arillated', 'armchaired', 'armed', 'armied', 'armillated', 'armored', 'armoried', 'arpeggiated', 'arpeggioed', 'arrased', 'arrowed', 'arrowheaded', 'arrowweed', 'arseneted', 'arsenetted', 'arseniureted', 'articled', 'articulated', 'ashamed', 'ashlared', 'ashweed', 'aspersed', 'asphyxied', 'assented', 'assessed', 'assigned', 'assistanted', 'associated', 'assonanced', 'assorted', 'assumed', 'assured', 'asteriated', 'astonied', 'aswooned', 'atrophiated', 'atrophied', 'attached', 'attired', 'attrited', 'augmented', 'aurated', 'auricled', 'auriculated', 'authorized', 'autoinhibited', 'autosensitized', 'autosled', 'averted', 'avowed', 'awearied', 'awned', 'awninged', 'axed', 'axhammered', 'axised', 'axled', 'axseed', 'axweed', 'azoted', 'azured', 'babied', 'babished', 'babyfied', 'baccated', 'backboned', 'backed', 'backhanded', 'backwatered', 'baconweed', 'badgerweed', 'bagged', 'bagwigged', 'baked', 'balanced', 'balconied', 'baldachined', 'baldricked', 'balled', 'ballweed', 'balsamweed', 'balustered', 'balustraded', 'bandannaed', 'banded', 'bandoleered', 'bangled', 'banked', 'bankweed', 'bannered', 'barbated', 'barbed', 'barebacked', 'bareboned', 'barefaced', 'barefooted', 'barehanded', 'bareheaded', 'barelegged', 'barenecked', 'barmybrained', 'barred', 'barreled', 'bartizaned', 'basebred', 'based', 'basehearted', 'basifixed', 'basilweed', 'basined', 'basinerved', 'basqued', 'bastioned', 'bated', 'bathroomed', 'battered', 'batteried', 'battled', 'battlemented', 'bayed', 'bayoneted', 'beached', 'beaded', 'beaked', 'bealtared', 'beamed', 'beanweed', 'beaproned', 'bearded', 'beautied', 'beavered', 'beballed', 'bebannered', 'bebed', 'bebelted', 'bebled', 'bebothered', 'bebouldered', 'bebuttoned', 'becassocked', 'bechained', 'bechignoned', 'becircled', 'becoiffed', 'becombed', 'becousined', 'becrinolined', 'becuffed', 'becurtained', 'becushioned', 'bed', 'bedaggered', 'bedangled', 'bedded', 'bediademed', 'bediamonded', 'beedged', 'beefheaded', 'beeheaded', 'beeswinged', 'beetled', 'beetleheaded', 'beetleweed', 'beeweed', 'befamilied', 'befanned', 'befathered', 'beferned', 'befetished', 'befezzed', 'befilleted', 'befilmed', 'beforested', 'befountained', 'befrocked', 'befrogged', 'befurbelowed', 'befurred', 'begabled', 'begarlanded', 'begartered', 'beggarweed', 'beglobed', 'begoggled', 'begowned', 'behatted', 'behaviored', 'beheadlined', 'behooped', 'beinked', 'bekilted', 'beknived', 'beknotted', 'belaced', 'belated', 'belatticed', 'belavendered', 'beledgered', 'belfried', 'beliked', 'belimousined', 'belled', 'bellied', 'bellmouthed', 'bellweed', 'beloved', 'belozenged', 'belted', 'bemazed', 'bemedaled', 'bemedalled', 'bemitered', 'bemitred', 'bemused', 'bemuslined', 'bended', 'beneaped', 'beneficed', 'beneighbored', 'benempted', 'benighted', 'bennetweed', 'benumbed', 'benweed', 'benzoated', 'benzoinated', 'bepastured', 'bepatched', 'beperiwigged', 'bepewed', 'bepillared', 'bepistoled', 'beplaided', 'beplumed', 'beribanded', 'beribboned', 'beringed', 'beringleted', 'berobed', 'berouged', 'berried', 'berthed', 'beruffed', 'beruffled', 'beshawled', 'besieged', 'beslushed', 'besotted', 'bespecked', 'bespectacled', 'besped', 'bespeed', 'bespelled', 'bespurred', 'bestatued', 'bestayed', 'bestrapped', 'bestubbled', 'besweatered', 'betattered', 'betaxed', 'betowered', 'betrothed', 'betrousered', 'betted', 'betuckered', 'beturbaned', 'betusked', 'betutored', 'betwattled', 'beuniformed', 'beveled', 'bevelled', 'bevesseled', 'bevesselled', 'bevined', 'bevoiled', 'bewaitered', 'bewhiskered', 'bewigged', 'bewildered', 'bewinged', 'bewired', 'bewrathed', 'biangulated', 'biarcuated', 'biarticulated', 'bicarbureted', 'biciliated', 'bicolored', 'bicorned', 'bidented', 'bifanged', 'bifidated', 'biflected', 'biforked', 'biformed', 'bifronted', 'bifurcated', 'bigeminated', 'bighearted', 'bigmouthed', 'bigoted', 'bigwigged', 'bilamellated', 'bilaminated', 'billed', 'bilobated', 'bilobed', 'bilsted', 'bimaculated', 'bimotored', 'bindweed', 'bineweed', 'binominated', 'binucleated', 'biparted', 'bipectinated', 'biped', 'bipennated', 'bipinnated', 'bipinnatiparted', 'bipinnatisected', 'biradiated', 'birdmouthed', 'birdseed', 'birdweed', 'birostrated', 'birthbed', 'bisexed', 'bishopweed', 'bistered', 'bistipuled', 'bisubstituted', 'bitted', 'bitterhearted', 'bitterweed', 'bituberculated', 'bitumed', 'bivalved', 'bivaulted', 'bivocalized', 'blackhearted', 'blackseed', 'blackshirted', 'bladderseed', 'bladderweed', 'bladed', 'blakeberyed', 'blamed', 'blanked', 'blanketed', 'blanketweed', 'blasted', 'bleached', 'bleared', 'bleed', 'blended', 'blessed', 'blighted', 'blinded', 'blindfolded', 'blindweed', 'blinked', 'blinkered', 'blistered', 'blisterweed', 'blithehearted', 'bloated', 'blobbed', 'blocked', 'blockheaded', 'blooded', 'bloodied', 'bloodshed', 'bloodstained', 'bloodweed', 'blossomed', 'blotched', 'bloused', 'blowzed', 'bludgeoned', 'bluebelled', 'bluehearted', 'blueweed', 'blunderheaded', 'blunthearted', 'blurred', 'bobbed', 'bobsled', 'bobtailed', 'bodiced', 'bodied', 'boiled', 'boldhearted', 'bolectioned', 'boled', 'boleweed', 'bolled', 'bombed', 'bonded', 'boned', 'boneheaded', 'bonneted', 'booked', 'booted', 'bootied', 'boozed', 'bordered', 'bordured', 'bosomed', 'bossed', 'bosselated', 'botched', 'botherheaded', 'bothsided', 'bottled', 'bottomed', 'boughed', 'bounded', 'bountied', 'bowed', 'boweled', 'bowlegged', 'bowstringed', 'braced', 'braceleted', 'brackened', 'bracted', 'braided', 'brambled', 'branched', 'branded', 'brandied', 'brangled', 'bravehearted', 'brawned', 'brazenfaced', 'breasted', 'breastweed', 'breathed', 'brecciated', 'bred', 'breeched', 'breed', 'breviped', 'bridebed', 'brideweed', 'bridged', 'bridled', 'briered', 'brimmed', 'bristled', 'broadhearted', 'brocaded', 'brocked', 'brokenhearted', 'bromoiodized', 'bronzed', 'brooked', 'brookweed', 'broomweed', 'broozled', 'browed', 'brownweed', 'bruckled', 'brushed', 'buboed', 'bucked', 'buckled', 'buckskinned', 'buffed', 'bugled', 'bugleweed', 'bugseed', 'bugweed', 'bulbed', 'bulked', 'bulkheaded', 'bullated', 'bulldogged', 'bulleted', 'bulletheaded', 'bullheaded', 'bullweed', 'bummed', 'bundlerooted', 'bundweed', 'bunted', 'buried', 'burled', 'burned', 'burnoosed', 'burntweed', 'burred', 'burroweed', 'burseed', 'burweed', 'bushed', 'busied', 'busked', 'buskined', 'busted', 'bustled', 'busybodied', 'buttered', 'butterfingered', 'butterweed', 'butteryfingered', 'buttocked', 'buttoned', 'buttonweed', 'cabled', 'caboshed', 'caddiced', 'caddised', 'cadenced', 'cadweed', 'caftaned', 'caged', 'cairned', 'caissoned', 'calced', 'calcified', 'calcined', 'calculated', 'calibered', 'calicoed', 'caligated', 'calpacked', 'calved', 'calycled', 'calyculated', 'camailed', 'camerated', 'cammed', 'campanulated', 'campshed', 'camused', 'canaliculated', 'cancellated', 'cancered', 'cancerweed', 'candied', 'candlelighted', 'candlesticked', 'candyweed', 'canioned', 'cankered', 'cankerweed', 'canned', 'cannelated', 'cannelured', 'cannoned', 'cannulated', 'canted', 'cantilevered', 'cantoned', 'cantred', 'caped', 'capernoited', 'capeweed', 'capitaled', 'capitated', 'capped', 'capriped', 'capsulated', 'capuched', 'carapaced', 'carbolated', 'carboyed', 'carbuncled', 'carcaneted', 'carded', 'carinated', 'carkled', 'carnaged', 'carnationed', 'carpetweed', 'carried', 'carrotweed', 'carucated', 'carunculated', 'cased', 'casemated', 'casemented', 'caseweed', 'casqued', 'castellated', 'castled', 'castorized', 'catamited', 'cataracted', 'catarrhed', 'catchweed', 'catenated', 'caterpillared', 'catfaced', 'catfooted', 'cathedraled', 'caudated', 'caverned', 'cavitied', 'cayenned', 'cedared', 'ceilinged', 'celebrated', 'cellated', 'celled', 'cellulated', 'celluloided', 'centered', 'centriffed', 'centuried', 'cerated', 'cered', 'certified', 'chafeweed', 'chaffseed', 'chaffweed', 'chafted', 'chained', 'chaliced', 'chambered', 'chamberleted', 'chamberletted', 'chanceled', 'channeled', 'channelled', 'chaped', 'chapleted', 'chapournetted', 'chapped', 'charioted', 'charqued', 'chartered', 'chasmed', 'chasteweed', 'chasubled', 'checked', 'checkered', 'checkrowed', 'cheered', 'cheliped', 'cherried', 'chickenbreasted', 'chickenhearted', 'chickenweed', 'chickweed', 'chicqued', 'chiggerweed', 'chignoned', 'childbed', 'childed', 'chilled', 'chined', 'chinned', 'chipped', 'chiseled', 'chitinized', 'chokered', 'chokeweed', 'cholterheaded', 'chopped', 'choppered', 'chorded', 'chowderheaded', 'christened', 'chubbed', 'chuckleheaded', 'churchified', 'churled', 'ciliated', 'cingulated', 'cinnamoned', 'cinquefoiled', 'circled', 'circumscribed', 'circumstanced', 'cirrated', 'cirrhosed', 'cirriped', 'cisted', 'citied', 'citified', 'citrated', 'civilized', 'clammed', 'clammyweed', 'clanned', 'clapped', 'classed', 'classified', 'clavated', 'clavellated', 'clawed', 'claybrained', 'clayweed', 'cleaded', 'cleanhanded', 'cleanhearted', 'clearheaded', 'clearhearted', 'clearweed', 'cled', 'cleeked', 'clefted', 'clerestoried', 'cliented', 'cliffed', 'cliffweed', 'clipped', 'cloaked', 'clocked', 'clodpated', 'cloistered', 'closed', 'closefisted', 'closehanded', 'closehearted', 'closemouthed', 'clotweed', 'clouded', 'clouted', 'clovered', 'clubbed', 'clubfisted', 'clubfooted', 'clubweed', 'clustered', 'coaged', 'coaggregated', 'coated', 'coattailed', 'cobbed', 'cocashweed', 'cochleated', 'cockaded', 'cocked', 'cockeyed', 'cockled', 'cockneybred', 'cockscombed', 'cockweed', 'codheaded', 'coed', 'coelongated', 'coembedded', 'coequated', 'coexpanded', 'coffeeweed', 'cogged', 'coifed', 'coiled', 'coldhearted', 'coleseed', 'colicweed', 'collared', 'collected', 'collied', 'colloped', 'colonnaded', 'colored', 'columnated', 'columned', 'combed', 'combined', 'compacted', 'complected', 'complexioned', 'complicated', 'componed', 'componented', 'composed', 'compressed', 'comprised', 'compulsed', 'conamed', 'concamerated', 'concealed', 'conceded', 'conceited', 'concentrated', 'concerned', 'concerted', 'conched', 'conchyliated', 'condemned', 'condensed', 'conditioned', 'conduplicated', 'coned', 'confated', 'conferted', 'confined', 'confirmed', 'conflated', 'confounded', 'confused', 'congested', 'conjoined', 'conjugated', 'connected', 'conred', 'consecrated', 'considered', 'consolidated', 'constrained', 'constricted', 'consumpted', 'contagioned', 'contented', 'contextured', 'continued', 'contorted', 'contortioned', 'contracted', 'contractured', 'contusioned', 'converted', 'convexed', 'convinced', 'convoluted', 'coolheaded', 'coolweed', 'copied', 'copleased', 'copped', 'coppernosed', 'copperytailed', 'coppiced', 'coppled', 'copsewooded', 'copygraphed', 'coraled', 'corded', 'corduroyed', 'cored', 'coreflexed', 'corked', 'cornered', 'cornified', 'cornuated', 'cornuted', 'corollated', 'coronaled', 'coronated', 'coroneted', 'coronetted', 'corpusculated', 'corrected', 'correlated', 'corridored', 'corrugated', 'corrupted', 'corticated', 'corymbed', 'corymbiated', 'cosphered', 'costated', 'cothurned', 'cottaged', 'cotted', 'cottonseed', 'cottonweed', 'cotwinned', 'couched', 'coughweed', 'counterattired', 'counterchanged', 'countercolored', 'counterdigged', 'counterembattled', 'counterembowed', 'counterfessed', 'countergirded', 'counterindented', 'counterpaled', 'counterpaned', 'counterpointed', 'counterquartered', 'counterreflected', 'counterscalloped', 'counterturned', 'counterweighted', 'countrified', 'couped', 'coupled', 'couponed', 'coursed', 'courtbred', 'coved', 'covenanted', 'covered', 'coversed', 'cowhearted', 'cowled', 'cowshed', 'cowslipped', 'cowweed', 'crabbed', 'crabweed', 'crackbrained', 'cracked', 'crackled', 'cragged', 'cramped', 'cranked', 'crannied', 'cratered', 'cravenhearted', 'crazed', 'crazyweed', 'creed', 'creeded', 'creepered', 'crenated', 'crenelated', 'creneled', 'crenulated', 'cressed', 'cressweed', 'crested', 'creviced', 'cried', 'crinated', 'crined', 'crispated', 'crisped', 'crocketed', 'crocused', 'crookbacked', 'crookbilled', 'crooked', 'crookfingered', 'crookheaded', 'crookkneed', 'crooklegged', 'crooknecked', 'crooknosed', 'crookshouldered', 'crooksided', 'crooksterned', 'crooktoothed', 'cropweed', 'crosiered', 'crossbolted', 'crossbred', 'crossbreed', 'crosscurrented', 'crossed', 'crossleted', 'crosslighted', 'crosstied', 'crossweed', 'crotched', 'crouched', 'crowded', 'crowdweed', 'crowfooted', 'crowned', 'crowstepped', 'crucified', 'cruelhearted', 'crumpled', 'crunchweed', 'crushed', 'crustated', 'crusted', 'crutched', 'crypted', 'crystallized', 'cubited', 'cudweed', 'cuirassed', 'cultivated', 'cultrated', 'cultured', 'cuminseed', 'cupolated', 'cupped', 'cupseed', 'curled', 'curried', 'cursed', 'curtailed', 'curved', 'curvinerved', 'cushioned', 'cusped', 'cussed', 'cutted', 'cutweed', 'cyanosed', 'cylindered', 'cypressed', 'cysted', 'daggered', 'daggletailed', 'daisied', 'damascened', 'damned', 'damped', 'dappled', 'darkhearted', 'darned', 'dashed', 'dazed', 'deadhearted', 'dealated', 'deathbed', 'deathweed', 'debauched', 'debentured', 'debilitated', 'deboshed', 'decahydrated', 'decarbonized', 'decarnated', 'decayed', 'deceased', 'decided', 'decked', 'declared', 'declined', 'decollated', 'decomposed', 'decorated', 'decried', 'decussated', 'deed', 'deedeed', 'deepmouthed', 'deerweed', 'defamed', 'defeasanced', 'deferred', 'defiled', 'defined', 'deflected', 'defoliated', 'deformed', 'degged', 'degraded', 'dejected', 'deligated', 'delighted', 'demented', 'demersed', 'demibastioned', 'demicivilized', 'demidigested', 'demikindred', 'deminatured', 'demiturned', 'demoded', 'dentated', 'dentelated', 'dentilated', 'departed', 'dephlogisticated', 'deplored', 'deplumated', 'depraved', 'depressed', 'deranged', 'derived', 'deseed', 'desegmented', 'deserted', 'deserved', 'designed', 'desired', 'detached', 'detailed', 'determined', 'detrited', 'deuced', 'devertebrated', 'deviled', 'devitalized', 'devoted', 'dewclawed', 'dewlapped', 'diamonded', 'difformed', 'diffused', 'digammated', 'digested', 'digitated', 'digitinerved', 'dignified', 'dihydrated', 'dilapidated', 'dilated', 'dillseed', 'dillweed', 'diluted', 'dimensioned', 'dimmed', 'dipped', 'directed', 'disabled', 'disaccustomed', 'disaffected', 'disagreed', 'disappointed', 'disaproned', 'disarmed', 'discalced', 'disclosed', 'discolored', 'discomposed', 'disconcerted', 'disconnected', 'discontented', 'discovered', 'discrested', 'diseased', 'disembed', 'disengaged', 'disguised', 'disgusted', 'dished', 'disheveled', 'disimpassioned', 'disinterested', 'disjasked', 'disjointed', 'dislocated', 'dismayed', 'dismembered', 'dismoded', 'disnosed', 'disordained', 'disordered', 'disordinated', 'dispassioned', 'dispatriated', 'dispersed', 'dispirited', 'displayed', 'displeased', 'disposed', 'dispositioned', 'disprivacied', 'disquieted', 'disrelated', 'dissatisfied', 'dissected', 'dissipated', 'dissuited', 'distasted', 'distempered', 'distilled', 'distinguished', 'distorted', 'distracted', 'distressed', 'distributed', 'disturbed', 'disubstituted', 'dittied', 'diversicolored', 'diversified', 'divided', 'doated', 'dobbed', 'dodded', 'doddered', 'dodecahydrated', 'dogged', 'doggoned', 'doghearted', 'doiled', 'doited', 'doitrified', 'dominated', 'donated', 'donnered', 'doored', 'doorweed', 'dormered', 'dorsifixed', 'doted', 'dotted', 'doubled', 'doublehanded', 'doublehearted', 'doublehorned', 'doublelunged', 'doubleted', 'dovetailed', 'doveweed', 'dowed', 'downcurved', 'downfeed', 'downfolded', 'downheaded', 'downhearted', 'downlooked', 'downweed', 'downweighted', 'dozed', 'dozzled', 'drabbletailed', 'dragged', 'draggletailed', 'drained', 'drammed', 'draperied', 'dratted', 'dressed', 'dried', 'driftweed', 'dropseed', 'dropsied', 'drybrained', 'duckhearted', 'duckweed', 'ducted', 'dullbrained', 'dullhearted', 'dummered', 'dummyweed', 'dunderheaded', 'dungbred', 'dutied', 'dwelled', 'dyeweed', 'dynamometamorphosed', 'eared', 'earringed', 'earthbred', 'earthed', 'earthenhearted', 'earthquaked', 'eaved', 'eburated', 'eburnated', 'echinulated', 'edged', 'edgeweed', 'educated', 'elated', 'elbowed', 'electrofused', 'elevated', 'elongated', 'embannered', 'embarrassed', 'embastioned', 'embattled', 'embed', 'embowed', 'embryonated', 'emerited', 'emersed', 'emotioned', 'employed', 'emptyhearted', 'enamored', 'enarched', 'encuirassed', 'endeared', 'ended', 'endorsed', 'enfiled', 'enfonced', 'enforced', 'engaged', 'enghosted', 'engouled', 'engrailed', 'engrained', 'engraved', 'engrossed', 'enhanced', 'enjambed', 'enlarged', 'enlightened', 'enlisted', 'enraged', 'enrolled', 'entablatured', 'entangled', 'envied', 'enworthed', 'epauleted', 'epauletted', 'equiaxed', 'equilobed', 'equiped', 'equisegmented', 'equisided', 'equisized', 'equispaced', 'equivalenced', 'equivalved', 'erased', 'ergoted', 'ermined', 'eroded', 'escaloped', 'escutcheoned', 'essed', 'established', 'estafetted', 'ethered', 'euchred', 'evenhanded', 'evenminded', 'eveweed', 'evilhearted', 'evilmouthed', 'exaggerated', 'exalted', 'exasperated', 'exceed', 'excited', 'excurvated', 'excurved', 'excysted', 'executed', 'exhausted', 'exostosed', 'expanded', 'expedited', 'experienced', 'experimented', 'exploded', 'exposed', 'expressed', 'exserted', 'extended', 'extinguished', 'extraconstellated', 'extracted', 'extradosed', 'extrared', 'extricated', 'eyebridled', 'eyed', 'eyeseed', 'fabled', 'faced', 'faceted', 'facultied', 'faded', 'fainthearted', 'falcated', 'falsehearted', 'fancied', 'fanged', 'fangled', 'fanioned', 'fantasied', 'fanweed', 'farcied', 'farfetched', 'farsighted', 'farweltered', 'fasciated', 'fascicled', 'fasciculated', 'fascinated', 'fashioned', 'fastigated', 'fatbrained', 'fated', 'fatheaded', 'fathearted', 'fathered', 'faunated', 'faussebrayed', 'favored', 'feared', 'featherbed', 'featherbrained', 'feathered', 'featheredged', 'featherheaded', 'featherpated', 'featherweed', 'featured', 'fed', 'feeblebrained', 'feeblehearted', 'feed', 'feigned', 'felonweed', 'felted', 'fenestrated', 'ferned', 'ferntickled', 'ferrated', 'fetched', 'fetlocked', 'feued', 'feverweed', 'fezzed', 'fibered', 'fibrillated', 'fibrilled', 'fibronucleated', 'ficklehearted', 'fiddlebrained', 'fiddlefaced', 'fiddleheaded', 'fielded', 'fiercehearted', 'figged', 'figulated', 'figured', 'filamented', 'filiformed', 'filled', 'fimbriated', 'fimbricated', 'finchbacked', 'finched', 'fingered', 'fingerparted', 'finialed', 'finished', 'finned', 'fiorded', 'firearmed', 'firebolted', 'fired', 'firefanged', 'fireweed', 'firmhearted', 'fishbed', 'fished', 'fishweed', 'fissiped', 'fisted', 'fistulated', 'fitched', 'fitted', 'fittyfied', 'fitweed', 'fixed', 'flabellinerved', 'flacked', 'flagellated', 'flamed', 'flammulated', 'flanched', 'flanked', 'flanneled', 'flannelmouthed', 'flapmouthed', 'flated', 'flatweed', 'flavored', 'flawed', 'flaxseed', 'flaxweed', 'fleaseed', 'fleaweed', 'fleckled', 'fled', 'fleeced', 'fleshed', 'flewed', 'flexed', 'flexured', 'flighted', 'flinthearted', 'flixweed', 'flooded', 'floreted', 'floriated', 'flowered', 'flued', 'fluked', 'flurried', 'fluted', 'fluxweed', 'fogged', 'folded', 'foliaged', 'foliated', 'folliculated', 'fonted', 'footed', 'footnoted', 'foraminated', 'forbled', 'forced', 'forcipated', 'forebemoaned', 'forecited', 'foredefeated', 'foredeserved', 'foredevised', 'forehanded', 'foreheaded', 'foreimpressed', 'foreinclined', 'forementioned', 'forenamed', 'forenoted', 'forepassed', 'forepossessed', 'forepretended', 'forepromised', 'foreprovided', 'forequoted', 'forerecited', 'forerehearsed', 'foreremembered', 'foresettled', 'foresighted', 'forespecified', 'forespeed', 'forested', 'forethoughted', 'foretimed', 'foretypified', 'forevouched', 'forewonted', 'forficated', 'forged', 'forked', 'formed', 'fornicated', 'forthfigured', 'fortuned', 'fossed', 'fossilated', 'fossiled', 'foulmouthed', 'foundationed', 'fountained', 'foveated', 'foveolated', 'foxtailed', 'fracted', 'fragmented', 'framed', 'frankhearted', 'frankincensed', 'fratched', 'frayed', 'freckened', 'freckled', 'freed', 'freehanded', 'freehearted', 'frenched', 'frenzied', 'freshhearted', 'fretted', 'fretworked', 'fried', 'friended', 'frightened', 'frilled', 'fringed', 'frogged', 'fronded', 'fronted', 'frosted', 'frostweed', 'frowzled', 'frozenhearted', 'fructed', 'fruited', 'fullhearted', 'fullmouthed', 'funded', 'fungused', 'funneled', 'furied', 'furnished', 'furred', 'furriered', 'furzed', 'fused', 'gabelled', 'gabioned', 'gadded', 'gaited', 'galeated', 'galled', 'galleried', 'gallooned', 'gallweed', 'galvanized', 'gamboised', 'gambreled', 'gangliated', 'gapeseed', 'gardened', 'gargoyled', 'garnished', 'garreted', 'gartered', 'gaslighted', 'gated', 'gauffered', 'gaunted', 'gauntleted', 'geared', 'ged', 'gelatined', 'gemeled', 'geminated', 'generalized', 'geniculated', 'gentlehearted', 'gentlemouthed', 'gerated', 'gested', 'gewgawed', 'ghostified', 'ghostweed', 'gibbed', 'gied', 'gifted', 'gilded', 'gilled', 'gimbaled', 'gimbaljawed', 'gimberjawed', 'gimleteyed', 'gimped', 'ginghamed', 'ginned', 'gipsyweed', 'glaceed', 'glaciered', 'gladhearted', 'glaived', 'glaked', 'glandered', 'glassweed', 'glazed', 'gleed', 'globated', 'globed', 'glossed', 'glued', 'gnarled', 'gnomed', 'goateed', 'goatweed', 'gobleted', 'gobmouthed', 'gobonated', 'godded', 'goffered', 'goggled', 'goitered', 'goldenmouthed', 'goldseed', 'goldweed', 'goodhearted', 'goosenecked', 'gooserumped', 'gooseweed', 'goosewinged', 'gorbellied', 'gorged', 'gorgeted', 'gormed', 'gossamered', 'gossipred', 'goutweed', 'gowked', 'graded', 'graduated', 'grafted', 'grained', 'granulated', 'graped', 'grassed', 'grassweed', 'gratified', 'graved', 'gravelweed', 'greatcoated', 'greathearted', 'greatmouthed', 'greaved', 'greed', 'greenheaded', 'greenhearted', 'greenswarded', 'greenweed', 'grieced', 'grieved', 'grilled', 'grizzled', 'groined', 'grosgrained', 'grottoed', 'grounded', 'grouped', 'groved', 'growed', 'grubbed', 'grufted', 'gruntled', 'guarded', 'guernseyed', 'gulfweed', 'gummed', 'gumweed', 'guttated', 'gutweed', 'gweed', 'gypsyweed', 'habilimented', 'habited', 'hacked', 'hackneyed', 'hagged', 'hagseed', 'hagweed', 'hailweed', 'haired', 'hairweed', 'halfheaded', 'halfhearted', 'halfpaced', 'hallmarked', 'hallowed', 'hallucined', 'halved', 'hamated', 'hamleted', 'hammerheaded', 'hanced', 'handed', 'handicapped', 'handled', 'hardfisted', 'hardhanded', 'hardheaded', 'hardhearted', 'hardmouthed', 'harebrained', 'harefooted', 'harehearted', 'harelipped', 'harshweed', 'hatred', 'hatted', 'haunched', 'haustellated', 'hawked', 'hawkweed', 'hawthorned', 'hayseed', 'hayweed', 'hazeled', 'headed', 'hearted', 'heartseed', 'heartweed', 'heathered', 'heavyhanded', 'heavyheaded', 'heavyhearted', 'hecatomped', 'hederated', 'hedgeweed', 'heed', 'heeled', 'heliced', 'hellbred', 'hellweed', 'helmed', 'helmeted', 'hemihydrated', 'hemisphered', 'hempseed', 'hempweed', 'henhearted', 'heptahydrated', 'herbaged', 'herniated', 'hersed', 'heterochromatized', 'heterostyled', 'hexahydrated', 'hexaped', 'hidated', 'hided', 'highbred', 'highhanded', 'highhearted', 'hillocked', 'hipped', 'hired', 'historiated', 'historied', 'hoarheaded', 'hoaryheaded', 'hobnailed', 'hogged', 'hogweed', 'hollowfaced', 'hollowhearted', 'holstered', 'homebred', 'homostyled', 'honeycombed', 'honeydewed', 'honeyed', 'honeyhearted', 'honeylipped', 'honeymouthed', 'honeysuckled', 'honied', 'hooded', 'hoofed', 'hooked', 'hookweed', 'hooped', 'hoped', 'hopped', 'horned', 'hornyhanded', 'horsehaired', 'horseweed', 'hosed', 'hotbed', 'hotbrained', 'hotheaded', 'hothearted', 'hotmouthed', 'hotspurred', 'hucklebacked', 'hued', 'hulverheaded', 'humblehearted', 'humblemouthed', 'humpbacked', 'humped', 'hunchbacked', 'hundred', 'hungerweed', 'hurled', 'hurried', 'hurted', 'husked', 'huskened', 'huttonweed', 'hydrated', 'hydraulicked', 'hydrosulphurated', 'hydrosulphureted', 'hypercarbureted', 'hypercarburetted', 'hypercivilized', 'hyperpigmented', 'hypersophisticated', 'hypertrophied', 'hyphenated', 'hyporhined', 'iced', 'ichneumoned', 'ichneumonized', 'ichthyized', 'icicled', 'ideaed', 'idleheaded', 'illimited', 'illoricated', 'illuminated', 'illusioned', 'imbannered', 'imbased', 'imbed', 'imbricated', 'immatured', 'immeasured', 'immerited', 'immodulated', 'immonastered', 'immortified', 'immotioned', 'impacted', 'imparalleled', 'impassioned', 'imperceived', 'imperfected', 'imperforated', 'impermeated', 'imperturbed', 'implumed', 'impolished', 'inaccentuated', 'inanimated', 'inarticulated', 'inbred', 'inbreed', 'incarmined', 'incavated', 'inched', 'included', 'incompensated', 'incompleted', 'incomposed', 'incomprehended', 'inconditioned', 'inconfused', 'inconnected', 'inconsidered', 'inconsumed', 'incontracted', 'incontrolled', 'inconvinced', 'incoronated', 'incorporated', 'incorrupted', 'incrassated', 'incredited', 'incrossbred', 'indebted', 'indeed', 'indented', 'indentured', 'indetermined', 'indevoted', 'indexed', 'indigested', 'indirected', 'indisciplined', 'indiscovered', 'indiscriminated', 'indisposed', 'indistinguished', 'indisturbed', 'induced', 'indulgenced', 'indusiated', 'inedited', 'inelaborated', 'inequilobed', 'inexhausted', 'inexpected', 'inexperienced', 'inextended', 'infarcted', 'infected', 'infeed', 'inflamed', 'inflated', 'inflected', 'inflexed', 'informed', 'infrared', 'infumated', 'ingrained', 'inhabited', 'injured', 'inkshed', 'inkweed', 'inorganized', 'inrigged', 'inrighted', 'inrooted', 'insatiated', 'inscriptioned', 'inscriptured', 'insected', 'inserted', 'inspired', 'instratified', 'instressed', 'instructed', 'insulated', 'insured', 'intagliated', 'intellected', 'intelligenced', 'intended', 'intentioned', 'interallied', 'interbanded', 'interbedded', 'interbreed', 'intercatenated', 'intercontorted', 'interested', 'interfretted', 'interlaced', 'intermewed', 'intermitted', 'internetted', 'interrelated', 'interrupted', 'interseamed', 'intersticed', 'interthreaded', 'intertissued', 'interwed', 'intoed', 'intolerated', 'intoothed', 'intoxicated', 'intrabred', 'introverted', 'inturned', 'inured', 'inutilized', 'invalued', 'invaried', 'invecked', 'invected', 'inversed', 'invertebrated', 'inverted', 'inviolated', 'invised', 'involucellated', 'involucred', 'involuted', 'involved', 'inwedged', 'inweed', 'irisated', 'irised', 'ironfisted', 'ironhanded', 'ironheaded', 'ironhearted', 'ironsided', 'ironweed', 'ironworked', 'irradiated', 'irreclaimed', 'irredeemed', 'irregulated', 'irrelated', 'irresolved', 'isleted', 'isolated', 'itchreed', 'itchweed', 'ivied', 'ivoried', 'ivyweed', 'jabbed', 'jacketed', 'jackweed', 'jaded', 'jagged', 'jalloped', 'jalousied', 'japanned', 'jaseyed', 'jasmined', 'jasperated', 'jaspered', 'jawed', 'jawfooted', 'jed', 'jellied', 'jereed', 'jerkined', 'jerseyed', 'jessakeed', 'jessed', 'jetted', 'jettied', 'jewelweed', 'jimberjawed', 'jingled', 'jointed', 'jointweed', 'jolloped', 'jolterheaded', 'jossakeed', 'joyweed', 'jugated', 'jumpseed', 'jungled', 'justiceweed', 'ked', 'keeled', 'keened', 'kellupweed', 'kerchiefed', 'kerneled', 'keyed', 'keystoned', 'khakied', 'killweed', 'kimonoed', 'kindhearted', 'kindred', 'kingdomed', 'kingweed', 'kinkled', 'kirtled', 'kittenhearted', 'knagged', 'knapsacked', 'knapweed', 'knarred', 'kneed', 'knickerbockered', 'knickered', 'knickknacked', 'knitted', 'knitweed', 'knived', 'knobbed', 'knobweed', 'knopped', 'knopweed', 'knosped', 'knotted', 'knotweed', 'knowledged', 'knuckled', 'knurled', 'labiated', 'labored', 'laced', 'lacerated', 'laciniated', 'lackeyed', 'laddered', 'lagged', 'lakeweed', 'lamellated', 'lamented', 'laminated', 'lamplighted', 'lanated', 'lanced', 'lanceolated', 'lanceted', 'landed', 'landlocked', 'languaged', 'langued', 'lapelled', 'lapped', 'lappeted', 'lapsed', 'lapstreaked', 'largebrained', 'largehanded', 'largehearted', 'largemouthed', 'lated', 'laterinerved', 'latticed', 'laureated', 'laureled', 'lawned', 'layered', 'leaded', 'leadenhearted', 'leadenpated', 'leafed', 'learned', 'leaved', 'led', 'ledged', 'leed', 'legged', 'legginged', 'legioned', 'leisured', 'lemonweed', 'lensed', 'lenticulated', 'lepered', 'leprosied', 'lettered', 'levelheaded', 'licensed', 'lichened', 'lidded', 'lied', 'lightbrained', 'lightheaded', 'lighthearted', 'lightmouthed', 'ligulated', 'lilied', 'lilyhanded', 'limbed', 'limited', 'linchpinned', 'lineaged', 'lineated', 'lined', 'lineolated', 'lingulated', 'linked', 'linseed', 'linteled', 'lintseed', 'lionhearted', 'lipped', 'listed', 'listred', 'literalminded', 'lived', 'livered', 'liverhearted', 'liveried', 'loaded', 'lobated', 'lobed', 'lobefooted', 'lobellated', 'lobiped', 'lobulated', 'locked', 'locoweed', 'loculated', 'lodged', 'logged', 'loggerheaded', 'logheaded', 'loined', 'longheaded', 'longmouthed', 'loosemouthed', 'lopseed', 'lopsided', 'lored', 'loudmouthed', 'louvered', 'lovered', 'lowbred', 'lozenged', 'lugged', 'lunged', 'lunulated', 'lyrated', 'macled', 'maculated', 'madbrained', 'madweed', 'magged', 'magicked', 'magpied', 'maidenweed', 'mailed', 'maimed', 'maladjusted', 'malandered', 'malconceived', 'malcontented', 'malcreated', 'maldeveloped', 'malfed', 'malformed', 'malleableized', 'malnourished', 'maloccluded', 'malorganized', 'malplaced', 'malposed', 'malproportioned', 'malturned', 'mammillated', 'mandibulated', 'maned', 'manifested', 'mannered', 'manred', 'mansarded', 'mansioned', 'mantled', 'manubriated', 'manweed', 'marbled', 'marblehearted', 'marginated', 'margined', 'marinated', 'marked', 'markweed', 'marled', 'marmorated', 'married', 'marrowed', 'mascled', 'masked', 'masoned', 'masted', 'matreed', 'matted', 'matweed', 'maxilliped', 'maximed', 'mayweed', 'mazed', 'meadowed', 'mealmouthed', 'mealymouthed', 'meaned', 'measled', 'measured', 'meated', 'medaled', 'medifixed', 'mediodepressed', 'medullated', 'meed', 'meekhearted', 'meered', 'melamed', 'melanosed', 'melted', 'membered', 'membraned', 'memoried', 'mentholated', 'meringued', 'merited', 'mermithized', 'meshed', 'metalined', 'metamerized', 'mettled', 'midribbed', 'midstyled', 'mightyhearted', 'mildhearted', 'milkshed', 'milkweed', 'milled', 'millfeed', 'millioersted', 'millioned', 'mimmouthed', 'minareted', 'minded', 'mirrored', 'misadvised', 'misaffected', 'miscredited', 'miscreed', 'miscultivated', 'misdeed', 'misdeformed', 'misdevoted', 'miserected', 'misfortuned', 'misguided', 'misincensed', 'misinspired', 'misleared', 'misled', 'misminded', 'misnatured', 'misnomed', 'mispossessed', 'misprejudiced', 'misprincipled', 'misreposed', 'misresolved', 'misted', 'mistempered', 'misusurped', 'miswed', 'mitered', 'mittened', 'mixed', 'mobed', 'mohnseed', 'molassied', 'moneyed', 'monilated', 'monobromated', 'monobrominated', 'monobromized', 'monochlorinated', 'monociliated', 'monocled', 'monogrammed', 'monohydrated', 'monomethylated', 'mononitrated', 'mononucleated', 'monorhymed', 'monospored', 'monosubstituted', 'mooned', 'moonfaced', 'moonlighted', 'moonseed', 'mopheaded', 'morassweed', 'morcellated', 'morned', 'mortified', 'mossed', 'moted', 'mothed', 'mothered', 'motored', 'mottled', 'mottoed', 'moulded', 'mountained', 'mounted', 'mouthed', 'muckweed', 'muddlebrained', 'muddleheaded', 'muddybrained', 'muddyheaded', 'mudweed', 'muffed', 'muffled', 'mugweed', 'mulefooted', 'multiarticulated', 'multibladed', 'multibranched', 'multicarinated', 'multiciliated', 'multicolored', 'multicylindered', 'multidenticulated', 'multiengined', 'multifaced', 'multifaceted', 'multifibered', 'multiflagellated', 'multifoiled', 'multiformed', 'multigranulated', 'multihued', 'multilaminated', 'multilighted', 'multilobed', 'multilobulated', 'multiloculated', 'multimotored', 'multinucleated', 'multinucleolated', 'multiped', 'multiperforated', 'multipointed', 'multiported', 'multiradiated', 'multiramified', 'multirooted', 'multisacculated', 'multiseated', 'multisegmented', 'multispeed', 'multispired', 'multistoried', 'multistratified', 'multisulcated', 'multithreaded', 'multitoed', 'multitoned', 'multituberculated', 'multivalved', 'multivoiced', 'multivolumed', 'mummied', 'muraled', 'muriated', 'muscled', 'mused', 'mushed', 'mushheaded', 'muslined', 'musquashweed', 'musseled', 'mustached', 'mustachioed', 'muttonheaded', 'myelinated', 'myriaded', 'myrrhed', 'nacred', 'naked', 'nakedweed', 'napped', 'narrowhearted', 'nattered', 'naveled', 'neaped', 'nearsighted', 'nebbed', 'nebulated', 'necked', 'necklaced', 'necklaceweed', 'neckweed', 'nectared', 'nectaried', 'need', 'needled', 'needleworked', 'neighbored', 'neighborstained', 'netted', 'nettlebed', 'newfangled', 'newlywed', 'newspaperized', 'nibbed', 'nicotined', 'niellated', 'nielled', 'niggerweed', 'nightcapped', 'nighted', 'nigrified', 'nimbated', 'nimbed', 'nimblebrained', 'nimbused', 'nineted', 'nitered', 'noblehearted', 'nodated', 'noded', 'nodulated', 'noduled', 'nogheaded', 'nominated', 'nonaccredited', 'nonadmitted', 'nonaffiliated', 'nonalliterated', 'nonanalyzed', 'nonanesthetized', 'nonarticulated', 'nonassented', 'nonattached', 'nonazotized', 'nonbearded', 'nonblended', 'nonblockaded', 'nonblooded', 'nonbranded', 'noncalcified', 'noncartelized', 'noncensored', 'noncertified', 'nonchurched', 'noncivilized', 'noncommissioned', 'nonconditioned', 'noncontrolled', 'noncrystallized', 'noncultivated', 'nondecalcified', 'nondegreased', 'nondeported', 'nondepressed', 'nondesigned', 'nondesulphurized', 'nondetailed', 'nondisbursed', 'nondisfranchised', 'nondisinterested', 'nondomesticated', 'nonelectrified', 'nonelectrized', 'nonenrolled', 'nonentailed', 'nonenumerated', 'nonexcepted', 'nonexperienced', 'nonextended', 'nonextracted', 'nonfeatured', 'nonfederated', 'nonfenestrated', 'nonforested', 'nonfrosted', 'nongalvanized', 'nonglandered', 'nongraduated', 'nonimmunized', 'nonimpregnated', 'nonincarnated', 'nonindurated', 'noninfected', 'noninherited', 'noninterrupted', 'noninverted', 'noniodized', 'nonionized', 'nonirradiated', 'nonirrigated', 'nonlaminated', 'nonleaded', 'nonlicensed', 'nonlixiviated', 'nonlocalized', 'nonmanufactured', 'nonmedullated', 'nonmulched', 'nonnitrogenized', 'nonnucleated', 'nonoxygenated', 'nonpatented', 'nonpeaked', 'nonpenalized', 'nonperforated', 'nonphosphorized', 'nonpigmented', 'nonplushed', 'nonpreformed', 'nonprescribed', 'nonprincipled', 'nonprofessed', 'nonprovided', 'nonrated', 'nonrationalized', 'nonrayed', 'nonrecognized', 'nonrectified', 'nonregimented', 'nonregistered', 'nonrelapsed', 'nonrestricted', 'nonreversed', 'nonrhymed', 'nonsacred', 'nonsalaried', 'nonsaturated', 'nonschematized', 'nonsegmented', 'nonselected', 'nonsensitized', 'nonsilicated', 'nonsolidified', 'nonspecialized', 'nonspecified', 'nonspored', 'nonstandardized', 'nonstriated', 'nonstriped', 'nonstylized', 'nonsuppressed', 'nonsynthesized', 'nonthreaded', 'nontimbered', 'nontolerated', 'nontreated', 'nontrunked', 'nontuned', 'nonturbinated', 'nonumbrellaed', 'nonunited', 'nonupholstered', 'nonutilized', 'nonvisaed', 'nonvisualized', 'nonvitrified', 'nonvolatilized', 'nonwetted', 'nonwinged', 'nooked', 'normated', 'nosebanded', 'nosebleed', 'nosed', 'nostriled', 'notched', 'notchweed', 'noted', 'notified', 'notioned', 'nowed', 'nucleolated', 'nudiped', 'nummulated', 'numskulled', 'nunnated', 'nutmegged', 'nutseed', 'nutted', 'oared', 'oarweed', 'oathed', 'oatseed', 'obcompressed', 'obliged', 'oblongated', 'obtected', 'obvoluted', 'oceaned', 'ocellated', 'ocreated', 'octahydrated', 'octofoiled', 'octoped', 'octoradiated', 'oculated', 'odored', 'oersted', 'offended', 'offhanded', 'ogeed', 'ogived', 'oiled', 'oilseed', 'oilskinned', 'oldfangled', 'oldhearted', 'olived', 'omened', 'onehearted', 'onesigned', 'onflemed', 'onionized', 'opaled', 'openhanded', 'openhearted', 'openmouthed', 'opercled', 'operculated', 'opinionated', 'opinioned', 'opposed', 'oppressed', 'orbed', 'orbiculated', 'ordered', 'oreweed', 'organized', 'origanized', 'orphreyed', 'orthosubstituted', 'osiered', 'ossified', 'outbleed', 'outbowed', 'outbred', 'outbreed', 'outdated', 'outed', 'outeyed', 'outlined', 'outlipped', 'outmoded', 'outplayed', 'outriggered', 'outsided', 'outsized', 'outspeed', 'outturned', 'outweed', 'ovated', 'overalled', 'overambitioned', 'overappareled', 'overapprehended', 'overattached', 'overbanded', 'overbanked', 'overbepatched', 'overblessed', 'overbowed', 'overbrained', 'overbred', 'overbreed', 'overburned', 'overcoached', 'overcoated', 'overconcerned', 'overcontented', 'overcorned', 'overcreed', 'overcrowded', 'overcultured', 'overcured', 'overdazed', 'overdelighted', 'overdetermined', 'overdevoted', 'overdignified', 'overdistempered', 'overdrifted', 'overdrowsed', 'overdubbed', 'overdunged', 'overeducated', 'overempired', 'overexerted', 'overeyebrowed', 'overfagged', 'overfamed', 'overfeatured', 'overfed', 'overfeed', 'overfinished', 'overfleshed', 'overforged', 'overformed', 'overfranchised', 'overfrighted', 'overfruited', 'overgalled', 'overgifted', 'overgilted', 'overgirded', 'overgreed', 'overhanded', 'overhatted', 'overinclined', 'overinterested', 'overinventoried', 'overjaded', 'overjawed', 'overlanguaged', 'overlearned', 'overleisured', 'overlettered', 'overlighted', 'overlightheaded', 'overlinked', 'overlisted', 'overmelodied', 'overmettled', 'overnoveled', 'overofficered', 'overornamented', 'overpained', 'overparted', 'overpitched', 'overplaced', 'overpointed', 'overpronounced', 'overproportionated', 'overproportioned', 'overrefined', 'overreserved', 'overrigged', 'overrooted', 'oversanded', 'oversated', 'overscented', 'overscutched', 'overseasoned', 'overseated', 'overseed', 'oversettled', 'overshowered', 'oversized', 'oversophisticated', 'oversorrowed', 'overspangled', 'oversparred', 'overspeed', 'overstalled', 'overstowed', 'overstudied', 'oversweated', 'overtapped', 'overtimbered', 'overtinseled', 'overtongued', 'overtrailed', 'overunionized', 'overwasted', 'overweaponed', 'overwhipped', 'overwiped', 'overwithered', 'overwooded', 'overwrested', 'oviculated', 'oxidulated', 'oystered', 'oysterseed', 'ozoned', 'paced', 'paddled', 'pageanted', 'pailletted', 'pained', 'painted', 'paired', 'pajamaed', 'palaced', 'palated', 'paled', 'palehearted', 'palfreyed', 'palled', 'palmated', 'palmatilobed', 'palmatiparted', 'palmatisected', 'palmed', 'palmilobated', 'palmilobed', 'palminerved', 'palmiped', 'palmiveined', 'palped', 'palsied', 'pampered', 'panached', 'pandurated', 'paned', 'panheaded', 'panicked', 'panicled', 'paniculated', 'panniered', 'panoplied', 'pansied', 'pantaletted', 'pantalooned', 'pantiled', 'papered', 'papillated', 'papulated', 'parallelepiped', 'parallelinerved', 'parallelopiped', 'parapeted', 'parasoled', 'parasubstituted', 'parded', 'parished', 'parricided', 'parsoned', 'partanhanded', 'parted', 'parterred', 'particled', 'partimembered', 'partitioned', 'passioned', 'pasted', 'pasterned', 'pathed', 'pathwayed', 'patined', 'patriarched', 'pattened', 'patterned', 'pauciarticulated', 'pauciradiated', 'paucispirated', 'paunched', 'pavonated', 'payed', 'peaked', 'pearled', 'pearlweed', 'pebbled', 'pebblehearted', 'pecked', 'peckled', 'pectinated', 'ped', 'pedated', 'pedatilobed', 'pedatinerved', 'pedatisected', 'pediceled', 'pedicellated', 'pedicelled', 'pediculated', 'pedimented', 'peduncled', 'pedunculated', 'peed', 'peeled', 'peeved', 'pegged', 'pelleted', 'peltated', 'peltinerved', 'penciled', 'pencilled', 'pendanted', 'penicillated', 'pennated', 'pennatisected', 'pennied', 'penninerved', 'penniveined', 'pennoned', 'pensived', 'pentadecahydrated', 'pentahydrated', 'peplosed', 'pepperweed', 'percentaged', 'perfected', 'perforated', 'perfumed', 'perished', 'periwigpated', 'periwinkled', 'perjured', 'permissioned', 'permitted', 'perplexed', 'personed', 'perspectived', 'persuaded', 'perturbed', 'pertused', 'perverted', 'pestilenceweed', 'petaled', 'petalled', 'petiolated', 'petioled', 'petrified', 'petted', 'petticoated', 'phalanxed', 'phalerated', 'phimosed', 'phlogosed', 'phosphated', 'phosphoreted', 'phylacteried', 'physicianed', 'physicked', 'physiqued', 'piazzaed', 'picked', 'pickerelweed', 'pickleweed', 'picrated', 'pictured', 'pied', 'pierced', 'pigeonhearted', 'pigeonweed', 'pigheaded', 'pigweed', 'piked', 'pilastered', 'pilastraded', 'pilaued', 'pileated', 'piled', 'pileolated', 'pileweed', 'pillared', 'pilled', 'pilotweed', 'pimpled', 'pincerweed', 'pinched', 'pinchfisted', 'pined', 'pineweed', 'pinfeathered', 'pinheaded', 'pinioned', 'pinked', 'pinkweed', 'pinnated', 'pinnatilobed', 'pinnatiped', 'pinnatisected', 'pinned', 'pinninerved', 'pinniped', 'pinnisected', 'pinnulated', 'pinrowed', 'pinweed', 'pioted', 'piped', 'pipped', 'pissabed', 'pitchered', 'pitted', 'pixilated', 'plagued', 'plaided', 'plainhearted', 'plainsoled', 'plaited', 'planeted', 'plated', 'platformed', 'platted', 'pleached', 'pled', 'plicated', 'plicatocontorted', 'plied', 'plighted', 'plotted', 'plouked', 'plucked', 'plugged', 'plumaged', 'plumed', 'plumiped', 'plummeted', 'pluriseriated', 'plushed', 'pneumatized', 'pocketed', 'pockweed', 'podded', 'pointed', 'pointleted', 'poised', 'poisonweed', 'poked', 'pokeweed', 'policed', 'polished', 'politied', 'polled', 'pollened', 'polluted', 'poltfooted', 'polyaffectioned', 'polybuttoned', 'polyglotted', 'polygrooved', 'polylaminated', 'polynucleated', 'polypaged', 'polyped', 'polyphoned', 'polysided', 'polyspored', 'pommeled', 'ponchoed', 'pondweed', 'pooped', 'poorweed', 'popeyed', 'poplared', 'poppied', 'popweed', 'porcated', 'porched', 'pored', 'portaled', 'portalled', 'ported', 'porticoed', 'portiered', 'positioned', 'possessed', 'possessioned', 'postaspirated', 'postdetermined', 'postdisapproved', 'posted', 'postfixed', 'postilioned', 'postposited', 'potbellied', 'potted', 'pottled', 'pouched', 'pounced', 'povertyweed', 'powdered', 'powered', 'practiced', 'prairied', 'prairieweed', 'pranked', 'preaccustomed', 'preachieved', 'preacquired', 'preaged', 'preallied', 'preambled', 'preassigned', 'prebeloved', 'precedented', 'prechampioned', 'precipiced', 'precipitated', 'precited', 'preclassified', 'preconceived', 'preconcentrated', 'preconcerted', 'preconditioned', 'precongested', 'preconsolidated', 'precontained', 'precontrolled', 'precreed', 'predilected', 'prediscontented', 'predisordered', 'predisposed', 'preferred', 'prefixed', 'preformed', 'prehatred', 'prehaunted', 'preheated', 'preindebted', 'prejudiced', 'preoccasioned', 'preoccupied', 'preopinionated', 'prepared', 'prepossessed', 'prerogatived', 'presanctified', 'presbyterated', 'prescored', 'presenced', 'pretended', 'preterdetermined', 'pretexted', 'priced', 'pricked', 'prickled', 'prideweed', 'pried', 'primaried', 'primrosed', 'princified', 'printed', 'prismed', 'privileged', 'probosciformed', 'proceed', 'procurved', 'produced', 'producted', 'professed', 'proflated', 'promontoried', 'pronged', 'pronounced', 'propertied', 'proportioned', 'proptosed', 'propugnacled', 'protracted', 'proudhearted', 'proved', 'provided', 'prowed', 'prowessed', 'prunted', 'pseudocultivated', 'pseudolaminated', 'pseudoreformed', 'pseudosacred', 'publichearted', 'puddingheaded', 'puddled', 'puffed', 'pugged', 'pukeweed', 'pulmonated', 'pulvinated', 'pumiced', 'punctated', 'punctulated', 'punctured', 'pungled', 'pupiled', 'purebred', 'pured', 'purehearted', 'purfled', 'pursed', 'pussyfooted', 'pustulated', 'pustuled', 'putrifacted', 'puttyhearted', 'puzzled', 'puzzleheaded', 'puzzlepated', 'pygmyweed', 'pygostyled', 'pyjamaed', 'quadded', 'quadrangled', 'quadrated', 'quadriarticulated', 'quadridentated', 'quadrifurcated', 'quadrigabled', 'quadrilled', 'quadrilobed', 'quadriplicated', 'quadrisulcated', 'quadruped', 'qualified', 'qualitied', 'quantitied', 'quarred', 'quarreled', 'quarried', 'quartered', 'quartersawed', 'quatrefoiled', 'quatrefoliated', 'queenweed', 'quesited', 'quickhearted', 'quilled', 'quilleted', 'quilted', 'quinquedentated', 'quinquefoliated', 'quinquelobated', 'quinquelobed', 'quinquenerved', 'quinsied', 'quintiped', 'quintuplinerved', 'quintupliribbed', 'quitted', 'quivered', 'quoined', 'rabbithearted', 'rabbitweed', 'racemed', 'radiated', 'radicated', 'ragged', 'raggled', 'ragweed', 'rainbowweed', 'raised', 'ramed', 'ramfeezled', 'ramified', 'ramososubdivided', 'ramped', 'ramshackled', 'ranged', 'ranked', 'rapeseed', 'rapiered', 'raptured', 'rasped', 'rated', 'rathed', 'rattlebrained', 'rattled', 'rattleheaded', 'rattlepated', 'rattleskulled', 'rattleweed', 'ravined', 'rawboned', 'rayed', 'reasoned', 'reassured', 'rebed', 'rebreed', 'received', 'reclinated', 'recollected', 'reconstructed', 'rectangled', 'rectified', 'rectinerved', 'red', 'redeed', 'redheaded', 'redhearted', 'redoubted', 'reduced', 'redweed', 'reed', 'reeded', 'reeled', 'refathered', 'refeed', 'refined', 'reflected', 'reflexed', 'refluxed', 'reformed', 'refracted', 'regimentaled', 'regimentalled', 'regioned', 'registered', 'reglorified', 'regulated', 'reindebted', 'reiterated', 'related', 'relaxed', 'relicted', 'relieved', 'remiped', 'removed', 'renowned', 'rented', 'repeated', 'replicated', 'reposed', 'repped', 'repressed', 'reproceed', 'reputed', 'reseed', 'reserved', 'resigned', 'resolved', 'respiratored', 'restrained', 'restricted', 'resucceed', 'resupinated', 'retarded', 'reticulated', 'reticuled', 'retinerved', 'retiracied', 'retired', 'retorted', 'retracted', 'retricked', 'retrocurved', 'retroflected', 'retroflexed', 'retrofracted', 'retromorphosed', 'retroplexed', 'retroposed', 'retted', 'returned', 'revealed', 'revenued', 'revered', 'reversed', 'revoluted', 'revulsed', 'rewed', 'reworked', 'rheumed', 'ribaudred', 'ribbed', 'ribbonweed', 'richweed', 'ridered', 'ridged', 'ridgepoled', 'rightheaded', 'righthearted', 'rimmed', 'rinded', 'ringboned', 'ringed', 'ringleted', 'rivered', 'riverweed', 'rizzomed', 'roadbed', 'roaded', 'roadweed', 'rocheted', 'rockhearted', 'rockweed', 'roed', 'rolled', 'rookeried', 'roomed', 'roosted', 'rooted', 'rosated', 'rosed', 'rosetted', 'rosied', 'rosinweed', 'rostrated', 'rotated', 'roughhearted', 'roughtailed', 'rounded', 'roundheaded', 'roundmouthed', 'roundnosed', 'rowed', 'rubbed', 'rubiconed', 'rubied', 'ruddied', 'rudented', 'ruffed', 'ruffled', 'rugged', 'rugheaded', 'ruined', 'runchweed', 'runed', 'runted', 'ruptured', 'rushed', 'rushlighted', 'rustred', 'rutilated', 'sabered', 'saboted', 'saccated', 'saccharated', 'saccharinated', 'sacculated', 'sackclothed', 'sacked', 'sacred', 'saddled', 'sadhearted', 'saffroned', 'sailed', 'sainted', 'salaried', 'salited', 'salted', 'saltweed', 'sanctified', 'sanctuaried', 'sandaled', 'sanded', 'sandweed', 'sapheaded', 'sapphired', 'satcheled', 'satellited', 'satined', 'satisfied', 'saturated', 'saved', 'savored', 'savoyed', 'sawed', 'scabbed', 'scalded', 'scaldweed', 'scaled', 'scalled', 'scantlinged', 'scapulated', 'scarfed', 'scarletseed', 'scarred', 'scarved', 'scatterbrained', 'scattered', 'scented', 'sceptered', 'schapped', 'schooled', 'scienced', 'scimitared', 'sclerized', 'sclerosed', 'sclerotized', 'scooped', 'scopiped', 'scopuliped', 'scorched', 'scored', 'scorned', 'scorpionweed', 'scoured', 'scourweed', 'scrabbled', 'scragged', 'scraggled', 'scraped', 'scrapped', 'scratchweed', 'screed', 'screened', 'screeved', 'screwed', 'scribbled', 'scrimped', 'scriptured', 'scrobiculated', 'scrofulaweed', 'scrolled', 'scrubbed', 'scuffed', 'sculptured', 'scummed', 'scurvied', 'scurvyweed', 'scutated', 'scutcheoned', 'scutellated', 'scutiped', 'scutulated', 'sealed', 'seamed', 'seared', 'seasoned', 'seated', 'seaweed', 'secluded', 'secondhanded', 'sectored', 'sedged', 'sedigitated', 'seed', 'seedbed', 'seeded', 'seeped', 'seepweed', 'segged', 'segmented', 'sejoined', 'selected', 'selvaged', 'semeed', 'semiabstracted', 'semiacidified', 'semianimated', 'semiannealed', 'semiappressed', 'semiattached', 'semibalked', 'semibelted', 'semibleached', 'semiboiled', 'semibolshevized', 'semicalcined', 'semicircled', 'semicivilized', 'semiclosed', 'semicoagulated', 'semicombined', 'semicompacted', 'semicomplicated', 'semicordated', 'semicoronated', 'semicured', 'semidemented', 'semidenatured', 'semidetached', 'semideveloped', 'semidigested', 'semidisabled', 'semidivided', 'semidomed', 'semidomesticated', 'semidried', 'semieducated', 'semienclosed', 'semiengaged', 'semiexpanded', 'semiexposed', 'semifasciated', 'semifinished', 'semifixed', 'semiflexed', 'semiformed', 'semifossilized', 'semifused', 'semiglazed', 'semihumanized', 'semilined', 'semimanufactured', 'semimercerized', 'semimineralized', 'seminaked', 'semiopened', 'semiorganized', 'semioxidated', 'semioxidized', 'semioxygenated', 'semioxygenized', 'semipalmated', 'semipectinated', 'semiped', 'semipetrified', 'semiphlogisticated', 'semiprofessionalized', 'semirefined', 'semisacred', 'semiskilled', 'semistarved', 'semistratified', 'semistriated', 'semisupinated', 'semitailored', 'semitrained', 'semitrimmed', 'semiundressed', 'semivitrified', 'semivulcanized', 'sensed', 'sepaled', 'sepalled', 'septangled', 'septated', 'septicolored', 'sequestered', 'sericated', 'serrated', 'serried', 'serriped', 'serrulated', 'sesquihydrated', 'settled', 'sevenfolded', 'sewed', 'sewered', 'sexangled', 'sexdigitated', 'sexed', 'sexiped', 'shabbed', 'shaded', 'shadowed', 'shafted', 'shagged', 'shagreened', 'shallowbrained', 'shallowhearted', 'shallowpated', 'shamed', 'shamefaced', 'shammed', 'shanked', 'shaped', 'sharded', 'shatterbrained', 'shatterheaded', 'shatterpated', 'shaved', 'shaveweed', 'shawled', 'sheathed', 'sheaved', 'shed', 'shedded', 'sheepfaced', 'sheepheaded', 'sheephearted', 'sheepshed', 'sheepweed', 'sheered', 'sheeted', 'shelled', 'sheltered', 'sheveled', 'shickered', 'shied', 'shielded', 'shingled', 'shipped', 'shiverweed', 'shockheaded', 'shored', 'shoreweed', 'shorthanded', 'shortsighted', 'shotted', 'shouldered', 'shovelweed', 'shred', 'shrouded', 'shrubbed', 'shuttleheaded', 'sibbed', 'sickbed', 'sickhearted', 'sickled', 'sickleweed', 'sicklied', 'sided', 'sifted', 'sighted', 'sigillated', 'silenced', 'siliciuretted', 'silked', 'silkweed', 'silvered', 'silverweed', 'simplehearted', 'simplexed', 'simplified', 'sinewed', 'singed', 'singled', 'singlehanded', 'singlehearted', 'sinuated', 'sinuatocontorted', 'sinuatodentated', 'sinuatoserrated', 'siphuncled', 'siphunculated', 'siruped', 'situated', 'sized', 'skeed', 'skeered', 'skeletonweed', 'skewbacked', 'skewed', 'skidded', 'skied', 'skilled', 'skimmed', 'skinned', 'skippered', 'skirted', 'skittled', 'skulled', 'skunkweed', 'slabbed', 'slacked', 'slashed', 'slatted', 'slaved', 'sleaved', 'sled', 'sledded', 'sleepered', 'sleeved', 'slewed', 'sliced', 'slickered', 'slided', 'slighted', 'slinkweed', 'slipped', 'slippered', 'slipperweed', 'sliptopped', 'slitted', 'sloped', 'slopped', 'sloted', 'slotted', 'slowbellied', 'slowheaded', 'slowhearted', 'slowmouthed', 'sludged', 'slugabed', 'slugged', 'smallhearted', 'smallmouthed', 'smartweed', 'smeared', 'smelled', 'smoked', 'smoothbored', 'smoothmouthed', 'smothered', 'smudged', 'smutted', 'snagged', 'snaggled', 'snakeweed', 'snapped', 'snapweed', 'snatched', 'sned', 'sneezeweed', 'snibbled', 'sniveled', 'snooded', 'snookered', 'snouted', 'snowshed', 'snowshoed', 'snubbed', 'snuffcolored', 'soaked', 'soapweed', 'sobersided', 'societified', 'sodded', 'softbrained', 'softheaded', 'softhearted', 'soiled', 'soldierhearted', 'solicited', 'soliped', 'sombreroed', 'sonantized', 'sophisticated', 'soreheaded', 'sorehearted', 'sorryhearted', 'sorted', 'soshed', 'sotted', 'souffleed', 'souled', 'soundheaded', 'soundhearted', 'soured', 'sourhearted', 'sourweed', 'sowbacked', 'spaced', 'spaded', 'spangled', 'sparked', 'sparred', 'spasmed', 'spathed', 'spatted', 'spatterdashed', 'spavied', 'spavined', 'specialized', 'specked', 'speckled', 'spectacled', 'spectered', 'sped', 'speed', 'sphacelated', 'spicated', 'spiced', 'spiculated', 'spidered', 'spied', 'spiffed', 'spiflicated', 'spiked', 'spikeweed', 'spindled', 'spined', 'spiraled', 'spirated', 'spired', 'spirited', 'spiritweed', 'spissated', 'spitscocked', 'spitted', 'splashed', 'splatterfaced', 'splayed', 'splayfooted', 'splaymouthed', 'spoiled', 'sponged', 'spored', 'spotted', 'spreaded', 'spried', 'sprigged', 'sprinkled', 'sprinklered', 'spurred', 'spurwinged', 'squabbed', 'squadroned', 'squamated', 'squamosodentated', 'squamosoimbricated', 'squared', 'squatted', 'squawweed', 'squiffed', 'squinted', 'stackfreed', 'staffed', 'staged', 'staggerweed', 'staired', 'stalactited', 'stalked', 'stamened', 'stampweed', 'stancheled', 'standardbred', 'standardized', 'stanzaed', 'stapled', 'starched', 'starlighted', 'starred', 'starved', 'stated', 'statued', 'statured', 'stayed', 'stealed', 'steed', 'steelhearted', 'steepled', 'steepweed', 'stellated', 'stemmed', 'stenosed', 'stepped', 'stereotyped', 'sterned', 'stewed', 'stibiated', 'sticked', 'stickseed', 'stickweed', 'stiffhearted', 'stilted', 'stinkweed', 'stinted', 'stiped', 'stippled', 'stipuled', 'stoled', 'stoned', 'stonehearted', 'stoneseed', 'stoneweed', 'stonied', 'stonyhearted', 'stooded', 'stopped', 'storied', 'stouthearted', 'strained', 'straked', 'strangleweed', 'strapped', 'stratified', 'streaked', 'streamlined', 'striated', 'strictured', 'stringed', 'stringhalted', 'striolated', 'striped', 'stripped', 'strived', 'strongbrained', 'stronghearted', 'strophiolated', 'structured', 'stubbed', 'stubbled', 'stubbornhearted', 'studied', 'stuffed', 'stunted', 'stupefied', 'sturdied', 'sturdyhearted', 'stylopized', 'subangled', 'subangulated', 'subappressed', 'subarcuated', 'subattenuated', 'subbranched', 'subbreed', 'subcarbureted', 'subcarburetted', 'subcommended', 'subcompressed', 'subcontained', 'subcontinued', 'subcontracted', 'subdentated', 'subdented', 'subdepressed', 'subdilated', 'subdistinguished', 'subdued', 'subhooked', 'subimbricated', 'subimposed', 'subimpressed', 'subinvoluted', 'subjected', 'sublighted', 'sublimed', 'submargined', 'submerged', 'submersed', 'subnitrated', 'suborbiculated', 'subovated', 'subpartitioned', 'subpeltated', 'subsaturated', 'substituted', 'subtriplicated', 'subturriculated', 'subtwined', 'subulated', 'suburbed', 'subventioned', 'subversed', 'subvitalized', 'succeed', 'sucivilized', 'suffused', 'sugared', 'sulcated', 'sullenhearted', 'sulphated', 'sulphonated', 'sulphureosuffused', 'sulphureted', 'sulphurweed', 'summed', 'sunbeamed', 'sunbonneted', 'sunburned', 'sunlighted', 'sunnyhearted', 'sunspotted', 'sunweed', 'superaccomplished', 'superacidulated', 'superbeloved', 'superblessed', 'supercarbureted', 'supercharged', 'supercivilized', 'superclassified', 'superconsecrated', 'supercrowned', 'supercultivated', 'superelated', 'superelevated', 'superexceed', 'superexcited', 'superfructified', 'superimposed', 'superimpregnated', 'superimproved', 'superinsaniated', 'superposed', 'superpowered', 'superrefined', 'superrheumatized', 'supersacred', 'supersublimated', 'supersubtilized', 'supersulphureted', 'superultrafrostified', 'supposed', 'suppressed', 'surbased', 'surbed', 'surfaced', 'surmised', 'surmounted', 'surpeopled', 'surpliced', 'surrounded', 'suspected', 'suspended', 'sustained', 'swagbellied', 'swampweed', 'swannecked', 'swanweed', 'swastikaed', 'swayed', 'sweated', 'sweatweed', 'sweered', 'sweethearted', 'sweetmouthed', 'sweetweed', 'swelled', 'switched', 'swiveled', 'swiveleyed', 'swooned', 'swordweed', 'syllabled', 'synchronized', 'syncopated', 'syruped', 'systemed', 'systolated', 'tabarded', 'tabled', 'tabulated', 'tackled', 'tagged', 'tailed', 'taled', 'talented', 'taliped', 'tallowweed', 'taloned', 'tamehearted', 'tampioned', 'tanged', 'tanked', 'tanned', 'tannined', 'tapered', 'taprooted', 'tarantulated', 'tarbooshed', 'targeted', 'tarlataned', 'tarmined', 'tarred', 'tartarated', 'tartrated', 'tarweed', 'tasted', 'tattered', 'tattied', 'tauted', 'tawdered', 'taxed', 'taximetered', 'teated', 'ted', 'tegulated', 'tellureted', 'telluretted', 'temperamented', 'tempered', 'templed', 'tenchweed', 'tenderhearted', 'tendriled', 'tentacled', 'tentaculated', 'tented', 'terminalized', 'terreted', 'territoried', 'tessellated', 'tesserated', 'tested', 'testiculated', 'testudinated', 'tetrahydrated', 'tetrasubstituted', 'thecaspored', 'theopneusted', 'thewed', 'thickbrained', 'thicketed', 'thickheaded', 'thickskulled', 'thighed', 'thimbled', 'thimbleweed', 'thinbrained', 'thistled', 'thonged', 'thorned', 'thoroughbred', 'thoroughpaced', 'thoroughsped', 'thoroughstitched', 'thoughted', 'threaded', 'threadweed', 'threefolded', 'throated', 'throughbred', 'thumbed', 'thunderheaded', 'ticked', 'tickled', 'tickleweed', 'tickseed', 'tickseeded', 'tickweed', 'tided', 'tied', 'tierced', 'tiered', 'tiewigged', 'tigerhearted', 'tightfisted', 'tiled', 'tileseed', 'timbered', 'timbertuned', 'timbreled', 'timed', 'tindered', 'tined', 'tineweed', 'tinged', 'tinned', 'tinnified', 'tinted', 'tipped', 'tired', 'tiresomeweed', 'tissued', 'titled', 'tobaccofied', 'tobaccoweed', 'toecapped', 'toed', 'togaed', 'togated', 'toiled', 'toileted', 'toiletted', 'tokened', 'toned', 'tongued', 'tonneaued', 'tonsured', 'toothchiseled', 'toothed', 'toothleted', 'topknotted', 'toplighted', 'topped', 'torchlighted', 'torchweed', 'tored', 'tormented', 'torquated', 'torqued', 'tortured', 'toryweed', 'tossicated', 'touched', 'toughhearted', 'toupeed', 'towered', 'towheaded', 'towned', 'trabeated', 'trabeculated', 'traceried', 'tracked', 'tragicolored', 'trained', 'trammeled', 'trammelled', 'tranced', 'transferred', 'transomed', 'transported', 'trapped', 'travated', 'traveled', 'travelled', 'traversed', 'treed', 'trefoiled', 'trellised', 'trenched', 'tressed', 'tressured', 'triangled', 'triarcuated', 'tribarred', 'tricarinated', 'trichinosed', 'tricolored', 'tricornered', 'tricuspidated', 'tridentated', 'tridimensioned', 'tried', 'trifasciated', 'trifoliated', 'triformed', 'triggered', 'triglyphed', 'trihydrated', 'trilamellated', 'trilineated', 'trilobated', 'trilobed', 'trimotored', 'trinerved', 'triparted', 'triphenylated', 'tripinnated', 'triplinerved', 'tripointed', 'triradiated', 'trisected', 'trisinuated', 'trisubstituted', 'trisulcated', 'triunsaturated', 'trophied', 'trottoired', 'trousered', 'truebred', 'truehearted', 'truffled', 'trumpetweed', 'truncated', 'trunched', 'truncheoned', 'trunked', 'trunnioned', 'trussed', 'tubehearted', 'tubercled', 'tuberculated', 'tuberculed', 'tuberculosed', 'tubulated', 'tufted', 'tumbled', 'tumbleweed', 'tumored', 'tunbellied', 'tuned', 'tunicated', 'tunicked', 'tunneled', 'turbaned', 'turbinated', 'turbined', 'turfed', 'turned', 'turnipweed', 'turpantineweed', 'turpentineweed', 'turreted', 'tushed', 'tusked', 'tussocked', 'tweed', 'tweeded', 'twibilled', 'twigged', 'twilled', 'twinned', 'twisted', 'twistened', 'twitterboned', 'twizzened', 'uddered', 'ulcered', 'ullaged', 'ulstered', 'ultradignified', 'ultrainvolved', 'ultrared', 'ultrarefined', 'umbeled', 'umbellated', 'umbilicated', 'umbonated', 'umbrellaed', 'unabandoned', 'unabased', 'unabashed', 'unabated', 'unabbreviated', 'unabetted', 'unabhorred', 'unabjured', 'unabolished', 'unabraded', 'unabrased', 'unabridged', 'unabrogated', 'unabsolved', 'unabsorbed', 'unabused', 'unaccelerated', 'unaccented', 'unaccentuated', 'unaccepted', 'unaccidented', 'unacclimated', 'unacclimatized', 'unaccommodated', 'unaccompanied', 'unaccomplished', 'unaccorded', 'unaccosted', 'unaccounted', 'unaccoutered', 'unaccoutred', 'unaccreditated', 'unaccredited', 'unaccrued', 'unaccumulated', 'unaccursed', 'unaccustomed', 'unachieved', 'unacidulated', 'unacknowledged', 'unacquainted', 'unacquired', 'unacquitted', 'unacted', 'unactivated', 'unactuated', 'unadapted', 'unadded', 'unaddicted', 'unaddressed', 'unadjectived', 'unadjourned', 'unadjudged', 'unadjusted', 'unadministered', 'unadmired', 'unadmitted', 'unadmonished', 'unadopted', 'unadored', 'unadorned', 'unadulterated', 'unadvanced', 'unadvantaged', 'unadventured', 'unadvertised', 'unadvised', 'unadvocated', 'unaerated', 'unafeared', 'unaffected', 'unaffectioned', 'unaffianced', 'unaffied', 'unaffiliated', 'unaffirmed', 'unaffixed', 'unafflicted', 'unafforded', 'unaffranchised', 'unaffrighted', 'unaffronted', 'unaged', 'unaggravated', 'unaggregated', 'unagitated', 'unagreed', 'unaided', 'unaimed', 'unaired', 'unaisled', 'unalarmed', 'unalcoholized', 'unalienated', 'unaligned', 'unallayed', 'unalleged', 'unalleviated', 'unallied', 'unallotted', 'unallowed', 'unalloyed', 'unallured', 'unalmsed', 'unalphabeted', 'unaltered', 'unalternated', 'unamalgamated', 'unamassed', 'unamazed', 'unamended', 'unamerced', 'unamortized', 'unamplified', 'unamputated', 'unamused', 'unanalyzed', 'unanatomized', 'unancestored', 'unancestried', 'unanchored', 'unanchylosed', 'unaneled', 'unanimalized', 'unanimated', 'unannealed', 'unannexed', 'unannihilated', 'unannotated', 'unannounced', 'unannoyed', 'unannulled', 'unanointed', 'unanswered', 'unantagonized', 'unanticipated', 'unantiquated', 'unapostatized', 'unapostrophized', 'unappalled', 'unappareled', 'unappealed', 'unappeased', 'unappendaged', 'unapperceived', 'unapplauded', 'unapplianced', 'unapplied', 'unappointed', 'unapportioned', 'unappraised', 'unappreciated', 'unapprehended', 'unapprenticed', 'unapprised', 'unapproached', 'unappropriated', 'unapproved', 'unaproned', 'unarbitrated', 'unarched', 'unargued', 'unarmed', 'unarmored', 'unaromatized', 'unaroused', 'unarraigned', 'unarranged', 'unarrayed', 'unarrested', 'unarrived', 'unarted', 'unarticled', 'unarticulated', 'unascended', 'unascertained', 'unashamed', 'unasked', 'unaspersed', 'unasphalted', 'unaspirated', 'unassailed', 'unassassinated', 'unassaulted', 'unassayed', 'unassembled', 'unassented', 'unasserted', 'unassessed', 'unassibilated', 'unassigned', 'unassimilated', 'unassisted', 'unassociated', 'unassoiled', 'unassorted', 'unassuaged', 'unassumed', 'unassured', 'unastonished', 'unatoned', 'unattached', 'unattacked', 'unattained', 'unattainted', 'unattempered', 'unattempted', 'unattended', 'unattenuated', 'unattested', 'unattired', 'unattracted', 'unattributed', 'unattuned', 'unauctioned', 'unaudienced', 'unaudited', 'unaugmented', 'unauthenticated', 'unauthoritied', 'unauthorized', 'unavailed', 'unavenged', 'unavenued', 'unaveraged', 'unaverred', 'unaverted', 'unavoided', 'unavouched', 'unavowed', 'unawaked', 'unawakened', 'unawarded', 'unawared', 'unawed', 'unawned', 'unaxled', 'unazotized', 'unbackboarded', 'unbacked', 'unbadged', 'unbaffled', 'unbagged', 'unbailed', 'unbaited', 'unbaized', 'unbaked', 'unbalanced', 'unbalconied', 'unbalked', 'unballasted', 'unballoted', 'unbandaged', 'unbanded', 'unbanished', 'unbanked', 'unbannered', 'unbaptized', 'unbarbed', 'unbarbered', 'unbargained', 'unbarred', 'unbarreled', 'unbarricaded', 'unbarricadoed', 'unbased', 'unbastardized', 'unbasted', 'unbastilled', 'unbastinadoed', 'unbated', 'unbathed', 'unbatted', 'unbattered', 'unbeached', 'unbeaconed', 'unbeaded', 'unbearded', 'unbeaued', 'unbeautified', 'unbeavered', 'unbeclogged', 'unbeclouded', 'unbed', 'unbedabbled', 'unbedaggled', 'unbedashed', 'unbedaubed', 'unbedded', 'unbedecked', 'unbedewed', 'unbedimmed', 'unbedinned', 'unbedizened', 'unbedraggled', 'unbefriended', 'unbefringed', 'unbegged', 'unbegirded', 'unbegreased', 'unbegrimed', 'unbegrudged', 'unbeguiled', 'unbeheaded', 'unbejuggled', 'unbelied', 'unbelieved', 'unbeloved', 'unbemoaned', 'unbemourned', 'unbended', 'unbeneficed', 'unbenefited', 'unbenetted', 'unbenighted', 'unbenumbed', 'unbequeathed', 'unbereaved', 'unberouged', 'unbesieged', 'unbesmeared', 'unbesmirched', 'unbesmutted', 'unbesprinkled', 'unbestarred', 'unbestowed', 'unbeteared', 'unbetrayed', 'unbetrothed', 'unbettered', 'unbeveled', 'unbewailed', 'unbewildered', 'unbewilled', 'unbewitched', 'unbewrayed', 'unbiased', 'unbickered', 'unbigged', 'unbigoted', 'unbilled', 'unbilleted', 'unbirdlimed', 'unbitted', 'unblacked', 'unblackened', 'unblamed', 'unblanched', 'unblanketed', 'unblasphemed', 'unblasted', 'unblazoned', 'unbleached', 'unbled', 'unblemished', 'unblenched', 'unblended', 'unblessed', 'unblighted', 'unblistered', 'unblockaded', 'unblocked', 'unblooded', 'unbloodied', 'unbloomed', 'unblossomed', 'unblotted', 'unbloused', 'unblued', 'unbluffed', 'unblundered', 'unblunted', 'unblurred', 'unboarded', 'unboasted', 'unbodied', 'unbodkined', 'unboiled', 'unbolled', 'unbolstered', 'unbolted', 'unbonded', 'unboned', 'unbonneted', 'unbooked', 'unbooklearned', 'unbooted', 'unboraxed', 'unbordered', 'unbored', 'unborrowed', 'unbossed', 'unbothered', 'unbottomed', 'unbounded', 'unbowdlerized', 'unbowed', 'unboweled', 'unbowered', 'unbowled', 'unboxed', 'unbraced', 'unbraceleted', 'unbragged', 'unbraided', 'unbrailed', 'unbrained', 'unbranched', 'unbranded', 'unbrandied', 'unbraved', 'unbreached', 'unbreaded', 'unbreakfasted', 'unbreathed', 'unbred', 'unbreeched', 'unbrewed', 'unbribed', 'unbridged', 'unbridled', 'unbriefed', 'unbrightened', 'unbrined', 'unbroached', 'unbroadcasted', 'unbroidered', 'unbroiled', 'unbronzed', 'unbrooded', 'unbrothered', 'unbrowned', 'unbruised', 'unbrushed', 'unbrutalized', 'unbuckramed', 'unbudded', 'unbudged', 'unbudgeted', 'unbuffed', 'unbuffered', 'unbuffeted', 'unbuilded', 'unbulled', 'unbulletined', 'unbumped', 'unbunched', 'unbundled', 'unbuoyed', 'unburdened', 'unburgessed', 'unburied', 'unburlesqued', 'unburned', 'unburnished', 'unburrowed', 'unbusied', 'unbuskined', 'unbutchered', 'unbuttered', 'unbuttoned', 'unbuttressed', 'uncabined', 'uncabled', 'uncadenced', 'uncaged', 'uncalcified', 'uncalcined', 'uncalculated', 'uncalendered', 'uncalked', 'uncalled', 'uncalmed', 'uncalumniated', 'uncambered', 'uncamerated', 'uncamouflaged', 'uncanceled', 'uncancelled', 'uncandied', 'uncaned', 'uncankered', 'uncanned', 'uncanonized', 'uncanopied', 'uncantoned', 'uncantonized', 'uncanvassed', 'uncaparisoned', 'uncapitalized', 'uncapped', 'uncapsized', 'uncaptained', 'uncaptioned', 'uncaptivated', 'uncaptived', 'uncaptured', 'uncarbonated', 'uncarboned', 'uncarbureted', 'uncarded', 'uncaressed', 'uncargoed', 'uncaricatured', 'uncaroled', 'uncarpentered', 'uncarpeted', 'uncarried', 'uncarted', 'uncartooned', 'uncarved', 'uncased', 'uncasemated', 'uncasked', 'uncasketed', 'uncastigated', 'uncastled', 'uncastrated', 'uncatalogued', 'uncatechised', 'uncatechized', 'uncategorized', 'uncathedraled', 'uncaused', 'uncauterized', 'unceased', 'unceded', 'unceiled', 'unceilinged', 'uncelebrated', 'uncelestialized', 'uncemented', 'uncensored', 'uncensured', 'uncentered', 'uncentred', 'uncereclothed', 'unceremented', 'uncertificated', 'uncertified', 'unchafed', 'unchained', 'unchaired', 'unchalked', 'unchallenged', 'unchambered', 'unchamfered', 'unchampioned', 'unchanged', 'unchanneled', 'unchannelled', 'unchanted', 'unchaperoned', 'unchapleted', 'unchaptered', 'uncharactered', 'uncharacterized', 'uncharged', 'uncharmed', 'uncharred', 'uncharted', 'unchartered', 'unchased', 'unchastened', 'unchastised', 'unchatteled', 'unchauffeured', 'unchawed', 'uncheated', 'unchecked', 'uncheckered', 'uncheered', 'uncherished', 'unchested', 'unchevroned', 'unchewed', 'unchided', 'unchilled', 'unchinked', 'unchipped', 'unchiseled', 'unchiselled', 'unchloridized', 'unchoked', 'unchopped', 'unchorded', 'unchristened', 'unchristianized', 'unchronicled', 'unchurched', 'uncicatrized', 'unciliated', 'uncinated', 'uncinctured', 'uncircularized', 'uncirculated', 'uncircumcised', 'uncircumscribed', 'uncircumstanced', 'uncited', 'uncitied', 'uncivilized', 'unclaimed', 'unclamped', 'unclarified', 'unclasped', 'unclassed', 'unclassified', 'unclawed', 'unclayed', 'uncleaned', 'uncleansed', 'uncleared', 'uncliented', 'unclimaxed', 'unclimbed', 'unclipped', 'uncloaked', 'unclogged', 'uncloistered', 'unclosed', 'uncloseted', 'unclothed', 'unclotted', 'unclouded', 'uncloyed', 'unclustered', 'unclutched', 'uncluttered', 'uncoached', 'uncoacted', 'uncoagulated', 'uncoated', 'uncoaxed', 'uncocked', 'uncocted', 'uncodded', 'uncoddled', 'uncoded', 'uncodified', 'uncoerced', 'uncoffined', 'uncogged', 'uncognized', 'uncoifed', 'uncoiled', 'uncoined', 'uncoked', 'uncollapsed', 'uncollared', 'uncollated', 'uncollected', 'uncolleged', 'uncolonized', 'uncolored', 'uncoloured', 'uncombated', 'uncombed', 'uncombined', 'uncomforted', 'uncommanded', 'uncommemorated', 'uncommenced', 'uncommended', 'uncommented', 'uncommingled', 'uncomminuted', 'uncommiserated', 'uncommissioned', 'uncommitted', 'uncommixed', 'uncommunicated', 'uncommuted', 'uncompacted', 'uncompanied', 'uncompanioned', 'uncompared', 'uncompassed', 'uncompassionated', 'uncompassioned', 'uncompelled', 'uncompensated', 'uncompiled', 'uncomplained', 'uncompleted', 'uncomplicated', 'uncomplimented', 'uncomposed', 'uncompounded', 'uncomprehended', 'uncompressed', 'uncomprised', 'uncompromised', 'uncomputed', 'uncomraded', 'unconcatenated', 'unconcealed', 'unconceded', 'unconceited', 'unconceived', 'unconcerned', 'unconcerted', 'unconciliated', 'unconcluded', 'unconcocted', 'unconcreted', 'uncondemned', 'uncondensed', 'unconditionated', 'unconditioned', 'uncondoled', 'unconducted', 'unconfected', 'unconfederated', 'unconferred', 'unconfessed', 'unconfided', 'unconfined', 'unconfirmed', 'unconfiscated', 'unconformed', 'unconfounded', 'unconfronted', 'unconfused', 'unconfuted', 'uncongealed', 'uncongested', 'unconglobated', 'unconglomerated', 'unconglutinated', 'uncongratulated', 'uncongregated', 'unconjectured', 'unconjoined', 'unconjugated', 'unconjured', 'unconnected', 'unconned', 'unconnived', 'unconquered', 'unconscienced', 'unconsecrated', 'unconsented', 'unconserved', 'unconsidered', 'unconsigned', 'unconsociated', 'unconsoled', 'unconsolidated', 'unconspired', 'unconstellated', 'unconstipated', 'unconstituted', 'unconstrained', 'unconstricted', 'unconstructed', 'unconstrued', 'unconsulted', 'unconsumed', 'unconsummated', 'uncontained', 'uncontaminated', 'uncontemned', 'uncontemplated', 'uncontended', 'uncontented', 'uncontested', 'uncontinented', 'uncontinued', 'uncontorted', 'uncontracted', 'uncontradicted', 'uncontrasted', 'uncontributed', 'uncontrived', 'uncontrolled', 'uncontroverted', 'unconvened', 'unconventioned', 'unconverted', 'unconveyed', 'unconvicted', 'unconvinced', 'unconvoluted', 'unconvoyed', 'unconvulsed', 'uncooked', 'uncooled', 'uncooped', 'uncoopered', 'uncopied', 'uncopyrighted', 'uncorded', 'uncored', 'uncorked', 'uncorned', 'uncoronated', 'uncoroneted', 'uncorrected', 'uncorrelated', 'uncorroborated', 'uncorroded', 'uncorrugated', 'uncorrupted', 'uncorseted', 'uncosseted', 'uncostumed', 'uncottoned', 'uncouched', 'uncounseled', 'uncounselled', 'uncounted', 'uncountenanced', 'uncounteracted', 'uncounterbalanced', 'uncounterfeited', 'uncountermanded', 'uncountervailed', 'uncountrified', 'uncoupled', 'uncoursed', 'uncourted', 'uncovenanted', 'uncovered', 'uncoveted', 'uncowed', 'uncracked', 'uncradled', 'uncramped', 'uncranked', 'uncrannied', 'uncrated', 'uncravatted', 'uncrazed', 'uncreased', 'uncreated', 'uncredentialed', 'uncredentialled', 'uncredited', 'uncreosoted', 'uncrested', 'uncrevassed', 'uncried', 'uncrinkled', 'uncrippled', 'uncriticised', 'uncriticized', 'uncrooked', 'uncropped', 'uncrossed', 'uncrossexamined', 'uncrowded', 'uncrowned', 'uncrucified', 'uncrudded', 'uncrumbled', 'uncrushed', 'uncrusted', 'uncrystaled', 'uncrystalled', 'uncrystallized', 'uncubbed', 'uncuckolded', 'uncudgelled', 'uncuffed', 'unculled', 'uncultivated', 'uncultured', 'uncumbered', 'uncupped', 'uncurbed', 'uncurdled', 'uncured', 'uncurled', 'uncurricularized', 'uncurried', 'uncursed', 'uncurtailed', 'uncurtained', 'uncushioned', 'uncusped', 'uncustomed', 'undabbled', 'undaggled', 'undamaged', 'undamasked', 'undammed', 'undamped', 'undandled', 'undangered', 'undared', 'undarkened', 'undarned', 'undashed', 'undated', 'undaubed', 'undaunted', 'undawned', 'undazed', 'undazzled', 'undeadened', 'undebarred', 'undebased', 'undebated', 'undebauched', 'undebilitated', 'undecayed', 'undeceased', 'undeceived', 'undecided', 'undeciphered', 'undecked', 'undeclaimed', 'undeclared', 'undeclined', 'undecocted', 'undecomposed', 'undecompounded', 'undecorated', 'undecorticated', 'undecoyed', 'undecreased', 'undecreed', 'undecried', 'undedicated', 'undeducted', 'undeeded', 'undeemed', 'undefaced', 'undefalcated', 'undefamed', 'undefaulted', 'undefeated', 'undefecated', 'undefended', 'undefensed', 'undeferred', 'undefied', 'undefiled', 'undefined', 'undeflected', 'undeflowered', 'undeformed', 'undefrauded', 'undefrayed', 'undegenerated', 'undegraded', 'undeified', 'undejected', 'undelated', 'undelayed', 'undelegated', 'undeleted', 'undeliberated', 'undelighted', 'undelimited', 'undelineated', 'undelivered', 'undeluded', 'undeluged', 'undelved', 'undemanded', 'undemised', 'undemolished', 'undemonstrated', 'undenied', 'undenizened', 'undenominated', 'undenoted', 'undenounced', 'undenuded', 'undeparted', 'undephlegmated', 'undepicted', 'undepleted', 'undeplored', 'undeported', 'undeposed', 'undeposited', 'undepraved', 'undeprecated', 'undepreciated', 'undepressed', 'undeprived', 'undepurated', 'undeputed', 'underaccommodated', 'underacted', 'underanged', 'underbed', 'underbitted', 'underboated', 'underbowed', 'underbraced', 'underbred', 'underburned', 'undercapitaled', 'undercarved', 'undercharged', 'underchurched', 'underclothed', 'undercoated', 'undercolored', 'undercompounded', 'underconcerned', 'underdressed', 'underdunged', 'undereducated', 'underexcited', 'underfed', 'underfeed', 'underfolded', 'underhanded', 'underhorsed', 'underided', 'underived', 'underjawed', 'underlanguaged', 'underlimbed', 'underlunged', 'undermanned', 'undermasted', 'undermatched', 'undermentioned', 'undermoated', 'undernoted', 'undernourished', 'underoccupied', 'underofficered', 'underpeopled', 'underpetticoated', 'underpitched', 'underprivileged', 'underproportioned', 'underpropped', 'underqualified', 'underrented', 'underrespected', 'underrigged', 'underripened', 'underrooted', 'undersailed', 'underseated', 'underseeded', 'undersighted', 'undersized', 'undersparred', 'underspecified', 'undertaxed', 'underteamed', 'undertided', 'undertimed', 'undertoned', 'undertrained', 'undervaulted', 'undervitalized', 'undervocabularied', 'underweighted', 'underwitted', 'underwooded', 'undescended', 'undescribed', 'undescried', 'undeserted', 'undeserved', 'undesignated', 'undesigned', 'undesired', 'undespaired', 'undespatched', 'undespised', 'undespoiled', 'undestined', 'undestroyed', 'undetached', 'undetailed', 'undetained', 'undetected', 'undeteriorated', 'undetermined', 'undeterred', 'undetested', 'undethroned', 'undeveloped', 'undeviated', 'undevised', 'undevoted', 'undevoured', 'undewed', 'undiademed', 'undiagnosed', 'undialed', 'undialyzed', 'undiamonded', 'undiapered', 'undictated', 'undieted', 'undifferenced', 'undifferentiated', 'undiffracted', 'undiffused', 'undigested', 'undigged', 'undighted', 'undigitated', 'undignified', 'undiked', 'undilapidated', 'undilated', 'undiluted', 'undimensioned', 'undiminished', 'undimmed', 'undimpled', 'undined', 'undinted', 'undiocesed', 'undiplomaed', 'undipped', 'undirected', 'undisabled', 'undisappointed', 'undisarmed', 'undisbanded', 'undisbarred', 'undisburdened', 'undisbursed', 'undiscarded', 'undiscerned', 'undischarged', 'undiscipled', 'undisciplined', 'undisclaimed', 'undisclosed', 'undiscolored', 'undiscomfited', 'undiscomposed', 'undisconcerted', 'undisconnected', 'undiscontinued', 'undiscounted', 'undiscouraged', 'undiscoursed', 'undiscovered', 'undiscredited', 'undiscriminated', 'undiscussed', 'undisdained', 'undiseased', 'undisestablished', 'undisfigured', 'undisfranchised', 'undisfulfilled', 'undisgorged', 'undisgraced', 'undisguised', 'undisgusted', 'undisheartened', 'undished', 'undisheveled', 'undishonored', 'undisillusioned', 'undisinfected', 'undisinherited', 'undisintegrated', 'undisinterested', 'undisjoined', 'undisjointed', 'undisliked', 'undislocated', 'undislodged', 'undismantled', 'undismayed', 'undismembered', 'undismissed', 'undismounted', 'undisobeyed', 'undisordered', 'undisorganized', 'undisowned', 'undisparaged', 'undispatched', 'undispelled', 'undispensed', 'undispersed', 'undisplaced', 'undisplanted', 'undisplayed', 'undispleased', 'undisposed', 'undisprivacied', 'undisproved', 'undisputed', 'undisqualified', 'undisquieted', 'undisrobed', 'undisrupted', 'undissected', 'undissembled', 'undisseminated', 'undissevered', 'undissimulated', 'undissipated', 'undissociated', 'undissolved', 'undistanced', 'undistasted', 'undistempered', 'undistended', 'undistilled', 'undistinguished', 'undistorted', 'undistracted', 'undistrained', 'undistressed', 'undistributed', 'undistrusted', 'undisturbed', 'unditched', 'undittoed', 'undiversified', 'undiverted', 'undivested', 'undivided', 'undivined', 'undivorced', 'undivulged', 'undizened', 'undizzied', 'undocked', 'undoctored', 'undoctrined', 'undocumented', 'undodged', 'undoffed', 'undolled', 'undomed', 'undomesticated', 'undomiciled', 'undominated', 'undominoed', 'undonated', 'undoomed', 'undoped', 'undosed', 'undotted', 'undoubled', 'undoubted', 'undouched', 'undoweled', 'undowered', 'undowned', 'undrafted', 'undragoned', 'undragooned', 'undrained', 'undramatized', 'undraped', 'undraperied', 'undreaded', 'undreamed', 'undredged', 'undrenched', 'undressed', 'undried', 'undrilled', 'undropped', 'undrowned', 'undrubbed', 'undrugged', 'undubbed', 'undulated', 'undulled', 'undumped', 'undunged', 'unduped', 'undusted', 'undwarfed', 'undyed', 'uneagled', 'unearned', 'unearthed', 'unebbed', 'unechoed', 'uneclipsed', 'unedged', 'unedified', 'unedited', 'uneducated', 'uneduced', 'uneffaced', 'uneffected', 'uneffectuated', 'uneffeminated', 'uneffigiated', 'uneffused', 'unejaculated', 'unejected', 'unelaborated', 'unelapsed', 'unelated', 'unelbowed', 'unelected', 'unelectrified', 'unelectrized', 'unelevated', 'unelicited', 'unelided', 'uneliminated', 'unelongated', 'uneloped', 'unelucidated', 'uneluded', 'unemaciated', 'unemancipated', 'unemasculated', 'unembalmed', 'unembanked', 'unembarrassed', 'unembased', 'unembattled', 'unembayed', 'unembellished', 'unembezzled', 'unembittered', 'unemblazoned', 'unembodied', 'unembossed', 'unembowelled', 'unembowered', 'unembraced', 'unembroidered', 'unembroiled', 'unemended', 'unemerged', 'unemitted', 'unemolumented', 'unemotioned', 'unempaneled', 'unemployed', 'unempoisoned', 'unempowered', 'unemptied', 'unemulsified', 'unenabled', 'unenacted', 'unenameled', 'unenamored', 'unencamped', 'unenchafed', 'unenchanted', 'unencircled', 'unenclosed', 'unencompassed', 'unencored', 'unencountered', 'unencouraged', 'unencroached', 'unencumbered', 'unencysted', 'unendamaged', 'unendangered', 'unendeared', 'unendeavored', 'unended', 'unendorsed', 'unendowed', 'unendued', 'unendured', 'unenergized', 'unenervated', 'unenfeebled', 'unenfiladed', 'unenforced', 'unenfranchised', 'unengaged', 'unengendered', 'unengineered', 'unengraved', 'unengrossed', 'unenhanced', 'unenjoined', 'unenjoyed', 'unenkindled', 'unenlarged', 'unenlightened', 'unenlisted', 'unenlivened', 'unennobled', 'unenounced', 'unenquired', 'unenraged', 'unenraptured', 'unenriched', 'unenrobed', 'unenrolled', 'unenshrined', 'unenslaved', 'unensnared', 'unensouled', 'unensured', 'unentailed', 'unentangled', 'unentered', 'unenterprised', 'unentertained', 'unenthralled', 'unenthroned', 'unenticed', 'unentitled', 'unentombed', 'unentranced', 'unentrapped', 'unentreated', 'unentrenched', 'unentwined', 'unenumerated', 'unenveloped', 'unenvenomed', 'unenvied', 'unenvironed', 'unepauleted', 'unepilogued', 'unepitaphed', 'unepitomized', 'unequaled', 'unequalized', 'unequated', 'unequiaxed', 'unequilibrated', 'unequipped', 'unequivalved', 'uneradicated', 'unerased', 'unerected', 'unermined', 'uneroded', 'unerupted', 'unescaladed', 'unescalloped', 'unescaped', 'unescheated', 'uneschewed', 'unescorted', 'unescutcheoned', 'unespied', 'unespoused', 'unessayed', 'unestablished', 'unesteemed', 'unestimated', 'unestopped', 'unestranged', 'unetched', 'uneternized', 'unethylated', 'uneulogized', 'unevacuated', 'unevaded', 'unevaluated', 'unevangelized', 'unevaporated', 'uneverted', 'unevicted', 'unevidenced', 'unevinced', 'unevirated', 'uneviscerated', 'unevoked', 'unevolved', 'unexacerbated', 'unexacted', 'unexaggerated', 'unexalted', 'unexamined', 'unexampled', 'unexasperated', 'unexcavated', 'unexceeded', 'unexcelled', 'unexcepted', 'unexcerpted', 'unexchanged', 'unexcised', 'unexcited', 'unexcluded', 'unexcogitated', 'unexcommunicated', 'unexcoriated', 'unexcorticated', 'unexcreted', 'unexculpated', 'unexcused', 'unexecrated', 'unexecuted', 'unexemplified', 'unexempted', 'unexercised', 'unexerted', 'unexhaled', 'unexhausted', 'unexhibited', 'unexhilarated', 'unexhorted', 'unexhumed', 'unexiled', 'unexonerated', 'unexorcised', 'unexpanded', 'unexpected', 'unexpectorated', 'unexpeditated', 'unexpedited', 'unexpelled', 'unexpended', 'unexperienced', 'unexperimented', 'unexpiated', 'unexpired', 'unexplained', 'unexplicated', 'unexploded', 'unexploited', 'unexplored', 'unexported', 'unexposed', 'unexpounded', 'unexpressed', 'unexpropriated', 'unexpunged', 'unexpurgated', 'unextended', 'unextenuated', 'unexterminated', 'unextinguished', 'unextirpated', 'unextolled', 'unextorted', 'unextracted', 'unextradited', 'unextravasated', 'unextricated', 'unextruded', 'unexuded', 'uneyed', 'unfabled', 'unfabricated', 'unfacaded', 'unfaced', 'unfaceted', 'unfacilitated', 'unfactored', 'unfaded', 'unfagged', 'unfagoted', 'unfailed', 'unfairminded', 'unfaked', 'unfallowed', 'unfalsified', 'unfamed', 'unfamiliarized', 'unfancied', 'unfanged', 'unfanned', 'unfarced', 'unfarewelled', 'unfarmed', 'unfarrowed', 'unfarsighted', 'unfasciated', 'unfascinated', 'unfashioned', 'unfastened', 'unfathered', 'unfathomed', 'unfatigued', 'unfatted', 'unfauceted', 'unfavored', 'unfeared', 'unfeasted', 'unfeathered', 'unfeatured', 'unfecundated', 'unfed', 'unfederated', 'unfeed', 'unfeigned', 'unfelicitated', 'unfelled', 'unfellied', 'unfellowed', 'unfellowshiped', 'unfelted', 'unfenced', 'unfendered', 'unfenestrated', 'unfeoffed', 'unfermented', 'unferreted', 'unferried', 'unfertilized', 'unfestered', 'unfestooned', 'unfetched', 'unfeted', 'unfettered', 'unfettled', 'unfeudalized', 'unfeued', 'unfevered', 'unfibbed', 'unfibered', 'unfielded', 'unfigured', 'unfilched', 'unfiled', 'unfilled', 'unfilleted', 'unfilmed', 'unfiltered', 'unfiltrated', 'unfined', 'unfinessed', 'unfingered', 'unfinished', 'unfired', 'unfirmamented', 'unfished', 'unfitted', 'unfixated', 'unfixed', 'unflagged', 'unflanged', 'unflanked', 'unflated', 'unflattened', 'unflattered', 'unflaunted', 'unflavored', 'unflawed', 'unflayed', 'unflecked', 'unfledged', 'unfleeced', 'unfleshed', 'unfletched', 'unflexed', 'unflitched', 'unflogged', 'unflooded', 'unfloored', 'unflounced', 'unfloured', 'unflourished', 'unflouted', 'unflowered', 'unfluked', 'unflunked', 'unflurried', 'unflushed', 'unflustered', 'unfluted', 'unfluttered', 'unfoaled', 'unfocused', 'unfoiled', 'unfoisted', 'unfolded', 'unfoliaged', 'unfoliated', 'unfollowed', 'unfomented', 'unfondled', 'unfooled', 'unfooted', 'unforaged', 'unforced', 'unforded', 'unforeboded', 'unforecasted', 'unforeordained', 'unforeshortened', 'unforestalled', 'unforested', 'unforewarned', 'unforfeited', 'unforged', 'unforked', 'unformalized', 'unformed', 'unformulated', 'unfortified', 'unforwarded', 'unfossilized', 'unfostered', 'unfouled', 'unfounded', 'unfoundered', 'unfountained', 'unfractured', 'unframed', 'unfranchised', 'unfranked', 'unfrayed', 'unfreckled', 'unfreed', 'unfreighted', 'unfrenchified', 'unfrenzied', 'unfrequented', 'unfrictioned', 'unfried', 'unfriended', 'unfrighted', 'unfrightened', 'unfrilled', 'unfringed', 'unfrizzled', 'unfrocked', 'unfronted', 'unfrosted', 'unfrounced', 'unfructed', 'unfructified', 'unfrustrated', 'unfuddled', 'unfueled', 'unfulfilled', 'unfulled', 'unfulminated', 'unfumbled', 'unfumed', 'unfumigated', 'unfunded', 'unfurbelowed', 'unfurbished', 'unfurnished', 'unfurnitured', 'unfurred', 'unfurrowed', 'unfused', 'unfussed', 'ungabled', 'ungaged', 'ungagged', 'ungained', 'ungalvanized', 'unganged', 'ungangrened', 'ungarbed', 'ungarbled', 'ungardened', 'ungargled', 'ungarlanded', 'ungarmented', 'ungarnered', 'ungarnished', 'ungarrisoned', 'ungartered', 'ungashed', 'ungassed', 'ungathered', 'ungauged', 'ungauntleted', 'ungazetted', 'ungeared', 'ungelatinized', 'ungelded', 'ungeminated', 'ungeneraled', 'ungeneralized', 'ungenerated', 'ungenitured', 'ungentled', 'ungerminated', 'ungifted', 'ungilded', 'ungingled', 'unginned', 'ungirded', 'ungirdled', 'ungirthed', 'unglaciated', 'ungladdened', 'unglassed', 'unglazed', 'ungleaned', 'unglimpsed', 'ungloomed', 'unglorified', 'unglosed', 'unglossaried', 'unglossed', 'ungloved', 'unglozed', 'unglued', 'unglutted', 'ungnarred', 'ungoaded', 'ungodmothered', 'ungored', 'ungorged', 'ungospelized', 'ungospelled', 'ungouged', 'ungoverned', 'ungowned', 'ungraced', 'ungradated', 'ungraded', 'ungraduated', 'ungrafted', 'ungrained', 'ungrammared', 'ungranted', 'ungranulated', 'ungraphitized', 'ungrappled', 'ungrasped', 'ungrassed', 'ungrated', 'ungratified', 'ungraved', 'ungraveled', 'ungrayed', 'ungrazed', 'ungreased', 'ungreened', 'ungreeted', 'ungrieved', 'ungrilled', 'ungrimed', 'ungrizzled', 'ungroined', 'ungroomed', 'ungrooved', 'ungrounded', 'ungrouped', 'ungrubbed', 'ungrudged', 'unguaranteed', 'unguarded', 'unguerdoned', 'unguessed', 'unguiculated', 'unguided', 'unguiled', 'unguillotined', 'ungulated', 'unguled', 'ungummed', 'ungutted', 'unguyed', 'unguzzled', 'ungyved', 'unhabited', 'unhabituated', 'unhacked', 'unhackled', 'unhackneyed', 'unhafted', 'unhaggled', 'unhailed', 'unhaired', 'unhallooed', 'unhallowed', 'unhaloed', 'unhalsed', 'unhalted', 'unhaltered', 'unhalved', 'unhammered', 'unhampered', 'unhandcuffed', 'unhandicapped', 'unhandled', 'unhandseled', 'unhanged', 'unharangued', 'unharassed', 'unharbored', 'unhardened', 'unharked', 'unharmed', 'unharmonized', 'unharnessed', 'unharped', 'unharried', 'unharrowed', 'unharvested', 'unhashed', 'unhasped', 'unhasted', 'unhastened', 'unhatched', 'unhatcheled', 'unhated', 'unhatted', 'unhauled', 'unhaunted', 'unhawked', 'unhayed', 'unhazarded', 'unhazed', 'unheaded', 'unhealed', 'unheaped', 'unhearsed', 'unheated', 'unheaved', 'unhectored', 'unhedged', 'unheed', 'unheeded', 'unheeled', 'unheelpieced', 'unhefted', 'unheightened', 'unheired', 'unhelmed', 'unhelmeted', 'unhelped', 'unhelved', 'unhemmed', 'unheralded', 'unherded', 'unhewed', 'unhidated', 'unhindered', 'unhinted', 'unhipped', 'unhired', 'unhissed', 'unhitched', 'unhoarded', 'unhoaxed', 'unhocked', 'unhoed', 'unhogged', 'unhoisted', 'unhollowed', 'unhoned', 'unhoneyed', 'unhonied', 'unhonored', 'unhonoured', 'unhooded', 'unhoodwinked', 'unhoofed', 'unhooked', 'unhooped', 'unhooted', 'unhoped', 'unhopped', 'unhoppled', 'unhorizoned', 'unhorned', 'unhosed', 'unhoused', 'unhouseled', 'unhugged', 'unhulled', 'unhumanized', 'unhumbled', 'unhumbugged', 'unhumiliated', 'unhumored', 'unhumoured', 'unhunted', 'unhurdled', 'unhurled', 'unhurried', 'unhurted', 'unhusbanded', 'unhushed', 'unhusked', 'unhustled', 'unhutched', 'unhuzzaed', 'unhydrolyzed', 'unhymned', 'unhyphenated', 'unhyphened', 'unhypothecated', 'uniauriculated', 'unicarinated', 'uniced', 'unicelled', 'unicolored', 'unicornuted', 'unideaed', 'unidealized', 'unidentated', 'unidentified', 'unidirected', 'unidolized', 'unifaced', 'unified', 'uniflowered', 'uniformed', 'unignited', 'unignored', 'unilabiated', 'unillumed', 'unilluminated', 'unillumined', 'unillusioned', 'unillustrated', 'unilobed', 'unimaged', 'unimagined', 'unimbanked', 'unimbellished', 'unimbezzled', 'unimbibed', 'unimbittered', 'unimbodied', 'unimboldened', 'unimbordered', 'unimbosomed', 'unimbowed', 'unimbowered', 'unimbroiled', 'unimbrowned', 'unimbrued', 'unimbued', 'unimitated', 'unimmerged', 'unimmersed', 'unimmolated', 'unimmortalized', 'unimmured', 'unimpaired', 'unimparted', 'unimpassioned', 'unimpawned', 'unimpeached', 'unimpearled', 'unimped', 'unimpeded', 'unimpelled', 'unimplanted', 'unimplicated', 'unimplied', 'unimplored', 'unimpoisoned', 'unimported', 'unimportuned', 'unimposed', 'unimpounded', 'unimpoverished', 'unimpowered', 'unimprecated', 'unimpregnated', 'unimpressed', 'unimprinted', 'unimprisoned', 'unimpropriated', 'unimproved', 'unimprovised', 'unimpugned', 'unimpurpled', 'unimputed', 'uninaugurated', 'unincantoned', 'unincarcerated', 'unincarnated', 'unincensed', 'unincised', 'unincited', 'uninclined', 'uninclosed', 'unincluded', 'uninconvenienced', 'unincorporated', 'unincreased', 'unincubated', 'uninculcated', 'unincumbered', 'unindebted', 'unindemnified', 'unindented', 'unindentured', 'unindexed', 'unindicated', 'unindicted', 'unindividualized', 'unindividuated', 'unindorsed', 'uninduced', 'unindulged', 'unindurated', 'unindustrialized', 'uninebriated', 'uninerved', 'uninfatuated', 'uninfected', 'uninferred', 'uninfested', 'uninfiltrated', 'uninfixed', 'uninflamed', 'uninflated', 'uninflected', 'uninflicted', 'uninfluenced', 'uninfolded', 'uninformed', 'uninfracted', 'uninfringed', 'uninfuriated', 'uninfused', 'uningested', 'uningrafted', 'uningrained', 'uninhabited', 'uninhaled', 'uninherited', 'uninhibited', 'uninhumed', 'uninitialed', 'uninitialled', 'uninitiated', 'uninjected', 'uninjured', 'uninked', 'uninoculated', 'uninquired', 'uninscribed', 'uninserted', 'uninshrined', 'uninsinuated', 'uninspected', 'uninspired', 'uninspirited', 'uninspissated', 'uninstalled', 'uninstanced', 'uninstated', 'uninstigated', 'uninstilled', 'uninstituted', 'uninstructed', 'uninsulated', 'uninsulted', 'uninsured', 'unintegrated', 'unintended', 'unintercalated', 'unintercepted', 'uninterdicted', 'uninterested', 'uninterjected', 'uninterlaced', 'uninterlarded', 'uninterleaved', 'uninterlined', 'uninterlinked', 'uninterlocked', 'unintermingled', 'unintermitted', 'unintermixed', 'uninterpleaded', 'uninterpolated', 'uninterposed', 'uninterpreted', 'uninterred', 'uninterrogated', 'uninterrupted', 'unintersected', 'uninterspersed', 'uninterviewed', 'unintervolved', 'uninthroned', 'unintimated', 'unintimidated', 'unintitled', 'unintombed', 'unintoned', 'unintoxicated', 'unintrenched', 'unintrigued', 'unintroduced', 'unintromitted', 'unintruded', 'unintrusted', 'unintwined', 'uninucleated', 'uninundated', 'uninured', 'uninurned', 'uninvaded', 'uninvaginated', 'uninvalidated', 'uninveigled', 'uninvented', 'uninverted', 'uninvested', 'uninvestigated', 'uninvigorated', 'uninvited', 'uninvoiced', 'uninvoked', 'uninvolved', 'uninweaved', 'uninwrapped', 'uninwreathed', 'unioned', 'uniped', 'uniradiated', 'unironed', 'unirradiated', 'unirrigated', 'unirritated', 'unisexed', 'unisolated', 'unissued', 'unitalicized', 'united', 'unitemized', 'univied', 'univocalized', 'unjacketed', 'unjaded', 'unjagged', 'unjailed', 'unjapanned', 'unjarred', 'unjaundiced', 'unjealoused', 'unjellied', 'unjesuited', 'unjeweled', 'unjewelled', 'unjilted', 'unjogged', 'unjointed', 'unjointured', 'unjolted', 'unjostled', 'unjournalized', 'unjoyed', 'unjudged', 'unjuggled', 'unjuiced', 'unjumbled', 'unjustified', 'unjustled', 'unkamed', 'unked', 'unkeeled', 'unkembed', 'unkenned', 'unkenneled', 'unkerchiefed', 'unkeyed', 'unkicked', 'unkilled', 'unkilned', 'unkindhearted', 'unkindled', 'unkindred', 'unkinged', 'unkissed', 'unkneaded', 'unknelled', 'unknighted', 'unknitted', 'unknocked', 'unknotted', 'unkodaked', 'unkoshered', 'unlabeled', 'unlabored', 'unlaced', 'unlacerated', 'unlackeyed', 'unlacquered', 'unladled', 'unladyfied', 'unlamed', 'unlamented', 'unlampooned', 'unlanced', 'unlanded', 'unlandmarked', 'unlanguaged', 'unlanterned', 'unlapped', 'unlapsed', 'unlarded', 'unlashed', 'unlassoed', 'unlathed', 'unlathered', 'unlatinized', 'unlatticed', 'unlauded', 'unlaunched', 'unlaundered', 'unlaureled', 'unlaved', 'unlavished', 'unlawed', 'unlawlearned', 'unlawyered', 'unleached', 'unleaded', 'unleafed', 'unleagued', 'unleared', 'unlearned', 'unleased', 'unleashed', 'unleathered', 'unleaved', 'unleavened', 'unlectured', 'unled', 'unlegacied', 'unlegalized', 'unleisured', 'unlensed', 'unlessened', 'unlessoned', 'unletted', 'unlettered', 'unleveled', 'unlevied', 'unlevigated', 'unlibeled', 'unliberalized', 'unliberated', 'unlicensed', 'unlicentiated', 'unlichened', 'unlicked', 'unlidded', 'unlifted', 'unligatured', 'unlighted', 'unlightened', 'unlignified', 'unliked', 'unlimed', 'unlimited', 'unlimned', 'unlined', 'unlinked', 'unliquefied', 'unliquidated', 'unliquored', 'unlisted', 'unlistened', 'unlitigated', 'unlittered', 'unliveried', 'unloaded', 'unloaned', 'unloathed', 'unlobed', 'unlocalized', 'unlocated', 'unlocked', 'unlodged', 'unlogged', 'unlooked', 'unlooped', 'unlooted', 'unlopped', 'unlorded', 'unlotted', 'unloved', 'unlowered', 'unlubricated', 'unluffed', 'unlugged', 'unlumped', 'unlured', 'unluted', 'unluxated', 'unmacadamized', 'unmacerated', 'unmadded', 'unmaddened', 'unmagnetized', 'unmagnified', 'unmailed', 'unmaimed', 'unmaintained', 'unmaligned', 'unmalled', 'unmalted', 'unmammonized', 'unmanacled', 'unmanaged', 'unmancipated', 'unmandated', 'unmanducated', 'unmaned', 'unmaneged', 'unmangled', 'unmanicured', 'unmanifested', 'unmanipulated', 'unmanned', 'unmannered', 'unmanored', 'unmantled', 'unmanufactured', 'unmanumitted', 'unmanured', 'unmapped', 'unmarbled', 'unmarginated', 'unmarked', 'unmarketed', 'unmarled', 'unmarred', 'unmarried', 'unmarshaled', 'unmartyred', 'unmashed', 'unmasked', 'unmassacred', 'unmassed', 'unmastered', 'unmasticated', 'unmatched', 'unmated', 'unmatriculated', 'unmatted', 'unmatured', 'unmauled', 'unmeasured', 'unmeated', 'unmechanized', 'unmedaled', 'unmedalled', 'unmeddled', 'unmediated', 'unmediatized', 'unmedicated', 'unmeditated', 'unmedullated', 'unmeliorated', 'unmellowed', 'unmelodized', 'unmelted', 'unmemoired', 'unmemorialized', 'unmemoried', 'unmemorized', 'unmenaced', 'unmended', 'unmentioned', 'unmercerized', 'unmerged', 'unmerited', 'unmesmerized', 'unmetaled', 'unmetalized', 'unmetalled', 'unmetamorphosed', 'unmeted', 'unmetered', 'unmethodized', 'unmethylated', 'unmewed', 'unmidwifed', 'unmildewed', 'unmilitarized', 'unmilked', 'unmilled', 'unmillinered', 'unmilted', 'unmimicked', 'unminced', 'unminded', 'unmined', 'unmineralized', 'unmingled', 'unminimized', 'unminished', 'unministered', 'unminted', 'unminuted', 'unmiracled', 'unmired', 'unmirrored', 'unmisguided', 'unmisled', 'unmissed', 'unmissionized', 'unmistressed', 'unmistrusted', 'unmitigated', 'unmittened', 'unmixed', 'unmoaned', 'unmoated', 'unmobbed', 'unmobilized', 'unmocked', 'unmodeled', 'unmodelled', 'unmodernized', 'unmodified', 'unmodulated', 'unmoiled', 'unmolded', 'unmoldered', 'unmolested', 'unmollified', 'unmoneyed', 'unmonitored', 'unmonopolized', 'unmonumented', 'unmoored', 'unmooted', 'unmopped', 'unmoralized', 'unmordanted', 'unmortared', 'unmortgaged', 'unmortified', 'unmortised', 'unmossed', 'unmothered', 'unmotivated', 'unmotived', 'unmotorized', 'unmottled', 'unmounded', 'unmounted', 'unmourned', 'unmouthed', 'unmouthpieced', 'unmoved', 'unmowed', 'unmucilaged', 'unmudded', 'unmuddied', 'unmuddled', 'unmuffled', 'unmulcted', 'unmulled', 'unmullioned', 'unmultiplied', 'unmummied', 'unmunched', 'unmundified', 'unmunicipalized', 'unmunitioned', 'unmurmured', 'unmuscled', 'unmusked', 'unmussed', 'unmusted', 'unmustered', 'unmutated', 'unmuted', 'unmutilated', 'unmuttered', 'unmutualized', 'unmuzzled', 'unmyelinated', 'unmystified', 'unnabbed', 'unnagged', 'unnailed', 'unnaked', 'unnamed', 'unnapkined', 'unnapped', 'unnarrated', 'unnationalized', 'unnaturalized', 'unnavigated', 'unneaped', 'unneared', 'unnecessitated', 'unneeded', 'unnegated', 'unneglected', 'unnegotiated', 'unneighbored', 'unnerved', 'unnestled', 'unnetted', 'unnettled', 'unneutralized', 'unnibbed', 'unnibbied', 'unniched', 'unnicked', 'unnickeled', 'unnickelled', 'unnicknamed', 'unnimbed', 'unnipped', 'unnitrogenized', 'unnobilitated', 'unnoised', 'unnominated', 'unnoosed', 'unnosed', 'unnotched', 'unnoted', 'unnoticed', 'unnotified', 'unnourished', 'unnucleated', 'unnullified', 'unnumbered', 'unnurtured', 'unnuzzled', 'unoared', 'unobeyed', 'unobjected', 'unobligated', 'unobliged', 'unobliterated', 'unobscured', 'unobserved', 'unobsessed', 'unobstructed', 'unobtained', 'unobtruded', 'unobtunded', 'unobumbrated', 'unobverted', 'unobviated', 'unoccasioned', 'unoccluded', 'unoccupied', 'unoffended', 'unoffered', 'unofficed', 'unofficered', 'unogled', 'unoiled', 'unomened', 'unomitted', 'unoped', 'unopened', 'unoperated', 'unoperculated', 'unopined', 'unopinionated', 'unoppignorated', 'unopposed', 'unoppressed', 'unoppugned', 'unorbed', 'unorchestrated', 'unordained', 'unordered', 'unordnanced', 'unorganized', 'unoriented', 'unoriginated', 'unornamented', 'unorphaned', 'unosculated', 'unossified', 'unoutlawed', 'unoutraged', 'unoverclouded', 'unoverhauled', 'unoverleaped', 'unoverlooked', 'unoverpowered', 'unoverruled', 'unovervalued', 'unoverwhelmed', 'unowed', 'unowned', 'unoxidated', 'unoxidized', 'unoxygenated', 'unoxygenized', 'unpaced', 'unpacified', 'unpacked', 'unpadded', 'unpadlocked', 'unpaged', 'unpained', 'unpainted', 'unpaired', 'unpaled', 'unpalisaded', 'unpalisadoed', 'unpalled', 'unpalliated', 'unpalped', 'unpalsied', 'unpampered', 'unpanegyrized', 'unpaneled', 'unpanelled', 'unpanged', 'unpanniered', 'unpanoplied', 'unpapered', 'unparaded', 'unparagoned', 'unparagonized', 'unparagraphed', 'unparalleled', 'unparalyzed', 'unparaphrased', 'unparceled', 'unparcelled', 'unparched', 'unpardoned', 'unpared', 'unparented', 'unpargeted', 'unparked', 'unparliamented', 'unparodied', 'unparried', 'unparroted', 'unparsed', 'unparted', 'unparticipated', 'unparticularized', 'unpartitioned', 'unpartnered', 'unpassed', 'unpassioned', 'unpasted', 'unpasteurized', 'unpastured', 'unpatched', 'unpatented', 'unpathed', 'unpathwayed', 'unpatrolled', 'unpatronized', 'unpatted', 'unpatterned', 'unpaunched', 'unpauperized', 'unpaved', 'unpavilioned', 'unpawed', 'unpawned', 'unpealed', 'unpearled', 'unpebbled', 'unpecked', 'unpeddled', 'unpedigreed', 'unpeeled', 'unpeered', 'unpelted', 'unpenalized', 'unpenanced', 'unpenciled', 'unpencilled', 'unpenetrated', 'unpenned', 'unpennied', 'unpennoned', 'unpensioned', 'unpeopled', 'unperceived', 'unperched', 'unpercolated', 'unpercussed', 'unperfected', 'unperflated', 'unperforated', 'unperformed', 'unperfumed', 'unperiphrased', 'unperished', 'unperjured', 'unpermeated', 'unpermitted', 'unpermixed', 'unperpetrated', 'unperpetuated', 'unperplexed', 'unpersecuted', 'unpersonified', 'unpersuaded', 'unperturbed', 'unperuked', 'unperused', 'unpervaded', 'unperverted', 'unpestered', 'unpetitioned', 'unpetrified', 'unpetticoated', 'unphased', 'unphilosophized', 'unphonographed', 'unphosphatized', 'unphotographed', 'unphrased', 'unphysicked', 'unpicked', 'unpicketed', 'unpickled', 'unpictured', 'unpieced', 'unpierced', 'unpigmented', 'unpiled', 'unpilfered', 'unpillaged', 'unpillared', 'unpilled', 'unpilloried', 'unpillowed', 'unpiloted', 'unpimpled', 'unpinched', 'unpinioned', 'unpinked', 'unpinned', 'unpiped', 'unpiqued', 'unpirated', 'unpitched', 'unpitied', 'unpitted', 'unplacated', 'unplaced', 'unplagiarized', 'unplagued', 'unplained', 'unplaited', 'unplaned', 'unplanished', 'unplanked', 'unplanned', 'unplanted', 'unplashed', 'unplastered', 'unplated', 'unplatted', 'unplayed', 'unpleached', 'unpleaded', 'unpleased', 'unpleated', 'unpledged', 'unplenished', 'unplied', 'unplighted', 'unplotted', 'unploughed', 'unplowed', 'unplucked', 'unplugged', 'unplumbed', 'unplumed', 'unplummeted', 'unplundered', 'unplunged', 'unpoached', 'unpocketed', 'unpodded', 'unpoeticized', 'unpoetized', 'unpointed', 'unpoised', 'unpoisoned', 'unpolarized', 'unpoled', 'unpoliced', 'unpolicied', 'unpolished', 'unpollarded', 'unpolled', 'unpolluted', 'unpolymerized', 'unpondered', 'unpooled', 'unpopulated', 'unportended', 'unportioned', 'unportmanteaued', 'unportraited', 'unportrayed', 'unposed', 'unpossessed', 'unposted', 'unpostered', 'unpostmarked', 'unpostponed', 'unpostulated', 'unpotted', 'unpouched', 'unpoulticed', 'unpounced', 'unpounded', 'unpoured', 'unpowdered', 'unpracticed', 'unpraised', 'unpranked', 'unprayed', 'unpreached', 'unprecautioned', 'unpreceded', 'unprecedented', 'unprecipitated', 'unprecluded', 'unpredestinated', 'unpredestined', 'unpredicated', 'unpredicted', 'unpredisposed', 'unpreened', 'unprefaced', 'unpreferred', 'unprefigured', 'unprefined', 'unprefixed', 'unprejudged', 'unprejudicated', 'unprejudiced', 'unpreluded', 'unpremeditated', 'unpremonished', 'unpremonstrated', 'unprenominated', 'unprenticed', 'unpreoccupied', 'unpreordained', 'unprepared', 'unpreponderated', 'unpresaged', 'unpresbyterated', 'unprescinded', 'unprescribed', 'unpresented', 'unpreserved', 'unpressed', 'unpresumed', 'unpresupposed', 'unpretended', 'unpretermitted', 'unprevented', 'unpriced', 'unpricked', 'unprickled', 'unprimed', 'unprimmed', 'unprincipled', 'unprinted', 'unprisoned', 'unprivileged', 'unprized', 'unprobated', 'unprobed', 'unprocessed', 'unproclaimed', 'unprocrastinated', 'unprocreated', 'unproctored', 'unprocured', 'unproded', 'unproduced', 'unprofaned', 'unprofessed', 'unproffered', 'unprofited', 'unprognosticated', 'unprogressed', 'unprohibited', 'unprojected', 'unprologued', 'unprolonged', 'unpromised', 'unpromoted', 'unprompted', 'unpromulgated', 'unpronounced', 'unpropagated', 'unpropelled', 'unpropertied', 'unprophesied', 'unpropitiated', 'unproportioned', 'unproposed', 'unpropounded', 'unpropped', 'unprorogued', 'unproscribed', 'unprosecuted', 'unproselyted', 'unprospected', 'unprospered', 'unprostituted', 'unprostrated', 'unprotected', 'unprotested', 'unprotruded', 'unproved', 'unprovided', 'unprovidenced', 'unprovisioned', 'unprovoked', 'unpruned', 'unpublished', 'unpuckered', 'unpuddled', 'unpuffed', 'unpulled', 'unpulleyed', 'unpulped', 'unpulverized', 'unpulvinated', 'unpumicated', 'unpummeled', 'unpummelled', 'unpumped', 'unpunched', 'unpunctated', 'unpunctuated', 'unpunished', 'unpurchased', 'unpurged', 'unpurified', 'unpurled', 'unpurloined', 'unpurpled', 'unpurported', 'unpurposed', 'unpursed', 'unpursued', 'unpurveyed', 'unpushed', 'unputrefied', 'unputtied', 'unquadded', 'unquaffed', 'unquailed', 'unqualified', 'unqualitied', 'unquantified', 'unquarantined', 'unquarreled', 'unquarrelled', 'unquarried', 'unquartered', 'unquashed', 'unquayed', 'unqueened', 'unquelled', 'unquenched', 'unqueried', 'unquested', 'unquestioned', 'unquibbled', 'unquickened', 'unquicksilvered', 'unquieted', 'unquilleted', 'unquilted', 'unquitted', 'unquivered', 'unquizzed', 'unquoted', 'unrabbeted', 'unraced', 'unracked', 'unradiated', 'unraffled', 'unraftered', 'unraided', 'unrailed', 'unrailroaded', 'unrailwayed', 'unraised', 'unraked', 'unrallied', 'unramified', 'unrammed', 'unramped', 'unranched', 'unrancored', 'unranked', 'unransacked', 'unransomed', 'unraped', 'unraptured', 'unrarefied', 'unrasped', 'unrated', 'unratified', 'unrattled', 'unravaged', 'unraveled', 'unravelled', 'unravished', 'unrayed', 'unrazed', 'unrazored', 'unreached', 'unrealized', 'unrealmed', 'unreaped', 'unreared', 'unreasoned', 'unrebated', 'unrebuked', 'unrebutted', 'unrecalled', 'unrecanted', 'unrecaptured', 'unreceipted', 'unreceived', 'unreciprocated', 'unrecited', 'unrecked', 'unreckoned', 'unreclaimed', 'unreclined', 'unrecognized', 'unrecoined', 'unrecollected', 'unrecompensed', 'unreconciled', 'unreconnoitered', 'unreconsidered', 'unreconstructed', 'unrecorded', 'unrecounted', 'unrecovered', 'unrecreated', 'unrecruited', 'unrectified', 'unrecuperated', 'unred', 'unredacted', 'unredeemed', 'unredressed', 'unreduced', 'unreefed', 'unreeled', 'unreferenced', 'unreferred', 'unrefilled', 'unrefined', 'unrefitted', 'unreflected', 'unreformed', 'unrefracted', 'unrefrained', 'unrefreshed', 'unrefrigerated', 'unrefunded', 'unrefused', 'unrefuted', 'unregained', 'unregaled', 'unregarded', 'unregimented', 'unregistered', 'unregretted', 'unregulated', 'unregurgitated', 'unrehabilitated', 'unrehearsed', 'unreimbodied', 'unreined', 'unreinstated', 'unreiterated', 'unrejoiced', 'unrejuvenated', 'unrelated', 'unrelaxed', 'unreleased', 'unrelegated', 'unrelented', 'unrelieved', 'unreligioned', 'unrelinquished', 'unrelished', 'unremanded', 'unremarked', 'unremarried', 'unremedied', 'unremembered', 'unreminded', 'unremitted', 'unremonstrated', 'unremounted', 'unremoved', 'unremunerated', 'unrendered', 'unrenewed', 'unrenounced', 'unrenovated', 'unrenowned', 'unrented', 'unreorganized', 'unrepaired', 'unreparted', 'unrepealed', 'unrepeated', 'unrepelled', 'unrepented', 'unrepined', 'unrepiqued', 'unreplaced', 'unreplenished', 'unreplevined', 'unreplied', 'unreported', 'unreposed', 'unrepossessed', 'unreprehended', 'unrepresented', 'unrepressed', 'unreprieved', 'unreprimanded', 'unreprinted', 'unreproached', 'unreprobated', 'unreproved', 'unrepudiated', 'unrepulsed', 'unreputed', 'unrequalified', 'unrequested', 'unrequickened', 'unrequired', 'unrequited', 'unrescinded', 'unrescued', 'unresented', 'unreserved', 'unresifted', 'unresigned', 'unresisted', 'unresolved', 'unresounded', 'unrespected', 'unrespired', 'unrespited', 'unrested', 'unrestored', 'unrestrained', 'unrestricted', 'unresumed', 'unretained', 'unretaliated', 'unretarded', 'unretinued', 'unretired', 'unretorted', 'unretouched', 'unretracted', 'unretrenched', 'unretrieved', 'unretted', 'unreturned', 'unrevealed', 'unrevenged', 'unrevenued', 'unreverberated', 'unrevered', 'unreverenced', 'unreversed', 'unreverted', 'unrevested', 'unrevetted', 'unreviewed', 'unreviled', 'unrevised', 'unrevived', 'unrevoked', 'unrevolted', 'unrevolutionized', 'unrevolved', 'unrewarded', 'unreworded', 'unrhymed', 'unribbed', 'unribboned', 'unriched', 'unricked', 'unriddled', 'unridered', 'unridged', 'unridiculed', 'unriffled', 'unrifled', 'unrifted', 'unrigged', 'unrighted', 'unrimpled', 'unringed', 'unrinsed', 'unrioted', 'unriped', 'unripened', 'unripped', 'unrippled', 'unrisked', 'unrivaled', 'unrived', 'unriveted', 'unroaded', 'unroasted', 'unrobbed', 'unrobed', 'unrocked', 'unrodded', 'unroiled', 'unrolled', 'unromanticized', 'unroofed', 'unroosted', 'unrooted', 'unroped', 'unrosed', 'unrosined', 'unrostrated', 'unrotated', 'unroted', 'unrotted', 'unrouged', 'unroughened', 'unrounded', 'unroused', 'unrouted', 'unroved', 'unrowed', 'unroweled', 'unroyalized', 'unrubbed', 'unrubified', 'unrubricated', 'unruddered', 'unruddled', 'unruffed', 'unruffled', 'unrugged', 'unruinated', 'unruined', 'unruled', 'unruminated', 'unrummaged', 'unrumored', 'unrumpled', 'unruptured', 'unrushed', 'unrusted', 'unrusticated', 'unsabered', 'unsabled', 'unsabred', 'unsacked', 'unsacred', 'unsacrificed', 'unsaddened', 'unsaddled', 'unsafeguarded', 'unsailed', 'unsainted', 'unsalaried', 'unsalivated', 'unsalted', 'unsaluted', 'unsalvaged', 'unsalved', 'unsampled', 'unsanctified', 'unsanctioned', 'unsanctuaried', 'unsandaled', 'unsanded', 'unsanitated', 'unsaponified', 'unsapped', 'unsashed', 'unsated', 'unsatiated', 'unsatirized', 'unsatisfied', 'unsaturated', 'unsauced', 'unsaved', 'unsavored', 'unsawed', 'unscabbarded', 'unscabbed', 'unscaffolded', 'unscaled', 'unscalloped', 'unscamped', 'unscandalized', 'unscanned', 'unscanted', 'unscared', 'unscarfed', 'unscarified', 'unscarred', 'unscathed', 'unscattered', 'unscavengered', 'unscented', 'unsceptered', 'unsceptred', 'unscheduled', 'unschematized', 'unschooled', 'unscienced', 'unscioned', 'unscissored', 'unscoffed', 'unscolded', 'unsconced', 'unscooped', 'unscorched', 'unscored', 'unscorified', 'unscorned', 'unscotched', 'unscoured', 'unscourged', 'unscraped', 'unscratched', 'unscrawled', 'unscreened', 'unscrewed', 'unscribbled', 'unscribed', 'unscrimped', 'unscrubbed', 'unscrupled', 'unscrutinized', 'unsculptured', 'unscummed', 'unscutcheoned', 'unsealed', 'unseamed', 'unsearched', 'unseared', 'unseasoned', 'unseated', 'unsecluded', 'unseconded', 'unsecreted', 'unsecularized', 'unsecured', 'unseduced', 'unseeded', 'unseethed', 'unsegmented', 'unsegregated', 'unseized', 'unselected', 'unsensed', 'unsensitized', 'unsensualized', 'unsentenced', 'unsentineled', 'unsentinelled', 'unseparated', 'unseptated', 'unsepulchered', 'unsepulchred', 'unsepultured', 'unsequenced', 'unsequestered', 'unserenaded', 'unserrated', 'unserried', 'unserved', 'unsettled', 'unsevered', 'unsewed', 'unsewered', 'unsexed', 'unshackled', 'unshaded', 'unshadowed', 'unshafted', 'unshaled', 'unshamed', 'unshamefaced', 'unshammed', 'unshanked', 'unshaped', 'unshared', 'unsharped', 'unsharpened', 'unshattered', 'unshaved', 'unsheared', 'unsheathed', 'unshed', 'unsheeted', 'unshelled', 'unsheltered', 'unshepherded', 'unshewed', 'unshielded', 'unshifted', 'unshingled', 'unshipped', 'unshipwrecked', 'unshirted', 'unshivered', 'unshocked', 'unshoed', 'unshored', 'unshortened', 'unshotted', 'unshouted', 'unshoved', 'unshoveled', 'unshowed', 'unshredded', 'unshrined', 'unshrived', 'unshriveled', 'unshrivelled', 'unshrouded', 'unshrubbed', 'unshuffled', 'unshunned', 'unshunted', 'unshuttered', 'unsiccated', 'unsickened', 'unsickled', 'unsided', 'unsifted', 'unsighted', 'unsignaled', 'unsignalized', 'unsignalled', 'unsignatured', 'unsigned', 'unsigneted', 'unsignified', 'unsilenced', 'unsilicified', 'unsilvered', 'unsimplified', 'unsimulated', 'unsinewed', 'unsinged', 'unsingled', 'unsipped', 'unsistered', 'unsized', 'unsketched', 'unskewed', 'unskewered', 'unskilled', 'unskimmed', 'unskinned', 'unskirted', 'unslacked', 'unslackened', 'unslagged', 'unslaked', 'unslammed', 'unslandered', 'unslapped', 'unslashed', 'unslated', 'unslaughtered', 'unsleaved', 'unsleeved', 'unsliced', 'unslighted', 'unslipped', 'unslockened', 'unsloped', 'unslopped', 'unslotted', 'unsloughed', 'unsluiced', 'unslurred', 'unsmacked', 'unsmeared', 'unsmelled', 'unsmelted', 'unsmiled', 'unsmirched', 'unsmoked', 'unsmokified', 'unsmoothed', 'unsmothered', 'unsmudged', 'unsmuggled', 'unsmutched', 'unsmutted', 'unsnaffled', 'unsnagged', 'unsnaggled', 'unsnapped', 'unsnared', 'unsnatched', 'unsnipped', 'unsnouted', 'unsnubbed', 'unsnuffed', 'unsoaked', 'unsoaped', 'unsocialized', 'unsoftened', 'unsoiled', 'unsolaced', 'unsoldered', 'unsoldiered', 'unsoled', 'unsolemnized', 'unsolicitated', 'unsolicited', 'unsolidified', 'unsolved', 'unsonneted', 'unsoothed', 'unsophisticated', 'unsorrowed', 'unsorted', 'unsotted', 'unsounded', 'unsoured', 'unsoused', 'unsowed', 'unspaced', 'unspaded', 'unspangled', 'unspanked', 'unspanned', 'unspared', 'unsparred', 'unspattered', 'unspawned', 'unspayed', 'unspeared', 'unspecialized', 'unspecified', 'unspecked', 'unspeckled', 'unspectacled', 'unsped', 'unspeed', 'unspeered', 'unspelled', 'unspewed', 'unsphered', 'unspiced', 'unspied', 'unspired', 'unspirited', 'unspiritualized', 'unspissated', 'unspited', 'unspitted', 'unsplashed', 'unsplattered', 'unsplayed', 'unspleened', 'unspliced', 'unsplinted', 'unsplintered', 'unspoiled', 'unsponged', 'unsponsored', 'unsported', 'unspotlighted', 'unspotted', 'unspoused', 'unspouted', 'unsprained', 'unsprayed', 'unsprinkled', 'unsprinklered', 'unsprouted', 'unspruced', 'unspurned', 'unspurred', 'unsquandered', 'unsquared', 'unsquashed', 'unsqueezed', 'unsquelched', 'unsquired', 'unsquirted', 'unstabbed', 'unstabled', 'unstablished', 'unstacked', 'unstaffed', 'unstaged', 'unstaggered', 'unstained', 'unstaled', 'unstalked', 'unstalled', 'unstamped', 'unstampeded', 'unstandardized', 'unstarched', 'unstarred', 'unstarted', 'unstartled', 'unstarved', 'unstated', 'unstationed', 'unstatued', 'unstaunched', 'unstaved', 'unstayed', 'unsteadied', 'unsteamed', 'unstecked', 'unsteeled', 'unsteeped', 'unsteepled', 'unsteered', 'unstemmed', 'unstercorated', 'unstereotyped', 'unsterilized', 'unstethoscoped', 'unstewed', 'unstiffened', 'unstifled', 'unstigmatized', 'unstilled', 'unstilted', 'unstimulated', 'unstinged', 'unstinted', 'unstippled', 'unstipulated', 'unstirred', 'unstitched', 'unstocked', 'unstockinged', 'unstoked', 'unstoned', 'unstopped', 'unstoppered', 'unstored', 'unstoried', 'unstormed', 'unstoved', 'unstowed', 'unstraddled', 'unstrafed', 'unstraightened', 'unstrained', 'unstraitened', 'unstranded', 'unstrangered', 'unstrangled', 'unstrapped', 'unstratified', 'unstreaked', 'unstrengthened', 'unstressed', 'unstretched', 'unstrewed', 'unstriated', 'unstrictured', 'unstringed', 'unstriped', 'unstripped', 'unstroked', 'unstubbed', 'unstuccoed', 'unstudded', 'unstudied', 'unstuffed', 'unstultified', 'unstunned', 'unstunted', 'unstupefied', 'unstuttered', 'unstyled', 'unsubdivided', 'unsubducted', 'unsubdued', 'unsubjected', 'unsubjugated', 'unsublimated', 'unsublimed', 'unsubmerged', 'unsubmitted', 'unsubordinated', 'unsuborned', 'unsubpoenaed', 'unsubscribed', 'unsubsided', 'unsubsidized', 'unsubstanced', 'unsubstantiated', 'unsubstituted', 'unsubtracted', 'unsubventioned', 'unsubventionized', 'unsubverted', 'unsucceeded', 'unsuccored', 'unsucked', 'unsuckled', 'unsued', 'unsuffered', 'unsufficed', 'unsufflated', 'unsuffocated', 'unsuffused', 'unsugared', 'unsuggested', 'unsuited', 'unsullied', 'unsulphonated', 'unsulphurized', 'unsummarized', 'unsummed', 'unsummered', 'unsummoned', 'unsunburned', 'unsundered', 'unsunned', 'unsuperannuated', 'unsupernaturalized', 'unsuperscribed', 'unsuperseded', 'unsupervised', 'unsupped', 'unsupplanted', 'unsuppled', 'unsupplemented', 'unsupplicated', 'unsupplied', 'unsupported', 'unsupposed', 'unsuppressed', 'unsuppurated', 'unsurcharged', 'unsurfaced', 'unsurfeited', 'unsurmised', 'unsurmounted', 'unsurnamed', 'unsurpassed', 'unsurpliced', 'unsurprised', 'unsurrendered', 'unsurrounded', 'unsurveyed', 'unsurvived', 'unsuspected', 'unsuspended', 'unsustained', 'unsutured', 'unswabbed', 'unswaddled', 'unswallowed', 'unswapped', 'unswathed', 'unswayed', 'unsweated', 'unsweetened', 'unswelled', 'unsweltered', 'unswerved', 'unswilled', 'unswingled', 'unswitched', 'unsyllabled', 'unsymbolized', 'unsymmetrized', 'unsympathized', 'unsynchronized', 'unsyncopated', 'unsyndicated', 'unsyringed', 'unsystematized', 'untabernacled', 'untabled', 'untabulated', 'untacked', 'untackled', 'untagged', 'untailed', 'untainted', 'untalented', 'untalked', 'untallied', 'untallowed', 'untamed', 'untampered', 'untangled', 'untanned', 'untantalized', 'untaped', 'untapered', 'untapestried', 'untapped', 'untarnished', 'untarred', 'untarried', 'untartarized', 'untasked', 'untasseled', 'untasted', 'untattered', 'untattooed', 'untaunted', 'untawed', 'untaxed', 'unteamed', 'unteased', 'unteasled', 'untedded', 'unteethed', 'untelegraphed', 'untempered', 'untempested', 'untempled', 'untempted', 'untenanted', 'untended', 'untendered', 'untented', 'untentered', 'unterminated', 'unterraced', 'unterrified', 'unterrorized', 'untessellated', 'untested', 'untethered', 'untewed', 'unthanked', 'unthatched', 'unthawed', 'unthickened', 'unthinned', 'unthoughted', 'unthralled', 'unthrashed', 'unthreaded', 'unthreatened', 'unthreshed', 'unthrilled', 'unthroned', 'unthronged', 'unthrottled', 'unthumbed', 'unthumped', 'unthundered', 'unthwacked', 'unthwarted', 'untiaraed', 'unticketed', 'untickled', 'untied', 'untiled', 'untilled', 'untilted', 'untimbered', 'untimed', 'untinctured', 'untinged', 'untinkered', 'untinned', 'untinseled', 'untinted', 'untipped', 'untippled', 'untired', 'untissued', 'untithed', 'untitled', 'untoasted', 'untogaed', 'untoiled', 'untoileted', 'untolerated', 'untombed', 'untoned', 'untongued', 'untonsured', 'untooled', 'untoothed', 'untopped', 'untormented', 'untorpedoed', 'untortured', 'untossed', 'untotaled', 'untotalled', 'untouched', 'untoured', 'untouristed', 'untowered', 'untraced', 'untraceried', 'untracked', 'untraded', 'untraduced', 'untrafficked', 'untrailed', 'untrained', 'untraitored', 'untrammed', 'untrammeled', 'untramped', 'untrampled', 'untranquilized', 'untranquillized', 'untransacted', 'untranscended', 'untranscribed', 'untransferred', 'untransfigured', 'untransfixed', 'untransformed', 'untransfused', 'untransgressed', 'untranslated', 'untransmigrated', 'untransmitted', 'untransmuted', 'untranspired', 'untransplanted', 'untransported', 'untransposed', 'untransubstantiated', 'untrapped', 'untrashed', 'untraveled', 'untraversed', 'untravestied', 'untreasured', 'untreated', 'untreed', 'untrekked', 'untrellised', 'untrenched', 'untrepanned', 'untrespassed', 'untressed', 'untriced', 'untricked', 'untried', 'untrimmed', 'untripped', 'untriturated', 'untriumphed', 'untrolled', 'untrophied', 'untrotted', 'untroubled', 'untrounced', 'untrowed', 'untruckled', 'untrumped', 'untrumpeted', 'untrundled', 'untrunked', 'untrussed', 'untrusted', 'untubbed', 'untucked', 'untuckered', 'untufted', 'untugged', 'untumbled', 'untumefied', 'untuned', 'untunneled', 'untupped', 'unturbaned', 'unturfed', 'unturned', 'unturpentined', 'unturreted', 'untusked', 'untutored', 'untwilled', 'untwined', 'untwinned', 'untwirled', 'untwisted', 'untwitched', 'unulcerated', 'unumpired', 'ununified', 'ununiformed', 'ununited', 'unupholstered', 'unurged', 'unurned', 'unused', 'unushered', 'unusurped', 'unuttered', 'unvaccinated', 'unvaleted', 'unvalidated', 'unvalued', 'unvamped', 'unvanquished', 'unvantaged', 'unvaporized', 'unvaried', 'unvariegated', 'unvarnished', 'unvatted', 'unvaulted', 'unvaunted', 'unveiled', 'unveined', 'unvended', 'unveneered', 'unvenerated', 'unvenged', 'unvenomed', 'unvented', 'unventilated', 'unventured', 'unvenued', 'unverbalized', 'unverdured', 'unverified', 'unvermiculated', 'unversed', 'unversified', 'unvesseled', 'unvested', 'unvetoed', 'unvexed', 'unvibrated', 'unvictimized', 'unvictualed', 'unvictualled', 'unviewed', 'unvilified', 'unvillaged', 'unvindicated', 'unvintaged', 'unviolated', 'unviolenced', 'unviolined', 'unvisioned', 'unvisited', 'unvisored', 'unvisualized', 'unvitalized', 'unvitiated', 'unvitrified', 'unvitriolized', 'unvituperated', 'unvivified', 'unvizarded', 'unvocalized', 'unvoiced', 'unvoided', 'unvolatilized', 'unvolitioned', 'unvomited', 'unvoted', 'unvouched', 'unvouchsafed', 'unvowed', 'unvoweled', 'unvulcanized', 'unvulgarized', 'unwadded', 'unwaded', 'unwafted', 'unwaged', 'unwagered', 'unwagged', 'unwailed', 'unwainscoted', 'unwaited', 'unwaked', 'unwakened', 'unwalked', 'unwalled', 'unwallowed', 'unwandered', 'unwanted', 'unwarbled', 'unwarmed', 'unwarned', 'unwarnished', 'unwarped', 'unwarranted', 'unwashed', 'unwasted', 'unwatched', 'unwatered', 'unwatermarked', 'unwattled', 'unwaved', 'unwavered', 'unwaxed', 'unwayed', 'unweakened', 'unweaned', 'unweaponed', 'unwearied', 'unweathered', 'unwebbed', 'unwed', 'unwedded', 'unwedged', 'unweeded', 'unweened', 'unweighed', 'unweighted', 'unwelcomed', 'unwelded', 'unwelted', 'unwesternized', 'unwetted', 'unwheedled', 'unwheeled', 'unwhelmed', 'unwhelped', 'unwhetted', 'unwhipped', 'unwhirled', 'unwhisked', 'unwhiskered', 'unwhispered', 'unwhistled', 'unwhited', 'unwhitened', 'unwhitewashed', 'unwidened', 'unwidowed', 'unwifed', 'unwigged', 'unwilled', 'unwilted', 'unwindowed', 'unwinged', 'unwinnowed', 'unwiped', 'unwired', 'unwished', 'unwitched', 'unwithered', 'unwitnessed', 'unwitted', 'unwived', 'unwomanized', 'unwonted', 'unwooded', 'unwooed', 'unworked', 'unwormed', 'unworried', 'unworshiped', 'unworshipped', 'unwounded', 'unwrapped', 'unwreaked', 'unwreathed', 'unwrecked', 'unwrenched', 'unwrested', 'unwrestled', 'unwretched', 'unwriggled', 'unwrinkled', 'unwronged', 'unyeaned', 'unyearned', 'unyielded', 'unyoked', 'unzoned', 'upbred', 'upbreed', 'upfeed', 'upfingered', 'uphearted', 'upholstered', 'uplifted', 'upsetted', 'upsighted', 'upspeed', 'uptwined', 'urled', 'used', 'vacanthearted', 'vacuolated', 'vaginated', 'valanced', 'vallated', 'valued', 'valved', 'vambraced', 'vamped', 'vaned', 'vanitied', 'vapored', 'vareheaded', 'varicated', 'varicolored', 'varicosed', 'varied', 'variegated', 'variformed', 'variotinted', 'varnished', 'varved', 'vasculated', 'vaulted', 'vaunted', 'veiled', 'veined', 'velated', 'velveted', 'velveteened', 'velvetseed', 'velvetweed', 'venomed', 'verandaed', 'verdured', 'vermiculated', 'verriculated', 'verrucated', 'versed', 'versicolored', 'vertebrated', 'verticillated', 'veruled', 'verveled', 'vesseled', 'vestibuled', 'vestmented', 'vexed', 'viduated', 'vilehearted', 'vinaigretted', 'vined', 'vinegarweed', 'vingerhoed', 'virgated', 'viroled', 'virtued', 'virulented', 'visaged', 'visioned', 'vistaed', 'vitiated', 'vitrailed', 'vizarded', 'vocabularied', 'voiced', 'voided', 'volumed', 'voluted', 'vowed', 'waged', 'waistcoated', 'waisted', 'waled', 'walled', 'walleyed', 'waned', 'warbled', 'warded', 'warehoused', 'warmed', 'warmhearted', 'warped', 'warranted', 'warted', 'wartweed', 'washed', 'washshed', 'wasted', 'watched', 'watered', 'waterlogged', 'watershed', 'waterweed', 'wattled', 'waved', 'waxhearted', 'waxweed', 'weakbrained', 'weakhanded', 'weakhearted', 'weakmouthed', 'weaponed', 'wearied', 'weathered', 'weatherheaded', 'weatherproofed', 'weaved', 'weazened', 'webbed', 'wed', 'wedbed', 'wedded', 'wedged', 'weed', 'weeded', 'weelfaured', 'weepered', 'weeviled', 'wefted', 'weighed', 'weighted', 'welted', 'wetched', 'wetted', 'whaleboned', 'wheateared', 'wheeled', 'whelked', 'wheyfaced', 'whimsied', 'whipped', 'whirled', 'whiskerandoed', 'whiskered', 'whiskied', 'whiskified', 'whiskyfied', 'whispered', 'whited', 'whitehanded', 'whitehearted', 'whiteweed', 'wholehearted', 'whorled', 'wicked', 'wickerworked', 'widehearted', 'widemouthed', 'widowed', 'widowered', 'wigged', 'wilded', 'willed', 'willinghearted', 'willowed', 'willowweed', 'windbagged', 'winded', 'windgalled', 'wined', 'winged', 'winghanded', 'wingseed', 'winkered', 'wintered', 'winterfeed', 'winterweed', 'wired', 'wireweed', 'wiseacred', 'wisehearted', 'wiseweed', 'wished', 'wistened', 'witched', 'witchweed', 'withered', 'witted', 'wittified', 'wizened', 'womanhearted', 'wombed', 'wonned', 'wonted', 'woodbined', 'wooded', 'woodenheaded', 'woodlocked', 'woodshed', 'woofed', 'wooled', 'woolshed', 'woolweed', 'worded', 'worked', 'workhoused', 'worlded', 'wormed', 'wormholed', 'wormseed', 'wormweed', 'worried', 'worsted', 'wounded', 'wrapped', 'wreathed', 'wrenched', 'wretched', 'wried', 'wrinkled', 'wristed', 'writhed', 'wrizzled', 'wronged', 'wrongheaded', 'wronghearted', 'yapped', 'yawweed', 'yed', 'yellowseed', 'yellowweed', 'yolked', 'younghearted', 'zagged', 'zed', 'zeed', 'zigzagged', 'zonated', 'zoned']\n",
            "['abjectly', 'adjuster', 'dejected', 'dejectly', 'injector', 'majestic', 'objectee', 'objector', 'rejecter', 'rejector', 'unjilted', 'unjolted', 'unjustly']\n",
            "['abjectedness', 'abjection', 'abjective', 'abjectly', 'abjectness', 'adjection', 'adjectional', 'adjectival', 'adjectivally', 'adjective', 'adjectively', 'adjectivism', 'adjectivitis', 'adjustable', 'adjustably', 'adjustage', 'adjustation', 'adjuster', 'adjustive', 'adjustment', 'antejentacular', 'antiprojectivity', 'bijouterie', 'coadjustment', 'cojusticiar', 'conjective', 'conjecturable', 'conjecturably', 'conjectural', 'conjecturalist', 'conjecturality', 'conjecturally', 'conjecture', 'conjecturer', 'coprojector', 'counterobjection', 'dejected', 'dejectedly', 'dejectedness', 'dejectile', 'dejection', 'dejectly', 'dejectory', 'dejecture', 'disjection', 'guanajuatite', 'inadjustability', 'inadjustable', 'injectable', 'injection', 'injector', 'injustice', 'insubjection', 'interjection', 'interjectional', 'interjectionalize', 'interjectionally', 'interjectionary', 'interjectionize', 'interjectiveness', 'interjector', 'interjectorily', 'interjectory', 'interjectural', 'interobjective', 'intersubjective', 'introjection', 'introjective', 'majestic', 'majestical', 'majestically', 'majesticalness', 'majesticness', 'majestious', 'majestyship', 'maladjusted', 'maladjustive', 'maladjustment', 'microinjection', 'microprojector', 'misconjecture', 'munjistin', 'nonadjectival', 'nonadjustable', 'nonadjustive', 'nonadjustment', 'nonconjectural', 'nonejection', 'nonobjection', 'nonobjective', 'nonprojection', 'nonprojective', 'nonprojectively', 'nonrejection', 'nonsubjective', 'objectable', 'objectation', 'objectative', 'objectee', 'objecthood', 'objectification', 'objectify', 'objection', 'objectionability', 'objectionable', 'objectionableness', 'objectionably', 'objectional', 'objectioner', 'objectionist', 'objectival', 'objectivate', 'objectivation', 'objective', 'objectively', 'objectiveness', 'objectivism', 'objectivist', 'objectivistic', 'objectivity', 'objectivize', 'objectization', 'objectize', 'objectless', 'objectlessly', 'objectlessness', 'objector', 'outjetting', 'overjutting', 'overobjectify', 'preadjectival', 'preadjective', 'preadjustable', 'preadjustment', 'preconjecture', 'prejustification', 'prejustify', 'preobjection', 'preobjective', 'prerejection', 'presubjection', 'projectable', 'projectedly', 'projectile', 'projecting', 'projectingly', 'projection', 'projectional', 'projectionist', 'projective', 'projectively', 'projectivity', 'projector', 'projectress', 'projectrix', 'projecture', 'readjustable', 'readjuster', 'readjustment', 'rejectable', 'rejectableness', 'rejectage', 'rejectamenta', 'rejecter', 'rejectingly', 'rejection', 'rejective', 'rejectment', 'rejector', 'rejustification', 'rejustify', 'reobjectivization', 'reobjectivize', 'resubjection', 'retrojection', 'semiadjectively', 'subjectability', 'subjectable', 'subjectdom', 'subjected', 'subjectedly', 'subjectedness', 'subjecthood', 'subjectibility', 'subjectible', 'subjectification', 'subjectify', 'subjectile', 'subjection', 'subjectional', 'subjectist', 'subjective', 'subjectively', 'subjectiveness', 'subjectivism', 'subjectivist', 'subjectivistic', 'subjectivistically', 'subjectivity', 'subjectivize', 'subjectivoidealistic', 'subjectless', 'subjectlike', 'subjectness', 'subjectship', 'superdejection', 'superinjustice', 'superjustification', 'superobjection', 'superobjectionable', 'teleobjective', 'trajectile', 'trajection', 'trajectitious', 'trajectory', 'transsubjective', 'unadjectived', 'unadjustably', 'unadjusted', 'unadjustment', 'unconjecturable', 'unconjectured', 'undejected', 'underadjustment', 'unejected', 'uninjectable', 'uninjected', 'uninterjected', 'unjesting', 'unjilted', 'unjolted', 'unjostled', 'unjustice', 'unjusticiable', 'unjustifiable', 'unjustifiableness', 'unjustifiably', 'unjustified', 'unjustifiedly', 'unjustifiedness', 'unjustify', 'unjustled', 'unjustly', 'unjustness', 'unmajestic', 'unobjected', 'unobjectionable', 'unobjectionableness', 'unobjectionably', 'unobjectional', 'unobjective', 'unprojected', 'unprojecting', 'unrejectable', 'unsubjectable', 'unsubjected', 'unsubjectedness', 'unsubjection', 'unsubjective', 'unsubjectlike']\n",
            "0\n"
          ],
          "name": "stdout"
        }
      ]
    },
    {
      "cell_type": "markdown",
      "metadata": {
        "id": "VOll0SBNO53s"
      },
      "source": [
        "Ranges and Closures"
      ]
    },
    {
      "cell_type": "code",
      "metadata": {
        "colab": {
          "base_uri": "https://localhost:8080/"
        },
        "id": "xyvo2m9rQpoM",
        "outputId": "12bcce5c-5ce5-473e-bc60-6326f9ef3db3"
      },
      "source": [
        "print([w for w in wordlist if re.search('^[ghi][mno][jkl][def]$', w)])\n",
        "print([w for w in wordlist if re.search('^[g-o]+$', w)])\n",
        "print([w for w in wordlist if re.search('^[a-fj-o]+$', w)])"
      ],
      "execution_count": null,
      "outputs": [
        {
          "output_type": "stream",
          "text": [
            "['gold', 'golf', 'hold', 'hole']\n",
            "['g', 'ghoom', 'gig', 'giggling', 'gigolo', 'gilim', 'gill', 'gilling', 'gilo', 'gim', 'gin', 'ging', 'gingili', 'gink', 'ginkgo', 'ginning', 'gio', 'glink', 'glom', 'glonoin', 'gloom', 'glooming', 'gnomon', 'go', 'gog', 'gogo', 'goi', 'going', 'gol', 'goli', 'gon', 'gong', 'gonion', 'goo', 'googol', 'gook', 'gool', 'goon', 'h', 'hi', 'high', 'hill', 'him', 'hin', 'hing', 'hinoki', 'ho', 'hog', 'hoggin', 'hogling', 'hoi', 'hoin', 'holing', 'holl', 'hollin', 'hollo', 'hollong', 'holm', 'homo', 'homologon', 'hong', 'honk', 'hook', 'hoon', 'i', 'igloo', 'ihi', 'ilk', 'ill', 'imi', 'imino', 'immi', 'in', 'ing', 'ingoing', 'inion', 'ink', 'inkling', 'inlook', 'inn', 'inning', 'io', 'ion', 'j', 'jhool', 'jig', 'jing', 'jingling', 'jingo', 'jinjili', 'jink', 'jinn', 'jinni', 'jo', 'jog', 'johnin', 'join', 'joining', 'joll', 'joom', 'k', 'kiki', 'kil', 'kilhig', 'kilim', 'kill', 'killing', 'kiln', 'kilo', 'kim', 'kimono', 'kin', 'king', 'kingling', 'kink', 'kino', 'klom', 'knoll', 'ko', 'kohl', 'koi', 'koil', 'koilon', 'koinon', 'kokil', 'kokio', 'koko', 'kokoon', 'kolo', 'kolokolo', 'kon', 'kongoni', 'konini', 'l', 'li', 'lignin', 'liin', 'likin', 'liking', 'liknon', 'lill', 'lim', 'liming', 'limn', 'limonin', 'lin', 'ling', 'lingo', 'linin', 'lining', 'link', 'linking', 'linn', 'lino', 'linolin', 'linon', 'lion', 'lo', 'log', 'loggin', 'logging', 'login', 'logion', 'logoi', 'loin', 'loll', 'long', 'longing', 'loo', 'look', 'looking', 'loom', 'looming', 'loon', 'm', 'mho', 'mi', 'mig', 'miglio', 'mignon', 'mijl', 'mil', 'milk', 'milking', 'mill', 'milling', 'million', 'milo', 'mim', 'min', 'ming', 'minikin', 'minim', 'mining', 'minion', 'mink', 'minning', 'mino', 'mo', 'mog', 'mogo', 'moho', 'moil', 'moiling', 'moio', 'mojo', 'moki', 'moko', 'momo', 'mon', 'mong', 'monk', 'mono', 'moo', 'mooing', 'mool', 'moon', 'mooning', 'n', 'ni', 'nig', 'niggling', 'nigh', 'nil', 'nim', 'ninon', 'niog', 'no', 'nog', 'noggin', 'nogging', 'noil', 'noll', 'nolo', 'non', 'nonillion', 'nonion', 'nook', 'nooking', 'noon', 'nooning', 'o', 'oh', 'ohm', 'oho', 'oii', 'oil', 'oki', 'olio', 'olm', 'om', 'on', 'ongoing', 'onion', 'onlook', 'onlooking', 'oolong']\n",
            "['a', 'aa', 'aal', 'aam', 'aba', 'abac', 'abaca', 'aback', 'abaff', 'abalone', 'abandon', 'abandonable', 'abandoned', 'abandonee', 'abb', 'abdal', 'abdomen', 'abeam', 'abed', 'abele', 'able', 'abloom', 'abode', 'abolla', 'aboma', 'aboon', 'academe', 'acana', 'acca', 'accede', 'accedence', 'accend', 'accolade', 'accoladed', 'accolle', 'accommodable', 'ace', 'ackman', 'acle', 'acme', 'acne', 'acnodal', 'acnode', 'acock', 'acold', 'acoma', 'acone', 'ad', 'adad', 'adance', 'add', 'adda', 'addable', 'added', 'addend', 'addenda', 'addle', 'ade', 'adead', 'adeem', 'adenocele', 'adenoma', 'adman', 'ado', 'adobe', 'ae', 'aefald', 'aenean', 'aeon', 'aface', 'affa', 'affable', 'aflame', 'afoam', 'ajaja', 'ak', 'aka', 'akala', 'ake', 'akeake', 'akee', 'aknee', 'ako', 'al', 'ala', 'alack', 'alada', 'alala', 'alameda', 'alamo', 'alan', 'aland', 'alb', 'alba', 'alban', 'albe', 'albedo', 'albee', 'alcalde', 'alcanna', 'alclad', 'alco', 'aldane', 'aldol', 'ale', 'aleak', 'alec', 'alee', 'alef', 'alem', 'alemana', 'alemmal', 'alen', 'alf', 'alfa', 'alfaje', 'alfalfa', 'aljoba', 'alk', 'alkane', 'alkene', 'alkenna', 'alkool', 'all', 'allan', 'allbone', 'allele', 'allemand', 'allemande', 'allene', 'allocable', 'alma', 'almanac', 'alme', 'almon', 'almond', 'aln', 'alo', 'alod', 'aloe', 'aloed', 'aloma', 'alone', 'aloof', 'am', 'ama', 'amakebe', 'amala', 'amalaka', 'amba', 'ambalam', 'amban', 'amble', 'ambo', 'ambomalleal', 'ambon', 'ame', 'ameed', 'ameen', 'amen', 'amenable', 'amend', 'amendable', 'amende', 'amene', 'amla', 'amma', 'amman', 'ammo', 'ammonal', 'ammono', 'amoeba', 'amoebae', 'amoebaean', 'amoeban', 'amok', 'amoke', 'amole', 'amomal', 'an', 'ana', 'anabo', 'anaconda', 'anadem', 'anal', 'analemma', 'anam', 'anama', 'anan', 'anana', 'ananda', 'anba', 'ancon', 'anconad', 'anconal', 'ancone', 'anconeal', 'and', 'anda', 'anele', 'anemonal', 'anemone', 'anemonol', 'anend', 'anjan', 'ankee', 'ankle', 'anklebone', 'anklejack', 'anlace', 'ann', 'anna', 'annal', 'annale', 'anneal', 'annona', 'anoa', 'anodal', 'anode', 'anole', 'anon', 'anonol', 'b', 'ba', 'baa', 'baal', 'baba', 'babble', 'babe', 'baboen', 'baboo', 'baboodom', 'baboon', 'bac', 'bacaba', 'bacalao', 'bacao', 'bacca', 'baccae', 'back', 'backband', 'backbone', 'backboned', 'backed', 'backen', 'backfall', 'backfold', 'bacon', 'bad', 'badan', 'baddock', 'bade', 'badland', 'bae', 'baff', 'baffle', 'bajada', 'bajan', 'baka', 'bakal', 'bake', 'baked', 'baken', 'bal', 'balafo', 'balance', 'balanceable', 'balanced', 'balancelle', 'balanceman', 'balanocele', 'balao', 'balboa', 'bald', 'balden', 'bale', 'baleen', 'balk', 'ball', 'ballad', 'ballade', 'ballam', 'ballan', 'balldom', 'balled', 'balloon', 'balm', 'balmacaan', 'balneal', 'balonea', 'baloo', 'bam', 'bamban', 'bamboo', 'ban', 'banaba', 'banak', 'banal', 'banana', 'banc', 'banca', 'bancal', 'banco', 'band', 'banda', 'bandaka', 'bandala', 'bandanna', 'bandannaed', 'bande', 'banded', 'bandle', 'bandman', 'bando', 'bane', 'banjo', 'bank', 'bankable', 'bankbook', 'banked', 'bankman', 'bannock', 'baobab', 'be', 'beacon', 'bead', 'beaded', 'beadle', 'beadledom', 'beadman', 'beak', 'beaked', 'beal', 'beala', 'beam', 'beamed', 'beamman', 'bean', 'beancod', 'beano', 'beback', 'beballed', 'bebed', 'bebled', 'beblood', 'bebloom', 'becall', 'becalm', 'beck', 'beckon', 'beclad', 'becloak', 'becolme', 'becombed', 'become', 'becomma', 'becoom', 'bed', 'bedabble', 'bedad', 'bedamn', 'bedded', 'bedead', 'bedeaf', 'bedeafen', 'bedeck', 'bedel', 'beden', 'bedene', 'bedlam', 'bedman', 'bee', 'beedom', 'beef', 'beek', 'beelol', 'beeman', 'been', 'befall', 'befame', 'befan', 'befanned', 'beflannel', 'beflea', 'befleck', 'befoam', 'befool', 'bejade', 'bejan', 'bejel', 'bekko', 'bel', 'bela', 'belaced', 'beladle', 'belam', 'belanda', 'beld', 'beldam', 'beleaf', 'belee', 'bell', 'belladonna', 'belle', 'belled', 'belledom', 'bellman', 'beloam', 'bema', 'bemad', 'bemadam', 'beman', 'bemeal', 'bemean', 'bemedaled', 'bemedalled', 'bemoan', 'bemoanable', 'bemock', 'bemole', 'bemoon', 'ben', 'bena', 'benab', 'bename', 'benben', 'bend', 'benda', 'bendable', 'bended', 'bene', 'benj', 'benn', 'benne', 'bennel', 'beno', 'beode', 'blab', 'black', 'blackback', 'blackball', 'blackband', 'blackcock', 'blacken', 'blackface', 'blackjack', 'blackland', 'blackneb', 'blackneck', 'blacknob', 'blad', 'blade', 'bladebone', 'bladed', 'blae', 'blaff', 'blake', 'blamable', 'blame', 'blamed', 'blan', 'blanc', 'blanca', 'blanco', 'bland', 'blanda', 'blank', 'blankbook', 'blanked', 'blankeel', 'bleak', 'bleb', 'bleck', 'blee', 'bleed', 'bleekbok', 'blend', 'blende', 'blended', 'blennocele', 'blennoma', 'bleo', 'blo', 'blob', 'blobbed', 'bloc', 'block', 'blockade', 'blocked', 'blockman', 'bloke', 'blonde', 'blood', 'blooded', 'bloodleaf', 'bloom', 'bloomfell', 'bo', 'boa', 'bob', 'boba', 'bobac', 'bobbed', 'bobble', 'bobo', 'bocal', 'bocca', 'boccale', 'bocce', 'boce', 'bock', 'bod', 'bode', 'boden', 'bodle', 'bodock', 'bojo', 'bokadam', 'boke', 'bokom', 'bola', 'bold', 'bolden', 'boldo', 'bole', 'boled', 'bolk', 'boll', 'bolled', 'bollock', 'bolo', 'boloman', 'bom', 'boma', 'bomb', 'bombable', 'bombed', 'bombo', 'bombola', 'bombonne', 'bon', 'bonbon', 'bonce', 'bond', 'bonded', 'bondfolk', 'bondman', 'bone', 'boneblack', 'boned', 'bonk', 'boo', 'boob', 'boobook', 'bood', 'boodle', 'boodledom', 'boof', 'book', 'bookable', 'bookdom', 'booked', 'bookfold', 'bookland', 'bookman', 'bool', 'boom', 'boomable', 'boon', 'boondock', 'boonk', 'c', 'ca', 'caam', 'caama', 'cab', 'caba', 'cabaan', 'caback', 'cabal', 'cabala', 'caban', 'cabana', 'cabble', 'cabda', 'cable', 'cabled', 'cableman', 'cabman', 'cabob', 'cabocle', 'caboodle', 'cabook', 'cacam', 'cacao', 'cack', 'cackle', 'cacodemon', 'cacoon', 'cad', 'cadalene', 'cadamba', 'caddle', 'cade', 'cadelle', 'cadence', 'cadenced', 'cadjan', 'cadlock', 'caeca', 'caecal', 'caeoma', 'caffa', 'caffeol', 'caffeone', 'caffle', 'cajole', 'cake', 'cal', 'calaba', 'calade', 'calamanco', 'calambac', 'calcaneal', 'calced', 'calden', 'calean', 'calendal', 'calf', 'calk', 'call', 'callable', 'callo', 'calm', 'calodemon', 'calomba', 'calomel', 'calool', 'cam', 'camaca', 'caman', 'camb', 'came', 'camel', 'camelback', 'camelman', 'cameo', 'cammed', 'cammock', 'can', 'canaba', 'canada', 'canadol', 'canal', 'canalman', 'canamo', 'cancan', 'cancel', 'cancelable', 'cand', 'candela', 'candle', 'candleball', 'candlebeam', 'candlebomb', 'candock', 'cane', 'canel', 'canella', 'canelo', 'canjac', 'cank', 'canman', 'canna', 'canned', 'cannel', 'cannon', 'cannonade', 'cannoned', 'canoe', 'canoeload', 'canoeman', 'canon', 'canoodle', 'caoba', 'ce', 'cebell', 'cede', 'cee', 'celadon', 'cell', 'cella', 'cellae', 'celled', 'cello', 'cembalo', 'cenacle', 'clack', 'clad', 'cladode', 'clam', 'clamb', 'clambake', 'clame', 'clammed', 'clan', 'clank', 'clanned', 'clead', 'cleaded', 'cleam', 'clean', 'cleanable', 'cleck', 'cled', 'clee', 'cleek', 'cleeked', 'clef', 'clem', 'clemence', 'cloaca', 'cloacal', 'cloacean', 'cloak', 'cloaked', 'cloam', 'cloamen', 'clock', 'clocked', 'clockface', 'clod', 'cloff', 'clomb', 'clomben', 'clonal', 'clone', 'cloof', 'coabode', 'coadjacence', 'coak', 'coal', 'cob', 'cobaea', 'cobbed', 'cobble', 'cobcab', 'coble', 'cobleman', 'cobloaf', 'cobola', 'coca', 'coccal', 'cocco', 'cock', 'cockade', 'cockaded', 'cockal', 'cockbell', 'cocked', 'cockle', 'cockled', 'coco', 'cocoa', 'cocobolo', 'cocoon', 'cod', 'coda', 'codbank', 'coddle', 'code', 'codman', 'codo', 'codol', 'codon', 'coe', 'coecal', 'coed', 'coelom', 'coeloma', 'coembedded', 'coenflame', 'coenobe', 'cofeoffee', 'coff', 'coffee', 'coffeecake', 'coffeeleaf', 'coffle', 'coke', 'cokeman', 'col', 'cola', 'colane', 'colback', 'colcannon', 'cold', 'cole', 'colecannon', 'colk', 'coll', 'colleen', 'collembolan', 'collembole', 'collocal', 'collock', 'coloboma', 'colocola', 'colon', 'colonel', 'colonnade', 'colonnaded', 'coma', 'comal', 'comb', 'combed', 'comble', 'come', 'comeback', 'comedo', 'comma', 'command', 'commandable', 'commando', 'commandoman', 'commeddle', 'commence', 'commenceable', 'commend', 'commendable', 'commendam', 'commode', 'common', 'commonable', 'con', 'conal', 'conamed', 'conceal', 'concealable', 'concealed', 'concede', 'conceded', 'cond', 'condemn', 'condemnable', 'condemned', 'condole', 'condolence', 'condonable', 'condonance', 'condone', 'cone', 'coned', 'coneen', 'confab', 'confocal', 'conjobble', 'conk', 'conkanee', 'conn', 'coo', 'cooba', 'coodle', 'cooee', 'coof', 'cooja', 'cook', 'cookable', 'cookbook', 'cookdom', 'cookee', 'cool', 'coolen', 'coom', 'coomb', 'coon', 'cooncan', 'd', 'da', 'dab', 'dabb', 'dabba', 'dabble', 'dace', 'dad', 'dada', 'daddle', 'daddock', 'dade', 'dado', 'dae', 'daedal', 'daemon', 'daff', 'daffle', 'dak', 'dal', 'dale', 'daleman', 'dalk', 'dallack', 'dalle', 'dam', 'dama', 'daman', 'dame', 'damme', 'damn', 'damnable', 'damned', 'dan', 'dance', 'dand', 'danda', 'dandle', 'dank', 'dannock', 'dao', 'de', 'deacon', 'deaconal', 'dead', 'deaden', 'deadfall', 'deadlock', 'deadman', 'deaf', 'deafen', 'deal', 'dealable', 'dean', 'deb', 'debacle', 'deben', 'decad', 'decadal', 'decade', 'decadence', 'decal', 'decan', 'decanal', 'decane', 'decence', 'decene', 'decennal', 'deck', 'decke', 'decked', 'deckel', 'deckle', 'deckload', 'decode', 'decoke', 'dedo', 'dee', 'deed', 'deedeed', 'deem', 'deface', 'defaceable', 'defalk', 'defame', 'defamed', 'defence', 'defend', 'defendable', 'dekko', 'dekle', 'dele', 'delead', 'delenda', 'delf', 'dell', 'demal', 'demand', 'demandable', 'deme', 'demean', 'demob', 'demoded', 'demon', 'demonland', 'den', 'denda', 'dene', 'deodand', 'do', 'doab', 'doable', 'dob', 'dobbed', 'dobe', 'dobla', 'doblon', 'doc', 'dock', 'docken', 'dockland', 'dockman', 'docmac', 'dod', 'dodd', 'dodded', 'doddle', 'dodecade', 'dodecane', 'dodman', 'dodo', 'doe', 'doff', 'doke', 'dola', 'dolcan', 'dole', 'doll', 'dolldom', 'dollface', 'dolman', 'dolmen', 'dom', 'domal', 'domba', 'dome', 'domn', 'don', 'donable', 'doncella', 'done', 'donee', 'donjon', 'donna', 'doob', 'doodab', 'doodad', 'doodle', 'dooja', 'dook', 'dool', 'doolee', 'doom', 'doombook', 'doon', 'e', 'ea', 'ean', 'ebb', 'ebbman', 'eboe', 'ebon', 'ecad', 'ecanda', 'ecbole', 'ecole', 'eddo', 'edea', 'edema', 'eel', 'eelbob', 'eelcake', 'effable', 'efface', 'effaceable', 'ejoo', 'eke', 'ekka', 'el', 'elance', 'eland', 'elb', 'elcaja', 'eld', 'elf', 'elfenfolk', 'elfland', 'elflock', 'elk', 'ell', 'elle', 'elleck', 'elm', 'elod', 'em', 'emball', 'embalm', 'embank', 'embed', 'emblem', 'emblema', 'embolden', 'embole', 'embolo', 'emcee', 'eme', 'emend', 'emendable', 'emma', 'emoloa', 'en', 'enable', 'enaena', 'enam', 'enamel', 'enameloma', 'encake', 'encefalon', 'encell', 'encloak', 'encode', 'encolden', 'encommon', 'end', 'endable', 'endameba', 'ended', 'endocoele', 'endocone', 'endolemma', 'endome', 'eneclann', 'enema', 'enface', 'enfeeble', 'enfelon', 'enfeoff', 'enfold', 'enfolden', 'enfonced', 'enjamb', 'enjambed', 'enlace', 'enleaf', 'enlock', 'ennead', 'ennoble', 'enodal', 'enol', 'eoan', 'eon', 'f', 'fa', 'fabella', 'fable', 'fabled', 'fabledom', 'fableland', 'facadal', 'facade', 'face', 'faceable', 'faced', 'faceman', 'fack', 'fad', 'fadable', 'faddle', 'fade', 'faded', 'faden', 'fae', 'faff', 'faffle', 'fake', 'falanaka', 'falbala', 'falcade', 'falcon', 'falconelle', 'faldfee', 'fall', 'fallace', 'fallback', 'fallen', 'fam', 'famble', 'fame', 'fan', 'fana', 'fanal', 'fanam', 'fanback', 'fand', 'fandom', 'fanman', 'fannel', 'fanon', 'faon', 'fe', 'feak', 'feal', 'fecal', 'feck', 'fed', 'feddan', 'fee', 'feeable', 'feeble', 'feed', 'feedable', 'feedback', 'feedman', 'feel', 'feelable', 'fell', 'fellable', 'fellen', 'felloe', 'felon', 'female', 'feme', 'fen', 'fenbank', 'fence', 'fend', 'fendable', 'fenland', 'fenman', 'fennec', 'fennel', 'feod', 'feodal', 'feoff', 'feoffee', 'fjeld', 'flack', 'flacked', 'flaff', 'flak', 'flake', 'flam', 'flamb', 'flame', 'flamed', 'flamen', 'flamenco', 'flammable', 'flan', 'flanconade', 'flandan', 'flane', 'flank', 'flanked', 'flannel', 'flanneled', 'flannelleaf', 'flea', 'fleabane', 'fleadock', 'fleam', 'fleck', 'flecken', 'fleckled', 'flecnodal', 'flecnode', 'fled', 'flee', 'fleece', 'fleeceable', 'fleeced', 'flob', 'floc', 'flock', 'flockman', 'flocoon', 'floe', 'flood', 'floodable', 'floodcock', 'flooded', 'foal', 'foam', 'fob', 'focal', 'fod', 'fodda', 'foe', 'foeman', 'fold', 'foldable', 'folded', 'folden', 'fole', 'folk', 'folkland', 'fondak', 'fondle', 'fono', 'foo', 'food', 'fool', 'fooldom', 'j', 'jab', 'jabbed', 'jabble', 'jacal', 'jacana', 'jack', 'jackal', 'jackeen', 'jackman', 'jacko', 'jacobaea', 'jacobaean', 'jade', 'jaded', 'jajman', 'jake', 'jako', 'jam', 'jama', 'jaman', 'jamb', 'jambo', 'jambolan', 'jambone', 'jambool', 'jane', 'jank', 'jann', 'jannock', 'jaob', 'jean', 'jed', 'jedcock', 'jeddock', 'jeel', 'jeff', 'jelab', 'jell', 'jenna', 'jo', 'job', 'jobade', 'jobble', 'jobman', 'jobo', 'jock', 'jocko', 'jodel', 'joe', 'jojoba', 'joke', 'joll', 'joola', 'joom', 'k', 'ka', 'kabel', 'kaka', 'kakkak', 'kakke', 'kala', 'kaladana', 'kalamalo', 'kale', 'kalema', 'kalo', 'kalon', 'kamala', 'kamaloka', 'kamao', 'kambal', 'kame', 'kammalan', 'kan', 'kana', 'kanae', 'kande', 'kandol', 'kanoon', 'kea', 'keb', 'kebab', 'keck', 'keckle', 'ked', 'kedlock', 'keek', 'keel', 'keelblock', 'keeled', 'keelman', 'keen', 'keena', 'keened', 'kef', 'keffel', 'keld', 'kele', 'kelebe', 'kelek', 'kelk', 'kell', 'kella', 'kemb', 'ken', 'kenaf', 'kend', 'kennel', 'kennelman', 'kenno', 'keno', 'klam', 'kleeneboc', 'klom', 'knab', 'knabble', 'knack', 'knead', 'kneadable', 'knee', 'kneed', 'kneel', 'knell', 'knob', 'knobbed', 'knobble', 'knock', 'knockoff', 'knoll', 'ko', 'koa', 'koae', 'koala', 'kob', 'koban', 'kobold', 'koda', 'kodak', 'koel', 'koff', 'kokako', 'kokam', 'kokan', 'koko', 'kokoon', 'kola', 'kolea', 'kolo', 'kolokolo', 'kon', 'kona', 'konak', 'konjak', 'kooka', 'koolokamba', 'l', 'la', 'lab', 'labba', 'label', 'labella', 'lablab', 'lac', 'lacca', 'laccol', 'lace', 'laced', 'laceleaf', 'laceman', 'lack', 'lackland', 'lad', 'laddock', 'lade', 'lademan', 'laden', 'ladle', 'lak', 'lake', 'lakeland', 'lall', 'lalo', 'lam', 'lama', 'lamb', 'lamba', 'lambale', 'lambda', 'lame', 'lamel', 'lamella', 'lammock', 'lan', 'lance', 'lanced', 'lanceman', 'land', 'landamman', 'landbook', 'landed', 'landfall', 'landflood', 'landlock', 'landlocked', 'landlook', 'landman', 'lane', 'lank', 'lea', 'lead', 'leadable', 'leadback', 'leaded', 'leaden', 'leadman', 'leadoff', 'leaf', 'leafdom', 'leafed', 'leafen', 'leak', 'leakance', 'leal', 'lealand', 'leam', 'lean', 'leban', 'lebbek', 'lecama', 'leck', 'led', 'lede', 'leden', 'ledol', 'lee', 'leed', 'leek', 'lek', 'lekane', 'leman', 'lemel', 'lemma', 'lemnad', 'lemon', 'lemonade', 'lenad', 'lend', 'lendable', 'lendee', 'lene', 'leno', 'llama', 'llano', 'lo', 'loa', 'load', 'loaded', 'loaden', 'loaf', 'loam', 'loan', 'loanable', 'lob', 'lobal', 'lobcock', 'lobe', 'lobed', 'lobo', 'lobola', 'loca', 'locable', 'local', 'locale', 'locanda', 'lock', 'lockable', 'locked', 'lockman', 'loco', 'locofoco', 'lod', 'lode', 'lof', 'loka', 'lokao', 'loke', 'loll', 'loma', 'lommock', 'lone', 'loo', 'lood', 'loof', 'look', 'loom', 'loon', 'm', 'ma', 'maam', 'mabolo', 'mac', 'macaco', 'macadam', 'macan', 'macana', 'macao', 'macco', 'mace', 'maceman', 'mack', 'mackle', 'macle', 'macled', 'maco', 'mad', 'madam', 'madame', 'madden', 'maddle', 'made', 'madman', 'mado', 'mae', 'maenad', 'maffle', 'mafoo', 'majo', 'majoon', 'makable', 'make', 'makedom', 'mako', 'mal', 'mala', 'malacon', 'malambo', 'male', 'malella', 'maleo', 'malfed', 'mall', 'malleable', 'malleal', 'mallee', 'malleolable', 'malm', 'malo', 'mamba', 'mambo', 'mamma', 'mammal', 'mammee', 'mammock', 'mammon', 'mammondom', 'mamo', 'man', 'mana', 'manacle', 'manal', 'mancono', 'mand', 'mandala', 'mandola', 'mandom', 'mane', 'maned', 'manjak', 'mank', 'manna', 'mannan', 'mano', 'manoc', 'mao', 'maomao', 'mbalolo', 'me', 'meable', 'mead', 'meak', 'meal', 'mealable', 'mealman', 'mean', 'meaned', 'mecon', 'medal', 'medaled', 'meddle', 'meddlecome', 'meece', 'meed', 'meek', 'meeken', 'mel', 'mela', 'melada', 'melam', 'melamed', 'melano', 'melanoma', 'meld', 'mele', 'melee', 'melena', 'melene', 'mell', 'mellon', 'melodeon', 'meloe', 'melomane', 'melon', 'mem', 'memo', 'men', 'menace', 'menaceable', 'menacme', 'menald', 'mend', 'mendable', 'mendee', 'mendole', 'menfolk', 'mennom', 'mneme', 'mo', 'moan', 'mob', 'mobable', 'mobbable', 'mobed', 'moble', 'mock', 'mockable', 'mockado', 'mocomoco', 'modal', 'mode', 'model', 'modena', 'moellon', 'moff', 'mojo', 'mokaddam', 'moke', 'moko', 'mola', 'molal', 'mold', 'moldable', 'moldmade', 'mole', 'molka', 'molland', 'molle', 'molman', 'momble', 'mome', 'momme', 'momo', 'mon', 'mona', 'monad', 'monadnock', 'monaene', 'monal', 'mone', 'monel', 'monk', 'monkdom', 'mono', 'monobloc', 'monocle', 'monocled', 'moo', 'mood', 'moodle', 'mool', 'moon', 'moonack', 'moonbeam', 'mooncalf', 'mooned', 'moonface', 'moonfaced', 'moonfall', 'moonja', 'moonman', 'n', 'na', 'naa', 'naam', 'nab', 'nabak', 'nabk', 'nabla', 'nable', 'nabob', 'nace', 'nacelle', 'nae', 'nael', 'nak', 'nake', 'naked', 'nako', 'nakoo', 'nam', 'namable', 'namda', 'name', 'nameable', 'nammad', 'nan', 'nana', 'nane', 'nankeen', 'ne', 'nea', 'neal', 'neb', 'neback', 'nebbed', 'nebel', 'neck', 'neckband', 'necked', 'necklace', 'necklaced', 'neckmold', 'nee', 'need', 'needle', 'needlebook', 'needled', 'needleman', 'neeld', 'neele', 'neem', 'nef', 'nema', 'neo', 'neodamode', 'neomodal', 'neon', 'no', 'noa', 'nob', 'nobble', 'noble', 'nobleman', 'nocake', 'nock', 'nod', 'nodal', 'noddle', 'node', 'noded', 'noel', 'noll', 'nolle', 'nolo', 'noma', 'nomad', 'nome', 'nomocanon', 'non', 'nonadecane', 'nonamendable', 'nonane', 'nonbankable', 'nonblack', 'nonblended', 'nonblockaded', 'nonblooded', 'noncallable', 'noncancellable', 'nonce', 'noncock', 'noncom', 'noncome', 'noncommendable', 'noncommonable', 'noncon', 'nonda', 'nondecadence', 'nondecane', 'nondemand', 'nondo', 'none', 'nonene', 'nonflammable', 'nonfocal', 'nonfood', 'nonleaded', 'nonlocal', 'nonmalleable', 'nonmodal', 'nonnoble', 'nonomad', 'noodle', 'noodledom', 'nook', 'nooked', 'noon', 'o', 'oadal', 'oaf', 'oafdom', 'oak', 'oaken', 'oam', 'oban', 'obe', 'oboe', 'obol', 'obole', 'ocean', 'oceaned', 'ock', 'oclock', 'od', 'oda', 'odal', 'odalman', 'odd', 'oddman', 'ode', 'odel', 'odeon', 'odoom', 'oe', 'oenomel', 'of', 'off', 'offal', 'offcome', 'offend', 'offendable', 'offended', 'offlook', 'oka', 'okee', 'olam', 'old', 'olden', 'oldland', 'oleana', 'olena', 'oleo', 'olla', 'ollock', 'olm', 'olomao', 'olona', 'om', 'omao', 'omen', 'omened', 'on', 'ona', 'onca', 'once', 'oncome', 'one', 'onefold', 'onfall', 'onflemed', 'onlook', 'oolak', 'oolemma']\n"
          ],
          "name": "stdout"
        }
      ]
    },
    {
      "cell_type": "code",
      "metadata": {
        "colab": {
          "base_uri": "https://localhost:8080/"
        },
        "id": "kJb5_wE-Q0s3",
        "outputId": "257d6b4e-8f07-4678-fc57-581c4b9ebbc1"
      },
      "source": [
        "wsj = sorted(set(nltk.corpus.treebank.words()))\n",
        "print([w for w in wsj if re.search('(ed|ing)$', w)])\n",
        "print([w for w in wsj if re.search('ed|ing$', w)])"
      ],
      "execution_count": null,
      "outputs": [
        {
          "output_type": "stream",
          "text": [
            "['62%-owned', 'Absorbed', 'According', 'Adopting', 'Advanced', 'Advancing', 'Alfred', 'Allied', 'Annualized', 'Anything', 'Arbitrage-related', 'Arbitraging', 'Asked', 'Assuming', 'Atlanta-based', 'Baking', 'Banking', 'Beginning', 'Beijing', 'Being', 'Bermuda-based', 'Betting', 'Boeing', 'Broadcasting', 'Bucking', 'Buying', 'Calif.-based', 'Change-ringing', 'Citing', 'Concerned', 'Confronted', 'Conn.based', 'Consolidated', 'Continued', 'Continuing', 'Declining', 'Defending', 'Depending', 'Designated', 'Determining', 'Developed', 'Died', 'During', 'Encouraged', 'Encouraging', 'English-speaking', 'Estimated', 'Everything', 'Excluding', 'Exxon-owned', 'Faulding', 'Fed', 'Feeding', 'Filling', 'Filmed', 'Financing', 'Following', 'Founded', 'Fracturing', 'Francisco-based', 'Fred', 'Funded', 'Funding', 'Generalized', 'Germany-based', 'Getting', 'Guaranteed', 'Having', 'Heating', 'Heightened', 'Holding', 'Housing', 'Illuminating', 'Indeed', 'Indexing', 'Irving', 'Jersey-based', 'Judging', 'Knowing', 'Learning', 'Legislating', 'Leming', 'Limited', 'London-based', 'Manfred', 'Manufacturing', 'Melamed', 'Miami-based', 'Mich.-based', 'Mining', 'Minneapolis-based', 'Mo.-based', 'Mortgage-Backed', 'Moving', 'Muzzling', 'N.J.-based', 'NBC-owned', 'NIH-appointed', 'Named', 'No-Smoking', 'Observing', 'Offering', 'Ohio-based', 'Orleans-based', 'Packaging', 'Performing', 'Philadelphia-based', 'Posted', 'Provided', 'Publishing', 'Purchasing', 'Rated', 'Reached', 'Red', 'Red-blooded', 'Reducing', 'Reed', 'Regarded', 'Rekindled', 'Related', 'Ringing', 'Rolling', 'Sacramento-based', 'Scoring', 'Seattle-based', 'Seed', 'Skilled', 'Smelting', 'Something', 'Spending', 'Standardized', 'Standing', 'Starting', 'Sterling', 'Taking', 'Texas-based', 'Toronto-based', 'Traded', 'Trading', 'Troubled', 'U.N.-supervised', 'U.S.-backed', 'United', 'Used', 'Varying', 'Washington-based', 'Whiting', 'Wilfred', 'Winning', 'Xiaoping', 'York-based', 'Zayed', 'abandoned', 'abating', 'abolishing', 'abortion-related', 'abounding', 'abridging', 'absorbed', 'acceded', 'accelerated', 'accepted', 'accepting', 'according', 'accounted', 'accounting', 'accrued', 'accumulated', 'accused', 'accusing', 'achieved', 'achieving', 'acknowledging', 'acquired', 'acquiring', 'acquisition-minded', 'acted', 'acting', 'adapted', 'adapting', 'added', 'adding', 'addressing', 'adjusted', 'adjusting', 'admitted', 'admitting', 'adopted', 'advanced', 'advancing', 'advertised', 'advertising', 'advised', 'advocated', 'advocating', 'affecting', 'afflicted', 'aggravated', 'agreed', 'agreeing', 'ailing', 'aimed', 'aiming', 'aired', 'airline-related', 'alarmed', 'alienated', 'alleged', 'alleging', 'allocated', 'allowed', 'altered', 'altering', 'amended', 'amending', 'amounted', 'amusing', 'angered', 'announced', 'annoyed', 'annualized', 'answered', 'anti-dumping', 'anticipated', 'anticipating', 'anything', 'apologizing', 'appealing', 'appeared', 'appearing', 'applied', 'appointed', 'approached', 'appropriated', 'approved', 'arched', 'argued', 'arguing', 'arising', 'armed', 'arranged', 'arrested', 'arrived', 'asbestos-related', 'asked', 'asking', 'assassinated', 'assembled', 'asserted', 'asserting', 'assessed', 'assigned', 'assisted', 'associated', 'assumed', 'assuming', 'assured', 'attached', 'attacking', 'attempted', 'attempting', 'attended', 'attending', 'attracted', 'attracting', 'attributed', 'auctioned', 'authorized', 'authorizing', 'automated', 'automotive-lighting', 'averaged', 'averted', 'avoiding', 'awarded', 'awarding', 'backed', 'backing', 'balanced', 'bald-faced', 'balkanized', 'balked', 'balloting', 'bank-backed', 'banking', 'banned', 'banning', 'barking', 'barred', 'based', 'battered', 'battery-operated', 'batting', 'bearing', 'becoming', 'bedding', 'befuddled', 'beginning', 'behaving', 'beheading', 'being', 'beleaguered', 'believed', 'bell-ringing', 'belonging', 'benefited', 'best-selling', 'betting', 'bickering', 'bidding', 'billed', 'billing', 'blamed', 'bled', 'blessing', 'blighted', 'blocked', 'blurred', 'boarding', 'bolstered', 'bombarding', 'booked', 'booming', 'boosted', 'boosting', 'borrowed', 'borrowing', 'botched', 'bothered', 'bounced', 'bowed', 'breaking', 'breathed', 'breathtaking', 'breed', 'bribed', 'bribing', 'briefing', 'brightened', 'bring', 'bringing', 'broad-based', 'broadcasting', 'broadened', 'brokering', 'brushed', 'budding', 'building', 'bundling', 'buoyed', 'burned', 'buying', 'calculated', 'called', 'calling', 'campaigning', 'cancer-causing', 'capitalized', 'capped', 'captivating', 'cared', 'carried', 'carrying', 'cascading', 'casting', 'caused', 'causing', 'cautioned', 'ceiling', 'centralized', 'certified', 'chaired', 'challenging', 'championing', 'change-ringing', 'changed', 'changing', 'characterized', 'characterizing', 'charged', 'charging', 'chastised', 'cheating', 'checking', 'cheerleading', 'chilled', 'choosing', 'chopped', 'circulated', 'cited', 'citing', 'citizen-sparked', 'city-owned', 'claimed', 'claiming', 'clamped', 'clarified', 'clashed', 'classed', 'classified', 'cleaned', 'cleaner-burning', 'cleared', 'clearing', 'clicked', 'climbed', 'climbing', 'clipped', 'clobbered', 'closed', 'closing', 'clothing', 'clouding', 'cluttered', 'co-founded', 'coaching', 'coal-fired', 'coated', 'codified', 'collaborated', 'collapsed', 'collected', 'collecting', 'collective-bargaining', 'colored', 'combined', 'coming', 'commanded', 'commenting', 'committed', 'committing', 'compared', 'compelling', 'competed', 'competing', 'compiled', 'complained', 'complaining', 'completed', 'completing', 'complicated', 'composed', 'composting', 'compressed', 'computer-aided', 'computer-assisted', 'computer-generated', 'computerized', 'computing', 'conceding', 'concentrated', 'concentrating', 'concerned', 'concluded', 'condemned', 'condemning', 'conducted', 'conducting', 'confined', 'confirmed', 'confused', 'connected', 'consented', 'considered', 'considering', 'consisting', 'construed', 'consulting', 'contacted', 'contained', 'containing', 'contesting', 'continued', 'continuing', 'contracted', 'contributed', 'contributing', 'controlled', 'controlling', 'converted', 'converting', 'convicted', 'convinced', 'cooled', 'cooperating', 'copied', 'copying', 'corn-buying', 'corrected', 'correcting', 'cost-cutting', 'cost-sharing', 'counseling', 'counting', 'coupled', 'court-ordered', 'covered', 'covering', 'cranked', 'crashing', 'created', 'creating', 'credit-rating', 'crippled', 'criticized', 'crossed', 'crossing', 'crowded', 'cruising', 'crushed', 'crying', 'cultivated', 'curbed', 'curbing', 'curled', 'current-carrying', 'curtailed', 'cushioned', 'customized', 'cutting', 'damaged', 'damaging', 'dancing', 'darned', 'dashed', 'dating', 'dead-eyed', 'dealing', 'decided', 'declared', 'declaring', 'declined', 'declining', 'decorated', 'decried', 'deducting', 'deemed', 'defeated', 'defended', 'defined', 'defying', 'delayed', 'deliberating', 'delisted', 'delivered', 'delivering', 'demanding', 'demonstrating', 'denied', 'denouncing', 'denying', 'depended', 'depending', 'depleted', 'depressed', 'deprived', 'derived', 'descending', 'described', 'deserving', 'designated', 'designed', 'designing', 'desired', 'despised', 'detailed', 'deteriorated', 'deteriorating', 'determined', 'deterring', 'devastating', 'developed', 'developing', 'devised', 'devoted', 'devouring', 'diagnosed', 'died', 'diluted', 'diming', 'diminished', 'directed', 'directing', 'disaffected', 'disagreed', 'disappointed', 'disappointing', 'disapproved', 'discarded', 'disciplined', 'disclosed', 'disclosing', 'discontinued', 'discontinuing', 'discouraging', 'discovered', 'discussed', 'discussing', 'disembodied', 'dismayed', 'dismissed', 'disposed', 'disputed', 'disseminating', 'distinguished', 'distorted', 'distributed', 'disturbing', 'diversified', 'diversifying', 'divided', 'dividing', 'documented', 'doing', 'doling', 'dollar-denominated', 'dominated', 'dominating', 'doubled', 'doubted', 'downgraded', 'downgrading', 'drafted', 'drawing', 'dreamed', 'dressed', 'drifted', 'drinking', 'driving', 'drooled', 'dropped', 'dubbed', 'duckling', 'dumbfounded', 'dumped', 'during', 'dwindling', 'earned', 'earning', 'eased', 'easing', 'eating', 'echoed', 'edged', 'editing', 'educated', 'elected', 'eliminated', 'eliminating', 'embarrassing', 'embroiled', 'emerged', 'emerging', 'emphasized', 'employed', 'empowered', 'enabled', 'enabling', 'enacted', 'encircling', 'enclosed', 'encouraging', 'encroaching', 'ended', 'ending', 'endorsed', 'engaged', 'engaging', 'engineered', 'engineering', 'enhanced', 'enjoyed', 'enjoying', 'enlarged', 'enraged', 'ensnarled', 'entangled', 'entered', 'entering', 'entertaining', 'enticed', 'entitled', 'entrenched', 'entrusted', 'equaling', 'equipped', 'escalated', 'escaped', 'established', 'establishing', 'estimated', 'evaluated', 'evaluating', 'evaporated', 'evening', 'everything', 'evoking', 'evolved', 'exacerbated', 'examined', 'exceed', 'exceeded', 'exceeding', 'exchanging', 'excited', 'exciting', 'executed', 'executing', 'exercised', 'exerting', 'exhausted', 'exhibited', 'existed', 'existing', 'expanded', 'expanding', 'expected', 'expecting', 'expedited', 'expelled', 'experienced', 'experiencing', 'expired', 'explained', 'explaining', 'exploded', 'export-oriented', 'exposed', 'expressed', 'expressing', 'expunged', 'extended', 'extending', 'exuded', 'eyeing', 'fabled', 'faced', 'facing', 'factoring', 'faded', 'failed', 'failing', 'fainting', 'falling', 'faltered', 'famed', 'family-planning', 'fared', 'fashioned', 'fast-growing', 'fastest-growing', 'fattened', 'favored', 'fawning', 'feared', 'featured', 'featuring', 'fed', 'feed', 'feeling', 'fetching', 'fielded', 'fighting', 'filed', 'filing', 'filled', 'filling', 'finalized', 'financed', 'financing', 'finding', 'fined', 'finished', 'fired', 'firmed', 'fixed', 'fizzled', 'fled', 'fledgling', 'fleeting', 'flirted', 'floated', 'flooded', 'focused', 'focusing', 'folded', 'followed', 'following', 'forced', 'forcing', 'forecasting', 'foreign-led', 'formed', 'forthcoming', 'founded', 'foundering', 'fretted', 'frightened', 'frustrating', 'fueled', 'fueling', 'full-fledged', 'fuming', 'functioning', 'funded', 'funding', 'fundraising', 'futures-related', 'gained', 'gaining', 'galling', 'galvanized', 'gambling', 'gauging', 'generated', 'getting', 'giving', 'going', 'good-hearted', 'good-natured', 'gored', 'government-certified', 'government-funded', 'government-owned', 'graduated', 'granted', 'granting', 'greed', 'gripping', 'growing', 'guaranteed', 'guarding', 'guided', 'gut-wrenching', 'hailed', 'hailing', 'halted', 'hampered', 'handed', 'handled', 'handling', 'happened', 'happening', 'hard-charging', 'hard-drinking', 'hard-hitting', 'harmed', 'harped', 'harvested', 'hauled', 'hauling', 'having', 'headed', 'heading', 'headlined', 'healing', 'hearing', 'heated', 'heating', 'hedging', 'heightened', 'helped', 'helping', 'high-flying', 'high-minded', 'high-polluting', 'high-priced', 'high-rolling', 'high-speed', 'higher-salaried', 'highest-pitched', 'hired', 'hitting', 'holding', 'hoped', 'hosted', 'housing', 'hugging', 'hundred', 'hunted', 'hurting', 'identified', 'ignored', 'ignoring', 'impaired', 'impeding', 'impending', 'implemented', 'implied', 'imported', 'imposed', 'imposing', 'impressed', 'improved', 'improving', 'incentive-backed', 'inched', 'inching', 'included', 'including', 'incorporated', 'increased', 'increasing', 'incurred', 'indeed', 'index-related', 'indicated', 'indicating', 'indulging', 'industrialized', 'industry-supported', 'inflated', 'influenced', 'influencing', 'infringed', 'inherited', 'initialing', 'initiated', 'initiating', 'injecting', 'injuring', 'inkling', 'inquiring', 'inserted', 'insider-trading', 'insinuating', 'insisted', 'inspired', 'installed', 'installing', 'instituted', 'instructed', 'insured', 'integrated', 'intended', 'intentioned', 'interest-bearing', 'interested', 'interesting', 'interrogated', 'interviewed', 'intriguing', 'introduced', 'introducing', 'invented', 'inverted', 'invested', 'investigating', 'investing', 'inviting', 'involved', 'involving', 'issued', 'issuing', 'jeopardizing', 'joined', 'joining', 'judged', 'jumped', 'jumping', 'justified', 'justifying', 'keeping', 'kicked', 'kidnapping', 'killed', 'killing', 'knitted', 'knocked', 'labeled', 'labeling', 'labor-backed', 'lacked', 'lagging', 'land-idling', 'landing', 'lasted', 'lasting', 'lauded', 'laughing', 'launched', 'lawmaking', 'laying', 'leading', 'learned', 'learning', 'leasing', 'leaving', 'led', 'lending', 'lengthened', 'lessening', 'letter-writing', 'letting', 'leveling', 'leveraged', 'leveraging', 'licensed', 'licensing', 'lifted', 'lifting', 'limited', 'limiting', 'limping', 'linked', 'liquidated', 'listed', 'listing', 'living', 'loaded', 'loading', 'located', 'locked', 'long-tenured', 'longstanding', 'looked', 'looking', 'looming', 'losing', 'loved', 'low-priced', 'lower-priced', 'lowered', 'lowering', 'lying', 'machine-gun-toting', 'magnified', 'mailed', 'mailing', 'maintained', 'maintaining', 'making', 'male-dominated', 'managed', 'managing', 'manufactured', 'manufacturing', 'marching', 'market-based', 'market-oriented', 'marketed', 'marketing', 'matched', 'matching', 'materialized', 'mating', 'maturing', 'meaning', 'measured', 'meatpacking', 'medium-sized', 'meeting', 'melt-textured', 'mentioned', 'merchandising', 'merged', 'merger-related', 'midsized', 'milked', 'mind-boggling', 'mining', 'minority-owned', 'minted', 'mired', 'missed', 'mixed', 'mobilizing', 'moderated', 'mollified', 'money-losing', 'monied', 'morale-damaging', 'more-advanced', 'morning', 'mortgage-backed', 'mortgage-based', 'mortgaged', 'mounted', 'moved', 'moving', 'mudslinging', 'muffled', 'mulling', 'multiplying', 'murdered', 'muscling', 'muted', 'muzzling', 'named', 'naming', 'narrowed', 'need', 'needed', 'needing', 'negotiated', 'negotiating', 'neighboring', 'networking', 'newspaper-printing', 'nominated', 'non-encapsulating', 'nonrecurring', 'notched', 'noted', 'nothing', 'noticed', 'noticing', 'notified', 'noting', 'notwithstanding', 'nullified', 'numbered', 'nurtured', 'obligated', 'observed', 'obsessed', 'obtained', 'obtaining', 'occupying', 'occurred', 'odd-sounding', 'offending', 'offered', 'offering', 'offsetting', 'old-fashioned', 'omitted', 'ongoing', 'opened', 'opening', 'operated', 'operating', 'opposed', 'orchestrated', 'ordered', 'ordering', 'organized', 'oriented', 'outdistanced', 'outlawed', 'outlawing', 'outnumbered', 'outpaced', 'outraged', 'outstanding', 'overcrowding', 'overleveraged', 'overpaying', 'overpriced', 'overriding', 'overstated', 'overused', 'overvalued', 'owed', 'owned', 'owning', 'packaging', 'packed', 'painted', 'painting', 'parched', 'parking', 'participated', 'parts-engineering', 'passed', 'passing', 'patented', 'paying', 'peaked', 'pealing', 'peddling', 'pegged', 'pending', 'perceived', 'performed', 'performing', 'permitted', 'permitting', 'phasing', 'photocopying', 'picked', 'picking', 'pinning', 'pitting', 'placed', 'placing', 'plagued', 'planned', 'planning', 'planted', 'planting', 'played', 'playing', 'pleaded', 'pleased', 'pledged', 'plugged', 'plummeted', 'plunged', 'plunging', 'pointed', 'pointing', 'polarized', 'policy-making', 'polled', 'populated', 'portrayed', 'posing', 'positioned', 'possessed', 'post-hearing', 'posted', 'posting', 'postponed', 'poured', 'practiced', 'practicing', 'praised', 'pre-approved', 'pre-cooked', 'pre-existing', 'preapproved', 'predicated', 'predicted', 'predicting', 'preferred', 'prepared', 'presented', 'preserving', 'pressed', 'pressing', 'pressured', 'prevailing', 'preventing', 'price-depressing', 'priced', 'pricing', 'printed', 'privileged', 'processing', 'produced', 'producing', 'profit-taking', 'profited', 'program-trading', 'programming', 'prohibited', 'prohibiting', 'prolonged', 'promised', 'promising', 'promoting', 'prompted', 'propelling', 'proposed', 'proposing', 'prosecuted', 'prosecuting', 'protected', 'protecting', 'protracted', 'proved', 'provided', 'providing', 'proving', 'provoked', 'prying', 'publicized', 'published', 'publishing', 'pulled', 'pulling', 'pumping', 'punishing', 'purchased', 'purchasing', 'purhasing', 'pursued', 'pushed', 'pushing', 'putting', 'puzzled', 'qualified', 'quashing', 'questioned', 'queuing', 'quipped', 'quitting', 'quoted', 'quoting', 'raced', 'racing', 'railing', 'raised', 'raising', 'rallying', 'ranged', 'ranging', 'ranked', 'rarefied', 'raring', 'ratcheting', 'rated', 'ratified', 'rating', 'rationed', 'reached', 'reaching', 'reacted', 'reading', 'reaffirmed', 'realized', 'reallocated', 'reaped', 'reaping', 'reasoning', 'reassuring', 'rebounding', 'rebuffed', 'rebuilding', 'rebuked', 'recalling', 'received', 'receiving', 'recession-inspired', 'reciting', 'reclaimed', 'recognizing', 'recommended', 'recommending', 'record-keeping', 'recorded', 'recouped', 'recovered', 'recovering', 'recruited', 'recruiting', 'rectified', 'recycled', 'red', 'redeemed', 'redeeming', 'redistributing', 'reduced', 'reducing', 'reeling', 'referred', 'referring', 'refitting', 'reflected', 'reflecting', 'refocusing', 'refreshing', 'refunded', 'refunding', 'refused', 'regarded', 'regarding', 'regimented', 'registered', 'regulated', 'regulating', 'reimbursed', 'reinstating', 'rejected', 'related', 'relating', 'relaunched', 'released', 'relegated', 'relied', 'relieved', 'remained', 'remaining', 'remarked', 'reminded', 'remodeling', 'removed', 'removing', 'rendering', 'renewed', 'renewing', 'renovated', 'reopened', 'reorganized', 'repaired', 'replaced', 'replacing', 'replicated', 'replicating', 'reported', 'reporting', 'represented', 'representing', 'repriced', 'requested', 'requesting', 'required', 'requiring', 'rescheduled', 'researching', 'reserved', 'reshaping', 'resigned', 'resigning', 'resisting', 'resolved', 'respected', 'responded', 'responding', 'restored', 'restricting', 'restructured', 'restructuring', 'resulted', 'resulting', 'retailing', 'retained', 'retaining', 'retaliating', 'retired', 'retiring', 'retraced', 'returned', 'returning', 'reversed', 'reviewed', 'reviewing', 'revised', 'revising', 'revived', 'rewarding', 'riding', 'rigged', 'ring', 'ringing', 'rising', 'robbed', 'rolled', 'rolling', 'romanticized', 'rooted', 'ruled', 'ruling', 'rumored', 'running', 'rushed', 'rusted', 'sacked', 'sacrificing', 'safeguarding', 'sagged', 'sagging', 'satisfying', 'saved', 'saving', 'saying', 'scared', 'scaring', 'scattered', 'scheduled', 'school-sponsored', 'scrambled', 'scrambling', 'scrapped', 'screened', 'screwed', 'scrutinizing', 'searched', 'searching', 'seasoned', 'secured', 'securities-based', 'seeing', 'seeking', 'seemed', 'segmenting', 'seized', 'selected', 'self-aggrandizing', 'self-perpetuating', 'self-serving', 'selling', 'sending', 'sentencing', 'served', 'serviced', 'servicing', 'serving', 'setting', 'settled', 'shaded', 'shaping', 'shared', 'shed', 'shedding', 'shipbuilding', 'shipped', 'shipping', 'shirt-sleeved', 'shopped', 'shopping', 'shoring', 'short-lived', 'showed', 'showing', 'shrinking', 'signaling', 'signed', 'signifying', 'signing', 'single-handed', 'singled', 'sitting', 'sketching', 'skidded', 'skilled', 'skipped', 'skyrocketed', 'slashing', 'slated', 'slaying', 'sleeping', 'sliding', 'slipped', 'slowed', 'slowing', 'smattering', 'smoking', 'smothering', 'snaking', 'snapped', 'sneaked', 'so-called', 'soared', 'soaring', 'softening', 'soliciting', 'solved', 'something', 'sometimes-exhausting', 'sophisticated', 'sorting', 'sounded', 'sounding', 'soured', 'sparing', 'sparked', 'sparking', 'speaking', 'specialized', 'specializing', 'specified', 'speculated', 'speculating', 'speed', 'spending', 'spilling', 'spooked', 'sports-oriented', 'spotted', 'sprawling', 'spring', 'spurned', 'spurred', 'spurring', 'sputtered', 'squeezed', 'stabbed', 'stacked', 'stacking', 'staggering', 'standardized', 'standing', 'started', 'starting', 'startling', 'state-appointed', 'state-owned', 'state-supervised', 'stated', 'stayed', 'staying', 'stemmed', 'stemming', 'stepped', 'stepping', 'stereotyped', 'sterling', 'sticking', 'stimulated', 'stimulating', 'stirred', 'stock-picking', 'stoked', 'stopped', 'stored', 'strapped', 'strengthened', 'stressed', 'stressing', 'stretched', 'stretching', 'striking', 'string', 'stripped', 'striving', 'strong-willed', 'structured', 'struggled', 'struggling', 'studied', 'studying', 'stunned', 'subdued', 'subjecting', 'subordinated', 'subpoenaed', 'substance-abusing', 'succeed', 'succeeded', 'succeeding', 'sued', 'suffered', 'suffering', 'suggested', 'suing', 'summoned', 'superimposed', 'supported', 'surfaced', 'surged', 'surprised', 'surprising', 'surrendered', 'surrounding', 'surveyed', 'surviving', 'suspended', 'sustained', 'swapped', 'swapping', 'sweeping', 'sweetened', 'swelling', 'swing', 'switched', 'synchronized', 'tailored', 'tailoring', 'taking', 'talked', 'talking', 'tanked', 'tapping', 'targeted', 'targeting', 'teaching', 'teetering', 'telling', 'tempted', 'tendered', 'tendering', 'termed', 'terminated', 'test-coaching', 'tested', 'testing', 'thin-lipped', 'thing', 'thinking', 'thirtysomething', 'threatened', 'thumbing', 'tie-breaking', 'tied', 'tightened', 'tightening', 'timing', 'tired', 'top-selling', 'top-yielding', 'topped', 'totaled', 'totaling', 'touched', 'touted', 'traced', 'tracked', 'tracking', 'traded', 'trading', 'trafficking', 'trailed', 'trained', 'training', 'transacting', 'transferring', 'transformed', 'transforming', 'transporting', 'travel-related', 'traveled', 'traveling', 'treated', 'treating', 'tried', 'triggered', 'trimmed', 'trimming', 'triple-A-rated', 'tripled', 'troubled', 'truth-in-lending', 'trying', 'tumbled', 'turned', 'turning', 'twinned', 'twisting', 'two-tiered', 'unabated', 'unaffiliated', 'unanticipated', 'unauthorized', 'unchanged', 'uncharted', 'uncompensated', 'uncomplaining', 'unconsolidated', 'undelivered', 'undercutting', 'undergoing', 'underlying', 'underperforming', 'underprivileged', 'understanding', 'undertaking', 'undisclosed', 'unenticing', 'unexpected', 'unfettered', 'unfilled', 'unfocused', 'unfounded', 'unfunded', 'unimpeded', 'unjustified', 'unlabeled', 'unleashed', 'unloaded', 'unmarked', 'unneeded', 'unpublished', 'unraveling', 'unrealized', 'unresolved', 'unrestricted', 'unsecured', 'unsettled', 'unsettling', 'unsolicited', 'unspecified', 'unstinting', 'untrained', 'unveiled', 'unwanted', 'unwashed', 'unwilling', 'upsetting', 'urged', 'urging', 'used', 'ushered', 'ushering', 'using', 'uttering', 'valued', 'varied', 'varying', 'ventilated', 'vested', 'video-viewing', 'viewed', 'viewing', 'violated', 'violating', 'visited', 'visiting', 'voted', 'voting', 'vowed', 'waited', 'waiting', 'waived', 'waiving', 'walking', 'wallowing', 'wanted', 'wanting', 'war-damaged', 'war-rationed', 'warehousing', 'warming', 'warned', 'warning', 'wasted', 'watched', 'watching', 'weakening', 'wedded', 'weighed', 'weighing', 'welcomed', 'well-connected', 'when-issued', 'whipping', 'whirling', 'willing', 'winding', 'wine-buying', 'wine-making', 'winning', 'wooing', 'word-processing', 'worked', 'working', 'worried', 'worrying', 'worsening', 'wrecking', 'wrenching', 'wrestling', 'writing', 'wrongdoing', 'yen-denominated', 'yet-to-be-formed', 'yielded', 'yielding', 'yttrium-containing', 'zoomed']\n",
            "['62%-owned', 'Absorbed', 'According', 'Adopting', 'Advanced', 'Advancing', 'Alfred', 'Allied', 'Annualized', 'Anything', 'Arbitrage-related', 'Arbitraging', 'Asked', 'Assuming', 'Atlanta-based', 'Baking', 'Banking', 'Beginning', 'Beijing', 'Being', 'Bermuda-based', 'Betting', 'Biedermann', 'Boeing', 'Breeden', 'Broadcasting', 'Bucking', 'Buying', 'Calif.-based', 'Cathedral', 'Cedric', 'Change-ringing', 'Citing', 'Concerned', 'Confederation', 'Confronted', 'Conn.based', 'Consolidated', 'Continued', 'Continuing', 'Credit', 'Declining', 'Defending', 'Depending', 'Designated', 'Determining', 'Developed', 'Died', 'During', 'Encouraged', 'Encouraging', 'English-speaking', 'Estimated', 'Everything', 'Excluding', 'Exxon-owned', 'Faulding', 'Fed', 'Federal', 'Federalist', 'Federation', 'Feeding', 'Filling', 'Filmed', 'Financing', 'Following', 'Founded', 'Fracturing', 'Francisco-based', 'Fred', 'Freddie', 'Frederick', 'Friedrichs', 'Funded', 'Funding', 'Generalized', 'Germany-based', 'Getting', 'Guaranteed', 'Having', 'Heating', 'Heightened', 'Holding', 'Housing', 'Illuminating', 'Impediments', 'Indeed', 'Indexing', 'Intermediate', 'Irving', 'Jersey-based', 'Judging', 'Kennedy', 'Knowing', 'Learning', 'Legislating', 'Leming', 'Limited', 'London-based', 'Manfred', 'Manufacturing', 'Media', 'Medical', 'Medicine', 'Melamed', 'Mercedes', 'Miami-based', 'Mich.-based', 'Mining', 'Minneapolis-based', 'Mo.-based', 'Montedison', 'Mortgage-Backed', 'Moving', 'Muzzling', 'N.J.-based', 'NBC-owned', 'NIH-appointed', 'Named', 'Nederlanden', 'Needham', 'No-Smoking', 'Observing', 'Offering', 'Ohio-based', 'Orleans-based', 'Packaging', 'Performing', 'Philadelphia-based', 'Posted', 'Proceeds', 'Provided', 'Publishing', 'Purchasing', 'Rated', 'Reached', 'Red', 'Red-blooded', 'Reddington', 'Redevelopment', 'Reducing', 'Reed', 'Regarded', 'Rekindled', 'Related', 'Ringing', 'Roederer', 'Rolling', 'Sacramento-based', 'Scoring', 'Seattle-based', 'Seed', 'Skilled', 'Smelting', 'Something', 'Speedway', 'Spending', 'Standardized', 'Standing', 'Starting', 'Sterling', 'Sweden', 'Taking', 'Teddy', 'Texas-based', 'Toledo', 'Toronto-based', 'Traded', 'Trading', 'Troubled', 'U.N.-supervised', 'U.S.-backed', 'United', 'Used', 'Varying', 'Washington-based', 'Wednesday', 'Wedtech', 'Whiting', 'Wilfred', 'Winning', 'Xiaoping', 'York-based', 'Zayed', 'abandoned', 'abating', 'abolishing', 'abortion-related', 'abounding', 'abridging', 'absorbed', 'acceded', 'accelerated', 'accepted', 'accepting', 'according', 'accounted', 'accounting', 'accrued', 'accumulated', 'accused', 'accusing', 'achieved', 'achieving', 'acknowledge', 'acknowledges', 'acknowledging', 'acquired', 'acquiring', 'acquisition-minded', 'acted', 'acting', 'adapted', 'adapting', 'added', 'adding', 'addressing', 'adjusted', 'adjusting', 'admitted', 'admitting', 'adopted', 'advanced', 'advancing', 'advertised', 'advertising', 'advised', 'advocated', 'advocating', 'affecting', 'afflicted', 'aggravated', 'agreed', 'agreed-upon', 'agreeing', 'ailing', 'aimed', 'aiming', 'aired', 'airline-related', 'alarmed', 'alienated', 'alleged', 'allegedly', 'alleging', 'allocated', 'allowed', 'altered', 'altering', 'amended', 'amending', 'amounted', 'amusing', 'angered', 'announced', 'annoyed', 'annualized', 'answered', 'anti-dumping', 'anticipated', 'anticipating', 'anything', 'apologizing', 'appealing', 'appeared', 'appearing', 'applied', 'appointed', 'approached', 'appropriated', 'approved', 'arched', 'argued', 'arguing', 'arising', 'armed', 'arranged', 'arrested', 'arrived', 'asbestos-related', 'asked', 'asking', 'assassinated', 'assembled', 'asserted', 'asserting', 'assessed', 'assigned', 'assisted', 'associated', 'assumed', 'assuming', 'assured', 'attached', 'attacking', 'attempted', 'attempting', 'attended', 'attending', 'attracted', 'attracting', 'attributed', 'auctioned', 'authorized', 'authorizing', 'automated', 'automotive-lighting', 'averaged', 'averted', 'avoiding', 'awarded', 'awarding', 'backed', 'backing', 'balanced', 'bald-faced', 'balkanized', 'balked', 'balloting', 'bank-backed', 'banking', 'banned', 'banning', 'barking', 'barred', 'based', 'battered', 'battery-operated', 'batting', 'bearing', 'becoming', 'bedding', 'beds', 'befuddled', 'beginning', 'behaving', 'beheading', 'being', 'beleaguered', 'believed', 'bell-ringing', 'belonging', 'benefited', 'best-selling', 'betting', 'bickering', 'bidding', 'billed', 'billing', 'blamed', 'bled', 'blessing', 'blighted', 'blocked', 'blurred', 'boarding', 'bolstered', 'bombarding', 'booked', 'booming', 'boosted', 'boosting', 'borrowed', 'borrowing', 'botched', 'bothered', 'bounced', 'bowed', 'breaking', 'breathed', 'breathtaking', 'breed', 'bribed', 'bribing', 'briefing', 'brightened', 'bring', 'bringing', 'broad-based', 'broadcasting', 'broadened', 'brokering', 'brushed', 'budding', 'building', 'bundling', 'buoyed', 'burned', 'buttoned-down', 'buying', 'calculated', 'called', 'calling', 'campaigning', 'cancer-causing', 'capitalized', 'capped', 'captivating', 'cared', 'carried', 'carrying', 'cascading', 'casting', 'caused', 'causing', 'cautioned', 'ceiling', 'centralized', 'certified', 'chaired', 'challenging', 'championing', 'change-ringing', 'changed', 'changing', 'characterized', 'characterizing', 'charged', 'charging', 'chastised', 'cheating', 'checking', 'cheerleading', 'chilled', 'choosing', 'chopped', 'circulated', 'cited', 'citing', 'citizen-sparked', 'city-owned', 'claimed', 'claiming', 'clamped', 'clarified', 'clashed', 'classed', 'classified', 'cleaned', 'cleaner-burning', 'cleared', 'clearing', 'clicked', 'climbed', 'climbing', 'clipped', 'clobbered', 'closed', 'closed-end', 'closing', 'clothing', 'clouding', 'cluttered', 'co-founded', 'coaching', 'coal-fired', 'coated', 'codified', 'collaborated', 'collapsed', 'collected', 'collecting', 'collective-bargaining', 'colored', 'combined', 'comedies', 'coming', 'commanded', 'commenting', 'committed', 'committing', 'compared', 'compelling', 'competed', 'competing', 'compiled', 'complained', 'complaining', 'completed', 'completing', 'complicated', 'composed', 'composting', 'compressed', 'computer-aided', 'computer-assisted', 'computer-generated', 'computerized', 'computing', 'concede', 'concedes', 'conceding', 'concentrated', 'concentrating', 'concerned', 'concluded', 'condemned', 'condemning', 'conducted', 'conducting', 'confined', 'confirmed', 'confused', 'connected', 'consented', 'considered', 'considering', 'consisting', 'construed', 'consulting', 'contacted', 'contained', 'containing', 'contesting', 'continued', 'continuing', 'contracted', 'contributed', 'contributing', 'controlled', 'controlling', 'converted', 'converting', 'convicted', 'convinced', 'cooled', 'cooperating', 'copied', 'copying', 'corn-buying', 'corrected', 'correcting', 'cost-cutting', 'cost-sharing', 'counseling', 'counting', 'coupled', 'court-ordered', 'covered', 'covering', 'cranked', 'crashing', 'created', 'creating', 'credentials', 'credibility', 'credit', 'credit-rating', 'creditor', 'creditors', 'credits', 'creditworthiness', 'crippled', 'criticized', 'crossed', 'crossing', 'crowded', 'cruising', 'crushed', 'crying', 'cultivated', 'curbed', 'curbing', 'curled', 'current-carrying', 'curtailed', 'cushioned', 'customized', 'cutting', 'damaged', 'damaging', 'dancing', 'darned', 'dashed', 'dating', 'dead-eyed', 'dealing', 'decided', 'declared', 'declaring', 'declined', 'declining', 'decorated', 'decried', 'deducting', 'deeds', 'deemed', 'defeated', 'defended', 'defined', 'defying', 'delayed', 'deliberating', 'delisted', 'delivered', 'delivering', 'demanding', 'demonstrating', 'denied', 'denouncing', 'denying', 'depended', 'depending', 'depleted', 'depressed', 'deprived', 'derived', 'descending', 'described', 'deserving', 'designated', 'designed', 'designing', 'desired', 'despised', 'detailed', 'deteriorated', 'deteriorating', 'determined', 'deterring', 'devastating', 'developed', 'developing', 'devised', 'devoted', 'devouring', 'diagnosed', 'died', 'diluted', 'diming', 'diminished', 'directed', 'directing', 'disaffected', 'disagreed', 'disappointed', 'disappointing', 'disapproved', 'discarded', 'disciplined', 'disclosed', 'disclosing', 'discontinued', 'discontinuing', 'discouraging', 'discovered', 'discredit', 'discussed', 'discussing', 'disembodied', 'dismayed', 'dismissed', 'disposed', 'disputed', 'disseminating', 'distinguished', 'distorted', 'distributed', 'disturbing', 'diversified', 'diversifying', 'divided', 'dividing', 'documented', 'doing', 'doling', 'dollar-denominated', 'dominated', 'dominating', 'doubled', 'doubted', 'downgraded', 'downgrading', 'drafted', 'drawing', 'dreamed', 'dressed', 'drifted', 'drinking', 'driving', 'drooled', 'dropped', 'dubbed', 'duckling', 'dumbfounded', 'dumped', 'during', 'dwindling', 'earned', 'earning', 'eased', 'easing', 'eating', 'echoed', 'edged', 'editing', 'edition', 'editions', 'editor', 'editorial', 'editorially', 'editors', 'educated', 'education', 'educational', 'educators', 'elected', 'eliminated', 'eliminating', 'embarrassing', 'embroiled', 'emerged', 'emerging', 'emphasized', 'employed', 'empowered', 'enabled', 'enabling', 'enacted', 'encircling', 'enclosed', 'encouraging', 'encroaching', 'ended', 'ending', 'endorsed', 'engaged', 'engaging', 'engineered', 'engineering', 'enhanced', 'enjoyed', 'enjoying', 'enlarged', 'enraged', 'ensnarled', 'entangled', 'entered', 'entering', 'entertaining', 'enticed', 'entitled', 'entrenched', 'entrusted', 'equaling', 'equipped', 'escalated', 'escaped', 'established', 'establishing', 'estimated', 'evaluated', 'evaluating', 'evaporated', 'evening', 'everything', 'evoking', 'evolved', 'exacerbated', 'examined', 'exceed', 'exceeded', 'exceeding', 'exceedingly', 'exceeds', 'exchanging', 'excited', 'exciting', 'executed', 'executing', 'exercised', 'exerting', 'exhausted', 'exhibited', 'existed', 'existing', 'expanded', 'expanding', 'expected', 'expecting', 'expedited', 'expelled', 'experienced', 'experiencing', 'expired', 'explained', 'explaining', 'exploded', 'export-oriented', 'exposed', 'expressed', 'expressing', 'expunged', 'extended', 'extending', 'exuded', 'eyeing', 'fabled', 'faced', 'facing', 'factoring', 'faded', 'failed', 'failing', 'fainting', 'falling', 'faltered', 'famed', 'family-planning', 'fared', 'fashioned', 'fast-growing', 'fastest-growing', 'fattened', 'favored', 'fawning', 'feared', 'featured', 'featuring', 'fed', 'federal', 'federally', 'feed', 'feeds', 'feeling', 'fetching', 'fielded', 'fighting', 'filed', 'filing', 'filled', 'filling', 'finalized', 'financed', 'financing', 'finding', 'fined', 'finished', 'fired', 'firmed', 'fixed', 'fixed-income', 'fixed-price', 'fixed-rate', 'fizzled', 'fled', 'fledgling', 'fleeting', 'flirted', 'floated', 'flooded', 'focused', 'focusing', 'folded', 'followed', 'following', 'forced', 'forcing', 'forecasting', 'foreign-led', 'formed', 'forthcoming', 'founded', 'foundering', 'freedom', 'freedoms', 'fretted', 'frightened', 'frustrating', 'fueled', 'fueling', 'full-fledged', 'fuming', 'functioning', 'funded', 'funding', 'fundraising', 'futures-related', 'gained', 'gaining', 'galling', 'galvanized', 'gambling', 'gauging', 'generated', 'getting', 'giving', 'going', 'good-hearted', 'good-natured', 'gored', 'government-certified', 'government-funded', 'government-owned', 'graduated', 'granted', 'granting', 'greed', 'greedy', 'gripping', 'growing', 'guaranteed', 'guarding', 'guided', 'gut-wrenching', 'hailed', 'hailing', 'halted', 'hampered', 'handed', 'handled', 'handling', 'happened', 'happening', 'hard-charging', 'hard-drinking', 'hard-hitting', 'harmed', 'harped', 'harvested', 'hauled', 'hauling', 'having', 'headed', 'heading', 'headlined', 'healing', 'hearing', 'heated', 'heating', 'hedging', 'heightened', 'helped', 'helping', 'high-flying', 'high-minded', 'high-polluting', 'high-priced', 'high-rolling', 'high-speed', 'higher-salaried', 'highest-pitched', 'hired', 'hitting', 'holding', 'hoped', 'hosted', 'housing', 'hugging', 'hundred', 'hundreds', 'hunted', 'hurting', 'identified', 'ignored', 'ignoring', 'immediate', 'immediately', 'impaired', 'impede', 'impeding', 'impending', 'implemented', 'implied', 'imported', 'imposed', 'imposing', 'impressed', 'improved', 'improving', 'incentive-backed', 'inched', 'inching', 'included', 'including', 'incorporated', 'increased', 'increasing', 'incredible', 'incurred', 'indeed', 'index-related', 'indicated', 'indicating', 'indulging', 'industrialized', 'industry-supported', 'inflated', 'influenced', 'influencing', 'infringed', 'ingredients', 'inherited', 'initialing', 'initiated', 'initiating', 'injecting', 'injuring', 'inkling', 'inquiring', 'inserted', 'insider-trading', 'insinuating', 'insisted', 'inspired', 'installed', 'installing', 'instituted', 'instructed', 'insured', 'integrated', 'intended', 'intentioned', 'interest-bearing', 'interested', 'interesting', 'intermediate', 'interrogated', 'interviewed', 'intriguing', 'introduced', 'introducing', 'invented', 'inverted', 'invested', 'investigating', 'investing', 'inviting', 'involved', 'involving', 'issued', 'issuing', 'jeopardizing', 'joined', 'joining', 'judged', 'jumped', 'jumping', 'justified', 'justifying', 'keeping', 'kicked', 'kidnapping', 'killed', 'killing', 'knitted', 'knocked', 'knowledge', 'knowledgeable', 'labeled', 'labeling', 'labor-backed', 'lacked', 'lagging', 'land-idling', 'landing', 'lasted', 'lasting', 'lauded', 'laughing', 'launched', 'lawmaking', 'laying', 'leading', 'learned', 'learning', 'leasing', 'leaving', 'led', 'lending', 'lengthened', 'lessening', 'letter-writing', 'letting', 'leveling', 'leveraged', 'leveraging', 'licensed', 'licensing', 'lifted', 'lifting', 'limited', 'limited-partnership', 'limiting', 'limping', 'linked', 'liquidated', 'listed', 'listing', 'living', 'loaded', 'loading', 'located', 'locked', 'long-tenured', 'longstanding', 'looked', 'looking', 'looming', 'losing', 'loved', 'low-priced', 'lower-priced', 'lowered', 'lowering', 'lying', 'machine-gun-toting', 'magnified', 'mailed', 'mailing', 'maintained', 'maintaining', 'making', 'male-dominated', 'managed', 'managing', 'manufactured', 'manufacturing', 'marching', 'market-based', 'market-oriented', 'marketed', 'marketing', 'matched', 'matching', 'materialized', 'mating', 'maturing', 'meaning', 'measured', 'meatpacking', 'medallions', 'media', 'medical', 'medicine', 'mediocre', 'medium-sized', 'meeting', 'melt-textured', 'mentioned', 'merchandising', 'merged', 'merger-related', 'midsized', 'milked', 'mind-boggling', 'mining', 'minority-owned', 'minted', 'mired', 'missed', 'mixed', 'mobilizing', 'moderated', 'mollified', 'money-losing', 'monied', 'morale-damaging', 'more-advanced', 'morning', 'mortgage-backed', 'mortgage-based', 'mortgaged', 'mounted', 'moved', 'moving', 'mudslinging', 'muffled', 'mulling', 'multiplying', 'murdered', 'muscling', 'muted', 'muzzling', 'named', 'naming', 'narrowed', 'need', 'needed', 'needing', 'needle-like', 'needs', 'needy', 'negotiated', 'negotiating', 'neighboring', 'networking', 'newspaper-printing', 'nominated', 'non-encapsulating', 'nonrecurring', 'notched', 'noted', 'nothing', 'noticed', 'noticing', 'notified', 'noting', 'notwithstanding', 'nullified', 'numbered', 'nurtured', 'obedient', 'obligated', 'observed', 'obsessed', 'obtained', 'obtaining', 'occupying', 'occurred', 'odd-sounding', 'offending', 'offered', 'offering', 'offsetting', 'old-fashioned', 'omitted', 'ongoing', 'opened', 'opening', 'operated', 'operating', 'opposed', 'orchestrated', 'ordered', 'ordering', 'organized', 'oriented', 'outdistanced', 'outlawed', 'outlawing', 'outnumbered', 'outpaced', 'outraged', 'outstanding', 'overcrowding', 'overleveraged', 'overpaying', 'overpriced', 'overriding', 'overstated', 'overused', 'overvalued', 'owed', 'owned', 'owning', 'packaging', 'packed', 'painted', 'painting', 'parched', 'parking', 'participated', 'parts-engineering', 'passed', 'passing', 'patented', 'paying', 'peaked', 'pealing', 'peddling', 'pediatrician', 'pegged', 'pending', 'perceived', 'performed', 'performing', 'permitted', 'permitting', 'phasing', 'photocopying', 'pianist-comedian', 'picked', 'picking', 'pinning', 'pitting', 'placed', 'placing', 'plagued', 'planned', 'planning', 'planted', 'planting', 'played', 'playing', 'pleaded', 'pleased', 'pledged', 'plugged', 'plummeted', 'plunged', 'plunging', 'pointed', 'pointing', 'polarized', 'policy-making', 'polled', 'populated', 'portrayed', 'posing', 'positioned', 'possessed', 'post-hearing', 'posted', 'posting', 'postponed', 'poured', 'practiced', 'practicing', 'praised', 'pre-approved', 'pre-cooked', 'pre-existing', 'preapproved', 'precedent', 'precedes', 'predecessor', 'predicated', 'predict', 'predictable', 'predictably', 'predicted', 'predicting', 'predicts', 'predispose', 'preferred', 'prepared', 'presented', 'preserving', 'pressed', 'pressing', 'pressured', 'prevailing', 'preventing', 'price-depressing', 'priced', 'pricing', 'printed', 'privileged', 'procedural', 'procedure', 'procedures', 'proceedings', 'proceeds', 'processing', 'produced', 'producing', 'profit-taking', 'profited', 'program-trading', 'programming', 'prohibited', 'prohibiting', 'prolonged', 'promised', 'promising', 'promoting', 'prompted', 'propelling', 'proposed', 'proposing', 'prosecuted', 'prosecuting', 'protected', 'protecting', 'protracted', 'proved', 'provided', 'providing', 'proving', 'provoked', 'prying', 'publicized', 'published', 'publishing', 'pulled', 'pulling', 'pumping', 'punishing', 'purchased', 'purchasing', 'purhasing', 'pursued', 'pushed', 'pushing', 'putting', 'puzzled', 'qualified', 'quashing', 'questioned', 'queuing', 'quipped', 'quitting', 'quoted', 'quoting', 'raced', 'racing', 'railing', 'raised', 'raising', 'rallying', 'ranged', 'ranging', 'ranked', 'rarefied', 'raring', 'ratcheting', 'rated', 'ratified', 'rating', 'rationed', 'reached', 'reaching', 'reacted', 'reading', 'reaffirmed', 'realized', 'reallocated', 'reaped', 'reaping', 'reasoning', 'reassuring', 'rebounding', 'rebuffed', 'rebuilding', 'rebuked', 'recalling', 'recede', 'received', 'receiving', 'recession-inspired', 'reciting', 'reclaimed', 'recognizing', 'recommended', 'recommending', 'record-keeping', 'recorded', 'recouped', 'recovered', 'recovering', 'recruited', 'recruiting', 'rectified', 'recycled', 'red', 'red-and-white', 'red-carpet', 'red-flag', 'redeem', 'redeemed', 'redeeming', 'redemption', 'redeploy', 'redistribute', 'redistributing', 'reds', 'reduce', 'reduced', 'reducing', 'reduction', 'reductions', 'reeling', 'referred', 'referring', 'refitting', 'reflected', 'reflecting', 'refocusing', 'refreshing', 'refunded', 'refunding', 'refused', 'regarded', 'regarding', 'regimented', 'registered', 'regulated', 'regulating', 'reimbursed', 'reinstating', 'rejected', 'related', 'relating', 'relaunched', 'released', 'relegated', 'relied', 'relieved', 'remained', 'remaining', 'remarked', 'reminded', 'remodeling', 'removed', 'removing', 'rendering', 'renewed', 'renewing', 'renovated', 'reopened', 'reorganized', 'repaired', 'repeatedly', 'replaced', 'replacing', 'replicated', 'replicating', 'reported', 'reportedly', 'reporting', 'represented', 'representing', 'repriced', 'requested', 'requesting', 'required', 'requiring', 'rescheduled', 'researching', 'reserved', 'reshaping', 'resigned', 'resigning', 'resisting', 'resolved', 'respected', 'responded', 'responding', 'restored', 'restricting', 'restructured', 'restructuring', 'resulted', 'resulting', 'retailing', 'retained', 'retaining', 'retaliating', 'retired', 'retiring', 'retraced', 'returned', 'returning', 'reversed', 'reviewed', 'reviewing', 'revised', 'revising', 'revived', 'rewarding', 'riding', 'rigged', 'ring', 'ringing', 'rising', 'robbed', 'rolled', 'rolling', 'romanticized', 'rooted', 'ruled', 'ruling', 'rumored', 'running', 'rushed', 'rusted', 'sacked', 'sacrificing', 'safeguarding', 'sagged', 'sagging', 'satisfying', 'saved', 'saving', 'saying', 'scared', 'scaring', 'scattered', 'schedule', 'scheduled', 'school-sponsored', 'scrambled', 'scrambling', 'scrapped', 'screened', 'screwed', 'scrutinizing', 'searched', 'searching', 'seasoned', 'secede', 'secured', 'securities-based', 'seduce', 'seeing', 'seeking', 'seemed', 'segmenting', 'seized', 'selected', 'self-aggrandizing', 'self-perpetuating', 'self-serving', 'selling', 'sending', 'sentencing', 'served', 'serviced', 'servicing', 'serving', 'setting', 'settled', 'shaded', 'shaping', 'shared', 'shed', 'shedding', 'shipbuilding', 'shipped', 'shipping', 'shirt-sleeved', 'shopped', 'shopping', 'shoring', 'short-lived', 'showed', 'showing', 'shrinking', 'signaling', 'signed', 'signifying', 'signing', 'single-handed', 'single-handedly', 'singled', 'sitting', 'sketching', 'skidded', 'skilled', 'skipped', 'skyrocketed', 'slashing', 'slated', 'slaying', 'sleeping', 'sliding', 'slipped', 'slowed', 'slowing', 'smattering', 'smoking', 'smothering', 'snaking', 'snapped', 'sneaked', 'so-called', 'soared', 'soaring', 'softening', 'soliciting', 'solved', 'something', 'sometimes-exhausting', 'sophisticated', 'sorting', 'sounded', 'sounding', 'soured', 'sparing', 'sparked', 'sparking', 'speaking', 'specialized', 'specializing', 'specified', 'speculated', 'speculating', 'speed', 'speedway', 'spending', 'spilling', 'spooked', 'sports-oriented', 'spotted', 'sprawling', 'spring', 'spurned', 'spurred', 'spurring', 'sputtered', 'squeezed', 'stabbed', 'stacked', 'stacking', 'staff-reduction', 'staggering', 'standardized', 'standing', 'started', 'starting', 'startling', 'state-appointed', 'state-owned', 'state-supervised', 'stated', 'stayed', 'staying', 'stemmed', 'stemming', 'stepped', 'stepping', 'stereotyped', 'sterling', 'sticking', 'stimulated', 'stimulating', 'stirred', 'stock-picking', 'stoked', 'stopped', 'stored', 'strapped', 'strengthened', 'stressed', 'stressing', 'stretched', 'stretching', 'striking', 'string', 'stripped', 'striving', 'strong-willed', 'structured', 'struggled', 'struggling', 'studied', 'studying', 'stunned', 'subdued', 'subjecting', 'subordinated', 'subpoenaed', 'substance-abusing', 'succeed', 'succeeded', 'succeeding', 'succeeds', 'sued', 'suffered', 'suffering', 'suggested', 'suing', 'summoned', 'superimposed', 'supported', 'supposedly', 'surfaced', 'surged', 'surprised', 'surprising', 'surrendered', 'surrounding', 'surveyed', 'surviving', 'suspended', 'sustained', 'swapped', 'swapping', 'sweeping', 'sweetened', 'swelling', 'swing', 'switched', 'synchronized', 'tailored', 'tailoring', 'taking', 'talked', 'talking', 'tanked', 'tapping', 'targeted', 'targeting', 'teaching', 'teetering', 'telling', 'tempted', 'tendered', 'tendering', 'termed', 'terminated', 'test-coaching', 'tested', 'testing', 'thin-lipped', 'thing', 'thinking', 'thirtysomething', 'threatened', 'thumbing', 'tie-breaking', 'tied', 'tightened', 'tightening', 'timing', 'tired', 'top-selling', 'top-yielding', 'topped', 'totaled', 'totaling', 'touched', 'touted', 'traced', 'tracked', 'tracking', 'traded', 'trading', 'trafficking', 'trailed', 'trained', 'training', 'transacting', 'transferring', 'transformed', 'transforming', 'transporting', 'travel-related', 'traveled', 'traveling', 'treated', 'treating', 'tried', 'triggered', 'trimmed', 'trimming', 'triple-A-rated', 'tripled', 'troubled', 'truth-in-lending', 'trying', 'tumbled', 'turned', 'turning', 'twinned', 'twisting', 'two-tiered', 'unabated', 'unaffiliated', 'unanticipated', 'unauthorized', 'unchanged', 'uncharted', 'uncompensated', 'uncomplaining', 'unconsolidated', 'undelivered', 'undercutting', 'undergoing', 'underlying', 'underperforming', 'underprivileged', 'understanding', 'undertaking', 'undisclosed', 'unenticing', 'unexpected', 'unfettered', 'unfilled', 'unfocused', 'unfounded', 'unfunded', 'unimpeded', 'unjustified', 'unlabeled', 'unleashed', 'unloaded', 'unmarked', 'unneeded', 'unpublished', 'unraveling', 'unrealized', 'unresolved', 'unrestricted', 'unsecured', 'unsettled', 'unsettling', 'unsolicited', 'unspecified', 'unstinting', 'untrained', 'unveiled', 'unwanted', 'unwashed', 'unwilling', 'upsetting', 'urged', 'urging', 'used', 'ushered', 'ushering', 'using', 'uttering', 'valued', 'varied', 'varying', 'ventilated', 'vested', 'video-viewing', 'viewed', 'viewing', 'violated', 'violating', 'visited', 'visiting', 'voted', 'voting', 'vowed', 'waited', 'waiting', 'waived', 'waiving', 'walking', 'wallowing', 'wanted', 'wanting', 'war-damaged', 'war-rationed', 'warehousing', 'warming', 'warned', 'warning', 'wasted', 'watched', 'watching', 'weakening', 'wedded', 'weddings', 'weighed', 'weighing', 'welcomed', 'well-connected', 'when-issued', 'whipping', 'whirling', 'willing', 'winding', 'wine-buying', 'wine-making', 'winning', 'wooing', 'word-processing', 'worked', 'working', 'worried', 'worrying', 'worsening', 'wrecking', 'wrenching', 'wrestling', 'writing', 'wrongdoing', 'yen-denominated', 'yet-to-be-formed', 'yielded', 'yielding', 'yttrium-containing', 'zoomed']\n"
          ],
          "name": "stdout"
        }
      ]
    },
    {
      "cell_type": "markdown",
      "metadata": {
        "id": "F_RAHcyWTMwi"
      },
      "source": [
        "### Useful Applications of Regular Expressions"
      ]
    },
    {
      "cell_type": "markdown",
      "metadata": {
        "id": "_4t-qmvwV4FP"
      },
      "source": [
        "Extracting Word Pieces"
      ]
    },
    {
      "cell_type": "code",
      "metadata": {
        "colab": {
          "base_uri": "https://localhost:8080/"
        },
        "id": "AZFmRyUrV9ZO",
        "outputId": "c338939e-63f7-4dd2-8f72-0c358a216e59"
      },
      "source": [
        "word = 'supercalifragilisticexpialidocious'\n",
        "print(re.findall(r\"[aeiou]\", word))\n",
        "print(len(re.findall(r\"[aeiou]\", word)))"
      ],
      "execution_count": null,
      "outputs": [
        {
          "output_type": "stream",
          "text": [
            "['u', 'e', 'a', 'i', 'a', 'i', 'i', 'i', 'e', 'i', 'a', 'i', 'o', 'i', 'o', 'u']\n",
            "16\n"
          ],
          "name": "stdout"
        }
      ]
    },
    {
      "cell_type": "code",
      "metadata": {
        "colab": {
          "base_uri": "https://localhost:8080/"
        },
        "id": "Ilyxky0_Wp9a",
        "outputId": "079c1608-72ef-486f-ebd2-7e7047a3994d"
      },
      "source": [
        "wsj = sorted(set(nltk.corpus.treebank.words()))\n",
        "fd = nltk.FreqDist(vs for word in wsj\n",
        "                      for vs in re.findall(r\"[aeiou]{2,}\", word))\n",
        "print(fd.most_common(12))"
      ],
      "execution_count": null,
      "outputs": [
        {
          "output_type": "stream",
          "text": [
            "[('io', 549), ('ea', 476), ('ie', 331), ('ou', 329), ('ai', 261), ('ia', 253), ('ee', 217), ('oo', 174), ('ua', 109), ('au', 106), ('ue', 105), ('ui', 95)]\n"
          ],
          "name": "stdout"
        }
      ]
    },
    {
      "cell_type": "code",
      "metadata": {
        "colab": {
          "base_uri": "https://localhost:8080/"
        },
        "id": "JIJmXwzsXPk8",
        "outputId": "26535777-104c-48ef-c9c5-4c87a527ccf0"
      },
      "source": [
        "[int(n) for n in re.findall(r\"[0-9]{2,4}\", '2009-12-31')]"
      ],
      "execution_count": null,
      "outputs": [
        {
          "output_type": "execute_result",
          "data": {
            "text/plain": [
              "[2009, 12, 31]"
            ]
          },
          "metadata": {
            "tags": []
          },
          "execution_count": 37
        }
      ]
    },
    {
      "cell_type": "markdown",
      "metadata": {
        "id": "OD3gLXvOZT1-"
      },
      "source": [
        "Doing More with Word Pieces"
      ]
    },
    {
      "cell_type": "code",
      "metadata": {
        "colab": {
          "base_uri": "https://localhost:8080/"
        },
        "id": "GaQroHYvZ07m",
        "outputId": "4697c3c5-1c07-48d4-96da-5609c0e71daf"
      },
      "source": [
        "regexp = r'^[AEIOUaeiou]+|[AEIOUaeiou]+$|[^AEIOUaeiou]'\n",
        "def compress(word):\n",
        "    pieces = re.findall(regexp, word)\n",
        "    return \"\".join(pieces)\n",
        "\n",
        "english_udhr = nltk.corpus.udhr.words('English-Latin1')\n",
        "print(nltk.tokenwrap(compress(w) for w in english_udhr[:75]))"
      ],
      "execution_count": null,
      "outputs": [
        {
          "output_type": "stream",
          "text": [
            "Unvrsl Dclrtn of Hmn Rghts Prmble Whrs rcgntn of the inhrnt dgnty and\n",
            "of the eql and inlnble rghts of all mmbrs of the hmn fmly is the fndtn\n",
            "of frdm , jstce and pce in the wrld , Whrs dsrgrd and cntmpt fr hmn\n",
            "rghts hve rsltd in brbrs acts whch hve outrgd the cnscnce of mnknd ,\n",
            "and the advnt of a wrld in whch hmn bngs shll enjy frdm of spch and\n"
          ],
          "name": "stdout"
        }
      ]
    },
    {
      "cell_type": "code",
      "metadata": {
        "colab": {
          "base_uri": "https://localhost:8080/"
        },
        "id": "unajvWluak5t",
        "outputId": "2d3865d2-16d4-4c1f-aada-960b2e95a586"
      },
      "source": [
        "rotokas_words = nltk.corpus.toolbox.words('rotokas.dic')\n",
        "cvs = [cv for w in rotokas_words for cv in re.findall(r'[ptksvr][aeiou]', w)]\n",
        "cfd = nltk.ConditionalFreqDist(cvs)\n",
        "cfd.tabulate()"
      ],
      "execution_count": null,
      "outputs": [
        {
          "output_type": "stream",
          "text": [
            "    a   e   i   o   u \n",
            "k 418 148  94 420 173 \n",
            "p  83  31 105  34  51 \n",
            "r 187  63  84  89  79 \n",
            "s   0   0 100   2   1 \n",
            "t  47   8   0 148  37 \n",
            "v  93  27 105  48  49 \n"
          ],
          "name": "stdout"
        }
      ]
    },
    {
      "cell_type": "code",
      "metadata": {
        "colab": {
          "base_uri": "https://localhost:8080/"
        },
        "id": "zqgztnWvb6Lx",
        "outputId": "a5347fe0-33cf-4e2e-ddad-79c6a35f5926"
      },
      "source": [
        "cv_word_pairs = [(cv, w) for w in rotokas_words \n",
        "                 for cv in re.findall(r\"[ptksvr][aeiou]\", w)]\n",
        "cv_index = nltk.Index(cv_word_pairs)\n",
        "print(cv_index['su'])\n",
        "print(cv_index['po'])"
      ],
      "execution_count": null,
      "outputs": [
        {
          "output_type": "stream",
          "text": [
            "['kasuari']\n",
            "['kaapo', 'kaapopato', 'kaipori', 'kaiporipie', 'kaiporivira', 'kapo', 'kapoa', 'kapokao', 'kapokapo', 'kapokapo', 'kapokapoa', 'kapokapoa', 'kapokapora', 'kapokapora', 'kapokaporo', 'kapokaporo', 'kapokari', 'kapokarito', 'kapokoa', 'kapoo', 'kapooto', 'kapoovira', 'kapopaa', 'kaporo', 'kaporo', 'kaporopa', 'kaporoto', 'kapoto', 'karokaropo', 'karopo', 'kepo', 'kepoi', 'keposi', 'kepoto']\n"
          ],
          "name": "stdout"
        }
      ]
    },
    {
      "cell_type": "markdown",
      "metadata": {
        "id": "e9hyKuScdNNm"
      },
      "source": [
        "- Finding Word Stems"
      ]
    },
    {
      "cell_type": "code",
      "metadata": {
        "colab": {
          "base_uri": "https://localhost:8080/",
          "height": 36
        },
        "id": "IhG9Zm5MlqTe",
        "outputId": "6fe6c4e0-e447-4d15-fa0c-04e8de46a8b5"
      },
      "source": [
        "def stem(word):\n",
        "    \"Strips off anything that looks like a suffix\"\n",
        "\n",
        "    for suffix in ['ing', 'ly', 'ed', 'ious', 'ies', 'ive', 'es', 's', 'ment']:\n",
        "        if word.endswith(suffix):\n",
        "            return word[:-(len(suffix))]\n",
        "    return word\n",
        "\n",
        "stem('playing')"
      ],
      "execution_count": null,
      "outputs": [
        {
          "output_type": "execute_result",
          "data": {
            "application/vnd.google.colaboratory.intrinsic+json": {
              "type": "string"
            },
            "text/plain": [
              "'play'"
            ]
          },
          "metadata": {
            "tags": []
          },
          "execution_count": 42
        }
      ]
    },
    {
      "cell_type": "code",
      "metadata": {
        "colab": {
          "base_uri": "https://localhost:8080/"
        },
        "id": "m5o426hbmzyl",
        "outputId": "6f76ee65-bf77-4673-ba9a-7ad63aaa2f69"
      },
      "source": [
        "print(re.findall(r'^.*(ing|ly|ed|ious|ies|ive|es|s|ment)$', 'processing')) #parenthesis to extract substring\n",
        "print(re.findall(r'^.*(?:ing|ly|ed|ious|ies|ive|es|s|ment)$', 'processing')) # parenthesis to specify the scope\n",
        "print(re.findall(r'(^.*)(ing|ly|ed|ious|ies|ive|es|s|ment)$', 'processing')) # splitting stem and suffix"
      ],
      "execution_count": null,
      "outputs": [
        {
          "output_type": "stream",
          "text": [
            "['ing']\n",
            "['processing']\n",
            "[('process', 'ing')]\n"
          ],
          "name": "stdout"
        }
      ]
    },
    {
      "cell_type": "code",
      "metadata": {
        "colab": {
          "base_uri": "https://localhost:8080/"
        },
        "id": "Y3wDx6F-n6pL",
        "outputId": "86e79f20-9d8c-46ce-9c30-cf57b18e9f6c"
      },
      "source": [
        "print(re.findall(r'(^.*)(ing|ly|ed|ious|ies|ive|es|s|ment)$', 'processes')) # greedy approach\n",
        "print(re.findall(r'(^.*?)(ing|ly|ed|ious|ies|ive|es|s|ment)$', 'processes')) # non-greedy approach"
      ],
      "execution_count": null,
      "outputs": [
        {
          "output_type": "stream",
          "text": [
            "[('processe', 's')]\n",
            "[('process', 'es')]\n"
          ],
          "name": "stdout"
        }
      ]
    },
    {
      "cell_type": "code",
      "metadata": {
        "colab": {
          "base_uri": "https://localhost:8080/"
        },
        "id": "Lr_tPZYWoC86",
        "outputId": "c881bf25-6489-4318-de33-5069060b0a4e"
      },
      "source": [
        "print(re.findall(r'(^.*?)(ing|ly|ed|ious|ies|ive|es|s|ment)?$', 'language')) #empty suffix"
      ],
      "execution_count": null,
      "outputs": [
        {
          "output_type": "stream",
          "text": [
            "[('language', '')]\n"
          ],
          "name": "stdout"
        }
      ]
    },
    {
      "cell_type": "code",
      "metadata": {
        "colab": {
          "base_uri": "https://localhost:8080/"
        },
        "id": "2hMM2b7kowh5",
        "outputId": "fb9bb850-6530-4ab0-f4cc-d292beeb72e8"
      },
      "source": [
        "def stem(word):\n",
        "    regexp = r\"(^.*?)(ing|ly|ed|ious|ies|ive|es|s|ment)?$\"\n",
        "    stem, suffix = re.findall(regexp, word)[0]\n",
        "    return stem\n",
        "raw = \"\"\"DENNIS: Listen, strange women lying in ponds distributing swords\n",
        "is no basis for a system of government.  Supreme executive power derives from\n",
        "a mandate from the masses, not from some farcical aquatic ceremony.\"\"\"\n",
        "tokens = word_tokenize(raw)\n",
        "print([stem(t) for t in tokens])"
      ],
      "execution_count": null,
      "outputs": [
        {
          "output_type": "stream",
          "text": [
            "['DENNIS', ':', 'Listen', ',', 'strange', 'women', 'ly', 'in', 'pond', 'distribut', 'sword', 'i', 'no', 'basi', 'for', 'a', 'system', 'of', 'govern', '.', 'Supreme', 'execut', 'power', 'deriv', 'from', 'a', 'mandate', 'from', 'the', 'mass', ',', 'not', 'from', 'some', 'farcical', 'aquatic', 'ceremony', '.']\n"
          ],
          "name": "stdout"
        }
      ]
    },
    {
      "cell_type": "markdown",
      "metadata": {
        "id": "etInykHppwNb"
      },
      "source": [
        "Searching Tokenized Text"
      ]
    },
    {
      "cell_type": "code",
      "metadata": {
        "colab": {
          "base_uri": "https://localhost:8080/"
        },
        "id": "6Ia7nmSQqCz7",
        "outputId": "9a2450f0-b02d-4a5d-c879-0d63094980d6"
      },
      "source": [
        "from nltk.corpus import gutenberg, nps_chat\n",
        "moby = nltk.Text(gutenberg.words('melville-moby_dick.txt'))\n",
        "moby.findall(r\"<a> (<.*>) <man>\")"
      ],
      "execution_count": null,
      "outputs": [
        {
          "output_type": "stream",
          "text": [
            "monied; nervous; dangerous; white; white; white; pious; queer; good;\n",
            "mature; white; Cape; great; wise; wise; butterless; white; fiendish;\n",
            "pale; furious; better; certain; complete; dismasted; younger; brave;\n",
            "brave; brave; brave\n"
          ],
          "name": "stdout"
        }
      ]
    },
    {
      "cell_type": "code",
      "metadata": {
        "colab": {
          "base_uri": "https://localhost:8080/"
        },
        "id": "u5zq0OZKri3m",
        "outputId": "050dea4e-51db-491c-eae6-cdc4511f091b"
      },
      "source": [
        "chat = nltk.Text(nps_chat.words())\n",
        "chat.findall(r\"<.*> <.*> <bro>\")"
      ],
      "execution_count": null,
      "outputs": [
        {
          "output_type": "stream",
          "text": [
            "you rule bro; telling you bro; u twizted bro\n"
          ],
          "name": "stdout"
        }
      ]
    },
    {
      "cell_type": "code",
      "metadata": {
        "colab": {
          "base_uri": "https://localhost:8080/"
        },
        "id": "IEMOt1wXsgMQ",
        "outputId": "8bad3a13-b381-4a7a-bc2b-8f3a6ae85b28"
      },
      "source": [
        "chat.findall(r\"<l.*>{3,}\")"
      ],
      "execution_count": null,
      "outputs": [
        {
          "output_type": "stream",
          "text": [
            "lol lol lol; lmao lol lol; lol lol lol; la la la la la; la la la; la\n",
            "la la; lovely lol lol love; lol lol lol.; la la la; la la la\n"
          ],
          "name": "stdout"
        }
      ]
    },
    {
      "cell_type": "code",
      "metadata": {
        "colab": {
          "base_uri": "https://localhost:8080/"
        },
        "id": "jJm8tZoissue",
        "outputId": "c692a2d4-6ead-4bee-a963-3c48ccb6a825"
      },
      "source": [
        "nltk.re_show(r\"[abcdn]{3}|[0-9]{2,}\", 'My name is blah blah and I was born in 1984')\n",
        "nltk.re_show(r\"M[a-z]+\", 'My name is blah blah Myth and I was born in 1984')"
      ],
      "execution_count": null,
      "outputs": [
        {
          "output_type": "stream",
          "text": [
            "My name is blah blah {and} I was born in {1984}\n",
            "{My} name is blah blah {Myth} and I was born in 1984\n"
          ],
          "name": "stdout"
        }
      ]
    },
    {
      "cell_type": "code",
      "metadata": {
        "colab": {
          "base_uri": "https://localhost:8080/"
        },
        "id": "rvKupcaKt-1r",
        "outputId": "9c713c41-ab5b-406b-f16e-3e84ce542133"
      },
      "source": [
        "from nltk.corpus import brown\n",
        "hobbies_learned = nltk.Text(brown.words(categories=['hobbies', 'learned']))\n",
        "hobbies_learned.findall(r\"<\\w*> <and> <other> <\\w*s>\")"
      ],
      "execution_count": null,
      "outputs": [
        {
          "output_type": "stream",
          "text": [
            "speed and other activities; water and other liquids; tomb and other\n",
            "landmarks; Statues and other monuments; pearls and other jewels;\n",
            "charts and other items; roads and other features; figures and other\n",
            "objects; military and other areas; demands and other factors;\n",
            "abstracts and other compilations; iron and other metals\n"
          ],
          "name": "stdout"
        }
      ]
    },
    {
      "cell_type": "code",
      "metadata": {
        "colab": {
          "base_uri": "https://localhost:8080/"
        },
        "id": "unxakyVtxD-S",
        "outputId": "8ebfe796-fb7c-4c1c-ac45-e8d13ee6f9a0"
      },
      "source": [
        "hobbies_learned.findall(r\"<\\w+> <as> <\\w+>\")"
      ],
      "execution_count": null,
      "outputs": [
        {
          "output_type": "stream",
          "text": [
            "But as you; looks as though; seems as though; split as for; soon as\n",
            "they; soon as an; just as they; graded as to; determine as accurately;\n",
            "day as a; long as the; such as the; targets as well; such as economy;\n",
            "such as these; such as the; regarded as symphonic; music as an;\n",
            "sounded as sparkling; playing as it; distinction as a; approach as\n",
            "distinctly; reading as a; and as a; me as finicky; vein as that;\n",
            "disillusioning as the; such as the; engineering as such; intrudes as\n",
            "a; reproduce as faithfully; sounds as though; from as far; west as\n",
            "Wisconsin; and as far; south as Kentucky; introduced as the; do as\n",
            "much; Juniors as the; chosen as International; Classes as well;\n",
            "Contest as he; just as successful; Class as it; looking as neat;\n",
            "Developed as a; clouds as they; question as to; it as simple; way as\n",
            "an; same as for; way as boats; roads as existed; such as sailboats;\n",
            "just as much; facilities as a; well as other; premises as well; such\n",
            "as outboards; tappets as the; locks as you; edge as we; frame as\n",
            "shown; screw as you; serve as lifting; place as the; notches as much;\n",
            "alike as possible; science as involved; division as well; accomplished\n",
            "as they; is as important; manner as for; head as accurately; and as\n",
            "accurate; figures as for; about as much; pace as any; shown as much;\n",
            "masculine as most; good as she; are as follows; qualify as new;\n",
            "something as different; comes as no; known as Jefferson; time as a;\n",
            "carbine as one; fog as it; fragrance as Orphic; it as a; held as\n",
            "mandatory; liqueur as optional; coppery as Delawares; and as the;\n",
            "himself as best; ear as he; was as good; with as much; deserves as\n",
            "much; time as you; areas as Cape; just as it; likely as not; such as\n",
            "the; resort as well; left as you; known as the; used as prisons;\n",
            "things as coffee; thrones as large; potatoes as accessories; such as\n",
            "fixing; accepted as the; flavor as well; are as vital; frank as are;\n",
            "such as tangy; toast as usual; popping as well; used as alternate; or\n",
            "as a; cones as indicated; mold as a; long as the; such as the; used as\n",
            "pattern; mold as instructed; join as before; mold as measurement; top\n",
            "as for; same as jar; same as salt; wood as it; such as those; doubles\n",
            "as a; hull as you; level as required; acted as a; bulkheads as\n",
            "illustrated; installed as indicated; standard as are; well as\n",
            "possible; be as straight; such as plywood; glued as well; constructed\n",
            "as shown; sheets as shown; quite as smoothly; that as soon; far as we;\n",
            "light as an; far as relates; bridges as highways; well as injuries;\n",
            "stands as a; Ferry as the; well as many; today as a; prayers as well;\n",
            "bit as more; picturesque as a; weather as well; yourself as well;\n",
            "looked as if; subnormal as a; herewith as a; summer as we; week as\n",
            "the; pool as well; such as plunges; winter as well; comment as it;\n",
            "problems as well; for as little; work as well; cooling as they; for as\n",
            "little; it as a; often as important; humidity as evenly; for as\n",
            "little; nearly as much; times as much; summer as it; such as scenic;\n",
            "such as a; seasons as it; such as water; Just as the; them as\n",
            "additional; across as well; such as ancient; practice as recreation;\n",
            "shape as a; such as a; well as subsoil; trees as to; noted as to;\n",
            "capable as a; outlook as a; hailed as an; rights as a; experimentation\n",
            "as an; gay as it; emerge as a; it as it; even as well; remain as\n",
            "landmarks; independently as a; begins as abstract; in as direct;\n",
            "manner as possible; with as pure; mixture as I; flat as a; Design as\n",
            "an; trained as dancers; just as gymnastics; stunts as headstands;\n",
            "gymnastics as the; character as well; places as candidates; kicking as\n",
            "high; brought as close; hands as possible; equipment as the; serve as\n",
            "the; system as was; resistance as the; bloodstream as an; same as in;\n",
            "well as many; shows as the; such as the; and as lecturer; Eager as he;\n",
            "philosophers as he; just as electrical; are as general; magnet as\n",
            "such; judgment as opposed; continued as a; such as shipping; feed as\n",
            "an; tags as fermentation; such as vaccinating; twice as long; serve as\n",
            "a; forecast as a; requires as thorough; job as the; well as the;\n",
            "merchandise as in; field as yet; much as was; not as economically;\n",
            "student as not; value as training; educators as to; him as follows;\n",
            "well as set; positions as interior; just as in; such as American;\n",
            "membership as an; such as architecture; be as well; such as the; such\n",
            "as lighting; such as was; homes as well; such as tool; pensions as an;\n",
            "this as it; argument as to; requirements as to; Just as modern; not as\n",
            "an; but as an; known as the; known as the; served as consultants;\n",
            "serving as sunshades; range as high; status as the; go as far; merit\n",
            "as he; recognition as a; recognized as a; problems as well; have as a;\n",
            "known as a; such as private; rated as high; salary as department;\n",
            "engineers as much; engineer as a; such as reserved; him as an;\n",
            "evaluated as highly; Delaware as the; so as to; intervals as he; well\n",
            "as personalities; such as water; rates as low; field as Advance; well\n",
            "as the; designated as Monocite; much as glass; such as large; used as\n",
            "a; factors as costs; such as Advance; copy as required; load as much;\n",
            "for as little; house as a; shrink as tons; Grail as they; still as\n",
            "you; service as well; have as great; car as are; goes as low; and as\n",
            "high; are as many; rates as there; up as high; same as for; not as\n",
            "common; or as popular; expensive as most; manner as they; planets as\n",
            "a; observed as radio; emission as measured; length as emission; disk\n",
            "as observed; angle as the; radiates as a; observations as these;\n",
            "absolute as well; to as the; Af as measured; generators as currently;\n",
            "or as high; conduction as well; anode as well; used as a; arrangement\n",
            "as described; cathode as an; reduced as far; taken as Af; holder as\n",
            "indicated; taken as typical; taken as environmental; exposed as far;\n",
            "inch as Af; materials as well; such as printing; just as it; base as\n",
            "H; some as thermostatics; statement as has; energy as a; and as the;\n",
            "mentioned as such; just as a; Just as the; known as conformational;\n",
            "come as thermal; Af as a; dipole as well; same as that; Cr as\n",
            "compared; amplitude as small; defined as the; powders as well; be as\n",
            "effective; nearly as complex; more as peptizing; defined as\n",
            "particulate; so as to; up as liquids; such as calcium; such as\n",
            "greases; increased as much; active as an; builder as a; so as to; well\n",
            "as information; impurities as a; manifold as a; determined as the; Af\n",
            "as a; prepared as a; after as little; inversely as the; orbits as the;\n",
            "ecliptic as the; was as much; fifth as large; threshold as that;\n",
            "densities as low; effectiveness as the; same as that; such as large;\n",
            "such as the; manner as a; such as widespread; known as Bacillus; such\n",
            "as those; requirements as to; such as antibiotic; structures as is;\n",
            "used as controls; performed as described; activity as described; ones\n",
            "as a; so as to; computed as Af; plasma as a; such as the; such as a;\n",
            "supply as needed; to as the; serve as an; half as long; python as an;\n",
            "that as anacondas; far as possible; inches as the; female as 38;\n",
            "accepted as probable; septa as in; lung as in; much as in; statement\n",
            "as well; such as those; bronchiolitis as we; insofar as this; early as\n",
            "1858; artery as found; early as 1913; acting as valves; considered as\n",
            "functional; hilum as is; serve as norms; Wrist as a; center as well;\n",
            "Foot as well; needed as means; 6 as well; chosen as an; listed as the;\n",
            "children as described; selected as indicating; not as yet; same as\n",
            "what; Af as the; mechanism as such; such as resorcinol; ago as 1851;\n",
            "well as fractionation; such as acetone; times as potent; same as that;\n",
            "defined as the; defined as the; recognized as an; well as fever;\n",
            "interpreted as being; measuring as large; atrophy as well; such as\n",
            "that; conjugates as well; acetate as recommended; same as that; for as\n",
            "long; assembly as it; manner as described; column as described;\n",
            "established as follows; neocortex as far; such as the; brain as well;\n",
            "Important as these; system as shown; level as indicated; such as is;\n",
            "served as a; served as a; discharge as well; and as the; Af as a;\n",
            "written as the; D as a; regarded as a; act as managers; qualify as a;\n",
            "animal as not; viewed as composed; viewed as consisting; N as the;\n",
            "used as a; of as producing; chord as a; that as S; times as S; left as\n",
            "one; Af as the; graph as the; C as it; PQ as a; values as Af; of as a;\n",
            "Q as vertex; Af as directrices; Af as components; involution as a;\n",
            "effort as well; such as the; countries as India; opinion as to;\n",
            "opinions as to; such as great; functions as a; well as by; marriage as\n",
            "a; state as a; life as part; secularized as to; operate as a; action\n",
            "as such; together as more; religion as the; acts as an; functioned as\n",
            "a; served as magnificent; acts as a; well as her; mind as if; them as\n",
            "worthy; babies as well; hope as a; such as undue; services as part;\n",
            "perhaps as old; quality as the; anxiety as well; rate as compared;\n",
            "plans as the; at as a; than as a; crises as experienced; population as\n",
            "sponsors; such as sex; act as indicators; act as a; population as a;\n",
            "recognized as a; insofar as sanctions; well as the; acts as a; group\n",
            "as well; viewed as a; supposedly as representative; recognized as a;\n",
            "are as follows; so as to; used as a; such as records; subjects as\n",
            "fertility; run as follows; far as to; weight as regularly; for as\n",
            "much; flexibility as possible; week as there; seen as they; outsiders\n",
            "as well; just as in; such as sex; experience as most; males as a; sex\n",
            "as sex; love as most; figure as people; hypothesized as being; used as\n",
            "the; to as the; reassured as to; concept as suggestibility; defined as\n",
            "the; way as to; inadequate as an; inadequate as an; reacted as they;\n",
            "viewed as an; have as a; herself as having; feeling as she; voluntary\n",
            "as the; involuntary as the; rise as one; relaxing as much; experience\n",
            "as follows; experience as one; desk as being; constriction as to;\n",
            "informed as to; comments as the; chosen as subjects; much as possible;\n",
            "words as they; designed as a; interpreted as resulting; used as the;\n",
            "least as well; increased as the; performed as well; or as a; offered\n",
            "as a; worked as follows; served as antagonists; it as well; only as\n",
            "the; but as the; regarded as a; regarded as an; them as errors;\n",
            "successful as a; rated as unsatisfactory; looked as follows; ways as\n",
            "to; simple as to; it as part; me as some; me as being; was as if;\n",
            "passerby as though; behaving as though; behaving as if; therapy as\n",
            "the; it as a; interpreted as a; such as Russian; techniques as a;\n",
            "forms as text; dictionary as required; used as the; reserved as\n",
            "information; assigned as the; assigned as the; assigned as the;\n",
            "assigned as the; added as are; saved as a; place as the; entry as a;\n",
            "insofar as regular; are as follows; divided as in; Mary as the;\n",
            "writing as the; hunger as an; stimulation as an; man as an; used as\n",
            "an; such as these; deal as a; such as these; be as adequate; tone as\n",
            "for; are as difficult; disentangle as are; been as simple; complexity\n",
            "as consonantal; of as joining; rules as well; well as the;\n",
            "considerations as typographic; intended as a; value as a; slot as\n",
            "against; 24 as against; 16 as against; content as well; left as\n",
            "reasonably; list as against; according as they; meaning as regards;\n",
            "families as different; another as these; established as having; list\n",
            "as free; conditioning as possible; matched as the; be as definable;\n",
            "proportion as meanings; list as long; list as his; languages as well;\n",
            "years as well; lexicostatistics as a; proportion as it; show as high;\n",
            "rate as possible; westward as he; devoutly as they; elections as soon;\n",
            "acted as moderator; strong as to; serving as a; posing as an; also as\n",
            "inevitable; Russia as a; difficult as party; achieved as the; upon as\n",
            "a; communes as the; considered as a; also as a; is as yet; such as\n",
            "the; elections as an; so as to; them as they; both as an; and as a;\n",
            "implications as the; important as an; regarded as more; elsewhere as\n",
            "well; subsistence as well; Just as heavily; about as nebulous; exactly\n",
            "as is; about as awkward; just as a; analysis as well; persist as to;\n",
            "markets as we; profile as saying; business as a; construction as\n",
            "mortgage; connection as well; well as by; well as those; well as the;\n",
            "well as an; well as with; ease as a; such as education; today as the;\n",
            "competitive as consumers; at as fast; rate as in; such as union;\n",
            "treated as a; behaves as a; bargains as a; taken as given; rises as\n",
            "the; this as evidence; members as a; increases as distinct; emerge as\n",
            "law; States as expressed; such as Switzerland; acknowledged as a;\n",
            "accept as law; community as sovereign; just as the; save as these;\n",
            "Europe as new; simply as its; enforced as law; changing as the;\n",
            "positivism as fundamentally; seen as an; limited as precisely;\n",
            "explicitly as possible; conceived as the; seen as a; far as to;\n",
            "regarded as the; rules as to; dramatic as it; challenged as\n",
            "discriminatory; law as to; decision as well; provision as concerned;\n",
            "exactly as are; long as a; right as defined; speech as to; such as\n",
            "these; Congress as expressed; classified as transfers; interpreted as\n",
            "not; treated as the; but as a; 381 as a; compiled as a; company as\n",
            "determined; classified as large; responses as a; neutral as between;\n",
            "situations as they; decision as implying; strikes as bona; labor as a;\n",
            "well as moral; lie as between; it as a; decisions as conclusive;\n",
            "either as a; or as an; and as an; acting as strikebreakers;\n",
            "presumptuous as to; elements as job; that as they; have as much;\n",
            "school as his; factors as sex; such as selecting; achieve as much;\n",
            "described as those; treated as individuals; such as defective; such as\n",
            "faulty; behaves as he; be as proficient; study as the; increase as a;\n",
            "largely as a; views as to; Report as it; white as a; well as that;\n",
            "other as white; but as human; twice as many; roles as educational; are\n",
            "as likely; practice as higher; such as these; well as upon; be as an;\n",
            "personality as well; attitudes as teachers; individual as well;\n",
            "education as most; students as it; education as a; education as good;\n",
            "so as to; published as one; Education as a; regard as the; such as\n",
            "the; society as a; themselves as trustees; has as an; far as this;\n",
            "nondiscriminatory as long; experts as to; about as far; traffic as\n",
            "representing; behave as if; treated as variable; so as to; such as\n",
            "output; such as residential; such as street; serve as tentative;\n",
            "service as a; cent as the; reported as a; long as the; regarding as\n",
            "only; Included as a; earmarked as incurred; Functionalism as a;\n",
            "philosophy as a; form as something; philosophy as a; philosophy as\n",
            "Queen; nature as it; philosophy as such; of as servant; appear as\n",
            "less; jeers as the; beliefs as social; philosophy as a; philosophy as\n",
            "a; exist as an; framed as to; appear as legitimate; truth as for;\n",
            "regarded as their; and as it; shown as follows; whit as bad; and as\n",
            "it; say as before; far as I; far as I; is as empty; about as grim; lot\n",
            "as can; far as they; be as fitting; unfitting as any; is as follows;\n",
            "well as the; well as the; accepted as essentially; objects as unified;\n",
            "objects as objects; things as shaped; only as generally; it as a;\n",
            "clues as to; inference as to; with as many; defined as the; 800 as a;\n",
            "stand as a; determinedly as they; them as an; East as we; display as\n",
            "firm; fabrics as preliminary; it as his; house as Cook; just as the;\n",
            "such as that; just as the; children as the; women as soon; Towsley as\n",
            "manager; installed as well; available as to; unity as Papal; almost as\n",
            "dimly; remembered as those; communism as such; communism as it; way as\n",
            "to; more as an; himself as a; Dorr as a; proclaim as one; trial as\n",
            "being; doubt as to; Brown as being; recognized as having; that as\n",
            "Rhode; action as a; land as speedily; textures as well; Cubism as far;\n",
            "back as the; itself as the; finish as well; subjects as depicted;\n",
            "effect as to; is as if; defined as parallel; so as to; surface as\n",
            "well; expanded as to; largely as the; relief as such; and as the;\n",
            "abstracted as to; representation as image; just as much; way as to;\n",
            "themselves as independent; themselves as silhouettes; much as for;\n",
            "collage as a; only as flattened; was as though; collage as too;\n",
            "inevitably as an; boundary as effectively; new as some; is as\n",
            "important; act as controllers; Just as the; built as part; scheme as\n",
            "a; match as nearly; so as to; color as well; solidly as to; technique\n",
            "as described; medium as to; speculate as to; so as to; supported as\n",
            "it; Capitol as a; meet as many; artists as possible; pose as an;\n",
            "commitment as an; humanity as a; ethical as well; such as artists;\n",
            "Almost as if; voice as well; Difficult as it; return as a; he as well;\n",
            "aesthetic as well; just as I; far as to; Abstraction as well;\n",
            "discarded as unwanted; artists as a; society as well; community as a;\n",
            "is as broad; such as The; questions as these; described as alienation;\n",
            "alienation as a; Considered as an; out as much; passage as the; they\n",
            "as satisfied; it as a; sometimes as an; used as an; composers as\n",
            "Monteverdi; recitative as different; others as the; place as if;\n",
            "ramble as he; is as far; monk as Varlaam; is as if; just as the;\n",
            "ethereal as he; phrase as arresting; appears as he; sounds as odd; is\n",
            "as much; stake as her; speaks as a; broken as if; living as well;\n",
            "motif as it; belief as well; out as a; recognize as uniquely; life as\n",
            "we; poetry as a; poetry as soon; wings as he; recognize as a; novels\n",
            "as well; it as evidence; styles as he; speak as he; style as it;\n",
            "rearranged as a; quoted as Epigraph; So as the; art as long; just as\n",
            "well; are as impassive; treated as a; confabulations as ends; Just as\n",
            "Hart; exactly as in; much as the; presented as calligraphy; nearly as\n",
            "severe; great as the; requirements as he; equivalents as basic; poetry\n",
            "as well; admired as handsome; regarded as mere; regarded as no;\n",
            "effects as intentional; so as to; again as long; hands as a; fiction\n",
            "as in; heavy as if; serve as a; themes as guilt; just as his; mouth as\n",
            "if; hands as the; somewhat as they; importantly as his; indenture as\n",
            "an; Pumblechook as he; or as a; reserved as they; continue as before;\n",
            "continue as before; area as an; many as ten; considered as logically;\n",
            "altered as desired; is as follows; exactly as shown; same as from;\n",
            "ponds as well; constructed as shown; located as shown; system as the;\n",
            "treated as a; transfer as well; months as shown; liquor as indicated;\n",
            "small as the; but as the; calculated as 220; and as being; serve as a;\n",
            "and as a; to as operational; just as important; horizontally as well;\n",
            "recognized as a; justify as great; element as is; advocated as the;\n",
            "attractive as an; act as cofactors; form as a; such as bradykinin;\n",
            "many as seven; matter as a; content as sands; such as an; alcohols as\n",
            "solvents; well as new; benzene as solvent; order as in; published as\n",
            "A; such as the; such as Strukturbericht; 1954 as Memoir; such as the;\n",
            "such as the; such as dehydration; serve as a; such as bacteria; such\n",
            "as Clostridium; such as Trichinella; treatment as by; products as\n",
            "well; acceptable as regards; such as an; cent as much; energy as heat;\n",
            "such as fresh; same as for; storage as compared; substrates as iron;\n",
            "graph as illustrated; merely as a; coating as assessed; values as the;\n",
            "knife as well; Hesiometer as illustrated; relationships as\n",
            "schematically; relationships as described; substrate as shown; foam as\n",
            "an; foam as a; such as a; applications as cores; varies as the; foams\n",
            "as determined; lengths as desired; novelties as soap; basis as\n",
            "desired; used as an; vent as close; so as to; considered as\n",
            "indicative; inefficient as the; promise as far; concave as seen;\n",
            "assumed as a; Af as expected; assumed as 15; probably as it; system as\n",
            "well; process as a; and as R; process as deterministic; vectors as\n",
            "belonging; out as in; not as important; direction as to; system as\n",
            "indicated; such as the; long as the; are as satisfactory; time as\n",
            "compared; turned as required; arranged as described\n"
          ],
          "name": "stdout"
        }
      ]
    },
    {
      "cell_type": "markdown",
      "metadata": {
        "id": "DyhacVGmyLNB"
      },
      "source": [
        "#### Normalizing text"
      ]
    },
    {
      "cell_type": "code",
      "metadata": {
        "id": "QRGjoiZ33Wlr"
      },
      "source": [
        "raw = \"\"\"DENNIS: Listen, strange women lying in ponds distributing swords\n",
        " is no basis for a system of government.  Supreme executive power derives from\n",
        " a mandate from the masses, not from some farcical aquatic ceremony.\"\"\"\n",
        "tokens = word_tokenize(raw)"
      ],
      "execution_count": null,
      "outputs": []
    },
    {
      "cell_type": "markdown",
      "metadata": {
        "id": "UsP_W4556fOx"
      },
      "source": [
        "Stemmers"
      ]
    },
    {
      "cell_type": "code",
      "metadata": {
        "colab": {
          "base_uri": "https://localhost:8080/"
        },
        "id": "LJOaKsQT6tDb",
        "outputId": "1e969c14-2ca2-4a57-e9fb-4a857793a55f"
      },
      "source": [
        "porter = nltk.PorterStemmer()\n",
        "lancaster = nltk.LancasterStemmer()\n",
        "print([porter.stem(t) for t in tokens])\n",
        "print([lancaster.stem(t) for t in tokens])"
      ],
      "execution_count": null,
      "outputs": [
        {
          "output_type": "stream",
          "text": [
            "['denni', ':', 'listen', ',', 'strang', 'women', 'lie', 'in', 'pond', 'distribut', 'sword', 'is', 'no', 'basi', 'for', 'a', 'system', 'of', 'govern', '.', 'suprem', 'execut', 'power', 'deriv', 'from', 'a', 'mandat', 'from', 'the', 'mass', ',', 'not', 'from', 'some', 'farcic', 'aquat', 'ceremoni', '.']\n",
            "['den', ':', 'list', ',', 'strange', 'wom', 'lying', 'in', 'pond', 'distribut', 'sword', 'is', 'no', 'bas', 'for', 'a', 'system', 'of', 'govern', '.', 'suprem', 'execut', 'pow', 'der', 'from', 'a', 'mand', 'from', 'the', 'mass', ',', 'not', 'from', 'som', 'farc', 'aqu', 'ceremony', '.']\n"
          ],
          "name": "stdout"
        }
      ]
    },
    {
      "cell_type": "code",
      "metadata": {
        "id": "yKUQb5xdUIbN"
      },
      "source": [
        "class IndexedText(object):\n",
        "\n",
        "    def __init__(self, stemmer, text):\n",
        "        self._text = text\n",
        "        self._stemmer = stemmer\n",
        "        self._index = nltk.Index((self._stem(word), i)\n",
        "                                 for (i, word) in enumerate(text))\n",
        "        \n",
        "    def concordance(self, word, width=40):\n",
        "        key = self._stem(word)\n",
        "        wc = int(width / 4)         # words of context\n",
        "        for i in self._index[key]:\n",
        "            lcontext = \" \".join(self._text[i-wc:i])\n",
        "            rcontext = \" \".join(self._text[i:i+wc])\n",
        "            ldisplay = \"{:>{width}}\".format(lcontext[-width:], width=width)\n",
        "            rdisplay = \"{:{width}}\".format(rcontext[:width], width=width)\n",
        "            print(ldisplay, rdisplay)\n",
        "    \n",
        "    def _stem(self, word):\n",
        "        return self._stemmer.stem(word).lower()\n"
      ],
      "execution_count": null,
      "outputs": []
    },
    {
      "cell_type": "code",
      "metadata": {
        "colab": {
          "base_uri": "https://localhost:8080/"
        },
        "id": "Xv4Nd_cOjR8E",
        "outputId": "cab77e63-4b34-4cdc-ff47-ffca07119967"
      },
      "source": [
        "porter = nltk.PorterStemmer()\n",
        "grail = nltk.corpus.webtext.words('grail.txt')\n",
        "text = IndexedText(porter, grail)\n",
        "text.concordance('lie')"
      ],
      "execution_count": 137,
      "outputs": [
        {
          "output_type": "stream",
          "text": [
            "r king ! DENNIS : Listen , strange women lying in ponds distributing swords is no\n",
            " beat a very brave retreat . ROBIN : All lies ! MINSTREL : [ singing ] Bravest of\n",
            "       Nay . Nay . Come . Come . You may lie here . Oh , but you are wounded !   \n",
            "doctors immediately ! No , no , please ! Lie down . [ clap clap ] PIGLET : Well  \n",
            "ere is much danger , for beyond the cave lies the Gorge of Eternal Peril , which \n",
            "   you . Oh ... TIM : To the north there lies a cave -- the cave of Caerbannog --\n",
            "h it and lived ! Bones of full fifty men lie strewn about its lair . So , brave k\n",
            "not stop our fight ' til each one of you lies dead , and the Holy Grail returns t\n"
          ],
          "name": "stdout"
        }
      ]
    },
    {
      "cell_type": "markdown",
      "metadata": {
        "id": "KpKbWvW4kH1i"
      },
      "source": [
        "Lemmatization"
      ]
    },
    {
      "cell_type": "code",
      "metadata": {
        "colab": {
          "base_uri": "https://localhost:8080/"
        },
        "id": "584mvNCOm42B",
        "outputId": "267b2371-1584-4dd4-bac3-cb70211a5809"
      },
      "source": [
        "wnl = nltk.WordNetLemmatizer()\n",
        "print([wnl.lemmatize(t) for t in tokens])"
      ],
      "execution_count": 142,
      "outputs": [
        {
          "output_type": "stream",
          "text": [
            "['DENNIS', ':', 'Listen', ',', 'strange', 'woman', 'lying', 'in', 'pond', 'distributing', 'sword', 'is', 'no', 'basis', 'for', 'a', 'system', 'of', 'government', '.', 'Supreme', 'executive', 'power', 'derives', 'from', 'a', 'mandate', 'from', 'the', 'mass', ',', 'not', 'from', 'some', 'farcical', 'aquatic', 'ceremony', '.']\n"
          ],
          "name": "stdout"
        }
      ]
    },
    {
      "cell_type": "markdown",
      "metadata": {
        "id": "2SuDcRdZnGQc"
      },
      "source": [
        "#### Regular Expressions for Tokenizing Text"
      ]
    },
    {
      "cell_type": "markdown",
      "metadata": {
        "id": "9AWCJov9nzew"
      },
      "source": [
        "Simple Approaches to Tokenization"
      ]
    },
    {
      "cell_type": "code",
      "metadata": {
        "id": "eTXWOUmAn8-Q"
      },
      "source": [
        "raw = \"\"\"'When I'M a Duchess,' she said to herself, (not in a very hopeful tone\n",
        "... though), 'I won't have any pepper in my kitchen AT ALL. Soup does very\n",
        "... well without--Maybe it's always pepper that makes people hot-tempered,'...\"\"\""
      ],
      "execution_count": 143,
      "outputs": []
    },
    {
      "cell_type": "code",
      "metadata": {
        "colab": {
          "base_uri": "https://localhost:8080/"
        },
        "id": "A3K7e_4LoFoi",
        "outputId": "0deb1a6d-cc91-449e-d942-58c8eb78e3e3"
      },
      "source": [
        "print(re.split(r\" \", raw))\n",
        "print(re.split(r\"[ \\t\\n]+\", raw))\n",
        "print(re.split(r\"\\s+\", raw)) # splits on all white spaces"
      ],
      "execution_count": 148,
      "outputs": [
        {
          "output_type": "stream",
          "text": [
            "[\"'When\", \"I'M\", 'a', \"Duchess,'\", 'she', 'said', 'to', 'herself,', '(not', 'in', 'a', 'very', 'hopeful', 'tone\\nthough),', \"'I\", \"won't\", 'have', 'any', 'pepper', 'in', 'my', 'kitchen', 'AT', 'ALL.', 'Soup', 'does', 'very\\nwell', 'without--Maybe', \"it's\", 'always', 'pepper', 'that', 'makes', 'people', \"hot-tempered,'...\"]\n",
            "[\"'When\", \"I'M\", 'a', \"Duchess,'\", 'she', 'said', 'to', 'herself,', '(not', 'in', 'a', 'very', 'hopeful', 'tone', 'though),', \"'I\", \"won't\", 'have', 'any', 'pepper', 'in', 'my', 'kitchen', 'AT', 'ALL.', 'Soup', 'does', 'very', 'well', 'without--Maybe', \"it's\", 'always', 'pepper', 'that', 'makes', 'people', \"hot-tempered,'...\"]\n",
            "[\"'When\", \"I'M\", 'a', \"Duchess,'\", 'she', 'said', 'to', 'herself,', '(not', 'in', 'a', 'very', 'hopeful', 'tone', 'though),', \"'I\", \"won't\", 'have', 'any', 'pepper', 'in', 'my', 'kitchen', 'AT', 'ALL.', 'Soup', 'does', 'very', 'well', 'without--Maybe', \"it's\", 'always', 'pepper', 'that', 'makes', 'people', \"hot-tempered,'...\"]\n"
          ],
          "name": "stdout"
        }
      ]
    },
    {
      "cell_type": "code",
      "metadata": {
        "colab": {
          "base_uri": "https://localhost:8080/"
        },
        "id": "ff4kU_6cog6d",
        "outputId": "7a4e7c3a-7d90-42c4-ad65-1342f194a0f6"
      },
      "source": [
        "print(re.split(r\"\\W+\", raw)) # \\W is anything other than A-Za-z0-9_"
      ],
      "execution_count": 151,
      "outputs": [
        {
          "output_type": "stream",
          "text": [
            "['', 'When', 'I', 'M', 'a', 'Duchess', 'she', 'said', 'to', 'herself', 'not', 'in', 'a', 'very', 'hopeful', 'tone', 'though', 'I', 'won', 't', 'have', 'any', 'pepper', 'in', 'my', 'kitchen', 'AT', 'ALL', 'Soup', 'does', 'very', 'well', 'without', 'Maybe', 'it', 's', 'always', 'pepper', 'that', 'makes', 'people', 'hot', 'tempered', '']\n"
          ],
          "name": "stdout"
        }
      ]
    },
    {
      "cell_type": "code",
      "metadata": {
        "colab": {
          "base_uri": "https://localhost:8080/"
        },
        "id": "eDoWhvO6pxPH",
        "outputId": "95f0ab24-8f7e-49fb-87ef-6e2ce8ca8ff0"
      },
      "source": [
        "print(re.findall(r\"\\w+|\\S\\w*\", raw))"
      ],
      "execution_count": 154,
      "outputs": [
        {
          "output_type": "stream",
          "text": [
            "[\"'When\", 'I', \"'M\", 'a', 'Duchess', ',', \"'\", 'she', 'said', 'to', 'herself', ',', '(not', 'in', 'a', 'very', 'hopeful', 'tone', 'though', ')', ',', \"'I\", 'won', \"'t\", 'have', 'any', 'pepper', 'in', 'my', 'kitchen', 'AT', 'ALL', '.', 'Soup', 'does', 'very', 'well', 'without', '-', '-Maybe', 'it', \"'s\", 'always', 'pepper', 'that', 'makes', 'people', 'hot', '-tempered', ',', \"'\", '.', '.', '.']\n"
          ],
          "name": "stdout"
        }
      ]
    },
    {
      "cell_type": "code",
      "metadata": {
        "colab": {
          "base_uri": "https://localhost:8080/"
        },
        "id": "IhSP7XA3qmrB",
        "outputId": "2eb1ac23-0859-40f2-9267-7a8a285b2441"
      },
      "source": [
        "print(re.findall(r\"\\w+(?:[-']\\w+)*|'|[-.(]+|\\S\\w*\", raw))"
      ],
      "execution_count": 156,
      "outputs": [
        {
          "output_type": "stream",
          "text": [
            "[\"'\", 'When', \"I'M\", 'a', 'Duchess', ',', \"'\", 'she', 'said', 'to', 'herself', ',', '(', 'not', 'in', 'a', 'very', 'hopeful', 'tone', 'though', ')', ',', \"'\", 'I', \"won't\", 'have', 'any', 'pepper', 'in', 'my', 'kitchen', 'AT', 'ALL', '.', 'Soup', 'does', 'very', 'well', 'without', '--', 'Maybe', \"it's\", 'always', 'pepper', 'that', 'makes', 'people', 'hot-tempered', ',', \"'\", '...']\n"
          ],
          "name": "stdout"
        }
      ]
    },
    {
      "cell_type": "markdown",
      "metadata": {
        "id": "uZh_MhTRrVU1"
      },
      "source": [
        "#### Segmentation"
      ]
    },
    {
      "cell_type": "markdown",
      "metadata": {
        "id": "OI5yDfhK_2rf"
      },
      "source": [
        "Sentence Segmentation"
      ]
    },
    {
      "cell_type": "code",
      "metadata": {
        "colab": {
          "base_uri": "https://localhost:8080/"
        },
        "id": "qEnxw2N6ASf3",
        "outputId": "ad346c4f-9aaf-4e41-84f8-e54b40ebf771"
      },
      "source": [
        "len(nltk.corpus.brown.words()) / len(nltk.corpus.brown.sents())"
      ],
      "execution_count": 157,
      "outputs": [
        {
          "output_type": "execute_result",
          "data": {
            "text/plain": [
              "20.250994070456922"
            ]
          },
          "metadata": {
            "tags": []
          },
          "execution_count": 157
        }
      ]
    },
    {
      "cell_type": "code",
      "metadata": {
        "colab": {
          "base_uri": "https://localhost:8080/"
        },
        "id": "NJpdXqXLAaax",
        "outputId": "08c8c616-9de9-4a1b-c3c3-d4f2fd2e85ce"
      },
      "source": [
        "text = nltk.corpus.gutenberg.raw('chesterton-thursday.txt')\n",
        "sents = nltk.sent_tokenize(text)\n",
        "pprint.pprint(sents[79:89])"
      ],
      "execution_count": 159,
      "outputs": [
        {
          "output_type": "stream",
          "text": [
            "['\"Nonsense!\"',\n",
            " 'said Gregory, who was very rational when anyone else\\nattempted paradox.',\n",
            " '\"Why do all the clerks and navvies in the\\n'\n",
            " 'railway trains look so sad and tired, so very sad and tired?',\n",
            " 'I will\\ntell you.',\n",
            " 'It is because they know that the train is going right.',\n",
            " 'It\\n'\n",
            " 'is because they know that whatever place they have taken a ticket\\n'\n",
            " 'for that place they will reach.',\n",
            " 'It is because after they have\\n'\n",
            " 'passed Sloane Square they know that the next station must be\\n'\n",
            " 'Victoria, and nothing but Victoria.',\n",
            " 'Oh, their wild rapture!',\n",
            " 'oh,\\n'\n",
            " 'their eyes like stars and their souls again in Eden, if the next\\n'\n",
            " 'station were unaccountably Baker Street!\"',\n",
            " '\"It is you who are unpoetical,\" replied the poet Syme.']\n"
          ],
          "name": "stdout"
        }
      ]
    },
    {
      "cell_type": "markdown",
      "metadata": {
        "id": "h7RGKcREA7Hf"
      },
      "source": [
        "Word Segmentation"
      ]
    },
    {
      "cell_type": "code",
      "metadata": {
        "id": "2O57jOFyBeL_"
      },
      "source": [
        "text = \"doyouseethekittyseethedoggydoyoulikethekittylikethedoggy\"\n",
        "seg1 = \"0000000000000001000000000010000000000000000100000000000\"\n",
        "seg2 = \"0100100100100001001001000010100100010010000100010010000\""
      ],
      "execution_count": 160,
      "outputs": []
    },
    {
      "cell_type": "code",
      "metadata": {
        "id": "DpebTCs7CI9e"
      },
      "source": [
        "def segment(text, segs):\n",
        "    words = []\n",
        "    last = 0\n",
        "    for i in range(len(segs)):\n",
        "        if segs[i] == '1':\n",
        "            words.append(text[last:i+1])\n",
        "            last = i + 1\n",
        "    words.append(text[last:])\n",
        "    return words"
      ],
      "execution_count": 161,
      "outputs": []
    },
    {
      "cell_type": "code",
      "metadata": {
        "colab": {
          "base_uri": "https://localhost:8080/"
        },
        "id": "99NGUyxsCwsW",
        "outputId": "96015994-55f1-443a-9d29-b8da2c8a34f2"
      },
      "source": [
        "print(segment(text, seg1))\n",
        "print(segment(text, seg2))"
      ],
      "execution_count": 163,
      "outputs": [
        {
          "output_type": "stream",
          "text": [
            "['doyouseethekitty', 'seethedoggy', 'doyoulikethekitty', 'likethedoggy']\n",
            "['do', 'you', 'see', 'the', 'kitty', 'see', 'the', 'doggy', 'do', 'you', 'like', 'the', 'kitty', 'like', 'the', 'doggy']\n"
          ],
          "name": "stdout"
        }
      ]
    },
    {
      "cell_type": "code",
      "metadata": {
        "id": "mBoZNWxyDbWU"
      },
      "source": [
        "def evaluate(text, segs):\n",
        "    words = segment(text, segs)\n",
        "    text_size = len(words)\n",
        "    lexicon_size = sum(len(word) + 1 for word in set(words))\n",
        "    return text_size + lexicon_size"
      ],
      "execution_count": 164,
      "outputs": []
    },
    {
      "cell_type": "code",
      "metadata": {
        "id": "TgHsOPZNFMYR"
      },
      "source": [
        "text = \"doyouseethekittyseethedoggydoyoulikethekittylikethedoggy\"\n",
        "seg1 = \"0000000000000001000000000010000000000000000100000000000\"\n",
        "seg2 = \"0100100100100001001001000010100100010010000100010010000\"\n",
        "seg3 = \"0000100100000011001000000110000100010000001100010000001\""
      ],
      "execution_count": 165,
      "outputs": []
    },
    {
      "cell_type": "code",
      "metadata": {
        "colab": {
          "base_uri": "https://localhost:8080/"
        },
        "id": "1bQklYa6FT8P",
        "outputId": "e97f953b-5684-414b-a0a9-881176cba79a"
      },
      "source": [
        "print(segment(text, seg3))\n",
        "print(evaluate(text, seg3))\n",
        "print(evaluate(text, seg2))\n",
        "print(evaluate(text, seg1))"
      ],
      "execution_count": 168,
      "outputs": [
        {
          "output_type": "stream",
          "text": [
            "['doyou', 'see', 'thekitt', 'y', 'see', 'thedogg', 'y', 'doyou', 'like', 'thekitt', 'y', 'like', 'thedogg', 'y']\n",
            "47\n",
            "48\n",
            "64\n"
          ],
          "name": "stdout"
        }
      ]
    },
    {
      "cell_type": "code",
      "metadata": {
        "id": "sTltmibsFXwz"
      },
      "source": [
        "from random import randint\n",
        "\n",
        "def flip(segs, pos):\n",
        "    return segs[:pos] + str(1 - int(segs[pos])) + segs[pos + 1:]\n",
        "\n",
        "def flip_n(segs, n):\n",
        "    for i in range(n):\n",
        "        segs = flip(segs, randint(0, len(segs) - 1))\n",
        "    return segs\n",
        "\n",
        "def anneal(text, segs, iterations, cooling_rate):\n",
        "    temperature = float(len(segs))\n",
        "    while temperature > 0.5:\n",
        "        best_segs, best = segs, evaluate(text, segs)\n",
        "        for i in range(iterations):\n",
        "            guess = flip_n(segs, round(temperature))\n",
        "            score = evaluate(text, guess)\n",
        "            if score < best:\n",
        "                best, best_segs = score, guess\n",
        "        score, segs = best, best_segs\n",
        "        temperature = temperature / cooling_rate\n",
        "        print(evaluate(text, segs), segment(text, segs))\n",
        "    print()\n",
        "    return segs"
      ],
      "execution_count": 173,
      "outputs": []
    },
    {
      "cell_type": "code",
      "metadata": {
        "colab": {
          "base_uri": "https://localhost:8080/",
          "height": 505
        },
        "id": "r7tTKuY9Hng-",
        "outputId": "7f4e0a17-625c-44b3-d838-64a5e750bd8c"
      },
      "source": [
        "text = \"doyouseethekittyseethedoggydoyoulikethekittylikethedoggy\"\n",
        "seg1 = \"0000000000000001000000000010000000000000000100000000000\"\n",
        "anneal(text, seg1, 5000, 1.2)"
      ],
      "execution_count": 174,
      "outputs": [
        {
          "output_type": "stream",
          "text": [
            "64 ['doyouseethekitty', 'seethedoggy', 'doyoulikethekitty', 'likethedoggy']\n",
            "64 ['doyouseethekitty', 'seethedoggy', 'doyoulikethekitty', 'likethedoggy']\n",
            "64 ['doyouseethekitty', 'seethedoggy', 'doyoulikethekitty', 'likethedoggy']\n",
            "64 ['doyouseethekitty', 'seethedoggy', 'doyoulikethekitty', 'likethedoggy']\n",
            "64 ['doyouseethekitty', 'seethedoggy', 'doyoulikethekitty', 'likethedoggy']\n",
            "62 ['d', 'oyouse', 'ethekitty', 's', 'eet', 'hedoggy', 'doyoul', 'ik', 'ethekitty', 'l', 'iket', 'hedoggy']\n",
            "62 ['d', 'oyouse', 'ethekitty', 's', 'eet', 'hedoggy', 'doyoul', 'ik', 'ethekitty', 'l', 'iket', 'hedoggy']\n",
            "61 ['doyouse', 'ethekitty', 's', 'e', 'et', 'hedoggy', 'd', 'oyoul', 'ik', 'ethekitty', 'lik', 'et', 'hedoggy']\n",
            "61 ['doyouse', 'ethekitty', 's', 'e', 'et', 'hedoggy', 'd', 'oyoul', 'ik', 'ethekitty', 'lik', 'et', 'hedoggy']\n",
            "61 ['doyouse', 'ethekitty', 's', 'e', 'et', 'hedoggy', 'd', 'oyoul', 'ik', 'ethekitty', 'lik', 'et', 'hedoggy']\n",
            "61 ['doyouse', 'ethekitty', 's', 'e', 'et', 'hedoggy', 'd', 'oyoul', 'ik', 'ethekitty', 'lik', 'et', 'hedoggy']\n",
            "61 ['doyouse', 'ethekitty', 's', 'e', 'et', 'hedoggy', 'd', 'oyoul', 'ik', 'ethekitty', 'lik', 'et', 'hedoggy']\n",
            "58 ['doyous', 'e', 'ethekitty', 'se', 'et', 'hedoggy', 'doyoul', 'ik', 'ethekitty', 'l', 'ik', 'et', 'hedoggy']\n",
            "57 ['do', 'yous', 'e', 'ethekitty', 'se', 'ethedoggy', 'doyoul', 'ik', 'ethekitty', 'l', 'ik', 'ethedoggy']\n",
            "54 ['do', 'youse', 'ethekitty', 'se', 'ethedoggy', 'do', 'youl', 'ik', 'ethekitty', 'l', 'ik', 'ethedoggy']\n",
            "49 ['do', 'you', 'se', 'ethekitty', 'se', 'ethedoggy', 'do', 'you', 'l', 'ik', 'ethekitty', 'l', 'ik', 'ethedoggy']\n",
            "49 ['do', 'you', 'se', 'ethekitty', 'se', 'ethedoggy', 'do', 'you', 'l', 'ik', 'ethekitty', 'l', 'ik', 'ethedoggy']\n",
            "46 ['doyou', 'se', 'ethekitty', 'se', 'ethedoggy', 'doyou', 'l', 'ik', 'ethekitty', 'l', 'ik', 'ethedoggy']\n",
            "43 ['doyou', 'se', 'ethekitty', 'se', 'ethedoggy', 'doyou', 'lik', 'ethekitty', 'lik', 'ethedoggy']\n",
            "43 ['doyou', 'se', 'ethekitty', 'se', 'ethedoggy', 'doyou', 'lik', 'ethekitty', 'lik', 'ethedoggy']\n",
            "43 ['doyou', 'se', 'ethekitty', 'se', 'ethedoggy', 'doyou', 'lik', 'ethekitty', 'lik', 'ethedoggy']\n",
            "43 ['doyou', 'se', 'ethekitty', 'se', 'ethedoggy', 'doyou', 'lik', 'ethekitty', 'lik', 'ethedoggy']\n",
            "43 ['doyou', 'se', 'ethekitty', 'se', 'ethedoggy', 'doyou', 'lik', 'ethekitty', 'lik', 'ethedoggy']\n",
            "43 ['doyou', 'se', 'ethekitty', 'se', 'ethedoggy', 'doyou', 'lik', 'ethekitty', 'lik', 'ethedoggy']\n",
            "43 ['doyou', 'se', 'ethekitty', 'se', 'ethedoggy', 'doyou', 'lik', 'ethekitty', 'lik', 'ethedoggy']\n",
            "43 ['doyou', 'se', 'ethekitty', 'se', 'ethedoggy', 'doyou', 'lik', 'ethekitty', 'lik', 'ethedoggy']\n",
            "\n"
          ],
          "name": "stdout"
        },
        {
          "output_type": "execute_result",
          "data": {
            "application/vnd.google.colaboratory.intrinsic+json": {
              "type": "string"
            },
            "text/plain": [
              "'0000101000000001010000000010000100100000000100100000000'"
            ]
          },
          "metadata": {
            "tags": []
          },
          "execution_count": 174
        }
      ]
    },
    {
      "cell_type": "markdown",
      "metadata": {
        "id": "2ZTq-nHeHvsB"
      },
      "source": [
        "#### Formatting: From Lists to Strings"
      ]
    },
    {
      "cell_type": "markdown",
      "metadata": {
        "id": "NFspdlH7e22l"
      },
      "source": [
        "From Lists to Strings"
      ]
    },
    {
      "cell_type": "code",
      "metadata": {
        "colab": {
          "base_uri": "https://localhost:8080/"
        },
        "id": "y3lVPXxee56q",
        "outputId": "081c54ce-0f88-48d5-e1e3-9b47affc8114"
      },
      "source": [
        "silly = ['We', 'called', 'him', 'Tortoise', 'because', 'he', 'taught', 'us', '.']\n",
        "print(\" \".join(silly))\n",
        "print(\";\".join(silly))\n",
        "print(''.join(silly))"
      ],
      "execution_count": 175,
      "outputs": [
        {
          "output_type": "stream",
          "text": [
            "We called him Tortoise because he taught us .\n",
            "We;called;him;Tortoise;because;he;taught;us;.\n",
            "WecalledhimTortoisebecausehetaughtus.\n"
          ],
          "name": "stdout"
        }
      ]
    },
    {
      "cell_type": "markdown",
      "metadata": {
        "id": "DHi14uY5fLIY"
      },
      "source": [
        "Strings and Formats"
      ]
    },
    {
      "cell_type": "code",
      "metadata": {
        "colab": {
          "base_uri": "https://localhost:8080/",
          "height": 88
        },
        "id": "NEQZFM35fYEH",
        "outputId": "e36d1398-5fa3-4043-f325-f1f15fae3ba4"
      },
      "source": [
        "word = 'cat'\n",
        "sentence = \"\"\"hello\n",
        "world\"\"\"\n",
        "print(word)\n",
        "print(sentence)\n",
        "word\n",
        "sentence"
      ],
      "execution_count": 179,
      "outputs": [
        {
          "output_type": "stream",
          "text": [
            "cat\n",
            "hello\n",
            "world\n"
          ],
          "name": "stdout"
        },
        {
          "output_type": "execute_result",
          "data": {
            "application/vnd.google.colaboratory.intrinsic+json": {
              "type": "string"
            },
            "text/plain": [
              "'hello\\nworld'"
            ]
          },
          "metadata": {
            "tags": []
          },
          "execution_count": 179
        }
      ]
    },
    {
      "cell_type": "code",
      "metadata": {
        "colab": {
          "base_uri": "https://localhost:8080/"
        },
        "id": "L7nHnYBOfnN7",
        "outputId": "5c269435-1c59-4bf9-a884-f9dd65315eac"
      },
      "source": [
        "fdist = nltk.FreqDist(['dog', 'cat', 'dog', 'cat', 'dog', 'snake', 'dog', 'cat'])\n",
        "for word in sorted(fdist):\n",
        "    print(word, '->', fdist[word], end='; ')"
      ],
      "execution_count": 180,
      "outputs": [
        {
          "output_type": "stream",
          "text": [
            "cat -> 3; dog -> 4; snake -> 1; "
          ],
          "name": "stdout"
        }
      ]
    },
    {
      "cell_type": "code",
      "metadata": {
        "colab": {
          "base_uri": "https://localhost:8080/"
        },
        "id": "zdmkxkFOgIjE",
        "outputId": "e549179b-f169-4e45-ba8d-1d47639d7f51"
      },
      "source": [
        "for word in sorted(fdist):\n",
        "    print(f\"{word}->{fdist[word]}\", end='; ')"
      ],
      "execution_count": 183,
      "outputs": [
        {
          "output_type": "stream",
          "text": [
            "cat->3; dog->4; snake->1; "
          ],
          "name": "stdout"
        }
      ]
    },
    {
      "cell_type": "code",
      "metadata": {
        "colab": {
          "base_uri": "https://localhost:8080/",
          "height": 36
        },
        "id": "wutcYCFoghGL",
        "outputId": "818cd270-0ac9-47e9-9973-be8226656b22"
      },
      "source": [
        "f\"{90/100:.2%}\""
      ],
      "execution_count": 193,
      "outputs": [
        {
          "output_type": "execute_result",
          "data": {
            "application/vnd.google.colaboratory.intrinsic+json": {
              "type": "string"
            },
            "text/plain": [
              "'90.00%'"
            ]
          },
          "metadata": {
            "tags": []
          },
          "execution_count": 193
        }
      ]
    },
    {
      "cell_type": "code",
      "metadata": {
        "id": "e2q0YK5Pht8I"
      },
      "source": [
        "def tabulate(cfdist, words, categories):\n",
        "    print(f\"{'Category':16}\", end=' ')                            #column heading\n",
        "    for word in words:                                           \n",
        "        print(f\"{word:>6}\", end=' ')\n",
        "    print()\n",
        "    for category in categories:\n",
        "        print(f'{category:16}', end=' ')                            # row heading\n",
        "        for word in words:                                          # for each word\n",
        "            print(f\"{cfdist[category][word]:6}\", end=' ')           # print table cell\n",
        "        print()                                                     # end the row"
      ],
      "execution_count": 194,
      "outputs": []
    },
    {
      "cell_type": "code",
      "metadata": {
        "colab": {
          "base_uri": "https://localhost:8080/"
        },
        "id": "ZzNGm87ejHb5",
        "outputId": "3b723607-aa53-4a21-8c9f-1bd3c303481e"
      },
      "source": [
        "from nltk.corpus import brown\n",
        "cfd = nltk.ConditionalFreqDist(\n",
        "            (genre, word)\n",
        "            for genre in brown.categories()\n",
        "            for word in brown.words(categories=genre))\n",
        "genres = ['news', 'religion', 'hobbies', 'science_fiction', 'romance', 'humor']\n",
        "modals = ['can', 'could', 'may', 'might', 'must', 'will']\n",
        "tabulate(cfd, modals, genres)"
      ],
      "execution_count": 195,
      "outputs": [
        {
          "output_type": "stream",
          "text": [
            "Category            can  could    may  might   must   will \n",
            "news                 93     86     66     38     50    389 \n",
            "religion             82     59     78     12     54     71 \n",
            "hobbies             268     58    131     22     83    264 \n",
            "science_fiction      16     49      4     12      8     16 \n",
            "romance              74    193     11     51     45     43 \n",
            "humor                16     30      8      8      9     13 \n"
          ],
          "name": "stdout"
        }
      ]
    },
    {
      "cell_type": "markdown",
      "metadata": {
        "id": "XlK1CoHgjqXb"
      },
      "source": [
        "Writing Results to a File"
      ]
    },
    {
      "cell_type": "code",
      "metadata": {
        "id": "gZVrx1Jslv1I"
      },
      "source": [
        "output_file = open('output.txt', 'w')\n",
        "words = set(nltk.corpus.genesis.words('english-kjv.txt'))\n",
        "for word in sorted(words):\n",
        "    print(word, file=output_file)\n",
        "print(str(len(words)), file=output_file)"
      ],
      "execution_count": 200,
      "outputs": []
    },
    {
      "cell_type": "markdown",
      "metadata": {
        "id": "PAdpgLisml68"
      },
      "source": [
        "Text Wrapping"
      ]
    },
    {
      "cell_type": "code",
      "metadata": {
        "colab": {
          "base_uri": "https://localhost:8080/"
        },
        "id": "3ehgYs3dnbhl",
        "outputId": "b29d509d-5c2d-4c53-c70e-7f3768066564"
      },
      "source": [
        "saying = ['After', 'all', 'is', 'said', 'and', 'done', ',',\n",
        "              'more', 'is', 'said', 'than', 'done', '.']\n",
        "for word in saying:\n",
        "    print(word, '(' + str(len(word)) + '),', end=' ')"
      ],
      "execution_count": 213,
      "outputs": [
        {
          "output_type": "stream",
          "text": [
            "After (5), all (3), is (2), said (4), and (3), done (4), , (1), more (4), is (2), said (4), than (4), done (4), . (1), "
          ],
          "name": "stdout"
        }
      ]
    },
    {
      "cell_type": "code",
      "metadata": {
        "colab": {
          "base_uri": "https://localhost:8080/"
        },
        "id": "wea3Yk2Cmtg2",
        "outputId": "28ebf1e0-88a1-4a15-a396-5910ba166c81"
      },
      "source": [
        "from textwrap import fill\n",
        "pieces = [f\"{word} ({len(word)}),\" for word in saying]\n",
        "output = ' '.join(pieces)\n",
        "wrapped = fill(output)\n",
        "print(wrapped)"
      ],
      "execution_count": 217,
      "outputs": [
        {
          "output_type": "stream",
          "text": [
            "After (5), all (3), is (2), said (4), and (3), done (4), , (1), more\n",
            "(4), is (2), said (4), than (4), done (4), . (1),\n"
          ],
          "name": "stdout"
        }
      ]
    },
    {
      "cell_type": "code",
      "metadata": {
        "id": "a0XtuBlqoEJK"
      },
      "source": [
        ""
      ],
      "execution_count": null,
      "outputs": []
    }
  ]
}