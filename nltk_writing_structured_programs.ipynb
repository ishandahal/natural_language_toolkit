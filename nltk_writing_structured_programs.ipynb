{
  "nbformat": 4,
  "nbformat_minor": 0,
  "metadata": {
    "colab": {
      "name": "nltk_writing_structured_programs.ipynb",
      "provenance": [],
      "authorship_tag": "ABX9TyPzJY6S1j4eqpGNRmR5Gihl",
      "include_colab_link": true
    },
    "kernelspec": {
      "name": "python3",
      "display_name": "Python 3"
    }
  },
  "cells": [
    {
      "cell_type": "markdown",
      "metadata": {
        "id": "view-in-github",
        "colab_type": "text"
      },
      "source": [
        "<a href=\"https://colab.research.google.com/github/ishandahal/natural_language_toolkit/blob/main/nltk_writing_structured_programs.ipynb\" target=\"_parent\"><img src=\"https://colab.research.google.com/assets/colab-badge.svg\" alt=\"Open In Colab\"/></a>"
      ]
    },
    {
      "cell_type": "code",
      "metadata": {
        "id": "BDUI4YVWDgLy"
      },
      "source": [
        "import pprint, nltk, re\n",
        "from nltk import word_tokenize"
      ],
      "execution_count": 1,
      "outputs": []
    },
    {
      "cell_type": "code",
      "metadata": {
        "colab": {
          "base_uri": "https://localhost:8080/"
        },
        "id": "ACm9ADfCFErn",
        "outputId": "8287f747-470c-4b55-9bf1-fe61887b6cbc"
      },
      "source": [
        "nltk.download(['punkt', 'brown', 'wordnet', 'movie_reviews'])"
      ],
      "execution_count": 76,
      "outputs": [
        {
          "output_type": "stream",
          "text": [
            "[nltk_data] Downloading package punkt to /root/nltk_data...\n",
            "[nltk_data]   Package punkt is already up-to-date!\n",
            "[nltk_data] Downloading package brown to /root/nltk_data...\n",
            "[nltk_data]   Package brown is already up-to-date!\n",
            "[nltk_data] Downloading package wordnet to /root/nltk_data...\n",
            "[nltk_data]   Package wordnet is already up-to-date!\n",
            "[nltk_data] Downloading package movie_reviews to /root/nltk_data...\n",
            "[nltk_data]   Unzipping corpora/movie_reviews.zip.\n"
          ],
          "name": "stdout"
        },
        {
          "output_type": "execute_result",
          "data": {
            "text/plain": [
              "True"
            ]
          },
          "metadata": {
            "tags": []
          },
          "execution_count": 76
        }
      ]
    },
    {
      "cell_type": "markdown",
      "metadata": {
        "id": "c_fIasHE5T6b"
      },
      "source": [
        "#### Functions: The Foundation of Structured Programming"
      ]
    },
    {
      "cell_type": "code",
      "metadata": {
        "id": "xE3KLhZ7-lrP"
      },
      "source": [
        "def get_text(file):\n",
        "    \"\"\"Read text from a file, normalizing whitespace and stripping HTML markup.\"\"\"\n",
        "    text = open(file).read()\n",
        "    text = re.sub(r\"<.*?>\", \" \", text)\n",
        "    text = re.sub('\\s+', ' ', text)\n",
        "    return text"
      ],
      "execution_count": 3,
      "outputs": []
    },
    {
      "cell_type": "code",
      "metadata": {
        "id": "hAuRdka8xeNp"
      },
      "source": [
        "p = []\n",
        "properties = p\n",
        "properties.append('noun')"
      ],
      "execution_count": 4,
      "outputs": []
    },
    {
      "cell_type": "markdown",
      "metadata": {
        "id": "Zyussdcd0SLu"
      },
      "source": [
        "#### Functional Decomposition"
      ]
    },
    {
      "cell_type": "code",
      "metadata": {
        "id": "LqmauPumD00J"
      },
      "source": [
        "from urllib import request\n",
        "from bs4 import BeautifulSoup\n",
        "\n",
        "\n",
        "def freq_words(url, freqdist, n):\n",
        "    html = request.urlopen(url).read().decode('utf8')\n",
        "    raw = BeautifulSoup(html, 'html.parser').get_text()\n",
        "    for word in word_tokenize(raw):\n",
        "        freqdist[word.lower()] += 1\n",
        "    result = []\n",
        "    for word, count in freqdist.most_common(n):\n",
        "        result = result + [word]\n",
        "    print(result)"
      ],
      "execution_count": 5,
      "outputs": []
    },
    {
      "cell_type": "code",
      "metadata": {
        "colab": {
          "base_uri": "https://localhost:8080/"
        },
        "id": "qRySeWp3EcDW",
        "outputId": "79ed6c43-4434-493f-d77a-7539587b0c32"
      },
      "source": [
        "constitution = \"http://www.archives.gov/exhibits/charters/constitution_transcript.html\"\n",
        "fd = nltk.FreqDist()\n",
        "freq_words(constitution, fd, 30)"
      ],
      "execution_count": 6,
      "outputs": [
        {
          "output_type": "stream",
          "text": [
            "[\"''\", ',', ':', ':1', ';', 'the', '(', ')', '``', '{', '}', 'of', '?', 'url', 'https', '@', 'import', 'qkh987', \"'\", 'archives', '#', 'and', '.', '[', ']', 'national', 'a', 'documents', 'constitution', 'founding']\n"
          ],
          "name": "stdout"
        }
      ]
    },
    {
      "cell_type": "markdown",
      "metadata": {
        "id": "Z-cxtBerGQq6"
      },
      "source": [
        "Refactoring above function"
      ]
    },
    {
      "cell_type": "code",
      "metadata": {
        "id": "V2OnFMYIFBi0"
      },
      "source": [
        "from urllib import request\n",
        "from bs4 import BeautifulSoup\n",
        "\n",
        "def freq_words(url, n):\n",
        "    html = request.urlopen(url).read().decode('utf8')\n",
        "    text = BeautifulSoup(html, 'html.parser').get_text()\n",
        "    freq_dist = nltk.FreqDist(word.lower() for word in word_tokenize(text))\n",
        "    return [word for (word, _) in fd.most_common(n)]"
      ],
      "execution_count": 7,
      "outputs": []
    },
    {
      "cell_type": "code",
      "metadata": {
        "colab": {
          "base_uri": "https://localhost:8080/"
        },
        "id": "VNWqwEK_HJEx",
        "outputId": "56bc1239-3367-41c3-b18c-ff73e336446d"
      },
      "source": [
        "print(freq_words(constitution, 30))"
      ],
      "execution_count": 8,
      "outputs": [
        {
          "output_type": "stream",
          "text": [
            "[\"''\", ',', ':', ':1', ';', 'the', '(', ')', '``', '{', '}', 'of', '?', 'url', 'https', '@', 'import', 'qkh987', \"'\", 'archives', '#', 'and', '.', '[', ']', 'national', 'a', 'documents', 'constitution', 'founding']\n"
          ],
          "name": "stdout"
        }
      ]
    },
    {
      "cell_type": "markdown",
      "metadata": {
        "id": "Ch2rqBicHUof"
      },
      "source": [
        "Functions as arguments"
      ]
    },
    {
      "cell_type": "code",
      "metadata": {
        "colab": {
          "base_uri": "https://localhost:8080/"
        },
        "id": "nREyPn-KJYol",
        "outputId": "bf1214f6-cf18-4441-f545-bff69d6e659d"
      },
      "source": [
        "sent = ['Take', 'care', 'of', 'the', 'sense', ',', 'and', 'the',\n",
        "        'sounds', 'will', 'take', 'care', 'of', 'themselves', '.']\n",
        "def extract_property(prop):\n",
        "    return [prop(word) for word in sent]\n",
        "\n",
        "extract_property(len)"
      ],
      "execution_count": 9,
      "outputs": [
        {
          "output_type": "execute_result",
          "data": {
            "text/plain": [
              "[4, 4, 2, 3, 5, 1, 3, 3, 6, 4, 4, 4, 2, 10, 1]"
            ]
          },
          "metadata": {
            "tags": []
          },
          "execution_count": 9
        }
      ]
    },
    {
      "cell_type": "code",
      "metadata": {
        "colab": {
          "base_uri": "https://localhost:8080/"
        },
        "id": "l1oY_vJ3Jv9n",
        "outputId": "768c5616-6ffd-4d89-b317-b068d57af916"
      },
      "source": [
        "def last_letter(word):\n",
        "    return word[-1]\n",
        "\n",
        "extract_property(last_letter)"
      ],
      "execution_count": 10,
      "outputs": [
        {
          "output_type": "execute_result",
          "data": {
            "text/plain": [
              "['e', 'e', 'f', 'e', 'e', ',', 'd', 'e', 's', 'l', 'e', 'e', 'f', 's', '.']"
            ]
          },
          "metadata": {
            "tags": []
          },
          "execution_count": 10
        }
      ]
    },
    {
      "cell_type": "code",
      "metadata": {
        "colab": {
          "base_uri": "https://localhost:8080/"
        },
        "id": "zcTcGy3KJ7-H",
        "outputId": "e46ca3e3-b398-4b3d-9156-f658b20b9b59"
      },
      "source": [
        "# lambda function\n",
        "extract_property(lambda x: x[-1])"
      ],
      "execution_count": 11,
      "outputs": [
        {
          "output_type": "execute_result",
          "data": {
            "text/plain": [
              "['e', 'e', 'f', 'e', 'e', ',', 'd', 'e', 's', 'l', 'e', 'e', 'f', 's', '.']"
            ]
          },
          "metadata": {
            "tags": []
          },
          "execution_count": 11
        }
      ]
    },
    {
      "cell_type": "code",
      "metadata": {
        "colab": {
          "base_uri": "https://localhost:8080/"
        },
        "id": "ectt1RfdKNdH",
        "outputId": "1fb972e8-0b54-4ab5-a93e-7ef745a598c2"
      },
      "source": [
        "print(sorted(sent))"
      ],
      "execution_count": 12,
      "outputs": [
        {
          "output_type": "stream",
          "text": [
            "[',', '.', 'Take', 'and', 'care', 'care', 'of', 'of', 'sense', 'sounds', 'take', 'the', 'the', 'themselves', 'will']\n"
          ],
          "name": "stdout"
        }
      ]
    },
    {
      "cell_type": "code",
      "metadata": {
        "colab": {
          "base_uri": "https://localhost:8080/"
        },
        "id": "CGDdnaBJKdzn",
        "outputId": "ad7c22ac-6ad7-4cf5-d246-8a6625fecba3"
      },
      "source": [
        "print(sorted(sent, key=lambda x: len(x)))\n",
        "print(sorted(sent, key=len))"
      ],
      "execution_count": 13,
      "outputs": [
        {
          "output_type": "stream",
          "text": [
            "[',', '.', 'of', 'of', 'the', 'and', 'the', 'Take', 'care', 'will', 'take', 'care', 'sense', 'sounds', 'themselves']\n",
            "[',', '.', 'of', 'of', 'the', 'and', 'the', 'Take', 'care', 'will', 'take', 'care', 'sense', 'sounds', 'themselves']\n"
          ],
          "name": "stdout"
        }
      ]
    },
    {
      "cell_type": "markdown",
      "metadata": {
        "id": "FrAC6vWeKjYX"
      },
      "source": [
        "Accumulative Functions "
      ]
    },
    {
      "cell_type": "code",
      "metadata": {
        "id": "4lkEoYMsNLZq"
      },
      "source": [
        "def search1(substring, words):\n",
        "    result = []\n",
        "    for word in words:\n",
        "        if substring in word:\n",
        "            result.append(word)\n",
        "    return result\n",
        "\n",
        "def search2(substring, words):\n",
        "    for word in words:\n",
        "        if substring in word:\n",
        "            yield word\n"
      ],
      "execution_count": 14,
      "outputs": []
    },
    {
      "cell_type": "code",
      "metadata": {
        "colab": {
          "base_uri": "https://localhost:8080/"
        },
        "id": "ulZ0MDxNNoKr",
        "outputId": "b1aa7093-ccba-4aac-f7a8-15ce627c6343"
      },
      "source": [
        "for item in search1('zz', nltk.corpus.brown.words()):\n",
        "    print(item, end=' ')"
      ],
      "execution_count": 15,
      "outputs": [
        {
          "output_type": "stream",
          "text": [
            "Grizzlies' fizzled Rizzuto huzzahs dazzler jazz Pezza Pezza Pezza embezzling embezzlement pizza jazz Ozzie nozzle drizzly puzzle puzzle dazzling Sizzling guzzle puzzles dazzling jazz jazz Jazz jazz Jazz jazz jazz Jazz jazz jazz jazz Jazz jazz dizzy jazz Jazz puzzler jazz jazzmen jazz jazz Jazz Jazz Jazz jazz Jazz jazz jazz jazz Jazz jazz jazz jazz jazz jazz jazz jazz jazz jazz Jazz Jazz jazz jazz nozzles nozzle puzzle buzz puzzle blizzard blizzard sizzling puzzled puzzle puzzle muzzle muzzle muezzin blizzard Neo-Jazz jazz muzzle piazzas puzzles puzzles embezzle buzzed snazzy buzzes puzzled puzzled muzzle whizzing jazz Belshazzar Lizzie Lizzie Lizzie Lizzie Lizzie Lizzie Lizzie Lizzie Lizzie's Lizzie Lizzie Lizzie Lizzie Lizzie Lizzie Lizzie Lizzie Lizzie blizzard blizzards blizzard blizzard fuzzy Lazzeri Piazza piazza palazzi Piazza Piazza Palazzo Palazzo Palazzo Piazza Piazza Palazzo palazzo palazzo Palazzo Palazzo Piazza piazza piazza piazza Piazza Piazza Palazzo palazzo Piazza piazza pizza Piazza Palazzo palazzo dazzling puzzling Wozzek dazzling dazzling buzzing Jazz jazz Jazz Jazz jazz jazz jazz jazz Jazz jazz jazz jazz Fuzzy Lizzy Lizzy jazz fuzzy puzzles puzzling puzzling dazzle puzzle dazzling puzzled jazz jazz jazz jazzy whizzed frazzled quizzical puzzling poetry-and-jazz poetry-and-jazz jazz jazz jazz jazz jazz jazz jazz Jazz jazz jazz jazz poetry-and-jazz jazz jazz jazz Dizzy jazz jazz jazz jazz jazz poetry-and-jazz jazz jazz jazz jazz jazz jazz jazz jazz jazz jazz jazz jazz dazzled bedazzlement bedazzled Piazzo nozzles nozzles buzzing dazzles dizzy puzzling puzzling puzzling puzzle muzzle puzzled nozzle Pozzatti Pozzatti Pozzatti puzzled Pozzatti Pozzatti dazzling pizzicato Jazz jazz jazz jazz jazz nozzle grizzled fuzzy muzzle puzzled puzzle muzzle blizzard buzz dizzily drizzle drizzle drizzle sizzled puzzled puzzled puzzled fuzzed buzz buzz buzz buzz-buzz-buzz buzzes fuzzy frizzled drizzle drizzle drizzling drizzling fuzz jazz jazz fuzz puzzle puzzling Nozze mezzo puzzled puzzled dazzling muzzle muzzle muzzle buzzed whizzed sizzled palazzos puzzlement frizzling puzzled puzzled puzzled dazzling muzzles fuzzy jazz ex-jazz sizzle grizzly guzzled buzzing fuzz nuzzled Kizzie Kizzie Kizzie Kezziah Kizzie Kizzie Buzz's Buzz Buzz Buzz Buzz Buzz Buzz Buzz Buzz dizzy piazza buzzing Puzzled dizziness dazzled Piazza Carrozza fuzzy dizzy buzzing buzzing puzzled puzzling puzzled puzzled Quizzical pizza "
          ],
          "name": "stdout"
        }
      ]
    },
    {
      "cell_type": "code",
      "metadata": {
        "colab": {
          "base_uri": "https://localhost:8080/"
        },
        "id": "BPmljX29N51E",
        "outputId": "96b9e644-8d6a-40dd-d0f8-3ae84217a738"
      },
      "source": [
        "for item in search2('zz', nltk.corpus.brown.words()):\n",
        "    print(item, end=' ')"
      ],
      "execution_count": 16,
      "outputs": [
        {
          "output_type": "stream",
          "text": [
            "Grizzlies' fizzled Rizzuto huzzahs dazzler jazz Pezza Pezza Pezza embezzling embezzlement pizza jazz Ozzie nozzle drizzly puzzle puzzle dazzling Sizzling guzzle puzzles dazzling jazz jazz Jazz jazz Jazz jazz jazz Jazz jazz jazz jazz Jazz jazz dizzy jazz Jazz puzzler jazz jazzmen jazz jazz Jazz Jazz Jazz jazz Jazz jazz jazz jazz Jazz jazz jazz jazz jazz jazz jazz jazz jazz jazz Jazz Jazz jazz jazz nozzles nozzle puzzle buzz puzzle blizzard blizzard sizzling puzzled puzzle puzzle muzzle muzzle muezzin blizzard Neo-Jazz jazz muzzle piazzas puzzles puzzles embezzle buzzed snazzy buzzes puzzled puzzled muzzle whizzing jazz Belshazzar Lizzie Lizzie Lizzie Lizzie Lizzie Lizzie Lizzie Lizzie Lizzie's Lizzie Lizzie Lizzie Lizzie Lizzie Lizzie Lizzie Lizzie Lizzie blizzard blizzards blizzard blizzard fuzzy Lazzeri Piazza piazza palazzi Piazza Piazza Palazzo Palazzo Palazzo Piazza Piazza Palazzo palazzo palazzo Palazzo Palazzo Piazza piazza piazza piazza Piazza Piazza Palazzo palazzo Piazza piazza pizza Piazza Palazzo palazzo dazzling puzzling Wozzek dazzling dazzling buzzing Jazz jazz Jazz Jazz jazz jazz jazz jazz Jazz jazz jazz jazz Fuzzy Lizzy Lizzy jazz fuzzy puzzles puzzling puzzling dazzle puzzle dazzling puzzled jazz jazz jazz jazzy whizzed frazzled quizzical puzzling poetry-and-jazz poetry-and-jazz jazz jazz jazz jazz jazz jazz jazz Jazz jazz jazz jazz poetry-and-jazz jazz jazz jazz Dizzy jazz jazz jazz jazz jazz poetry-and-jazz jazz jazz jazz jazz jazz jazz jazz jazz jazz jazz jazz jazz dazzled bedazzlement bedazzled Piazzo nozzles nozzles buzzing dazzles dizzy puzzling puzzling puzzling puzzle muzzle puzzled nozzle Pozzatti Pozzatti Pozzatti puzzled Pozzatti Pozzatti dazzling pizzicato Jazz jazz jazz jazz jazz nozzle grizzled fuzzy muzzle puzzled puzzle muzzle blizzard buzz dizzily drizzle drizzle drizzle sizzled puzzled puzzled puzzled fuzzed buzz buzz buzz buzz-buzz-buzz buzzes fuzzy frizzled drizzle drizzle drizzling drizzling fuzz jazz jazz fuzz puzzle puzzling Nozze mezzo puzzled puzzled dazzling muzzle muzzle muzzle buzzed whizzed sizzled palazzos puzzlement frizzling puzzled puzzled puzzled dazzling muzzles fuzzy jazz ex-jazz sizzle grizzly guzzled buzzing fuzz nuzzled Kizzie Kizzie Kizzie Kezziah Kizzie Kizzie Buzz's Buzz Buzz Buzz Buzz Buzz Buzz Buzz Buzz dizzy piazza buzzing Puzzled dizziness dazzled Piazza Carrozza fuzzy dizzy buzzing buzzing puzzled puzzling puzzled puzzled Quizzical pizza "
          ],
          "name": "stdout"
        }
      ]
    },
    {
      "cell_type": "code",
      "metadata": {
        "colab": {
          "base_uri": "https://localhost:8080/"
        },
        "id": "pPM8LK6ZOL4k",
        "outputId": "0f079aca-fcb6-437b-fc64-52cabf99a13c"
      },
      "source": [
        "def permutation(seq):\n",
        "    if len(seq) <= 1:\n",
        "        yield seq\n",
        "    else:\n",
        "        for perm in permutation(seq[1:]):\n",
        "            for i in range(len(perm)+1):\n",
        "                yield perm[:i] + seq[0:1] + perm[i:]\n",
        "\n",
        "list(permutation(['police', 'fish', 'buffalo']))"
      ],
      "execution_count": 17,
      "outputs": [
        {
          "output_type": "execute_result",
          "data": {
            "text/plain": [
              "[['police', 'fish', 'buffalo'],\n",
              " ['fish', 'police', 'buffalo'],\n",
              " ['fish', 'buffalo', 'police'],\n",
              " ['police', 'buffalo', 'fish'],\n",
              " ['buffalo', 'police', 'fish'],\n",
              " ['buffalo', 'fish', 'police']]"
            ]
          },
          "metadata": {
            "tags": []
          },
          "execution_count": 17
        }
      ]
    },
    {
      "cell_type": "code",
      "metadata": {
        "colab": {
          "base_uri": "https://localhost:8080/"
        },
        "id": "BaQMKih8Qnu7",
        "outputId": "ccb8a24d-a7f9-47fd-8f5d-537384c69ede"
      },
      "source": [
        "def permutation(seq):\n",
        "    if len(seq) <= 1:\n",
        "        yield seq\n",
        "    else:\n",
        "        for perm in permutation(seq[1:]):\n",
        "            print(perm)\n",
        "            for i in range(len(perm)+1):\n",
        "                yield perm[:i] + seq[0:1] + perm[i:]\n",
        "\n",
        "list(permutation(['police', 'fish', 'buffalo']))"
      ],
      "execution_count": 18,
      "outputs": [
        {
          "output_type": "stream",
          "text": [
            "['buffalo']\n",
            "['fish', 'buffalo']\n",
            "['buffalo', 'fish']\n"
          ],
          "name": "stdout"
        },
        {
          "output_type": "execute_result",
          "data": {
            "text/plain": [
              "[['police', 'fish', 'buffalo'],\n",
              " ['fish', 'police', 'buffalo'],\n",
              " ['fish', 'buffalo', 'police'],\n",
              " ['police', 'buffalo', 'fish'],\n",
              " ['buffalo', 'police', 'fish'],\n",
              " ['buffalo', 'fish', 'police']]"
            ]
          },
          "metadata": {
            "tags": []
          },
          "execution_count": 18
        }
      ]
    },
    {
      "cell_type": "markdown",
      "metadata": {
        "id": "pLwgVX4FRjtj"
      },
      "source": [
        "Higher Order Function"
      ]
    },
    {
      "cell_type": "code",
      "metadata": {
        "colab": {
          "base_uri": "https://localhost:8080/"
        },
        "id": "Zbw1ehIwR58q",
        "outputId": "92184a68-a70d-4a64-a3db-9923fd408342"
      },
      "source": [
        "def is_content_word(word):\n",
        "    return word.lower() not in ['a', 'of', 'the', 'and', 'will', ',', '.']\n",
        "\n",
        "sent = ['Take', 'care', 'of', 'the', 'sense', ',', 'and', 'the',\n",
        "        'sounds', 'will', 'take', 'care', 'of', 'themselves', '.']\n",
        "\n",
        "list(filter(is_content_word, sent))"
      ],
      "execution_count": 19,
      "outputs": [
        {
          "output_type": "execute_result",
          "data": {
            "text/plain": [
              "['Take', 'care', 'sense', 'sounds', 'take', 'care', 'themselves']"
            ]
          },
          "metadata": {
            "tags": []
          },
          "execution_count": 19
        }
      ]
    },
    {
      "cell_type": "code",
      "metadata": {
        "colab": {
          "base_uri": "https://localhost:8080/"
        },
        "id": "c4kg8v7ATIAu",
        "outputId": "4a72825e-9a62-4bc0-aee1-b72034b9d917"
      },
      "source": [
        "[word for word in sent if is_content_word(word)]"
      ],
      "execution_count": 20,
      "outputs": [
        {
          "output_type": "execute_result",
          "data": {
            "text/plain": [
              "['Take', 'care', 'sense', 'sounds', 'take', 'care', 'themselves']"
            ]
          },
          "metadata": {
            "tags": []
          },
          "execution_count": 20
        }
      ]
    },
    {
      "cell_type": "code",
      "metadata": {
        "colab": {
          "base_uri": "https://localhost:8080/"
        },
        "id": "PpmGfSUlTU49",
        "outputId": "8402db97-3220-402f-f914-f1cdb445a193"
      },
      "source": [
        "lengths = list(map(len, nltk.corpus.brown.sents(categories='news')))\n",
        "sum(lengths) / len(lengths)"
      ],
      "execution_count": 21,
      "outputs": [
        {
          "output_type": "execute_result",
          "data": {
            "text/plain": [
              "21.75081116158339"
            ]
          },
          "metadata": {
            "tags": []
          },
          "execution_count": 21
        }
      ]
    },
    {
      "cell_type": "code",
      "metadata": {
        "colab": {
          "base_uri": "https://localhost:8080/"
        },
        "id": "cdEcGxkETq6Z",
        "outputId": "52c15189-22b2-494b-e4d7-1803faf73f24"
      },
      "source": [
        "lengths = [len(sent) for sent in nltk.corpus.brown.sents(categories='news')]\n",
        "sum(lengths) / len(lengths)"
      ],
      "execution_count": 22,
      "outputs": [
        {
          "output_type": "execute_result",
          "data": {
            "text/plain": [
              "21.75081116158339"
            ]
          },
          "metadata": {
            "tags": []
          },
          "execution_count": 22
        }
      ]
    },
    {
      "cell_type": "code",
      "metadata": {
        "id": "cjTOrDxrUOvb"
      },
      "source": [
        "song = [['four', 'calling', 'birds'],\n",
        "        ['three', 'French', 'hens'],\n",
        "        ['two', 'turtle', 'doves']]"
      ],
      "execution_count": 23,
      "outputs": []
    },
    {
      "cell_type": "code",
      "metadata": {
        "colab": {
          "base_uri": "https://localhost:8080/"
        },
        "id": "sQy3rZNWU5VA",
        "outputId": "c11ad343-19c4-4965-f1f1-4d24a739de99"
      },
      "source": [
        "list(zip(song[0], song[1], song[2]))"
      ],
      "execution_count": 24,
      "outputs": [
        {
          "output_type": "execute_result",
          "data": {
            "text/plain": [
              "[('four', 'three', 'two'),\n",
              " ('calling', 'French', 'turtle'),\n",
              " ('birds', 'hens', 'doves')]"
            ]
          },
          "metadata": {
            "tags": []
          },
          "execution_count": 24
        }
      ]
    },
    {
      "cell_type": "code",
      "metadata": {
        "colab": {
          "base_uri": "https://localhost:8080/"
        },
        "id": "QKF0pebUWjQ0",
        "outputId": "884f85ab-289e-4d27-b732-d5ad27686230"
      },
      "source": [
        "list(zip(*song))"
      ],
      "execution_count": 25,
      "outputs": [
        {
          "output_type": "execute_result",
          "data": {
            "text/plain": [
              "[('four', 'three', 'two'),\n",
              " ('calling', 'French', 'turtle'),\n",
              " ('birds', 'hens', 'doves')]"
            ]
          },
          "metadata": {
            "tags": []
          },
          "execution_count": 25
        }
      ]
    },
    {
      "cell_type": "code",
      "metadata": {
        "id": "TyFJgNszWvhI"
      },
      "source": [
        "def freq_words(file, min=1, num=10):\n",
        "    text = open(file).read()\n",
        "    tokens = word_tokenize(text)\n",
        "    freqdist = nltk.FreqDist(t for t in tokens if len(t) >= min)\n",
        "    return freqdist.most_common(num)\n",
        "fw = freq_words('ch01.rst', 4, 10)\n",
        "fw = freq_words('ch01.rst', min=4, num=10)\n",
        "fw = freq_words('ch01.rst', num=10, min=4)"
      ],
      "execution_count": null,
      "outputs": []
    },
    {
      "cell_type": "markdown",
      "metadata": {
        "id": "pz_S85ggXbns"
      },
      "source": [
        "Verbose implementation"
      ]
    },
    {
      "cell_type": "code",
      "metadata": {
        "id": "VUzbVe-iXsZz"
      },
      "source": [
        "def freq_words(file, min=1, num=10, verbose=False):\n",
        "    freqdist = FreqDist()\n",
        "    if verbose: print('Opening', file)\n",
        "    text = open(file).read()\n",
        "    if verbose: print(f'Read in {len(file)}')\n",
        "    for word in word_tokenize(text):\n",
        "        if len(word) >= min:\n",
        "            freqdist[word] += 1\n",
        "            if verbose and freqdist.N() % 100 == 0: print(\".\", sep='')\n",
        "    if verbose: print\n",
        "    return freqdist.most_common(num)"
      ],
      "execution_count": null,
      "outputs": []
    },
    {
      "cell_type": "code",
      "metadata": {
        "id": "2A9cmT4rYlqL"
      },
      "source": [
        "def find_words(text, wordlength, result=[]):\n",
        "    for word in text:\n",
        "        if len(word) == wordlength:\n",
        "            result.append(word)\n",
        "    return result"
      ],
      "execution_count": 46,
      "outputs": []
    },
    {
      "cell_type": "code",
      "metadata": {
        "colab": {
          "base_uri": "https://localhost:8080/"
        },
        "id": "XdzWvlm5KOzG",
        "outputId": "4af7fad1-4094-450c-e944-4d01e43eb996"
      },
      "source": [
        "find_words(['omg', 'teh', 'lolcat', 'sitted', 'on', 'teh', 'mat'], 3)"
      ],
      "execution_count": 31,
      "outputs": [
        {
          "output_type": "execute_result",
          "data": {
            "text/plain": [
              "['omg', 'teh', 'teh', 'mat']"
            ]
          },
          "metadata": {
            "tags": []
          },
          "execution_count": 31
        }
      ]
    },
    {
      "cell_type": "code",
      "metadata": {
        "colab": {
          "base_uri": "https://localhost:8080/"
        },
        "id": "apo3HWchNDhg",
        "outputId": "ceb029e1-a3d2-4131-ff39-bb7b12c49d5c"
      },
      "source": [
        "find_words(['omg', 'teh', 'lolcat', 'sitted', 'on', 'teh', 'mat'], 2, ['url'])"
      ],
      "execution_count": 32,
      "outputs": [
        {
          "output_type": "execute_result",
          "data": {
            "text/plain": [
              "['url', 'on']"
            ]
          },
          "metadata": {
            "tags": []
          },
          "execution_count": 32
        }
      ]
    },
    {
      "cell_type": "code",
      "metadata": {
        "colab": {
          "base_uri": "https://localhost:8080/"
        },
        "id": "IELf3Ae2NMHf",
        "outputId": "f7c65a98-6022-4ee7-ec74-f265cb76e83d"
      },
      "source": [
        "print(find_words(['omg', 'teh', 'lolcat', 'sitted', 'on', 'teh', 'mat'], 3))"
      ],
      "execution_count": 44,
      "outputs": [
        {
          "output_type": "stream",
          "text": [
            "['omg', 'teh', 'teh', 'mat', 'omg', 'teh', 'teh', 'mat', 'on', 'omg', 'teh', 'teh', 'mat', 'omg', 'teh', 'teh', 'mat', 'omg', 'teh', 'teh', 'mat', 'omg', 'teh', 'teh', 'mat', 'on', 'omg', 'teh', 'teh', 'mat', 'omg', 'teh', 'teh', 'mat']\n"
          ],
          "name": "stdout"
        }
      ]
    },
    {
      "cell_type": "code",
      "metadata": {
        "colab": {
          "base_uri": "https://localhost:8080/"
        },
        "id": "n07kZ8__NSun",
        "outputId": "dc7554af-f01e-4bb7-8487-8ad768b85644"
      },
      "source": [
        "import pdb\n",
        "\n",
        "find_words(['cat'], 3)"
      ],
      "execution_count": 47,
      "outputs": [
        {
          "output_type": "execute_result",
          "data": {
            "text/plain": [
              "['cat']"
            ]
          },
          "metadata": {
            "tags": []
          },
          "execution_count": 47
        }
      ]
    },
    {
      "cell_type": "code",
      "metadata": {
        "colab": {
          "base_uri": "https://localhost:8080/"
        },
        "id": "qJHYUwAMPVNl",
        "outputId": "147151a3-789c-4c82-878e-ed402f663c73"
      },
      "source": [
        "pdb.run(\"find_words(['dog'], 3)\")"
      ],
      "execution_count": 48,
      "outputs": [
        {
          "output_type": "stream",
          "text": [
            "> <string>(1)<module>()\n",
            "(Pdb) s\n",
            "--Call--\n",
            "> <ipython-input-46-4465ec416688>(1)find_words()\n",
            "-> def find_words(text, wordlength, result=[]):\n",
            "(Pdb) args\n",
            "text = ['dog']\n",
            "wordlength = 3\n",
            "result = ['cat']\n",
            "(Pdb) c\n"
          ],
          "name": "stdout"
        }
      ]
    },
    {
      "cell_type": "markdown",
      "metadata": {
        "id": "KOmrj-ubPklU"
      },
      "source": [
        "### Recursion"
      ]
    },
    {
      "cell_type": "code",
      "metadata": {
        "id": "zxSFgm4ejrD5"
      },
      "source": [
        "def factorial1(n):\n",
        "    result = 1\n",
        "    for i in range(n):\n",
        "        result *= (i + 1)\n",
        "    return result"
      ],
      "execution_count": 49,
      "outputs": []
    },
    {
      "cell_type": "code",
      "metadata": {
        "id": "Q0wZ7cMlj0j4"
      },
      "source": [
        "def factorial2(n):\n",
        "    \"\"\" Recrusive factorial\"\"\"\n",
        "    if n == 1:\n",
        "        return 1\n",
        "    else:\n",
        "        return n * factorial2(n - 1)"
      ],
      "execution_count": 50,
      "outputs": []
    },
    {
      "cell_type": "code",
      "metadata": {
        "colab": {
          "base_uri": "https://localhost:8080/"
        },
        "id": "2hCl3voUkdmd",
        "outputId": "8a86f6d0-a860-4741-8704-7907256a9106"
      },
      "source": [
        "factorial1(10) == factorial2(10)"
      ],
      "execution_count": 51,
      "outputs": [
        {
          "output_type": "execute_result",
          "data": {
            "text/plain": [
              "True"
            ]
          },
          "metadata": {
            "tags": []
          },
          "execution_count": 51
        }
      ]
    },
    {
      "cell_type": "code",
      "metadata": {
        "id": "qDMKKN1jkgxl"
      },
      "source": [
        "def size1(s):\n",
        "    return 1 + sum(size1(child) for child in s.hyponyms())"
      ],
      "execution_count": 58,
      "outputs": []
    },
    {
      "cell_type": "code",
      "metadata": {
        "id": "rDuP3C7hlTka"
      },
      "source": [
        "def size2(s):\n",
        "    layer = [s]\n",
        "    total = 0\n",
        "    while layer:\n",
        "        total += len(layer)\n",
        "        layer = [h for c in layer for h in c.hyponyms()]\n",
        "    return total"
      ],
      "execution_count": 53,
      "outputs": []
    },
    {
      "cell_type": "code",
      "metadata": {
        "colab": {
          "base_uri": "https://localhost:8080/"
        },
        "id": "mYTf_836l3M3",
        "outputId": "fae3523f-5be7-4c98-a2fa-a9074ab040da"
      },
      "source": [
        "from nltk.corpus import wordnet as wn\n",
        "dog = wn.synset('dog.n.01')\n",
        "print(size1(dog))\n",
        "print(size2(dog))"
      ],
      "execution_count": 60,
      "outputs": [
        {
          "output_type": "stream",
          "text": [
            "190\n",
            "190\n"
          ],
          "name": "stdout"
        }
      ]
    },
    {
      "cell_type": "code",
      "metadata": {
        "id": "pucnS8p1mfAV"
      },
      "source": [
        "def insert(trie, key, value):\n",
        "    if key:\n",
        "        first, rest = key[0], key[1:]\n",
        "        if first not in trie:\n",
        "            trie[first] = {}\n",
        "        insert(trie[first], rest, value)\n",
        "    else:\n",
        "        trie['value'] = value"
      ],
      "execution_count": 61,
      "outputs": []
    },
    {
      "cell_type": "code",
      "metadata": {
        "id": "GVIhbQpRn1dp"
      },
      "source": [
        "trie = {}\n",
        "insert(trie, 'chat', 'cat')"
      ],
      "execution_count": 64,
      "outputs": []
    },
    {
      "cell_type": "code",
      "metadata": {
        "colab": {
          "base_uri": "https://localhost:8080/"
        },
        "id": "FpeiOpvZoz7M",
        "outputId": "cad616c6-6414-4d1d-b88c-27b50d69ae55"
      },
      "source": [
        "trie"
      ],
      "execution_count": 65,
      "outputs": [
        {
          "output_type": "execute_result",
          "data": {
            "text/plain": [
              "{'c': {'h': {'a': {'t': {'value': 'cat'}}}}}"
            ]
          },
          "metadata": {
            "tags": []
          },
          "execution_count": 65
        }
      ]
    },
    {
      "cell_type": "code",
      "metadata": {
        "colab": {
          "base_uri": "https://localhost:8080/"
        },
        "id": "02v5VIAZqCcL",
        "outputId": "f39ab696-1fa1-4917-987a-803216c3f9cb"
      },
      "source": [
        "insert(trie, 'chic', 'stylish')\n",
        "pprint.pprint(trie, width=40)"
      ],
      "execution_count": 68,
      "outputs": [
        {
          "output_type": "stream",
          "text": [
            "{'c': {'h': {'a': {'t': {'value': 'cat'}},\n",
            "             'i': {'c': {'value': 'stylish'}}}}}\n"
          ],
          "name": "stdout"
        }
      ]
    },
    {
      "cell_type": "code",
      "metadata": {
        "colab": {
          "base_uri": "https://localhost:8080/",
          "height": 36
        },
        "id": "KjENj9nBqjMK",
        "outputId": "c0d8dcbf-72fb-4122-a512-c9a77b72f6dd"
      },
      "source": [
        "trie['c']['h']['i']['c']['value']"
      ],
      "execution_count": 74,
      "outputs": [
        {
          "output_type": "execute_result",
          "data": {
            "application/vnd.google.colaboratory.intrinsic+json": {
              "type": "string"
            },
            "text/plain": [
              "'stylish'"
            ]
          },
          "metadata": {
            "tags": []
          },
          "execution_count": 74
        }
      ]
    },
    {
      "cell_type": "markdown",
      "metadata": {
        "id": "xC7W8nUGq6sR"
      },
      "source": [
        "- Space-Time Tradeoffs"
      ]
    },
    {
      "cell_type": "code",
      "metadata": {
        "colab": {
          "base_uri": "https://localhost:8080/"
        },
        "id": "E4Y7Kub-rFRP",
        "outputId": "fd610725-b668-4248-dcdb-029a2dc11292"
      },
      "source": [
        "def raw(file):\n",
        "    contents = open(file).read()\n",
        "    contents = re.sub(r'<.*?>', ' ', contents)\n",
        "    contents = re.sub('\\s+', ' ', contents)\n",
        "    return contents\n",
        "\n",
        "def snippet(doc, term):\n",
        "    text = ' '*30 + raw(doc) + ' '*30\n",
        "    pos = text.index(term)\n",
        "    return text[pos-30:pos+30]\n",
        "\n",
        "print(\"Building Index...\")\n",
        "files = nltk.corpus.movie_reviews.abspaths()\n",
        "idx = nltk.Index((w, f) for f in files for w in raw(f).split())\n",
        "\n",
        "query = ''\n",
        "while query != \"quit\":\n",
        "    query = input(\"query> \")     # use raw_input() in Python 2\n",
        "    if query in idx:\n",
        "        for doc in idx[query]:\n",
        "            print(snippet(doc, query))\n",
        "    else:\n",
        "        print(\"Not found\")"
      ],
      "execution_count": 79,
      "outputs": [
        {
          "output_type": "stream",
          "text": [
            "Building Index...\n",
            "query> quit\n",
            "s funded by her mother . lucy quit working professionally 10\n",
            "erick . i disliked that movie quite a bit , but since \" prac\n",
            "t disaster . babe ruth didn't quit baseball after one season\n",
            "o-be fiance . i think she can quit that job and get a more r\n",
            " and rose mcgowan should just quit acting . she has no chari\n",
            "and get a day job . and don't quit it .                     \n",
            " kubrick , alas , should have quit while he was ahead . this\n",
            "everyone involved should have quit while they were still ahe\n",
            "l die . so what does joe do ? quit his job , of course ! ! w\n",
            "red \" implant . he's ready to quit the biz and get a portion\n",
            "hat he always recorded , they quit and become disillusioned \n",
            " admit that i ? ? ? ve become quite the \" scream \" fan . no \n",
            " again , the fact that he has quit his job to feel what it's\n",
            "school reunion . he has since quit his job as a travel journ\n",
            "ells one of his friends , \" i quit school because i didn't l\n",
            "ms , cursing off the boss and quitting his job ( \" today i q\n",
            "e , the arrival of the now ubiquitous videocassette . burt r\n",
            "in capitol city , that he has quit his job and hopes to open\n",
            "before his death at age 67 to quit filmmaking once a homosex\n",
            " - joss's explanation that he quit the priesthood because of\n",
            " is a former prosecutor , and quit because of tensions betwe\n"
          ],
          "name": "stdout"
        }
      ]
    },
    {
      "cell_type": "code",
      "metadata": {
        "id": "lGW1aQDZsR-t"
      },
      "source": [
        "def preprocess(tagged_corpus):\n",
        "    words = set()\n",
        "    tags = set()\n",
        "    for sent in tagged_corpus:\n",
        "        for word, tag in sent:\n",
        "            words.add(word)\n",
        "            tags.add(tag)\n",
        "    wm = dict((w, i) for (i, w) in enumerate(words))\n",
        "    tm = dict((t, i) for (i, t) in enumerate(tags))\n",
        "    return [[(wm[w], tm[t]) for (w, t) in sent] for sent in tagged_corpus]"
      ],
      "execution_count": 80,
      "outputs": []
    },
    {
      "cell_type": "code",
      "metadata": {
        "colab": {
          "base_uri": "https://localhost:8080/"
        },
        "id": "ZTbU22lXuBXh",
        "outputId": "98cc0a15-c50b-41b8-8e20-5823c7447fbe"
      },
      "source": [
        "from timeit import Timer\n",
        "vocab_size = 100000\n",
        "setup_list = f'import random; vocab = range({vocab_size})'\n",
        "setup_set = f\"import random; vocab = set(range({vocab_size}))\"\n",
        "statement = f\"random.randint(0, {vocab_size * 2})\"\n",
        "print(Timer(statement, setup_list).timeit(1000))\n",
        "print(Timer(statement, setup_set).timeit(1000))"
      ],
      "execution_count": 85,
      "outputs": [
        {
          "output_type": "stream",
          "text": [
            "0.001289764999455656\n",
            "0.0014627709988417337\n"
          ],
          "name": "stdout"
        }
      ]
    },
    {
      "cell_type": "code",
      "metadata": {
        "colab": {
          "base_uri": "https://localhost:8080/"
        },
        "id": "3YpE0P76vUtU",
        "outputId": "597a57f9-7816-4b0e-cf1b-f2f2da0d1b80"
      },
      "source": [
        "from timeit import Timer\n",
        "vocab_size = 100000\n",
        "setup_list = \"import random; vocab = range(%d)\" % vocab_size\n",
        "setup_set = \"import random; vocab = set(range(%d))\" % vocab_size\n",
        "statement = \"random.randint(0, %d) in vocab\" % (vocab_size * 2)\n",
        "print(Timer(statement, setup_list).timeit(1000))\n",
        "print(Timer(statement, setup_set).timeit(1000))"
      ],
      "execution_count": 84,
      "outputs": [
        {
          "output_type": "stream",
          "text": [
            "0.0019541030014806893\n",
            "0.0015169179987424286\n"
          ],
          "name": "stdout"
        }
      ]
    },
    {
      "cell_type": "markdown",
      "metadata": {
        "id": "DToI46YQvsnH"
      },
      "source": [
        "#### MatPlotLib"
      ]
    },
    {
      "cell_type": "code",
      "metadata": {
        "id": "qnp98hZgzs6_"
      },
      "source": [
        "from numpy import arange\n",
        "from matplotlib import pyplot\n",
        "\n",
        "colors = 'rgbcmyk' # red, green, blue, cyan, magenta, yellow, black\n",
        "\n",
        "def bar_chart(categories, words, counts):\n",
        "    \"Plot a bar chart showing counts for each word by category\"\n",
        "    ind = arange(len(words))\n",
        "    width = 1 / (len(categories) + 1)\n",
        "    bar_groups = []\n",
        "    for c in range(len(categories)):\n",
        "        bars = pyplot.bar(ind+c*width, counts[categories[c]], width,\n",
        "                         color=colors[c % len(colors)])\n",
        "        bar_groups.append(bars)\n",
        "    pyplot.xticks(ind+width, words)\n",
        "    pyplot.legend([b[0] for b in bar_groups], categories, loc='upper left')\n",
        "    pyplot.ylabel('Frequency')\n",
        "    pyplot.title('Frequency of Six Modal Verbs by Genre')\n",
        "    pyplot.show()"
      ],
      "execution_count": 86,
      "outputs": []
    },
    {
      "cell_type": "code",
      "metadata": {
        "colab": {
          "base_uri": "https://localhost:8080/",
          "height": 281
        },
        "id": "tG3FqmKwztV3",
        "outputId": "834058b1-fef0-4b76-e1e2-b461b3911600"
      },
      "source": [
        "genres = ['news', 'religion', 'hobbies', 'government', 'adventure']\n",
        "modals = ['can', 'could', 'may', 'might', 'must', 'will']\n",
        "cfdist = nltk.ConditionalFreqDist(\n",
        "             (genre, word)\n",
        "             for genre in genres\n",
        "             for word in nltk.corpus.brown.words(categories=genre)\n",
        "             if word in modals)\n",
        "counts = {}\n",
        "for genre in genres:\n",
        "    counts[genre] = [cfdist[genre][word] for word in modals]\n",
        "bar_chart(genres, modals, counts)"
      ],
      "execution_count": 87,
      "outputs": [
        {
          "output_type": "display_data",
          "data": {
            "image/png": "[encoded data removed]",
            "text/plain": [
              "<Figure size 432x288 with 1 Axes>"
            ]
          },
          "metadata": {
            "tags": [],
            "needs_background": "light"
          }
        }
      ]
    },
    {
      "cell_type": "code",
      "metadata": {
        "colab": {
          "base_uri": "https://localhost:8080/",
          "height": 121
        },
        "id": "Xf0UtdNIz75q",
        "outputId": "51d1fafe-53b5-41ad-98ca-c356c01085d1"
      },
      "source": [
        "from matplotlib import use, pyplot\n",
        "use('Agg')\n",
        "pyplot.savefig('modals.png')\n",
        "print(\"Content-Type: text/html\")\n",
        "print()\n",
        "print('<html><body>')\n",
        "print(\"<img src='modals.png'/>\")\n",
        "print(\"</body></html>\")"
      ],
      "execution_count": 88,
      "outputs": [
        {
          "output_type": "stream",
          "text": [
            "Content-Type: text/html\n",
            "\n",
            "<html><body>\n",
            "<img src='modals.png'/>\n",
            "</body></html>\n"
          ],
          "name": "stdout"
        },
        {
          "output_type": "display_data",
          "data": {
            "text/plain": [
              "<Figure size 432x288 with 0 Axes>"
            ]
          },
          "metadata": {
            "tags": []
          }
        }
      ]
    },
    {
      "cell_type": "code",
      "metadata": {
        "id": "tfWac4d40cEp"
      },
      "source": [
        "import networkx as nx\n",
        "import matplotlib\n",
        "from nltk.corpus import wordnet as wn\n",
        "\n",
        "def traverse(graph, start, node):\n",
        "    graph.depth[node.name] = node.shortest_path_distance(start)\n",
        "    for child in node.hyponyms():\n",
        "        graph.add_edge(node.name, child.name)\n",
        "        traverse(graph, start, child)\n",
        "\n",
        "def hyponym_graph(start):\n",
        "    G = nx.Graph()\n",
        "    G.depth = {}\n",
        "    traverse(G, start, start)\n",
        "    return G\n",
        "\n",
        "def graph_draw(graph):\n",
        "    nx.draw_networkx(graph,\n",
        "         node_size = [16 * graph.degree(n) for n in graph],\n",
        "         node_color = [graph.depth[n] for n in graph],\n",
        "         with_labels = False)\n",
        "    matplotlib.pyplot.show()"
      ],
      "execution_count": 100,
      "outputs": []
    },
    {
      "cell_type": "code",
      "metadata": {
        "colab": {
          "base_uri": "https://localhost:8080/",
          "height": 248
        },
        "id": "z8q2OqWi0r_7",
        "outputId": "93e1c34c-1956-41bc-fc9e-a13f21d7a6b2"
      },
      "source": [
        "dog = wn.synset('dog.n.01')\n",
        "graph = hyponym_graph(dog)\n",
        "graph_draw(graph)"
      ],
      "execution_count": 103,
      "outputs": [
        {
          "output_type": "display_data",
          "data": {
            "image/png": "[encoded data removed]",
            "text/plain": [
              "<Figure size 432x288 with 1 Axes>"
            ]
          },
          "metadata": {
            "tags": []
          }
        }
      ]
    },
    {
      "cell_type": "code",
      "metadata": {
        "colab": {
          "base_uri": "https://localhost:8080/",
          "height": 36
        },
        "id": "_YIPJm2w0z5k",
        "outputId": "c69dd368-8d2e-417c-8d45-2b58f5b12806"
      },
      "source": [
        "import sys\n",
        "sys.version"
      ],
      "execution_count": 104,
      "outputs": [
        {
          "output_type": "execute_result",
          "data": {
            "application/vnd.google.colaboratory.intrinsic+json": {
              "type": "string"
            },
            "text/plain": [
              "'3.6.9 (default, Oct  8 2020, 12:12:24) \\n[GCC 8.4.0]'"
            ]
          },
          "metadata": {
            "tags": []
          },
          "execution_count": 104
        }
      ]
    },
    {
      "cell_type": "code",
      "metadata": {
        "id": "sCgulmjs2rZY"
      },
      "source": [
        ""
      ],
      "execution_count": null,
      "outputs": []
    }
  ]
}